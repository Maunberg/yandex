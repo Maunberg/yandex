{
 "cells": [
  {
   "cell_type": "markdown",
   "metadata": {},
   "source": [
    "# Определение стоимости автомобилей"
   ]
  },
  {
   "cell_type": "markdown",
   "metadata": {},
   "source": [
    "Сервис по продаже автомобилей с пробегом «Не бит, не крашен» разрабатывает приложение для привлечения новых клиентов. В нём можно быстро узнать рыночную стоимость своего автомобиля. В вашем распоряжении исторические данные: технические характеристики, комплектации и цены автомобилей. Вам нужно построить модель для определения стоимости. \n",
    "\n",
    "Заказчику важны:\n",
    "\n",
    "- качество предсказания;\n",
    "- скорость предсказания;\n",
    "- время обучения."
   ]
  },
  {
   "cell_type": "markdown",
   "metadata": {},
   "source": [
    "## Подготовка данных"
   ]
  },
  {
   "cell_type": "markdown",
   "metadata": {},
   "source": [
    "### Импорт"
   ]
  },
  {
   "cell_type": "markdown",
   "metadata": {},
   "source": [
    "#### Библиотеки"
   ]
  },
  {
   "cell_type": "code",
   "execution_count": 7,
   "metadata": {},
   "outputs": [],
   "source": [
    "import matplotlib.pyplot as plt\n",
    "import numpy as np\n",
    "import pandas as pd\n",
    "import seaborn as sns\n",
    "\n",
    "import re\n",
    "\n",
    "from sklearn.compose import ColumnTransformer\n",
    "from sklearn.pipeline import Pipeline\n",
    "from sklearn.preprocessing import OrdinalEncoder\n",
    "from sklearn.preprocessing import OneHotEncoder\n",
    "from sklearn.preprocessing import StandardScaler\n",
    "\n",
    "from sklearn.metrics import mean_squared_error\n",
    "from sklearn.model_selection import GridSearchCV\n",
    "from sklearn.model_selection import train_test_split\n",
    "\n",
    "from catboost import CatBoostRegressor\n",
    "from lightgbm import LGBMRegressor\n",
    "from sklearn.ensemble import RandomForestRegressor\n",
    "from sklearn.linear_model import LinearRegression\n",
    "from sklearn.neighbors import KNeighborsClassifier"
   ]
  },
  {
   "cell_type": "code",
   "execution_count": 8,
   "metadata": {},
   "outputs": [],
   "source": [
    "#подготовка данных и основные библиотеки\n",
    "import pandas as pd\n",
    "import numpy as np\n",
    "import random"
   ]
  },
  {
   "cell_type": "code",
   "execution_count": 9,
   "metadata": {},
   "outputs": [],
   "source": [
    "#кодирование классов и разделение выборки\n",
    "from sklearn.model_selection import train_test_split\n",
    "from sklearn.preprocessing import StandardScaler"
   ]
  },
  {
   "cell_type": "code",
   "execution_count": 10,
   "metadata": {},
   "outputs": [],
   "source": [
    "#работа с моделью\n",
    "from sklearn.linear_model import LinearRegression\n",
    "from catboost import CatBoostRegressor"
   ]
  },
  {
   "cell_type": "code",
   "execution_count": 11,
   "metadata": {},
   "outputs": [],
   "source": [
    "#Работа с метриками\n",
    "import matplotlib.pyplot as plt  \n",
    "import seaborn as sns \n",
    "from sklearn.metrics import mean_squared_error,  r2_score, mean_absolute_error"
   ]
  },
  {
   "cell_type": "markdown",
   "metadata": {},
   "source": [
    "#### Генеральные переменные"
   ]
  },
  {
   "cell_type": "code",
   "execution_count": 12,
   "metadata": {},
   "outputs": [],
   "source": [
    "RANDOM_STATE = 12345"
   ]
  },
  {
   "cell_type": "markdown",
   "metadata": {},
   "source": [
    "### Описание данных"
   ]
  },
  {
   "cell_type": "markdown",
   "metadata": {},
   "source": [
    "<b>Признаки</b>\n",
    "<pre>\n",
    "DateCrawled       — дата скачивания анкеты из базы\n",
    "VehicleType       — тип автомобильного кузова\n",
    "RegistrationYear  — год регистрации автомобиля\n",
    "Gearbox           — тип коробки передач\n",
    "Power             — мощность (л. с.)\n",
    "Model             — модель автомобиля\n",
    "Kilometer         — пробег (км)\n",
    "RegistrationMonth — месяц регистрации автомобиля\n",
    "FuelType          — тип топлива\n",
    "Brand             — марка автомобиля\n",
    "Repaired          — была машина в ремонте или нет\n",
    "DateCreated       — дата создания анкеты\n",
    "NumberOfPictures  — количество фотографий автомобиля\n",
    "PostalCode        — почтовый индекс владельца анкеты (пользователя)\n",
    "LastSeen          — дата последней активности пользователя\n",
    "</pre>\n",
    "<b>Целевой признак</b>\n",
    "<pre>\n",
    "Price             — цена (евро)\n",
    "</pre>"
   ]
  },
  {
   "cell_type": "markdown",
   "metadata": {},
   "source": [
    "<div style=\"border:solid #81d8e6 2px; padding: 10px\">\n",
    "    \n",
    "Нам нужно выбрать параметры, которые не будут влиять на цену автомобиля. В этот список можно отнести\n",
    "    \n",
    "    - DateCrawled (так как это значение неинформативно для пользователей)\n",
    "    - RegistrationMonth (месяц регистрации также неинформативен, нам скорее важен год)\n",
    "    - PostalCode (это переменная-ключ, она не влияет на качество автомобиля)\n",
    "    - LastSeen (активность пользователя не влияет на цену, которую он ставит на автомобиль)\n",
    "    - DateCreated (тоже дата, которая непосредственно на цену автомобиля не влияет)\n",
    "\n",
    "Остальные параметры важны для анализа.\n",
    "</div>"
   ]
  },
  {
   "cell_type": "markdown",
   "metadata": {},
   "source": [
    "### Загрузка данных и первичный анализ"
   ]
  },
  {
   "cell_type": "code",
   "execution_count": 24,
   "metadata": {},
   "outputs": [],
   "source": [
    "try:\n",
    "    data = pd.read_csv(r'C:\\Users\\Dmitri\\Downloads\\datasets\\autos.csv')\n",
    "except:\n",
    "    data = pd.read_csv('/datasets/autos.csv.')"
   ]
  },
  {
   "cell_type": "code",
   "execution_count": 25,
   "metadata": {},
   "outputs": [
    {
     "data": {
      "text/html": [
       "<div>\n",
       "<style scoped>\n",
       "    .dataframe tbody tr th:only-of-type {\n",
       "        vertical-align: middle;\n",
       "    }\n",
       "\n",
       "    .dataframe tbody tr th {\n",
       "        vertical-align: top;\n",
       "    }\n",
       "\n",
       "    .dataframe thead th {\n",
       "        text-align: right;\n",
       "    }\n",
       "</style>\n",
       "<table border=\"1\" class=\"dataframe\">\n",
       "  <thead>\n",
       "    <tr style=\"text-align: right;\">\n",
       "      <th></th>\n",
       "      <th>DateCrawled</th>\n",
       "      <th>Price</th>\n",
       "      <th>VehicleType</th>\n",
       "      <th>RegistrationYear</th>\n",
       "      <th>Gearbox</th>\n",
       "      <th>Power</th>\n",
       "      <th>Model</th>\n",
       "      <th>Kilometer</th>\n",
       "      <th>RegistrationMonth</th>\n",
       "      <th>FuelType</th>\n",
       "      <th>Brand</th>\n",
       "      <th>Repaired</th>\n",
       "      <th>DateCreated</th>\n",
       "      <th>NumberOfPictures</th>\n",
       "      <th>PostalCode</th>\n",
       "      <th>LastSeen</th>\n",
       "    </tr>\n",
       "  </thead>\n",
       "  <tbody>\n",
       "    <tr>\n",
       "      <th>0</th>\n",
       "      <td>2016-03-24 11:52:17</td>\n",
       "      <td>480</td>\n",
       "      <td>NaN</td>\n",
       "      <td>1993</td>\n",
       "      <td>manual</td>\n",
       "      <td>0</td>\n",
       "      <td>golf</td>\n",
       "      <td>150000</td>\n",
       "      <td>0</td>\n",
       "      <td>petrol</td>\n",
       "      <td>volkswagen</td>\n",
       "      <td>NaN</td>\n",
       "      <td>2016-03-24 00:00:00</td>\n",
       "      <td>0</td>\n",
       "      <td>70435</td>\n",
       "      <td>2016-04-07 03:16:57</td>\n",
       "    </tr>\n",
       "    <tr>\n",
       "      <th>1</th>\n",
       "      <td>2016-03-24 10:58:45</td>\n",
       "      <td>18300</td>\n",
       "      <td>coupe</td>\n",
       "      <td>2011</td>\n",
       "      <td>manual</td>\n",
       "      <td>190</td>\n",
       "      <td>NaN</td>\n",
       "      <td>125000</td>\n",
       "      <td>5</td>\n",
       "      <td>gasoline</td>\n",
       "      <td>audi</td>\n",
       "      <td>yes</td>\n",
       "      <td>2016-03-24 00:00:00</td>\n",
       "      <td>0</td>\n",
       "      <td>66954</td>\n",
       "      <td>2016-04-07 01:46:50</td>\n",
       "    </tr>\n",
       "    <tr>\n",
       "      <th>2</th>\n",
       "      <td>2016-03-14 12:52:21</td>\n",
       "      <td>9800</td>\n",
       "      <td>suv</td>\n",
       "      <td>2004</td>\n",
       "      <td>auto</td>\n",
       "      <td>163</td>\n",
       "      <td>grand</td>\n",
       "      <td>125000</td>\n",
       "      <td>8</td>\n",
       "      <td>gasoline</td>\n",
       "      <td>jeep</td>\n",
       "      <td>NaN</td>\n",
       "      <td>2016-03-14 00:00:00</td>\n",
       "      <td>0</td>\n",
       "      <td>90480</td>\n",
       "      <td>2016-04-05 12:47:46</td>\n",
       "    </tr>\n",
       "    <tr>\n",
       "      <th>3</th>\n",
       "      <td>2016-03-17 16:54:04</td>\n",
       "      <td>1500</td>\n",
       "      <td>small</td>\n",
       "      <td>2001</td>\n",
       "      <td>manual</td>\n",
       "      <td>75</td>\n",
       "      <td>golf</td>\n",
       "      <td>150000</td>\n",
       "      <td>6</td>\n",
       "      <td>petrol</td>\n",
       "      <td>volkswagen</td>\n",
       "      <td>no</td>\n",
       "      <td>2016-03-17 00:00:00</td>\n",
       "      <td>0</td>\n",
       "      <td>91074</td>\n",
       "      <td>2016-03-17 17:40:17</td>\n",
       "    </tr>\n",
       "    <tr>\n",
       "      <th>4</th>\n",
       "      <td>2016-03-31 17:25:20</td>\n",
       "      <td>3600</td>\n",
       "      <td>small</td>\n",
       "      <td>2008</td>\n",
       "      <td>manual</td>\n",
       "      <td>69</td>\n",
       "      <td>fabia</td>\n",
       "      <td>90000</td>\n",
       "      <td>7</td>\n",
       "      <td>gasoline</td>\n",
       "      <td>skoda</td>\n",
       "      <td>no</td>\n",
       "      <td>2016-03-31 00:00:00</td>\n",
       "      <td>0</td>\n",
       "      <td>60437</td>\n",
       "      <td>2016-04-06 10:17:21</td>\n",
       "    </tr>\n",
       "  </tbody>\n",
       "</table>\n",
       "</div>"
      ],
      "text/plain": [
       "           DateCrawled  Price VehicleType  RegistrationYear Gearbox  Power  \\\n",
       "0  2016-03-24 11:52:17    480         NaN              1993  manual      0   \n",
       "1  2016-03-24 10:58:45  18300       coupe              2011  manual    190   \n",
       "2  2016-03-14 12:52:21   9800         suv              2004    auto    163   \n",
       "3  2016-03-17 16:54:04   1500       small              2001  manual     75   \n",
       "4  2016-03-31 17:25:20   3600       small              2008  manual     69   \n",
       "\n",
       "   Model  Kilometer  RegistrationMonth  FuelType       Brand Repaired  \\\n",
       "0   golf     150000                  0    petrol  volkswagen      NaN   \n",
       "1    NaN     125000                  5  gasoline        audi      yes   \n",
       "2  grand     125000                  8  gasoline        jeep      NaN   \n",
       "3   golf     150000                  6    petrol  volkswagen       no   \n",
       "4  fabia      90000                  7  gasoline       skoda       no   \n",
       "\n",
       "           DateCreated  NumberOfPictures  PostalCode             LastSeen  \n",
       "0  2016-03-24 00:00:00                 0       70435  2016-04-07 03:16:57  \n",
       "1  2016-03-24 00:00:00                 0       66954  2016-04-07 01:46:50  \n",
       "2  2016-03-14 00:00:00                 0       90480  2016-04-05 12:47:46  \n",
       "3  2016-03-17 00:00:00                 0       91074  2016-03-17 17:40:17  \n",
       "4  2016-03-31 00:00:00                 0       60437  2016-04-06 10:17:21  "
      ]
     },
     "execution_count": 25,
     "metadata": {},
     "output_type": "execute_result"
    }
   ],
   "source": [
    "data.head()"
   ]
  },
  {
   "cell_type": "code",
   "execution_count": 26,
   "metadata": {},
   "outputs": [
    {
     "data": {
      "text/plain": [
       "Timestamp('2016-04-07 14:36:58')"
      ]
     },
     "execution_count": 26,
     "metadata": {},
     "output_type": "execute_result"
    }
   ],
   "source": [
    "max(pd.to_datetime(data['DateCrawled']))"
   ]
  },
  {
   "cell_type": "markdown",
   "metadata": {},
   "source": [
    "Актуальный год: 2016."
   ]
  },
  {
   "cell_type": "code",
   "execution_count": 27,
   "metadata": {},
   "outputs": [
    {
     "name": "stdout",
     "output_type": "stream",
     "text": [
      "<class 'pandas.core.frame.DataFrame'>\n",
      "RangeIndex: 354369 entries, 0 to 354368\n",
      "Data columns (total 16 columns):\n",
      " #   Column             Non-Null Count   Dtype \n",
      "---  ------             --------------   ----- \n",
      " 0   DateCrawled        354369 non-null  object\n",
      " 1   Price              354369 non-null  int64 \n",
      " 2   VehicleType        316879 non-null  object\n",
      " 3   RegistrationYear   354369 non-null  int64 \n",
      " 4   Gearbox            334536 non-null  object\n",
      " 5   Power              354369 non-null  int64 \n",
      " 6   Model              334664 non-null  object\n",
      " 7   Kilometer          354369 non-null  int64 \n",
      " 8   RegistrationMonth  354369 non-null  int64 \n",
      " 9   FuelType           321474 non-null  object\n",
      " 10  Brand              354369 non-null  object\n",
      " 11  Repaired           283215 non-null  object\n",
      " 12  DateCreated        354369 non-null  object\n",
      " 13  NumberOfPictures   354369 non-null  int64 \n",
      " 14  PostalCode         354369 non-null  int64 \n",
      " 15  LastSeen           354369 non-null  object\n",
      "dtypes: int64(7), object(9)\n",
      "memory usage: 43.3+ MB\n"
     ]
    }
   ],
   "source": [
    "data.info()"
   ]
  },
  {
   "cell_type": "code",
   "execution_count": 28,
   "metadata": {},
   "outputs": [
    {
     "data": {
      "text/html": [
       "<div>\n",
       "<style scoped>\n",
       "    .dataframe tbody tr th:only-of-type {\n",
       "        vertical-align: middle;\n",
       "    }\n",
       "\n",
       "    .dataframe tbody tr th {\n",
       "        vertical-align: top;\n",
       "    }\n",
       "\n",
       "    .dataframe thead th {\n",
       "        text-align: right;\n",
       "    }\n",
       "</style>\n",
       "<table border=\"1\" class=\"dataframe\">\n",
       "  <thead>\n",
       "    <tr style=\"text-align: right;\">\n",
       "      <th></th>\n",
       "      <th>Price</th>\n",
       "      <th>RegistrationYear</th>\n",
       "      <th>Power</th>\n",
       "      <th>Kilometer</th>\n",
       "      <th>RegistrationMonth</th>\n",
       "      <th>NumberOfPictures</th>\n",
       "      <th>PostalCode</th>\n",
       "    </tr>\n",
       "  </thead>\n",
       "  <tbody>\n",
       "    <tr>\n",
       "      <th>count</th>\n",
       "      <td>354369.000000</td>\n",
       "      <td>354369.000000</td>\n",
       "      <td>354369.000000</td>\n",
       "      <td>354369.000000</td>\n",
       "      <td>354369.000000</td>\n",
       "      <td>354369.0</td>\n",
       "      <td>354369.000000</td>\n",
       "    </tr>\n",
       "    <tr>\n",
       "      <th>mean</th>\n",
       "      <td>4416.656776</td>\n",
       "      <td>2004.234448</td>\n",
       "      <td>110.094337</td>\n",
       "      <td>128211.172535</td>\n",
       "      <td>5.714645</td>\n",
       "      <td>0.0</td>\n",
       "      <td>50508.689087</td>\n",
       "    </tr>\n",
       "    <tr>\n",
       "      <th>std</th>\n",
       "      <td>4514.158514</td>\n",
       "      <td>90.227958</td>\n",
       "      <td>189.850405</td>\n",
       "      <td>37905.341530</td>\n",
       "      <td>3.726421</td>\n",
       "      <td>0.0</td>\n",
       "      <td>25783.096248</td>\n",
       "    </tr>\n",
       "    <tr>\n",
       "      <th>min</th>\n",
       "      <td>0.000000</td>\n",
       "      <td>1000.000000</td>\n",
       "      <td>0.000000</td>\n",
       "      <td>5000.000000</td>\n",
       "      <td>0.000000</td>\n",
       "      <td>0.0</td>\n",
       "      <td>1067.000000</td>\n",
       "    </tr>\n",
       "    <tr>\n",
       "      <th>25%</th>\n",
       "      <td>1050.000000</td>\n",
       "      <td>1999.000000</td>\n",
       "      <td>69.000000</td>\n",
       "      <td>125000.000000</td>\n",
       "      <td>3.000000</td>\n",
       "      <td>0.0</td>\n",
       "      <td>30165.000000</td>\n",
       "    </tr>\n",
       "    <tr>\n",
       "      <th>50%</th>\n",
       "      <td>2700.000000</td>\n",
       "      <td>2003.000000</td>\n",
       "      <td>105.000000</td>\n",
       "      <td>150000.000000</td>\n",
       "      <td>6.000000</td>\n",
       "      <td>0.0</td>\n",
       "      <td>49413.000000</td>\n",
       "    </tr>\n",
       "    <tr>\n",
       "      <th>75%</th>\n",
       "      <td>6400.000000</td>\n",
       "      <td>2008.000000</td>\n",
       "      <td>143.000000</td>\n",
       "      <td>150000.000000</td>\n",
       "      <td>9.000000</td>\n",
       "      <td>0.0</td>\n",
       "      <td>71083.000000</td>\n",
       "    </tr>\n",
       "    <tr>\n",
       "      <th>max</th>\n",
       "      <td>20000.000000</td>\n",
       "      <td>9999.000000</td>\n",
       "      <td>20000.000000</td>\n",
       "      <td>150000.000000</td>\n",
       "      <td>12.000000</td>\n",
       "      <td>0.0</td>\n",
       "      <td>99998.000000</td>\n",
       "    </tr>\n",
       "  </tbody>\n",
       "</table>\n",
       "</div>"
      ],
      "text/plain": [
       "               Price  RegistrationYear          Power      Kilometer  \\\n",
       "count  354369.000000     354369.000000  354369.000000  354369.000000   \n",
       "mean     4416.656776       2004.234448     110.094337  128211.172535   \n",
       "std      4514.158514         90.227958     189.850405   37905.341530   \n",
       "min         0.000000       1000.000000       0.000000    5000.000000   \n",
       "25%      1050.000000       1999.000000      69.000000  125000.000000   \n",
       "50%      2700.000000       2003.000000     105.000000  150000.000000   \n",
       "75%      6400.000000       2008.000000     143.000000  150000.000000   \n",
       "max     20000.000000       9999.000000   20000.000000  150000.000000   \n",
       "\n",
       "       RegistrationMonth  NumberOfPictures     PostalCode  \n",
       "count      354369.000000          354369.0  354369.000000  \n",
       "mean            5.714645               0.0   50508.689087  \n",
       "std             3.726421               0.0   25783.096248  \n",
       "min             0.000000               0.0    1067.000000  \n",
       "25%             3.000000               0.0   30165.000000  \n",
       "50%             6.000000               0.0   49413.000000  \n",
       "75%             9.000000               0.0   71083.000000  \n",
       "max            12.000000               0.0   99998.000000  "
      ]
     },
     "execution_count": 28,
     "metadata": {},
     "output_type": "execute_result"
    }
   ],
   "source": [
    "data.describe()"
   ]
  },
  {
   "cell_type": "markdown",
   "metadata": {},
   "source": [
    "<div style=\"border:solid #81d8e6 2px; padding: 10px\">\n",
    "Мы уже видим некоторые проблемы в данных:\n",
    "    \n",
    "    - есть пропущенные значения  \n",
    "    - есть лишние, неинформативные столбцы \n",
    "    - нужно проверять на дубликаты\n",
    "    - нужно проверять на выбросы\n",
    "    \n",
    "</div>"
   ]
  },
  {
   "cell_type": "markdown",
   "metadata": {},
   "source": [
    "#### Важные функции"
   ]
  },
  {
   "cell_type": "markdown",
   "metadata": {},
   "source": [
    "Функция создания графиков типа pie"
   ]
  },
  {
   "cell_type": "code",
   "execution_count": 29,
   "metadata": {},
   "outputs": [],
   "source": [
    "def pie_plot(column=data.columns[0], binar=False, series=False, data=data, title=''):\n",
    "    if series==False:\n",
    "        fig1, ax1 = plt.subplots(figsize =(7, 7))\n",
    "        colors = (\"cornflowerblue\",\"lightcoral\", \"springgreen\", \"bisque\",\n",
    "              \"pink\", \"gold\")\n",
    "        ax1.pie(data[column].value_counts(), \n",
    "                labels=data[column].value_counts().index, \n",
    "                autopct='%1.1f%%', \n",
    "                shadow=True, \n",
    "                startangle=90, \n",
    "                colors=colors)\n",
    "        patches, texts, auto = ax1.pie(data[column].value_counts(), \n",
    "                                       labels=data[column].value_counts().index, \n",
    "                                       shadow=True, \n",
    "                                       startangle=90, \n",
    "                                       autopct='%1.1f%%',\n",
    "                                       colors=colors)\n",
    "        plt.rcParams['font.size'] = 10\n",
    "        plt.title(column)\n",
    "    else:\n",
    "        fig1, ax1 = plt.subplots(figsize =(7, 7))\n",
    "        colors = (\"cornflowerblue\",\"lightcoral\", \"springgreen\", \"bisque\",\n",
    "              \"pink\", \"gold\")\n",
    "        ax1.pie(data.value_counts(), \n",
    "                labels=data.value_counts().index, \n",
    "                autopct='%1.1f%%', \n",
    "                shadow=True, \n",
    "                startangle=90, \n",
    "                colors=colors)\n",
    "        patches, texts, auto = ax1.pie(data.value_counts(), \n",
    "                                       labels=data.value_counts().index, \n",
    "                                       shadow=True, \n",
    "                                       startangle=90, \n",
    "                                       autopct='%1.1f%%',\n",
    "                                       colors=colors)\n",
    "        plt.rcParams['font.size'] = 10\n",
    "        plt.title(title)"
   ]
  },
  {
   "cell_type": "markdown",
   "metadata": {},
   "source": [
    "Функция создания графика интерквартильного размаха"
   ]
  },
  {
   "cell_type": "code",
   "execution_count": 30,
   "metadata": {},
   "outputs": [],
   "source": [
    "def quant(column, data=data, figsize=(5,5), error=False, ylim=False, show=True):\n",
    "    if error==False:\n",
    "        q1 = np.percentile(data[column], 25)\n",
    "        q3 = np.percentile(data[column], 75)\n",
    "    else:\n",
    "        q3 = data[column].describe()['75%'] \n",
    "        q1 = data[column].describe()['25%']\n",
    "    iqr = q3 - q1\n",
    "    new_data = data[(data[column]>(q1-1.5*iqr))&(data[column]<(q3+1.5*iqr))] \n",
    "    if ylim!=False:\n",
    "        new_dataplot.set_ylim(ylim)\n",
    "    if show == True:\n",
    "        new_dataplot = new_data.boxplot(column=column, figsize=figsize)\n",
    "        display()\n",
    "    print(q1-1.5*iqr, q3+1.5*iqr)\n",
    "    return new_data"
   ]
  },
  {
   "cell_type": "markdown",
   "metadata": {},
   "source": [
    "### Работа с неинформативными признаками"
   ]
  },
  {
   "cell_type": "code",
   "execution_count": 31,
   "metadata": {},
   "outputs": [
    {
     "data": {
      "text/html": [
       "<div>\n",
       "<style scoped>\n",
       "    .dataframe tbody tr th:only-of-type {\n",
       "        vertical-align: middle;\n",
       "    }\n",
       "\n",
       "    .dataframe tbody tr th {\n",
       "        vertical-align: top;\n",
       "    }\n",
       "\n",
       "    .dataframe thead th {\n",
       "        text-align: right;\n",
       "    }\n",
       "</style>\n",
       "<table border=\"1\" class=\"dataframe\">\n",
       "  <thead>\n",
       "    <tr style=\"text-align: right;\">\n",
       "      <th></th>\n",
       "      <th>DateCrawled</th>\n",
       "      <th>Price</th>\n",
       "      <th>VehicleType</th>\n",
       "      <th>RegistrationYear</th>\n",
       "      <th>Gearbox</th>\n",
       "      <th>Power</th>\n",
       "      <th>Model</th>\n",
       "      <th>Kilometer</th>\n",
       "      <th>RegistrationMonth</th>\n",
       "      <th>FuelType</th>\n",
       "      <th>Brand</th>\n",
       "      <th>Repaired</th>\n",
       "      <th>DateCreated</th>\n",
       "      <th>NumberOfPictures</th>\n",
       "      <th>PostalCode</th>\n",
       "      <th>LastSeen</th>\n",
       "    </tr>\n",
       "  </thead>\n",
       "  <tbody>\n",
       "    <tr>\n",
       "      <th>0</th>\n",
       "      <td>2016-03-24 11:52:17</td>\n",
       "      <td>480</td>\n",
       "      <td>NaN</td>\n",
       "      <td>1993</td>\n",
       "      <td>manual</td>\n",
       "      <td>0</td>\n",
       "      <td>golf</td>\n",
       "      <td>150000</td>\n",
       "      <td>0</td>\n",
       "      <td>petrol</td>\n",
       "      <td>volkswagen</td>\n",
       "      <td>NaN</td>\n",
       "      <td>2016-03-24 00:00:00</td>\n",
       "      <td>0</td>\n",
       "      <td>70435</td>\n",
       "      <td>2016-04-07 03:16:57</td>\n",
       "    </tr>\n",
       "    <tr>\n",
       "      <th>1</th>\n",
       "      <td>2016-03-24 10:58:45</td>\n",
       "      <td>18300</td>\n",
       "      <td>coupe</td>\n",
       "      <td>2011</td>\n",
       "      <td>manual</td>\n",
       "      <td>190</td>\n",
       "      <td>NaN</td>\n",
       "      <td>125000</td>\n",
       "      <td>5</td>\n",
       "      <td>gasoline</td>\n",
       "      <td>audi</td>\n",
       "      <td>yes</td>\n",
       "      <td>2016-03-24 00:00:00</td>\n",
       "      <td>0</td>\n",
       "      <td>66954</td>\n",
       "      <td>2016-04-07 01:46:50</td>\n",
       "    </tr>\n",
       "    <tr>\n",
       "      <th>2</th>\n",
       "      <td>2016-03-14 12:52:21</td>\n",
       "      <td>9800</td>\n",
       "      <td>suv</td>\n",
       "      <td>2004</td>\n",
       "      <td>auto</td>\n",
       "      <td>163</td>\n",
       "      <td>grand</td>\n",
       "      <td>125000</td>\n",
       "      <td>8</td>\n",
       "      <td>gasoline</td>\n",
       "      <td>jeep</td>\n",
       "      <td>NaN</td>\n",
       "      <td>2016-03-14 00:00:00</td>\n",
       "      <td>0</td>\n",
       "      <td>90480</td>\n",
       "      <td>2016-04-05 12:47:46</td>\n",
       "    </tr>\n",
       "    <tr>\n",
       "      <th>3</th>\n",
       "      <td>2016-03-17 16:54:04</td>\n",
       "      <td>1500</td>\n",
       "      <td>small</td>\n",
       "      <td>2001</td>\n",
       "      <td>manual</td>\n",
       "      <td>75</td>\n",
       "      <td>golf</td>\n",
       "      <td>150000</td>\n",
       "      <td>6</td>\n",
       "      <td>petrol</td>\n",
       "      <td>volkswagen</td>\n",
       "      <td>no</td>\n",
       "      <td>2016-03-17 00:00:00</td>\n",
       "      <td>0</td>\n",
       "      <td>91074</td>\n",
       "      <td>2016-03-17 17:40:17</td>\n",
       "    </tr>\n",
       "    <tr>\n",
       "      <th>4</th>\n",
       "      <td>2016-03-31 17:25:20</td>\n",
       "      <td>3600</td>\n",
       "      <td>small</td>\n",
       "      <td>2008</td>\n",
       "      <td>manual</td>\n",
       "      <td>69</td>\n",
       "      <td>fabia</td>\n",
       "      <td>90000</td>\n",
       "      <td>7</td>\n",
       "      <td>gasoline</td>\n",
       "      <td>skoda</td>\n",
       "      <td>no</td>\n",
       "      <td>2016-03-31 00:00:00</td>\n",
       "      <td>0</td>\n",
       "      <td>60437</td>\n",
       "      <td>2016-04-06 10:17:21</td>\n",
       "    </tr>\n",
       "    <tr>\n",
       "      <th>...</th>\n",
       "      <td>...</td>\n",
       "      <td>...</td>\n",
       "      <td>...</td>\n",
       "      <td>...</td>\n",
       "      <td>...</td>\n",
       "      <td>...</td>\n",
       "      <td>...</td>\n",
       "      <td>...</td>\n",
       "      <td>...</td>\n",
       "      <td>...</td>\n",
       "      <td>...</td>\n",
       "      <td>...</td>\n",
       "      <td>...</td>\n",
       "      <td>...</td>\n",
       "      <td>...</td>\n",
       "      <td>...</td>\n",
       "    </tr>\n",
       "    <tr>\n",
       "      <th>354364</th>\n",
       "      <td>2016-03-21 09:50:58</td>\n",
       "      <td>0</td>\n",
       "      <td>NaN</td>\n",
       "      <td>2005</td>\n",
       "      <td>manual</td>\n",
       "      <td>0</td>\n",
       "      <td>colt</td>\n",
       "      <td>150000</td>\n",
       "      <td>7</td>\n",
       "      <td>petrol</td>\n",
       "      <td>mitsubishi</td>\n",
       "      <td>yes</td>\n",
       "      <td>2016-03-21 00:00:00</td>\n",
       "      <td>0</td>\n",
       "      <td>2694</td>\n",
       "      <td>2016-03-21 10:42:49</td>\n",
       "    </tr>\n",
       "    <tr>\n",
       "      <th>354365</th>\n",
       "      <td>2016-03-14 17:48:27</td>\n",
       "      <td>2200</td>\n",
       "      <td>NaN</td>\n",
       "      <td>2005</td>\n",
       "      <td>NaN</td>\n",
       "      <td>0</td>\n",
       "      <td>NaN</td>\n",
       "      <td>20000</td>\n",
       "      <td>1</td>\n",
       "      <td>NaN</td>\n",
       "      <td>sonstige_autos</td>\n",
       "      <td>NaN</td>\n",
       "      <td>2016-03-14 00:00:00</td>\n",
       "      <td>0</td>\n",
       "      <td>39576</td>\n",
       "      <td>2016-04-06 00:46:52</td>\n",
       "    </tr>\n",
       "    <tr>\n",
       "      <th>354366</th>\n",
       "      <td>2016-03-05 19:56:21</td>\n",
       "      <td>1199</td>\n",
       "      <td>convertible</td>\n",
       "      <td>2000</td>\n",
       "      <td>auto</td>\n",
       "      <td>101</td>\n",
       "      <td>fortwo</td>\n",
       "      <td>125000</td>\n",
       "      <td>3</td>\n",
       "      <td>petrol</td>\n",
       "      <td>smart</td>\n",
       "      <td>no</td>\n",
       "      <td>2016-03-05 00:00:00</td>\n",
       "      <td>0</td>\n",
       "      <td>26135</td>\n",
       "      <td>2016-03-11 18:17:12</td>\n",
       "    </tr>\n",
       "    <tr>\n",
       "      <th>354367</th>\n",
       "      <td>2016-03-19 18:57:12</td>\n",
       "      <td>9200</td>\n",
       "      <td>bus</td>\n",
       "      <td>1996</td>\n",
       "      <td>manual</td>\n",
       "      <td>102</td>\n",
       "      <td>transporter</td>\n",
       "      <td>150000</td>\n",
       "      <td>3</td>\n",
       "      <td>gasoline</td>\n",
       "      <td>volkswagen</td>\n",
       "      <td>no</td>\n",
       "      <td>2016-03-19 00:00:00</td>\n",
       "      <td>0</td>\n",
       "      <td>87439</td>\n",
       "      <td>2016-04-07 07:15:26</td>\n",
       "    </tr>\n",
       "    <tr>\n",
       "      <th>354368</th>\n",
       "      <td>2016-03-20 19:41:08</td>\n",
       "      <td>3400</td>\n",
       "      <td>wagon</td>\n",
       "      <td>2002</td>\n",
       "      <td>manual</td>\n",
       "      <td>100</td>\n",
       "      <td>golf</td>\n",
       "      <td>150000</td>\n",
       "      <td>6</td>\n",
       "      <td>gasoline</td>\n",
       "      <td>volkswagen</td>\n",
       "      <td>NaN</td>\n",
       "      <td>2016-03-20 00:00:00</td>\n",
       "      <td>0</td>\n",
       "      <td>40764</td>\n",
       "      <td>2016-03-24 12:45:21</td>\n",
       "    </tr>\n",
       "  </tbody>\n",
       "</table>\n",
       "<p>354369 rows × 16 columns</p>\n",
       "</div>"
      ],
      "text/plain": [
       "                DateCrawled  Price  VehicleType  RegistrationYear Gearbox  \\\n",
       "0       2016-03-24 11:52:17    480          NaN              1993  manual   \n",
       "1       2016-03-24 10:58:45  18300        coupe              2011  manual   \n",
       "2       2016-03-14 12:52:21   9800          suv              2004    auto   \n",
       "3       2016-03-17 16:54:04   1500        small              2001  manual   \n",
       "4       2016-03-31 17:25:20   3600        small              2008  manual   \n",
       "...                     ...    ...          ...               ...     ...   \n",
       "354364  2016-03-21 09:50:58      0          NaN              2005  manual   \n",
       "354365  2016-03-14 17:48:27   2200          NaN              2005     NaN   \n",
       "354366  2016-03-05 19:56:21   1199  convertible              2000    auto   \n",
       "354367  2016-03-19 18:57:12   9200          bus              1996  manual   \n",
       "354368  2016-03-20 19:41:08   3400        wagon              2002  manual   \n",
       "\n",
       "        Power        Model  Kilometer  RegistrationMonth  FuelType  \\\n",
       "0           0         golf     150000                  0    petrol   \n",
       "1         190          NaN     125000                  5  gasoline   \n",
       "2         163        grand     125000                  8  gasoline   \n",
       "3          75         golf     150000                  6    petrol   \n",
       "4          69        fabia      90000                  7  gasoline   \n",
       "...       ...          ...        ...                ...       ...   \n",
       "354364      0         colt     150000                  7    petrol   \n",
       "354365      0          NaN      20000                  1       NaN   \n",
       "354366    101       fortwo     125000                  3    petrol   \n",
       "354367    102  transporter     150000                  3  gasoline   \n",
       "354368    100         golf     150000                  6  gasoline   \n",
       "\n",
       "                 Brand Repaired          DateCreated  NumberOfPictures  \\\n",
       "0           volkswagen      NaN  2016-03-24 00:00:00                 0   \n",
       "1                 audi      yes  2016-03-24 00:00:00                 0   \n",
       "2                 jeep      NaN  2016-03-14 00:00:00                 0   \n",
       "3           volkswagen       no  2016-03-17 00:00:00                 0   \n",
       "4                skoda       no  2016-03-31 00:00:00                 0   \n",
       "...                ...      ...                  ...               ...   \n",
       "354364      mitsubishi      yes  2016-03-21 00:00:00                 0   \n",
       "354365  sonstige_autos      NaN  2016-03-14 00:00:00                 0   \n",
       "354366           smart       no  2016-03-05 00:00:00                 0   \n",
       "354367      volkswagen       no  2016-03-19 00:00:00                 0   \n",
       "354368      volkswagen      NaN  2016-03-20 00:00:00                 0   \n",
       "\n",
       "        PostalCode             LastSeen  \n",
       "0            70435  2016-04-07 03:16:57  \n",
       "1            66954  2016-04-07 01:46:50  \n",
       "2            90480  2016-04-05 12:47:46  \n",
       "3            91074  2016-03-17 17:40:17  \n",
       "4            60437  2016-04-06 10:17:21  \n",
       "...            ...                  ...  \n",
       "354364        2694  2016-03-21 10:42:49  \n",
       "354365       39576  2016-04-06 00:46:52  \n",
       "354366       26135  2016-03-11 18:17:12  \n",
       "354367       87439  2016-04-07 07:15:26  \n",
       "354368       40764  2016-03-24 12:45:21  \n",
       "\n",
       "[354369 rows x 16 columns]"
      ]
     },
     "execution_count": 31,
     "metadata": {},
     "output_type": "execute_result"
    }
   ],
   "source": [
    "data"
   ]
  },
  {
   "cell_type": "code",
   "execution_count": 32,
   "metadata": {},
   "outputs": [
    {
     "name": "stdout",
     "output_type": "stream",
     "text": [
      "<class 'pandas.core.frame.DataFrame'>\n",
      "RangeIndex: 354369 entries, 0 to 354368\n",
      "Data columns (total 11 columns):\n",
      " #   Column            Non-Null Count   Dtype \n",
      "---  ------            --------------   ----- \n",
      " 0   Price             354369 non-null  int64 \n",
      " 1   VehicleType       316879 non-null  object\n",
      " 2   RegistrationYear  354369 non-null  int64 \n",
      " 3   Gearbox           334536 non-null  object\n",
      " 4   Power             354369 non-null  int64 \n",
      " 5   Model             334664 non-null  object\n",
      " 6   Kilometer         354369 non-null  int64 \n",
      " 7   FuelType          321474 non-null  object\n",
      " 8   Brand             354369 non-null  object\n",
      " 9   Repaired          283215 non-null  object\n",
      " 10  NumberOfPictures  354369 non-null  int64 \n",
      "dtypes: int64(5), object(6)\n",
      "memory usage: 29.7+ MB\n"
     ]
    }
   ],
   "source": [
    "data = data.drop(['DateCrawled', 'RegistrationMonth', 'PostalCode', 'LastSeen', 'DateCreated'], axis = 1)\n",
    "data.info()"
   ]
  },
  {
   "cell_type": "markdown",
   "metadata": {},
   "source": [
    "<div style=\"border:solid #81d8e6 2px; padding: 10px\">\n",
    "Мы удалили ненужные колонки, теперь можно переходить непосредственно к предобработке, чтобы не тратить время на лишние столбцы.\n",
    "</div>"
   ]
  },
  {
   "cell_type": "markdown",
   "metadata": {},
   "source": [
    "### Работа с пропусками"
   ]
  },
  {
   "cell_type": "code",
   "execution_count": 33,
   "metadata": {},
   "outputs": [
    {
     "data": {
      "text/plain": [
       "Price                   0\n",
       "VehicleType         37490\n",
       "RegistrationYear        0\n",
       "Gearbox             19833\n",
       "Power                   0\n",
       "Model               19705\n",
       "Kilometer               0\n",
       "FuelType            32895\n",
       "Brand                   0\n",
       "Repaired            71154\n",
       "NumberOfPictures        0\n",
       "dtype: int64"
      ]
     },
     "execution_count": 33,
     "metadata": {},
     "output_type": "execute_result"
    }
   ],
   "source": [
    "data.isna().sum()"
   ]
  },
  {
   "cell_type": "markdown",
   "metadata": {},
   "source": [
    "#### VehicleType"
   ]
  },
  {
   "cell_type": "code",
   "execution_count": 34,
   "metadata": {},
   "outputs": [
    {
     "data": {
      "image/png": "[encoded data removed]",
      "text/plain": [
       "<Figure size 700x700 with 1 Axes>"
      ]
     },
     "metadata": {},
     "output_type": "display_data"
    }
   ],
   "source": [
    "pie_plot('VehicleType')"
   ]
  },
  {
   "cell_type": "code",
   "execution_count": 35,
   "metadata": {},
   "outputs": [
    {
     "data": {
      "text/plain": [
       "37490"
      ]
     },
     "execution_count": 35,
     "metadata": {},
     "output_type": "execute_result"
    }
   ],
   "source": [
    "data['VehicleType'].isna().sum()"
   ]
  },
  {
   "cell_type": "code",
   "execution_count": 36,
   "metadata": {},
   "outputs": [
    {
     "data": {
      "text/plain": [
       "sedan          91457\n",
       "small          79831\n",
       "wagon          65166\n",
       "uncpecified    37490\n",
       "bus            28775\n",
       "convertible    20203\n",
       "coupe          16163\n",
       "suv            11996\n",
       "other           3288\n",
       "Name: VehicleType, dtype: int64"
      ]
     },
     "execution_count": 36,
     "metadata": {},
     "output_type": "execute_result"
    }
   ],
   "source": [
    "data['VehicleType'].fillna('uncpecified', inplace=True)\n",
    "data['VehicleType'].value_counts()"
   ]
  },
  {
   "cell_type": "markdown",
   "metadata": {},
   "source": [
    "#### Gearbox             "
   ]
  },
  {
   "cell_type": "code",
   "execution_count": 37,
   "metadata": {},
   "outputs": [
    {
     "data": {
      "text/plain": [
       "manual    268251\n",
       "auto       66285\n",
       "Name: Gearbox, dtype: int64"
      ]
     },
     "execution_count": 37,
     "metadata": {},
     "output_type": "execute_result"
    },
    {
     "data": {
      "image/png": "[encoded data removed]",
      "text/plain": [
       "<Figure size 700x700 with 1 Axes>"
      ]
     },
     "metadata": {},
     "output_type": "display_data"
    }
   ],
   "source": [
    "pie_plot('Gearbox')\n",
    "data['Gearbox'].value_counts()"
   ]
  },
  {
   "cell_type": "code",
   "execution_count": 38,
   "metadata": {},
   "outputs": [
    {
     "data": {
      "text/plain": [
       "19833"
      ]
     },
     "execution_count": 38,
     "metadata": {},
     "output_type": "execute_result"
    }
   ],
   "source": [
    "data['Gearbox'].isna().sum()"
   ]
  },
  {
   "cell_type": "code",
   "execution_count": 39,
   "metadata": {},
   "outputs": [],
   "source": [
    "data['Gearbox'].fillna('manual', inplace=True)"
   ]
  },
  {
   "cell_type": "code",
   "execution_count": 40,
   "metadata": {},
   "outputs": [
    {
     "data": {
      "text/plain": [
       "manual    288084\n",
       "auto       66285\n",
       "Name: Gearbox, dtype: int64"
      ]
     },
     "execution_count": 40,
     "metadata": {},
     "output_type": "execute_result"
    }
   ],
   "source": [
    "data['Gearbox'].isna().sum()\n",
    "data['Gearbox'].value_counts()"
   ]
  },
  {
   "cell_type": "markdown",
   "metadata": {},
   "source": [
    "#### Model               "
   ]
  },
  {
   "cell_type": "code",
   "execution_count": 41,
   "metadata": {},
   "outputs": [
    {
     "data": {
      "text/plain": [
       "golf                  29232\n",
       "other                 24421\n",
       "3er                   19761\n",
       "polo                  13066\n",
       "corsa                 12570\n",
       "                      ...  \n",
       "i3                        8\n",
       "serie_3                   4\n",
       "rangerover                4\n",
       "range_rover_evoque        2\n",
       "serie_1                   2\n",
       "Name: Model, Length: 250, dtype: int64"
      ]
     },
     "execution_count": 41,
     "metadata": {},
     "output_type": "execute_result"
    }
   ],
   "source": [
    "data['Model'].value_counts()"
   ]
  },
  {
   "cell_type": "code",
   "execution_count": 42,
   "metadata": {},
   "outputs": [
    {
     "data": {
      "text/plain": [
       "19705"
      ]
     },
     "execution_count": 42,
     "metadata": {},
     "output_type": "execute_result"
    }
   ],
   "source": [
    "data['Model'].isna().sum()"
   ]
  },
  {
   "cell_type": "code",
   "execution_count": 43,
   "metadata": {},
   "outputs": [
    {
     "data": {
      "text/plain": [
       "golf                  29232\n",
       "other                 24421\n",
       "3er                   19761\n",
       "uncpecified           19705\n",
       "polo                  13066\n",
       "                      ...  \n",
       "i3                        8\n",
       "serie_3                   4\n",
       "rangerover                4\n",
       "range_rover_evoque        2\n",
       "serie_1                   2\n",
       "Name: Model, Length: 251, dtype: int64"
      ]
     },
     "execution_count": 43,
     "metadata": {},
     "output_type": "execute_result"
    }
   ],
   "source": [
    "data['Model'].fillna('uncpecified', inplace=True)\n",
    "data['Model'].value_counts()"
   ]
  },
  {
   "cell_type": "markdown",
   "metadata": {},
   "source": [
    "#### FuelType            "
   ]
  },
  {
   "cell_type": "code",
   "execution_count": 44,
   "metadata": {},
   "outputs": [],
   "source": [
    "#pie_plot('FuelType')"
   ]
  },
  {
   "cell_type": "code",
   "execution_count": 45,
   "metadata": {},
   "outputs": [
    {
     "data": {
      "text/plain": [
       "petrol      216352\n",
       "gasoline     98720\n",
       "lpg           5310\n",
       "cng            565\n",
       "hybrid         233\n",
       "other          204\n",
       "electric        90\n",
       "Name: FuelType, dtype: int64"
      ]
     },
     "execution_count": 45,
     "metadata": {},
     "output_type": "execute_result"
    }
   ],
   "source": [
    "data['FuelType'].value_counts()"
   ]
  },
  {
   "cell_type": "code",
   "execution_count": 46,
   "metadata": {},
   "outputs": [
    {
     "data": {
      "text/plain": [
       "32895"
      ]
     },
     "execution_count": 46,
     "metadata": {},
     "output_type": "execute_result"
    }
   ],
   "source": [
    "data['FuelType'].isna().sum()"
   ]
  },
  {
   "cell_type": "code",
   "execution_count": 47,
   "metadata": {},
   "outputs": [],
   "source": [
    "data['FuelType'].fillna('petrol', inplace=True)"
   ]
  },
  {
   "cell_type": "code",
   "execution_count": 48,
   "metadata": {},
   "outputs": [
    {
     "data": {
      "text/plain": [
       "0"
      ]
     },
     "execution_count": 48,
     "metadata": {},
     "output_type": "execute_result"
    }
   ],
   "source": [
    "data['FuelType'].isna().sum()"
   ]
  },
  {
   "cell_type": "code",
   "execution_count": 49,
   "metadata": {},
   "outputs": [
    {
     "data": {
      "text/plain": [
       "petrol      249247\n",
       "gasoline     98720\n",
       "lpg           5310\n",
       "cng            565\n",
       "hybrid         233\n",
       "other          204\n",
       "electric        90\n",
       "Name: FuelType, dtype: int64"
      ]
     },
     "execution_count": 49,
     "metadata": {},
     "output_type": "execute_result"
    }
   ],
   "source": [
    "data['FuelType'].value_counts()"
   ]
  },
  {
   "cell_type": "markdown",
   "metadata": {},
   "source": [
    "#### Repaired            "
   ]
  },
  {
   "cell_type": "code",
   "execution_count": 50,
   "metadata": {},
   "outputs": [
    {
     "data": {
      "image/png": "[encoded data removed]",
      "text/plain": [
       "<Figure size 700x700 with 1 Axes>"
      ]
     },
     "metadata": {},
     "output_type": "display_data"
    }
   ],
   "source": [
    "pie_plot('Repaired')"
   ]
  },
  {
   "cell_type": "code",
   "execution_count": 51,
   "metadata": {},
   "outputs": [
    {
     "data": {
      "text/plain": [
       "71154"
      ]
     },
     "execution_count": 51,
     "metadata": {},
     "output_type": "execute_result"
    }
   ],
   "source": [
    "data['Repaired'].isna().sum()"
   ]
  },
  {
   "cell_type": "code",
   "execution_count": 52,
   "metadata": {},
   "outputs": [
    {
     "data": {
      "text/plain": [
       "0"
      ]
     },
     "execution_count": 52,
     "metadata": {},
     "output_type": "execute_result"
    }
   ],
   "source": [
    "data['Repaired'].fillna('no', inplace=True)\n",
    "data['Repaired'].isna().sum()"
   ]
  },
  {
   "cell_type": "code",
   "execution_count": 53,
   "metadata": {},
   "outputs": [
    {
     "data": {
      "text/plain": [
       "Price               0\n",
       "VehicleType         0\n",
       "RegistrationYear    0\n",
       "Gearbox             0\n",
       "Power               0\n",
       "Model               0\n",
       "Kilometer           0\n",
       "FuelType            0\n",
       "Brand               0\n",
       "Repaired            0\n",
       "NumberOfPictures    0\n",
       "dtype: int64"
      ]
     },
     "execution_count": 53,
     "metadata": {},
     "output_type": "execute_result"
    }
   ],
   "source": [
    "data.isna().sum()"
   ]
  },
  {
   "cell_type": "markdown",
   "metadata": {},
   "source": [
    "#### Мини-вывод и обоснование"
   ]
  },
  {
   "cell_type": "markdown",
   "metadata": {},
   "source": [
    "<div style=\"border:solid #81d8e6 2px; padding: 10px\">\n",
    "Мы заполнили пропуски:\n",
    "    \n",
    "    - В столбце VehicleType (тип кузова) мы заменили неизвестные значения на 'uncpecified' (не указано), так как у нас 37000 пропусков, а следовательно добавление их к любому из уже существующих классов может привести к изменению распределения.\n",
    "    - В столбце Gearbox мы заменили неизвестные значения на manual, потому что этих значений больше 80%, мы сравнили данные до замены и после. Соотношение значений изменилось не более, чем на 1,5%.\n",
    "    - В столбце Model мы также заменили неизвестные значения на 'uncpecified' (не указано), так как у нас слишком большое количество пропусков и широкий список моделей.\n",
    "    - В столбце FuelType мы заменили пропуски на petrol, так как это самое распространённое значение, а также самый популярный вид топлива. Скорее всего, если не вносились особые сведения о топливе, то используется самый популярный вариант - бензин.\n",
    "    - В столбце Repaired мы заменили пропуски на no, так как скорее всего, если не вносились сведения о ремонте, его не было.\n",
    "</div>"
   ]
  },
  {
   "cell_type": "markdown",
   "metadata": {},
   "source": [
    "### Работа с дубликатами"
   ]
  },
  {
   "cell_type": "code",
   "execution_count": 54,
   "metadata": {},
   "outputs": [
    {
     "data": {
      "text/plain": [
       "56547"
      ]
     },
     "execution_count": 54,
     "metadata": {},
     "output_type": "execute_result"
    }
   ],
   "source": [
    "data.duplicated().sum()"
   ]
  },
  {
   "cell_type": "code",
   "execution_count": 55,
   "metadata": {},
   "outputs": [
    {
     "data": {
      "text/plain": [
       "0"
      ]
     },
     "execution_count": 55,
     "metadata": {},
     "output_type": "execute_result"
    }
   ],
   "source": [
    "data.drop_duplicates(inplace=True)\n",
    "data.duplicated().sum()"
   ]
  },
  {
   "cell_type": "markdown",
   "metadata": {},
   "source": [
    "<div style=\"border:solid #81d8e6 2px; padding: 10px\">\n",
    "Так как после удаления неинформативных столбцов появились данные с одинаковыми параметрами, мы их удалили для избежания переобучения модели.\n",
    "</div>"
   ]
  },
  {
   "cell_type": "markdown",
   "metadata": {},
   "source": [
    "### Работа с типами столбцов"
   ]
  },
  {
   "cell_type": "code",
   "execution_count": 56,
   "metadata": {},
   "outputs": [
    {
     "data": {
      "text/html": [
       "<div>\n",
       "<style scoped>\n",
       "    .dataframe tbody tr th:only-of-type {\n",
       "        vertical-align: middle;\n",
       "    }\n",
       "\n",
       "    .dataframe tbody tr th {\n",
       "        vertical-align: top;\n",
       "    }\n",
       "\n",
       "    .dataframe thead th {\n",
       "        text-align: right;\n",
       "    }\n",
       "</style>\n",
       "<table border=\"1\" class=\"dataframe\">\n",
       "  <thead>\n",
       "    <tr style=\"text-align: right;\">\n",
       "      <th></th>\n",
       "      <th>Price</th>\n",
       "      <th>VehicleType</th>\n",
       "      <th>RegistrationYear</th>\n",
       "      <th>Gearbox</th>\n",
       "      <th>Power</th>\n",
       "      <th>Model</th>\n",
       "      <th>Kilometer</th>\n",
       "      <th>FuelType</th>\n",
       "      <th>Brand</th>\n",
       "      <th>Repaired</th>\n",
       "      <th>NumberOfPictures</th>\n",
       "    </tr>\n",
       "  </thead>\n",
       "  <tbody>\n",
       "    <tr>\n",
       "      <th>0</th>\n",
       "      <td>480</td>\n",
       "      <td>uncpecified</td>\n",
       "      <td>1993</td>\n",
       "      <td>manual</td>\n",
       "      <td>0</td>\n",
       "      <td>golf</td>\n",
       "      <td>150000</td>\n",
       "      <td>petrol</td>\n",
       "      <td>volkswagen</td>\n",
       "      <td>no</td>\n",
       "      <td>0</td>\n",
       "    </tr>\n",
       "    <tr>\n",
       "      <th>1</th>\n",
       "      <td>18300</td>\n",
       "      <td>coupe</td>\n",
       "      <td>2011</td>\n",
       "      <td>manual</td>\n",
       "      <td>190</td>\n",
       "      <td>uncpecified</td>\n",
       "      <td>125000</td>\n",
       "      <td>gasoline</td>\n",
       "      <td>audi</td>\n",
       "      <td>yes</td>\n",
       "      <td>0</td>\n",
       "    </tr>\n",
       "    <tr>\n",
       "      <th>2</th>\n",
       "      <td>9800</td>\n",
       "      <td>suv</td>\n",
       "      <td>2004</td>\n",
       "      <td>auto</td>\n",
       "      <td>163</td>\n",
       "      <td>grand</td>\n",
       "      <td>125000</td>\n",
       "      <td>gasoline</td>\n",
       "      <td>jeep</td>\n",
       "      <td>no</td>\n",
       "      <td>0</td>\n",
       "    </tr>\n",
       "    <tr>\n",
       "      <th>3</th>\n",
       "      <td>1500</td>\n",
       "      <td>small</td>\n",
       "      <td>2001</td>\n",
       "      <td>manual</td>\n",
       "      <td>75</td>\n",
       "      <td>golf</td>\n",
       "      <td>150000</td>\n",
       "      <td>petrol</td>\n",
       "      <td>volkswagen</td>\n",
       "      <td>no</td>\n",
       "      <td>0</td>\n",
       "    </tr>\n",
       "    <tr>\n",
       "      <th>4</th>\n",
       "      <td>3600</td>\n",
       "      <td>small</td>\n",
       "      <td>2008</td>\n",
       "      <td>manual</td>\n",
       "      <td>69</td>\n",
       "      <td>fabia</td>\n",
       "      <td>90000</td>\n",
       "      <td>gasoline</td>\n",
       "      <td>skoda</td>\n",
       "      <td>no</td>\n",
       "      <td>0</td>\n",
       "    </tr>\n",
       "  </tbody>\n",
       "</table>\n",
       "</div>"
      ],
      "text/plain": [
       "   Price  VehicleType  RegistrationYear Gearbox  Power        Model  \\\n",
       "0    480  uncpecified              1993  manual      0         golf   \n",
       "1  18300        coupe              2011  manual    190  uncpecified   \n",
       "2   9800          suv              2004    auto    163        grand   \n",
       "3   1500        small              2001  manual     75         golf   \n",
       "4   3600        small              2008  manual     69        fabia   \n",
       "\n",
       "   Kilometer  FuelType       Brand Repaired  NumberOfPictures  \n",
       "0     150000    petrol  volkswagen       no                 0  \n",
       "1     125000  gasoline        audi      yes                 0  \n",
       "2     125000  gasoline        jeep       no                 0  \n",
       "3     150000    petrol  volkswagen       no                 0  \n",
       "4      90000  gasoline       skoda       no                 0  "
      ]
     },
     "execution_count": 56,
     "metadata": {},
     "output_type": "execute_result"
    }
   ],
   "source": [
    "data.head()"
   ]
  },
  {
   "cell_type": "code",
   "execution_count": 57,
   "metadata": {},
   "outputs": [
    {
     "name": "stdout",
     "output_type": "stream",
     "text": [
      "<class 'pandas.core.frame.DataFrame'>\n",
      "Int64Index: 297822 entries, 0 to 354368\n",
      "Data columns (total 11 columns):\n",
      " #   Column            Non-Null Count   Dtype \n",
      "---  ------            --------------   ----- \n",
      " 0   Price             297822 non-null  int64 \n",
      " 1   VehicleType       297822 non-null  object\n",
      " 2   RegistrationYear  297822 non-null  int64 \n",
      " 3   Gearbox           297822 non-null  object\n",
      " 4   Power             297822 non-null  int64 \n",
      " 5   Model             297822 non-null  object\n",
      " 6   Kilometer         297822 non-null  int64 \n",
      " 7   FuelType          297822 non-null  object\n",
      " 8   Brand             297822 non-null  object\n",
      " 9   Repaired          297822 non-null  object\n",
      " 10  NumberOfPictures  297822 non-null  int64 \n",
      "dtypes: int64(5), object(6)\n",
      "memory usage: 27.3+ MB\n"
     ]
    }
   ],
   "source": [
    "data.info()"
   ]
  },
  {
   "cell_type": "markdown",
   "metadata": {},
   "source": [
    "<div style=\"border:solid #81d8e6 2px; padding: 10px\">\n",
    "Cтолбцы в корректировке не нуждаются.\n",
    "</div>"
   ]
  },
  {
   "cell_type": "markdown",
   "metadata": {},
   "source": [
    "### Работа с выбросами"
   ]
  },
  {
   "cell_type": "code",
   "execution_count": 58,
   "metadata": {},
   "outputs": [
    {
     "data": {
      "text/html": [
       "<div>\n",
       "<style scoped>\n",
       "    .dataframe tbody tr th:only-of-type {\n",
       "        vertical-align: middle;\n",
       "    }\n",
       "\n",
       "    .dataframe tbody tr th {\n",
       "        vertical-align: top;\n",
       "    }\n",
       "\n",
       "    .dataframe thead th {\n",
       "        text-align: right;\n",
       "    }\n",
       "</style>\n",
       "<table border=\"1\" class=\"dataframe\">\n",
       "  <thead>\n",
       "    <tr style=\"text-align: right;\">\n",
       "      <th></th>\n",
       "      <th>Price</th>\n",
       "      <th>RegistrationYear</th>\n",
       "      <th>Power</th>\n",
       "      <th>Kilometer</th>\n",
       "      <th>NumberOfPictures</th>\n",
       "    </tr>\n",
       "  </thead>\n",
       "  <tbody>\n",
       "    <tr>\n",
       "      <th>count</th>\n",
       "      <td>297822.000000</td>\n",
       "      <td>297822.000000</td>\n",
       "      <td>297822.000000</td>\n",
       "      <td>297822.000000</td>\n",
       "      <td>297822.0</td>\n",
       "    </tr>\n",
       "    <tr>\n",
       "      <th>mean</th>\n",
       "      <td>4563.171589</td>\n",
       "      <td>2004.435670</td>\n",
       "      <td>111.961027</td>\n",
       "      <td>126680.114296</td>\n",
       "      <td>0.0</td>\n",
       "    </tr>\n",
       "    <tr>\n",
       "      <th>std</th>\n",
       "      <td>4593.363691</td>\n",
       "      <td>94.212298</td>\n",
       "      <td>204.443324</td>\n",
       "      <td>38852.069958</td>\n",
       "      <td>0.0</td>\n",
       "    </tr>\n",
       "    <tr>\n",
       "      <th>min</th>\n",
       "      <td>0.000000</td>\n",
       "      <td>1000.000000</td>\n",
       "      <td>0.000000</td>\n",
       "      <td>5000.000000</td>\n",
       "      <td>0.0</td>\n",
       "    </tr>\n",
       "    <tr>\n",
       "      <th>25%</th>\n",
       "      <td>1111.000000</td>\n",
       "      <td>1999.000000</td>\n",
       "      <td>69.000000</td>\n",
       "      <td>125000.000000</td>\n",
       "      <td>0.0</td>\n",
       "    </tr>\n",
       "    <tr>\n",
       "      <th>50%</th>\n",
       "      <td>2890.000000</td>\n",
       "      <td>2003.000000</td>\n",
       "      <td>105.000000</td>\n",
       "      <td>150000.000000</td>\n",
       "      <td>0.0</td>\n",
       "    </tr>\n",
       "    <tr>\n",
       "      <th>75%</th>\n",
       "      <td>6599.000000</td>\n",
       "      <td>2008.000000</td>\n",
       "      <td>143.000000</td>\n",
       "      <td>150000.000000</td>\n",
       "      <td>0.0</td>\n",
       "    </tr>\n",
       "    <tr>\n",
       "      <th>max</th>\n",
       "      <td>20000.000000</td>\n",
       "      <td>9999.000000</td>\n",
       "      <td>20000.000000</td>\n",
       "      <td>150000.000000</td>\n",
       "      <td>0.0</td>\n",
       "    </tr>\n",
       "  </tbody>\n",
       "</table>\n",
       "</div>"
      ],
      "text/plain": [
       "               Price  RegistrationYear          Power      Kilometer  \\\n",
       "count  297822.000000     297822.000000  297822.000000  297822.000000   \n",
       "mean     4563.171589       2004.435670     111.961027  126680.114296   \n",
       "std      4593.363691         94.212298     204.443324   38852.069958   \n",
       "min         0.000000       1000.000000       0.000000    5000.000000   \n",
       "25%      1111.000000       1999.000000      69.000000  125000.000000   \n",
       "50%      2890.000000       2003.000000     105.000000  150000.000000   \n",
       "75%      6599.000000       2008.000000     143.000000  150000.000000   \n",
       "max     20000.000000       9999.000000   20000.000000  150000.000000   \n",
       "\n",
       "       NumberOfPictures  \n",
       "count          297822.0  \n",
       "mean                0.0  \n",
       "std                 0.0  \n",
       "min                 0.0  \n",
       "25%                 0.0  \n",
       "50%                 0.0  \n",
       "75%                 0.0  \n",
       "max                 0.0  "
      ]
     },
     "execution_count": 58,
     "metadata": {},
     "output_type": "execute_result"
    }
   ],
   "source": [
    "data.describe()"
   ]
  },
  {
   "cell_type": "markdown",
   "metadata": {},
   "source": [
    "#### Price"
   ]
  },
  {
   "cell_type": "code",
   "execution_count": 59,
   "metadata": {},
   "outputs": [
    {
     "name": "stdout",
     "output_type": "stream",
     "text": [
      "-6975.0 14425.0\n"
     ]
    },
    {
     "data": {
      "text/plain": [
       "count    297822.000000\n",
       "mean       4563.171589\n",
       "std        4593.363691\n",
       "min           0.000000\n",
       "25%        1111.000000\n",
       "50%        2890.000000\n",
       "75%        6599.000000\n",
       "max       20000.000000\n",
       "Name: Price, dtype: float64"
      ]
     },
     "execution_count": 59,
     "metadata": {},
     "output_type": "execute_result"
    },
    {
     "data": {
      "image/png": "[encoded data removed]",
      "text/plain": [
       "<Figure size 500x500 with 1 Axes>"
      ]
     },
     "metadata": {},
     "output_type": "display_data"
    }
   ],
   "source": [
    "clean_data = quant('Price')\n",
    "data['Price'].describe()"
   ]
  },
  {
   "cell_type": "code",
   "execution_count": 60,
   "metadata": {},
   "outputs": [],
   "source": [
    "data = data.query('100<Price')"
   ]
  },
  {
   "cell_type": "markdown",
   "metadata": {},
   "source": [
    "#### RegistrationYear"
   ]
  },
  {
   "cell_type": "code",
   "execution_count": 61,
   "metadata": {},
   "outputs": [
    {
     "name": "stdout",
     "output_type": "stream",
     "text": [
      "1985.5 2021.5\n"
     ]
    },
    {
     "data": {
      "text/plain": [
       "count    286411.000000\n",
       "mean       2004.173359\n",
       "std          75.030456\n",
       "min        1000.000000\n",
       "25%        1999.000000\n",
       "50%        2003.000000\n",
       "75%        2008.000000\n",
       "max        9999.000000\n",
       "Name: RegistrationYear, dtype: float64"
      ]
     },
     "execution_count": 61,
     "metadata": {},
     "output_type": "execute_result"
    },
    {
     "data": {
      "image/png": "[encoded data removed]",
      "text/plain": [
       "<Figure size 500x500 with 1 Axes>"
      ]
     },
     "metadata": {},
     "output_type": "display_data"
    }
   ],
   "source": [
    "clean_data = quant('RegistrationYear')\n",
    "data['RegistrationYear'].describe()"
   ]
  },
  {
   "cell_type": "code",
   "execution_count": 62,
   "metadata": {},
   "outputs": [
    {
     "data": {
      "text/plain": [
       "67"
      ]
     },
     "execution_count": 62,
     "metadata": {},
     "output_type": "execute_result"
    }
   ],
   "source": [
    "#число аномалий в исходном датасете\n",
    "data[data['RegistrationYear']>=2022]['RegistrationYear'].count()"
   ]
  },
  {
   "cell_type": "code",
   "execution_count": 63,
   "metadata": {},
   "outputs": [
    {
     "data": {
      "text/plain": [
       "15870     3200\n",
       "17271     9999\n",
       "17346     8888\n",
       "18259     2200\n",
       "20159     4100\n",
       "          ... \n",
       "316079    5555\n",
       "316487    5000\n",
       "320452    8200\n",
       "322234    5000\n",
       "328453    2500\n",
       "Name: RegistrationYear, Length: 67, dtype: int64"
      ]
     },
     "execution_count": 63,
     "metadata": {},
     "output_type": "execute_result"
    }
   ],
   "source": [
    "data[data['RegistrationYear']>=2022]['RegistrationYear']"
   ]
  },
  {
   "cell_type": "code",
   "execution_count": 64,
   "metadata": {},
   "outputs": [],
   "source": [
    "data = data[data['RegistrationYear']<2016]"
   ]
  },
  {
   "cell_type": "markdown",
   "metadata": {},
   "source": [
    "#### Power"
   ]
  },
  {
   "cell_type": "code",
   "execution_count": 65,
   "metadata": {},
   "outputs": [
    {
     "name": "stdout",
     "output_type": "stream",
     "text": [
      "-42.0 254.0\n"
     ]
    },
    {
     "data": {
      "text/plain": [
       "count    266503.000000\n",
       "mean        115.126809\n",
       "std         196.461683\n",
       "min           0.000000\n",
       "25%          75.000000\n",
       "50%         107.000000\n",
       "75%         145.000000\n",
       "max       20000.000000\n",
       "Name: Power, dtype: float64"
      ]
     },
     "execution_count": 65,
     "metadata": {},
     "output_type": "execute_result"
    },
    {
     "data": {
      "image/png": "[encoded data removed]",
      "text/plain": [
       "<Figure size 500x500 with 1 Axes>"
      ]
     },
     "metadata": {},
     "output_type": "display_data"
    }
   ],
   "source": [
    "clean_data = quant('Power')\n",
    "data['Power'].describe()"
   ]
  },
  {
   "cell_type": "code",
   "execution_count": 66,
   "metadata": {},
   "outputs": [
    {
     "data": {
      "text/plain": [
       "6885"
      ]
     },
     "execution_count": 66,
     "metadata": {},
     "output_type": "execute_result"
    }
   ],
   "source": [
    "#число аномалий в исходном датасете\n",
    "data[data['Power']>249]['Power'].count()"
   ]
  },
  {
   "cell_type": "code",
   "execution_count": 67,
   "metadata": {
    "scrolled": true
   },
   "outputs": [
    {
     "data": {
      "text/plain": [
       "292"
      ]
     },
     "execution_count": 67,
     "metadata": {},
     "output_type": "execute_result"
    }
   ],
   "source": [
    "data[data['Power']>620]['Power'].count()"
   ]
  },
  {
   "cell_type": "code",
   "execution_count": 68,
   "metadata": {},
   "outputs": [
    {
     "data": {
      "text/plain": [
       "24940"
      ]
     },
     "execution_count": 68,
     "metadata": {},
     "output_type": "execute_result"
    }
   ],
   "source": [
    "data[data['Power']<13]['Power'].count()"
   ]
  },
  {
   "cell_type": "code",
   "execution_count": 69,
   "metadata": {},
   "outputs": [],
   "source": [
    "data = data.query('13<Power<252')"
   ]
  },
  {
   "cell_type": "code",
   "execution_count": 70,
   "metadata": {
    "scrolled": true
   },
   "outputs": [
    {
     "data": {
      "text/plain": [
       "0"
      ]
     },
     "execution_count": 70,
     "metadata": {},
     "output_type": "execute_result"
    }
   ],
   "source": [
    "data[data['Power']>252]['Power'].count()"
   ]
  },
  {
   "cell_type": "code",
   "execution_count": 71,
   "metadata": {},
   "outputs": [
    {
     "data": {
      "text/plain": [
       "0"
      ]
     },
     "execution_count": 71,
     "metadata": {},
     "output_type": "execute_result"
    }
   ],
   "source": [
    "data[data['Power']<13]['Power'].count()"
   ]
  },
  {
   "cell_type": "markdown",
   "metadata": {},
   "source": [
    "#### Kilometer"
   ]
  },
  {
   "cell_type": "code",
   "execution_count": 72,
   "metadata": {},
   "outputs": [
    {
     "name": "stdout",
     "output_type": "stream",
     "text": [
      "87500.0 187500.0\n"
     ]
    },
    {
     "data": {
      "text/plain": [
       "count    235330.000000\n",
       "mean     126471.125653\n",
       "std       37770.378150\n",
       "min        5000.000000\n",
       "25%      125000.000000\n",
       "50%      150000.000000\n",
       "75%      150000.000000\n",
       "max      150000.000000\n",
       "Name: Kilometer, dtype: float64"
      ]
     },
     "execution_count": 72,
     "metadata": {},
     "output_type": "execute_result"
    },
    {
     "data": {
      "image/png": "[encoded data removed]",
      "text/plain": [
       "<Figure size 500x500 with 1 Axes>"
      ]
     },
     "metadata": {},
     "output_type": "display_data"
    }
   ],
   "source": [
    "clean_data = quant('Kilometer')\n",
    "data['Kilometer'].describe()"
   ]
  },
  {
   "cell_type": "code",
   "execution_count": 73,
   "metadata": {},
   "outputs": [
    {
     "data": {
      "text/plain": [
       "0"
      ]
     },
     "execution_count": 73,
     "metadata": {},
     "output_type": "execute_result"
    }
   ],
   "source": [
    "#число аномалий в исходном датасете\n",
    "data[data['Kilometer']>150000]['Kilometer'].count()"
   ]
  },
  {
   "cell_type": "markdown",
   "metadata": {},
   "source": [
    "#### NumberOfPictures"
   ]
  },
  {
   "cell_type": "code",
   "execution_count": 74,
   "metadata": {},
   "outputs": [
    {
     "data": {
      "text/html": [
       "<div>\n",
       "<style scoped>\n",
       "    .dataframe tbody tr th:only-of-type {\n",
       "        vertical-align: middle;\n",
       "    }\n",
       "\n",
       "    .dataframe tbody tr th {\n",
       "        vertical-align: top;\n",
       "    }\n",
       "\n",
       "    .dataframe thead th {\n",
       "        text-align: right;\n",
       "    }\n",
       "</style>\n",
       "<table border=\"1\" class=\"dataframe\">\n",
       "  <thead>\n",
       "    <tr style=\"text-align: right;\">\n",
       "      <th></th>\n",
       "      <th>Price</th>\n",
       "      <th>VehicleType</th>\n",
       "      <th>RegistrationYear</th>\n",
       "      <th>Gearbox</th>\n",
       "      <th>Power</th>\n",
       "      <th>Model</th>\n",
       "      <th>Kilometer</th>\n",
       "      <th>FuelType</th>\n",
       "      <th>Brand</th>\n",
       "      <th>Repaired</th>\n",
       "      <th>NumberOfPictures</th>\n",
       "    </tr>\n",
       "  </thead>\n",
       "  <tbody>\n",
       "    <tr>\n",
       "      <th>1</th>\n",
       "      <td>18300</td>\n",
       "      <td>coupe</td>\n",
       "      <td>2011</td>\n",
       "      <td>manual</td>\n",
       "      <td>190</td>\n",
       "      <td>uncpecified</td>\n",
       "      <td>125000</td>\n",
       "      <td>gasoline</td>\n",
       "      <td>audi</td>\n",
       "      <td>yes</td>\n",
       "      <td>0</td>\n",
       "    </tr>\n",
       "    <tr>\n",
       "      <th>2</th>\n",
       "      <td>9800</td>\n",
       "      <td>suv</td>\n",
       "      <td>2004</td>\n",
       "      <td>auto</td>\n",
       "      <td>163</td>\n",
       "      <td>grand</td>\n",
       "      <td>125000</td>\n",
       "      <td>gasoline</td>\n",
       "      <td>jeep</td>\n",
       "      <td>no</td>\n",
       "      <td>0</td>\n",
       "    </tr>\n",
       "    <tr>\n",
       "      <th>3</th>\n",
       "      <td>1500</td>\n",
       "      <td>small</td>\n",
       "      <td>2001</td>\n",
       "      <td>manual</td>\n",
       "      <td>75</td>\n",
       "      <td>golf</td>\n",
       "      <td>150000</td>\n",
       "      <td>petrol</td>\n",
       "      <td>volkswagen</td>\n",
       "      <td>no</td>\n",
       "      <td>0</td>\n",
       "    </tr>\n",
       "    <tr>\n",
       "      <th>4</th>\n",
       "      <td>3600</td>\n",
       "      <td>small</td>\n",
       "      <td>2008</td>\n",
       "      <td>manual</td>\n",
       "      <td>69</td>\n",
       "      <td>fabia</td>\n",
       "      <td>90000</td>\n",
       "      <td>gasoline</td>\n",
       "      <td>skoda</td>\n",
       "      <td>no</td>\n",
       "      <td>0</td>\n",
       "    </tr>\n",
       "    <tr>\n",
       "      <th>5</th>\n",
       "      <td>650</td>\n",
       "      <td>sedan</td>\n",
       "      <td>1995</td>\n",
       "      <td>manual</td>\n",
       "      <td>102</td>\n",
       "      <td>3er</td>\n",
       "      <td>150000</td>\n",
       "      <td>petrol</td>\n",
       "      <td>bmw</td>\n",
       "      <td>yes</td>\n",
       "      <td>0</td>\n",
       "    </tr>\n",
       "    <tr>\n",
       "      <th>...</th>\n",
       "      <td>...</td>\n",
       "      <td>...</td>\n",
       "      <td>...</td>\n",
       "      <td>...</td>\n",
       "      <td>...</td>\n",
       "      <td>...</td>\n",
       "      <td>...</td>\n",
       "      <td>...</td>\n",
       "      <td>...</td>\n",
       "      <td>...</td>\n",
       "      <td>...</td>\n",
       "    </tr>\n",
       "    <tr>\n",
       "      <th>354357</th>\n",
       "      <td>1690</td>\n",
       "      <td>wagon</td>\n",
       "      <td>2004</td>\n",
       "      <td>manual</td>\n",
       "      <td>55</td>\n",
       "      <td>fabia</td>\n",
       "      <td>150000</td>\n",
       "      <td>petrol</td>\n",
       "      <td>skoda</td>\n",
       "      <td>no</td>\n",
       "      <td>0</td>\n",
       "    </tr>\n",
       "    <tr>\n",
       "      <th>354362</th>\n",
       "      <td>3200</td>\n",
       "      <td>sedan</td>\n",
       "      <td>2004</td>\n",
       "      <td>manual</td>\n",
       "      <td>225</td>\n",
       "      <td>leon</td>\n",
       "      <td>150000</td>\n",
       "      <td>petrol</td>\n",
       "      <td>seat</td>\n",
       "      <td>yes</td>\n",
       "      <td>0</td>\n",
       "    </tr>\n",
       "    <tr>\n",
       "      <th>354366</th>\n",
       "      <td>1199</td>\n",
       "      <td>convertible</td>\n",
       "      <td>2000</td>\n",
       "      <td>auto</td>\n",
       "      <td>101</td>\n",
       "      <td>fortwo</td>\n",
       "      <td>125000</td>\n",
       "      <td>petrol</td>\n",
       "      <td>smart</td>\n",
       "      <td>no</td>\n",
       "      <td>0</td>\n",
       "    </tr>\n",
       "    <tr>\n",
       "      <th>354367</th>\n",
       "      <td>9200</td>\n",
       "      <td>bus</td>\n",
       "      <td>1996</td>\n",
       "      <td>manual</td>\n",
       "      <td>102</td>\n",
       "      <td>transporter</td>\n",
       "      <td>150000</td>\n",
       "      <td>gasoline</td>\n",
       "      <td>volkswagen</td>\n",
       "      <td>no</td>\n",
       "      <td>0</td>\n",
       "    </tr>\n",
       "    <tr>\n",
       "      <th>354368</th>\n",
       "      <td>3400</td>\n",
       "      <td>wagon</td>\n",
       "      <td>2002</td>\n",
       "      <td>manual</td>\n",
       "      <td>100</td>\n",
       "      <td>golf</td>\n",
       "      <td>150000</td>\n",
       "      <td>gasoline</td>\n",
       "      <td>volkswagen</td>\n",
       "      <td>no</td>\n",
       "      <td>0</td>\n",
       "    </tr>\n",
       "  </tbody>\n",
       "</table>\n",
       "<p>235330 rows × 11 columns</p>\n",
       "</div>"
      ],
      "text/plain": [
       "        Price  VehicleType  RegistrationYear Gearbox  Power        Model  \\\n",
       "1       18300        coupe              2011  manual    190  uncpecified   \n",
       "2        9800          suv              2004    auto    163        grand   \n",
       "3        1500        small              2001  manual     75         golf   \n",
       "4        3600        small              2008  manual     69        fabia   \n",
       "5         650        sedan              1995  manual    102          3er   \n",
       "...       ...          ...               ...     ...    ...          ...   \n",
       "354357   1690        wagon              2004  manual     55        fabia   \n",
       "354362   3200        sedan              2004  manual    225         leon   \n",
       "354366   1199  convertible              2000    auto    101       fortwo   \n",
       "354367   9200          bus              1996  manual    102  transporter   \n",
       "354368   3400        wagon              2002  manual    100         golf   \n",
       "\n",
       "        Kilometer  FuelType       Brand Repaired  NumberOfPictures  \n",
       "1          125000  gasoline        audi      yes                 0  \n",
       "2          125000  gasoline        jeep       no                 0  \n",
       "3          150000    petrol  volkswagen       no                 0  \n",
       "4           90000  gasoline       skoda       no                 0  \n",
       "5          150000    petrol         bmw      yes                 0  \n",
       "...           ...       ...         ...      ...               ...  \n",
       "354357     150000    petrol       skoda       no                 0  \n",
       "354362     150000    petrol        seat      yes                 0  \n",
       "354366     125000    petrol       smart       no                 0  \n",
       "354367     150000  gasoline  volkswagen       no                 0  \n",
       "354368     150000  gasoline  volkswagen       no                 0  \n",
       "\n",
       "[235330 rows x 11 columns]"
      ]
     },
     "execution_count": 74,
     "metadata": {},
     "output_type": "execute_result"
    }
   ],
   "source": [
    "data"
   ]
  },
  {
   "cell_type": "code",
   "execution_count": 75,
   "metadata": {},
   "outputs": [
    {
     "name": "stdout",
     "output_type": "stream",
     "text": [
      "0.0 0.0\n"
     ]
    },
    {
     "data": {
      "text/plain": [
       "count    235330.0\n",
       "mean          0.0\n",
       "std           0.0\n",
       "min           0.0\n",
       "25%           0.0\n",
       "50%           0.0\n",
       "75%           0.0\n",
       "max           0.0\n",
       "Name: NumberOfPictures, dtype: float64"
      ]
     },
     "execution_count": 75,
     "metadata": {},
     "output_type": "execute_result"
    },
    {
     "data": {
      "image/png": "[encoded data removed]",
      "text/plain": [
       "<Figure size 500x500 with 1 Axes>"
      ]
     },
     "metadata": {},
     "output_type": "display_data"
    }
   ],
   "source": [
    "clean_data = quant('NumberOfPictures')\n",
    "data['NumberOfPictures'].describe()"
   ]
  },
  {
   "cell_type": "code",
   "execution_count": 76,
   "metadata": {},
   "outputs": [
    {
     "data": {
      "text/plain": [
       "0    235330\n",
       "Name: NumberOfPictures, dtype: int64"
      ]
     },
     "execution_count": 76,
     "metadata": {},
     "output_type": "execute_result"
    }
   ],
   "source": [
    "data['NumberOfPictures'].value_counts()"
   ]
  },
  {
   "cell_type": "code",
   "execution_count": 77,
   "metadata": {},
   "outputs": [],
   "source": [
    "data = data.drop('NumberOfPictures', axis=1)"
   ]
  },
  {
   "cell_type": "code",
   "execution_count": 78,
   "metadata": {},
   "outputs": [
    {
     "data": {
      "text/html": [
       "<div>\n",
       "<style scoped>\n",
       "    .dataframe tbody tr th:only-of-type {\n",
       "        vertical-align: middle;\n",
       "    }\n",
       "\n",
       "    .dataframe tbody tr th {\n",
       "        vertical-align: top;\n",
       "    }\n",
       "\n",
       "    .dataframe thead th {\n",
       "        text-align: right;\n",
       "    }\n",
       "</style>\n",
       "<table border=\"1\" class=\"dataframe\">\n",
       "  <thead>\n",
       "    <tr style=\"text-align: right;\">\n",
       "      <th></th>\n",
       "      <th>Price</th>\n",
       "      <th>VehicleType</th>\n",
       "      <th>RegistrationYear</th>\n",
       "      <th>Gearbox</th>\n",
       "      <th>Power</th>\n",
       "      <th>Model</th>\n",
       "      <th>Kilometer</th>\n",
       "      <th>FuelType</th>\n",
       "      <th>Brand</th>\n",
       "      <th>Repaired</th>\n",
       "    </tr>\n",
       "  </thead>\n",
       "  <tbody>\n",
       "    <tr>\n",
       "      <th>1</th>\n",
       "      <td>18300</td>\n",
       "      <td>coupe</td>\n",
       "      <td>2011</td>\n",
       "      <td>manual</td>\n",
       "      <td>190</td>\n",
       "      <td>uncpecified</td>\n",
       "      <td>125000</td>\n",
       "      <td>gasoline</td>\n",
       "      <td>audi</td>\n",
       "      <td>yes</td>\n",
       "    </tr>\n",
       "    <tr>\n",
       "      <th>2</th>\n",
       "      <td>9800</td>\n",
       "      <td>suv</td>\n",
       "      <td>2004</td>\n",
       "      <td>auto</td>\n",
       "      <td>163</td>\n",
       "      <td>grand</td>\n",
       "      <td>125000</td>\n",
       "      <td>gasoline</td>\n",
       "      <td>jeep</td>\n",
       "      <td>no</td>\n",
       "    </tr>\n",
       "    <tr>\n",
       "      <th>3</th>\n",
       "      <td>1500</td>\n",
       "      <td>small</td>\n",
       "      <td>2001</td>\n",
       "      <td>manual</td>\n",
       "      <td>75</td>\n",
       "      <td>golf</td>\n",
       "      <td>150000</td>\n",
       "      <td>petrol</td>\n",
       "      <td>volkswagen</td>\n",
       "      <td>no</td>\n",
       "    </tr>\n",
       "    <tr>\n",
       "      <th>4</th>\n",
       "      <td>3600</td>\n",
       "      <td>small</td>\n",
       "      <td>2008</td>\n",
       "      <td>manual</td>\n",
       "      <td>69</td>\n",
       "      <td>fabia</td>\n",
       "      <td>90000</td>\n",
       "      <td>gasoline</td>\n",
       "      <td>skoda</td>\n",
       "      <td>no</td>\n",
       "    </tr>\n",
       "    <tr>\n",
       "      <th>5</th>\n",
       "      <td>650</td>\n",
       "      <td>sedan</td>\n",
       "      <td>1995</td>\n",
       "      <td>manual</td>\n",
       "      <td>102</td>\n",
       "      <td>3er</td>\n",
       "      <td>150000</td>\n",
       "      <td>petrol</td>\n",
       "      <td>bmw</td>\n",
       "      <td>yes</td>\n",
       "    </tr>\n",
       "  </tbody>\n",
       "</table>\n",
       "</div>"
      ],
      "text/plain": [
       "   Price VehicleType  RegistrationYear Gearbox  Power        Model  Kilometer  \\\n",
       "1  18300       coupe              2011  manual    190  uncpecified     125000   \n",
       "2   9800         suv              2004    auto    163        grand     125000   \n",
       "3   1500       small              2001  manual     75         golf     150000   \n",
       "4   3600       small              2008  manual     69        fabia      90000   \n",
       "5    650       sedan              1995  manual    102          3er     150000   \n",
       "\n",
       "   FuelType       Brand Repaired  \n",
       "1  gasoline        audi      yes  \n",
       "2  gasoline        jeep       no  \n",
       "3    petrol  volkswagen       no  \n",
       "4  gasoline       skoda       no  \n",
       "5    petrol         bmw      yes  "
      ]
     },
     "execution_count": 78,
     "metadata": {},
     "output_type": "execute_result"
    }
   ],
   "source": [
    "data.head()"
   ]
  },
  {
   "cell_type": "code",
   "execution_count": 79,
   "metadata": {},
   "outputs": [
    {
     "name": "stdout",
     "output_type": "stream",
     "text": [
      "<class 'pandas.core.frame.DataFrame'>\n",
      "Int64Index: 235330 entries, 1 to 354368\n",
      "Data columns (total 10 columns):\n",
      " #   Column            Non-Null Count   Dtype \n",
      "---  ------            --------------   ----- \n",
      " 0   Price             235330 non-null  int64 \n",
      " 1   VehicleType       235330 non-null  object\n",
      " 2   RegistrationYear  235330 non-null  int64 \n",
      " 3   Gearbox           235330 non-null  object\n",
      " 4   Power             235330 non-null  int64 \n",
      " 5   Model             235330 non-null  object\n",
      " 6   Kilometer         235330 non-null  int64 \n",
      " 7   FuelType          235330 non-null  object\n",
      " 8   Brand             235330 non-null  object\n",
      " 9   Repaired          235330 non-null  object\n",
      "dtypes: int64(4), object(6)\n",
      "memory usage: 19.7+ MB\n"
     ]
    }
   ],
   "source": [
    "data.info()"
   ]
  },
  {
   "cell_type": "markdown",
   "metadata": {},
   "source": [
    "<div style=\"border:solid #81d8e6 2px; padding: 10px\">\n",
    "Мы удалили выбросы. \n",
    "    \n",
    "    - максимальное число лошадиных сил - 620, а средняя мощность машин по миру составляет 212, в России 190, следовательно, мы можем доверять интервалу до 254 лс; важное уточнение, что самая маломощная машина имеет 13.5 лошадиных сил, поэтому снизу данные мы также ограничиваем.\n",
    "    - сейчас 2023 год, поэтому все данные, год выпуска в которых больше 2023, можно удалить.\n",
    "    - если во всём столбце NumberOfPictures одинаковые данные, то можно его удалить и отправить запрос разработчикам на проверку, потому что это скорее всего ошибка во время сбора данных.\n",
    "</div>"
   ]
  },
  {
   "cell_type": "markdown",
   "metadata": {},
   "source": [
    "### Проверка на мультиколлинеарность"
   ]
  },
  {
   "cell_type": "code",
   "execution_count": 80,
   "metadata": {},
   "outputs": [
    {
     "data": {
      "image/png": "[encoded data removed]",
      "text/plain": [
       "<Figure size 640x480 with 2 Axes>"
      ]
     },
     "metadata": {},
     "output_type": "display_data"
    }
   ],
   "source": [
    "sns.heatmap(data.corr(), \n",
    "            annot = True, \n",
    "            fmt='.1g', \n",
    "            cbar_kws= {'orientation': 'horizontal'}).set_title('Проверка на мультиколлинеарность');"
   ]
  },
  {
   "cell_type": "markdown",
   "metadata": {},
   "source": [
    "<div style=\"border:solid #81d8e6 2px; padding: 10px\">\n",
    "У нас нет сильно коррелирующих параметров.\n",
    "</div>"
   ]
  },
  {
   "cell_type": "markdown",
   "metadata": {},
   "source": [
    "### Вывод по предобработке данных"
   ]
  },
  {
   "cell_type": "markdown",
   "metadata": {},
   "source": [
    "<div style=\"border:solid #81d8e6 2px; padding: 10px\">\n",
    "    \n",
    "    - Мы удалили неинформативные или пустые столбцы\n",
    "    - Мы провели работу с пропусками\n",
    "    - Мы удалили дубликаты\n",
    "    - Мы провели работу с типами столбцов\n",
    "    - Мы провели работу с выбросами, на основании реальных данных и статистических закономерностей\n",
    "    - Мы проверили параметры на мультиколлинеарность\n",
    "</div>"
   ]
  },
  {
   "cell_type": "markdown",
   "metadata": {},
   "source": [
    "## Обучение моделей"
   ]
  },
  {
   "cell_type": "markdown",
   "metadata": {},
   "source": [
    "### Подготовка данных к обучению"
   ]
  },
  {
   "cell_type": "markdown",
   "metadata": {},
   "source": [
    "#### Разделение выборок"
   ]
  },
  {
   "cell_type": "code",
   "execution_count": 81,
   "metadata": {},
   "outputs": [
    {
     "name": "stdout",
     "output_type": "stream",
     "text": [
      "Количество строк в features_train: 0.75 выборки\n",
      "Количество строк в features_valid: 0.25 выборки\n"
     ]
    }
   ],
   "source": [
    "features = data.drop('Price', axis=1)\n",
    "target = data['Price']\n",
    "\n",
    "features_train, features_test, target_train, target_test = train_test_split(\n",
    "    features, target, test_size=0.25, random_state=RANDOM_STATE)\n",
    "\n",
    "\n",
    "print(f\"Количество строк в features_train: {features_train.shape[0]/data.shape[0]:1.2} выборки\")\n",
    "print(f\"Количество строк в features_valid: {features_test.shape[0]/data.shape[0]:1.2} выборки\")"
   ]
  },
  {
   "cell_type": "markdown",
   "metadata": {},
   "source": [
    "#### Масштабирование и кодирование"
   ]
  },
  {
   "cell_type": "code",
   "execution_count": 82,
   "metadata": {},
   "outputs": [],
   "source": [
    "from sklearn.preprocessing import StandardScaler"
   ]
  },
  {
   "cell_type": "code",
   "execution_count": 83,
   "metadata": {},
   "outputs": [
    {
     "data": {
      "text/html": [
       "<div>\n",
       "<style scoped>\n",
       "    .dataframe tbody tr th:only-of-type {\n",
       "        vertical-align: middle;\n",
       "    }\n",
       "\n",
       "    .dataframe tbody tr th {\n",
       "        vertical-align: top;\n",
       "    }\n",
       "\n",
       "    .dataframe thead th {\n",
       "        text-align: right;\n",
       "    }\n",
       "</style>\n",
       "<table border=\"1\" class=\"dataframe\">\n",
       "  <thead>\n",
       "    <tr style=\"text-align: right;\">\n",
       "      <th></th>\n",
       "      <th>Price</th>\n",
       "      <th>VehicleType</th>\n",
       "      <th>RegistrationYear</th>\n",
       "      <th>Gearbox</th>\n",
       "      <th>Power</th>\n",
       "      <th>Model</th>\n",
       "      <th>Kilometer</th>\n",
       "      <th>FuelType</th>\n",
       "      <th>Brand</th>\n",
       "      <th>Repaired</th>\n",
       "    </tr>\n",
       "  </thead>\n",
       "  <tbody>\n",
       "    <tr>\n",
       "      <th>1</th>\n",
       "      <td>18300</td>\n",
       "      <td>coupe</td>\n",
       "      <td>2011</td>\n",
       "      <td>manual</td>\n",
       "      <td>190</td>\n",
       "      <td>uncpecified</td>\n",
       "      <td>125000</td>\n",
       "      <td>gasoline</td>\n",
       "      <td>audi</td>\n",
       "      <td>yes</td>\n",
       "    </tr>\n",
       "    <tr>\n",
       "      <th>2</th>\n",
       "      <td>9800</td>\n",
       "      <td>suv</td>\n",
       "      <td>2004</td>\n",
       "      <td>auto</td>\n",
       "      <td>163</td>\n",
       "      <td>grand</td>\n",
       "      <td>125000</td>\n",
       "      <td>gasoline</td>\n",
       "      <td>jeep</td>\n",
       "      <td>no</td>\n",
       "    </tr>\n",
       "    <tr>\n",
       "      <th>3</th>\n",
       "      <td>1500</td>\n",
       "      <td>small</td>\n",
       "      <td>2001</td>\n",
       "      <td>manual</td>\n",
       "      <td>75</td>\n",
       "      <td>golf</td>\n",
       "      <td>150000</td>\n",
       "      <td>petrol</td>\n",
       "      <td>volkswagen</td>\n",
       "      <td>no</td>\n",
       "    </tr>\n",
       "    <tr>\n",
       "      <th>4</th>\n",
       "      <td>3600</td>\n",
       "      <td>small</td>\n",
       "      <td>2008</td>\n",
       "      <td>manual</td>\n",
       "      <td>69</td>\n",
       "      <td>fabia</td>\n",
       "      <td>90000</td>\n",
       "      <td>gasoline</td>\n",
       "      <td>skoda</td>\n",
       "      <td>no</td>\n",
       "    </tr>\n",
       "    <tr>\n",
       "      <th>5</th>\n",
       "      <td>650</td>\n",
       "      <td>sedan</td>\n",
       "      <td>1995</td>\n",
       "      <td>manual</td>\n",
       "      <td>102</td>\n",
       "      <td>3er</td>\n",
       "      <td>150000</td>\n",
       "      <td>petrol</td>\n",
       "      <td>bmw</td>\n",
       "      <td>yes</td>\n",
       "    </tr>\n",
       "    <tr>\n",
       "      <th>...</th>\n",
       "      <td>...</td>\n",
       "      <td>...</td>\n",
       "      <td>...</td>\n",
       "      <td>...</td>\n",
       "      <td>...</td>\n",
       "      <td>...</td>\n",
       "      <td>...</td>\n",
       "      <td>...</td>\n",
       "      <td>...</td>\n",
       "      <td>...</td>\n",
       "    </tr>\n",
       "    <tr>\n",
       "      <th>354357</th>\n",
       "      <td>1690</td>\n",
       "      <td>wagon</td>\n",
       "      <td>2004</td>\n",
       "      <td>manual</td>\n",
       "      <td>55</td>\n",
       "      <td>fabia</td>\n",
       "      <td>150000</td>\n",
       "      <td>petrol</td>\n",
       "      <td>skoda</td>\n",
       "      <td>no</td>\n",
       "    </tr>\n",
       "    <tr>\n",
       "      <th>354362</th>\n",
       "      <td>3200</td>\n",
       "      <td>sedan</td>\n",
       "      <td>2004</td>\n",
       "      <td>manual</td>\n",
       "      <td>225</td>\n",
       "      <td>leon</td>\n",
       "      <td>150000</td>\n",
       "      <td>petrol</td>\n",
       "      <td>seat</td>\n",
       "      <td>yes</td>\n",
       "    </tr>\n",
       "    <tr>\n",
       "      <th>354366</th>\n",
       "      <td>1199</td>\n",
       "      <td>convertible</td>\n",
       "      <td>2000</td>\n",
       "      <td>auto</td>\n",
       "      <td>101</td>\n",
       "      <td>fortwo</td>\n",
       "      <td>125000</td>\n",
       "      <td>petrol</td>\n",
       "      <td>smart</td>\n",
       "      <td>no</td>\n",
       "    </tr>\n",
       "    <tr>\n",
       "      <th>354367</th>\n",
       "      <td>9200</td>\n",
       "      <td>bus</td>\n",
       "      <td>1996</td>\n",
       "      <td>manual</td>\n",
       "      <td>102</td>\n",
       "      <td>transporter</td>\n",
       "      <td>150000</td>\n",
       "      <td>gasoline</td>\n",
       "      <td>volkswagen</td>\n",
       "      <td>no</td>\n",
       "    </tr>\n",
       "    <tr>\n",
       "      <th>354368</th>\n",
       "      <td>3400</td>\n",
       "      <td>wagon</td>\n",
       "      <td>2002</td>\n",
       "      <td>manual</td>\n",
       "      <td>100</td>\n",
       "      <td>golf</td>\n",
       "      <td>150000</td>\n",
       "      <td>gasoline</td>\n",
       "      <td>volkswagen</td>\n",
       "      <td>no</td>\n",
       "    </tr>\n",
       "  </tbody>\n",
       "</table>\n",
       "<p>235330 rows × 10 columns</p>\n",
       "</div>"
      ],
      "text/plain": [
       "        Price  VehicleType  RegistrationYear Gearbox  Power        Model  \\\n",
       "1       18300        coupe              2011  manual    190  uncpecified   \n",
       "2        9800          suv              2004    auto    163        grand   \n",
       "3        1500        small              2001  manual     75         golf   \n",
       "4        3600        small              2008  manual     69        fabia   \n",
       "5         650        sedan              1995  manual    102          3er   \n",
       "...       ...          ...               ...     ...    ...          ...   \n",
       "354357   1690        wagon              2004  manual     55        fabia   \n",
       "354362   3200        sedan              2004  manual    225         leon   \n",
       "354366   1199  convertible              2000    auto    101       fortwo   \n",
       "354367   9200          bus              1996  manual    102  transporter   \n",
       "354368   3400        wagon              2002  manual    100         golf   \n",
       "\n",
       "        Kilometer  FuelType       Brand Repaired  \n",
       "1          125000  gasoline        audi      yes  \n",
       "2          125000  gasoline        jeep       no  \n",
       "3          150000    petrol  volkswagen       no  \n",
       "4           90000  gasoline       skoda       no  \n",
       "5          150000    petrol         bmw      yes  \n",
       "...           ...       ...         ...      ...  \n",
       "354357     150000    petrol       skoda       no  \n",
       "354362     150000    petrol        seat      yes  \n",
       "354366     125000    petrol       smart       no  \n",
       "354367     150000  gasoline  volkswagen       no  \n",
       "354368     150000  gasoline  volkswagen       no  \n",
       "\n",
       "[235330 rows x 10 columns]"
      ]
     },
     "execution_count": 83,
     "metadata": {},
     "output_type": "execute_result"
    }
   ],
   "source": [
    "data"
   ]
  },
  {
   "cell_type": "code",
   "execution_count": 84,
   "metadata": {},
   "outputs": [],
   "source": [
    "num_columns = ['RegistrationYear', 'Power']\n",
    "cat_columns = ['VehicleType', 'Gearbox', 'Model', 'FuelType', 'Brand', 'Repaired', 'Kilometer']\n",
    "\n",
    "transformer = ColumnTransformer(\n",
    "    [(\"enc\", OrdinalEncoder(handle_unknown=\"use_encoded_value\", unknown_value=-1), cat_columns)],\n",
    "    remainder='passthrough'\n",
    ")\n",
    "\n",
    "transformer_linear = ColumnTransformer(\n",
    "            [(\"ohe\", OneHotEncoder(handle_unknown = 'ignore', sparse=False, drop='first'), cat_columns),\n",
    "            (\"scaler\", StandardScaler(), num_columns)],\n",
    "            remainder='passthrough'\n",
    ") "
   ]
  },
  {
   "cell_type": "markdown",
   "metadata": {},
   "source": [
    "<div style=\"border:solid #81d8e6 2px; padding: 10px\">\n",
    "Теперь в одних моделях обучения (форест и дерево, например) будем применять порядковое кодирование, а в линейной регрессии категориальные признаки будем кодировать, а числовые масштабировать.\n",
    "</div>"
   ]
  },
  {
   "cell_type": "markdown",
   "metadata": {},
   "source": [
    "### Обучение моделей"
   ]
  },
  {
   "cell_type": "code",
   "execution_count": 85,
   "metadata": {},
   "outputs": [],
   "source": [
    "def fit_model(estimator, param_grid, X_train, y_train):\n",
    "    model = GridSearchCV(estimator=estimator, \n",
    "                            param_grid=param_grid, \n",
    "                            n_jobs=-1, \n",
    "                            cv=4,\n",
    "                            scoring='neg_root_mean_squared_error')\n",
    "\n",
    "    model.fit(X_train, y_train)\n",
    "\n",
    "    best_index = model.best_index_\n",
    "    best_rmse = round(model.cv_results_['mean_test_score'][best_index], 1)\n",
    "\n",
    "    print(f\"Best RMSE: {abs(best_rmse)}\")\n",
    "    print(f\"Best params: {model.best_params_}\")\n",
    "\n",
    "    return model.best_estimator_"
   ]
  },
  {
   "cell_type": "markdown",
   "metadata": {},
   "source": [
    "<div style=\"border:solid #81d8e6 2px; padding: 10px\">\n",
    "Создаём функцию GridSearch\n",
    "</div>"
   ]
  },
  {
   "cell_type": "markdown",
   "metadata": {},
   "source": [
    "#### Лес решений"
   ]
  },
  {
   "cell_type": "code",
   "execution_count": 106,
   "metadata": {},
   "outputs": [
    {
     "name": "stdout",
     "output_type": "stream",
     "text": [
      "Best RMSE: 1630.3\n",
      "Best params: {'rf__max_depth': 20, 'rf__n_estimators': 70}\n",
      "Wall time: 3min 27s\n"
     ]
    }
   ],
   "source": [
    "%%time\n",
    "\n",
    "rf_estimator = Pipeline([\n",
    "    ('transformer', transformer),\n",
    "    ('rf', RandomForestRegressor(random_state=RANDOM_STATE, n_jobs=-1))\n",
    "])\n",
    "\n",
    "rf_param_grid =  {\n",
    "    'rf__n_estimators': list(range(10, 80, 10)),\n",
    "    \"rf__max_depth\": list(range(10, 40, 10)),\n",
    "}\n",
    "\n",
    "rf_best_model = fit_model(\n",
    "    estimator=rf_estimator,\n",
    "    param_grid=rf_param_grid,\n",
    "    X_train=features_train,\n",
    "    y_train=target_train\n",
    ")"
   ]
  },
  {
   "cell_type": "markdown",
   "metadata": {},
   "source": [
    "#### LightGBM"
   ]
  },
  {
   "cell_type": "code",
   "execution_count": 91,
   "metadata": {},
   "outputs": [],
   "source": [
    "features_train_lgbm = features_train.copy()\n",
    "features_train_lgbm[cat_columns] = features_train_lgbm[cat_columns].astype(\"category\")"
   ]
  },
  {
   "cell_type": "code",
   "execution_count": 110,
   "metadata": {},
   "outputs": [
    {
     "name": "stdout",
     "output_type": "stream",
     "text": [
      "Best RMSE: 1533.9\n",
      "Best params: {'learning_rate': 0.1, 'max_depth': 16, 'n_estimators': 400}\n",
      "Wall time: 2min 22s\n"
     ]
    }
   ],
   "source": [
    "%%time\n",
    "\n",
    "lgbm_estimator = LGBMRegressor(random_state=RANDOM_STATE, n_jobs=-1)\n",
    "\n",
    "lgbm_param_grid = {\n",
    "    \"n_estimators\": range(300, 401, 10), \n",
    "    \"max_depth\": range(10, 21, 3),\n",
    "    'learning_rate': [0.1, 0.2]\n",
    "}\n",
    "\n",
    "lgbm_best_model = fit_model(\n",
    "    estimator=lgbm_estimator,\n",
    "    param_grid=lgbm_param_grid,\n",
    "    X_train=features_train_lgbm,\n",
    "    y_train=target_train\n",
    ")"
   ]
  },
  {
   "cell_type": "markdown",
   "metadata": {},
   "source": [
    "#### CatBoost"
   ]
  },
  {
   "cell_type": "code",
   "execution_count": 107,
   "metadata": {},
   "outputs": [
    {
     "name": "stdout",
     "output_type": "stream",
     "text": [
      "Best RMSE: 1550.8\n",
      "Best params: {'depth': 12, 'iterations': 200, 'learning_rate': 0.15}\n",
      "Wall time: 9min 57s\n"
     ]
    }
   ],
   "source": [
    "%%time\n",
    "\n",
    "catboost_estimator = CatBoostRegressor(random_state=RANDOM_STATE, verbose=False, cat_features=cat_columns)\n",
    "\n",
    "catboost_param_grid = {\n",
    "    \"iterations\": range(100, 201, 25),\n",
    "    \"learning_rate\": [0.15, 0.25],\n",
    "    \"depth\": range(3, 13, 3)\n",
    "}\n",
    "\n",
    "catboost_best_model = fit_model(\n",
    "    estimator=catboost_estimator,\n",
    "    param_grid=catboost_param_grid,\n",
    "    X_train=features_train,\n",
    "    y_train=target_train\n",
    ")"
   ]
  },
  {
   "cell_type": "markdown",
   "metadata": {},
   "source": [
    "(сократил выбор гиперпараметров, потому что на данный момент нет времени ждать так долго)"
   ]
  },
  {
   "cell_type": "markdown",
   "metadata": {},
   "source": [
    "### Мини вывод"
   ]
  },
  {
   "cell_type": "markdown",
   "metadata": {},
   "source": [
    "<div style=\"border:solid #81d8e6 2px; padding: 10px\">\n",
    "Все наши модели достигли нужного критерия: RMSE ниже 2500. Теперь можем приступить к анализу.\n",
    "</div>"
   ]
  },
  {
   "cell_type": "markdown",
   "metadata": {},
   "source": [
    "## Анализ моделей"
   ]
  },
  {
   "cell_type": "markdown",
   "metadata": {},
   "source": [
    "### Рассмотрение качества моделей"
   ]
  },
  {
   "cell_type": "markdown",
   "metadata": {},
   "source": [
    "#### Лес решений"
   ]
  },
  {
   "cell_type": "code",
   "execution_count": 111,
   "metadata": {},
   "outputs": [],
   "source": [
    "features_train_transformed = transformer.fit_transform(features_train)"
   ]
  },
  {
   "cell_type": "code",
   "execution_count": 112,
   "metadata": {},
   "outputs": [
    {
     "name": "stdout",
     "output_type": "stream",
     "text": [
      "Wall time: 2.86 s\n"
     ]
    }
   ],
   "source": [
    "%%time\n",
    "rf = RandomForestRegressor(\n",
    "    n_estimators=70,\n",
    "    max_depth=20,\n",
    "    random_state=RANDOM_STATE,\n",
    "    n_jobs=-1).fit(features_train_transformed, target_train)"
   ]
  },
  {
   "cell_type": "code",
   "execution_count": 113,
   "metadata": {},
   "outputs": [
    {
     "name": "stdout",
     "output_type": "stream",
     "text": [
      "Wall time: 523 ms\n"
     ]
    },
    {
     "data": {
      "text/plain": [
       "array([15267.67261404,   971.18502405,  1191.98953829, ...,\n",
       "       17082.52374501,  8233.19232048,   459.27687631])"
      ]
     },
     "execution_count": 113,
     "metadata": {},
     "output_type": "execute_result"
    }
   ],
   "source": [
    "%%time\n",
    "rf.predict(features_train_transformed)"
   ]
  },
  {
   "cell_type": "markdown",
   "metadata": {},
   "source": [
    "#### LightGBM"
   ]
  },
  {
   "cell_type": "code",
   "execution_count": 114,
   "metadata": {},
   "outputs": [
    {
     "name": "stdout",
     "output_type": "stream",
     "text": [
      "Wall time: 1.33 s\n"
     ]
    }
   ],
   "source": [
    "%%time\n",
    "lgbm = LGBMRegressor(\n",
    "    learning_rate=0.1,\n",
    "    max_depth=16,\n",
    "    n_estimators=400,\n",
    "    random_state=RANDOM_STATE,\n",
    "    n_jobs=-1).fit(features_train_lgbm, target_train)"
   ]
  },
  {
   "cell_type": "code",
   "execution_count": 115,
   "metadata": {},
   "outputs": [
    {
     "name": "stdout",
     "output_type": "stream",
     "text": [
      "Wall time: 601 ms\n"
     ]
    },
    {
     "data": {
      "text/plain": [
       "array([13842.20312161,   965.11116312,  1163.52965249, ...,\n",
       "       18119.97736249,  8391.31499243,   382.45620207])"
      ]
     },
     "execution_count": 115,
     "metadata": {},
     "output_type": "execute_result"
    }
   ],
   "source": [
    "%%time\n",
    "lgbm.predict(features_train_lgbm)"
   ]
  },
  {
   "cell_type": "markdown",
   "metadata": {},
   "source": [
    "#### CatBoost"
   ]
  },
  {
   "cell_type": "code",
   "execution_count": 116,
   "metadata": {},
   "outputs": [
    {
     "name": "stdout",
     "output_type": "stream",
     "text": [
      "Wall time: 45.9 s\n"
     ]
    }
   ],
   "source": [
    "%%time\n",
    "cat = CatBoostRegressor(\n",
    "    depth=12,\n",
    "    iterations=200,\n",
    "    learning_rate=0.15,\n",
    "    random_state=RANDOM_STATE,\n",
    "    cat_features=cat_columns,\n",
    "    verbose=False).fit(features_train, target_train)"
   ]
  },
  {
   "cell_type": "code",
   "execution_count": 117,
   "metadata": {},
   "outputs": [
    {
     "name": "stdout",
     "output_type": "stream",
     "text": [
      "Wall time: 661 ms\n"
     ]
    },
    {
     "data": {
      "text/plain": [
       "array([14311.96545242,   902.68799897,  1096.99157452, ...,\n",
       "       17572.6556635 ,  8243.57787178,   449.27721652])"
      ]
     },
     "execution_count": 117,
     "metadata": {},
     "output_type": "execute_result"
    }
   ],
   "source": [
    "%%time\n",
    "cat.predict(features_train)"
   ]
  },
  {
   "cell_type": "code",
   "execution_count": 96,
   "metadata": {},
   "outputs": [
    {
     "data": {
      "text/plain": [
       "176497"
      ]
     },
     "execution_count": 96,
     "metadata": {},
     "output_type": "execute_result"
    }
   ],
   "source": [
    "len(features_train_transformed)"
   ]
  },
  {
   "cell_type": "code",
   "execution_count": 118,
   "metadata": {},
   "outputs": [
    {
     "data": {
      "text/html": [
       "<div>\n",
       "<style scoped>\n",
       "    .dataframe tbody tr th:only-of-type {\n",
       "        vertical-align: middle;\n",
       "    }\n",
       "\n",
       "    .dataframe tbody tr th {\n",
       "        vertical-align: top;\n",
       "    }\n",
       "\n",
       "    .dataframe thead th {\n",
       "        text-align: right;\n",
       "    }\n",
       "</style>\n",
       "<table border=\"1\" class=\"dataframe\">\n",
       "  <thead>\n",
       "    <tr style=\"text-align: right;\">\n",
       "      <th></th>\n",
       "      <th>fit, s</th>\n",
       "      <th>predict, s</th>\n",
       "      <th>predicts one line, mcs</th>\n",
       "      <th>rmse</th>\n",
       "    </tr>\n",
       "  </thead>\n",
       "  <tbody>\n",
       "    <tr>\n",
       "      <th>RandomForest</th>\n",
       "      <td>2.86</td>\n",
       "      <td>0.523</td>\n",
       "      <td>2.960942</td>\n",
       "      <td>1630.3</td>\n",
       "    </tr>\n",
       "    <tr>\n",
       "      <th>LGBM</th>\n",
       "      <td>1.33</td>\n",
       "      <td>0.601</td>\n",
       "      <td>3.402535</td>\n",
       "      <td>1533.9</td>\n",
       "    </tr>\n",
       "    <tr>\n",
       "      <th>CatBoost</th>\n",
       "      <td>45.90</td>\n",
       "      <td>1.050</td>\n",
       "      <td>3.742223</td>\n",
       "      <td>1550.8</td>\n",
       "    </tr>\n",
       "  </tbody>\n",
       "</table>\n",
       "</div>"
      ],
      "text/plain": [
       "              fit, s  predict, s  predicts one line, mcs    rmse\n",
       "RandomForest    2.86       0.523                2.960942  1630.3\n",
       "LGBM            1.33       0.601                3.402535  1533.9\n",
       "CatBoost       45.90       1.050                3.742223  1550.8"
      ]
     },
     "metadata": {},
     "output_type": "display_data"
    }
   ],
   "source": [
    "values = [[2.86, 0.523, 0.523/176633*1000000, 1630.3],\n",
    "         [1.33, 0.601, 0.601/176633*1000000, 1533.9],\n",
    "         [45.9, 1.05, 0.661/176633*1000000, 1550.8]]\n",
    "table = pd.DataFrame(data=values, columns=['fit, s', 'predict, s', 'predicts one line, mcs', 'rmse'], index=['RandomForest', 'LGBM', 'CatBoost'])\n",
    "display(table)"
   ]
  },
  {
   "cell_type": "markdown",
   "metadata": {},
   "source": [
    "###  Проверка на адекватность"
   ]
  },
  {
   "cell_type": "code",
   "execution_count": 119,
   "metadata": {},
   "outputs": [
    {
     "data": {
      "text/plain": [
       "20000"
      ]
     },
     "execution_count": 119,
     "metadata": {},
     "output_type": "execute_result"
    }
   ],
   "source": [
    "max(target)"
   ]
  },
  {
   "cell_type": "code",
   "execution_count": 120,
   "metadata": {},
   "outputs": [
    {
     "name": "stdout",
     "output_type": "stream",
     "text": [
      "RMSE на тестовой: 6615.2\n"
     ]
    }
   ],
   "source": [
    "random_prediction = [random.randint(0, 14499) for i in range(len(features_test))]\n",
    "rmse = mean_squared_error(target_test, random_prediction) ** 0.5\n",
    "print(f\"RMSE на тестовой: {rmse:.1f}\")"
   ]
  },
  {
   "cell_type": "markdown",
   "metadata": {},
   "source": [
    "<div style=\"border:solid #81d8e6 2px; padding: 10px\">\n",
    "RMSE случайных предсказаний далеко от RMSE наших моделей: модели прошли проверку на адекватность.\n",
    "</div>"
   ]
  },
  {
   "cell_type": "markdown",
   "metadata": {},
   "source": [
    "### Вывод: лучшая модель"
   ]
  },
  {
   "cell_type": "markdown",
   "metadata": {},
   "source": [
    "#### Самая качественная модель"
   ]
  },
  {
   "cell_type": "code",
   "execution_count": 121,
   "metadata": {},
   "outputs": [
    {
     "name": "stdout",
     "output_type": "stream",
     "text": [
      "RMSE на тестовой: 1539.8\n",
      "Wall time: 351 ms\n"
     ]
    }
   ],
   "source": [
    "%%time\n",
    "features_test_lgbm = features_test.copy()\n",
    "features_test_lgbm[cat_columns] = features_test_lgbm[cat_columns].astype(\"category\")\n",
    "\n",
    "rmse = mean_squared_error(target_test, lgbm.predict(features_test_lgbm)) ** 0.5\n",
    "print(f\"RMSE на тестовой: {rmse:.1f}\")"
   ]
  },
  {
   "cell_type": "markdown",
   "metadata": {},
   "source": [
    "#### Самая быстрая модель"
   ]
  },
  {
   "cell_type": "code",
   "execution_count": 122,
   "metadata": {},
   "outputs": [
    {
     "name": "stdout",
     "output_type": "stream",
     "text": [
      "RMSE на тестовой: 1546.8\n",
      "Wall time: 311 ms\n"
     ]
    }
   ],
   "source": [
    "%%time\n",
    "rmse = mean_squared_error(target_test, cat.predict(features_test)) ** 0.5\n",
    "print(f\"RMSE на тестовой: {rmse:.1f}\")"
   ]
  },
  {
   "cell_type": "markdown",
   "metadata": {},
   "source": [
    "## Вывод"
   ]
  },
  {
   "cell_type": "markdown",
   "metadata": {},
   "source": [
    "<div style=\"border:solid #81d8e6 2px; padding: 10px\">\n",
    "<b>Этап работы с данными</b>\n",
    "Мы очистили данные, провели качественную предобработку:\n",
    "    \n",
    "    - удалили неинформативные столбцы\n",
    "    - провели работу с пропусками\n",
    "    - провели работу с дубликатами\n",
    "    - провели работу с типами столбцов\n",
    "    - провели работу с выбросами\n",
    "    - проверили на мультиколлинеарность\n",
    "    - адаптировали данные для моделей\n",
    "    \n",
    "<b>Этап работы с моделями</b> \n",
    "Мы выбрали для работы три модели:\n",
    "    \n",
    "    - Случайный лес решений\n",
    "    - LightGBM\n",
    "    - CatBoost\n",
    "    \n",
    "Каждая модель показала себя качественно во время проверки по RMSE. Однако выбраны были две:\n",
    "    \n",
    "    - Если заказчику важнее качество модели, то лучше передать модель LightGBM\n",
    "    - Если заказчику важнее скорость модели, то лучше передать модель CatBoost\n",
    "    \n",
    "Разница незначительная, поэтому можно использовать две модели:\n",
    "    \n",
    "    \n",
    "    \n",
    "</div>"
   ]
  },
  {
   "cell_type": "code",
   "execution_count": 123,
   "metadata": {},
   "outputs": [],
   "source": [
    "lgbm = LGBMRegressor(\n",
    "    learning_rate=0.1,\n",
    "    max_depth=16,\n",
    "    n_estimators=400,\n",
    "    random_state=RANDOM_STATE,\n",
    "    n_jobs=-1)"
   ]
  },
  {
   "cell_type": "code",
   "execution_count": 124,
   "metadata": {},
   "outputs": [],
   "source": [
    "cat_columns = ['VehicleType', 'Gearbox', 'Model', 'FuelType', 'Brand', 'Repaired', 'Kilometer']\n",
    "cat = CatBoostRegressor(\n",
    "    depth=12,\n",
    "    iterations=200,\n",
    "    learning_rate=0.15,\n",
    "    random_state=RANDOM_STATE,\n",
    "    cat_features=cat_columns,\n",
    "    verbose=False)"
   ]
  }
 ],
 "metadata": {
  "ExecuteTimeLog": [
   {
    "duration": 404,
    "start_time": "2023-01-13T05:10:57.034Z"
   },
   {
    "duration": 3,
    "start_time": "2023-01-13T05:14:42.209Z"
   },
   {
    "duration": 707,
    "start_time": "2023-01-13T05:14:42.363Z"
   },
   {
    "duration": 20,
    "start_time": "2023-01-13T05:14:43.072Z"
   },
   {
    "duration": 464,
    "start_time": "2023-01-13T05:14:43.093Z"
   },
   {
    "duration": 3,
    "start_time": "2023-01-13T05:14:43.559Z"
   },
   {
    "duration": 1181,
    "start_time": "2023-01-13T05:14:45.092Z"
   },
   {
    "duration": 19,
    "start_time": "2023-01-13T05:14:59.966Z"
   },
   {
    "duration": 43,
    "start_time": "2023-01-13T05:17:37.946Z"
   },
   {
    "duration": 822,
    "start_time": "2023-01-13T05:18:24.584Z"
   },
   {
    "duration": 13,
    "start_time": "2023-01-13T05:18:25.408Z"
   },
   {
    "duration": 115,
    "start_time": "2023-01-13T05:18:42.312Z"
   },
   {
    "duration": 51,
    "start_time": "2023-01-13T05:20:32.192Z"
   },
   {
    "duration": 42,
    "start_time": "2023-01-13T05:37:59.773Z"
   },
   {
    "duration": 109,
    "start_time": "2023-01-13T05:39:40.824Z"
   },
   {
    "duration": 105,
    "start_time": "2023-01-13T05:39:48.081Z"
   },
   {
    "duration": 110,
    "start_time": "2023-01-13T05:42:13.413Z"
   },
   {
    "duration": 109,
    "start_time": "2023-01-13T05:45:39.293Z"
   },
   {
    "duration": 79,
    "start_time": "2023-01-13T05:45:45.812Z"
   },
   {
    "duration": 10,
    "start_time": "2023-01-13T05:47:40.513Z"
   },
   {
    "duration": 10,
    "start_time": "2023-01-13T05:47:43.753Z"
   },
   {
    "duration": 5,
    "start_time": "2023-01-13T05:47:48.221Z"
   },
   {
    "duration": 28,
    "start_time": "2023-01-13T05:47:59.265Z"
   },
   {
    "duration": 40,
    "start_time": "2023-01-13T05:49:19.593Z"
   },
   {
    "duration": 4,
    "start_time": "2023-01-13T09:19:27.117Z"
   },
   {
    "duration": 6,
    "start_time": "2023-01-13T09:19:27.123Z"
   },
   {
    "duration": 6,
    "start_time": "2023-01-13T09:19:27.130Z"
   },
   {
    "duration": 5,
    "start_time": "2023-01-13T09:19:27.137Z"
   },
   {
    "duration": 9,
    "start_time": "2023-01-13T09:19:27.144Z"
   },
   {
    "duration": 957,
    "start_time": "2023-01-13T09:19:27.155Z"
   },
   {
    "duration": 18,
    "start_time": "2023-01-13T09:19:28.114Z"
   },
   {
    "duration": 118,
    "start_time": "2023-01-13T09:19:28.133Z"
   },
   {
    "duration": 92,
    "start_time": "2023-01-13T09:19:28.253Z"
   },
   {
    "duration": 114,
    "start_time": "2023-01-13T09:19:28.346Z"
   },
   {
    "duration": 93,
    "start_time": "2023-01-13T09:19:28.461Z"
   },
   {
    "duration": 53,
    "start_time": "2023-01-13T09:19:28.556Z"
   },
   {
    "duration": 31,
    "start_time": "2023-01-13T09:19:31.249Z"
   },
   {
    "duration": 16,
    "start_time": "2023-01-13T09:19:32.214Z"
   },
   {
    "duration": 28,
    "start_time": "2023-01-13T09:22:47.429Z"
   },
   {
    "duration": 27,
    "start_time": "2023-01-13T09:22:48.331Z"
   },
   {
    "duration": 160,
    "start_time": "2023-01-13T09:23:11.410Z"
   },
   {
    "duration": 99,
    "start_time": "2023-01-13T09:23:22.689Z"
   },
   {
    "duration": 246,
    "start_time": "2023-01-13T09:26:45.997Z"
   },
   {
    "duration": 222,
    "start_time": "2023-01-13T09:27:05.031Z"
   },
   {
    "duration": 101,
    "start_time": "2023-01-13T09:27:18.520Z"
   },
   {
    "duration": 226,
    "start_time": "2023-01-13T09:27:35.921Z"
   },
   {
    "duration": 100,
    "start_time": "2023-01-13T09:27:41.461Z"
   },
   {
    "duration": 130,
    "start_time": "2023-01-13T09:30:37.489Z"
   },
   {
    "duration": 104,
    "start_time": "2023-01-13T09:30:50.182Z"
   },
   {
    "duration": 119,
    "start_time": "2023-01-13T09:31:20.622Z"
   },
   {
    "duration": 138,
    "start_time": "2023-01-13T09:31:26.022Z"
   },
   {
    "duration": 9,
    "start_time": "2023-01-13T09:39:28.538Z"
   },
   {
    "duration": 314,
    "start_time": "2023-01-13T09:39:58.350Z"
   },
   {
    "duration": 3,
    "start_time": "2023-01-13T09:40:03.052Z"
   },
   {
    "duration": 22,
    "start_time": "2023-01-13T09:40:03.057Z"
   },
   {
    "duration": 7,
    "start_time": "2023-01-13T09:40:03.081Z"
   },
   {
    "duration": 34,
    "start_time": "2023-01-13T09:40:03.090Z"
   },
   {
    "duration": 19,
    "start_time": "2023-01-13T09:40:03.126Z"
   },
   {
    "duration": 10,
    "start_time": "2023-01-13T09:40:03.147Z"
   },
   {
    "duration": 913,
    "start_time": "2023-01-13T09:40:03.158Z"
   },
   {
    "duration": 15,
    "start_time": "2023-01-13T09:40:04.073Z"
   },
   {
    "duration": 134,
    "start_time": "2023-01-13T09:40:04.090Z"
   },
   {
    "duration": 103,
    "start_time": "2023-01-13T09:40:04.230Z"
   },
   {
    "duration": 124,
    "start_time": "2023-01-13T09:40:04.335Z"
   },
   {
    "duration": 99,
    "start_time": "2023-01-13T09:40:04.462Z"
   },
   {
    "duration": 255,
    "start_time": "2023-01-13T09:40:08.130Z"
   },
   {
    "duration": 8,
    "start_time": "2023-01-13T09:40:27.057Z"
   },
   {
    "duration": 7,
    "start_time": "2023-01-13T09:40:31.218Z"
   },
   {
    "duration": 359,
    "start_time": "2023-01-13T09:40:35.517Z"
   },
   {
    "duration": 10,
    "start_time": "2023-01-13T09:40:53.038Z"
   },
   {
    "duration": 411,
    "start_time": "2023-01-13T09:40:56.390Z"
   },
   {
    "duration": 7,
    "start_time": "2023-01-13T09:41:14.046Z"
   },
   {
    "duration": 6,
    "start_time": "2023-01-13T09:43:21.290Z"
   },
   {
    "duration": 368,
    "start_time": "2023-01-13T09:43:25.450Z"
   },
   {
    "duration": 7,
    "start_time": "2023-01-13T09:43:36.251Z"
   },
   {
    "duration": 700,
    "start_time": "2023-01-13T09:43:40.238Z"
   },
   {
    "duration": 118,
    "start_time": "2023-01-13T09:43:52.770Z"
   },
   {
    "duration": 460,
    "start_time": "2023-01-13T09:43:56.510Z"
   },
   {
    "duration": 6,
    "start_time": "2023-01-13T09:44:09.251Z"
   },
   {
    "duration": 376,
    "start_time": "2023-01-13T09:44:13.089Z"
   },
   {
    "duration": 3,
    "start_time": "2023-01-13T09:44:18.490Z"
   },
   {
    "duration": 28,
    "start_time": "2023-01-13T09:44:18.495Z"
   },
   {
    "duration": 7,
    "start_time": "2023-01-13T09:44:18.525Z"
   },
   {
    "duration": 4,
    "start_time": "2023-01-13T09:44:18.535Z"
   },
   {
    "duration": 5,
    "start_time": "2023-01-13T09:44:18.541Z"
   },
   {
    "duration": 9,
    "start_time": "2023-01-13T09:44:18.548Z"
   },
   {
    "duration": 832,
    "start_time": "2023-01-13T09:44:18.558Z"
   },
   {
    "duration": 26,
    "start_time": "2023-01-13T09:44:19.392Z"
   },
   {
    "duration": 136,
    "start_time": "2023-01-13T09:44:19.420Z"
   },
   {
    "duration": 96,
    "start_time": "2023-01-13T09:44:19.560Z"
   },
   {
    "duration": 122,
    "start_time": "2023-01-13T09:44:19.657Z"
   },
   {
    "duration": 92,
    "start_time": "2023-01-13T09:44:19.781Z"
   },
   {
    "duration": 369,
    "start_time": "2023-01-13T09:44:19.874Z"
   },
   {
    "duration": 14,
    "start_time": "2023-01-13T09:44:20.245Z"
   },
   {
    "duration": 67,
    "start_time": "2023-01-13T09:44:20.261Z"
   },
   {
    "duration": 123,
    "start_time": "2023-01-13T09:44:20.330Z"
   },
   {
    "duration": 15,
    "start_time": "2023-01-13T09:44:20.455Z"
   },
   {
    "duration": 48,
    "start_time": "2023-01-13T09:44:20.471Z"
   },
   {
    "duration": 17,
    "start_time": "2023-01-13T09:44:20.520Z"
   },
   {
    "duration": 34,
    "start_time": "2023-01-13T09:44:20.538Z"
   },
   {
    "duration": 38,
    "start_time": "2023-01-13T09:44:20.574Z"
   },
   {
    "duration": 39,
    "start_time": "2023-01-13T09:44:20.614Z"
   },
   {
    "duration": 28,
    "start_time": "2023-01-13T09:44:20.655Z"
   },
   {
    "duration": 65,
    "start_time": "2023-01-13T09:44:20.685Z"
   },
   {
    "duration": 0,
    "start_time": "2023-01-13T09:44:20.752Z"
   },
   {
    "duration": 0,
    "start_time": "2023-01-13T09:44:20.753Z"
   },
   {
    "duration": 0,
    "start_time": "2023-01-13T09:44:20.754Z"
   },
   {
    "duration": 0,
    "start_time": "2023-01-13T09:44:20.756Z"
   },
   {
    "duration": 0,
    "start_time": "2023-01-13T09:44:20.757Z"
   },
   {
    "duration": 0,
    "start_time": "2023-01-13T09:44:20.758Z"
   },
   {
    "duration": 0,
    "start_time": "2023-01-13T09:44:20.759Z"
   },
   {
    "duration": 10,
    "start_time": "2023-01-13T09:44:38.851Z"
   },
   {
    "duration": 413,
    "start_time": "2023-01-13T09:44:42.312Z"
   },
   {
    "duration": 5,
    "start_time": "2023-01-13T09:44:48.826Z"
   },
   {
    "duration": 15,
    "start_time": "2023-01-13T09:44:48.832Z"
   },
   {
    "duration": 13,
    "start_time": "2023-01-13T09:44:48.849Z"
   },
   {
    "duration": 7,
    "start_time": "2023-01-13T09:44:48.863Z"
   },
   {
    "duration": 4,
    "start_time": "2023-01-13T09:44:48.873Z"
   },
   {
    "duration": 7,
    "start_time": "2023-01-13T09:44:48.878Z"
   },
   {
    "duration": 806,
    "start_time": "2023-01-13T09:44:48.887Z"
   },
   {
    "duration": 24,
    "start_time": "2023-01-13T09:44:49.696Z"
   },
   {
    "duration": 123,
    "start_time": "2023-01-13T09:44:49.721Z"
   },
   {
    "duration": 101,
    "start_time": "2023-01-13T09:44:49.846Z"
   },
   {
    "duration": 118,
    "start_time": "2023-01-13T09:44:49.949Z"
   },
   {
    "duration": 88,
    "start_time": "2023-01-13T09:44:50.068Z"
   },
   {
    "duration": 412,
    "start_time": "2023-01-13T09:44:51.870Z"
   },
   {
    "duration": 3,
    "start_time": "2023-01-13T09:45:06.678Z"
   },
   {
    "duration": 10,
    "start_time": "2023-01-13T09:45:06.683Z"
   },
   {
    "duration": 23,
    "start_time": "2023-01-13T09:45:06.695Z"
   },
   {
    "duration": 5,
    "start_time": "2023-01-13T09:45:06.720Z"
   },
   {
    "duration": 5,
    "start_time": "2023-01-13T09:45:06.727Z"
   },
   {
    "duration": 11,
    "start_time": "2023-01-13T09:45:06.733Z"
   },
   {
    "duration": 822,
    "start_time": "2023-01-13T09:45:06.746Z"
   },
   {
    "duration": 14,
    "start_time": "2023-01-13T09:45:07.570Z"
   },
   {
    "duration": 128,
    "start_time": "2023-01-13T09:45:07.596Z"
   },
   {
    "duration": 105,
    "start_time": "2023-01-13T09:45:07.726Z"
   },
   {
    "duration": 116,
    "start_time": "2023-01-13T09:45:07.832Z"
   },
   {
    "duration": 96,
    "start_time": "2023-01-13T09:45:07.949Z"
   },
   {
    "duration": 361,
    "start_time": "2023-01-13T09:45:12.730Z"
   },
   {
    "duration": 3,
    "start_time": "2023-01-13T09:45:25.543Z"
   },
   {
    "duration": 12,
    "start_time": "2023-01-13T09:45:25.549Z"
   },
   {
    "duration": 5,
    "start_time": "2023-01-13T09:45:25.563Z"
   },
   {
    "duration": 9,
    "start_time": "2023-01-13T09:45:25.570Z"
   },
   {
    "duration": 3,
    "start_time": "2023-01-13T09:45:25.582Z"
   },
   {
    "duration": 13,
    "start_time": "2023-01-13T09:45:25.588Z"
   },
   {
    "duration": 902,
    "start_time": "2023-01-13T09:45:25.603Z"
   },
   {
    "duration": 19,
    "start_time": "2023-01-13T09:45:26.513Z"
   },
   {
    "duration": 134,
    "start_time": "2023-01-13T09:45:26.534Z"
   },
   {
    "duration": 104,
    "start_time": "2023-01-13T09:45:26.670Z"
   },
   {
    "duration": 114,
    "start_time": "2023-01-13T09:45:26.776Z"
   },
   {
    "duration": 84,
    "start_time": "2023-01-13T09:45:26.891Z"
   },
   {
    "duration": 379,
    "start_time": "2023-01-13T09:45:26.977Z"
   },
   {
    "duration": 15,
    "start_time": "2023-01-13T09:45:27.359Z"
   },
   {
    "duration": 57,
    "start_time": "2023-01-13T09:45:27.375Z"
   },
   {
    "duration": 115,
    "start_time": "2023-01-13T09:45:27.434Z"
   },
   {
    "duration": 15,
    "start_time": "2023-01-13T09:45:27.551Z"
   },
   {
    "duration": 60,
    "start_time": "2023-01-13T09:45:27.567Z"
   },
   {
    "duration": 14,
    "start_time": "2023-01-13T09:45:27.629Z"
   },
   {
    "duration": 27,
    "start_time": "2023-01-13T09:45:27.645Z"
   },
   {
    "duration": 40,
    "start_time": "2023-01-13T09:45:27.674Z"
   },
   {
    "duration": 30,
    "start_time": "2023-01-13T09:45:27.716Z"
   },
   {
    "duration": 17,
    "start_time": "2023-01-13T09:45:27.747Z"
   },
   {
    "duration": 56,
    "start_time": "2023-01-13T09:45:27.766Z"
   },
   {
    "duration": 0,
    "start_time": "2023-01-13T09:45:27.824Z"
   },
   {
    "duration": 0,
    "start_time": "2023-01-13T09:45:27.825Z"
   },
   {
    "duration": 0,
    "start_time": "2023-01-13T09:45:27.826Z"
   },
   {
    "duration": 0,
    "start_time": "2023-01-13T09:45:27.827Z"
   },
   {
    "duration": 0,
    "start_time": "2023-01-13T09:45:27.828Z"
   },
   {
    "duration": 0,
    "start_time": "2023-01-13T09:45:27.829Z"
   },
   {
    "duration": 0,
    "start_time": "2023-01-13T09:45:27.830Z"
   },
   {
    "duration": 359,
    "start_time": "2023-01-13T09:45:51.501Z"
   },
   {
    "duration": 253,
    "start_time": "2023-01-13T09:45:59.526Z"
   },
   {
    "duration": 449,
    "start_time": "2023-01-13T09:46:54.310Z"
   },
   {
    "duration": 14,
    "start_time": "2023-01-13T09:46:54.761Z"
   },
   {
    "duration": 61,
    "start_time": "2023-01-13T09:46:54.776Z"
   },
   {
    "duration": 269,
    "start_time": "2023-01-13T09:46:55.009Z"
   },
   {
    "duration": 25,
    "start_time": "2023-01-13T09:46:55.280Z"
   },
   {
    "duration": 8857,
    "start_time": "2023-01-13T09:46:55.630Z"
   },
   {
    "duration": 26,
    "start_time": "2023-01-13T09:47:04.496Z"
   },
   {
    "duration": 351,
    "start_time": "2023-01-13T09:47:04.524Z"
   },
   {
    "duration": 24,
    "start_time": "2023-01-13T09:47:04.878Z"
   },
   {
    "duration": 270,
    "start_time": "2023-01-13T09:47:04.904Z"
   },
   {
    "duration": 36,
    "start_time": "2023-01-13T09:47:05.175Z"
   },
   {
    "duration": 31,
    "start_time": "2023-01-13T09:47:24.750Z"
   },
   {
    "duration": 49,
    "start_time": "2023-01-13T09:47:49.570Z"
   },
   {
    "duration": 52,
    "start_time": "2023-01-13T09:47:53.731Z"
   },
   {
    "duration": 6,
    "start_time": "2023-01-13T09:54:39.149Z"
   },
   {
    "duration": 41,
    "start_time": "2023-01-13T09:57:31.589Z"
   },
   {
    "duration": 15,
    "start_time": "2023-01-13T10:16:33.448Z"
   },
   {
    "duration": 11,
    "start_time": "2023-01-13T10:16:34.039Z"
   },
   {
    "duration": 457,
    "start_time": "2023-01-13T10:16:41.029Z"
   },
   {
    "duration": 16,
    "start_time": "2023-01-13T10:16:56.868Z"
   },
   {
    "duration": 3,
    "start_time": "2023-01-13T10:17:25.788Z"
   },
   {
    "duration": 40,
    "start_time": "2023-01-13T10:17:25.793Z"
   },
   {
    "duration": 7,
    "start_time": "2023-01-13T10:17:25.835Z"
   },
   {
    "duration": 7,
    "start_time": "2023-01-13T10:17:25.845Z"
   },
   {
    "duration": 18,
    "start_time": "2023-01-13T10:17:25.854Z"
   },
   {
    "duration": 26,
    "start_time": "2023-01-13T10:17:25.874Z"
   },
   {
    "duration": 875,
    "start_time": "2023-01-13T10:17:25.904Z"
   },
   {
    "duration": 16,
    "start_time": "2023-01-13T10:17:26.781Z"
   },
   {
    "duration": 132,
    "start_time": "2023-01-13T10:17:26.803Z"
   },
   {
    "duration": 96,
    "start_time": "2023-01-13T10:17:26.938Z"
   },
   {
    "duration": 122,
    "start_time": "2023-01-13T10:17:27.035Z"
   },
   {
    "duration": 100,
    "start_time": "2023-01-13T10:17:27.159Z"
   },
   {
    "duration": 426,
    "start_time": "2023-01-13T10:17:27.261Z"
   },
   {
    "duration": 23,
    "start_time": "2023-01-13T10:17:27.701Z"
   },
   {
    "duration": 50,
    "start_time": "2023-01-13T10:17:27.728Z"
   },
   {
    "duration": 285,
    "start_time": "2023-01-13T10:17:30.349Z"
   },
   {
    "duration": 15,
    "start_time": "2023-01-13T10:17:39.045Z"
   },
   {
    "duration": 301,
    "start_time": "2023-01-13T10:17:39.924Z"
   },
   {
    "duration": 29,
    "start_time": "2023-01-13T10:17:43.649Z"
   },
   {
    "duration": 4,
    "start_time": "2023-01-13T10:25:23.549Z"
   },
   {
    "duration": 7,
    "start_time": "2023-01-13T10:25:23.555Z"
   },
   {
    "duration": 6,
    "start_time": "2023-01-13T10:25:23.563Z"
   },
   {
    "duration": 10,
    "start_time": "2023-01-13T10:25:23.572Z"
   },
   {
    "duration": 4,
    "start_time": "2023-01-13T10:25:23.585Z"
   },
   {
    "duration": 17,
    "start_time": "2023-01-13T10:25:23.591Z"
   },
   {
    "duration": 897,
    "start_time": "2023-01-13T10:25:23.610Z"
   },
   {
    "duration": 21,
    "start_time": "2023-01-13T10:25:24.509Z"
   },
   {
    "duration": 200,
    "start_time": "2023-01-13T10:25:24.532Z"
   },
   {
    "duration": 167,
    "start_time": "2023-01-13T10:25:24.734Z"
   },
   {
    "duration": 176,
    "start_time": "2023-01-13T10:25:24.909Z"
   },
   {
    "duration": 101,
    "start_time": "2023-01-13T10:25:25.087Z"
   },
   {
    "duration": 473,
    "start_time": "2023-01-13T10:25:25.196Z"
   },
   {
    "duration": 35,
    "start_time": "2023-01-13T10:25:25.673Z"
   },
   {
    "duration": 58,
    "start_time": "2023-01-13T10:25:25.713Z"
   },
   {
    "duration": 359,
    "start_time": "2023-01-13T10:25:27.789Z"
   },
   {
    "duration": 17,
    "start_time": "2023-01-13T10:25:30.569Z"
   },
   {
    "duration": 308,
    "start_time": "2023-01-13T10:25:31.169Z"
   },
   {
    "duration": 14,
    "start_time": "2023-01-13T10:25:54.970Z"
   },
   {
    "duration": 4,
    "start_time": "2023-01-13T10:25:58.820Z"
   },
   {
    "duration": 14,
    "start_time": "2023-01-13T10:25:58.826Z"
   },
   {
    "duration": 9,
    "start_time": "2023-01-13T10:25:58.841Z"
   },
   {
    "duration": 13,
    "start_time": "2023-01-13T10:25:58.852Z"
   },
   {
    "duration": 11,
    "start_time": "2023-01-13T10:25:58.867Z"
   },
   {
    "duration": 18,
    "start_time": "2023-01-13T10:25:58.879Z"
   },
   {
    "duration": 912,
    "start_time": "2023-01-13T10:25:58.899Z"
   },
   {
    "duration": 20,
    "start_time": "2023-01-13T10:25:59.813Z"
   },
   {
    "duration": 198,
    "start_time": "2023-01-13T10:25:59.836Z"
   },
   {
    "duration": 107,
    "start_time": "2023-01-13T10:26:00.036Z"
   },
   {
    "duration": 139,
    "start_time": "2023-01-13T10:26:00.145Z"
   },
   {
    "duration": 118,
    "start_time": "2023-01-13T10:26:00.286Z"
   },
   {
    "duration": 483,
    "start_time": "2023-01-13T10:26:00.406Z"
   },
   {
    "duration": 29,
    "start_time": "2023-01-13T10:26:00.891Z"
   },
   {
    "duration": 97,
    "start_time": "2023-01-13T10:26:00.922Z"
   },
   {
    "duration": 314,
    "start_time": "2023-01-13T10:26:01.021Z"
   },
   {
    "duration": 269,
    "start_time": "2023-01-13T10:26:05.348Z"
   },
   {
    "duration": 16,
    "start_time": "2023-01-13T10:26:08.476Z"
   },
   {
    "duration": 331,
    "start_time": "2023-01-13T10:26:40.269Z"
   },
   {
    "duration": 18,
    "start_time": "2023-01-13T10:26:45.248Z"
   },
   {
    "duration": 502,
    "start_time": "2023-01-13T10:26:46.029Z"
   },
   {
    "duration": 271,
    "start_time": "2023-01-13T10:26:59.921Z"
   },
   {
    "duration": 33,
    "start_time": "2023-01-13T10:27:26.077Z"
   },
   {
    "duration": 41,
    "start_time": "2023-01-13T10:27:30.457Z"
   },
   {
    "duration": 333,
    "start_time": "2023-01-13T10:27:38.969Z"
   },
   {
    "duration": 3,
    "start_time": "2023-01-13T10:27:42.125Z"
   },
   {
    "duration": 11,
    "start_time": "2023-01-13T10:27:42.130Z"
   },
   {
    "duration": 7,
    "start_time": "2023-01-13T10:27:42.144Z"
   },
   {
    "duration": 33,
    "start_time": "2023-01-13T10:27:42.154Z"
   },
   {
    "duration": 48,
    "start_time": "2023-01-13T10:27:42.189Z"
   },
   {
    "duration": 23,
    "start_time": "2023-01-13T10:27:42.238Z"
   },
   {
    "duration": 841,
    "start_time": "2023-01-13T10:27:42.263Z"
   },
   {
    "duration": 18,
    "start_time": "2023-01-13T10:27:43.108Z"
   },
   {
    "duration": 125,
    "start_time": "2023-01-13T10:27:43.128Z"
   },
   {
    "duration": 103,
    "start_time": "2023-01-13T10:27:43.255Z"
   },
   {
    "duration": 124,
    "start_time": "2023-01-13T10:27:43.359Z"
   },
   {
    "duration": 116,
    "start_time": "2023-01-13T10:27:43.484Z"
   },
   {
    "duration": 431,
    "start_time": "2023-01-13T10:27:43.601Z"
   },
   {
    "duration": 17,
    "start_time": "2023-01-13T10:27:44.034Z"
   },
   {
    "duration": 82,
    "start_time": "2023-01-13T10:27:44.054Z"
   },
   {
    "duration": 313,
    "start_time": "2023-01-13T10:27:49.729Z"
   },
   {
    "duration": 338,
    "start_time": "2023-01-13T10:29:09.069Z"
   },
   {
    "duration": 350,
    "start_time": "2023-01-13T10:29:24.726Z"
   },
   {
    "duration": 376,
    "start_time": "2023-01-13T10:29:35.430Z"
   },
   {
    "duration": 107,
    "start_time": "2023-01-13T10:29:43.032Z"
   },
   {
    "duration": 358,
    "start_time": "2023-01-13T10:29:50.789Z"
   },
   {
    "duration": 331,
    "start_time": "2023-01-13T10:30:01.889Z"
   },
   {
    "duration": 16,
    "start_time": "2023-01-13T10:30:03.630Z"
   },
   {
    "duration": 24,
    "start_time": "2023-01-13T10:30:06.197Z"
   },
   {
    "duration": 44,
    "start_time": "2023-01-13T10:30:06.922Z"
   },
   {
    "duration": 24,
    "start_time": "2023-01-13T10:33:07.361Z"
   },
   {
    "duration": 26,
    "start_time": "2023-01-13T10:33:08.226Z"
   },
   {
    "duration": 3,
    "start_time": "2023-01-13T10:33:13.724Z"
   },
   {
    "duration": 24,
    "start_time": "2023-01-13T10:33:13.729Z"
   },
   {
    "duration": 6,
    "start_time": "2023-01-13T10:33:13.755Z"
   },
   {
    "duration": 9,
    "start_time": "2023-01-13T10:33:13.763Z"
   },
   {
    "duration": 8,
    "start_time": "2023-01-13T10:33:13.775Z"
   },
   {
    "duration": 9,
    "start_time": "2023-01-13T10:33:13.785Z"
   },
   {
    "duration": 969,
    "start_time": "2023-01-13T10:33:13.798Z"
   },
   {
    "duration": 26,
    "start_time": "2023-01-13T10:33:14.770Z"
   },
   {
    "duration": 181,
    "start_time": "2023-01-13T10:33:14.816Z"
   },
   {
    "duration": 117,
    "start_time": "2023-01-13T10:33:15.001Z"
   },
   {
    "duration": 149,
    "start_time": "2023-01-13T10:33:15.119Z"
   },
   {
    "duration": 116,
    "start_time": "2023-01-13T10:33:15.271Z"
   },
   {
    "duration": 468,
    "start_time": "2023-01-13T10:33:15.389Z"
   },
   {
    "duration": 18,
    "start_time": "2023-01-13T10:33:15.861Z"
   },
   {
    "duration": 89,
    "start_time": "2023-01-13T10:33:15.897Z"
   },
   {
    "duration": 406,
    "start_time": "2023-01-13T10:33:19.422Z"
   },
   {
    "duration": 25,
    "start_time": "2023-01-13T10:33:21.629Z"
   },
   {
    "duration": 28,
    "start_time": "2023-01-13T10:33:23.289Z"
   },
   {
    "duration": 59,
    "start_time": "2023-01-13T10:33:24.812Z"
   },
   {
    "duration": 49,
    "start_time": "2023-01-13T10:33:32.937Z"
   },
   {
    "duration": 17,
    "start_time": "2023-01-13T10:33:33.130Z"
   },
   {
    "duration": 59,
    "start_time": "2023-01-13T10:33:33.338Z"
   },
   {
    "duration": 532,
    "start_time": "2023-01-13T10:33:34.030Z"
   },
   {
    "duration": 19,
    "start_time": "2023-01-13T10:33:36.081Z"
   },
   {
    "duration": 326,
    "start_time": "2023-01-13T10:34:24.165Z"
   },
   {
    "duration": 15,
    "start_time": "2023-01-13T10:34:25.545Z"
   },
   {
    "duration": 56,
    "start_time": "2023-01-13T10:35:15.021Z"
   },
   {
    "duration": 3,
    "start_time": "2023-01-13T10:35:29.770Z"
   },
   {
    "duration": 51,
    "start_time": "2023-01-13T10:35:32.114Z"
   },
   {
    "duration": 30,
    "start_time": "2023-01-13T10:36:56.182Z"
   },
   {
    "duration": 14,
    "start_time": "2023-01-13T10:40:54.058Z"
   },
   {
    "duration": 15,
    "start_time": "2023-01-13T10:41:01.470Z"
   },
   {
    "duration": 51,
    "start_time": "2023-01-13T10:41:08.871Z"
   },
   {
    "duration": 257,
    "start_time": "2023-01-13T10:44:32.175Z"
   },
   {
    "duration": 16,
    "start_time": "2023-01-13T10:44:33.649Z"
   },
   {
    "duration": 43,
    "start_time": "2023-01-13T10:44:55.889Z"
   },
   {
    "duration": 256,
    "start_time": "2023-01-13T10:46:58.890Z"
   },
   {
    "duration": 194,
    "start_time": "2023-01-13T10:47:32.523Z"
   },
   {
    "duration": 4,
    "start_time": "2023-01-13T10:47:36.045Z"
   },
   {
    "duration": 11,
    "start_time": "2023-01-13T10:47:36.052Z"
   },
   {
    "duration": 14,
    "start_time": "2023-01-13T10:47:36.065Z"
   },
   {
    "duration": 16,
    "start_time": "2023-01-13T10:47:36.082Z"
   },
   {
    "duration": 14,
    "start_time": "2023-01-13T10:47:36.107Z"
   },
   {
    "duration": 14,
    "start_time": "2023-01-13T10:47:36.123Z"
   },
   {
    "duration": 823,
    "start_time": "2023-01-13T10:47:36.139Z"
   },
   {
    "duration": 14,
    "start_time": "2023-01-13T10:47:36.963Z"
   },
   {
    "duration": 130,
    "start_time": "2023-01-13T10:47:36.978Z"
   },
   {
    "duration": 101,
    "start_time": "2023-01-13T10:47:37.111Z"
   },
   {
    "duration": 105,
    "start_time": "2023-01-13T10:47:39.029Z"
   },
   {
    "duration": 439,
    "start_time": "2023-01-13T10:47:39.699Z"
   },
   {
    "duration": 466,
    "start_time": "2023-01-13T10:48:36.370Z"
   },
   {
    "duration": 444,
    "start_time": "2023-01-13T10:49:57.670Z"
   },
   {
    "duration": 889,
    "start_time": "2023-01-13T10:52:38.190Z"
   },
   {
    "duration": 428,
    "start_time": "2023-01-13T10:54:50.789Z"
   },
   {
    "duration": 5,
    "start_time": "2023-01-13T10:54:56.472Z"
   },
   {
    "duration": 68,
    "start_time": "2023-01-13T10:54:56.481Z"
   },
   {
    "duration": 11,
    "start_time": "2023-01-13T10:54:56.552Z"
   },
   {
    "duration": 8,
    "start_time": "2023-01-13T10:54:56.566Z"
   },
   {
    "duration": 12,
    "start_time": "2023-01-13T10:54:56.577Z"
   },
   {
    "duration": 26,
    "start_time": "2023-01-13T10:54:56.591Z"
   },
   {
    "duration": 1052,
    "start_time": "2023-01-13T10:54:56.619Z"
   },
   {
    "duration": 37,
    "start_time": "2023-01-13T10:54:57.673Z"
   },
   {
    "duration": 190,
    "start_time": "2023-01-13T10:54:57.720Z"
   },
   {
    "duration": 139,
    "start_time": "2023-01-13T10:54:57.912Z"
   },
   {
    "duration": 633,
    "start_time": "2023-01-13T10:54:58.055Z"
   },
   {
    "duration": 931,
    "start_time": "2023-01-13T10:54:58.691Z"
   },
   {
    "duration": 129,
    "start_time": "2023-01-13T10:54:59.626Z"
   },
   {
    "duration": 94,
    "start_time": "2023-01-13T10:54:59.757Z"
   },
   {
    "duration": 568,
    "start_time": "2023-01-13T10:54:59.853Z"
   },
   {
    "duration": 24,
    "start_time": "2023-01-13T10:55:00.424Z"
   },
   {
    "duration": 81,
    "start_time": "2023-01-13T10:55:00.450Z"
   },
   {
    "duration": 320,
    "start_time": "2023-01-13T10:55:00.533Z"
   },
   {
    "duration": 23,
    "start_time": "2023-01-13T10:55:00.855Z"
   },
   {
    "duration": 60,
    "start_time": "2023-01-13T10:55:00.900Z"
   },
   {
    "duration": 104,
    "start_time": "2023-01-13T10:55:00.962Z"
   },
   {
    "duration": 56,
    "start_time": "2023-01-13T10:55:01.069Z"
   },
   {
    "duration": 35,
    "start_time": "2023-01-13T10:55:01.127Z"
   },
   {
    "duration": 125,
    "start_time": "2023-01-13T10:55:01.165Z"
   },
   {
    "duration": 3,
    "start_time": "2023-01-13T10:55:01.291Z"
   },
   {
    "duration": 77,
    "start_time": "2023-01-13T10:55:01.296Z"
   },
   {
    "duration": 41,
    "start_time": "2023-01-13T10:55:01.375Z"
   },
   {
    "duration": 42,
    "start_time": "2023-01-13T10:55:01.420Z"
   },
   {
    "duration": 28,
    "start_time": "2023-01-13T10:55:01.466Z"
   },
   {
    "duration": 84,
    "start_time": "2023-01-13T10:55:01.496Z"
   },
   {
    "duration": 296,
    "start_time": "2023-01-13T10:55:01.582Z"
   },
   {
    "duration": 32,
    "start_time": "2023-01-13T10:55:01.881Z"
   },
   {
    "duration": 66,
    "start_time": "2023-01-13T10:55:01.918Z"
   },
   {
    "duration": 205,
    "start_time": "2023-01-13T10:55:03.818Z"
   },
   {
    "duration": 415,
    "start_time": "2023-01-13T10:55:37.078Z"
   },
   {
    "duration": 25,
    "start_time": "2023-01-13T10:57:37.090Z"
   },
   {
    "duration": 19,
    "start_time": "2023-01-13T10:57:43.730Z"
   },
   {
    "duration": 89,
    "start_time": "2023-01-13T10:57:52.809Z"
   },
   {
    "duration": 12,
    "start_time": "2023-01-13T11:02:59.929Z"
   },
   {
    "duration": 10,
    "start_time": "2023-01-13T11:03:11.621Z"
   },
   {
    "duration": 52,
    "start_time": "2023-01-13T11:03:17.389Z"
   },
   {
    "duration": 63,
    "start_time": "2023-01-13T11:03:29.282Z"
   },
   {
    "duration": 71,
    "start_time": "2023-01-13T11:03:39.015Z"
   },
   {
    "duration": 91,
    "start_time": "2023-01-13T11:05:14.847Z"
   },
   {
    "duration": 5,
    "start_time": "2023-01-13T11:06:40.969Z"
   },
   {
    "duration": 74,
    "start_time": "2023-01-13T11:06:55.930Z"
   },
   {
    "duration": 452,
    "start_time": "2023-01-13T11:07:13.510Z"
   },
   {
    "duration": 5,
    "start_time": "2023-01-13T11:08:25.370Z"
   },
   {
    "duration": 632,
    "start_time": "2023-01-13T11:08:30.630Z"
   },
   {
    "duration": 18,
    "start_time": "2023-01-13T11:09:15.648Z"
   },
   {
    "duration": 27,
    "start_time": "2023-01-13T11:09:26.399Z"
   },
   {
    "duration": 500,
    "start_time": "2023-01-13T11:10:49.731Z"
   },
   {
    "duration": 13,
    "start_time": "2023-01-13T11:10:53.253Z"
   },
   {
    "duration": 24,
    "start_time": "2023-01-13T11:11:11.939Z"
   },
   {
    "duration": 13,
    "start_time": "2023-01-13T11:11:21.089Z"
   },
   {
    "duration": 7,
    "start_time": "2023-01-13T11:11:21.358Z"
   },
   {
    "duration": 6,
    "start_time": "2023-01-13T11:12:48.080Z"
   },
   {
    "duration": 72,
    "start_time": "2023-01-13T11:15:06.716Z"
   },
   {
    "duration": 548,
    "start_time": "2023-01-13T11:15:07.821Z"
   },
   {
    "duration": 12,
    "start_time": "2023-01-13T11:15:10.549Z"
   },
   {
    "duration": 19,
    "start_time": "2023-01-13T11:15:27.299Z"
   },
   {
    "duration": 144,
    "start_time": "2023-01-13T11:16:03.185Z"
   },
   {
    "duration": 750,
    "start_time": "2023-01-13T11:16:03.469Z"
   },
   {
    "duration": 8,
    "start_time": "2023-01-13T11:16:04.222Z"
   },
   {
    "duration": 24,
    "start_time": "2023-01-13T11:16:04.232Z"
   },
   {
    "duration": 3,
    "start_time": "2023-01-13T11:16:10.631Z"
   },
   {
    "duration": 14,
    "start_time": "2023-01-13T11:16:10.637Z"
   },
   {
    "duration": 12,
    "start_time": "2023-01-13T11:16:10.653Z"
   },
   {
    "duration": 8,
    "start_time": "2023-01-13T11:16:10.672Z"
   },
   {
    "duration": 9,
    "start_time": "2023-01-13T11:16:10.683Z"
   },
   {
    "duration": 42,
    "start_time": "2023-01-13T11:16:10.694Z"
   },
   {
    "duration": 13,
    "start_time": "2023-01-13T11:16:10.738Z"
   },
   {
    "duration": 2528,
    "start_time": "2023-01-13T11:16:10.753Z"
   },
   {
    "duration": 24,
    "start_time": "2023-01-13T11:16:13.284Z"
   },
   {
    "duration": 167,
    "start_time": "2023-01-13T11:16:13.311Z"
   },
   {
    "duration": 228,
    "start_time": "2023-01-13T11:16:13.480Z"
   },
   {
    "duration": 121,
    "start_time": "2023-01-13T11:16:13.709Z"
   },
   {
    "duration": 183,
    "start_time": "2023-01-13T11:16:13.833Z"
   },
   {
    "duration": 600,
    "start_time": "2023-01-13T11:16:14.018Z"
   },
   {
    "duration": 34,
    "start_time": "2023-01-13T11:16:14.624Z"
   },
   {
    "duration": 88,
    "start_time": "2023-01-13T11:16:14.660Z"
   },
   {
    "duration": 603,
    "start_time": "2023-01-13T11:16:14.750Z"
   },
   {
    "duration": 25,
    "start_time": "2023-01-13T11:16:15.356Z"
   },
   {
    "duration": 234,
    "start_time": "2023-01-13T11:16:15.383Z"
   },
   {
    "duration": 155,
    "start_time": "2023-01-13T11:16:15.627Z"
   },
   {
    "duration": 180,
    "start_time": "2023-01-13T11:16:15.784Z"
   },
   {
    "duration": 114,
    "start_time": "2023-01-13T11:16:15.966Z"
   },
   {
    "duration": 252,
    "start_time": "2023-01-13T11:16:16.081Z"
   },
   {
    "duration": 79,
    "start_time": "2023-01-13T11:16:16.337Z"
   },
   {
    "duration": 172,
    "start_time": "2023-01-13T11:16:16.418Z"
   },
   {
    "duration": 84,
    "start_time": "2023-01-13T11:16:16.592Z"
   },
   {
    "duration": 120,
    "start_time": "2023-01-13T11:16:16.679Z"
   },
   {
    "duration": 150,
    "start_time": "2023-01-13T11:16:16.801Z"
   },
   {
    "duration": 140,
    "start_time": "2023-01-13T11:16:16.954Z"
   },
   {
    "duration": 582,
    "start_time": "2023-01-13T11:16:17.096Z"
   },
   {
    "duration": 35,
    "start_time": "2023-01-13T11:16:17.681Z"
   },
   {
    "duration": 320,
    "start_time": "2023-01-13T11:16:17.721Z"
   },
   {
    "duration": 548,
    "start_time": "2023-01-13T11:16:18.048Z"
   },
   {
    "duration": 487,
    "start_time": "2023-01-13T11:16:18.598Z"
   },
   {
    "duration": 49,
    "start_time": "2023-01-13T11:16:19.087Z"
   },
   {
    "duration": 226,
    "start_time": "2023-01-13T11:16:19.138Z"
   },
   {
    "duration": 140,
    "start_time": "2023-01-13T11:16:19.366Z"
   },
   {
    "duration": 153,
    "start_time": "2023-01-13T11:16:19.515Z"
   },
   {
    "duration": 114,
    "start_time": "2023-01-13T11:16:19.670Z"
   },
   {
    "duration": 670,
    "start_time": "2023-01-13T11:16:19.787Z"
   },
   {
    "duration": 12,
    "start_time": "2023-01-13T11:16:20.459Z"
   },
   {
    "duration": 37,
    "start_time": "2023-01-13T11:16:20.473Z"
   },
   {
    "duration": 3,
    "start_time": "2023-01-13T11:17:12.732Z"
   },
   {
    "duration": 10,
    "start_time": "2023-01-13T11:17:12.739Z"
   },
   {
    "duration": 10,
    "start_time": "2023-01-13T11:17:12.751Z"
   },
   {
    "duration": 5,
    "start_time": "2023-01-13T11:17:12.764Z"
   },
   {
    "duration": 5,
    "start_time": "2023-01-13T11:17:12.771Z"
   },
   {
    "duration": 21,
    "start_time": "2023-01-13T11:17:12.778Z"
   },
   {
    "duration": 30,
    "start_time": "2023-01-13T11:17:12.805Z"
   },
   {
    "duration": 1394,
    "start_time": "2023-01-13T11:17:12.838Z"
   },
   {
    "duration": 22,
    "start_time": "2023-01-13T11:17:14.236Z"
   },
   {
    "duration": 135,
    "start_time": "2023-01-13T11:17:14.259Z"
   },
   {
    "duration": 113,
    "start_time": "2023-01-13T11:17:14.396Z"
   },
   {
    "duration": 118,
    "start_time": "2023-01-13T11:17:14.510Z"
   },
   {
    "duration": 99,
    "start_time": "2023-01-13T11:17:14.630Z"
   },
   {
    "duration": 423,
    "start_time": "2023-01-13T11:17:14.731Z"
   },
   {
    "duration": 17,
    "start_time": "2023-01-13T11:17:15.156Z"
   },
   {
    "duration": 74,
    "start_time": "2023-01-13T11:17:15.175Z"
   },
   {
    "duration": 376,
    "start_time": "2023-01-13T11:17:15.252Z"
   },
   {
    "duration": 17,
    "start_time": "2023-01-13T11:17:15.629Z"
   },
   {
    "duration": 17,
    "start_time": "2023-01-13T11:17:15.648Z"
   },
   {
    "duration": 79,
    "start_time": "2023-01-13T11:17:15.667Z"
   },
   {
    "duration": 37,
    "start_time": "2023-01-13T11:17:15.748Z"
   },
   {
    "duration": 36,
    "start_time": "2023-01-13T11:17:15.800Z"
   },
   {
    "duration": 76,
    "start_time": "2023-01-13T11:17:15.838Z"
   },
   {
    "duration": 5,
    "start_time": "2023-01-13T11:17:15.918Z"
   },
   {
    "duration": 72,
    "start_time": "2023-01-13T11:17:15.925Z"
   },
   {
    "duration": 72,
    "start_time": "2023-01-13T11:17:16.000Z"
   },
   {
    "duration": 19,
    "start_time": "2023-01-13T11:17:16.074Z"
   },
   {
    "duration": 48,
    "start_time": "2023-01-13T11:17:16.095Z"
   },
   {
    "duration": 48,
    "start_time": "2023-01-13T11:17:16.147Z"
   },
   {
    "duration": 351,
    "start_time": "2023-01-13T11:17:16.199Z"
   },
   {
    "duration": 30,
    "start_time": "2023-01-13T11:17:16.553Z"
   },
   {
    "duration": 89,
    "start_time": "2023-01-13T11:17:16.585Z"
   },
   {
    "duration": 226,
    "start_time": "2023-01-13T11:17:16.677Z"
   },
   {
    "duration": 388,
    "start_time": "2023-01-13T11:17:16.905Z"
   },
   {
    "duration": 24,
    "start_time": "2023-01-13T11:17:17.297Z"
   },
   {
    "duration": 92,
    "start_time": "2023-01-13T11:17:17.322Z"
   },
   {
    "duration": 53,
    "start_time": "2023-01-13T11:17:17.419Z"
   },
   {
    "duration": 83,
    "start_time": "2023-01-13T11:17:17.474Z"
   },
   {
    "duration": 101,
    "start_time": "2023-01-13T11:17:17.559Z"
   },
   {
    "duration": 663,
    "start_time": "2023-01-13T11:17:20.340Z"
   },
   {
    "duration": 4,
    "start_time": "2023-01-13T11:17:51.417Z"
   },
   {
    "duration": 20,
    "start_time": "2023-01-13T11:17:51.424Z"
   },
   {
    "duration": 16,
    "start_time": "2023-01-13T11:17:51.447Z"
   },
   {
    "duration": 5,
    "start_time": "2023-01-13T11:17:51.466Z"
   },
   {
    "duration": 9,
    "start_time": "2023-01-13T11:17:51.473Z"
   },
   {
    "duration": 10,
    "start_time": "2023-01-13T11:17:51.484Z"
   },
   {
    "duration": 40,
    "start_time": "2023-01-13T11:17:51.496Z"
   },
   {
    "duration": 878,
    "start_time": "2023-01-13T11:17:51.542Z"
   },
   {
    "duration": 14,
    "start_time": "2023-01-13T11:17:52.424Z"
   },
   {
    "duration": 145,
    "start_time": "2023-01-13T11:17:52.440Z"
   },
   {
    "duration": 133,
    "start_time": "2023-01-13T11:17:52.587Z"
   },
   {
    "duration": 127,
    "start_time": "2023-01-13T11:17:52.723Z"
   },
   {
    "duration": 110,
    "start_time": "2023-01-13T11:17:52.852Z"
   },
   {
    "duration": 443,
    "start_time": "2023-01-13T11:17:52.964Z"
   },
   {
    "duration": 23,
    "start_time": "2023-01-13T11:17:53.411Z"
   },
   {
    "duration": 55,
    "start_time": "2023-01-13T11:17:53.436Z"
   },
   {
    "duration": 504,
    "start_time": "2023-01-13T11:17:53.506Z"
   },
   {
    "duration": 27,
    "start_time": "2023-01-13T11:17:54.012Z"
   },
   {
    "duration": 37,
    "start_time": "2023-01-13T11:17:54.041Z"
   },
   {
    "duration": 82,
    "start_time": "2023-01-13T11:17:54.083Z"
   },
   {
    "duration": 67,
    "start_time": "2023-01-13T11:17:54.167Z"
   },
   {
    "duration": 43,
    "start_time": "2023-01-13T11:17:54.236Z"
   },
   {
    "duration": 120,
    "start_time": "2023-01-13T11:17:54.281Z"
   },
   {
    "duration": 3,
    "start_time": "2023-01-13T11:17:54.404Z"
   },
   {
    "duration": 72,
    "start_time": "2023-01-13T11:17:54.409Z"
   },
   {
    "duration": 67,
    "start_time": "2023-01-13T11:17:54.483Z"
   },
   {
    "duration": 35,
    "start_time": "2023-01-13T11:17:54.552Z"
   },
   {
    "duration": 38,
    "start_time": "2023-01-13T11:17:54.589Z"
   },
   {
    "duration": 71,
    "start_time": "2023-01-13T11:17:54.637Z"
   },
   {
    "duration": 464,
    "start_time": "2023-01-13T11:17:54.713Z"
   },
   {
    "duration": 38,
    "start_time": "2023-01-13T11:17:55.179Z"
   },
   {
    "duration": 71,
    "start_time": "2023-01-13T11:17:55.221Z"
   },
   {
    "duration": 276,
    "start_time": "2023-01-13T11:17:55.294Z"
   },
   {
    "duration": 555,
    "start_time": "2023-01-13T11:17:55.572Z"
   },
   {
    "duration": 18,
    "start_time": "2023-01-13T11:17:56.128Z"
   },
   {
    "duration": 183,
    "start_time": "2023-01-13T11:17:56.148Z"
   },
   {
    "duration": 74,
    "start_time": "2023-01-13T11:17:56.334Z"
   },
   {
    "duration": 136,
    "start_time": "2023-01-13T11:17:56.412Z"
   },
   {
    "duration": 82,
    "start_time": "2023-01-13T11:17:56.550Z"
   },
   {
    "duration": 573,
    "start_time": "2023-01-13T11:18:02.748Z"
   },
   {
    "duration": 14,
    "start_time": "2023-01-13T11:18:06.361Z"
   },
   {
    "duration": 22,
    "start_time": "2023-01-13T11:18:07.054Z"
   },
   {
    "duration": 494,
    "start_time": "2023-01-13T11:18:11.411Z"
   },
   {
    "duration": 8,
    "start_time": "2023-01-13T11:18:15.746Z"
   },
   {
    "duration": 11,
    "start_time": "2023-01-13T11:18:39.199Z"
   },
   {
    "duration": 32,
    "start_time": "2023-01-13T11:18:55.268Z"
   },
   {
    "duration": 472,
    "start_time": "2023-01-13T11:19:02.328Z"
   },
   {
    "duration": 17,
    "start_time": "2023-01-13T11:19:12.088Z"
   },
   {
    "duration": 16,
    "start_time": "2023-01-13T11:19:23.041Z"
   },
   {
    "duration": 8,
    "start_time": "2023-01-13T11:19:24.760Z"
   },
   {
    "duration": 420,
    "start_time": "2023-01-13T11:19:44.225Z"
   },
   {
    "duration": 8,
    "start_time": "2023-01-13T11:19:55.356Z"
   },
   {
    "duration": 137,
    "start_time": "2023-01-13T11:20:06.751Z"
   },
   {
    "duration": 10,
    "start_time": "2023-01-13T11:20:46.181Z"
   },
   {
    "duration": 3,
    "start_time": "2023-01-13T11:21:15.417Z"
   },
   {
    "duration": 13,
    "start_time": "2023-01-13T11:21:15.422Z"
   },
   {
    "duration": 7,
    "start_time": "2023-01-13T11:21:15.437Z"
   },
   {
    "duration": 7,
    "start_time": "2023-01-13T11:21:15.446Z"
   },
   {
    "duration": 11,
    "start_time": "2023-01-13T11:21:15.455Z"
   },
   {
    "duration": 22,
    "start_time": "2023-01-13T11:21:15.468Z"
   },
   {
    "duration": 11,
    "start_time": "2023-01-13T11:21:15.492Z"
   },
   {
    "duration": 826,
    "start_time": "2023-01-13T11:21:15.505Z"
   },
   {
    "duration": 21,
    "start_time": "2023-01-13T11:21:16.333Z"
   },
   {
    "duration": 158,
    "start_time": "2023-01-13T11:21:16.356Z"
   },
   {
    "duration": 124,
    "start_time": "2023-01-13T11:21:16.515Z"
   },
   {
    "duration": 117,
    "start_time": "2023-01-13T11:21:16.641Z"
   },
   {
    "duration": 24,
    "start_time": "2023-01-13T11:21:19.023Z"
   },
   {
    "duration": 12,
    "start_time": "2023-01-13T11:21:24.948Z"
   },
   {
    "duration": 146,
    "start_time": "2023-01-13T11:21:38.505Z"
   },
   {
    "duration": 10,
    "start_time": "2023-01-13T11:21:41.473Z"
   },
   {
    "duration": 10,
    "start_time": "2023-01-13T11:23:16.327Z"
   },
   {
    "duration": 11,
    "start_time": "2023-01-13T11:23:16.340Z"
   },
   {
    "duration": 10,
    "start_time": "2023-01-13T11:23:16.354Z"
   },
   {
    "duration": 6,
    "start_time": "2023-01-13T11:23:16.366Z"
   },
   {
    "duration": 13,
    "start_time": "2023-01-13T11:23:16.374Z"
   },
   {
    "duration": 7,
    "start_time": "2023-01-13T11:23:16.389Z"
   },
   {
    "duration": 45,
    "start_time": "2023-01-13T11:23:16.398Z"
   },
   {
    "duration": 840,
    "start_time": "2023-01-13T11:23:16.444Z"
   },
   {
    "duration": 16,
    "start_time": "2023-01-13T11:23:17.286Z"
   },
   {
    "duration": 149,
    "start_time": "2023-01-13T11:23:17.305Z"
   },
   {
    "duration": 98,
    "start_time": "2023-01-13T11:23:17.456Z"
   },
   {
    "duration": 120,
    "start_time": "2023-01-13T11:23:17.556Z"
   },
   {
    "duration": 96,
    "start_time": "2023-01-13T11:23:17.677Z"
   },
   {
    "duration": 426,
    "start_time": "2023-01-13T11:23:17.776Z"
   },
   {
    "duration": 23,
    "start_time": "2023-01-13T11:23:18.205Z"
   },
   {
    "duration": 45,
    "start_time": "2023-01-13T11:23:18.230Z"
   },
   {
    "duration": 345,
    "start_time": "2023-01-13T11:23:18.277Z"
   },
   {
    "duration": 16,
    "start_time": "2023-01-13T11:23:18.626Z"
   },
   {
    "duration": 17,
    "start_time": "2023-01-13T11:23:18.643Z"
   },
   {
    "duration": 42,
    "start_time": "2023-01-13T11:23:18.661Z"
   },
   {
    "duration": 42,
    "start_time": "2023-01-13T11:23:18.705Z"
   },
   {
    "duration": 21,
    "start_time": "2023-01-13T11:23:18.749Z"
   },
   {
    "duration": 84,
    "start_time": "2023-01-13T11:23:18.772Z"
   },
   {
    "duration": 2,
    "start_time": "2023-01-13T11:23:18.858Z"
   },
   {
    "duration": 46,
    "start_time": "2023-01-13T11:23:18.862Z"
   },
   {
    "duration": 57,
    "start_time": "2023-01-13T11:23:18.910Z"
   },
   {
    "duration": 23,
    "start_time": "2023-01-13T11:23:18.969Z"
   },
   {
    "duration": 42,
    "start_time": "2023-01-13T11:23:18.994Z"
   },
   {
    "duration": 45,
    "start_time": "2023-01-13T11:23:19.038Z"
   },
   {
    "duration": 363,
    "start_time": "2023-01-13T11:23:19.085Z"
   },
   {
    "duration": 15,
    "start_time": "2023-01-13T11:23:19.449Z"
   },
   {
    "duration": 42,
    "start_time": "2023-01-13T11:23:19.466Z"
   },
   {
    "duration": 214,
    "start_time": "2023-01-13T11:23:19.510Z"
   },
   {
    "duration": 439,
    "start_time": "2023-01-13T11:23:19.728Z"
   },
   {
    "duration": 12,
    "start_time": "2023-01-13T11:23:20.168Z"
   },
   {
    "duration": 106,
    "start_time": "2023-01-13T11:23:20.181Z"
   },
   {
    "duration": 69,
    "start_time": "2023-01-13T11:23:20.289Z"
   },
   {
    "duration": 88,
    "start_time": "2023-01-13T11:23:20.360Z"
   },
   {
    "duration": 83,
    "start_time": "2023-01-13T11:23:20.450Z"
   },
   {
    "duration": 507,
    "start_time": "2023-01-13T11:23:20.535Z"
   },
   {
    "duration": 11,
    "start_time": "2023-01-13T11:23:21.046Z"
   },
   {
    "duration": 62,
    "start_time": "2023-01-13T11:23:21.059Z"
   },
   {
    "duration": 521,
    "start_time": "2023-01-13T11:23:21.123Z"
   },
   {
    "duration": 6,
    "start_time": "2023-01-13T11:23:30.384Z"
   },
   {
    "duration": 6,
    "start_time": "2023-01-13T11:23:36.514Z"
   },
   {
    "duration": 12,
    "start_time": "2023-01-13T11:23:49.168Z"
   },
   {
    "duration": 7,
    "start_time": "2023-01-13T11:23:58.268Z"
   },
   {
    "duration": 41,
    "start_time": "2023-01-13T11:24:06.116Z"
   },
   {
    "duration": 6,
    "start_time": "2023-01-13T11:24:07.828Z"
   },
   {
    "duration": 17,
    "start_time": "2023-01-13T11:24:11.169Z"
   },
   {
    "duration": 372,
    "start_time": "2023-01-13T11:24:12.449Z"
   },
   {
    "duration": 9,
    "start_time": "2023-01-13T11:24:13.141Z"
   },
   {
    "duration": 7,
    "start_time": "2023-01-13T11:25:11.992Z"
   },
   {
    "duration": 42,
    "start_time": "2023-01-13T11:38:15.627Z"
   },
   {
    "duration": 3,
    "start_time": "2023-01-13T11:50:32.266Z"
   },
   {
    "duration": 7,
    "start_time": "2023-01-13T11:50:32.271Z"
   },
   {
    "duration": 15,
    "start_time": "2023-01-13T11:50:32.280Z"
   },
   {
    "duration": 15,
    "start_time": "2023-01-13T11:50:32.303Z"
   },
   {
    "duration": 10,
    "start_time": "2023-01-13T11:50:32.320Z"
   },
   {
    "duration": 9,
    "start_time": "2023-01-13T11:50:32.331Z"
   },
   {
    "duration": 10,
    "start_time": "2023-01-13T11:50:32.342Z"
   },
   {
    "duration": 829,
    "start_time": "2023-01-13T11:50:32.353Z"
   },
   {
    "duration": 31,
    "start_time": "2023-01-13T11:50:33.183Z"
   },
   {
    "duration": 123,
    "start_time": "2023-01-13T11:50:33.216Z"
   },
   {
    "duration": 104,
    "start_time": "2023-01-13T11:50:33.342Z"
   },
   {
    "duration": 112,
    "start_time": "2023-01-13T11:50:33.448Z"
   },
   {
    "duration": 97,
    "start_time": "2023-01-13T11:50:33.562Z"
   },
   {
    "duration": 364,
    "start_time": "2023-01-13T11:50:33.663Z"
   },
   {
    "duration": 16,
    "start_time": "2023-01-13T11:50:34.029Z"
   },
   {
    "duration": 61,
    "start_time": "2023-01-13T11:50:34.047Z"
   },
   {
    "duration": 275,
    "start_time": "2023-01-13T11:50:34.112Z"
   },
   {
    "duration": 27,
    "start_time": "2023-01-13T11:50:34.388Z"
   },
   {
    "duration": 17,
    "start_time": "2023-01-13T11:50:34.417Z"
   },
   {
    "duration": 39,
    "start_time": "2023-01-13T11:50:34.436Z"
   },
   {
    "duration": 53,
    "start_time": "2023-01-13T11:50:34.477Z"
   },
   {
    "duration": 22,
    "start_time": "2023-01-13T11:50:34.532Z"
   },
   {
    "duration": 70,
    "start_time": "2023-01-13T11:50:34.556Z"
   },
   {
    "duration": 3,
    "start_time": "2023-01-13T11:50:34.627Z"
   },
   {
    "duration": 57,
    "start_time": "2023-01-13T11:50:34.632Z"
   },
   {
    "duration": 37,
    "start_time": "2023-01-13T11:50:34.698Z"
   },
   {
    "duration": 16,
    "start_time": "2023-01-13T11:50:34.737Z"
   },
   {
    "duration": 16,
    "start_time": "2023-01-13T11:50:34.755Z"
   },
   {
    "duration": 43,
    "start_time": "2023-01-13T11:50:34.772Z"
   },
   {
    "duration": 274,
    "start_time": "2023-01-13T11:50:34.817Z"
   },
   {
    "duration": 20,
    "start_time": "2023-01-13T11:50:35.100Z"
   },
   {
    "duration": 43,
    "start_time": "2023-01-13T11:50:35.122Z"
   },
   {
    "duration": 202,
    "start_time": "2023-01-13T11:50:35.167Z"
   },
   {
    "duration": 414,
    "start_time": "2023-01-13T11:50:35.371Z"
   },
   {
    "duration": 25,
    "start_time": "2023-01-13T11:50:35.786Z"
   },
   {
    "duration": 88,
    "start_time": "2023-01-13T11:50:35.813Z"
   },
   {
    "duration": 76,
    "start_time": "2023-01-13T11:50:35.903Z"
   },
   {
    "duration": 80,
    "start_time": "2023-01-13T11:50:35.981Z"
   },
   {
    "duration": 84,
    "start_time": "2023-01-13T11:50:36.063Z"
   },
   {
    "duration": 1382,
    "start_time": "2023-01-13T11:50:36.149Z"
   },
   {
    "duration": 65,
    "start_time": "2023-01-13T11:50:37.535Z"
   },
   {
    "duration": 18,
    "start_time": "2023-01-13T11:50:37.602Z"
   },
   {
    "duration": 868,
    "start_time": "2023-01-13T11:50:37.622Z"
   },
   {
    "duration": 8,
    "start_time": "2023-01-13T11:50:38.496Z"
   },
   {
    "duration": 13,
    "start_time": "2023-01-13T11:50:38.510Z"
   },
   {
    "duration": 51,
    "start_time": "2023-01-13T11:50:38.524Z"
   },
   {
    "duration": 360,
    "start_time": "2023-01-13T11:50:38.576Z"
   },
   {
    "duration": 9,
    "start_time": "2023-01-13T11:50:38.939Z"
   },
   {
    "duration": 6,
    "start_time": "2023-01-13T11:50:38.949Z"
   },
   {
    "duration": 5,
    "start_time": "2023-01-13T11:50:38.957Z"
   },
   {
    "duration": 451,
    "start_time": "2023-01-13T11:50:38.963Z"
   },
   {
    "duration": 6,
    "start_time": "2023-01-13T11:50:39.416Z"
   },
   {
    "duration": 128,
    "start_time": "2023-01-13T11:50:39.423Z"
   },
   {
    "duration": 7,
    "start_time": "2023-01-13T11:50:39.553Z"
   },
   {
    "duration": 48,
    "start_time": "2023-01-13T11:50:39.562Z"
   },
   {
    "duration": 12,
    "start_time": "2023-01-13T11:50:45.627Z"
   },
   {
    "duration": 107,
    "start_time": "2023-01-13T11:51:17.009Z"
   },
   {
    "duration": 45,
    "start_time": "2023-01-13T11:51:31.388Z"
   },
   {
    "duration": 80,
    "start_time": "2023-01-13T11:51:33.247Z"
   },
   {
    "duration": 16,
    "start_time": "2023-01-13T11:51:40.166Z"
   },
   {
    "duration": 44,
    "start_time": "2023-01-13T11:51:44.347Z"
   },
   {
    "duration": 16,
    "start_time": "2023-01-13T11:51:46.834Z"
   },
   {
    "duration": 78,
    "start_time": "2023-01-13T11:51:51.515Z"
   },
   {
    "duration": 39,
    "start_time": "2023-01-13T11:51:57.740Z"
   },
   {
    "duration": 115,
    "start_time": "2023-01-13T11:52:05.855Z"
   },
   {
    "duration": 12,
    "start_time": "2023-01-13T11:52:13.809Z"
   },
   {
    "duration": 90,
    "start_time": "2023-01-13T11:53:34.139Z"
   },
   {
    "duration": 359,
    "start_time": "2023-01-13T11:54:25.328Z"
   },
   {
    "duration": 11,
    "start_time": "2023-01-13T12:12:49.318Z"
   },
   {
    "duration": 12,
    "start_time": "2023-01-13T12:12:55.898Z"
   },
   {
    "duration": 11,
    "start_time": "2023-01-13T12:13:09.306Z"
   },
   {
    "duration": 3,
    "start_time": "2023-01-13T12:15:20.611Z"
   },
   {
    "duration": 5,
    "start_time": "2023-01-13T12:15:20.621Z"
   },
   {
    "duration": 6,
    "start_time": "2023-01-13T12:15:20.628Z"
   },
   {
    "duration": 17,
    "start_time": "2023-01-13T12:15:20.635Z"
   },
   {
    "duration": 9,
    "start_time": "2023-01-13T12:15:20.654Z"
   },
   {
    "duration": 7,
    "start_time": "2023-01-13T12:15:20.665Z"
   },
   {
    "duration": 19,
    "start_time": "2023-01-13T12:15:20.673Z"
   },
   {
    "duration": 792,
    "start_time": "2023-01-13T12:15:20.694Z"
   },
   {
    "duration": 22,
    "start_time": "2023-01-13T12:15:21.488Z"
   },
   {
    "duration": 119,
    "start_time": "2023-01-13T12:15:21.512Z"
   },
   {
    "duration": 94,
    "start_time": "2023-01-13T12:15:21.632Z"
   },
   {
    "duration": 109,
    "start_time": "2023-01-13T12:15:21.728Z"
   },
   {
    "duration": 85,
    "start_time": "2023-01-13T12:15:21.839Z"
   },
   {
    "duration": 391,
    "start_time": "2023-01-13T12:15:21.926Z"
   },
   {
    "duration": 17,
    "start_time": "2023-01-13T12:15:22.321Z"
   },
   {
    "duration": 71,
    "start_time": "2023-01-13T12:15:22.339Z"
   },
   {
    "duration": 278,
    "start_time": "2023-01-13T12:15:22.412Z"
   },
   {
    "duration": 21,
    "start_time": "2023-01-13T12:15:22.692Z"
   },
   {
    "duration": 17,
    "start_time": "2023-01-13T12:15:22.715Z"
   },
   {
    "duration": 41,
    "start_time": "2023-01-13T12:15:22.733Z"
   },
   {
    "duration": 53,
    "start_time": "2023-01-13T12:15:22.776Z"
   },
   {
    "duration": 21,
    "start_time": "2023-01-13T12:15:22.831Z"
   },
   {
    "duration": 57,
    "start_time": "2023-01-13T12:15:22.854Z"
   },
   {
    "duration": 2,
    "start_time": "2023-01-13T12:15:22.913Z"
   },
   {
    "duration": 34,
    "start_time": "2023-01-13T12:15:22.916Z"
   },
   {
    "duration": 16,
    "start_time": "2023-01-13T12:15:22.952Z"
   },
   {
    "duration": 39,
    "start_time": "2023-01-13T12:15:22.969Z"
   },
   {
    "duration": 20,
    "start_time": "2023-01-13T12:15:23.010Z"
   },
   {
    "duration": 32,
    "start_time": "2023-01-13T12:15:23.032Z"
   },
   {
    "duration": 257,
    "start_time": "2023-01-13T12:15:23.066Z"
   },
   {
    "duration": 15,
    "start_time": "2023-01-13T12:15:23.325Z"
   },
   {
    "duration": 41,
    "start_time": "2023-01-13T12:15:23.342Z"
   },
   {
    "duration": 87,
    "start_time": "2023-01-13T12:15:23.385Z"
   },
   {
    "duration": 185,
    "start_time": "2023-01-13T12:15:23.473Z"
   },
   {
    "duration": 380,
    "start_time": "2023-01-13T12:15:23.660Z"
   },
   {
    "duration": 12,
    "start_time": "2023-01-13T12:15:24.042Z"
   },
   {
    "duration": 98,
    "start_time": "2023-01-13T12:15:24.055Z"
   },
   {
    "duration": 71,
    "start_time": "2023-01-13T12:15:24.155Z"
   },
   {
    "duration": 82,
    "start_time": "2023-01-13T12:15:24.228Z"
   },
   {
    "duration": 64,
    "start_time": "2023-01-13T12:15:27.690Z"
   },
   {
    "duration": 458,
    "start_time": "2023-01-13T12:15:29.054Z"
   },
   {
    "duration": 11,
    "start_time": "2023-01-13T12:15:30.434Z"
   },
   {
    "duration": 3,
    "start_time": "2023-01-13T12:15:35.055Z"
   },
   {
    "duration": 5,
    "start_time": "2023-01-13T12:15:35.061Z"
   },
   {
    "duration": 16,
    "start_time": "2023-01-13T12:15:35.067Z"
   },
   {
    "duration": 7,
    "start_time": "2023-01-13T12:15:35.085Z"
   },
   {
    "duration": 19,
    "start_time": "2023-01-13T12:15:35.095Z"
   },
   {
    "duration": 9,
    "start_time": "2023-01-13T12:15:35.116Z"
   },
   {
    "duration": 39,
    "start_time": "2023-01-13T12:15:35.127Z"
   },
   {
    "duration": 830,
    "start_time": "2023-01-13T12:15:35.167Z"
   },
   {
    "duration": 21,
    "start_time": "2023-01-13T12:15:36.001Z"
   },
   {
    "duration": 167,
    "start_time": "2023-01-13T12:15:36.023Z"
   },
   {
    "duration": 121,
    "start_time": "2023-01-13T12:15:36.192Z"
   },
   {
    "duration": 115,
    "start_time": "2023-01-13T12:15:36.315Z"
   },
   {
    "duration": 89,
    "start_time": "2023-01-13T12:15:36.432Z"
   },
   {
    "duration": 398,
    "start_time": "2023-01-13T12:15:36.524Z"
   },
   {
    "duration": 16,
    "start_time": "2023-01-13T12:15:36.923Z"
   },
   {
    "duration": 60,
    "start_time": "2023-01-13T12:15:36.940Z"
   },
   {
    "duration": 410,
    "start_time": "2023-01-13T12:15:37.001Z"
   },
   {
    "duration": 15,
    "start_time": "2023-01-13T12:15:37.413Z"
   },
   {
    "duration": 20,
    "start_time": "2023-01-13T12:15:37.430Z"
   },
   {
    "duration": 57,
    "start_time": "2023-01-13T12:15:37.452Z"
   },
   {
    "duration": 34,
    "start_time": "2023-01-13T12:15:37.510Z"
   },
   {
    "duration": 35,
    "start_time": "2023-01-13T12:15:37.546Z"
   },
   {
    "duration": 92,
    "start_time": "2023-01-13T12:15:37.583Z"
   },
   {
    "duration": 2,
    "start_time": "2023-01-13T12:15:37.677Z"
   },
   {
    "duration": 47,
    "start_time": "2023-01-13T12:15:37.681Z"
   },
   {
    "duration": 21,
    "start_time": "2023-01-13T12:15:37.729Z"
   },
   {
    "duration": 40,
    "start_time": "2023-01-13T12:15:37.751Z"
   },
   {
    "duration": 32,
    "start_time": "2023-01-13T12:15:37.793Z"
   },
   {
    "duration": 36,
    "start_time": "2023-01-13T12:15:37.827Z"
   },
   {
    "duration": 260,
    "start_time": "2023-01-13T12:15:37.865Z"
   },
   {
    "duration": 16,
    "start_time": "2023-01-13T12:15:38.127Z"
   },
   {
    "duration": 32,
    "start_time": "2023-01-13T12:15:38.145Z"
   },
   {
    "duration": 103,
    "start_time": "2023-01-13T12:15:38.178Z"
   },
   {
    "duration": 193,
    "start_time": "2023-01-13T12:15:38.282Z"
   },
   {
    "duration": 383,
    "start_time": "2023-01-13T12:15:38.476Z"
   },
   {
    "duration": 11,
    "start_time": "2023-01-13T12:15:38.861Z"
   },
   {
    "duration": 98,
    "start_time": "2023-01-13T12:15:38.873Z"
   },
   {
    "duration": 63,
    "start_time": "2023-01-13T12:15:38.973Z"
   },
   {
    "duration": 81,
    "start_time": "2023-01-13T12:15:39.038Z"
   },
   {
    "duration": 62,
    "start_time": "2023-01-13T12:15:39.121Z"
   },
   {
    "duration": 464,
    "start_time": "2023-01-13T12:15:43.448Z"
   },
   {
    "duration": 13,
    "start_time": "2023-01-13T12:15:46.047Z"
   },
   {
    "duration": 32,
    "start_time": "2023-01-13T12:15:46.828Z"
   },
   {
    "duration": 444,
    "start_time": "2023-01-13T12:15:48.546Z"
   },
   {
    "duration": 7,
    "start_time": "2023-01-13T12:15:50.006Z"
   },
   {
    "duration": 7,
    "start_time": "2023-01-13T12:15:50.878Z"
   },
   {
    "duration": 7,
    "start_time": "2023-01-13T12:16:21.175Z"
   },
   {
    "duration": 7,
    "start_time": "2023-01-13T12:16:21.843Z"
   },
   {
    "duration": 25,
    "start_time": "2023-01-13T12:16:22.910Z"
   },
   {
    "duration": 394,
    "start_time": "2023-01-13T12:16:26.347Z"
   },
   {
    "duration": 4,
    "start_time": "2023-01-13T12:16:35.135Z"
   },
   {
    "duration": 28,
    "start_time": "2023-01-13T12:16:35.141Z"
   },
   {
    "duration": 18,
    "start_time": "2023-01-13T12:16:35.170Z"
   },
   {
    "duration": 35,
    "start_time": "2023-01-13T12:16:35.190Z"
   },
   {
    "duration": 17,
    "start_time": "2023-01-13T12:16:35.228Z"
   },
   {
    "duration": 11,
    "start_time": "2023-01-13T12:16:35.247Z"
   },
   {
    "duration": 20,
    "start_time": "2023-01-13T12:16:35.260Z"
   },
   {
    "duration": 833,
    "start_time": "2023-01-13T12:16:35.282Z"
   },
   {
    "duration": 19,
    "start_time": "2023-01-13T12:16:36.117Z"
   },
   {
    "duration": 182,
    "start_time": "2023-01-13T12:16:36.138Z"
   },
   {
    "duration": 128,
    "start_time": "2023-01-13T12:16:36.322Z"
   },
   {
    "duration": 135,
    "start_time": "2023-01-13T12:16:36.452Z"
   },
   {
    "duration": 110,
    "start_time": "2023-01-13T12:16:36.590Z"
   },
   {
    "duration": 407,
    "start_time": "2023-01-13T12:16:36.704Z"
   },
   {
    "duration": 26,
    "start_time": "2023-01-13T12:16:37.113Z"
   },
   {
    "duration": 58,
    "start_time": "2023-01-13T12:16:37.141Z"
   },
   {
    "duration": 315,
    "start_time": "2023-01-13T12:16:37.201Z"
   },
   {
    "duration": 16,
    "start_time": "2023-01-13T12:16:37.518Z"
   },
   {
    "duration": 20,
    "start_time": "2023-01-13T12:16:37.536Z"
   },
   {
    "duration": 76,
    "start_time": "2023-01-13T12:16:37.558Z"
   },
   {
    "duration": 34,
    "start_time": "2023-01-13T12:16:37.636Z"
   },
   {
    "duration": 34,
    "start_time": "2023-01-13T12:16:37.672Z"
   },
   {
    "duration": 46,
    "start_time": "2023-01-13T12:16:37.708Z"
   },
   {
    "duration": 2,
    "start_time": "2023-01-13T12:16:37.756Z"
   },
   {
    "duration": 53,
    "start_time": "2023-01-13T12:16:37.760Z"
   },
   {
    "duration": 30,
    "start_time": "2023-01-13T12:16:37.814Z"
   },
   {
    "duration": 16,
    "start_time": "2023-01-13T12:16:37.846Z"
   },
   {
    "duration": 21,
    "start_time": "2023-01-13T12:16:37.864Z"
   },
   {
    "duration": 43,
    "start_time": "2023-01-13T12:16:37.898Z"
   },
   {
    "duration": 261,
    "start_time": "2023-01-13T12:16:37.943Z"
   },
   {
    "duration": 16,
    "start_time": "2023-01-13T12:16:38.210Z"
   },
   {
    "duration": 31,
    "start_time": "2023-01-13T12:16:38.228Z"
   },
   {
    "duration": 103,
    "start_time": "2023-01-13T12:16:38.261Z"
   },
   {
    "duration": 189,
    "start_time": "2023-01-13T12:16:38.366Z"
   },
   {
    "duration": 398,
    "start_time": "2023-01-13T12:16:38.557Z"
   },
   {
    "duration": 11,
    "start_time": "2023-01-13T12:16:38.958Z"
   },
   {
    "duration": 101,
    "start_time": "2023-01-13T12:16:38.971Z"
   },
   {
    "duration": 77,
    "start_time": "2023-01-13T12:16:39.073Z"
   },
   {
    "duration": 106,
    "start_time": "2023-01-13T12:16:39.152Z"
   },
   {
    "duration": 76,
    "start_time": "2023-01-13T12:16:39.259Z"
   },
   {
    "duration": 523,
    "start_time": "2023-01-13T12:16:39.340Z"
   },
   {
    "duration": 12,
    "start_time": "2023-01-13T12:16:39.865Z"
   },
   {
    "duration": 31,
    "start_time": "2023-01-13T12:16:39.879Z"
   },
   {
    "duration": 501,
    "start_time": "2023-01-13T12:16:39.917Z"
   },
   {
    "duration": 7,
    "start_time": "2023-01-13T12:16:40.420Z"
   },
   {
    "duration": 12,
    "start_time": "2023-01-13T12:16:40.428Z"
   },
   {
    "duration": 46,
    "start_time": "2023-01-13T12:16:40.442Z"
   },
   {
    "duration": 336,
    "start_time": "2023-01-13T12:16:42.714Z"
   },
   {
    "duration": 10,
    "start_time": "2023-01-13T12:16:43.975Z"
   },
   {
    "duration": 7,
    "start_time": "2023-01-13T12:16:45.074Z"
   },
   {
    "duration": 12,
    "start_time": "2023-01-13T12:16:49.543Z"
   },
   {
    "duration": 12,
    "start_time": "2023-01-13T12:16:54.854Z"
   },
   {
    "duration": 66,
    "start_time": "2023-01-13T12:17:20.146Z"
   },
   {
    "duration": 13,
    "start_time": "2023-01-13T12:17:27.266Z"
   },
   {
    "duration": 11,
    "start_time": "2023-01-13T12:17:34.626Z"
   },
   {
    "duration": 25,
    "start_time": "2023-01-13T12:17:48.186Z"
   },
   {
    "duration": 10,
    "start_time": "2023-01-13T12:18:12.366Z"
   },
   {
    "duration": 33,
    "start_time": "2023-01-13T12:18:20.775Z"
   },
   {
    "duration": 11,
    "start_time": "2023-01-13T12:18:27.076Z"
   },
   {
    "duration": 6,
    "start_time": "2023-01-13T12:18:34.526Z"
   },
   {
    "duration": 6,
    "start_time": "2023-01-13T12:18:35.335Z"
   },
   {
    "duration": 7,
    "start_time": "2023-01-13T12:18:48.146Z"
   },
   {
    "duration": 6,
    "start_time": "2023-01-13T12:18:53.006Z"
   },
   {
    "duration": 6,
    "start_time": "2023-01-13T12:18:56.442Z"
   },
   {
    "duration": 7,
    "start_time": "2023-01-13T12:19:05.622Z"
   },
   {
    "duration": 6,
    "start_time": "2023-01-13T12:19:07.026Z"
   },
   {
    "duration": 6,
    "start_time": "2023-01-13T12:19:07.526Z"
   },
   {
    "duration": 7,
    "start_time": "2023-01-13T12:19:11.595Z"
   },
   {
    "duration": 14,
    "start_time": "2023-01-13T12:19:11.605Z"
   },
   {
    "duration": 14,
    "start_time": "2023-01-13T12:19:11.621Z"
   },
   {
    "duration": 7,
    "start_time": "2023-01-13T12:19:11.637Z"
   },
   {
    "duration": 8,
    "start_time": "2023-01-13T12:19:11.645Z"
   },
   {
    "duration": 11,
    "start_time": "2023-01-13T12:19:11.654Z"
   },
   {
    "duration": 10,
    "start_time": "2023-01-13T12:19:11.667Z"
   },
   {
    "duration": 729,
    "start_time": "2023-01-13T12:19:11.678Z"
   },
   {
    "duration": 13,
    "start_time": "2023-01-13T12:19:12.409Z"
   },
   {
    "duration": 119,
    "start_time": "2023-01-13T12:19:12.424Z"
   },
   {
    "duration": 93,
    "start_time": "2023-01-13T12:19:12.546Z"
   },
   {
    "duration": 106,
    "start_time": "2023-01-13T12:19:12.640Z"
   },
   {
    "duration": 87,
    "start_time": "2023-01-13T12:19:12.747Z"
   },
   {
    "duration": 274,
    "start_time": "2023-01-13T12:19:12.836Z"
   },
   {
    "duration": 14,
    "start_time": "2023-01-13T12:19:13.112Z"
   },
   {
    "duration": 50,
    "start_time": "2023-01-13T12:19:13.128Z"
   },
   {
    "duration": 286,
    "start_time": "2023-01-13T12:19:13.179Z"
   },
   {
    "duration": 14,
    "start_time": "2023-01-13T12:19:13.466Z"
   },
   {
    "duration": 33,
    "start_time": "2023-01-13T12:19:13.481Z"
   },
   {
    "duration": 39,
    "start_time": "2023-01-13T12:19:13.515Z"
   },
   {
    "duration": 57,
    "start_time": "2023-01-13T12:19:13.556Z"
   },
   {
    "duration": 21,
    "start_time": "2023-01-13T12:19:13.614Z"
   },
   {
    "duration": 40,
    "start_time": "2023-01-13T12:19:13.636Z"
   },
   {
    "duration": 2,
    "start_time": "2023-01-13T12:19:13.678Z"
   },
   {
    "duration": 46,
    "start_time": "2023-01-13T12:19:13.682Z"
   },
   {
    "duration": 15,
    "start_time": "2023-01-13T12:19:13.730Z"
   },
   {
    "duration": 17,
    "start_time": "2023-01-13T12:19:13.747Z"
   },
   {
    "duration": 21,
    "start_time": "2023-01-13T12:19:13.766Z"
   },
   {
    "duration": 45,
    "start_time": "2023-01-13T12:19:13.798Z"
   },
   {
    "duration": 136,
    "start_time": "2023-01-13T12:19:13.844Z"
   },
   {
    "duration": 25,
    "start_time": "2023-01-13T12:19:13.981Z"
   },
   {
    "duration": 34,
    "start_time": "2023-01-13T12:19:14.008Z"
   },
   {
    "duration": 89,
    "start_time": "2023-01-13T12:19:14.043Z"
   },
   {
    "duration": 177,
    "start_time": "2023-01-13T12:19:14.134Z"
   },
   {
    "duration": 354,
    "start_time": "2023-01-13T12:19:14.313Z"
   },
   {
    "duration": 10,
    "start_time": "2023-01-13T12:19:14.669Z"
   },
   {
    "duration": 88,
    "start_time": "2023-01-13T12:19:14.681Z"
   },
   {
    "duration": 65,
    "start_time": "2023-01-13T12:19:14.771Z"
   },
   {
    "duration": 78,
    "start_time": "2023-01-13T12:19:14.838Z"
   },
   {
    "duration": 61,
    "start_time": "2023-01-13T12:19:14.918Z"
   },
   {
    "duration": 134,
    "start_time": "2023-01-13T12:19:14.981Z"
   },
   {
    "duration": 12,
    "start_time": "2023-01-13T12:19:15.117Z"
   },
   {
    "duration": 8,
    "start_time": "2023-01-13T12:19:15.131Z"
   },
   {
    "duration": 178,
    "start_time": "2023-01-13T12:19:15.141Z"
   },
   {
    "duration": 6,
    "start_time": "2023-01-13T12:19:15.321Z"
   },
   {
    "duration": 10,
    "start_time": "2023-01-13T12:19:15.329Z"
   },
   {
    "duration": 7,
    "start_time": "2023-01-13T12:19:15.341Z"
   },
   {
    "duration": 130,
    "start_time": "2023-01-13T12:19:15.350Z"
   },
   {
    "duration": 6,
    "start_time": "2023-01-13T12:19:15.482Z"
   },
   {
    "duration": 10,
    "start_time": "2023-01-13T12:19:15.501Z"
   },
   {
    "duration": 8,
    "start_time": "2023-01-13T12:19:15.513Z"
   },
   {
    "duration": 11,
    "start_time": "2023-01-13T12:19:15.522Z"
   },
   {
    "duration": 7,
    "start_time": "2023-01-13T12:19:18.374Z"
   },
   {
    "duration": 5,
    "start_time": "2023-01-13T12:19:18.742Z"
   },
   {
    "duration": 5,
    "start_time": "2023-01-13T12:19:19.350Z"
   },
   {
    "duration": 95,
    "start_time": "2023-01-13T12:19:21.734Z"
   },
   {
    "duration": 6,
    "start_time": "2023-01-13T12:19:32.462Z"
   },
   {
    "duration": 99,
    "start_time": "2023-01-13T12:19:34.436Z"
   },
   {
    "duration": 7,
    "start_time": "2023-01-13T12:19:37.006Z"
   },
   {
    "duration": 4,
    "start_time": "2023-01-13T12:19:37.414Z"
   },
   {
    "duration": 13,
    "start_time": "2023-01-13T12:19:37.946Z"
   },
   {
    "duration": 13,
    "start_time": "2023-01-13T12:19:41.717Z"
   },
   {
    "duration": 340,
    "start_time": "2023-01-13T12:19:45.091Z"
   },
   {
    "duration": 60,
    "start_time": "2023-01-13T12:19:47.807Z"
   },
   {
    "duration": 9,
    "start_time": "2023-01-13T12:25:04.236Z"
   },
   {
    "duration": 19,
    "start_time": "2023-01-13T12:59:18.889Z"
   },
   {
    "duration": 21,
    "start_time": "2023-01-13T12:59:35.142Z"
   },
   {
    "duration": 15,
    "start_time": "2023-01-13T13:00:18.004Z"
   },
   {
    "duration": 9,
    "start_time": "2023-01-13T13:00:31.848Z"
   },
   {
    "duration": 12,
    "start_time": "2023-01-13T13:00:47.396Z"
   },
   {
    "duration": 4,
    "start_time": "2023-01-13T13:03:10.721Z"
   },
   {
    "duration": 21,
    "start_time": "2023-01-13T13:03:32.722Z"
   },
   {
    "duration": 3,
    "start_time": "2023-01-13T13:04:08.321Z"
   },
   {
    "duration": 3,
    "start_time": "2023-01-13T13:04:08.960Z"
   },
   {
    "duration": 39,
    "start_time": "2023-01-13T13:04:09.509Z"
   },
   {
    "duration": 17,
    "start_time": "2023-01-13T13:04:28.549Z"
   },
   {
    "duration": 3,
    "start_time": "2023-01-13T13:05:26.852Z"
   },
   {
    "duration": 3,
    "start_time": "2023-01-13T13:05:27.230Z"
   },
   {
    "duration": 711,
    "start_time": "2023-01-13T13:05:27.589Z"
   },
   {
    "duration": 13,
    "start_time": "2023-01-13T13:06:40.388Z"
   },
   {
    "duration": 3,
    "start_time": "2023-01-13T13:07:05.809Z"
   },
   {
    "duration": 8,
    "start_time": "2023-01-13T13:07:05.815Z"
   },
   {
    "duration": 14,
    "start_time": "2023-01-13T13:07:05.825Z"
   },
   {
    "duration": 8,
    "start_time": "2023-01-13T13:07:05.841Z"
   },
   {
    "duration": 5,
    "start_time": "2023-01-13T13:07:05.851Z"
   },
   {
    "duration": 9,
    "start_time": "2023-01-13T13:07:05.857Z"
   },
   {
    "duration": 10,
    "start_time": "2023-01-13T13:07:05.867Z"
   },
   {
    "duration": 833,
    "start_time": "2023-01-13T13:07:05.896Z"
   },
   {
    "duration": 13,
    "start_time": "2023-01-13T13:07:06.731Z"
   },
   {
    "duration": 137,
    "start_time": "2023-01-13T13:07:06.746Z"
   },
   {
    "duration": 97,
    "start_time": "2023-01-13T13:07:06.885Z"
   },
   {
    "duration": 112,
    "start_time": "2023-01-13T13:07:06.985Z"
   },
   {
    "duration": 79,
    "start_time": "2023-01-13T13:07:07.099Z"
   },
   {
    "duration": 304,
    "start_time": "2023-01-13T13:07:07.196Z"
   },
   {
    "duration": 24,
    "start_time": "2023-01-13T13:07:07.502Z"
   },
   {
    "duration": 46,
    "start_time": "2023-01-13T13:07:07.528Z"
   },
   {
    "duration": 242,
    "start_time": "2023-01-13T13:07:07.575Z"
   },
   {
    "duration": 19,
    "start_time": "2023-01-13T13:07:07.819Z"
   },
   {
    "duration": 16,
    "start_time": "2023-01-13T13:07:07.840Z"
   },
   {
    "duration": 68,
    "start_time": "2023-01-13T13:07:07.857Z"
   },
   {
    "duration": 32,
    "start_time": "2023-01-13T13:07:07.928Z"
   },
   {
    "duration": 15,
    "start_time": "2023-01-13T13:07:07.962Z"
   },
   {
    "duration": 56,
    "start_time": "2023-01-13T13:07:07.998Z"
   },
   {
    "duration": 2,
    "start_time": "2023-01-13T13:07:08.056Z"
   },
   {
    "duration": 73,
    "start_time": "2023-01-13T13:07:08.060Z"
   },
   {
    "duration": 17,
    "start_time": "2023-01-13T13:07:08.135Z"
   },
   {
    "duration": 16,
    "start_time": "2023-01-13T13:07:08.153Z"
   },
   {
    "duration": 16,
    "start_time": "2023-01-13T13:07:08.171Z"
   },
   {
    "duration": 49,
    "start_time": "2023-01-13T13:07:08.188Z"
   },
   {
    "duration": 157,
    "start_time": "2023-01-13T13:07:08.239Z"
   },
   {
    "duration": 22,
    "start_time": "2023-01-13T13:07:08.399Z"
   },
   {
    "duration": 31,
    "start_time": "2023-01-13T13:07:08.423Z"
   },
   {
    "duration": 100,
    "start_time": "2023-01-13T13:07:08.455Z"
   },
   {
    "duration": 180,
    "start_time": "2023-01-13T13:07:08.557Z"
   },
   {
    "duration": 332,
    "start_time": "2023-01-13T13:07:08.739Z"
   },
   {
    "duration": 12,
    "start_time": "2023-01-13T13:07:09.073Z"
   },
   {
    "duration": 74,
    "start_time": "2023-01-13T13:07:09.087Z"
   },
   {
    "duration": 70,
    "start_time": "2023-01-13T13:07:09.163Z"
   },
   {
    "duration": 131,
    "start_time": "2023-01-13T13:07:09.235Z"
   },
   {
    "duration": 10,
    "start_time": "2023-01-13T13:07:09.367Z"
   },
   {
    "duration": 4,
    "start_time": "2023-01-13T13:07:09.381Z"
   },
   {
    "duration": 265,
    "start_time": "2023-01-13T13:07:09.397Z"
   },
   {
    "duration": 5,
    "start_time": "2023-01-13T13:07:09.664Z"
   },
   {
    "duration": 8,
    "start_time": "2023-01-13T13:07:09.671Z"
   },
   {
    "duration": 22,
    "start_time": "2023-01-13T13:07:09.681Z"
   },
   {
    "duration": 142,
    "start_time": "2023-01-13T13:07:09.705Z"
   },
   {
    "duration": 6,
    "start_time": "2023-01-13T13:07:09.849Z"
   },
   {
    "duration": 15,
    "start_time": "2023-01-13T13:07:09.856Z"
   },
   {
    "duration": 7,
    "start_time": "2023-01-13T13:07:09.873Z"
   },
   {
    "duration": 10,
    "start_time": "2023-01-13T13:07:09.897Z"
   },
   {
    "duration": 12,
    "start_time": "2023-01-13T13:07:09.910Z"
   },
   {
    "duration": 13,
    "start_time": "2023-01-13T13:07:09.924Z"
   },
   {
    "duration": 136,
    "start_time": "2023-01-13T13:07:09.939Z"
   },
   {
    "duration": 6,
    "start_time": "2023-01-13T13:07:10.076Z"
   },
   {
    "duration": 883,
    "start_time": "2023-01-13T13:07:10.096Z"
   },
   {
    "duration": 0,
    "start_time": "2023-01-13T13:07:10.981Z"
   },
   {
    "duration": 0,
    "start_time": "2023-01-13T13:07:10.982Z"
   },
   {
    "duration": 0,
    "start_time": "2023-01-13T13:07:10.983Z"
   },
   {
    "duration": 0,
    "start_time": "2023-01-13T13:07:10.983Z"
   },
   {
    "duration": 0,
    "start_time": "2023-01-13T13:07:10.984Z"
   },
   {
    "duration": 0,
    "start_time": "2023-01-13T13:07:10.985Z"
   },
   {
    "duration": 0,
    "start_time": "2023-01-13T13:07:10.986Z"
   },
   {
    "duration": 0,
    "start_time": "2023-01-13T13:07:10.987Z"
   },
   {
    "duration": 0,
    "start_time": "2023-01-13T13:07:10.988Z"
   },
   {
    "duration": 0,
    "start_time": "2023-01-13T13:07:10.989Z"
   },
   {
    "duration": 0,
    "start_time": "2023-01-13T13:07:10.990Z"
   },
   {
    "duration": 0,
    "start_time": "2023-01-13T13:07:10.991Z"
   },
   {
    "duration": 25,
    "start_time": "2023-01-13T13:07:46.248Z"
   },
   {
    "duration": 15,
    "start_time": "2023-01-13T13:07:57.860Z"
   },
   {
    "duration": 3,
    "start_time": "2023-01-13T13:08:06.290Z"
   },
   {
    "duration": 18,
    "start_time": "2023-01-13T13:08:06.296Z"
   },
   {
    "duration": 10,
    "start_time": "2023-01-13T13:08:06.317Z"
   },
   {
    "duration": 5,
    "start_time": "2023-01-13T13:08:06.331Z"
   },
   {
    "duration": 36,
    "start_time": "2023-01-13T13:08:06.339Z"
   },
   {
    "duration": 9,
    "start_time": "2023-01-13T13:08:06.377Z"
   },
   {
    "duration": 46,
    "start_time": "2023-01-13T13:08:06.388Z"
   },
   {
    "duration": 891,
    "start_time": "2023-01-13T13:08:06.436Z"
   },
   {
    "duration": 13,
    "start_time": "2023-01-13T13:08:07.328Z"
   },
   {
    "duration": 133,
    "start_time": "2023-01-13T13:08:07.343Z"
   },
   {
    "duration": 107,
    "start_time": "2023-01-13T13:08:07.479Z"
   },
   {
    "duration": 108,
    "start_time": "2023-01-13T13:08:07.588Z"
   },
   {
    "duration": 146,
    "start_time": "2023-01-13T13:08:07.698Z"
   },
   {
    "duration": 312,
    "start_time": "2023-01-13T13:08:07.847Z"
   },
   {
    "duration": 35,
    "start_time": "2023-01-13T13:08:08.161Z"
   },
   {
    "duration": 72,
    "start_time": "2023-01-13T13:08:08.199Z"
   },
   {
    "duration": 259,
    "start_time": "2023-01-13T13:08:08.273Z"
   },
   {
    "duration": 16,
    "start_time": "2023-01-13T13:08:08.533Z"
   },
   {
    "duration": 17,
    "start_time": "2023-01-13T13:08:08.551Z"
   },
   {
    "duration": 80,
    "start_time": "2023-01-13T13:08:08.570Z"
   },
   {
    "duration": 32,
    "start_time": "2023-01-13T13:08:08.652Z"
   },
   {
    "duration": 24,
    "start_time": "2023-01-13T13:08:08.697Z"
   },
   {
    "duration": 74,
    "start_time": "2023-01-13T13:08:08.724Z"
   },
   {
    "duration": 4,
    "start_time": "2023-01-13T13:08:08.801Z"
   },
   {
    "duration": 47,
    "start_time": "2023-01-13T13:08:08.808Z"
   },
   {
    "duration": 16,
    "start_time": "2023-01-13T13:08:08.856Z"
   },
   {
    "duration": 38,
    "start_time": "2023-01-13T13:08:08.874Z"
   },
   {
    "duration": 30,
    "start_time": "2023-01-13T13:08:08.914Z"
   },
   {
    "duration": 61,
    "start_time": "2023-01-13T13:08:08.946Z"
   },
   {
    "duration": 159,
    "start_time": "2023-01-13T13:08:09.009Z"
   },
   {
    "duration": 39,
    "start_time": "2023-01-13T13:08:09.171Z"
   },
   {
    "duration": 39,
    "start_time": "2023-01-13T13:08:09.212Z"
   },
   {
    "duration": 128,
    "start_time": "2023-01-13T13:08:09.253Z"
   },
   {
    "duration": 185,
    "start_time": "2023-01-13T13:08:09.382Z"
   },
   {
    "duration": 340,
    "start_time": "2023-01-13T13:08:09.569Z"
   },
   {
    "duration": 19,
    "start_time": "2023-01-13T13:08:09.910Z"
   },
   {
    "duration": 96,
    "start_time": "2023-01-13T13:08:09.932Z"
   },
   {
    "duration": 78,
    "start_time": "2023-01-13T13:08:10.029Z"
   },
   {
    "duration": 145,
    "start_time": "2023-01-13T13:08:10.109Z"
   },
   {
    "duration": 13,
    "start_time": "2023-01-13T13:08:10.256Z"
   },
   {
    "duration": 24,
    "start_time": "2023-01-13T13:08:10.275Z"
   },
   {
    "duration": 157,
    "start_time": "2023-01-13T13:08:10.301Z"
   },
   {
    "duration": 8,
    "start_time": "2023-01-13T13:08:10.459Z"
   },
   {
    "duration": 14,
    "start_time": "2023-01-13T13:08:10.469Z"
   },
   {
    "duration": 6,
    "start_time": "2023-01-13T13:08:10.497Z"
   },
   {
    "duration": 148,
    "start_time": "2023-01-13T13:08:10.505Z"
   },
   {
    "duration": 5,
    "start_time": "2023-01-13T13:08:10.655Z"
   },
   {
    "duration": 8,
    "start_time": "2023-01-13T13:08:10.662Z"
   },
   {
    "duration": 26,
    "start_time": "2023-01-13T13:08:10.672Z"
   },
   {
    "duration": 10,
    "start_time": "2023-01-13T13:08:10.701Z"
   },
   {
    "duration": 10,
    "start_time": "2023-01-13T13:08:10.713Z"
   },
   {
    "duration": 9,
    "start_time": "2023-01-13T13:08:10.725Z"
   },
   {
    "duration": 137,
    "start_time": "2023-01-13T13:08:10.736Z"
   },
   {
    "duration": 23,
    "start_time": "2023-01-13T13:08:10.876Z"
   },
   {
    "duration": 21,
    "start_time": "2023-01-13T13:08:10.901Z"
   },
   {
    "duration": 762,
    "start_time": "2023-01-13T13:08:10.925Z"
   },
   {
    "duration": 0,
    "start_time": "2023-01-13T13:08:11.690Z"
   },
   {
    "duration": 0,
    "start_time": "2023-01-13T13:08:11.692Z"
   },
   {
    "duration": 0,
    "start_time": "2023-01-13T13:08:11.693Z"
   },
   {
    "duration": 0,
    "start_time": "2023-01-13T13:08:11.695Z"
   },
   {
    "duration": 0,
    "start_time": "2023-01-13T13:08:11.697Z"
   },
   {
    "duration": 1,
    "start_time": "2023-01-13T13:08:11.698Z"
   },
   {
    "duration": 0,
    "start_time": "2023-01-13T13:08:11.700Z"
   },
   {
    "duration": 0,
    "start_time": "2023-01-13T13:08:11.702Z"
   },
   {
    "duration": 0,
    "start_time": "2023-01-13T13:08:11.703Z"
   },
   {
    "duration": 0,
    "start_time": "2023-01-13T13:08:11.705Z"
   },
   {
    "duration": 0,
    "start_time": "2023-01-13T13:08:11.706Z"
   },
   {
    "duration": 0,
    "start_time": "2023-01-13T13:08:11.708Z"
   },
   {
    "duration": 0,
    "start_time": "2023-01-13T13:08:11.709Z"
   },
   {
    "duration": 20,
    "start_time": "2023-01-13T13:08:18.621Z"
   },
   {
    "duration": 20,
    "start_time": "2023-01-13T13:09:06.921Z"
   },
   {
    "duration": 7,
    "start_time": "2023-01-13T13:10:12.560Z"
   },
   {
    "duration": 758,
    "start_time": "2023-01-13T13:10:15.100Z"
   },
   {
    "duration": 740,
    "start_time": "2023-01-13T13:10:16.426Z"
   },
   {
    "duration": 3,
    "start_time": "2023-01-13T13:10:22.122Z"
   },
   {
    "duration": 8,
    "start_time": "2023-01-13T13:10:22.128Z"
   },
   {
    "duration": 11,
    "start_time": "2023-01-13T13:10:22.139Z"
   },
   {
    "duration": 15,
    "start_time": "2023-01-13T13:10:22.152Z"
   },
   {
    "duration": 5,
    "start_time": "2023-01-13T13:10:22.170Z"
   },
   {
    "duration": 16,
    "start_time": "2023-01-13T13:10:22.177Z"
   },
   {
    "duration": 1,
    "start_time": "2023-01-13T13:10:22.196Z"
   },
   {
    "duration": 0,
    "start_time": "2023-01-13T13:10:22.199Z"
   },
   {
    "duration": 0,
    "start_time": "2023-01-13T13:10:22.200Z"
   },
   {
    "duration": 0,
    "start_time": "2023-01-13T13:10:22.210Z"
   },
   {
    "duration": 0,
    "start_time": "2023-01-13T13:10:22.211Z"
   },
   {
    "duration": 0,
    "start_time": "2023-01-13T13:10:22.212Z"
   },
   {
    "duration": 0,
    "start_time": "2023-01-13T13:10:22.213Z"
   },
   {
    "duration": 0,
    "start_time": "2023-01-13T13:10:22.215Z"
   },
   {
    "duration": 0,
    "start_time": "2023-01-13T13:10:22.216Z"
   },
   {
    "duration": 1,
    "start_time": "2023-01-13T13:10:22.217Z"
   },
   {
    "duration": 0,
    "start_time": "2023-01-13T13:10:22.219Z"
   },
   {
    "duration": 0,
    "start_time": "2023-01-13T13:10:22.220Z"
   },
   {
    "duration": 0,
    "start_time": "2023-01-13T13:10:22.221Z"
   },
   {
    "duration": 0,
    "start_time": "2023-01-13T13:10:22.223Z"
   },
   {
    "duration": 0,
    "start_time": "2023-01-13T13:10:22.224Z"
   },
   {
    "duration": 0,
    "start_time": "2023-01-13T13:10:22.226Z"
   },
   {
    "duration": 0,
    "start_time": "2023-01-13T13:10:22.227Z"
   },
   {
    "duration": 0,
    "start_time": "2023-01-13T13:10:22.229Z"
   },
   {
    "duration": 0,
    "start_time": "2023-01-13T13:10:22.233Z"
   },
   {
    "duration": 0,
    "start_time": "2023-01-13T13:10:22.234Z"
   },
   {
    "duration": 0,
    "start_time": "2023-01-13T13:10:22.235Z"
   },
   {
    "duration": 0,
    "start_time": "2023-01-13T13:10:22.236Z"
   },
   {
    "duration": 0,
    "start_time": "2023-01-13T13:10:22.237Z"
   },
   {
    "duration": 0,
    "start_time": "2023-01-13T13:10:22.238Z"
   },
   {
    "duration": 0,
    "start_time": "2023-01-13T13:10:22.240Z"
   },
   {
    "duration": 0,
    "start_time": "2023-01-13T13:10:22.241Z"
   },
   {
    "duration": 0,
    "start_time": "2023-01-13T13:10:22.242Z"
   },
   {
    "duration": 0,
    "start_time": "2023-01-13T13:10:22.244Z"
   },
   {
    "duration": 0,
    "start_time": "2023-01-13T13:10:22.245Z"
   },
   {
    "duration": 0,
    "start_time": "2023-01-13T13:10:22.246Z"
   },
   {
    "duration": 0,
    "start_time": "2023-01-13T13:10:22.247Z"
   },
   {
    "duration": 0,
    "start_time": "2023-01-13T13:10:22.248Z"
   },
   {
    "duration": 0,
    "start_time": "2023-01-13T13:10:22.297Z"
   },
   {
    "duration": 0,
    "start_time": "2023-01-13T13:10:22.299Z"
   },
   {
    "duration": 0,
    "start_time": "2023-01-13T13:10:22.300Z"
   },
   {
    "duration": 472,
    "start_time": "2023-01-13T13:10:47.080Z"
   },
   {
    "duration": 778,
    "start_time": "2023-01-13T13:10:47.554Z"
   },
   {
    "duration": 75,
    "start_time": "2023-01-13T13:10:48.334Z"
   },
   {
    "duration": 371,
    "start_time": "2023-01-13T13:10:48.412Z"
   },
   {
    "duration": 4,
    "start_time": "2023-01-13T13:10:49.047Z"
   },
   {
    "duration": 127,
    "start_time": "2023-01-13T13:10:49.817Z"
   },
   {
    "duration": 13,
    "start_time": "2023-01-13T13:10:50.469Z"
   },
   {
    "duration": 931,
    "start_time": "2023-01-13T13:10:52.580Z"
   },
   {
    "duration": 22,
    "start_time": "2023-01-13T13:10:53.514Z"
   },
   {
    "duration": 135,
    "start_time": "2023-01-13T13:10:54.135Z"
   },
   {
    "duration": 115,
    "start_time": "2023-01-13T13:10:54.339Z"
   },
   {
    "duration": 114,
    "start_time": "2023-01-13T13:10:55.256Z"
   },
   {
    "duration": 76,
    "start_time": "2023-01-13T13:10:56.207Z"
   },
   {
    "duration": 15,
    "start_time": "2023-01-13T13:10:56.621Z"
   },
   {
    "duration": 16,
    "start_time": "2023-01-13T13:10:56.855Z"
   },
   {
    "duration": 57,
    "start_time": "2023-01-13T13:10:57.079Z"
   },
   {
    "duration": 11,
    "start_time": "2023-01-13T13:11:51.424Z"
   },
   {
    "duration": 8,
    "start_time": "2023-01-13T13:11:52.223Z"
   },
   {
    "duration": 21,
    "start_time": "2023-01-13T13:11:52.954Z"
   },
   {
    "duration": 24,
    "start_time": "2023-01-13T13:12:18.608Z"
   },
   {
    "duration": 445,
    "start_time": "2023-01-13T13:12:41.433Z"
   },
   {
    "duration": 774,
    "start_time": "2023-01-13T13:12:41.880Z"
   },
   {
    "duration": 90,
    "start_time": "2023-01-13T13:12:42.655Z"
   },
   {
    "duration": 334,
    "start_time": "2023-01-13T13:12:42.747Z"
   },
   {
    "duration": 3,
    "start_time": "2023-01-13T13:12:43.084Z"
   },
   {
    "duration": 885,
    "start_time": "2023-01-13T13:12:43.088Z"
   },
   {
    "duration": 24,
    "start_time": "2023-01-13T13:12:43.974Z"
   },
   {
    "duration": 118,
    "start_time": "2023-01-13T13:12:43.999Z"
   },
   {
    "duration": 115,
    "start_time": "2023-01-13T13:12:44.120Z"
   },
   {
    "duration": 7,
    "start_time": "2023-01-13T13:12:44.236Z"
   },
   {
    "duration": 22,
    "start_time": "2023-01-13T13:12:44.244Z"
   },
   {
    "duration": 23,
    "start_time": "2023-01-13T13:12:46.980Z"
   },
   {
    "duration": 141,
    "start_time": "2023-01-13T13:12:49.420Z"
   },
   {
    "duration": 77,
    "start_time": "2023-01-13T13:12:53.417Z"
   },
   {
    "duration": 385,
    "start_time": "2023-01-13T13:12:54.500Z"
   },
   {
    "duration": 17,
    "start_time": "2023-01-13T13:12:55.258Z"
   },
   {
    "duration": 68,
    "start_time": "2023-01-13T13:12:55.821Z"
   },
   {
    "duration": 325,
    "start_time": "2023-01-13T13:12:56.668Z"
   },
   {
    "duration": 25,
    "start_time": "2023-01-13T13:12:56.994Z"
   },
   {
    "duration": 16,
    "start_time": "2023-01-13T13:12:57.328Z"
   },
   {
    "duration": 43,
    "start_time": "2023-01-13T13:12:57.580Z"
   },
   {
    "duration": 46,
    "start_time": "2023-01-13T13:12:58.068Z"
   },
   {
    "duration": 30,
    "start_time": "2023-01-13T13:12:58.300Z"
   },
   {
    "duration": 58,
    "start_time": "2023-01-13T13:12:58.540Z"
   },
   {
    "duration": 3,
    "start_time": "2023-01-13T13:12:59.179Z"
   },
   {
    "duration": 36,
    "start_time": "2023-01-13T13:12:59.517Z"
   },
   {
    "duration": 19,
    "start_time": "2023-01-13T13:12:59.817Z"
   },
   {
    "duration": 16,
    "start_time": "2023-01-13T13:13:00.043Z"
   },
   {
    "duration": 16,
    "start_time": "2023-01-13T13:13:00.424Z"
   },
   {
    "duration": 38,
    "start_time": "2023-01-13T13:13:00.608Z"
   },
   {
    "duration": 253,
    "start_time": "2023-01-13T13:13:01.035Z"
   },
   {
    "duration": 20,
    "start_time": "2023-01-13T13:13:01.290Z"
   },
   {
    "duration": 30,
    "start_time": "2023-01-13T13:13:01.407Z"
   },
   {
    "duration": 97,
    "start_time": "2023-01-13T13:13:01.605Z"
   },
   {
    "duration": 246,
    "start_time": "2023-01-13T13:13:02.913Z"
   },
   {
    "duration": 376,
    "start_time": "2023-01-13T13:13:03.161Z"
   },
   {
    "duration": 16,
    "start_time": "2023-01-13T13:13:03.920Z"
   },
   {
    "duration": 78,
    "start_time": "2023-01-13T13:13:04.300Z"
   },
   {
    "duration": 62,
    "start_time": "2023-01-13T13:13:05.019Z"
   },
   {
    "duration": 526,
    "start_time": "2023-01-13T13:13:05.399Z"
   },
   {
    "duration": 23,
    "start_time": "2023-01-13T13:13:05.928Z"
   },
   {
    "duration": 51,
    "start_time": "2023-01-13T13:13:05.958Z"
   },
   {
    "duration": 1347,
    "start_time": "2023-01-13T13:13:06.615Z"
   },
   {
    "duration": 0,
    "start_time": "2023-01-13T13:13:07.964Z"
   },
   {
    "duration": 0,
    "start_time": "2023-01-13T13:13:07.965Z"
   },
   {
    "duration": 663,
    "start_time": "2023-01-13T13:13:08.016Z"
   },
   {
    "duration": 1,
    "start_time": "2023-01-13T13:13:08.681Z"
   },
   {
    "duration": 821,
    "start_time": "2023-01-13T13:13:08.911Z"
   },
   {
    "duration": 0,
    "start_time": "2023-01-13T13:13:09.733Z"
   },
   {
    "duration": 0,
    "start_time": "2023-01-13T13:13:09.735Z"
   },
   {
    "duration": 0,
    "start_time": "2023-01-13T13:13:09.736Z"
   },
   {
    "duration": 995,
    "start_time": "2023-01-13T13:13:09.888Z"
   },
   {
    "duration": 0,
    "start_time": "2023-01-13T13:13:10.885Z"
   },
   {
    "duration": 0,
    "start_time": "2023-01-13T13:13:10.887Z"
   },
   {
    "duration": 0,
    "start_time": "2023-01-13T13:13:10.888Z"
   },
   {
    "duration": 6,
    "start_time": "2023-01-13T13:13:11.079Z"
   },
   {
    "duration": 997,
    "start_time": "2023-01-13T13:13:11.478Z"
   },
   {
    "duration": 0,
    "start_time": "2023-01-13T13:13:12.476Z"
   },
   {
    "duration": 0,
    "start_time": "2023-01-13T13:13:12.478Z"
   },
   {
    "duration": 0,
    "start_time": "2023-01-13T13:13:12.479Z"
   },
   {
    "duration": 22,
    "start_time": "2023-01-13T13:13:12.480Z"
   },
   {
    "duration": 13,
    "start_time": "2023-01-13T13:13:13.296Z"
   },
   {
    "duration": 20,
    "start_time": "2023-01-13T13:13:15.300Z"
   },
   {
    "duration": 1801,
    "start_time": "2023-01-13T13:14:06.799Z"
   },
   {
    "duration": 4,
    "start_time": "2023-01-13T13:14:20.517Z"
   },
   {
    "duration": 16,
    "start_time": "2023-01-13T13:14:20.525Z"
   },
   {
    "duration": 12,
    "start_time": "2023-01-13T13:14:20.543Z"
   },
   {
    "duration": 8,
    "start_time": "2023-01-13T13:14:20.557Z"
   },
   {
    "duration": 6,
    "start_time": "2023-01-13T13:14:20.567Z"
   },
   {
    "duration": 853,
    "start_time": "2023-01-13T13:14:20.574Z"
   },
   {
    "duration": 12,
    "start_time": "2023-01-13T13:14:21.429Z"
   },
   {
    "duration": 133,
    "start_time": "2023-01-13T13:14:21.443Z"
   },
   {
    "duration": 114,
    "start_time": "2023-01-13T13:14:21.577Z"
   },
   {
    "duration": 9,
    "start_time": "2023-01-13T13:14:21.702Z"
   },
   {
    "duration": 25,
    "start_time": "2023-01-13T13:14:21.713Z"
   },
   {
    "duration": 32,
    "start_time": "2023-01-13T13:14:21.739Z"
   },
   {
    "duration": 106,
    "start_time": "2023-01-13T13:14:21.772Z"
   },
   {
    "duration": 89,
    "start_time": "2023-01-13T13:14:21.881Z"
   },
   {
    "duration": 409,
    "start_time": "2023-01-13T13:14:21.972Z"
   },
   {
    "duration": 34,
    "start_time": "2023-01-13T13:14:22.383Z"
   },
   {
    "duration": 59,
    "start_time": "2023-01-13T13:14:22.419Z"
   },
   {
    "duration": 316,
    "start_time": "2023-01-13T13:14:22.480Z"
   },
   {
    "duration": 25,
    "start_time": "2023-01-13T13:14:22.798Z"
   },
   {
    "duration": 33,
    "start_time": "2023-01-13T13:14:22.825Z"
   },
   {
    "duration": 95,
    "start_time": "2023-01-13T13:14:22.860Z"
   },
   {
    "duration": 42,
    "start_time": "2023-01-13T13:14:22.957Z"
   },
   {
    "duration": 24,
    "start_time": "2023-01-13T13:14:23.002Z"
   },
   {
    "duration": 69,
    "start_time": "2023-01-13T13:14:23.028Z"
   },
   {
    "duration": 3,
    "start_time": "2023-01-13T13:14:23.102Z"
   },
   {
    "duration": 40,
    "start_time": "2023-01-13T13:14:23.107Z"
   },
   {
    "duration": 18,
    "start_time": "2023-01-13T13:14:23.149Z"
   },
   {
    "duration": 40,
    "start_time": "2023-01-13T13:14:23.169Z"
   },
   {
    "duration": 22,
    "start_time": "2023-01-13T13:14:23.212Z"
   },
   {
    "duration": 33,
    "start_time": "2023-01-13T13:14:23.236Z"
   },
   {
    "duration": 316,
    "start_time": "2023-01-13T13:14:23.270Z"
   },
   {
    "duration": 26,
    "start_time": "2023-01-13T13:14:23.588Z"
   },
   {
    "duration": 35,
    "start_time": "2023-01-13T13:14:23.616Z"
   },
   {
    "duration": 104,
    "start_time": "2023-01-13T13:14:23.652Z"
   },
   {
    "duration": 181,
    "start_time": "2023-01-13T13:14:23.757Z"
   },
   {
    "duration": 314,
    "start_time": "2023-01-13T13:14:23.941Z"
   },
   {
    "duration": 12,
    "start_time": "2023-01-13T13:14:24.256Z"
   },
   {
    "duration": 88,
    "start_time": "2023-01-13T13:14:24.270Z"
   },
   {
    "duration": 73,
    "start_time": "2023-01-13T13:14:24.360Z"
   },
   {
    "duration": 511,
    "start_time": "2023-01-13T13:14:24.435Z"
   },
   {
    "duration": 545,
    "start_time": "2023-01-13T13:14:30.462Z"
   },
   {
    "duration": 12,
    "start_time": "2023-01-13T13:14:31.039Z"
   },
   {
    "duration": 19,
    "start_time": "2023-01-13T13:14:32.120Z"
   },
   {
    "duration": 515,
    "start_time": "2023-01-13T13:14:33.167Z"
   },
   {
    "duration": 7,
    "start_time": "2023-01-13T13:14:34.320Z"
   },
   {
    "duration": 10,
    "start_time": "2023-01-13T13:14:35.003Z"
   },
   {
    "duration": 28,
    "start_time": "2023-01-13T13:14:35.949Z"
   },
   {
    "duration": 399,
    "start_time": "2023-01-13T13:14:37.164Z"
   },
   {
    "duration": 11,
    "start_time": "2023-01-13T13:14:37.891Z"
   },
   {
    "duration": 6,
    "start_time": "2023-01-13T13:14:38.767Z"
   },
   {
    "duration": 10,
    "start_time": "2023-01-13T13:14:39.879Z"
   },
   {
    "duration": 23,
    "start_time": "2023-01-13T13:14:40.379Z"
   },
   {
    "duration": 6,
    "start_time": "2023-01-13T13:14:40.839Z"
   },
   {
    "duration": 7,
    "start_time": "2023-01-13T13:14:41.327Z"
   },
   {
    "duration": 462,
    "start_time": "2023-01-13T13:14:42.239Z"
   },
   {
    "duration": 8,
    "start_time": "2023-01-13T13:14:42.704Z"
   },
   {
    "duration": 18,
    "start_time": "2023-01-13T13:14:43.779Z"
   },
   {
    "duration": 145,
    "start_time": "2023-01-13T13:14:44.279Z"
   },
   {
    "duration": 7,
    "start_time": "2023-01-13T13:14:45.047Z"
   },
   {
    "duration": 14,
    "start_time": "2023-01-13T13:14:45.519Z"
   },
   {
    "duration": 17,
    "start_time": "2023-01-13T13:14:45.932Z"
   },
   {
    "duration": 68,
    "start_time": "2023-01-13T13:14:46.379Z"
   },
   {
    "duration": 459,
    "start_time": "2023-01-13T13:14:47.687Z"
   },
   {
    "duration": 66,
    "start_time": "2023-01-13T13:14:51.100Z"
   },
   {
    "duration": 96,
    "start_time": "2023-01-13T13:14:52.147Z"
   },
   {
    "duration": 54,
    "start_time": "2023-01-13T13:15:04.495Z"
   },
   {
    "duration": 2,
    "start_time": "2023-01-13T13:15:05.268Z"
   },
   {
    "duration": 5,
    "start_time": "2023-01-13T13:15:06.035Z"
   },
   {
    "duration": 1083,
    "start_time": "2023-01-13T13:15:06.966Z"
   },
   {
    "duration": 2,
    "start_time": "2023-01-13T13:16:01.724Z"
   },
   {
    "duration": 9,
    "start_time": "2023-01-13T13:16:01.739Z"
   },
   {
    "duration": 7,
    "start_time": "2023-01-13T13:16:01.750Z"
   },
   {
    "duration": 5,
    "start_time": "2023-01-13T13:16:01.759Z"
   },
   {
    "duration": 7,
    "start_time": "2023-01-13T13:16:01.765Z"
   },
   {
    "duration": 852,
    "start_time": "2023-01-13T13:16:01.774Z"
   },
   {
    "duration": 15,
    "start_time": "2023-01-13T13:16:02.628Z"
   },
   {
    "duration": 151,
    "start_time": "2023-01-13T13:16:02.645Z"
   },
   {
    "duration": 113,
    "start_time": "2023-01-13T13:16:02.799Z"
   },
   {
    "duration": 9,
    "start_time": "2023-01-13T13:16:02.914Z"
   },
   {
    "duration": 10,
    "start_time": "2023-01-13T13:16:02.928Z"
   },
   {
    "duration": 26,
    "start_time": "2023-01-13T13:16:02.940Z"
   },
   {
    "duration": 123,
    "start_time": "2023-01-13T13:16:02.969Z"
   },
   {
    "duration": 84,
    "start_time": "2023-01-13T13:16:03.096Z"
   },
   {
    "duration": 411,
    "start_time": "2023-01-13T13:16:03.183Z"
   },
   {
    "duration": 16,
    "start_time": "2023-01-13T13:16:03.596Z"
   },
   {
    "duration": 65,
    "start_time": "2023-01-13T13:16:03.613Z"
   },
   {
    "duration": 322,
    "start_time": "2023-01-13T13:16:03.680Z"
   },
   {
    "duration": 23,
    "start_time": "2023-01-13T13:16:04.005Z"
   },
   {
    "duration": 15,
    "start_time": "2023-01-13T13:16:04.029Z"
   },
   {
    "duration": 55,
    "start_time": "2023-01-13T13:16:04.046Z"
   },
   {
    "duration": 32,
    "start_time": "2023-01-13T13:16:04.103Z"
   },
   {
    "duration": 16,
    "start_time": "2023-01-13T13:16:04.136Z"
   },
   {
    "duration": 62,
    "start_time": "2023-01-13T13:16:04.154Z"
   },
   {
    "duration": 2,
    "start_time": "2023-01-13T13:16:04.218Z"
   },
   {
    "duration": 33,
    "start_time": "2023-01-13T13:16:04.221Z"
   },
   {
    "duration": 41,
    "start_time": "2023-01-13T13:16:04.256Z"
   },
   {
    "duration": 16,
    "start_time": "2023-01-13T13:16:04.299Z"
   },
   {
    "duration": 23,
    "start_time": "2023-01-13T13:16:04.317Z"
   },
   {
    "duration": 29,
    "start_time": "2023-01-13T13:16:04.342Z"
   },
   {
    "duration": 260,
    "start_time": "2023-01-13T13:16:04.373Z"
   },
   {
    "duration": 16,
    "start_time": "2023-01-13T13:16:04.635Z"
   },
   {
    "duration": 46,
    "start_time": "2023-01-13T13:16:04.653Z"
   },
   {
    "duration": 80,
    "start_time": "2023-01-13T13:16:04.701Z"
   },
   {
    "duration": 179,
    "start_time": "2023-01-13T13:16:04.797Z"
   },
   {
    "duration": 339,
    "start_time": "2023-01-13T13:16:04.978Z"
   },
   {
    "duration": 11,
    "start_time": "2023-01-13T13:16:05.319Z"
   },
   {
    "duration": 78,
    "start_time": "2023-01-13T13:16:05.331Z"
   },
   {
    "duration": 57,
    "start_time": "2023-01-13T13:16:05.410Z"
   },
   {
    "duration": 483,
    "start_time": "2023-01-13T13:16:05.469Z"
   },
   {
    "duration": 11,
    "start_time": "2023-01-13T13:16:05.954Z"
   },
   {
    "duration": 33,
    "start_time": "2023-01-13T13:16:05.969Z"
   },
   {
    "duration": 565,
    "start_time": "2023-01-13T13:16:06.004Z"
   },
   {
    "duration": 6,
    "start_time": "2023-01-13T13:16:06.571Z"
   },
   {
    "duration": 22,
    "start_time": "2023-01-13T13:16:06.579Z"
   },
   {
    "duration": 24,
    "start_time": "2023-01-13T13:16:06.603Z"
   },
   {
    "duration": 374,
    "start_time": "2023-01-13T13:16:06.629Z"
   },
   {
    "duration": 9,
    "start_time": "2023-01-13T13:16:07.005Z"
   },
   {
    "duration": 8,
    "start_time": "2023-01-13T13:16:07.016Z"
   },
   {
    "duration": 15,
    "start_time": "2023-01-13T13:16:07.026Z"
   },
   {
    "duration": 23,
    "start_time": "2023-01-13T13:16:07.043Z"
   },
   {
    "duration": 32,
    "start_time": "2023-01-13T13:16:07.068Z"
   },
   {
    "duration": 10,
    "start_time": "2023-01-13T13:16:07.102Z"
   },
   {
    "duration": 427,
    "start_time": "2023-01-13T13:16:07.114Z"
   },
   {
    "duration": 5,
    "start_time": "2023-01-13T13:16:07.543Z"
   },
   {
    "duration": 21,
    "start_time": "2023-01-13T13:16:07.550Z"
   },
   {
    "duration": 147,
    "start_time": "2023-01-13T13:16:07.572Z"
   },
   {
    "duration": 8,
    "start_time": "2023-01-13T13:16:07.721Z"
   },
   {
    "duration": 16,
    "start_time": "2023-01-13T13:16:07.730Z"
   },
   {
    "duration": 11,
    "start_time": "2023-01-13T13:16:07.748Z"
   },
   {
    "duration": 93,
    "start_time": "2023-01-13T13:16:07.761Z"
   },
   {
    "duration": 395,
    "start_time": "2023-01-13T13:16:07.855Z"
   },
   {
    "duration": 68,
    "start_time": "2023-01-13T13:16:08.252Z"
   },
   {
    "duration": 53,
    "start_time": "2023-01-13T13:16:08.322Z"
   },
   {
    "duration": 3,
    "start_time": "2023-01-13T13:16:08.377Z"
   },
   {
    "duration": 4,
    "start_time": "2023-01-13T13:16:08.395Z"
   },
   {
    "duration": 12,
    "start_time": "2023-01-13T13:17:11.280Z"
   },
   {
    "duration": 3,
    "start_time": "2023-01-13T13:17:34.174Z"
   },
   {
    "duration": 3,
    "start_time": "2023-01-13T13:17:34.597Z"
   },
   {
    "duration": 1875,
    "start_time": "2023-01-13T13:17:34.880Z"
   },
   {
    "duration": 1385,
    "start_time": "2023-01-13T13:18:06.040Z"
   },
   {
    "duration": 1300,
    "start_time": "2023-01-13T13:18:11.841Z"
   },
   {
    "duration": 1438,
    "start_time": "2023-01-13T13:18:20.328Z"
   },
   {
    "duration": 13,
    "start_time": "2023-01-13T13:18:40.200Z"
   },
   {
    "duration": 82,
    "start_time": "2023-01-13T13:18:45.501Z"
   },
   {
    "duration": 10,
    "start_time": "2023-01-13T13:19:54.466Z"
   },
   {
    "duration": 4,
    "start_time": "2023-01-13T13:21:05.401Z"
   },
   {
    "duration": 3,
    "start_time": "2023-01-13T13:21:05.793Z"
   },
   {
    "duration": 3,
    "start_time": "2023-01-13T13:21:06.573Z"
   },
   {
    "duration": 27164,
    "start_time": "2023-01-13T13:21:07.221Z"
   },
   {
    "duration": 0,
    "start_time": "2023-01-13T13:21:34.387Z"
   },
   {
    "duration": 65,
    "start_time": "2023-01-13T13:21:36.165Z"
   },
   {
    "duration": 135506,
    "start_time": "2023-01-13T13:21:41.199Z"
   },
   {
    "duration": 2,
    "start_time": "2023-01-13T13:30:03.266Z"
   },
   {
    "duration": 67,
    "start_time": "2023-01-13T13:30:03.950Z"
   },
   {
    "duration": 32,
    "start_time": "2023-01-13T13:30:59.868Z"
   },
   {
    "duration": 26,
    "start_time": "2023-01-13T13:31:35.034Z"
   },
   {
    "duration": 65,
    "start_time": "2023-01-13T13:33:01.140Z"
   },
   {
    "duration": 458,
    "start_time": "2023-01-13T13:33:45.170Z"
   },
   {
    "duration": 155,
    "start_time": "2023-01-13T13:34:04.470Z"
   },
   {
    "duration": 28,
    "start_time": "2023-01-13T13:34:09.823Z"
   },
   {
    "duration": 107,
    "start_time": "2023-01-13T13:34:10.265Z"
   },
   {
    "duration": 4,
    "start_time": "2023-01-13T13:36:58.581Z"
   },
   {
    "duration": 62,
    "start_time": "2023-01-13T13:37:22.510Z"
   },
   {
    "duration": 27,
    "start_time": "2023-01-13T13:37:58.842Z"
   },
   {
    "duration": 5,
    "start_time": "2023-01-13T13:38:01.330Z"
   },
   {
    "duration": 150,
    "start_time": "2023-01-13T13:38:01.931Z"
   },
   {
    "duration": 5,
    "start_time": "2023-01-13T13:39:11.929Z"
   },
   {
    "duration": 4,
    "start_time": "2023-01-13T13:39:12.990Z"
   },
   {
    "duration": 54,
    "start_time": "2023-01-13T13:39:13.621Z"
   },
   {
    "duration": 23,
    "start_time": "2023-01-13T14:10:12.790Z"
   },
   {
    "duration": 14,
    "start_time": "2023-01-13T14:10:26.087Z"
   },
   {
    "duration": 13,
    "start_time": "2023-01-13T14:10:46.390Z"
   },
   {
    "duration": 447,
    "start_time": "2023-01-13T14:10:56.685Z"
   },
   {
    "duration": 14,
    "start_time": "2023-01-13T14:11:09.263Z"
   },
   {
    "duration": 16,
    "start_time": "2023-01-13T14:11:09.890Z"
   },
   {
    "duration": 2147,
    "start_time": "2023-01-13T14:13:04.618Z"
   },
   {
    "duration": 2,
    "start_time": "2023-01-13T14:14:26.930Z"
   },
   {
    "duration": 1479,
    "start_time": "2023-01-13T14:14:27.770Z"
   },
   {
    "duration": 1480,
    "start_time": "2023-01-13T14:17:47.482Z"
   },
   {
    "duration": 24,
    "start_time": "2023-01-13T14:18:30.290Z"
   },
   {
    "duration": 580,
    "start_time": "2023-01-13T14:19:00.081Z"
   },
   {
    "duration": 380,
    "start_time": "2023-01-13T14:19:04.333Z"
   },
   {
    "duration": 2154,
    "start_time": "2023-01-13T14:19:11.410Z"
   },
   {
    "duration": 17,
    "start_time": "2023-01-13T14:20:53.966Z"
   },
   {
    "duration": 320,
    "start_time": "2023-01-13T14:21:17.064Z"
   },
   {
    "duration": 4,
    "start_time": "2023-01-13T14:21:19.024Z"
   },
   {
    "duration": 2112,
    "start_time": "2023-01-13T14:21:19.622Z"
   },
   {
    "duration": 10,
    "start_time": "2023-01-13T14:28:06.781Z"
   },
   {
    "duration": 10,
    "start_time": "2023-01-13T14:28:15.090Z"
   },
   {
    "duration": 3,
    "start_time": "2023-01-13T14:28:20.467Z"
   },
   {
    "duration": 5,
    "start_time": "2023-01-13T14:29:48.530Z"
   },
   {
    "duration": 57,
    "start_time": "2023-01-13T14:29:48.889Z"
   },
   {
    "duration": 53,
    "start_time": "2023-01-13T14:30:20.541Z"
   },
   {
    "duration": 133287,
    "start_time": "2023-01-13T14:30:33.740Z"
   },
   {
    "duration": 4,
    "start_time": "2023-01-13T14:32:47.029Z"
   },
   {
    "duration": 5,
    "start_time": "2023-01-13T14:33:51.404Z"
   },
   {
    "duration": 52,
    "start_time": "2023-01-13T14:41:39.429Z"
   },
   {
    "duration": 3280,
    "start_time": "2023-01-13T14:42:27.021Z"
   },
   {
    "duration": 3268,
    "start_time": "2023-01-13T14:44:37.857Z"
   },
   {
    "duration": 5,
    "start_time": "2023-01-13T14:45:04.600Z"
   },
   {
    "duration": 12,
    "start_time": "2023-01-13T14:45:52.347Z"
   },
   {
    "duration": 16,
    "start_time": "2023-01-13T14:46:03.468Z"
   },
   {
    "duration": 301,
    "start_time": "2023-01-13T14:46:13.696Z"
   },
   {
    "duration": 311,
    "start_time": "2023-01-13T14:46:35.717Z"
   },
   {
    "duration": 3,
    "start_time": "2023-01-13T14:46:36.740Z"
   },
   {
    "duration": 5,
    "start_time": "2023-01-13T14:46:37.277Z"
   },
   {
    "duration": 4,
    "start_time": "2023-01-13T14:46:38.622Z"
   },
   {
    "duration": 74,
    "start_time": "2023-01-13T14:46:40.203Z"
   },
   {
    "duration": 4273,
    "start_time": "2023-01-13T14:46:48.080Z"
   },
   {
    "duration": 4279,
    "start_time": "2023-01-13T14:47:24.322Z"
   },
   {
    "duration": 30,
    "start_time": "2023-01-13T14:47:58.244Z"
   },
   {
    "duration": 4,
    "start_time": "2023-01-13T14:48:19.000Z"
   },
   {
    "duration": 4,
    "start_time": "2023-01-13T14:48:19.015Z"
   },
   {
    "duration": 5,
    "start_time": "2023-01-13T14:48:19.021Z"
   },
   {
    "duration": 6,
    "start_time": "2023-01-13T14:48:19.028Z"
   },
   {
    "duration": 10,
    "start_time": "2023-01-13T14:48:19.037Z"
   },
   {
    "duration": 14,
    "start_time": "2023-01-13T14:48:19.049Z"
   },
   {
    "duration": 806,
    "start_time": "2023-01-13T14:48:19.065Z"
   },
   {
    "duration": 25,
    "start_time": "2023-01-13T14:48:19.872Z"
   },
   {
    "duration": 134,
    "start_time": "2023-01-13T14:48:19.899Z"
   },
   {
    "duration": 109,
    "start_time": "2023-01-13T14:48:20.034Z"
   },
   {
    "duration": 7,
    "start_time": "2023-01-13T14:48:20.147Z"
   },
   {
    "duration": 27,
    "start_time": "2023-01-13T14:48:20.155Z"
   },
   {
    "duration": 29,
    "start_time": "2023-01-13T14:48:20.184Z"
   },
   {
    "duration": 108,
    "start_time": "2023-01-13T14:48:20.215Z"
   },
   {
    "duration": 86,
    "start_time": "2023-01-13T14:48:20.325Z"
   },
   {
    "duration": 387,
    "start_time": "2023-01-13T14:48:20.413Z"
   },
   {
    "duration": 16,
    "start_time": "2023-01-13T14:48:20.802Z"
   },
   {
    "duration": 52,
    "start_time": "2023-01-13T14:48:20.820Z"
   },
   {
    "duration": 305,
    "start_time": "2023-01-13T14:48:20.874Z"
   },
   {
    "duration": 19,
    "start_time": "2023-01-13T14:48:21.181Z"
   },
   {
    "duration": 25,
    "start_time": "2023-01-13T14:48:21.201Z"
   },
   {
    "duration": 45,
    "start_time": "2023-01-13T14:48:21.229Z"
   },
   {
    "duration": 52,
    "start_time": "2023-01-13T14:48:21.275Z"
   },
   {
    "duration": 19,
    "start_time": "2023-01-13T14:48:21.329Z"
   },
   {
    "duration": 66,
    "start_time": "2023-01-13T14:48:21.350Z"
   },
   {
    "duration": 3,
    "start_time": "2023-01-13T14:48:21.418Z"
   },
   {
    "duration": 37,
    "start_time": "2023-01-13T14:48:21.423Z"
   },
   {
    "duration": 36,
    "start_time": "2023-01-13T14:48:21.462Z"
   },
   {
    "duration": 17,
    "start_time": "2023-01-13T14:48:21.502Z"
   },
   {
    "duration": 23,
    "start_time": "2023-01-13T14:48:21.521Z"
   },
   {
    "duration": 54,
    "start_time": "2023-01-13T14:48:21.546Z"
   },
   {
    "duration": 262,
    "start_time": "2023-01-13T14:48:21.602Z"
   },
   {
    "duration": 15,
    "start_time": "2023-01-13T14:48:21.866Z"
   },
   {
    "duration": 44,
    "start_time": "2023-01-13T14:48:21.883Z"
   },
   {
    "duration": 89,
    "start_time": "2023-01-13T14:48:21.929Z"
   },
   {
    "duration": 154,
    "start_time": "2023-01-13T14:48:22.020Z"
   },
   {
    "duration": 289,
    "start_time": "2023-01-13T14:48:22.176Z"
   },
   {
    "duration": 12,
    "start_time": "2023-01-13T14:48:22.467Z"
   },
   {
    "duration": 83,
    "start_time": "2023-01-13T14:48:22.480Z"
   },
   {
    "duration": 68,
    "start_time": "2023-01-13T14:48:22.564Z"
   },
   {
    "duration": 488,
    "start_time": "2023-01-13T14:48:22.634Z"
   },
   {
    "duration": 10,
    "start_time": "2023-01-13T14:48:23.124Z"
   },
   {
    "duration": 21,
    "start_time": "2023-01-13T14:48:23.136Z"
   },
   {
    "duration": 467,
    "start_time": "2023-01-13T14:48:23.159Z"
   },
   {
    "duration": 5,
    "start_time": "2023-01-13T14:48:23.628Z"
   },
   {
    "duration": 7,
    "start_time": "2023-01-13T14:48:23.634Z"
   },
   {
    "duration": 19,
    "start_time": "2023-01-13T14:48:23.643Z"
   },
   {
    "duration": 402,
    "start_time": "2023-01-13T14:48:23.664Z"
   },
   {
    "duration": 9,
    "start_time": "2023-01-13T14:48:24.068Z"
   },
   {
    "duration": 7,
    "start_time": "2023-01-13T14:48:24.096Z"
   },
   {
    "duration": 11,
    "start_time": "2023-01-13T14:48:24.105Z"
   },
   {
    "duration": 22,
    "start_time": "2023-01-13T14:48:24.118Z"
   },
   {
    "duration": 7,
    "start_time": "2023-01-13T14:48:24.141Z"
   },
   {
    "duration": 10,
    "start_time": "2023-01-13T14:48:24.150Z"
   },
   {
    "duration": 436,
    "start_time": "2023-01-13T14:48:24.162Z"
   },
   {
    "duration": 6,
    "start_time": "2023-01-13T14:48:24.600Z"
   },
   {
    "duration": 40,
    "start_time": "2023-01-13T14:48:24.609Z"
   },
   {
    "duration": 138,
    "start_time": "2023-01-13T14:48:24.651Z"
   },
   {
    "duration": 6,
    "start_time": "2023-01-13T14:48:24.796Z"
   },
   {
    "duration": 13,
    "start_time": "2023-01-13T14:48:24.804Z"
   },
   {
    "duration": 11,
    "start_time": "2023-01-13T14:48:24.819Z"
   },
   {
    "duration": 80,
    "start_time": "2023-01-13T14:48:24.832Z"
   },
   {
    "duration": 351,
    "start_time": "2023-01-13T14:48:24.914Z"
   },
   {
    "duration": 63,
    "start_time": "2023-01-13T14:48:25.267Z"
   },
   {
    "duration": 4,
    "start_time": "2023-01-13T14:48:25.332Z"
   },
   {
    "duration": 27,
    "start_time": "2023-01-13T14:48:25.337Z"
   },
   {
    "duration": 18,
    "start_time": "2023-01-13T14:48:28.580Z"
   },
   {
    "duration": 6,
    "start_time": "2023-01-13T14:48:28.900Z"
   },
   {
    "duration": 4,
    "start_time": "2023-01-13T14:48:30.796Z"
   },
   {
    "duration": 2479,
    "start_time": "2023-01-13T14:48:34.300Z"
   },
   {
    "duration": 4,
    "start_time": "2023-01-13T14:49:26.571Z"
   },
   {
    "duration": 4,
    "start_time": "2023-01-13T14:49:27.750Z"
   },
   {
    "duration": 289007,
    "start_time": "2023-01-13T14:49:29.696Z"
   },
   {
    "duration": 10,
    "start_time": "2023-01-13T14:57:34.676Z"
   },
   {
    "duration": 66,
    "start_time": "2023-01-13T14:57:39.756Z"
   },
   {
    "duration": 3,
    "start_time": "2023-01-13T14:57:40.948Z"
   },
   {
    "duration": 18,
    "start_time": "2023-01-13T14:57:41.248Z"
   },
   {
    "duration": 5,
    "start_time": "2023-01-13T14:57:41.394Z"
   },
   {
    "duration": 4,
    "start_time": "2023-01-13T14:57:41.973Z"
   },
   {
    "duration": 9,
    "start_time": "2023-01-13T14:57:43.433Z"
   },
   {
    "duration": 57,
    "start_time": "2023-01-13T14:58:27.349Z"
   },
   {
    "duration": 84,
    "start_time": "2023-01-13T14:58:28.228Z"
   },
   {
    "duration": 84,
    "start_time": "2023-01-13T14:58:57.337Z"
   },
   {
    "duration": 113,
    "start_time": "2023-01-13T15:01:08.940Z"
   },
   {
    "duration": 1801,
    "start_time": "2023-01-13T15:23:05.181Z"
   },
   {
    "duration": 3,
    "start_time": "2023-01-13T15:23:09.970Z"
   },
   {
    "duration": 3,
    "start_time": "2023-01-13T15:23:10.122Z"
   },
   {
    "duration": 3,
    "start_time": "2023-01-13T15:23:10.330Z"
   },
   {
    "duration": 3,
    "start_time": "2023-01-13T15:23:10.461Z"
   },
   {
    "duration": 3,
    "start_time": "2023-01-13T15:23:10.761Z"
   },
   {
    "duration": 858,
    "start_time": "2023-01-13T15:23:11.510Z"
   },
   {
    "duration": 34,
    "start_time": "2023-01-13T15:23:12.370Z"
   },
   {
    "duration": 112,
    "start_time": "2023-01-13T15:23:12.413Z"
   },
   {
    "duration": 110,
    "start_time": "2023-01-13T15:23:12.527Z"
   },
   {
    "duration": 7,
    "start_time": "2023-01-13T15:23:12.758Z"
   },
   {
    "duration": 5,
    "start_time": "2023-01-13T15:23:13.049Z"
   },
   {
    "duration": 28,
    "start_time": "2023-01-13T15:23:13.382Z"
   },
   {
    "duration": 110,
    "start_time": "2023-01-13T15:23:13.562Z"
   },
   {
    "duration": 72,
    "start_time": "2023-01-13T15:23:14.149Z"
   },
   {
    "duration": 356,
    "start_time": "2023-01-13T15:23:14.522Z"
   },
   {
    "duration": 15,
    "start_time": "2023-01-13T15:23:15.034Z"
   },
   {
    "duration": 41,
    "start_time": "2023-01-13T15:23:15.230Z"
   },
   {
    "duration": 293,
    "start_time": "2023-01-13T15:23:15.521Z"
   },
   {
    "duration": 15,
    "start_time": "2023-01-13T15:23:15.816Z"
   },
   {
    "duration": 14,
    "start_time": "2023-01-13T15:23:15.841Z"
   },
   {
    "duration": 62,
    "start_time": "2023-01-13T15:23:15.991Z"
   },
   {
    "duration": 32,
    "start_time": "2023-01-13T15:23:16.328Z"
   },
   {
    "duration": 16,
    "start_time": "2023-01-13T15:23:16.478Z"
   },
   {
    "duration": 42,
    "start_time": "2023-01-13T15:23:16.649Z"
   },
   {
    "duration": 2,
    "start_time": "2023-01-13T15:23:16.963Z"
   },
   {
    "duration": 31,
    "start_time": "2023-01-13T15:23:17.145Z"
   },
   {
    "duration": 22,
    "start_time": "2023-01-13T15:23:17.305Z"
   },
   {
    "duration": 17,
    "start_time": "2023-01-13T15:23:17.457Z"
   },
   {
    "duration": 15,
    "start_time": "2023-01-13T15:23:17.658Z"
   },
   {
    "duration": 28,
    "start_time": "2023-01-13T15:23:17.841Z"
   },
   {
    "duration": 261,
    "start_time": "2023-01-13T15:23:18.330Z"
   },
   {
    "duration": 22,
    "start_time": "2023-01-13T15:23:18.596Z"
   },
   {
    "duration": 30,
    "start_time": "2023-01-13T15:23:18.641Z"
   },
   {
    "duration": 77,
    "start_time": "2023-01-13T15:23:18.830Z"
   },
   {
    "duration": 196,
    "start_time": "2023-01-13T15:23:19.463Z"
   },
   {
    "duration": 380,
    "start_time": "2023-01-13T15:23:19.661Z"
   },
   {
    "duration": 12,
    "start_time": "2023-01-13T15:23:20.810Z"
   },
   {
    "duration": 70,
    "start_time": "2023-01-13T15:23:20.876Z"
   },
   {
    "duration": 58,
    "start_time": "2023-01-13T15:23:22.627Z"
   },
   {
    "duration": 551,
    "start_time": "2023-01-13T15:23:22.884Z"
   },
   {
    "duration": 12,
    "start_time": "2023-01-13T15:23:23.437Z"
   },
   {
    "duration": 27,
    "start_time": "2023-01-13T15:23:23.451Z"
   },
   {
    "duration": 505,
    "start_time": "2023-01-13T15:23:23.501Z"
   },
   {
    "duration": 6,
    "start_time": "2023-01-13T15:23:24.008Z"
   },
   {
    "duration": 9,
    "start_time": "2023-01-13T15:23:24.016Z"
   },
   {
    "duration": 24,
    "start_time": "2023-01-13T15:23:24.026Z"
   },
   {
    "duration": 354,
    "start_time": "2023-01-13T15:23:24.217Z"
   },
   {
    "duration": 25,
    "start_time": "2023-01-13T15:23:24.574Z"
   },
   {
    "duration": 6,
    "start_time": "2023-01-13T15:23:24.601Z"
   },
   {
    "duration": 11,
    "start_time": "2023-01-13T15:23:24.690Z"
   },
   {
    "duration": 21,
    "start_time": "2023-01-13T15:23:24.846Z"
   },
   {
    "duration": 6,
    "start_time": "2023-01-13T15:23:25.017Z"
   },
   {
    "duration": 6,
    "start_time": "2023-01-13T15:23:25.155Z"
   },
   {
    "duration": 420,
    "start_time": "2023-01-13T15:23:25.480Z"
   },
   {
    "duration": 5,
    "start_time": "2023-01-13T15:23:25.903Z"
   },
   {
    "duration": 23,
    "start_time": "2023-01-13T15:23:25.945Z"
   },
   {
    "duration": 118,
    "start_time": "2023-01-13T15:23:26.125Z"
   },
   {
    "duration": 8,
    "start_time": "2023-01-13T15:23:26.281Z"
   },
   {
    "duration": 14,
    "start_time": "2023-01-13T15:23:26.431Z"
   },
   {
    "duration": 13,
    "start_time": "2023-01-13T15:23:26.578Z"
   },
   {
    "duration": 55,
    "start_time": "2023-01-13T15:23:26.751Z"
   },
   {
    "duration": 327,
    "start_time": "2023-01-13T15:23:27.222Z"
   },
   {
    "duration": 130,
    "start_time": "2023-01-13T15:23:28.370Z"
   },
   {
    "duration": 3,
    "start_time": "2023-01-13T15:23:28.710Z"
   },
   {
    "duration": 23,
    "start_time": "2023-01-13T15:23:28.842Z"
   },
   {
    "duration": 5,
    "start_time": "2023-01-13T15:23:29.002Z"
   },
   {
    "duration": 4,
    "start_time": "2023-01-13T15:23:29.488Z"
   },
   {
    "duration": 84,
    "start_time": "2023-01-13T15:23:29.974Z"
   },
   {
    "duration": 12,
    "start_time": "2023-01-13T15:23:30.342Z"
   },
   {
    "duration": 58,
    "start_time": "2023-01-13T15:23:30.721Z"
   },
   {
    "duration": 69,
    "start_time": "2023-01-13T15:24:01.351Z"
   },
   {
    "duration": 63,
    "start_time": "2023-01-13T15:24:10.621Z"
   },
   {
    "duration": 2,
    "start_time": "2023-01-13T15:24:11.570Z"
   },
   {
    "duration": 17,
    "start_time": "2023-01-13T15:24:11.881Z"
   },
   {
    "duration": 4,
    "start_time": "2023-01-13T15:24:12.501Z"
   },
   {
    "duration": 4,
    "start_time": "2023-01-13T15:24:14.202Z"
   },
   {
    "duration": 282772,
    "start_time": "2023-01-13T15:24:15.461Z"
   },
   {
    "duration": 106,
    "start_time": "2023-01-13T15:28:58.236Z"
   },
   {
    "duration": 15399668,
    "start_time": "2023-01-13T15:28:58.344Z"
   },
   {
    "duration": 1198746,
    "start_time": "2023-01-13T19:45:38.015Z"
   },
   {
    "duration": 56,
    "start_time": "2023-01-13T20:05:36.763Z"
   },
   {
    "duration": 36,
    "start_time": "2023-01-13T21:28:01.554Z"
   },
   {
    "duration": 90,
    "start_time": "2023-01-13T21:28:02.323Z"
   },
   {
    "duration": 300,
    "start_time": "2023-01-13T21:31:08.194Z"
   },
   {
    "duration": 26893,
    "start_time": "2023-01-13T21:32:24.254Z"
   },
   {
    "duration": 3591,
    "start_time": "2023-01-13T21:32:51.149Z"
   },
   {
    "duration": 26665,
    "start_time": "2023-01-13T21:33:43.354Z"
   },
   {
    "duration": 3601,
    "start_time": "2023-01-13T21:34:10.021Z"
   },
   {
    "duration": 329,
    "start_time": "2023-01-13T21:35:47.274Z"
   },
   {
    "duration": 26236,
    "start_time": "2023-01-13T21:35:49.054Z"
   },
   {
    "duration": 64,
    "start_time": "2023-01-13T21:36:15.296Z"
   },
   {
    "duration": 26676,
    "start_time": "2023-01-13T21:36:21.437Z"
   },
   {
    "duration": 4544,
    "start_time": "2023-01-13T21:36:48.115Z"
   },
   {
    "duration": 12687,
    "start_time": "2023-01-13T21:36:55.315Z"
   },
   {
    "duration": 4737,
    "start_time": "2023-01-13T21:37:08.004Z"
   },
   {
    "duration": 99627,
    "start_time": "2023-01-13T21:38:05.126Z"
   },
   {
    "duration": 1144,
    "start_time": "2023-01-13T21:39:44.755Z"
   },
   {
    "duration": 10,
    "start_time": "2023-01-13T21:42:25.254Z"
   },
   {
    "duration": 1861,
    "start_time": "2023-01-13T21:45:32.562Z"
   },
   {
    "duration": 1575,
    "start_time": "2023-01-13T21:46:31.837Z"
   },
   {
    "duration": 389,
    "start_time": "2023-01-13T21:46:54.791Z"
   },
   {
    "duration": 1569,
    "start_time": "2023-01-13T21:47:10.436Z"
   },
   {
    "duration": 420,
    "start_time": "2023-01-13T21:47:12.008Z"
   },
   {
    "duration": 19,
    "start_time": "2023-01-13T21:53:17.836Z"
   },
   {
    "duration": 19,
    "start_time": "2023-01-13T21:53:22.487Z"
   },
   {
    "duration": 13,
    "start_time": "2023-01-13T21:54:35.103Z"
   },
   {
    "duration": 13,
    "start_time": "2023-01-13T21:54:42.332Z"
   },
   {
    "duration": 3,
    "start_time": "2023-01-13T21:54:58.735Z"
   },
   {
    "duration": 60,
    "start_time": "2023-01-13T21:55:04.396Z"
   },
   {
    "duration": 59,
    "start_time": "2023-01-13T21:57:27.555Z"
   },
   {
    "duration": 42,
    "start_time": "2023-01-13T21:58:58.596Z"
   },
   {
    "duration": 29,
    "start_time": "2023-01-13T22:00:42.288Z"
   },
   {
    "duration": 18132,
    "start_time": "2023-01-13T22:02:12.484Z"
   },
   {
    "duration": 1452,
    "start_time": "2023-01-13T22:02:45.534Z"
   },
   {
    "duration": 2,
    "start_time": "2023-01-13T22:02:46.988Z"
   },
   {
    "duration": 6,
    "start_time": "2023-01-13T22:02:46.996Z"
   },
   {
    "duration": 4,
    "start_time": "2023-01-13T22:02:47.004Z"
   },
   {
    "duration": 5,
    "start_time": "2023-01-13T22:02:47.011Z"
   },
   {
    "duration": 5,
    "start_time": "2023-01-13T22:02:47.017Z"
   },
   {
    "duration": 783,
    "start_time": "2023-01-13T22:02:47.024Z"
   },
   {
    "duration": 16,
    "start_time": "2023-01-13T22:02:47.809Z"
   },
   {
    "duration": 134,
    "start_time": "2023-01-13T22:02:47.827Z"
   },
   {
    "duration": 104,
    "start_time": "2023-01-13T22:02:47.962Z"
   },
   {
    "duration": 7,
    "start_time": "2023-01-13T22:02:48.068Z"
   },
   {
    "duration": 20,
    "start_time": "2023-01-13T22:02:48.076Z"
   },
   {
    "duration": 28,
    "start_time": "2023-01-13T22:02:48.098Z"
   },
   {
    "duration": 98,
    "start_time": "2023-01-13T22:02:48.129Z"
   },
   {
    "duration": 74,
    "start_time": "2023-01-13T22:02:48.229Z"
   },
   {
    "duration": 347,
    "start_time": "2023-01-13T22:02:48.305Z"
   },
   {
    "duration": 15,
    "start_time": "2023-01-13T22:02:48.654Z"
   },
   {
    "duration": 55,
    "start_time": "2023-01-13T22:02:48.671Z"
   },
   {
    "duration": 274,
    "start_time": "2023-01-13T22:02:48.728Z"
   },
   {
    "duration": 15,
    "start_time": "2023-01-13T22:02:49.004Z"
   },
   {
    "duration": 17,
    "start_time": "2023-01-13T22:02:49.020Z"
   },
   {
    "duration": 62,
    "start_time": "2023-01-13T22:02:49.039Z"
   },
   {
    "duration": 30,
    "start_time": "2023-01-13T22:02:49.103Z"
   },
   {
    "duration": 16,
    "start_time": "2023-01-13T22:02:49.135Z"
   },
   {
    "duration": 58,
    "start_time": "2023-01-13T22:02:49.153Z"
   },
   {
    "duration": 2,
    "start_time": "2023-01-13T22:02:49.214Z"
   },
   {
    "duration": 31,
    "start_time": "2023-01-13T22:02:49.218Z"
   },
   {
    "duration": 16,
    "start_time": "2023-01-13T22:02:49.251Z"
   },
   {
    "duration": 40,
    "start_time": "2023-01-13T22:02:49.269Z"
   },
   {
    "duration": 15,
    "start_time": "2023-01-13T22:02:49.311Z"
   },
   {
    "duration": 30,
    "start_time": "2023-01-13T22:02:49.328Z"
   },
   {
    "duration": 323,
    "start_time": "2023-01-13T22:02:49.360Z"
   },
   {
    "duration": 20,
    "start_time": "2023-01-13T22:02:49.686Z"
   },
   {
    "duration": 30,
    "start_time": "2023-01-13T22:02:49.707Z"
   },
   {
    "duration": 85,
    "start_time": "2023-01-13T22:02:49.739Z"
   },
   {
    "duration": 189,
    "start_time": "2023-01-13T22:02:49.825Z"
   },
   {
    "duration": 326,
    "start_time": "2023-01-13T22:02:50.016Z"
   },
   {
    "duration": 12,
    "start_time": "2023-01-13T22:02:50.344Z"
   },
   {
    "duration": 71,
    "start_time": "2023-01-13T22:02:50.358Z"
   },
   {
    "duration": 52,
    "start_time": "2023-01-13T22:02:50.431Z"
   },
   {
    "duration": 433,
    "start_time": "2023-01-13T22:02:50.499Z"
   },
   {
    "duration": 10,
    "start_time": "2023-01-13T22:02:50.934Z"
   },
   {
    "duration": 3,
    "start_time": "2023-01-13T22:02:50.946Z"
   },
   {
    "duration": 0,
    "start_time": "2023-01-13T22:02:50.950Z"
   },
   {
    "duration": 0,
    "start_time": "2023-01-13T22:02:50.952Z"
   },
   {
    "duration": 0,
    "start_time": "2023-01-13T22:02:50.953Z"
   },
   {
    "duration": 0,
    "start_time": "2023-01-13T22:02:50.954Z"
   },
   {
    "duration": 0,
    "start_time": "2023-01-13T22:02:50.955Z"
   },
   {
    "duration": 0,
    "start_time": "2023-01-13T22:02:50.956Z"
   },
   {
    "duration": 0,
    "start_time": "2023-01-13T22:02:50.957Z"
   },
   {
    "duration": 0,
    "start_time": "2023-01-13T22:02:50.958Z"
   },
   {
    "duration": 0,
    "start_time": "2023-01-13T22:02:50.959Z"
   },
   {
    "duration": 0,
    "start_time": "2023-01-13T22:02:50.960Z"
   },
   {
    "duration": 0,
    "start_time": "2023-01-13T22:02:50.961Z"
   },
   {
    "duration": 0,
    "start_time": "2023-01-13T22:02:50.962Z"
   },
   {
    "duration": 0,
    "start_time": "2023-01-13T22:02:50.963Z"
   },
   {
    "duration": 0,
    "start_time": "2023-01-13T22:02:50.964Z"
   },
   {
    "duration": 0,
    "start_time": "2023-01-13T22:02:50.996Z"
   },
   {
    "duration": 0,
    "start_time": "2023-01-13T22:02:50.998Z"
   },
   {
    "duration": 0,
    "start_time": "2023-01-13T22:02:50.999Z"
   },
   {
    "duration": 0,
    "start_time": "2023-01-13T22:02:51.000Z"
   },
   {
    "duration": 0,
    "start_time": "2023-01-13T22:02:51.001Z"
   },
   {
    "duration": 0,
    "start_time": "2023-01-13T22:02:51.002Z"
   },
   {
    "duration": 0,
    "start_time": "2023-01-13T22:02:51.002Z"
   },
   {
    "duration": 0,
    "start_time": "2023-01-13T22:02:51.003Z"
   },
   {
    "duration": 0,
    "start_time": "2023-01-13T22:02:51.004Z"
   },
   {
    "duration": 27,
    "start_time": "2023-01-13T22:03:02.516Z"
   },
   {
    "duration": 490,
    "start_time": "2023-01-13T22:03:04.016Z"
   },
   {
    "duration": 8,
    "start_time": "2023-01-13T22:03:04.508Z"
   },
   {
    "duration": 29,
    "start_time": "2023-01-13T22:03:04.519Z"
   },
   {
    "duration": 24,
    "start_time": "2023-01-13T22:03:04.550Z"
   },
   {
    "duration": 357,
    "start_time": "2023-01-13T22:03:05.316Z"
   },
   {
    "duration": 23,
    "start_time": "2023-01-13T22:03:05.675Z"
   },
   {
    "duration": 8,
    "start_time": "2023-01-13T22:03:05.700Z"
   },
   {
    "duration": 13,
    "start_time": "2023-01-13T22:03:05.796Z"
   },
   {
    "duration": 27,
    "start_time": "2023-01-13T22:03:05.934Z"
   },
   {
    "duration": 6,
    "start_time": "2023-01-13T22:03:06.096Z"
   },
   {
    "duration": 6,
    "start_time": "2023-01-13T22:03:06.296Z"
   },
   {
    "duration": 416,
    "start_time": "2023-01-13T22:03:06.616Z"
   },
   {
    "duration": 6,
    "start_time": "2023-01-13T22:03:07.034Z"
   },
   {
    "duration": 18,
    "start_time": "2023-01-13T22:03:07.076Z"
   },
   {
    "duration": 115,
    "start_time": "2023-01-13T22:03:07.236Z"
   },
   {
    "duration": 7,
    "start_time": "2023-01-13T22:03:07.394Z"
   },
   {
    "duration": 12,
    "start_time": "2023-01-13T22:03:07.576Z"
   },
   {
    "duration": 11,
    "start_time": "2023-01-13T22:03:07.736Z"
   },
   {
    "duration": 52,
    "start_time": "2023-01-13T22:03:07.933Z"
   },
   {
    "duration": 315,
    "start_time": "2023-01-13T22:03:08.415Z"
   },
   {
    "duration": 55,
    "start_time": "2023-01-13T22:03:10.416Z"
   },
   {
    "duration": 2,
    "start_time": "2023-01-13T22:03:11.304Z"
   },
   {
    "duration": 19,
    "start_time": "2023-01-13T22:03:11.532Z"
   },
   {
    "duration": 5,
    "start_time": "2023-01-13T22:03:12.162Z"
   },
   {
    "duration": 4,
    "start_time": "2023-01-13T22:03:13.618Z"
   },
   {
    "duration": 3135236,
    "start_time": "2023-01-13T22:03:15.152Z"
   },
   {
    "duration": 106,
    "start_time": "2023-01-13T22:55:30.390Z"
   },
   {
    "duration": 125,
    "start_time": "2023-01-14T08:16:49.846Z"
   },
   {
    "duration": 1609,
    "start_time": "2023-01-14T08:16:58.155Z"
   },
   {
    "duration": 2,
    "start_time": "2023-01-14T08:16:59.766Z"
   },
   {
    "duration": 7,
    "start_time": "2023-01-14T08:16:59.778Z"
   },
   {
    "duration": 16,
    "start_time": "2023-01-14T08:16:59.786Z"
   },
   {
    "duration": 11,
    "start_time": "2023-01-14T08:16:59.804Z"
   },
   {
    "duration": 9,
    "start_time": "2023-01-14T08:16:59.817Z"
   },
   {
    "duration": 3047,
    "start_time": "2023-01-14T08:16:59.827Z"
   },
   {
    "duration": 18,
    "start_time": "2023-01-14T08:17:02.876Z"
   },
   {
    "duration": 180,
    "start_time": "2023-01-14T08:17:02.896Z"
   },
   {
    "duration": 86,
    "start_time": "2023-01-14T08:17:03.079Z"
   },
   {
    "duration": 6,
    "start_time": "2023-01-14T08:17:03.177Z"
   },
   {
    "duration": 16,
    "start_time": "2023-01-14T08:17:03.185Z"
   },
   {
    "duration": 31,
    "start_time": "2023-01-14T08:17:03.203Z"
   },
   {
    "duration": 111,
    "start_time": "2023-01-14T08:17:03.237Z"
   },
   {
    "duration": 79,
    "start_time": "2023-01-14T08:17:03.350Z"
   },
   {
    "duration": 352,
    "start_time": "2023-01-14T08:17:03.431Z"
   },
   {
    "duration": 17,
    "start_time": "2023-01-14T08:17:03.785Z"
   },
   {
    "duration": 64,
    "start_time": "2023-01-14T08:17:03.803Z"
   },
   {
    "duration": 373,
    "start_time": "2023-01-14T08:17:03.869Z"
   },
   {
    "duration": 16,
    "start_time": "2023-01-14T08:17:04.244Z"
   },
   {
    "duration": 25,
    "start_time": "2023-01-14T08:17:04.261Z"
   },
   {
    "duration": 46,
    "start_time": "2023-01-14T08:17:04.287Z"
   },
   {
    "duration": 46,
    "start_time": "2023-01-14T08:17:04.334Z"
   },
   {
    "duration": 28,
    "start_time": "2023-01-14T08:17:04.382Z"
   },
   {
    "duration": 63,
    "start_time": "2023-01-14T08:17:04.412Z"
   },
   {
    "duration": 2,
    "start_time": "2023-01-14T08:17:04.477Z"
   },
   {
    "duration": 53,
    "start_time": "2023-01-14T08:17:04.481Z"
   },
   {
    "duration": 30,
    "start_time": "2023-01-14T08:17:04.535Z"
   },
   {
    "duration": 20,
    "start_time": "2023-01-14T08:17:04.566Z"
   },
   {
    "duration": 27,
    "start_time": "2023-01-14T08:17:04.587Z"
   },
   {
    "duration": 34,
    "start_time": "2023-01-14T08:17:04.616Z"
   },
   {
    "duration": 313,
    "start_time": "2023-01-14T08:17:04.651Z"
   },
   {
    "duration": 21,
    "start_time": "2023-01-14T08:17:04.966Z"
   },
   {
    "duration": 43,
    "start_time": "2023-01-14T08:17:04.989Z"
   },
   {
    "duration": 126,
    "start_time": "2023-01-14T08:17:05.034Z"
   },
   {
    "duration": 185,
    "start_time": "2023-01-14T08:17:05.162Z"
   },
   {
    "duration": 332,
    "start_time": "2023-01-14T08:17:05.349Z"
   },
   {
    "duration": 11,
    "start_time": "2023-01-14T08:17:05.682Z"
   },
   {
    "duration": 84,
    "start_time": "2023-01-14T08:17:05.694Z"
   },
   {
    "duration": 62,
    "start_time": "2023-01-14T08:17:05.781Z"
   },
   {
    "duration": 477,
    "start_time": "2023-01-14T08:17:05.848Z"
   },
   {
    "duration": 9,
    "start_time": "2023-01-14T08:17:06.327Z"
   },
   {
    "duration": 42,
    "start_time": "2023-01-14T08:17:06.337Z"
   },
   {
    "duration": 465,
    "start_time": "2023-01-14T08:17:06.381Z"
   },
   {
    "duration": 5,
    "start_time": "2023-01-14T08:17:06.848Z"
   },
   {
    "duration": 23,
    "start_time": "2023-01-14T08:17:06.855Z"
   },
   {
    "duration": 20,
    "start_time": "2023-01-14T08:17:06.880Z"
   },
   {
    "duration": 406,
    "start_time": "2023-01-14T08:17:06.901Z"
   },
   {
    "duration": 8,
    "start_time": "2023-01-14T08:17:07.309Z"
   },
   {
    "duration": 14,
    "start_time": "2023-01-14T08:17:07.319Z"
   },
   {
    "duration": 18,
    "start_time": "2023-01-14T08:17:07.335Z"
   },
   {
    "duration": 34,
    "start_time": "2023-01-14T08:17:07.355Z"
   },
   {
    "duration": 7,
    "start_time": "2023-01-14T08:17:07.391Z"
   },
   {
    "duration": 12,
    "start_time": "2023-01-14T08:17:07.399Z"
   },
   {
    "duration": 427,
    "start_time": "2023-01-14T08:17:07.413Z"
   },
   {
    "duration": 6,
    "start_time": "2023-01-14T08:17:07.841Z"
   },
   {
    "duration": 30,
    "start_time": "2023-01-14T08:17:07.848Z"
   },
   {
    "duration": 115,
    "start_time": "2023-01-14T08:17:07.880Z"
   },
   {
    "duration": 6,
    "start_time": "2023-01-14T08:17:07.997Z"
   },
   {
    "duration": 14,
    "start_time": "2023-01-14T08:17:08.005Z"
   },
   {
    "duration": 17,
    "start_time": "2023-01-14T08:17:08.021Z"
   },
   {
    "duration": 84,
    "start_time": "2023-01-14T08:17:08.040Z"
   },
   {
    "duration": 414,
    "start_time": "2023-01-14T08:17:08.126Z"
   },
   {
    "duration": 69,
    "start_time": "2023-01-14T08:17:08.542Z"
   },
   {
    "duration": 3,
    "start_time": "2023-01-14T08:17:08.613Z"
   },
   {
    "duration": 21,
    "start_time": "2023-01-14T08:17:08.618Z"
   },
   {
    "duration": 5,
    "start_time": "2023-01-14T08:17:08.641Z"
   },
   {
    "duration": 10,
    "start_time": "2023-01-14T08:17:08.648Z"
   },
   {
    "duration": 42205,
    "start_time": "2023-01-14T08:17:08.660Z"
   },
   {
    "duration": 112,
    "start_time": "2023-01-14T08:17:50.866Z"
   },
   {
    "duration": 7155,
    "start_time": "2023-01-14T08:17:50.982Z"
   },
   {
    "duration": 5264,
    "start_time": "2023-01-14T08:17:58.139Z"
   },
   {
    "duration": 5,
    "start_time": "2023-01-14T08:18:14.226Z"
   },
   {
    "duration": 5,
    "start_time": "2023-01-14T08:18:14.233Z"
   },
   {
    "duration": 5,
    "start_time": "2023-01-14T08:18:14.243Z"
   },
   {
    "duration": 5,
    "start_time": "2023-01-14T08:18:14.250Z"
   },
   {
    "duration": 5,
    "start_time": "2023-01-14T08:18:14.256Z"
   },
   {
    "duration": 9,
    "start_time": "2023-01-14T08:18:14.263Z"
   },
   {
    "duration": 750,
    "start_time": "2023-01-14T08:18:14.275Z"
   },
   {
    "duration": 17,
    "start_time": "2023-01-14T08:18:15.028Z"
   },
   {
    "duration": 182,
    "start_time": "2023-01-14T08:18:15.048Z"
   },
   {
    "duration": 94,
    "start_time": "2023-01-14T08:18:15.232Z"
   },
   {
    "duration": 6,
    "start_time": "2023-01-14T08:18:15.328Z"
   },
   {
    "duration": 8,
    "start_time": "2023-01-14T08:18:15.336Z"
   },
   {
    "duration": 38,
    "start_time": "2023-01-14T08:18:15.346Z"
   },
   {
    "duration": 119,
    "start_time": "2023-01-14T08:18:15.387Z"
   },
   {
    "duration": 89,
    "start_time": "2023-01-14T08:18:15.508Z"
   },
   {
    "duration": 401,
    "start_time": "2023-01-14T08:18:15.601Z"
   },
   {
    "duration": 23,
    "start_time": "2023-01-14T08:18:16.004Z"
   },
   {
    "duration": 74,
    "start_time": "2023-01-14T08:18:16.029Z"
   },
   {
    "duration": 335,
    "start_time": "2023-01-14T08:18:16.104Z"
   },
   {
    "duration": 16,
    "start_time": "2023-01-14T08:18:16.440Z"
   },
   {
    "duration": 30,
    "start_time": "2023-01-14T08:18:16.457Z"
   },
   {
    "duration": 55,
    "start_time": "2023-01-14T08:18:16.489Z"
   },
   {
    "duration": 40,
    "start_time": "2023-01-14T08:18:16.546Z"
   },
   {
    "duration": 30,
    "start_time": "2023-01-14T08:18:16.588Z"
   },
   {
    "duration": 50,
    "start_time": "2023-01-14T08:18:16.619Z"
   },
   {
    "duration": 4,
    "start_time": "2023-01-14T08:18:16.677Z"
   },
   {
    "duration": 42,
    "start_time": "2023-01-14T08:18:16.683Z"
   },
   {
    "duration": 27,
    "start_time": "2023-01-14T08:18:16.727Z"
   },
   {
    "duration": 18,
    "start_time": "2023-01-14T08:18:16.756Z"
   },
   {
    "duration": 28,
    "start_time": "2023-01-14T08:18:16.779Z"
   },
   {
    "duration": 51,
    "start_time": "2023-01-14T08:18:16.809Z"
   },
   {
    "duration": 303,
    "start_time": "2023-01-14T08:18:16.863Z"
   },
   {
    "duration": 24,
    "start_time": "2023-01-14T08:18:17.168Z"
   },
   {
    "duration": 51,
    "start_time": "2023-01-14T08:18:17.194Z"
   },
   {
    "duration": 100,
    "start_time": "2023-01-14T08:18:17.246Z"
   },
   {
    "duration": 193,
    "start_time": "2023-01-14T08:18:17.348Z"
   },
   {
    "duration": 311,
    "start_time": "2023-01-14T08:18:17.542Z"
   },
   {
    "duration": 11,
    "start_time": "2023-01-14T08:18:17.855Z"
   },
   {
    "duration": 82,
    "start_time": "2023-01-14T08:18:17.877Z"
   },
   {
    "duration": 75,
    "start_time": "2023-01-14T08:18:17.961Z"
   },
   {
    "duration": 605,
    "start_time": "2023-01-14T08:18:18.038Z"
   },
   {
    "duration": 11,
    "start_time": "2023-01-14T08:18:18.645Z"
   },
   {
    "duration": 29,
    "start_time": "2023-01-14T08:18:18.661Z"
   },
   {
    "duration": 579,
    "start_time": "2023-01-14T08:18:18.692Z"
   },
   {
    "duration": 8,
    "start_time": "2023-01-14T08:18:19.273Z"
   },
   {
    "duration": 31,
    "start_time": "2023-01-14T08:18:19.283Z"
   },
   {
    "duration": 18,
    "start_time": "2023-01-14T08:18:19.316Z"
   },
   {
    "duration": 405,
    "start_time": "2023-01-14T08:18:19.336Z"
   },
   {
    "duration": 7,
    "start_time": "2023-01-14T08:18:19.743Z"
   },
   {
    "duration": 6,
    "start_time": "2023-01-14T08:18:19.752Z"
   },
   {
    "duration": 28,
    "start_time": "2023-01-14T08:18:19.760Z"
   },
   {
    "duration": 28,
    "start_time": "2023-01-14T08:18:19.791Z"
   },
   {
    "duration": 5,
    "start_time": "2023-01-14T08:18:19.821Z"
   },
   {
    "duration": 9,
    "start_time": "2023-01-14T08:18:19.827Z"
   },
   {
    "duration": 532,
    "start_time": "2023-01-14T08:18:19.838Z"
   },
   {
    "duration": 15,
    "start_time": "2023-01-14T08:18:20.372Z"
   },
   {
    "duration": 20,
    "start_time": "2023-01-14T08:18:20.389Z"
   },
   {
    "duration": 140,
    "start_time": "2023-01-14T08:18:20.411Z"
   },
   {
    "duration": 7,
    "start_time": "2023-01-14T08:18:20.553Z"
   },
   {
    "duration": 40,
    "start_time": "2023-01-14T08:18:20.562Z"
   },
   {
    "duration": 11,
    "start_time": "2023-01-14T08:18:20.604Z"
   },
   {
    "duration": 72,
    "start_time": "2023-01-14T08:18:20.617Z"
   },
   {
    "duration": 313,
    "start_time": "2023-01-14T08:18:20.692Z"
   },
   {
    "duration": 87,
    "start_time": "2023-01-14T08:18:21.007Z"
   },
   {
    "duration": 3,
    "start_time": "2023-01-14T08:18:21.097Z"
   },
   {
    "duration": 22,
    "start_time": "2023-01-14T08:18:21.101Z"
   },
   {
    "duration": 5,
    "start_time": "2023-01-14T08:18:21.124Z"
   },
   {
    "duration": 4,
    "start_time": "2023-01-14T08:18:52.538Z"
   },
   {
    "duration": 763534,
    "start_time": "2023-01-14T08:18:57.606Z"
   },
   {
    "duration": 104,
    "start_time": "2023-01-14T08:31:41.142Z"
   },
   {
    "duration": 21058842,
    "start_time": "2023-01-14T08:31:41.248Z"
   },
   {
    "duration": 1786689,
    "start_time": "2023-01-14T14:22:40.092Z"
   },
   {
    "duration": 2417935,
    "start_time": "2023-01-14T15:58:01.726Z"
   },
   {
    "duration": 266,
    "start_time": "2023-01-14T16:50:22.275Z"
   },
   {
    "duration": 23092,
    "start_time": "2023-01-14T16:50:22.567Z"
   },
   {
    "duration": 3050,
    "start_time": "2023-01-14T16:50:45.661Z"
   },
   {
    "duration": 11982,
    "start_time": "2023-01-14T16:50:48.713Z"
   },
   {
    "duration": 4691,
    "start_time": "2023-01-14T16:51:00.697Z"
   },
   {
    "duration": 94077,
    "start_time": "2023-01-14T16:51:05.389Z"
   },
   {
    "duration": 1038,
    "start_time": "2023-01-14T16:52:39.467Z"
   },
   {
    "duration": 10,
    "start_time": "2023-01-14T16:52:40.506Z"
   },
   {
    "duration": 37,
    "start_time": "2023-01-14T16:52:40.517Z"
   },
   {
    "duration": 69,
    "start_time": "2023-01-14T16:52:40.555Z"
   },
   {
    "duration": 1238,
    "start_time": "2023-01-14T16:53:59.224Z"
   },
   {
    "duration": 5,
    "start_time": "2023-01-14T16:54:10.090Z"
   },
   {
    "duration": 104,
    "start_time": "2023-01-14T16:54:21.198Z"
   },
   {
    "duration": 4643,
    "start_time": "2023-01-14T16:54:33.336Z"
   },
   {
    "duration": 9,
    "start_time": "2023-01-14T16:54:57.887Z"
   },
   {
    "duration": 4,
    "start_time": "2023-01-14T16:55:15.975Z"
   },
   {
    "duration": 10,
    "start_time": "2023-01-14T16:57:24.992Z"
   },
   {
    "duration": 9,
    "start_time": "2023-01-14T16:57:31.987Z"
   },
   {
    "duration": 32,
    "start_time": "2023-01-14T16:58:02.207Z"
   },
   {
    "duration": 47,
    "start_time": "2023-01-14T16:58:02.607Z"
   },
   {
    "duration": 1567,
    "start_time": "2023-01-14T16:58:05.954Z"
   },
   {
    "duration": 391,
    "start_time": "2023-01-14T16:58:09.288Z"
   },
   {
    "duration": 14092,
    "start_time": "2023-01-15T22:58:55.388Z"
   },
   {
    "duration": 93,
    "start_time": "2023-01-15T22:59:09.486Z"
   },
   {
    "duration": 96,
    "start_time": "2023-01-15T22:59:09.582Z"
   },
   {
    "duration": 3,
    "start_time": "2023-01-15T22:59:09.680Z"
   },
   {
    "duration": 295,
    "start_time": "2023-01-15T22:59:09.685Z"
   },
   {
    "duration": 497,
    "start_time": "2023-01-15T22:59:09.982Z"
   },
   {
    "duration": 17697,
    "start_time": "2023-01-15T22:59:10.482Z"
   },
   {
    "duration": 204,
    "start_time": "2023-01-15T22:59:28.183Z"
   },
   {
    "duration": 3999,
    "start_time": "2023-01-15T22:59:28.484Z"
   },
   {
    "duration": 1094,
    "start_time": "2023-01-15T22:59:32.487Z"
   },
   {
    "duration": 94,
    "start_time": "2023-01-15T22:59:33.584Z"
   },
   {
    "duration": 196,
    "start_time": "2023-01-15T22:59:33.684Z"
   },
   {
    "duration": 605,
    "start_time": "2023-01-15T22:59:33.882Z"
   },
   {
    "duration": 2701,
    "start_time": "2023-01-15T22:59:34.579Z"
   },
   {
    "duration": 2403,
    "start_time": "2023-01-15T22:59:37.283Z"
   },
   {
    "duration": 3696,
    "start_time": "2023-01-15T22:59:39.784Z"
   },
   {
    "duration": 296,
    "start_time": "2023-01-15T22:59:43.488Z"
   },
   {
    "duration": 698,
    "start_time": "2023-01-15T22:59:43.791Z"
   },
   {
    "duration": 2803,
    "start_time": "2023-01-15T22:59:44.583Z"
   },
   {
    "duration": 204,
    "start_time": "2023-01-15T22:59:47.482Z"
   },
   {
    "duration": 295,
    "start_time": "2023-01-15T22:59:47.689Z"
   },
   {
    "duration": 793,
    "start_time": "2023-01-15T22:59:47.988Z"
   },
   {
    "duration": 300,
    "start_time": "2023-01-15T22:59:48.785Z"
   },
   {
    "duration": 197,
    "start_time": "2023-01-15T22:59:49.088Z"
   },
   {
    "duration": 892,
    "start_time": "2023-01-15T22:59:49.387Z"
   },
   {
    "duration": 3,
    "start_time": "2023-01-15T22:59:50.282Z"
   },
   {
    "duration": 596,
    "start_time": "2023-01-15T22:59:50.288Z"
   },
   {
    "duration": 388,
    "start_time": "2023-01-15T22:59:50.889Z"
   },
   {
    "duration": 407,
    "start_time": "2023-01-15T22:59:51.279Z"
   },
   {
    "duration": 492,
    "start_time": "2023-01-15T22:59:51.690Z"
   },
   {
    "duration": 305,
    "start_time": "2023-01-15T22:59:52.185Z"
   },
   {
    "duration": 2192,
    "start_time": "2023-01-15T22:59:52.492Z"
   },
   {
    "duration": 296,
    "start_time": "2023-01-15T22:59:54.783Z"
   },
   {
    "duration": 311,
    "start_time": "2023-01-15T22:59:55.081Z"
   },
   {
    "duration": 2793,
    "start_time": "2023-01-15T22:59:55.394Z"
   },
   {
    "duration": 1498,
    "start_time": "2023-01-15T22:59:58.282Z"
   },
   {
    "duration": 2697,
    "start_time": "2023-01-15T22:59:59.782Z"
   },
   {
    "duration": 106,
    "start_time": "2023-01-15T23:00:02.481Z"
   },
   {
    "duration": 2191,
    "start_time": "2023-01-15T23:00:02.590Z"
   },
   {
    "duration": 693,
    "start_time": "2023-01-15T23:00:04.784Z"
   },
   {
    "duration": 5899,
    "start_time": "2023-01-15T23:00:05.484Z"
   },
   {
    "duration": 196,
    "start_time": "2023-01-15T23:00:11.389Z"
   },
   {
    "duration": 204,
    "start_time": "2023-01-15T23:00:11.587Z"
   },
   {
    "duration": 5294,
    "start_time": "2023-01-15T23:00:11.793Z"
   },
   {
    "duration": 7,
    "start_time": "2023-01-15T23:00:17.178Z"
   },
   {
    "duration": 292,
    "start_time": "2023-01-15T23:00:17.186Z"
   },
   {
    "duration": 203,
    "start_time": "2023-01-15T23:00:17.481Z"
   },
   {
    "duration": 4290,
    "start_time": "2023-01-15T23:00:17.689Z"
   },
   {
    "duration": 106,
    "start_time": "2023-01-15T23:00:22.077Z"
   },
   {
    "duration": 295,
    "start_time": "2023-01-15T23:00:22.191Z"
   },
   {
    "duration": 197,
    "start_time": "2023-01-15T23:00:22.488Z"
   },
   {
    "duration": 492,
    "start_time": "2023-01-15T23:00:22.689Z"
   },
   {
    "duration": 195,
    "start_time": "2023-01-15T23:00:23.189Z"
   },
   {
    "duration": 101,
    "start_time": "2023-01-15T23:00:23.482Z"
   },
   {
    "duration": 5090,
    "start_time": "2023-01-15T23:00:23.588Z"
   },
   {
    "duration": 97,
    "start_time": "2023-01-15T23:00:28.680Z"
   },
   {
    "duration": 200,
    "start_time": "2023-01-15T23:00:28.785Z"
   },
   {
    "duration": 1300,
    "start_time": "2023-01-15T23:00:29.078Z"
   },
   {
    "duration": 104,
    "start_time": "2023-01-15T23:00:30.381Z"
   },
   {
    "duration": 289,
    "start_time": "2023-01-15T23:00:30.488Z"
   },
   {
    "duration": 295,
    "start_time": "2023-01-15T23:00:30.784Z"
   },
   {
    "duration": 1801,
    "start_time": "2023-01-15T23:00:31.087Z"
   },
   {
    "duration": 3606,
    "start_time": "2023-01-15T23:00:32.980Z"
   },
   {
    "duration": 792,
    "start_time": "2023-01-15T23:00:36.589Z"
   },
   {
    "duration": 92,
    "start_time": "2023-01-15T23:00:37.387Z"
   },
   {
    "duration": 302,
    "start_time": "2023-01-15T23:00:37.484Z"
   },
   {
    "duration": 93,
    "start_time": "2023-01-15T23:00:37.788Z"
   },
   {
    "duration": 7,
    "start_time": "2023-01-15T23:00:37.977Z"
   },
   {
    "duration": 1974,
    "start_time": "2023-01-16T04:41:38.118Z"
   },
   {
    "duration": 3,
    "start_time": "2023-01-16T04:41:40.095Z"
   },
   {
    "duration": 12,
    "start_time": "2023-01-16T04:41:40.100Z"
   },
   {
    "duration": 32,
    "start_time": "2023-01-16T04:41:40.115Z"
   },
   {
    "duration": 73,
    "start_time": "2023-01-16T04:41:40.151Z"
   },
   {
    "duration": 33,
    "start_time": "2023-01-16T04:41:40.228Z"
   },
   {
    "duration": 3291,
    "start_time": "2023-01-16T04:41:40.264Z"
   },
   {
    "duration": 23,
    "start_time": "2023-01-16T04:41:43.558Z"
   },
   {
    "duration": 143,
    "start_time": "2023-01-16T04:42:15.078Z"
   },
   {
    "duration": 10,
    "start_time": "2023-01-16T04:42:47.778Z"
   },
   {
    "duration": 617,
    "start_time": "2023-01-16T04:43:25.812Z"
   },
   {
    "duration": 1682,
    "start_time": "2023-01-16T04:45:18.762Z"
   },
   {
    "duration": 2,
    "start_time": "2023-01-16T04:45:20.447Z"
   },
   {
    "duration": 25,
    "start_time": "2023-01-16T04:45:20.452Z"
   },
   {
    "duration": 7,
    "start_time": "2023-01-16T04:45:20.478Z"
   },
   {
    "duration": 4,
    "start_time": "2023-01-16T04:45:20.488Z"
   },
   {
    "duration": 6,
    "start_time": "2023-01-16T04:45:20.494Z"
   },
   {
    "duration": 934,
    "start_time": "2023-01-16T04:45:20.501Z"
   },
   {
    "duration": 33,
    "start_time": "2023-01-16T04:45:21.437Z"
   },
   {
    "duration": 629,
    "start_time": "2023-01-16T04:45:21.472Z"
   },
   {
    "duration": 161,
    "start_time": "2023-01-16T04:45:22.103Z"
   },
   {
    "duration": 118,
    "start_time": "2023-01-16T04:45:22.268Z"
   },
   {
    "duration": 7,
    "start_time": "2023-01-16T04:45:22.388Z"
   },
   {
    "duration": 11,
    "start_time": "2023-01-16T04:45:22.397Z"
   },
   {
    "duration": 41,
    "start_time": "2023-01-16T04:45:22.410Z"
   },
   {
    "duration": 136,
    "start_time": "2023-01-16T04:45:22.454Z"
   },
   {
    "duration": 102,
    "start_time": "2023-01-16T04:45:22.592Z"
   },
   {
    "duration": 409,
    "start_time": "2023-01-16T04:45:22.696Z"
   },
   {
    "duration": 18,
    "start_time": "2023-01-16T04:45:23.106Z"
   },
   {
    "duration": 67,
    "start_time": "2023-01-16T04:45:23.126Z"
   },
   {
    "duration": 328,
    "start_time": "2023-01-16T04:45:23.195Z"
   },
   {
    "duration": 30,
    "start_time": "2023-01-16T04:45:23.525Z"
   },
   {
    "duration": 31,
    "start_time": "2023-01-16T04:45:23.556Z"
   },
   {
    "duration": 51,
    "start_time": "2023-01-16T04:45:23.589Z"
   },
   {
    "duration": 44,
    "start_time": "2023-01-16T04:45:23.651Z"
   },
   {
    "duration": 20,
    "start_time": "2023-01-16T04:45:23.696Z"
   },
   {
    "duration": 82,
    "start_time": "2023-01-16T04:45:23.717Z"
   },
   {
    "duration": 2,
    "start_time": "2023-01-16T04:45:23.801Z"
   },
   {
    "duration": 46,
    "start_time": "2023-01-16T04:45:23.805Z"
   },
   {
    "duration": 31,
    "start_time": "2023-01-16T04:45:23.853Z"
   },
   {
    "duration": 22,
    "start_time": "2023-01-16T04:45:23.886Z"
   },
   {
    "duration": 20,
    "start_time": "2023-01-16T04:45:23.910Z"
   },
   {
    "duration": 46,
    "start_time": "2023-01-16T04:45:23.932Z"
   },
   {
    "duration": 287,
    "start_time": "2023-01-16T04:45:23.980Z"
   },
   {
    "duration": 20,
    "start_time": "2023-01-16T04:45:24.269Z"
   },
   {
    "duration": 40,
    "start_time": "2023-01-16T04:45:24.290Z"
   },
   {
    "duration": 112,
    "start_time": "2023-01-16T04:45:24.331Z"
   },
   {
    "duration": 201,
    "start_time": "2023-01-16T04:45:24.445Z"
   },
   {
    "duration": 374,
    "start_time": "2023-01-16T04:45:24.651Z"
   },
   {
    "duration": 12,
    "start_time": "2023-01-16T04:45:25.027Z"
   },
   {
    "duration": 86,
    "start_time": "2023-01-16T04:45:25.050Z"
   },
   {
    "duration": 64,
    "start_time": "2023-01-16T04:45:25.152Z"
   },
   {
    "duration": 561,
    "start_time": "2023-01-16T04:45:25.218Z"
   },
   {
    "duration": 33,
    "start_time": "2023-01-16T04:45:25.781Z"
   },
   {
    "duration": 576,
    "start_time": "2023-01-16T04:45:25.816Z"
   },
   {
    "duration": 6,
    "start_time": "2023-01-16T04:45:26.393Z"
   },
   {
    "duration": 10,
    "start_time": "2023-01-16T04:45:26.401Z"
   },
   {
    "duration": 39,
    "start_time": "2023-01-16T04:45:26.413Z"
   },
   {
    "duration": 543,
    "start_time": "2023-01-16T04:45:26.454Z"
   },
   {
    "duration": 9,
    "start_time": "2023-01-16T04:45:26.998Z"
   },
   {
    "duration": 11,
    "start_time": "2023-01-16T04:45:27.008Z"
   },
   {
    "duration": 11,
    "start_time": "2023-01-16T04:45:27.020Z"
   },
   {
    "duration": 44,
    "start_time": "2023-01-16T04:45:27.032Z"
   },
   {
    "duration": 6,
    "start_time": "2023-01-16T04:45:27.078Z"
   },
   {
    "duration": 9,
    "start_time": "2023-01-16T04:45:27.085Z"
   },
   {
    "duration": 511,
    "start_time": "2023-01-16T04:45:27.096Z"
   },
   {
    "duration": 5,
    "start_time": "2023-01-16T04:45:27.609Z"
   },
   {
    "duration": 21,
    "start_time": "2023-01-16T04:45:27.615Z"
   },
   {
    "duration": 149,
    "start_time": "2023-01-16T04:45:27.638Z"
   },
   {
    "duration": 6,
    "start_time": "2023-01-16T04:45:27.788Z"
   },
   {
    "duration": 23,
    "start_time": "2023-01-16T04:45:27.796Z"
   },
   {
    "duration": 12,
    "start_time": "2023-01-16T04:45:27.821Z"
   },
   {
    "duration": 84,
    "start_time": "2023-01-16T04:45:27.834Z"
   },
   {
    "duration": 370,
    "start_time": "2023-01-16T04:45:27.920Z"
   },
   {
    "duration": 66,
    "start_time": "2023-01-16T04:45:28.292Z"
   },
   {
    "duration": 3,
    "start_time": "2023-01-16T04:45:28.361Z"
   },
   {
    "duration": 29,
    "start_time": "2023-01-16T04:45:28.366Z"
   },
   {
    "duration": 8,
    "start_time": "2023-01-16T04:45:28.396Z"
   },
   {
    "duration": 5,
    "start_time": "2023-01-16T04:45:35.474Z"
   },
   {
    "duration": 173120,
    "start_time": "2023-01-16T04:46:30.521Z"
   },
   {
    "duration": 116,
    "start_time": "2023-01-16T04:49:23.643Z"
   },
   {
    "duration": 18228,
    "start_time": "2023-01-16T04:49:23.761Z"
   },
   {
    "duration": 21215,
    "start_time": "2023-01-16T04:49:41.991Z"
   },
   {
    "duration": 4,
    "start_time": "2023-01-16T04:50:03.210Z"
   },
   {
    "duration": 19,
    "start_time": "2023-01-16T04:50:03.216Z"
   },
   {
    "duration": 13,
    "start_time": "2023-01-16T04:50:03.237Z"
   },
   {
    "duration": 17,
    "start_time": "2023-01-16T04:50:03.252Z"
   },
   {
    "duration": 20,
    "start_time": "2023-01-16T04:50:03.271Z"
   },
   {
    "duration": 8,
    "start_time": "2023-01-16T04:50:03.294Z"
   },
   {
    "duration": 890,
    "start_time": "2023-01-16T04:50:03.303Z"
   },
   {
    "duration": 15,
    "start_time": "2023-01-16T04:50:04.194Z"
   },
   {
    "duration": 661,
    "start_time": "2023-01-16T04:50:04.210Z"
   },
   {
    "duration": 148,
    "start_time": "2023-01-16T04:50:04.873Z"
   },
   {
    "duration": 107,
    "start_time": "2023-01-16T04:50:05.023Z"
   },
   {
    "duration": 6,
    "start_time": "2023-01-16T04:50:05.132Z"
   },
   {
    "duration": 30,
    "start_time": "2023-01-16T04:50:05.151Z"
   },
   {
    "duration": 39,
    "start_time": "2023-01-16T04:50:05.182Z"
   },
   {
    "duration": 121,
    "start_time": "2023-01-16T04:50:05.222Z"
   },
   {
    "duration": 91,
    "start_time": "2023-01-16T04:50:05.345Z"
   },
   {
    "duration": 398,
    "start_time": "2023-01-16T04:50:05.437Z"
   },
   {
    "duration": 25,
    "start_time": "2023-01-16T04:50:05.836Z"
   },
   {
    "duration": 78,
    "start_time": "2023-01-16T04:50:05.863Z"
   },
   {
    "duration": 323,
    "start_time": "2023-01-16T04:50:05.943Z"
   },
   {
    "duration": 17,
    "start_time": "2023-01-16T04:50:06.270Z"
   },
   {
    "duration": 41,
    "start_time": "2023-01-16T04:50:06.289Z"
   },
   {
    "duration": 65,
    "start_time": "2023-01-16T04:50:06.332Z"
   },
   {
    "duration": 36,
    "start_time": "2023-01-16T04:50:06.398Z"
   },
   {
    "duration": 55,
    "start_time": "2023-01-16T04:50:06.435Z"
   },
   {
    "duration": 72,
    "start_time": "2023-01-16T04:50:06.492Z"
   },
   {
    "duration": 5,
    "start_time": "2023-01-16T04:50:06.567Z"
   },
   {
    "duration": 47,
    "start_time": "2023-01-16T04:50:06.573Z"
   },
   {
    "duration": 51,
    "start_time": "2023-01-16T04:50:06.622Z"
   },
   {
    "duration": 46,
    "start_time": "2023-01-16T04:50:06.674Z"
   },
   {
    "duration": 59,
    "start_time": "2023-01-16T04:50:06.721Z"
   },
   {
    "duration": 69,
    "start_time": "2023-01-16T04:50:06.782Z"
   },
   {
    "duration": 288,
    "start_time": "2023-01-16T04:50:06.853Z"
   },
   {
    "duration": 26,
    "start_time": "2023-01-16T04:50:07.143Z"
   },
   {
    "duration": 57,
    "start_time": "2023-01-16T04:50:07.171Z"
   },
   {
    "duration": 105,
    "start_time": "2023-01-16T04:50:07.229Z"
   },
   {
    "duration": 182,
    "start_time": "2023-01-16T04:50:07.336Z"
   },
   {
    "duration": 328,
    "start_time": "2023-01-16T04:50:07.520Z"
   },
   {
    "duration": 17,
    "start_time": "2023-01-16T04:50:07.853Z"
   },
   {
    "duration": 112,
    "start_time": "2023-01-16T04:50:07.872Z"
   },
   {
    "duration": 77,
    "start_time": "2023-01-16T04:50:07.986Z"
   },
   {
    "duration": 557,
    "start_time": "2023-01-16T04:50:08.065Z"
   },
   {
    "duration": 37,
    "start_time": "2023-01-16T04:50:08.624Z"
   },
   {
    "duration": 628,
    "start_time": "2023-01-16T04:50:08.665Z"
   },
   {
    "duration": 6,
    "start_time": "2023-01-16T04:50:09.295Z"
   },
   {
    "duration": 41,
    "start_time": "2023-01-16T04:50:09.303Z"
   },
   {
    "duration": 63,
    "start_time": "2023-01-16T04:50:09.346Z"
   },
   {
    "duration": 514,
    "start_time": "2023-01-16T04:50:09.411Z"
   },
   {
    "duration": 8,
    "start_time": "2023-01-16T04:50:09.927Z"
   },
   {
    "duration": 22,
    "start_time": "2023-01-16T04:50:09.937Z"
   },
   {
    "duration": 25,
    "start_time": "2023-01-16T04:50:09.961Z"
   },
   {
    "duration": 47,
    "start_time": "2023-01-16T04:50:09.987Z"
   },
   {
    "duration": 6,
    "start_time": "2023-01-16T04:50:10.035Z"
   },
   {
    "duration": 28,
    "start_time": "2023-01-16T04:50:10.043Z"
   },
   {
    "duration": 489,
    "start_time": "2023-01-16T04:50:10.073Z"
   },
   {
    "duration": 6,
    "start_time": "2023-01-16T04:50:10.564Z"
   },
   {
    "duration": 37,
    "start_time": "2023-01-16T04:50:10.571Z"
   },
   {
    "duration": 133,
    "start_time": "2023-01-16T04:50:10.610Z"
   },
   {
    "duration": 11,
    "start_time": "2023-01-16T04:50:10.744Z"
   },
   {
    "duration": 40,
    "start_time": "2023-01-16T04:50:10.757Z"
   },
   {
    "duration": 26,
    "start_time": "2023-01-16T04:50:10.799Z"
   },
   {
    "duration": 104,
    "start_time": "2023-01-16T04:50:10.827Z"
   },
   {
    "duration": 357,
    "start_time": "2023-01-16T04:50:10.933Z"
   },
   {
    "duration": 65,
    "start_time": "2023-01-16T04:50:11.291Z"
   },
   {
    "duration": 3,
    "start_time": "2023-01-16T04:50:11.358Z"
   },
   {
    "duration": 39,
    "start_time": "2023-01-16T04:50:11.365Z"
   },
   {
    "duration": 40,
    "start_time": "2023-01-16T04:50:11.406Z"
   },
   {
    "duration": 36,
    "start_time": "2023-01-16T04:50:11.448Z"
   },
   {
    "duration": 873153,
    "start_time": "2023-01-16T04:50:14.777Z"
   },
   {
    "duration": 122,
    "start_time": "2023-01-16T05:04:47.932Z"
   },
   {
    "duration": 2128,
    "start_time": "2023-01-16T06:11:15.052Z"
   },
   {
    "duration": 4,
    "start_time": "2023-01-16T06:11:17.182Z"
   },
   {
    "duration": 10,
    "start_time": "2023-01-16T06:11:17.188Z"
   },
   {
    "duration": 15,
    "start_time": "2023-01-16T06:11:17.202Z"
   },
   {
    "duration": 13,
    "start_time": "2023-01-16T06:11:17.221Z"
   },
   {
    "duration": 17,
    "start_time": "2023-01-16T06:11:17.236Z"
   },
   {
    "duration": 1381,
    "start_time": "2023-01-16T06:11:17.256Z"
   },
   {
    "duration": 27,
    "start_time": "2023-01-16T06:11:18.639Z"
   },
   {
    "duration": 959,
    "start_time": "2023-01-16T06:11:18.669Z"
   },
   {
    "duration": 203,
    "start_time": "2023-01-16T06:11:19.632Z"
   },
   {
    "duration": 140,
    "start_time": "2023-01-16T06:11:19.837Z"
   },
   {
    "duration": 9,
    "start_time": "2023-01-16T06:11:19.979Z"
   },
   {
    "duration": 64,
    "start_time": "2023-01-16T06:11:19.990Z"
   },
   {
    "duration": 52,
    "start_time": "2023-01-16T06:11:20.058Z"
   },
   {
    "duration": 196,
    "start_time": "2023-01-16T06:11:20.112Z"
   },
   {
    "duration": 162,
    "start_time": "2023-01-16T06:11:20.310Z"
   },
   {
    "duration": 524,
    "start_time": "2023-01-16T06:11:20.475Z"
   },
   {
    "duration": 20,
    "start_time": "2023-01-16T06:11:21.000Z"
   },
   {
    "duration": 109,
    "start_time": "2023-01-16T06:11:21.022Z"
   },
   {
    "duration": 439,
    "start_time": "2023-01-16T06:11:21.133Z"
   },
   {
    "duration": 26,
    "start_time": "2023-01-16T06:11:21.574Z"
   },
   {
    "duration": 28,
    "start_time": "2023-01-16T06:11:21.602Z"
   },
   {
    "duration": 101,
    "start_time": "2023-01-16T06:11:21.652Z"
   },
   {
    "duration": 60,
    "start_time": "2023-01-16T06:11:21.758Z"
   },
   {
    "duration": 41,
    "start_time": "2023-01-16T06:11:21.821Z"
   },
   {
    "duration": 111,
    "start_time": "2023-01-16T06:11:21.865Z"
   },
   {
    "duration": 3,
    "start_time": "2023-01-16T06:11:21.979Z"
   },
   {
    "duration": 74,
    "start_time": "2023-01-16T06:11:21.984Z"
   },
   {
    "duration": 37,
    "start_time": "2023-01-16T06:11:22.061Z"
   },
   {
    "duration": 42,
    "start_time": "2023-01-16T06:11:22.100Z"
   },
   {
    "duration": 36,
    "start_time": "2023-01-16T06:11:22.144Z"
   },
   {
    "duration": 73,
    "start_time": "2023-01-16T06:11:22.184Z"
   },
   {
    "duration": 441,
    "start_time": "2023-01-16T06:11:22.260Z"
   },
   {
    "duration": 32,
    "start_time": "2023-01-16T06:11:22.704Z"
   },
   {
    "duration": 69,
    "start_time": "2023-01-16T06:11:22.738Z"
   },
   {
    "duration": 162,
    "start_time": "2023-01-16T06:11:22.809Z"
   },
   {
    "duration": 278,
    "start_time": "2023-01-16T06:11:22.973Z"
   },
   {
    "duration": 516,
    "start_time": "2023-01-16T06:11:23.254Z"
   },
   {
    "duration": 20,
    "start_time": "2023-01-16T06:11:23.773Z"
   },
   {
    "duration": 156,
    "start_time": "2023-01-16T06:11:23.795Z"
   },
   {
    "duration": 78,
    "start_time": "2023-01-16T06:11:23.957Z"
   },
   {
    "duration": 896,
    "start_time": "2023-01-16T06:11:24.038Z"
   },
   {
    "duration": 36,
    "start_time": "2023-01-16T06:11:24.937Z"
   },
   {
    "duration": 611,
    "start_time": "2023-01-16T06:11:24.976Z"
   },
   {
    "duration": 8,
    "start_time": "2023-01-16T06:11:25.589Z"
   },
   {
    "duration": 20,
    "start_time": "2023-01-16T06:11:25.601Z"
   },
   {
    "duration": 38,
    "start_time": "2023-01-16T06:11:25.623Z"
   },
   {
    "duration": 729,
    "start_time": "2023-01-16T06:11:25.663Z"
   },
   {
    "duration": 11,
    "start_time": "2023-01-16T06:11:26.394Z"
   },
   {
    "duration": 8,
    "start_time": "2023-01-16T06:11:26.408Z"
   },
   {
    "duration": 41,
    "start_time": "2023-01-16T06:11:26.417Z"
   },
   {
    "duration": 25,
    "start_time": "2023-01-16T06:11:26.461Z"
   },
   {
    "duration": 8,
    "start_time": "2023-01-16T06:11:26.489Z"
   },
   {
    "duration": 9,
    "start_time": "2023-01-16T06:11:26.499Z"
   },
   {
    "duration": 679,
    "start_time": "2023-01-16T06:11:26.510Z"
   },
   {
    "duration": 7,
    "start_time": "2023-01-16T06:11:27.193Z"
   },
   {
    "duration": 31,
    "start_time": "2023-01-16T06:11:27.202Z"
   },
   {
    "duration": 209,
    "start_time": "2023-01-16T06:11:27.235Z"
   },
   {
    "duration": 12,
    "start_time": "2023-01-16T06:11:27.450Z"
   },
   {
    "duration": 14,
    "start_time": "2023-01-16T06:11:27.465Z"
   },
   {
    "duration": 16,
    "start_time": "2023-01-16T06:11:27.481Z"
   },
   {
    "duration": 136,
    "start_time": "2023-01-16T06:11:27.499Z"
   },
   {
    "duration": 451,
    "start_time": "2023-01-16T06:11:27.638Z"
   },
   {
    "duration": 101,
    "start_time": "2023-01-16T06:11:28.091Z"
   },
   {
    "duration": 3,
    "start_time": "2023-01-16T06:11:28.195Z"
   },
   {
    "duration": 25,
    "start_time": "2023-01-16T06:11:28.200Z"
   },
   {
    "duration": 10,
    "start_time": "2023-01-16T06:11:28.227Z"
   },
   {
    "duration": 6,
    "start_time": "2023-01-16T06:14:17.433Z"
   },
   {
    "duration": 1842,
    "start_time": "2023-01-16T06:15:19.603Z"
   },
   {
    "duration": 4,
    "start_time": "2023-01-16T06:15:21.450Z"
   },
   {
    "duration": 14,
    "start_time": "2023-01-16T06:15:21.456Z"
   },
   {
    "duration": 11,
    "start_time": "2023-01-16T06:15:21.472Z"
   },
   {
    "duration": 50,
    "start_time": "2023-01-16T06:15:21.485Z"
   },
   {
    "duration": 51,
    "start_time": "2023-01-16T06:15:21.538Z"
   },
   {
    "duration": 1468,
    "start_time": "2023-01-16T06:15:21.592Z"
   },
   {
    "duration": 27,
    "start_time": "2023-01-16T06:15:23.062Z"
   },
   {
    "duration": 908,
    "start_time": "2023-01-16T06:15:23.092Z"
   },
   {
    "duration": 251,
    "start_time": "2023-01-16T06:15:24.003Z"
   },
   {
    "duration": 228,
    "start_time": "2023-01-16T06:15:24.257Z"
   },
   {
    "duration": 12,
    "start_time": "2023-01-16T06:15:24.488Z"
   },
   {
    "duration": 100,
    "start_time": "2023-01-16T06:15:24.502Z"
   },
   {
    "duration": 52,
    "start_time": "2023-01-16T06:15:24.607Z"
   },
   {
    "duration": 212,
    "start_time": "2023-01-16T06:15:24.662Z"
   },
   {
    "duration": 167,
    "start_time": "2023-01-16T06:15:24.877Z"
   },
   {
    "duration": 626,
    "start_time": "2023-01-16T06:15:25.046Z"
   },
   {
    "duration": 29,
    "start_time": "2023-01-16T06:15:25.674Z"
   },
   {
    "duration": 100,
    "start_time": "2023-01-16T06:15:25.705Z"
   },
   {
    "duration": 520,
    "start_time": "2023-01-16T06:15:25.810Z"
   },
   {
    "duration": 38,
    "start_time": "2023-01-16T06:15:26.333Z"
   },
   {
    "duration": 40,
    "start_time": "2023-01-16T06:15:26.375Z"
   },
   {
    "duration": 87,
    "start_time": "2023-01-16T06:15:26.418Z"
   },
   {
    "duration": 67,
    "start_time": "2023-01-16T06:15:26.508Z"
   },
   {
    "duration": 33,
    "start_time": "2023-01-16T06:15:26.577Z"
   },
   {
    "duration": 130,
    "start_time": "2023-01-16T06:15:26.614Z"
   },
   {
    "duration": 4,
    "start_time": "2023-01-16T06:15:26.746Z"
   },
   {
    "duration": 76,
    "start_time": "2023-01-16T06:15:26.753Z"
   },
   {
    "duration": 32,
    "start_time": "2023-01-16T06:15:26.831Z"
   },
   {
    "duration": 34,
    "start_time": "2023-01-16T06:15:26.865Z"
   },
   {
    "duration": 32,
    "start_time": "2023-01-16T06:15:26.902Z"
   },
   {
    "duration": 61,
    "start_time": "2023-01-16T06:15:26.937Z"
   },
   {
    "duration": 442,
    "start_time": "2023-01-16T06:15:27.000Z"
   },
   {
    "duration": 31,
    "start_time": "2023-01-16T06:15:27.451Z"
   },
   {
    "duration": 74,
    "start_time": "2023-01-16T06:15:27.484Z"
   },
   {
    "duration": 153,
    "start_time": "2023-01-16T06:15:27.560Z"
   },
   {
    "duration": 309,
    "start_time": "2023-01-16T06:15:27.715Z"
   },
   {
    "duration": 590,
    "start_time": "2023-01-16T06:15:28.026Z"
   },
   {
    "duration": 31,
    "start_time": "2023-01-16T06:15:28.619Z"
   },
   {
    "duration": 150,
    "start_time": "2023-01-16T06:15:28.653Z"
   },
   {
    "duration": 110,
    "start_time": "2023-01-16T06:15:28.811Z"
   },
   {
    "duration": 936,
    "start_time": "2023-01-16T06:15:28.924Z"
   },
   {
    "duration": 38,
    "start_time": "2023-01-16T06:15:29.863Z"
   },
   {
    "duration": 852,
    "start_time": "2023-01-16T06:15:29.905Z"
   },
   {
    "duration": 7,
    "start_time": "2023-01-16T06:15:30.764Z"
   },
   {
    "duration": 64,
    "start_time": "2023-01-16T06:15:30.773Z"
   },
   {
    "duration": 60,
    "start_time": "2023-01-16T06:15:30.839Z"
   },
   {
    "duration": 623,
    "start_time": "2023-01-16T06:15:30.901Z"
   },
   {
    "duration": 11,
    "start_time": "2023-01-16T06:15:31.526Z"
   },
   {
    "duration": 17,
    "start_time": "2023-01-16T06:15:31.550Z"
   },
   {
    "duration": 43,
    "start_time": "2023-01-16T06:15:31.569Z"
   },
   {
    "duration": 42,
    "start_time": "2023-01-16T06:15:31.615Z"
   },
   {
    "duration": 17,
    "start_time": "2023-01-16T06:15:31.659Z"
   },
   {
    "duration": 40,
    "start_time": "2023-01-16T06:15:31.679Z"
   },
   {
    "duration": 784,
    "start_time": "2023-01-16T06:15:31.722Z"
   },
   {
    "duration": 12,
    "start_time": "2023-01-16T06:15:32.509Z"
   },
   {
    "duration": 42,
    "start_time": "2023-01-16T06:15:32.523Z"
   },
   {
    "duration": 229,
    "start_time": "2023-01-16T06:15:32.568Z"
   },
   {
    "duration": 11,
    "start_time": "2023-01-16T06:15:32.799Z"
   },
   {
    "duration": 32,
    "start_time": "2023-01-16T06:15:32.812Z"
   },
   {
    "duration": 24,
    "start_time": "2023-01-16T06:15:32.852Z"
   },
   {
    "duration": 135,
    "start_time": "2023-01-16T06:15:32.878Z"
   },
   {
    "duration": 480,
    "start_time": "2023-01-16T06:15:33.015Z"
   },
   {
    "duration": 111,
    "start_time": "2023-01-16T06:15:33.498Z"
   },
   {
    "duration": 3,
    "start_time": "2023-01-16T06:15:33.612Z"
   },
   {
    "duration": 51,
    "start_time": "2023-01-16T06:15:33.618Z"
   },
   {
    "duration": 7,
    "start_time": "2023-01-16T06:15:33.672Z"
   },
   {
    "duration": 178,
    "start_time": "2023-01-16T06:15:43.967Z"
   },
   {
    "duration": 464,
    "start_time": "2023-01-16T06:15:51.403Z"
   },
   {
    "duration": 34246,
    "start_time": "2023-01-16T06:15:51.924Z"
   },
   {
    "duration": 4339,
    "start_time": "2023-01-16T06:16:26.173Z"
   }
  ],
  "kernelspec": {
   "display_name": "Python 3 (ipykernel)",
   "language": "python",
   "name": "python3"
  },
  "language_info": {
   "codemirror_mode": {
    "name": "ipython",
    "version": 3
   },
   "file_extension": ".py",
   "mimetype": "text/x-python",
   "name": "python",
   "nbconvert_exporter": "python",
   "pygments_lexer": "ipython3",
   "version": "3.9.13"
  },
  "toc": {
   "base_numbering": 1,
   "nav_menu": {},
   "number_sections": true,
   "sideBar": true,
   "skip_h1_title": true,
   "title_cell": "Table of Contents",
   "title_sidebar": "Contents",
   "toc_cell": false,
   "toc_position": {
    "height": "calc(100% - 180px)",
    "left": "10px",
    "top": "150px",
    "width": "289.438px"
   },
   "toc_section_display": true,
   "toc_window_display": true
  }
 },
 "nbformat": 4,
 "nbformat_minor": 2
}
