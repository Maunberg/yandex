{
 "cells": [
  {
   "cell_type": "markdown",
   "id": "523db101",
   "metadata": {
    "id": "c81daeeb"
   },
   "source": [
    "# Исследование надежности заемщиков\n"
   ]
  },
  {
   "cell_type": "markdown",
   "id": "927a13bd",
   "metadata": {},
   "source": [
    "Заказчик — кредитный отдел банка. Нужно разобраться, влияет ли семейное положение и количество детей клиента на факт погашения кредита в срок. Входные данные от банка — статистика о платёжеспособности клиентов.\n",
    "Результаты исследования будут учтены при построении модели кредитного скоринга — специальной системы, которая оценивает способность потенциального заёмщика вернуть кредит банку."
   ]
  },
  {
   "cell_type": "markdown",
   "id": "d1c18677",
   "metadata": {},
   "source": [
    "Столбцы данных\n",
    "<pre>\n",
    "children         — количество детей в семье\n",
    "days_employed    — общий трудовой стаж в днях\n",
    "dob_years        — возраст клиента в годах\n",
    "education        — уровень образования клиента\n",
    "education_id     — идентификатор уровня образования\n",
    "family_status    — семейное положение\n",
    "family_status_id — идентификатор семейного положения\n",
    "gender           — пол клиента\n",
    "income_type      — тип занятости\n",
    "debt             — имел ли задолженность по возврату кредитов\n",
    "total_income     — ежемесячный доход\n",
    "purpose          — цель получения кредита\n",
    "</pre>"
   ]
  },
  {
   "cell_type": "markdown",
   "id": "e8137e44",
   "metadata": {
    "id": "b8038fe3"
   },
   "source": [
    "## Исследование датасета"
   ]
  },
  {
   "cell_type": "code",
   "execution_count": 279,
   "id": "32d9a9ab",
   "metadata": {
    "id": "7bcf75c9"
   },
   "outputs": [],
   "source": [
    "import pandas as pd\n",
    "import warnings\n",
    "warnings.filterwarnings(\"ignore\")"
   ]
  },
  {
   "cell_type": "code",
   "execution_count": 280,
   "id": "4f2799b3",
   "metadata": {},
   "outputs": [],
   "source": [
    "data = pd.read_csv('data.csv')"
   ]
  },
  {
   "cell_type": "code",
   "execution_count": 281,
   "id": "6ce4420c",
   "metadata": {
    "id": "2a7cab99",
    "outputId": "1a8f3ef2-d323-4ec2-ddf7-89670b5944c4"
   },
   "outputs": [
    {
     "data": {
      "text/html": [
       "<div>\n",
       "<style scoped>\n",
       "    .dataframe tbody tr th:only-of-type {\n",
       "        vertical-align: middle;\n",
       "    }\n",
       "\n",
       "    .dataframe tbody tr th {\n",
       "        vertical-align: top;\n",
       "    }\n",
       "\n",
       "    .dataframe thead th {\n",
       "        text-align: right;\n",
       "    }\n",
       "</style>\n",
       "<table border=\"1\" class=\"dataframe\">\n",
       "  <thead>\n",
       "    <tr style=\"text-align: right;\">\n",
       "      <th></th>\n",
       "      <th>children</th>\n",
       "      <th>days_employed</th>\n",
       "      <th>dob_years</th>\n",
       "      <th>education</th>\n",
       "      <th>education_id</th>\n",
       "      <th>family_status</th>\n",
       "      <th>family_status_id</th>\n",
       "      <th>gender</th>\n",
       "      <th>income_type</th>\n",
       "      <th>debt</th>\n",
       "      <th>total_income</th>\n",
       "      <th>purpose</th>\n",
       "    </tr>\n",
       "  </thead>\n",
       "  <tbody>\n",
       "    <tr>\n",
       "      <th>0</th>\n",
       "      <td>1</td>\n",
       "      <td>-8437.673028</td>\n",
       "      <td>42</td>\n",
       "      <td>высшее</td>\n",
       "      <td>0</td>\n",
       "      <td>женат / замужем</td>\n",
       "      <td>0</td>\n",
       "      <td>F</td>\n",
       "      <td>сотрудник</td>\n",
       "      <td>0</td>\n",
       "      <td>253875.639453</td>\n",
       "      <td>покупка жилья</td>\n",
       "    </tr>\n",
       "    <tr>\n",
       "      <th>1</th>\n",
       "      <td>1</td>\n",
       "      <td>-4024.803754</td>\n",
       "      <td>36</td>\n",
       "      <td>среднее</td>\n",
       "      <td>1</td>\n",
       "      <td>женат / замужем</td>\n",
       "      <td>0</td>\n",
       "      <td>F</td>\n",
       "      <td>сотрудник</td>\n",
       "      <td>0</td>\n",
       "      <td>112080.014102</td>\n",
       "      <td>приобретение автомобиля</td>\n",
       "    </tr>\n",
       "    <tr>\n",
       "      <th>2</th>\n",
       "      <td>0</td>\n",
       "      <td>-5623.422610</td>\n",
       "      <td>33</td>\n",
       "      <td>Среднее</td>\n",
       "      <td>1</td>\n",
       "      <td>женат / замужем</td>\n",
       "      <td>0</td>\n",
       "      <td>M</td>\n",
       "      <td>сотрудник</td>\n",
       "      <td>0</td>\n",
       "      <td>145885.952297</td>\n",
       "      <td>покупка жилья</td>\n",
       "    </tr>\n",
       "    <tr>\n",
       "      <th>3</th>\n",
       "      <td>3</td>\n",
       "      <td>-4124.747207</td>\n",
       "      <td>32</td>\n",
       "      <td>среднее</td>\n",
       "      <td>1</td>\n",
       "      <td>женат / замужем</td>\n",
       "      <td>0</td>\n",
       "      <td>M</td>\n",
       "      <td>сотрудник</td>\n",
       "      <td>0</td>\n",
       "      <td>267628.550329</td>\n",
       "      <td>дополнительное образование</td>\n",
       "    </tr>\n",
       "    <tr>\n",
       "      <th>4</th>\n",
       "      <td>0</td>\n",
       "      <td>340266.072047</td>\n",
       "      <td>53</td>\n",
       "      <td>среднее</td>\n",
       "      <td>1</td>\n",
       "      <td>гражданский брак</td>\n",
       "      <td>1</td>\n",
       "      <td>F</td>\n",
       "      <td>пенсионер</td>\n",
       "      <td>0</td>\n",
       "      <td>158616.077870</td>\n",
       "      <td>сыграть свадьбу</td>\n",
       "    </tr>\n",
       "    <tr>\n",
       "      <th>...</th>\n",
       "      <td>...</td>\n",
       "      <td>...</td>\n",
       "      <td>...</td>\n",
       "      <td>...</td>\n",
       "      <td>...</td>\n",
       "      <td>...</td>\n",
       "      <td>...</td>\n",
       "      <td>...</td>\n",
       "      <td>...</td>\n",
       "      <td>...</td>\n",
       "      <td>...</td>\n",
       "      <td>...</td>\n",
       "    </tr>\n",
       "    <tr>\n",
       "      <th>21520</th>\n",
       "      <td>1</td>\n",
       "      <td>-4529.316663</td>\n",
       "      <td>43</td>\n",
       "      <td>среднее</td>\n",
       "      <td>1</td>\n",
       "      <td>гражданский брак</td>\n",
       "      <td>1</td>\n",
       "      <td>F</td>\n",
       "      <td>компаньон</td>\n",
       "      <td>0</td>\n",
       "      <td>224791.862382</td>\n",
       "      <td>операции с жильем</td>\n",
       "    </tr>\n",
       "    <tr>\n",
       "      <th>21521</th>\n",
       "      <td>0</td>\n",
       "      <td>343937.404131</td>\n",
       "      <td>67</td>\n",
       "      <td>среднее</td>\n",
       "      <td>1</td>\n",
       "      <td>женат / замужем</td>\n",
       "      <td>0</td>\n",
       "      <td>F</td>\n",
       "      <td>пенсионер</td>\n",
       "      <td>0</td>\n",
       "      <td>155999.806512</td>\n",
       "      <td>сделка с автомобилем</td>\n",
       "    </tr>\n",
       "    <tr>\n",
       "      <th>21522</th>\n",
       "      <td>1</td>\n",
       "      <td>-2113.346888</td>\n",
       "      <td>38</td>\n",
       "      <td>среднее</td>\n",
       "      <td>1</td>\n",
       "      <td>гражданский брак</td>\n",
       "      <td>1</td>\n",
       "      <td>M</td>\n",
       "      <td>сотрудник</td>\n",
       "      <td>1</td>\n",
       "      <td>89672.561153</td>\n",
       "      <td>недвижимость</td>\n",
       "    </tr>\n",
       "    <tr>\n",
       "      <th>21523</th>\n",
       "      <td>3</td>\n",
       "      <td>-3112.481705</td>\n",
       "      <td>38</td>\n",
       "      <td>среднее</td>\n",
       "      <td>1</td>\n",
       "      <td>женат / замужем</td>\n",
       "      <td>0</td>\n",
       "      <td>M</td>\n",
       "      <td>сотрудник</td>\n",
       "      <td>1</td>\n",
       "      <td>244093.050500</td>\n",
       "      <td>на покупку своего автомобиля</td>\n",
       "    </tr>\n",
       "    <tr>\n",
       "      <th>21524</th>\n",
       "      <td>2</td>\n",
       "      <td>-1984.507589</td>\n",
       "      <td>40</td>\n",
       "      <td>среднее</td>\n",
       "      <td>1</td>\n",
       "      <td>женат / замужем</td>\n",
       "      <td>0</td>\n",
       "      <td>F</td>\n",
       "      <td>сотрудник</td>\n",
       "      <td>0</td>\n",
       "      <td>82047.418899</td>\n",
       "      <td>на покупку автомобиля</td>\n",
       "    </tr>\n",
       "  </tbody>\n",
       "</table>\n",
       "<p>21525 rows × 12 columns</p>\n",
       "</div>"
      ],
      "text/plain": [
       "       children  days_employed  dob_years education  education_id  \\\n",
       "0             1   -8437.673028         42    высшее             0   \n",
       "1             1   -4024.803754         36   среднее             1   \n",
       "2             0   -5623.422610         33   Среднее             1   \n",
       "3             3   -4124.747207         32   среднее             1   \n",
       "4             0  340266.072047         53   среднее             1   \n",
       "...         ...            ...        ...       ...           ...   \n",
       "21520         1   -4529.316663         43   среднее             1   \n",
       "21521         0  343937.404131         67   среднее             1   \n",
       "21522         1   -2113.346888         38   среднее             1   \n",
       "21523         3   -3112.481705         38   среднее             1   \n",
       "21524         2   -1984.507589         40   среднее             1   \n",
       "\n",
       "          family_status  family_status_id gender income_type  debt  \\\n",
       "0       женат / замужем                 0      F   сотрудник     0   \n",
       "1       женат / замужем                 0      F   сотрудник     0   \n",
       "2       женат / замужем                 0      M   сотрудник     0   \n",
       "3       женат / замужем                 0      M   сотрудник     0   \n",
       "4      гражданский брак                 1      F   пенсионер     0   \n",
       "...                 ...               ...    ...         ...   ...   \n",
       "21520  гражданский брак                 1      F   компаньон     0   \n",
       "21521   женат / замужем                 0      F   пенсионер     0   \n",
       "21522  гражданский брак                 1      M   сотрудник     1   \n",
       "21523   женат / замужем                 0      M   сотрудник     1   \n",
       "21524   женат / замужем                 0      F   сотрудник     0   \n",
       "\n",
       "        total_income                       purpose  \n",
       "0      253875.639453                 покупка жилья  \n",
       "1      112080.014102       приобретение автомобиля  \n",
       "2      145885.952297                 покупка жилья  \n",
       "3      267628.550329    дополнительное образование  \n",
       "4      158616.077870               сыграть свадьбу  \n",
       "...              ...                           ...  \n",
       "21520  224791.862382             операции с жильем  \n",
       "21521  155999.806512          сделка с автомобилем  \n",
       "21522   89672.561153                  недвижимость  \n",
       "21523  244093.050500  на покупку своего автомобиля  \n",
       "21524   82047.418899         на покупку автомобиля  \n",
       "\n",
       "[21525 rows x 12 columns]"
      ]
     },
     "execution_count": 281,
     "metadata": {},
     "output_type": "execute_result"
    }
   ],
   "source": [
    "data"
   ]
  },
  {
   "cell_type": "code",
   "execution_count": 282,
   "id": "5dde58ad",
   "metadata": {
    "id": "2b757bca",
    "outputId": "15376089-8dad-46c9-b520-c05248d43158"
   },
   "outputs": [
    {
     "name": "stdout",
     "output_type": "stream",
     "text": [
      "<class 'pandas.core.frame.DataFrame'>\n",
      "RangeIndex: 21525 entries, 0 to 21524\n",
      "Data columns (total 12 columns):\n",
      " #   Column            Non-Null Count  Dtype  \n",
      "---  ------            --------------  -----  \n",
      " 0   children          21525 non-null  int64  \n",
      " 1   days_employed     19351 non-null  float64\n",
      " 2   dob_years         21525 non-null  int64  \n",
      " 3   education         21525 non-null  object \n",
      " 4   education_id      21525 non-null  int64  \n",
      " 5   family_status     21525 non-null  object \n",
      " 6   family_status_id  21525 non-null  int64  \n",
      " 7   gender            21525 non-null  object \n",
      " 8   income_type       21525 non-null  object \n",
      " 9   debt              21525 non-null  int64  \n",
      " 10  total_income      19351 non-null  float64\n",
      " 11  purpose           21525 non-null  object \n",
      "dtypes: float64(2), int64(5), object(5)\n",
      "memory usage: 2.0+ MB\n"
     ]
    }
   ],
   "source": [
    "data.info()"
   ]
  },
  {
   "cell_type": "markdown",
   "id": "59e8ccf9",
   "metadata": {
    "id": "1c12e233"
   },
   "source": [
    "Итак, у нас есть данные, в которых мы сразу можем увидеть, что некоторые столбцы "
   ]
  },
  {
   "cell_type": "markdown",
   "id": "882fa728",
   "metadata": {
    "id": "333ec665"
   },
   "source": [
    "## Предобработка данных"
   ]
  },
  {
   "cell_type": "markdown",
   "id": "fcea6163",
   "metadata": {
    "id": "02d92d53"
   },
   "source": [
    "### Удаление пропусков"
   ]
  },
  {
   "cell_type": "markdown",
   "id": "6c679e6f",
   "metadata": {
    "id": "cd84967c"
   },
   "source": [
    "Смотрим количество пропусков"
   ]
  },
  {
   "cell_type": "code",
   "execution_count": 283,
   "id": "ba326d97",
   "metadata": {
    "id": "7f9b2309",
    "outputId": "81f4d817-781c-465c-ed15-91ce4446810d"
   },
   "outputs": [
    {
     "data": {
      "text/plain": [
       "children               0\n",
       "days_employed       2174\n",
       "dob_years              0\n",
       "education              0\n",
       "education_id           0\n",
       "family_status          0\n",
       "family_status_id       0\n",
       "gender                 0\n",
       "income_type            0\n",
       "debt                   0\n",
       "total_income        2174\n",
       "purpose                0\n",
       "dtype: int64"
      ]
     },
     "execution_count": 283,
     "metadata": {},
     "output_type": "execute_result"
    }
   ],
   "source": [
    "data.isna().sum()"
   ]
  },
  {
   "cell_type": "markdown",
   "id": "4f36bbea",
   "metadata": {
    "id": "db86e27b"
   },
   "source": [
    "В двух столбцах есть пропущенные значения. Один из них — `days_employed`. Пропуски в этом столбце обработаю на следующем этапе. Другой столбец с пропущенными значениями — `total_income` — хранит данные о доходах. На сумму дохода сильнее всего влияет тип занятости, поэтому заполнить пропуски в этом столбце нужно медианным значением по каждому типу из столбца `income_type`. Например, у человека с типом занятости `сотрудник` пропуск в столбце `total_income` должен быть заполнен медианным доходом среди всех записей с тем же типом."
   ]
  },
  {
   "cell_type": "code",
   "execution_count": 284,
   "id": "cbd45d95",
   "metadata": {
    "id": "42006a93"
   },
   "outputs": [],
   "source": [
    "for t in data['income_type'].unique():\n",
    "    data.loc[(data['income_type'] == t) & (data['total_income'].isna()), 'total_income'] = \\\n",
    "    data.loc[(data['income_type'] == t), 'total_income'].median()"
   ]
  },
  {
   "cell_type": "markdown",
   "id": "dd9c3865",
   "metadata": {
    "id": "89da5ece"
   },
   "source": [
    "### Обработка аномальных значений"
   ]
  },
  {
   "cell_type": "markdown",
   "id": "20c5c5de",
   "metadata": {
    "id": "57964554"
   },
   "source": [
    "В данных встречаются артефакты (аномалии) — значения, которые не отражают действительность и появились по какой-то ошибке. таким артефактом будет отрицательное количество дней трудового стажа в столбце `days_employed`. Заменяю все отрицательные значения положительными."
   ]
  },
  {
   "cell_type": "code",
   "execution_count": 285,
   "id": "bb213bd3",
   "metadata": {
    "id": "f6f055bf"
   },
   "outputs": [],
   "source": [
    "data['days_employed'] = data['days_employed'].abs()"
   ]
  },
  {
   "cell_type": "markdown",
   "id": "ba697e9b",
   "metadata": {
    "id": "6107dd2f"
   },
   "source": [
    "Для каждого типа занятости вывожу медианное значение трудового стажа `days_employed` в днях."
   ]
  },
  {
   "cell_type": "code",
   "execution_count": 286,
   "id": "451ee451",
   "metadata": {
    "id": "85a5faf6",
    "outputId": "801ef80e-522b-4668-f34e-565af7432bcf"
   },
   "outputs": [
    {
     "data": {
      "text/plain": [
       "income_type\n",
       "безработный        366413.652744\n",
       "в декрете            3296.759962\n",
       "госслужащий          2689.368353\n",
       "компаньон            1547.382223\n",
       "пенсионер          365213.306266\n",
       "предприниматель       520.848083\n",
       "сотрудник            1574.202821\n",
       "студент               578.751554\n",
       "Name: days_employed, dtype: float64"
      ]
     },
     "execution_count": 286,
     "metadata": {},
     "output_type": "execute_result"
    }
   ],
   "source": [
    "data.groupby('income_type')['days_employed'].agg('median')"
   ]
  },
  {
   "cell_type": "markdown",
   "id": "f924e6a1",
   "metadata": {
    "id": "38d1a030"
   },
   "source": [
    "У двух типов (безработные и пенсионеры) получатся аномально большие значения. Исправить такие значения сложно, поэтому оставляю их как есть. Тем более этот столбец не понадобится для исследования."
   ]
  },
  {
   "cell_type": "markdown",
   "id": "9feaa049",
   "metadata": {
    "id": "d8a9f147"
   },
   "source": [
    "Вывожу перечень уникальных значений столбца `children`."
   ]
  },
  {
   "cell_type": "code",
   "execution_count": 287,
   "id": "d85eccdb",
   "metadata": {
    "id": "ef5056eb",
    "outputId": "6975b15c-7f95-4697-d16d-a0c79b657b03"
   },
   "outputs": [
    {
     "data": {
      "text/plain": [
       "array([ 1,  0,  3,  2, -1,  4, 20,  5], dtype=int64)"
      ]
     },
     "execution_count": 287,
     "metadata": {},
     "output_type": "execute_result"
    }
   ],
   "source": [
    "data['children'].unique()"
   ]
  },
  {
   "cell_type": "markdown",
   "id": "fe0d0d64",
   "metadata": {
    "id": "40b9ebf2"
   },
   "source": [
    "В столбце `children` есть два аномальных значения. Удаляю строки, в которых встречаются такие аномальные значения из датафрейма `data`."
   ]
  },
  {
   "cell_type": "code",
   "execution_count": 288,
   "id": "f119780a",
   "metadata": {
    "id": "3ff9801d"
   },
   "outputs": [],
   "source": [
    "data = data[(data['children'] != -1) & (data['children'] != 20)]"
   ]
  },
  {
   "cell_type": "markdown",
   "id": "7a07ec92",
   "metadata": {
    "id": "bbc4d0ce"
   },
   "source": [
    "Ещё раз вывожу перечень уникальных значений столбца `children`, чтобы убедиться, что артефакты удалены."
   ]
  },
  {
   "cell_type": "code",
   "execution_count": 289,
   "id": "c31013a5",
   "metadata": {
    "id": "ad4fa8b7",
    "outputId": "b2097101-d49d-44d9-901b-32a65c9463d1"
   },
   "outputs": [
    {
     "data": {
      "text/plain": [
       "array([1, 0, 3, 2, 4, 5], dtype=int64)"
      ]
     },
     "execution_count": 289,
     "metadata": {},
     "output_type": "execute_result"
    }
   ],
   "source": [
    "data['children'].unique()"
   ]
  },
  {
   "cell_type": "markdown",
   "id": "5a6ae283",
   "metadata": {
    "id": "f4ea573f"
   },
   "source": [
    "Заполняю пропуски в столбце `days_employed` медианными значениями по каждого типа занятости `income_type`."
   ]
  },
  {
   "cell_type": "code",
   "execution_count": 290,
   "id": "d7a5362c",
   "metadata": {
    "id": "af6b1a7e"
   },
   "outputs": [],
   "source": [
    "for t in data['income_type'].unique():\n",
    "    data.loc[(data['income_type'] == t) & (data['days_employed'].isna()), 'days_employed'] = \\\n",
    "    data.loc[(data['income_type'] == t), 'days_employed'].median()"
   ]
  },
  {
   "cell_type": "markdown",
   "id": "56f31e08",
   "metadata": {},
   "source": [
    "Убеждаюсь, что все пропуски заполнены."
   ]
  },
  {
   "cell_type": "code",
   "execution_count": 291,
   "id": "40907c83",
   "metadata": {
    "id": "55f78bc2",
    "outputId": "8da1e4e1-358e-4e87-98c9-f261bce0a7b2"
   },
   "outputs": [
    {
     "data": {
      "text/plain": [
       "children            0\n",
       "days_employed       0\n",
       "dob_years           0\n",
       "education           0\n",
       "education_id        0\n",
       "family_status       0\n",
       "family_status_id    0\n",
       "gender              0\n",
       "income_type         0\n",
       "debt                0\n",
       "total_income        0\n",
       "purpose             0\n",
       "dtype: int64"
      ]
     },
     "execution_count": 291,
     "metadata": {},
     "output_type": "execute_result"
    }
   ],
   "source": [
    "data.isna().sum()"
   ]
  },
  {
   "cell_type": "markdown",
   "id": "1ed9346d",
   "metadata": {
    "id": "ddc81e43"
   },
   "source": [
    "### Изменение типов данных"
   ]
  },
  {
   "cell_type": "markdown",
   "id": "90b048dc",
   "metadata": {
    "id": "42d19d24"
   },
   "source": [
    "Заменяю вещественный тип данных в столбце `total_income` на целочисленный."
   ]
  },
  {
   "cell_type": "code",
   "execution_count": 292,
   "id": "dffca26e",
   "metadata": {
    "id": "920b65ad"
   },
   "outputs": [],
   "source": [
    "data['total_income'] = data['total_income'].astype(int)"
   ]
  },
  {
   "cell_type": "markdown",
   "id": "bba75c2f",
   "metadata": {
    "id": "80c420ba"
   },
   "source": [
    "### Обработка дубликатов"
   ]
  },
  {
   "cell_type": "markdown",
   "id": "d3ef1b41",
   "metadata": {},
   "source": [
    "Обрабатываю неявные дубликаты в столбце `education`. В этом столбце есть одни и те же значения, но записанные по-разному: с использованием заглавных и строчных букв. Привожу их к нижнему регистру. Проверяю остальные столбцы."
   ]
  },
  {
   "cell_type": "code",
   "execution_count": 293,
   "id": "4587bf52",
   "metadata": {},
   "outputs": [],
   "source": [
    "data['education'] = data['education'].str.lower()"
   ]
  },
  {
   "cell_type": "markdown",
   "id": "14a84db1",
   "metadata": {
    "id": "dc587695"
   },
   "source": [
    "Вывожу на экран количество строк-дубликатов в данных. Если такие строки присутствуют, удаляю."
   ]
  },
  {
   "cell_type": "code",
   "execution_count": 294,
   "id": "9ff9e61c",
   "metadata": {
    "id": "3ee445e4",
    "outputId": "9684deba-1934-42d1-99e1-cda61740f822"
   },
   "outputs": [
    {
     "data": {
      "text/plain": [
       "71"
      ]
     },
     "execution_count": 294,
     "metadata": {},
     "output_type": "execute_result"
    }
   ],
   "source": [
    "data.duplicated().sum()"
   ]
  },
  {
   "cell_type": "code",
   "execution_count": 295,
   "id": "fb6525a7",
   "metadata": {
    "id": "8575fe05"
   },
   "outputs": [],
   "source": [
    "data = data.drop_duplicates()"
   ]
  },
  {
   "cell_type": "markdown",
   "id": "b313381c",
   "metadata": {
    "id": "9904cf55"
   },
   "source": [
    "### Категоризация данных"
   ]
  },
  {
   "cell_type": "markdown",
   "id": "15a04bf8",
   "metadata": {
    "id": "72fcc8a2"
   },
   "source": [
    "На основании диапазонов, указанных ниже, создаю в датафрейме `data` столбец `total_income_category` с категориями:\n",
    "\n",
    "- 0–30000 — `'E'`;\n",
    "- 30001–50000 — `'D'`;\n",
    "- 50001–200000 — `'C'`;\n",
    "- 200001–1000000 — `'B'`;\n",
    "- 1000001 и выше — `'A'`."
   ]
  },
  {
   "cell_type": "code",
   "execution_count": 296,
   "id": "7707be9e",
   "metadata": {
    "id": "e1771346"
   },
   "outputs": [],
   "source": [
    "def categorize_income(income):\n",
    "    try:\n",
    "        if 0 <= income <= 30000:\n",
    "            return 'E'\n",
    "        elif 30001 <= income <= 50000:\n",
    "            return 'D'\n",
    "        elif 50001 <= income <= 200000:\n",
    "            return 'C'\n",
    "        elif 200001 <= income <= 1000000:\n",
    "            return 'B'\n",
    "        elif income >= 1000001:\n",
    "            return 'A'\n",
    "    except:\n",
    "        pass"
   ]
  },
  {
   "cell_type": "code",
   "execution_count": 297,
   "id": "2a8ff62a",
   "metadata": {
    "id": "d5f3586d"
   },
   "outputs": [
    {
     "data": {
      "text/plain": [
       "0        B\n",
       "1        C\n",
       "2        C\n",
       "3        B\n",
       "4        C\n",
       "        ..\n",
       "21520    B\n",
       "21521    C\n",
       "21522    C\n",
       "21523    B\n",
       "21524    C\n",
       "Name: total_income_category, Length: 21331, dtype: object"
      ]
     },
     "execution_count": 297,
     "metadata": {},
     "output_type": "execute_result"
    }
   ],
   "source": [
    "data['total_income_category'] = data['total_income'].apply(categorize_income)\n",
    "data['total_income_category']"
   ]
  },
  {
   "cell_type": "markdown",
   "id": "8b7eeb0d",
   "metadata": {
    "id": "dde49b5c"
   },
   "source": [
    "Вывожу на экран перечень уникальных целей взятия кредита из столбца `purpose`."
   ]
  },
  {
   "cell_type": "code",
   "execution_count": 298,
   "id": "740ce838",
   "metadata": {
    "id": "f67ce9b3",
    "outputId": "673c12d9-7d7e-4ae0-9812-c622c89dd244"
   },
   "outputs": [
    {
     "data": {
      "text/plain": [
       "array(['покупка жилья', 'приобретение автомобиля',\n",
       "       'дополнительное образование', 'сыграть свадьбу',\n",
       "       'операции с жильем', 'образование', 'на проведение свадьбы',\n",
       "       'покупка жилья для семьи', 'покупка недвижимости',\n",
       "       'покупка коммерческой недвижимости', 'покупка жилой недвижимости',\n",
       "       'строительство собственной недвижимости', 'недвижимость',\n",
       "       'строительство недвижимости', 'на покупку подержанного автомобиля',\n",
       "       'на покупку своего автомобиля',\n",
       "       'операции с коммерческой недвижимостью',\n",
       "       'строительство жилой недвижимости', 'жилье',\n",
       "       'операции со своей недвижимостью', 'автомобили',\n",
       "       'заняться образованием', 'сделка с подержанным автомобилем',\n",
       "       'получение образования', 'автомобиль', 'свадьба',\n",
       "       'получение дополнительного образования', 'покупка своего жилья',\n",
       "       'операции с недвижимостью', 'получение высшего образования',\n",
       "       'свой автомобиль', 'сделка с автомобилем',\n",
       "       'профильное образование', 'высшее образование',\n",
       "       'покупка жилья для сдачи', 'на покупку автомобиля', 'ремонт жилью',\n",
       "       'заняться высшим образованием'], dtype=object)"
      ]
     },
     "execution_count": 298,
     "metadata": {},
     "output_type": "execute_result"
    }
   ],
   "source": [
    "data['purpose'].unique()"
   ]
  },
  {
   "cell_type": "markdown",
   "id": "e30b1191",
   "metadata": {
    "id": "85d0aef0"
   },
   "source": [
    "Создаю функцию, которая на основании данных из столбца `purpose` сформирует новый столбец `purpose_category`, в который войдут следующие категории:\n",
    "\n",
    "- `'операции с автомобилем'`,\n",
    "- `'операции с недвижимостью'`,\n",
    "- `'проведение свадьбы'`,\n",
    "- `'получение образования'`."
   ]
  },
  {
   "cell_type": "code",
   "execution_count": 299,
   "id": "530922c0",
   "metadata": {
    "id": "e149fab4"
   },
   "outputs": [],
   "source": [
    "def categorize_purpose(row):\n",
    "    try:\n",
    "        if 'автом' in row:\n",
    "            return 'операции с автомобилем'\n",
    "        elif 'жил' in row or 'недвиж' in row:\n",
    "            return 'операции с недвижимостью'\n",
    "        elif 'свад' in row:\n",
    "            return 'проведение свадьбы'\n",
    "        elif 'образов' in row:\n",
    "            return 'получение образования'\n",
    "    except:\n",
    "        return 'нет категории'"
   ]
  },
  {
   "cell_type": "code",
   "execution_count": 300,
   "id": "133a5e65",
   "metadata": {
    "id": "bf36e69b"
   },
   "outputs": [],
   "source": [
    "data['purpose_category'] = data['purpose'].apply(categorize_purpose)"
   ]
  },
  {
   "cell_type": "code",
   "execution_count": 301,
   "id": "94d49a8c",
   "metadata": {},
   "outputs": [
    {
     "data": {
      "text/plain": [
       "0        операции с недвижимостью\n",
       "1          операции с автомобилем\n",
       "2        операции с недвижимостью\n",
       "3           получение образования\n",
       "4              проведение свадьбы\n",
       "                   ...           \n",
       "21520    операции с недвижимостью\n",
       "21521      операции с автомобилем\n",
       "21522    операции с недвижимостью\n",
       "21523      операции с автомобилем\n",
       "21524      операции с автомобилем\n",
       "Name: purpose_category, Length: 21331, dtype: object"
      ]
     },
     "execution_count": 301,
     "metadata": {},
     "output_type": "execute_result"
    }
   ],
   "source": [
    "data['purpose_category']"
   ]
  },
  {
   "cell_type": "markdown",
   "id": "04faaa73",
   "metadata": {
    "id": "09b242bf"
   },
   "source": [
    "### Исследую данные, чтобы ответить на вопросы"
   ]
  },
  {
   "cell_type": "markdown",
   "id": "54986029",
   "metadata": {
    "id": "c5d66278"
   },
   "source": [
    "#### 3.1 Есть ли зависимость между количеством детей и возвратом кредита в срок?"
   ]
  },
  {
   "cell_type": "code",
   "execution_count": 302,
   "id": "82f6c9bd",
   "metadata": {
    "id": "2cacfc4a"
   },
   "outputs": [
    {
     "data": {
      "text/html": [
       "<div>\n",
       "<style scoped>\n",
       "    .dataframe tbody tr th:only-of-type {\n",
       "        vertical-align: middle;\n",
       "    }\n",
       "\n",
       "    .dataframe tbody tr th {\n",
       "        vertical-align: top;\n",
       "    }\n",
       "\n",
       "    .dataframe thead th {\n",
       "        text-align: right;\n",
       "    }\n",
       "</style>\n",
       "<table border=\"1\" class=\"dataframe\">\n",
       "  <thead>\n",
       "    <tr style=\"text-align: right;\">\n",
       "      <th></th>\n",
       "      <th>children</th>\n",
       "      <th>debt</th>\n",
       "      <th>no_debt</th>\n",
       "      <th>people</th>\n",
       "      <th>debt_percent</th>\n",
       "      <th>no_debt_percent</th>\n",
       "    </tr>\n",
       "  </thead>\n",
       "  <tbody>\n",
       "    <tr>\n",
       "      <th>0</th>\n",
       "      <td>0</td>\n",
       "      <td>1063</td>\n",
       "      <td>13028</td>\n",
       "      <td>14091</td>\n",
       "      <td>0.075438</td>\n",
       "      <td>0.924562</td>\n",
       "    </tr>\n",
       "    <tr>\n",
       "      <th>1</th>\n",
       "      <td>1</td>\n",
       "      <td>444</td>\n",
       "      <td>4364</td>\n",
       "      <td>4808</td>\n",
       "      <td>0.092346</td>\n",
       "      <td>0.907654</td>\n",
       "    </tr>\n",
       "    <tr>\n",
       "      <th>2</th>\n",
       "      <td>2</td>\n",
       "      <td>194</td>\n",
       "      <td>1858</td>\n",
       "      <td>2052</td>\n",
       "      <td>0.094542</td>\n",
       "      <td>0.905458</td>\n",
       "    </tr>\n",
       "    <tr>\n",
       "      <th>3</th>\n",
       "      <td>3</td>\n",
       "      <td>27</td>\n",
       "      <td>303</td>\n",
       "      <td>330</td>\n",
       "      <td>0.081818</td>\n",
       "      <td>0.918182</td>\n",
       "    </tr>\n",
       "    <tr>\n",
       "      <th>4</th>\n",
       "      <td>4</td>\n",
       "      <td>4</td>\n",
       "      <td>37</td>\n",
       "      <td>41</td>\n",
       "      <td>0.097561</td>\n",
       "      <td>0.902439</td>\n",
       "    </tr>\n",
       "    <tr>\n",
       "      <th>5</th>\n",
       "      <td>5</td>\n",
       "      <td>0</td>\n",
       "      <td>9</td>\n",
       "      <td>9</td>\n",
       "      <td>0.000000</td>\n",
       "      <td>1.000000</td>\n",
       "    </tr>\n",
       "  </tbody>\n",
       "</table>\n",
       "</div>"
      ],
      "text/plain": [
       "   children  debt  no_debt  people  debt_percent  no_debt_percent\n",
       "0         0  1063    13028   14091      0.075438         0.924562\n",
       "1         1   444     4364    4808      0.092346         0.907654\n",
       "2         2   194     1858    2052      0.094542         0.905458\n",
       "3         3    27      303     330      0.081818         0.918182\n",
       "4         4     4       37      41      0.097561         0.902439\n",
       "5         5     0        9       9      0.000000         1.000000"
      ]
     },
     "execution_count": 302,
     "metadata": {},
     "output_type": "execute_result"
    }
   ],
   "source": [
    "gist = pd.DataFrame(data.groupby('children')['debt'].sum())\n",
    "gist = gist.reset_index()\n",
    "gist['no_debt'] = data.groupby('children')['debt'].count() - gist['debt']\n",
    "gist['people'] = data.groupby('children')['debt'].count()\n",
    "gist['debt_percent'] = gist['debt'] / gist['people']\n",
    "gist['no_debt_percent'] = gist['no_debt'] / gist['people']\n",
    "gist"
   ]
  },
  {
   "cell_type": "code",
   "execution_count": 303,
   "id": "c7b12421",
   "metadata": {},
   "outputs": [
    {
     "data": {
      "text/html": [
       "<style type=\"text/css\">\n",
       "</style>\n",
       "<table id=\"T_b3de0\">\n",
       "  <thead>\n",
       "    <tr>\n",
       "      <th class=\"blank level0\" >&nbsp;</th>\n",
       "      <th id=\"T_b3de0_level0_col0\" class=\"col_heading level0 col0\" >Кол-во пользователей</th>\n",
       "      <th id=\"T_b3de0_level0_col1\" class=\"col_heading level0 col1\" >Кол-во должников</th>\n",
       "      <th id=\"T_b3de0_level0_col2\" class=\"col_heading level0 col2\" >% должников</th>\n",
       "      <th id=\"T_b3de0_level0_col3\" class=\"col_heading level0 col3\" >% НЕдолжников</th>\n",
       "    </tr>\n",
       "    <tr>\n",
       "      <th class=\"index_name level0\" >children_group</th>\n",
       "      <th class=\"blank col0\" >&nbsp;</th>\n",
       "      <th class=\"blank col1\" >&nbsp;</th>\n",
       "      <th class=\"blank col2\" >&nbsp;</th>\n",
       "      <th class=\"blank col3\" >&nbsp;</th>\n",
       "    </tr>\n",
       "  </thead>\n",
       "  <tbody>\n",
       "    <tr>\n",
       "      <th id=\"T_b3de0_level0_row0\" class=\"row_heading level0 row0\" >Дети есть</th>\n",
       "      <td id=\"T_b3de0_row0_col0\" class=\"data row0 col0\" >7240</td>\n",
       "      <td id=\"T_b3de0_row0_col1\" class=\"data row0 col1\" >669</td>\n",
       "      <td id=\"T_b3de0_row0_col2\" class=\"data row0 col2\" >9.24%</td>\n",
       "      <td id=\"T_b3de0_row0_col3\" class=\"data row0 col3\" >90.76%</td>\n",
       "    </tr>\n",
       "    <tr>\n",
       "      <th id=\"T_b3de0_level0_row1\" class=\"row_heading level0 row1\" >Нет детей</th>\n",
       "      <td id=\"T_b3de0_row1_col0\" class=\"data row1 col0\" >14091</td>\n",
       "      <td id=\"T_b3de0_row1_col1\" class=\"data row1 col1\" >1063</td>\n",
       "      <td id=\"T_b3de0_row1_col2\" class=\"data row1 col2\" >7.54%</td>\n",
       "      <td id=\"T_b3de0_row1_col3\" class=\"data row1 col3\" >92.46%</td>\n",
       "    </tr>\n",
       "  </tbody>\n",
       "</table>\n"
      ],
      "text/plain": [
       "<pandas.io.formats.style.Styler at 0x103f775a190>"
      ]
     },
     "execution_count": 303,
     "metadata": {},
     "output_type": "execute_result"
    }
   ],
   "source": [
    "data['children_group'] = data['children'].apply(lambda x: 'Нет детей' if x == 0 else 'Дети есть')\n",
    "\n",
    "df_example = data.groupby('children_group')['debt'].agg(['count', 'sum', 'mean', lambda x: 1 - x.mean()])\n",
    "df_example.columns = ['Кол-во пользователей', 'Кол-во должников', '% должников', '% НЕдолжников']\n",
    "df_example.style.format({'% должников': '{:.2%}', '% НЕдолжников': '{:.2%}'})"
   ]
  },
  {
   "cell_type": "markdown",
   "id": "4d606379",
   "metadata": {},
   "source": [
    "Теперь нужно разобраться с табличными данными: \n",
    "<pre>\n",
    "debt                  - должники  \n",
    "children              - число детей  \n",
    "no_debt               - не должники  \n",
    "people                - всего людей  \n",
    "debt_percent          - процент должников от всех людей  \n",
    "no_debt_percent       - процент не должников от всех людей \n",
    "</pre>\n",
    "\n",
    "Теперь нам нужно создать графики последних двух колонок. Если мы будем сравнивать количество людей, то анализ будет неверный - так как семей с пятью детьми куда меньше, чем бездетных."
   ]
  },
  {
   "cell_type": "code",
   "execution_count": 304,
   "id": "5473963d",
   "metadata": {},
   "outputs": [
    {
     "data": {
      "image/png": "[encoded data removed]",
      "text/plain": [
       "<Figure size 432x288 with 1 Axes>"
      ]
     },
     "metadata": {
      "needs_background": "light"
     },
     "output_type": "display_data"
    }
   ],
   "source": [
    "import seaborn as sns\n",
    "import matplotlib.pyplot as plt\n",
    "gist.plot(x = 'children', y = 'debt_percent', kind='bar');\n",
    "#график количество детей/количество должников"
   ]
  },
  {
   "cell_type": "code",
   "execution_count": 305,
   "id": "eadefef6",
   "metadata": {},
   "outputs": [
    {
     "data": {
      "image/png": "[encoded data removed]",
      "text/plain": [
       "<Figure size 432x288 with 1 Axes>"
      ]
     },
     "metadata": {
      "needs_background": "light"
     },
     "output_type": "display_data"
    }
   ],
   "source": [
    "gist.plot(x = 'children', y = 'no_debt_percent', kind='bar');\n",
    "#график количество детей/количество надёжных заёмщиков"
   ]
  },
  {
   "cell_type": "code",
   "execution_count": 306,
   "id": "1d79c750",
   "metadata": {},
   "outputs": [
    {
     "data": {
      "text/html": [
       "<div>\n",
       "<style scoped>\n",
       "    .dataframe tbody tr th:only-of-type {\n",
       "        vertical-align: middle;\n",
       "    }\n",
       "\n",
       "    .dataframe tbody tr th {\n",
       "        vertical-align: top;\n",
       "    }\n",
       "\n",
       "    .dataframe thead th {\n",
       "        text-align: right;\n",
       "    }\n",
       "</style>\n",
       "<table border=\"1\" class=\"dataframe\">\n",
       "  <thead>\n",
       "    <tr style=\"text-align: right;\">\n",
       "      <th></th>\n",
       "      <th>index</th>\n",
       "      <th>valid_category</th>\n",
       "      <th>flag</th>\n",
       "      <th>no_valid_category</th>\n",
       "    </tr>\n",
       "  </thead>\n",
       "  <tbody>\n",
       "    <tr>\n",
       "      <th>0</th>\n",
       "      <td>children</td>\n",
       "      <td>0</td>\n",
       "      <td>0.097561</td>\n",
       "      <td>4</td>\n",
       "    </tr>\n",
       "  </tbody>\n",
       "</table>\n",
       "</div>"
      ],
      "text/plain": [
       "      index valid_category      flag no_valid_category\n",
       "0  children              0  0.097561                 4"
      ]
     },
     "execution_count": 306,
     "metadata": {},
     "output_type": "execute_result"
    }
   ],
   "source": [
    "flag = max(gist['no_debt_percent'])-min(gist['no_debt_percent'])\n",
    "row = {'index': 'children', 'valid_category': '0', 'flag': flag, 'no_valid_category': '4'}\n",
    "gist_all = pd.DataFrame(row, index = [0])\n",
    "gist_all\n",
    "#в конце"
   ]
  },
  {
   "cell_type": "markdown",
   "id": "f415cea8",
   "metadata": {},
   "source": [
    "<pre>\n",
    "index             - название признака, по которым разбиваются категории  \n",
    "valid_category    - самая надёжная категория  \n",
    "flag              - разница между максимальным и минимальным процентом должников, показывает насколько сильно различаются категории и на какие нужно обратить внимание  \n",
    "no_valid_category - самая ненадёжная категория  \n",
    "</pre>\n",
    "\n",
    "Сводная таблица будет в конце.\n"
   ]
  },
  {
   "cell_type": "markdown",
   "id": "ec37ee6f",
   "metadata": {
    "deletable": false,
    "id": "3a6b99ec"
   },
   "source": [
    "**Вывод:** \n",
    "Исходя из графиков, можно сказать, что больше всего должников имеют двух или четырёх детей."
   ]
  },
  {
   "cell_type": "markdown",
   "id": "d3d00181",
   "metadata": {
    "deletable": false,
    "editable": false,
    "id": "97be82ca"
   },
   "source": [
    "#### 3.2 Есть ли зависимость между семейным положением и возвратом кредита в срок?"
   ]
  },
  {
   "cell_type": "code",
   "execution_count": 307,
   "id": "e42f3a8f",
   "metadata": {
    "deletable": false,
    "id": "dc3f7ee8"
   },
   "outputs": [
    {
     "data": {
      "text/html": [
       "<div>\n",
       "<style scoped>\n",
       "    .dataframe tbody tr th:only-of-type {\n",
       "        vertical-align: middle;\n",
       "    }\n",
       "\n",
       "    .dataframe tbody tr th {\n",
       "        vertical-align: top;\n",
       "    }\n",
       "\n",
       "    .dataframe thead th {\n",
       "        text-align: right;\n",
       "    }\n",
       "</style>\n",
       "<table border=\"1\" class=\"dataframe\">\n",
       "  <thead>\n",
       "    <tr style=\"text-align: right;\">\n",
       "      <th></th>\n",
       "      <th>family_status</th>\n",
       "      <th>debt</th>\n",
       "      <th>no_debt</th>\n",
       "      <th>people</th>\n",
       "      <th>debt_percent</th>\n",
       "      <th>no_debt_percent</th>\n",
       "    </tr>\n",
       "  </thead>\n",
       "  <tbody>\n",
       "    <tr>\n",
       "      <th>0</th>\n",
       "      <td>Не женат / не замужем</td>\n",
       "      <td>273</td>\n",
       "      <td>2523</td>\n",
       "      <td>2796</td>\n",
       "      <td>0.097639</td>\n",
       "      <td>0.902361</td>\n",
       "    </tr>\n",
       "    <tr>\n",
       "      <th>1</th>\n",
       "      <td>в разводе</td>\n",
       "      <td>84</td>\n",
       "      <td>1105</td>\n",
       "      <td>1189</td>\n",
       "      <td>0.070648</td>\n",
       "      <td>0.929352</td>\n",
       "    </tr>\n",
       "    <tr>\n",
       "      <th>2</th>\n",
       "      <td>вдовец / вдова</td>\n",
       "      <td>63</td>\n",
       "      <td>888</td>\n",
       "      <td>951</td>\n",
       "      <td>0.066246</td>\n",
       "      <td>0.933754</td>\n",
       "    </tr>\n",
       "    <tr>\n",
       "      <th>3</th>\n",
       "      <td>гражданский брак</td>\n",
       "      <td>385</td>\n",
       "      <td>3749</td>\n",
       "      <td>4134</td>\n",
       "      <td>0.093130</td>\n",
       "      <td>0.906870</td>\n",
       "    </tr>\n",
       "    <tr>\n",
       "      <th>4</th>\n",
       "      <td>женат / замужем</td>\n",
       "      <td>927</td>\n",
       "      <td>11334</td>\n",
       "      <td>12261</td>\n",
       "      <td>0.075606</td>\n",
       "      <td>0.924394</td>\n",
       "    </tr>\n",
       "  </tbody>\n",
       "</table>\n",
       "</div>"
      ],
      "text/plain": [
       "           family_status  debt  no_debt  people  debt_percent  no_debt_percent\n",
       "0  Не женат / не замужем   273     2523    2796      0.097639         0.902361\n",
       "1              в разводе    84     1105    1189      0.070648         0.929352\n",
       "2         вдовец / вдова    63      888     951      0.066246         0.933754\n",
       "3       гражданский брак   385     3749    4134      0.093130         0.906870\n",
       "4        женат / замужем   927    11334   12261      0.075606         0.924394"
      ]
     },
     "execution_count": 307,
     "metadata": {},
     "output_type": "execute_result"
    }
   ],
   "source": [
    "gist =  pd.DataFrame(data.groupby('family_status')['debt'].sum())\n",
    "gist['no_debt'] = data.groupby('family_status')['debt'].count()- gist['debt']\n",
    "gist['people'] = data.groupby('family_status')['debt'].count()\n",
    "gist['debt_percent'] = gist['debt'] / gist['people']\n",
    "gist['no_debt_percent'] = gist['no_debt'] / gist['people']\n",
    "gist = gist.reset_index()\n",
    "gist"
   ]
  },
  {
   "cell_type": "code",
   "execution_count": 308,
   "id": "8a025073",
   "metadata": {},
   "outputs": [
    {
     "data": {
      "text/html": [
       "<style type=\"text/css\">\n",
       "</style>\n",
       "<table id=\"T_d9bf8\">\n",
       "  <thead>\n",
       "    <tr>\n",
       "      <th class=\"blank level0\" >&nbsp;</th>\n",
       "      <th id=\"T_d9bf8_level0_col0\" class=\"col_heading level0 col0\" >% должников</th>\n",
       "      <th id=\"T_d9bf8_level0_col1\" class=\"col_heading level0 col1\" >% не_должников</th>\n",
       "    </tr>\n",
       "    <tr>\n",
       "      <th class=\"index_name level0\" >family_status</th>\n",
       "      <th class=\"blank col0\" >&nbsp;</th>\n",
       "      <th class=\"blank col1\" >&nbsp;</th>\n",
       "    </tr>\n",
       "  </thead>\n",
       "  <tbody>\n",
       "    <tr>\n",
       "      <th id=\"T_d9bf8_level0_row0\" class=\"row_heading level0 row0\" >Не женат / не замужем</th>\n",
       "      <td id=\"T_d9bf8_row0_col0\" class=\"data row0 col0\" >9.76%</td>\n",
       "      <td id=\"T_d9bf8_row0_col1\" class=\"data row0 col1\" >90.24%</td>\n",
       "    </tr>\n",
       "    <tr>\n",
       "      <th id=\"T_d9bf8_level0_row1\" class=\"row_heading level0 row1\" >в разводе</th>\n",
       "      <td id=\"T_d9bf8_row1_col0\" class=\"data row1 col0\" >7.06%</td>\n",
       "      <td id=\"T_d9bf8_row1_col1\" class=\"data row1 col1\" >92.94%</td>\n",
       "    </tr>\n",
       "    <tr>\n",
       "      <th id=\"T_d9bf8_level0_row2\" class=\"row_heading level0 row2\" >вдовец / вдова</th>\n",
       "      <td id=\"T_d9bf8_row2_col0\" class=\"data row2 col0\" >6.62%</td>\n",
       "      <td id=\"T_d9bf8_row2_col1\" class=\"data row2 col1\" >93.38%</td>\n",
       "    </tr>\n",
       "    <tr>\n",
       "      <th id=\"T_d9bf8_level0_row3\" class=\"row_heading level0 row3\" >гражданский брак</th>\n",
       "      <td id=\"T_d9bf8_row3_col0\" class=\"data row3 col0\" >9.31%</td>\n",
       "      <td id=\"T_d9bf8_row3_col1\" class=\"data row3 col1\" >90.69%</td>\n",
       "    </tr>\n",
       "    <tr>\n",
       "      <th id=\"T_d9bf8_level0_row4\" class=\"row_heading level0 row4\" >женат / замужем</th>\n",
       "      <td id=\"T_d9bf8_row4_col0\" class=\"data row4 col0\" >7.56%</td>\n",
       "      <td id=\"T_d9bf8_row4_col1\" class=\"data row4 col1\" >92.44%</td>\n",
       "    </tr>\n",
       "  </tbody>\n",
       "</table>\n"
      ],
      "text/plain": [
       "<pandas.io.formats.style.Styler at 0x103f4135ee0>"
      ]
     },
     "execution_count": 308,
     "metadata": {},
     "output_type": "execute_result"
    }
   ],
   "source": [
    "table = pd.pivot_table(data, values='debt', index='family_status')\n",
    "table['% не_должников'] = table['debt'].apply(lambda x: 1-x)\n",
    "table = table.rename(columns={'debt':'% должников'})\n",
    "table.style.format({'% не_должников':'{:.2%}', '% должников':'{:.2%}'})"
   ]
  },
  {
   "cell_type": "code",
   "execution_count": 309,
   "id": "908bba4f",
   "metadata": {},
   "outputs": [
    {
     "data": {
      "image/png": "[encoded data removed]",
      "text/plain": [
       "<Figure size 432x288 with 1 Axes>"
      ]
     },
     "metadata": {
      "needs_background": "light"
     },
     "output_type": "display_data"
    }
   ],
   "source": [
    "gist.plot(x ='family_status', y ='debt_percent', kind='bar')\n",
    "plt.xticks(rotation=25);\n",
    "#график семейное положение/количество должников "
   ]
  },
  {
   "cell_type": "code",
   "execution_count": 310,
   "id": "ff7e6844",
   "metadata": {},
   "outputs": [
    {
     "data": {
      "image/png": "[encoded data removed]",
      "text/plain": [
       "<Figure size 432x288 with 1 Axes>"
      ]
     },
     "metadata": {
      "needs_background": "light"
     },
     "output_type": "display_data"
    }
   ],
   "source": [
    "gist.plot(x ='family_status', y ='no_debt_percent', kind='bar')\n",
    "plt.xticks(rotation=25)\n",
    "plt.show()\n",
    "#график семейное положение/количество надёжных заёмщиков"
   ]
  },
  {
   "cell_type": "code",
   "execution_count": 311,
   "id": "e0c9fd27",
   "metadata": {},
   "outputs": [
    {
     "data": {
      "text/html": [
       "<div>\n",
       "<style scoped>\n",
       "    .dataframe tbody tr th:only-of-type {\n",
       "        vertical-align: middle;\n",
       "    }\n",
       "\n",
       "    .dataframe tbody tr th {\n",
       "        vertical-align: top;\n",
       "    }\n",
       "\n",
       "    .dataframe thead th {\n",
       "        text-align: right;\n",
       "    }\n",
       "</style>\n",
       "<table border=\"1\" class=\"dataframe\">\n",
       "  <thead>\n",
       "    <tr style=\"text-align: right;\">\n",
       "      <th></th>\n",
       "      <th>index</th>\n",
       "      <th>valid_category</th>\n",
       "      <th>flag</th>\n",
       "      <th>no_valid_category</th>\n",
       "    </tr>\n",
       "  </thead>\n",
       "  <tbody>\n",
       "    <tr>\n",
       "      <th>0</th>\n",
       "      <td>children</td>\n",
       "      <td>0</td>\n",
       "      <td>0.097561</td>\n",
       "      <td>4</td>\n",
       "    </tr>\n",
       "    <tr>\n",
       "      <th>1</th>\n",
       "      <td>family_status</td>\n",
       "      <td>вдовец/вдова</td>\n",
       "      <td>0.031393</td>\n",
       "      <td>Не женат / не замужем</td>\n",
       "    </tr>\n",
       "  </tbody>\n",
       "</table>\n",
       "</div>"
      ],
      "text/plain": [
       "           index valid_category      flag      no_valid_category\n",
       "0       children              0  0.097561                      4\n",
       "1  family_status   вдовец/вдова  0.031393  Не женат / не замужем"
      ]
     },
     "execution_count": 311,
     "metadata": {},
     "output_type": "execute_result"
    }
   ],
   "source": [
    "flag = max(gist['no_debt_percent'])-min(gist['no_debt_percent'])\n",
    "row = pd.Series(data = {'index': 'family_status', 'valid_category': 'вдовец/вдова', 'flag': flag, 'no_valid_category': 'Не женат / не замужем'})\n",
    "gist_all = gist_all.append(row, ignore_index=True)\n",
    "gist_all\n",
    "#в конце"
   ]
  },
  {
   "cell_type": "markdown",
   "id": "f3946c93",
   "metadata": {
    "deletable": false,
    "id": "1cef7837"
   },
   "source": [
    "**Вывод:** \n",
    "Люди, которые не в браке или в гражданском браке чаще всего являются должниками."
   ]
  },
  {
   "cell_type": "markdown",
   "id": "9564f34e",
   "metadata": {
    "deletable": false,
    "editable": false,
    "id": "1e8b2fca"
   },
   "source": [
    "#### 3.3 Есть ли зависимость между уровнем дохода и возвратом кредита в срок?"
   ]
  },
  {
   "cell_type": "code",
   "execution_count": 312,
   "id": "6eed49b3",
   "metadata": {
    "deletable": false,
    "id": "cd7e3720"
   },
   "outputs": [
    {
     "data": {
      "text/html": [
       "<div>\n",
       "<style scoped>\n",
       "    .dataframe tbody tr th:only-of-type {\n",
       "        vertical-align: middle;\n",
       "    }\n",
       "\n",
       "    .dataframe tbody tr th {\n",
       "        vertical-align: top;\n",
       "    }\n",
       "\n",
       "    .dataframe thead th {\n",
       "        text-align: right;\n",
       "    }\n",
       "</style>\n",
       "<table border=\"1\" class=\"dataframe\">\n",
       "  <thead>\n",
       "    <tr style=\"text-align: right;\">\n",
       "      <th></th>\n",
       "      <th>total_income_category</th>\n",
       "      <th>debt</th>\n",
       "      <th>no_debt</th>\n",
       "      <th>people</th>\n",
       "      <th>debt_percent</th>\n",
       "      <th>no_debt_percent</th>\n",
       "    </tr>\n",
       "  </thead>\n",
       "  <tbody>\n",
       "    <tr>\n",
       "      <th>0</th>\n",
       "      <td>A</td>\n",
       "      <td>2</td>\n",
       "      <td>23</td>\n",
       "      <td>25</td>\n",
       "      <td>0.080000</td>\n",
       "      <td>0.920000</td>\n",
       "    </tr>\n",
       "    <tr>\n",
       "      <th>1</th>\n",
       "      <td>B</td>\n",
       "      <td>354</td>\n",
       "      <td>4660</td>\n",
       "      <td>5014</td>\n",
       "      <td>0.070602</td>\n",
       "      <td>0.929398</td>\n",
       "    </tr>\n",
       "    <tr>\n",
       "      <th>2</th>\n",
       "      <td>C</td>\n",
       "      <td>1353</td>\n",
       "      <td>14568</td>\n",
       "      <td>15921</td>\n",
       "      <td>0.084982</td>\n",
       "      <td>0.915018</td>\n",
       "    </tr>\n",
       "    <tr>\n",
       "      <th>3</th>\n",
       "      <td>D</td>\n",
       "      <td>21</td>\n",
       "      <td>328</td>\n",
       "      <td>349</td>\n",
       "      <td>0.060172</td>\n",
       "      <td>0.939828</td>\n",
       "    </tr>\n",
       "    <tr>\n",
       "      <th>4</th>\n",
       "      <td>E</td>\n",
       "      <td>2</td>\n",
       "      <td>20</td>\n",
       "      <td>22</td>\n",
       "      <td>0.090909</td>\n",
       "      <td>0.909091</td>\n",
       "    </tr>\n",
       "  </tbody>\n",
       "</table>\n",
       "</div>"
      ],
      "text/plain": [
       "  total_income_category  debt  no_debt  people  debt_percent  no_debt_percent\n",
       "0                     A     2       23      25      0.080000         0.920000\n",
       "1                     B   354     4660    5014      0.070602         0.929398\n",
       "2                     C  1353    14568   15921      0.084982         0.915018\n",
       "3                     D    21      328     349      0.060172         0.939828\n",
       "4                     E     2       20      22      0.090909         0.909091"
      ]
     },
     "execution_count": 312,
     "metadata": {},
     "output_type": "execute_result"
    }
   ],
   "source": [
    "gist =  pd.DataFrame(data.groupby('total_income_category')['debt'].sum())\n",
    "gist['no_debt'] = data.groupby('total_income_category')['debt'].count()- gist['debt']\n",
    "gist['people'] = data.groupby('total_income_category')['debt'].count()\n",
    "gist['debt_percent'] = gist['debt'] / gist['people']\n",
    "gist['no_debt_percent'] = gist['no_debt'] / gist['people']\n",
    "gist = gist.reset_index()\n",
    "gist"
   ]
  },
  {
   "cell_type": "markdown",
   "id": "97ed2f01",
   "metadata": {},
   "source": [
    "Вспомним категории:   \n",
    "0–30000 — 'E';   \n",
    "30001–50000 — 'D';   \n",
    "50001–200000 — 'C';      \n",
    "200001–1000000 — 'B';   \n",
    "1000001 и выше — 'A'.   "
   ]
  },
  {
   "cell_type": "code",
   "execution_count": 313,
   "id": "99cddba6",
   "metadata": {},
   "outputs": [
    {
     "data": {
      "image/png": "[encoded data removed]",
      "text/plain": [
       "<Figure size 432x288 with 1 Axes>"
      ]
     },
     "metadata": {
      "needs_background": "light"
     },
     "output_type": "display_data"
    }
   ],
   "source": [
    "gist.plot(x ='total_income_category', y ='debt_percent', kind='bar');\n",
    "#график категория зарплат/количество должников"
   ]
  },
  {
   "cell_type": "code",
   "execution_count": 314,
   "id": "31e7e987",
   "metadata": {},
   "outputs": [
    {
     "data": {
      "image/png": "[encoded data removed]",
      "text/plain": [
       "<Figure size 432x288 with 1 Axes>"
      ]
     },
     "metadata": {
      "needs_background": "light"
     },
     "output_type": "display_data"
    }
   ],
   "source": [
    "gist.plot(x ='total_income_category', y ='no_debt_percent', kind='bar');\n",
    "#график категория зарплат/количество надёжных заёмщиков"
   ]
  },
  {
   "cell_type": "code",
   "execution_count": 315,
   "id": "f96b500c",
   "metadata": {},
   "outputs": [],
   "source": [
    "flag = max(gist['no_debt_percent'])-min(gist['no_debt_percent'])\n",
    "row = pd.Series(data = {'index': 'income','valid_category': '30001–50000', 'flag': flag, 'no_valid_category': '0–30000'})\n",
    "gist_all = gist_all.append(row, ignore_index=True)\n",
    "#в конце"
   ]
  },
  {
   "cell_type": "markdown",
   "id": "8a717710",
   "metadata": {
    "deletable": false,
    "id": "e8593def"
   },
   "source": [
    "**Вывод:** \n",
    "Больший процент должников имеет доходную категорию Е (0–30000) и С (50001–200000)."
   ]
  },
  {
   "cell_type": "markdown",
   "id": "f404815f",
   "metadata": {
    "deletable": false,
    "editable": false,
    "id": "99ecbd1f"
   },
   "source": [
    "#### 3.4 Как разные цели кредита влияют на его возврат в срок?"
   ]
  },
  {
   "cell_type": "code",
   "execution_count": 316,
   "id": "69f5dc54",
   "metadata": {
    "deletable": false,
    "id": "2b687290"
   },
   "outputs": [
    {
     "data": {
      "text/html": [
       "<div>\n",
       "<style scoped>\n",
       "    .dataframe tbody tr th:only-of-type {\n",
       "        vertical-align: middle;\n",
       "    }\n",
       "\n",
       "    .dataframe tbody tr th {\n",
       "        vertical-align: top;\n",
       "    }\n",
       "\n",
       "    .dataframe thead th {\n",
       "        text-align: right;\n",
       "    }\n",
       "</style>\n",
       "<table border=\"1\" class=\"dataframe\">\n",
       "  <thead>\n",
       "    <tr style=\"text-align: right;\">\n",
       "      <th></th>\n",
       "      <th>purpose_category</th>\n",
       "      <th>debt</th>\n",
       "      <th>no_debt</th>\n",
       "      <th>people</th>\n",
       "      <th>debt_percent</th>\n",
       "      <th>no_debt_percent</th>\n",
       "    </tr>\n",
       "  </thead>\n",
       "  <tbody>\n",
       "    <tr>\n",
       "      <th>0</th>\n",
       "      <td>операции с автомобилем</td>\n",
       "      <td>400</td>\n",
       "      <td>3879</td>\n",
       "      <td>4279</td>\n",
       "      <td>0.093480</td>\n",
       "      <td>0.906520</td>\n",
       "    </tr>\n",
       "    <tr>\n",
       "      <th>1</th>\n",
       "      <td>операции с недвижимостью</td>\n",
       "      <td>780</td>\n",
       "      <td>9971</td>\n",
       "      <td>10751</td>\n",
       "      <td>0.072551</td>\n",
       "      <td>0.927449</td>\n",
       "    </tr>\n",
       "    <tr>\n",
       "      <th>2</th>\n",
       "      <td>получение образования</td>\n",
       "      <td>369</td>\n",
       "      <td>3619</td>\n",
       "      <td>3988</td>\n",
       "      <td>0.092528</td>\n",
       "      <td>0.907472</td>\n",
       "    </tr>\n",
       "    <tr>\n",
       "      <th>3</th>\n",
       "      <td>проведение свадьбы</td>\n",
       "      <td>183</td>\n",
       "      <td>2130</td>\n",
       "      <td>2313</td>\n",
       "      <td>0.079118</td>\n",
       "      <td>0.920882</td>\n",
       "    </tr>\n",
       "  </tbody>\n",
       "</table>\n",
       "</div>"
      ],
      "text/plain": [
       "           purpose_category  debt  no_debt  people  debt_percent  \\\n",
       "0    операции с автомобилем   400     3879    4279      0.093480   \n",
       "1  операции с недвижимостью   780     9971   10751      0.072551   \n",
       "2     получение образования   369     3619    3988      0.092528   \n",
       "3        проведение свадьбы   183     2130    2313      0.079118   \n",
       "\n",
       "   no_debt_percent  \n",
       "0         0.906520  \n",
       "1         0.927449  \n",
       "2         0.907472  \n",
       "3         0.920882  "
      ]
     },
     "execution_count": 316,
     "metadata": {},
     "output_type": "execute_result"
    }
   ],
   "source": [
    "gist =  pd.DataFrame(data.groupby('purpose_category')['debt'].sum())\n",
    "gist['no_debt'] = data.groupby('purpose_category')['debt'].count()- gist['debt']\n",
    "gist['people'] = data.groupby('purpose_category')['debt'].count()\n",
    "gist['debt_percent'] = gist['debt'] / gist['people']\n",
    "gist['no_debt_percent'] = gist['no_debt'] / gist['people']\n",
    "gist = gist.reset_index()\n",
    "gist"
   ]
  },
  {
   "cell_type": "code",
   "execution_count": 317,
   "id": "283443c6",
   "metadata": {},
   "outputs": [
    {
     "data": {
      "image/png": "[encoded data removed]",
      "text/plain": [
       "<Figure size 432x288 with 1 Axes>"
      ]
     },
     "metadata": {
      "needs_background": "light"
     },
     "output_type": "display_data"
    }
   ],
   "source": [
    "gist.plot(x ='purpose_category', y ='debt_percent', kind='bar')\n",
    "plt.xticks(rotation=25);\n",
    "#график цель займа/количество должников"
   ]
  },
  {
   "cell_type": "code",
   "execution_count": 318,
   "id": "b920b4b3",
   "metadata": {},
   "outputs": [
    {
     "data": {
      "image/png": "[encoded data removed]",
      "text/plain": [
       "<Figure size 432x288 with 1 Axes>"
      ]
     },
     "metadata": {
      "needs_background": "light"
     },
     "output_type": "display_data"
    }
   ],
   "source": [
    "gist.plot(x ='purpose_category', y ='no_debt_percent', kind='bar')\n",
    "plt.xticks(rotation=25);\n",
    "#график цель займа/количество надёжных заёмщиков"
   ]
  },
  {
   "cell_type": "code",
   "execution_count": 319,
   "id": "ad9fc2ef",
   "metadata": {},
   "outputs": [],
   "source": [
    "flag = max(gist['no_debt_percent'])-min(gist['no_debt_percent'])\n",
    "row = pd.Series(data = {'index': 'purpose', 'valid_category': 'недвижимость', 'flag': flag, 'no_valid_category': 'автомобиль'})\n",
    "gist_all = gist_all.append(row, ignore_index=True)\n",
    "#в конце"
   ]
  },
  {
   "cell_type": "markdown",
   "id": "fccf5d4a",
   "metadata": {
    "deletable": false,
    "id": "b4bb2ce6"
   },
   "source": [
    "**Вывод:** \n",
    "Цели, связанные с автомобилями и образованием, имеют больше просрочек, нежели остальные."
   ]
  },
  {
   "cell_type": "markdown",
   "id": "08cfdd61",
   "metadata": {
    "deletable": false,
    "editable": false,
    "id": "09c3ac4c"
   },
   "source": [
    "#### 3.5 Приведите возможные причины появления пропусков в исходных данных."
   ]
  },
  {
   "cell_type": "markdown",
   "id": "5b592689",
   "metadata": {
    "deletable": false,
    "id": "9da2ceda"
   },
   "source": [
    "*Ответ:* \n",
    "- неправильное заполнение данных во время оформления заявки  \n",
    "- неправильный перенос данных в таблицу (человеческий фактор)\n",
    "- не заполнение данных пользователем"
   ]
  },
  {
   "cell_type": "markdown",
   "id": "6775d0ca",
   "metadata": {
    "deletable": false,
    "editable": false,
    "id": "7b0487d6"
   },
   "source": [
    "#### 3.6 Объясните, почему заполнить пропуски медианным значением — лучшее решение для количественных переменных."
   ]
  },
  {
   "cell_type": "markdown",
   "id": "e0c0f6ce",
   "metadata": {
    "deletable": false,
    "id": "7ecf2b8e"
   },
   "source": [
    "*Ответ:* \n",
    "Среднее значение неудобно, потому что здесь нужно работать с выбросами и исключать их. Поэтому легче выбрать медиану."
   ]
  },
  {
   "cell_type": "markdown",
   "id": "daba3117",
   "metadata": {
    "deletable": false,
    "editable": false,
    "id": "6db5255a"
   },
   "source": [
    "### Шаг 4: общий вывод."
   ]
  },
  {
   "cell_type": "markdown",
   "id": "6c1d992d",
   "metadata": {
    "deletable": false,
    "id": "bad65432"
   },
   "source": [
    "Мы уже выяснили, что наиболее надёжные заёмщики:\n",
    "- имеют 3, 5 детей или бездетны\n",
    "- не в браке или в гражданском браке\n",
    "- имеют D или B категорию зарплаты (200001–1000000, 30001-50000)\n",
    "- берут кредит с целью операций с недвижимостью или для проведения свадьбы  \n",
    "Однако мы не проверили возраст, пол, образование и тип занятости. "
   ]
  },
  {
   "cell_type": "code",
   "execution_count": 320,
   "id": "12b1fae5",
   "metadata": {},
   "outputs": [
    {
     "data": {
      "image/png": "[encoded data removed]",
      "text/plain": [
       "<Figure size 432x288 with 1 Axes>"
      ]
     },
     "metadata": {
      "needs_background": "light"
     },
     "output_type": "display_data"
    },
    {
     "data": {
      "image/png": "[encoded data removed]",
      "text/plain": [
       "<Figure size 432x288 with 1 Axes>"
      ]
     },
     "metadata": {
      "needs_background": "light"
     },
     "output_type": "display_data"
    }
   ],
   "source": [
    "gist =  pd.DataFrame(data.groupby('education')['debt'].sum())\n",
    "gist['no_debt'] = data.groupby('education')['debt'].count()- gist['debt']\n",
    "gist['people'] = data.groupby('education')['debt'].count()\n",
    "gist['debt_percent'] = gist['debt'] / gist['people']\n",
    "gist['no_debt_percent'] = gist['no_debt'] / gist['people']\n",
    "gist = gist.reset_index()\n",
    "sns.lineplot(x = gist['education'], y = gist['no_debt_percent'])\n",
    "plt.xticks(rotation=25)\n",
    "gist.plot(x ='education', y ='no_debt_percent', kind='bar')\n",
    "plt.xticks(rotation=25)\n",
    "plt.show()\n",
    "#заёмщики с высшим образованием или учёной степенью надёжнее остальных \n"
   ]
  },
  {
   "cell_type": "code",
   "execution_count": 321,
   "id": "00c3a95a",
   "metadata": {},
   "outputs": [],
   "source": [
    "flag = max(gist['no_debt_percent'])-min(gist['no_debt_percent'])\n",
    "row = pd.Series(data = {'index': 'education','valid_category': 'учёная степень', 'flag': flag, 'no_valid_category': 'начальное'})\n",
    "gist_all = gist_all.append(row, ignore_index=True)\n",
    "#в конце"
   ]
  },
  {
   "cell_type": "code",
   "execution_count": 322,
   "id": "631fe2e4",
   "metadata": {},
   "outputs": [
    {
     "data": {
      "image/png": "[encoded data removed]",
      "text/plain": [
       "<Figure size 432x288 with 1 Axes>"
      ]
     },
     "metadata": {
      "needs_background": "light"
     },
     "output_type": "display_data"
    }
   ],
   "source": [
    "gist =  pd.DataFrame(data.groupby('dob_years')['debt'].sum())\n",
    "gist['no_debt'] = data.groupby('dob_years')['debt'].count()- gist['debt']\n",
    "gist['people'] = data.groupby('dob_years')['debt'].count()\n",
    "gist['debt_percent'] = gist['debt'] / gist['people']\n",
    "gist['no_debt_percent'] = gist['no_debt'] / gist['people']\n",
    "gist = gist.reset_index()\n",
    "sns.lineplot(x = gist['dob_years'], y = gist['no_debt_percent'])\n",
    "plt.xticks(rotation=25)\n",
    "plt.show()\n",
    "#преимущественная тенденция к тому, что с возрастом заёмщик становится более надёжным \n",
    "#(так, пик надёжности для 35-летнего заёмщика равен минимуму для 50-летнего)  "
   ]
  },
  {
   "cell_type": "code",
   "execution_count": 323,
   "id": "522a3cf6",
   "metadata": {},
   "outputs": [],
   "source": [
    "flag = max(gist['no_debt_percent'])-min(gist['no_debt_percent'])\n",
    "row = pd.Series(data = {'index': 'dob_years', 'valid_category': '70', 'flag': flag, 'no_valid_category': '20'})\n",
    "gist_all = gist_all.append(row, ignore_index=True)\n",
    "#в конце"
   ]
  },
  {
   "cell_type": "code",
   "execution_count": 324,
   "id": "d081bd78",
   "metadata": {},
   "outputs": [
    {
     "data": {
      "image/png": "[encoded data removed]",
      "text/plain": [
       "<Figure size 432x288 with 1 Axes>"
      ]
     },
     "metadata": {
      "needs_background": "light"
     },
     "output_type": "display_data"
    }
   ],
   "source": [
    "gist =  pd.DataFrame(data.groupby('gender')['debt'].sum())\n",
    "gist = gist[gist['debt']>0]\n",
    "gist['no_debt'] = data.groupby('gender')['debt'].count()- gist['debt']\n",
    "gist['people'] = data.groupby('gender')['debt'].count()\n",
    "gist['debt_percent'] = gist['debt'] / gist['people']\n",
    "gist['no_debt_percent'] = gist['no_debt'] / gist['people']\n",
    "gist = gist.reset_index()\n",
    "sns.lineplot(x = gist['gender'], y = gist['no_debt_percent'])\n",
    "plt.show()\n",
    "#женщины более надёжные заёмщики, чем мужчины"
   ]
  },
  {
   "cell_type": "code",
   "execution_count": 325,
   "id": "5e8089d9",
   "metadata": {},
   "outputs": [],
   "source": [
    "flag = max(gist['no_debt_percent'])-min(gist['no_debt_percent'])\n",
    "row = pd.Series(data = {'index': 'gender', 'valid_category': 'F', 'flag': flag, 'no_valid_category': 'M'})\n",
    "gist_all = gist_all.append(row, ignore_index=True)\n",
    "plt.show()\n",
    "#в конце"
   ]
  },
  {
   "cell_type": "code",
   "execution_count": 326,
   "id": "e1fbb115",
   "metadata": {},
   "outputs": [
    {
     "data": {
      "image/png": "[encoded data removed]",
      "text/plain": [
       "<Figure size 432x288 with 1 Axes>"
      ]
     },
     "metadata": {
      "needs_background": "light"
     },
     "output_type": "display_data"
    }
   ],
   "source": [
    "gist =  pd.DataFrame(data.groupby('income_type')['debt'].sum())\n",
    "gist = gist[gist['debt']>0]\n",
    "gist['no_debt'] = data.groupby('income_type')['debt'].count()- gist['debt']\n",
    "gist['people'] = data.groupby('income_type')['debt'].count()\n",
    "gist['debt_percent'] = gist['debt'] / gist['people']\n",
    "gist['no_debt_percent'] = gist['no_debt'] / gist['people']\n",
    "gist = gist.reset_index()\n",
    "sns.lineplot(x = gist['income_type'], y = gist['no_debt_percent'])\n",
    "plt.xticks(rotation=25)\n",
    "plt.show()\n",
    "#госслужащие и пенсионеры - самые надёжные заёмщики"
   ]
  },
  {
   "cell_type": "code",
   "execution_count": 327,
   "id": "5be383e0",
   "metadata": {},
   "outputs": [],
   "source": [
    "flag = max(gist['no_debt_percent'])-min(gist['no_debt_percent'])\n",
    "row = pd.Series(data = {'index': 'income_type', 'valid_category': 'пенсионер', 'flag': flag, 'no_valid_category': 'в декрете'})\n",
    "gist_all = gist_all.append(row, ignore_index=True)\n",
    "#в конце"
   ]
  },
  {
   "cell_type": "code",
   "execution_count": 328,
   "id": "cfb5d3a7",
   "metadata": {},
   "outputs": [
    {
     "data": {
      "text/html": [
       "<div>\n",
       "<style scoped>\n",
       "    .dataframe tbody tr th:only-of-type {\n",
       "        vertical-align: middle;\n",
       "    }\n",
       "\n",
       "    .dataframe tbody tr th {\n",
       "        vertical-align: top;\n",
       "    }\n",
       "\n",
       "    .dataframe thead th {\n",
       "        text-align: right;\n",
       "    }\n",
       "</style>\n",
       "<table border=\"1\" class=\"dataframe\">\n",
       "  <thead>\n",
       "    <tr style=\"text-align: right;\">\n",
       "      <th></th>\n",
       "      <th>index</th>\n",
       "      <th>valid_category</th>\n",
       "      <th>flag</th>\n",
       "      <th>no_valid_category</th>\n",
       "    </tr>\n",
       "  </thead>\n",
       "  <tbody>\n",
       "    <tr>\n",
       "      <th>0</th>\n",
       "      <td>income_type</td>\n",
       "      <td>пенсионер</td>\n",
       "      <td>0.943337</td>\n",
       "      <td>в декрете</td>\n",
       "    </tr>\n",
       "    <tr>\n",
       "      <th>1</th>\n",
       "      <td>dob_years</td>\n",
       "      <td>70</td>\n",
       "      <td>0.136937</td>\n",
       "      <td>20</td>\n",
       "    </tr>\n",
       "    <tr>\n",
       "      <th>2</th>\n",
       "      <td>education</td>\n",
       "      <td>учёная степень</td>\n",
       "      <td>0.109929</td>\n",
       "      <td>начальное</td>\n",
       "    </tr>\n",
       "    <tr>\n",
       "      <th>3</th>\n",
       "      <td>children</td>\n",
       "      <td>0</td>\n",
       "      <td>0.097561</td>\n",
       "      <td>4</td>\n",
       "    </tr>\n",
       "    <tr>\n",
       "      <th>4</th>\n",
       "      <td>gender</td>\n",
       "      <td>F</td>\n",
       "      <td>0.032471</td>\n",
       "      <td>M</td>\n",
       "    </tr>\n",
       "    <tr>\n",
       "      <th>5</th>\n",
       "      <td>family_status</td>\n",
       "      <td>вдовец/вдова</td>\n",
       "      <td>0.031393</td>\n",
       "      <td>Не женат / не замужем</td>\n",
       "    </tr>\n",
       "    <tr>\n",
       "      <th>6</th>\n",
       "      <td>income</td>\n",
       "      <td>30001–50000</td>\n",
       "      <td>0.030737</td>\n",
       "      <td>0–30000</td>\n",
       "    </tr>\n",
       "    <tr>\n",
       "      <th>7</th>\n",
       "      <td>purpose</td>\n",
       "      <td>недвижимость</td>\n",
       "      <td>0.020928</td>\n",
       "      <td>автомобиль</td>\n",
       "    </tr>\n",
       "  </tbody>\n",
       "</table>\n",
       "</div>"
      ],
      "text/plain": [
       "           index  valid_category      flag      no_valid_category\n",
       "0    income_type       пенсионер  0.943337              в декрете\n",
       "1      dob_years              70  0.136937                     20\n",
       "2      education  учёная степень  0.109929              начальное\n",
       "3       children               0  0.097561                      4\n",
       "4         gender               F  0.032471                      M\n",
       "5  family_status    вдовец/вдова  0.031393  Не женат / не замужем\n",
       "6         income     30001–50000  0.030737                0–30000\n",
       "7        purpose    недвижимость  0.020928             автомобиль"
      ]
     },
     "execution_count": 328,
     "metadata": {},
     "output_type": "execute_result"
    }
   ],
   "source": [
    "gist_all = gist_all.sort_values('flag', ascending=False).reset_index(drop=True)\n",
    "gist_all"
   ]
  },
  {
   "cell_type": "markdown",
   "id": "5a1f8167",
   "metadata": {},
   "source": [
    "<pre>\n",
    "index             - название признака, по которым разбиваются категории  \n",
    "valid_category    - самая надёжная категория  \n",
    "flag              - разница между максимальным и минимальным процентом должников, показывает насколько сильно различаются категории и на какие нужно обратить внимание  \n",
    "no_valid_category - самая ненадёжная категория \n",
    "</pre>"
   ]
  },
  {
   "cell_type": "code",
   "execution_count": 329,
   "id": "45f647a1",
   "metadata": {},
   "outputs": [
    {
     "data": {
      "image/png": "[encoded data removed]",
      "text/plain": [
       "<Figure size 432x288 with 1 Axes>"
      ]
     },
     "metadata": {
      "needs_background": "light"
     },
     "output_type": "display_data"
    }
   ],
   "source": [
    "sns.lineplot(x = gist_all['index'], y = gist_all['flag'])\n",
    "plt.xticks(rotation=25);"
   ]
  },
  {
   "cell_type": "markdown",
   "id": "6b123861",
   "metadata": {},
   "source": [
    "# **Выводы**   \n",
    "По таблице можно найти самых надёжных заёмщиков: в основном, это пенсионеры. Также можно увидеть те категории, которые сильно различаются коэффициентом значимости. Например, разные цели покупки не так сильно влияют на возвращение займа, нежели род деятельности. При более детальном рассмотрении этого вопроса можно создать сводную таблицу, в которой:\n",
    "- коэффициент значимости категории будет переведён в формат 100%\n",
    "- коэффициент будет просчитан для каждой категории и каждая категория будет отсортирована по порядку\n",
    "\n",
    "Также можно создать функции, которые будут автоматически высчитывать коэффициент или строить графики. Пример функций ниже.\n",
    "(решил в этом проекте их не использовать, чтобы отработать встроенные функции библиотеки)"
   ]
  },
  {
   "cell_type": "code",
   "execution_count": 333,
   "id": "465e34f8",
   "metadata": {},
   "outputs": [],
   "source": [
    "def grafic(data, category, debt_gist='no_debt_percent', return_data = False, angel=0):\n",
    "    gist =  pd.DataFrame(data.groupby(category)['debt'].sum())\n",
    "    gist['no_debt'] = data.groupby(category)['debt'].count()- gist['debt']\n",
    "    gist['people'] = data.groupby(category)['debt'].count()\n",
    "    gist['debt_percent'] = gist['debt'] / gist['people']\n",
    "    gist['no_debt_percent'] = gist['no_debt'] / gist['people']\n",
    "    gist = gist.reset_index()\n",
    "    plot = sns.lineplot(x = gist[category], y = gist[debt_gist])\n",
    "    plt.xticks(rotation=angel)\n",
    "    if return_data == False:\n",
    "        return plot\n",
    "    else:\n",
    "        return plot, gist"
   ]
  },
  {
   "cell_type": "markdown",
   "id": "941ac3e4",
   "metadata": {},
   "source": [
    "<pre>\n",
    "data         - датафрейм  \n",
    "category     - категория, которую нужно проверить  \n",
    "debt_gist    - 'no_debt_percent', если график надёжных заёмщиков,  \n",
    "               'debt_percent', если график ненадёжных заёмщиков   \n",
    "return_gist  - False, если не возращать датафрейм, на основе которого строится график\n",
    "               True, если возвращать датафрейм, на основе которого строится график\n",
    "</pre>"
   ]
  },
  {
   "cell_type": "code",
   "execution_count": 334,
   "id": "2d134746",
   "metadata": {},
   "outputs": [
    {
     "data": {
      "image/png": "[encoded data removed]",
      "text/plain": [
       "<Figure size 432x288 with 1 Axes>"
      ]
     },
     "metadata": {
      "needs_background": "light"
     },
     "output_type": "display_data"
    }
   ],
   "source": [
    "grafic(data, 'education', angel = 25);"
   ]
  },
  {
   "cell_type": "code",
   "execution_count": 335,
   "id": "99413a61",
   "metadata": {},
   "outputs": [],
   "source": [
    "def flag_data(gist,\n",
    "            gist_all = [],\n",
    "            no_max = False, \n",
    "            value = min(gist['no_debt_percent']), \n",
    "            create_data = False, \n",
    "            index = gist.columns[0], \n",
    "            valid_category = gist[gist['no_debt_percent'] == max(gist['no_debt_percent'])][gist.columns[0]].reset_index(drop=True)[0],\n",
    "            no_valid_category = gist[gist['no_debt_percent'] == min(gist['no_debt_percent'])][gist.columns[0]].reset_index(drop=True)[0]):\n",
    "    if no_max == False:\n",
    "        flag = max(gist['no_debt_percent'])-min(gist['no_debt_percent'])\n",
    "    else:\n",
    "        flag = max(gist['no_debt_percent'])-value\n",
    "    if create_data == False:\n",
    "        row = pd.Series(data = {'index': gist.columns[0], \n",
    "                                'valid_category': valid_category, \n",
    "                                'flag': flag, \n",
    "                                'no_valid_category': no_valid_category})\n",
    "        gist_all = gist_all.append(row, ignore_index=True)\n",
    "    else:\n",
    "        row = {'index': gist.columns[0], \n",
    "               'valid_category': valid_category, \n",
    "               'flag': flag, \n",
    "               'no_valid_category': no_valid_category}\n",
    "        gist_all = pd.DataFrame(row, index = [0])\n",
    "    return gist_all"
   ]
  },
  {
   "cell_type": "markdown",
   "id": "ca75afe7",
   "metadata": {},
   "source": [
    "<pre>\n",
    "gist                 - датафрейм, который использовался для построения гистограмы  \n",
    "  \n",
    "gist_all=[]          - датафрейм, который будет сводить в себе все другиедатафреймы для гистограм, вставляется, если он есть  \n",
    "  \n",
    "no_max               = False, когда нужно использовать максимально надёжную категорию  \n",
    "                     = True, когда нужно использовать свою категорию  \n",
    "  \n",
    "value                = min(gist['no_debt_percent']) по умолчанию минимальная  \n",
    "                     = то значение gist['no_debt_percent'], для которого нужно вычислить коэффициент значимости  \n",
    "  \n",
    "create_data          = False, если у пользователя уже есть gist_all  \n",
    "                     = True, если нужно создавать датафрейм, который в последствии будет общей сводной таблицей  \n",
    "  \n",
    "index                = gist.columns[0], если название столбец с категориями первый   \n",
    "                     = любое другое название столбца с категориями в новом датафрейме  \n",
    "  \n",
    "valid_category       = gist[gist['no_debt_percent'] == max(gist['no_debt_percent'])][gist.columns[0]].reset_index(drop=True)[0], валидная категория, которая имеет максимальную надёжность  \n",
    "                     = категория пользователя  \n",
    "  \n",
    "no_valid_category    = gist[gist['no_debt_percent'] == min(gist['no_debt_percent'])][gist.columns[0]].reset_index(drop=True)[0], минимально валидная категория  \n",
    "                     = категория пользователя\n",
    "</pre>"
   ]
  },
  {
   "cell_type": "code",
   "execution_count": 336,
   "id": "4e3c3a7e",
   "metadata": {},
   "outputs": [
    {
     "data": {
      "text/html": [
       "<div>\n",
       "<style scoped>\n",
       "    .dataframe tbody tr th:only-of-type {\n",
       "        vertical-align: middle;\n",
       "    }\n",
       "\n",
       "    .dataframe tbody tr th {\n",
       "        vertical-align: top;\n",
       "    }\n",
       "\n",
       "    .dataframe thead th {\n",
       "        text-align: right;\n",
       "    }\n",
       "</style>\n",
       "<table border=\"1\" class=\"dataframe\">\n",
       "  <thead>\n",
       "    <tr style=\"text-align: right;\">\n",
       "      <th></th>\n",
       "      <th>index</th>\n",
       "      <th>valid_category</th>\n",
       "      <th>flag</th>\n",
       "      <th>no_valid_category</th>\n",
       "    </tr>\n",
       "  </thead>\n",
       "  <tbody>\n",
       "    <tr>\n",
       "      <th>0</th>\n",
       "      <td>income_type</td>\n",
       "      <td>пенсионер</td>\n",
       "      <td>0.943337</td>\n",
       "      <td>в декрете</td>\n",
       "    </tr>\n",
       "  </tbody>\n",
       "</table>\n",
       "</div>"
      ],
      "text/plain": [
       "         index valid_category      flag no_valid_category\n",
       "0  income_type      пенсионер  0.943337         в декрете"
      ]
     },
     "execution_count": 336,
     "metadata": {},
     "output_type": "execute_result"
    }
   ],
   "source": [
    "gist_all_2 = flag_data(gist, create_data = True)\n",
    "gist_all_2"
   ]
  }
 ],
 "metadata": {
  "ExecuteTimeLog": [
   {
    "duration": 44,
    "start_time": "2022-08-21T04:21:13.091Z"
   },
   {
    "duration": 437,
    "start_time": "2022-08-21T04:21:26.219Z"
   },
   {
    "duration": 24,
    "start_time": "2022-08-21T04:21:27.530Z"
   },
   {
    "duration": 16,
    "start_time": "2022-08-21T04:21:27.870Z"
   },
   {
    "duration": 9,
    "start_time": "2022-08-21T04:21:28.511Z"
   },
   {
    "duration": 31,
    "start_time": "2022-08-21T04:21:28.838Z"
   },
   {
    "duration": 3,
    "start_time": "2022-08-21T04:21:29.332Z"
   },
   {
    "duration": 8,
    "start_time": "2022-08-21T04:21:29.651Z"
   },
   {
    "duration": 4,
    "start_time": "2022-08-21T04:21:30.130Z"
   },
   {
    "duration": 7,
    "start_time": "2022-08-21T04:21:30.470Z"
   },
   {
    "duration": 4,
    "start_time": "2022-08-21T04:21:30.799Z"
   },
   {
    "duration": 31,
    "start_time": "2022-08-21T04:21:31.298Z"
   },
   {
    "duration": 10,
    "start_time": "2022-08-21T04:21:31.610Z"
   },
   {
    "duration": 3,
    "start_time": "2022-08-21T04:21:32.131Z"
   },
   {
    "duration": 11,
    "start_time": "2022-08-21T04:21:32.643Z"
   },
   {
    "duration": 19,
    "start_time": "2022-08-21T04:21:32.990Z"
   },
   {
    "duration": 16,
    "start_time": "2022-08-21T04:21:33.218Z"
   },
   {
    "duration": 3,
    "start_time": "2022-08-21T04:21:33.659Z"
   },
   {
    "duration": 10,
    "start_time": "2022-08-21T04:21:33.810Z"
   },
   {
    "duration": 5,
    "start_time": "2022-08-21T04:21:34.191Z"
   },
   {
    "duration": 3,
    "start_time": "2022-08-21T04:21:34.533Z"
   },
   {
    "duration": 8,
    "start_time": "2022-08-21T04:21:34.692Z"
   },
   {
    "duration": 11,
    "start_time": "2022-08-21T04:21:35.199Z"
   },
   {
    "duration": 6,
    "start_time": "2022-08-21T04:21:35.718Z"
   },
   {
    "duration": 4,
    "start_time": "2022-08-21T04:23:12.671Z"
   },
   {
    "duration": 7,
    "start_time": "2022-08-21T04:23:29.259Z"
   },
   {
    "duration": 6,
    "start_time": "2022-08-21T04:23:42.724Z"
   },
   {
    "duration": 925,
    "start_time": "2022-08-21T04:24:44.031Z"
   },
   {
    "duration": 157,
    "start_time": "2022-08-21T04:25:23.171Z"
   },
   {
    "duration": 10,
    "start_time": "2022-08-21T04:26:20.638Z"
   },
   {
    "duration": 10,
    "start_time": "2022-08-21T04:26:34.630Z"
   },
   {
    "duration": 8,
    "start_time": "2022-08-21T04:27:41.994Z"
   },
   {
    "duration": 4,
    "start_time": "2022-08-21T04:27:46.982Z"
   },
   {
    "duration": 11,
    "start_time": "2022-08-21T04:27:47.670Z"
   },
   {
    "duration": 131,
    "start_time": "2022-08-21T04:28:21.710Z"
   },
   {
    "duration": 14,
    "start_time": "2022-08-21T04:28:35.250Z"
   },
   {
    "duration": 13,
    "start_time": "2022-08-21T04:28:45.710Z"
   },
   {
    "duration": 141,
    "start_time": "2022-08-21T04:28:52.539Z"
   },
   {
    "duration": 6,
    "start_time": "2022-08-21T04:29:20.372Z"
   },
   {
    "duration": 5,
    "start_time": "2022-08-21T04:29:51.610Z"
   },
   {
    "duration": 10,
    "start_time": "2022-08-21T04:29:56.290Z"
   },
   {
    "duration": 16,
    "start_time": "2022-08-21T04:30:04.390Z"
   },
   {
    "duration": 7,
    "start_time": "2022-08-21T04:30:12.171Z"
   },
   {
    "duration": 5,
    "start_time": "2022-08-21T04:30:57.758Z"
   },
   {
    "duration": 50,
    "start_time": "2022-08-21T04:31:41.510Z"
   },
   {
    "duration": 13,
    "start_time": "2022-08-21T04:33:27.719Z"
   },
   {
    "duration": 13,
    "start_time": "2022-08-21T04:33:38.886Z"
   },
   {
    "duration": 89,
    "start_time": "2022-08-21T04:33:45.111Z"
   },
   {
    "duration": 6,
    "start_time": "2022-08-21T04:34:07.178Z"
   },
   {
    "duration": 5,
    "start_time": "2022-08-21T04:34:16.509Z"
   },
   {
    "duration": 10,
    "start_time": "2022-08-21T04:34:23.050Z"
   },
   {
    "duration": 9,
    "start_time": "2022-08-21T04:34:28.298Z"
   },
   {
    "duration": 6,
    "start_time": "2022-08-21T04:34:35.538Z"
   },
   {
    "duration": 105,
    "start_time": "2022-08-21T04:34:58.406Z"
   },
   {
    "duration": 105,
    "start_time": "2022-08-21T04:35:42.810Z"
   },
   {
    "duration": 11,
    "start_time": "2022-08-21T04:35:48.821Z"
   },
   {
    "duration": 643,
    "start_time": "2022-08-21T04:36:03.237Z"
   },
   {
    "duration": 6,
    "start_time": "2022-08-21T04:36:25.250Z"
   },
   {
    "duration": 114,
    "start_time": "2022-08-21T04:37:20.989Z"
   },
   {
    "duration": 645,
    "start_time": "2022-08-21T04:37:35.990Z"
   },
   {
    "duration": 586,
    "start_time": "2022-08-21T04:37:44.682Z"
   },
   {
    "duration": 6,
    "start_time": "2022-08-21T04:37:49.009Z"
   },
   {
    "duration": 8,
    "start_time": "2022-08-21T04:38:41.229Z"
   },
   {
    "duration": 7,
    "start_time": "2022-08-21T04:38:53.702Z"
   },
   {
    "duration": 1069,
    "start_time": "2022-08-21T04:39:02.621Z"
   },
   {
    "duration": 962,
    "start_time": "2022-08-21T04:39:16.058Z"
   },
   {
    "duration": 12,
    "start_time": "2022-08-21T04:39:26.789Z"
   },
   {
    "duration": 365,
    "start_time": "2022-08-21T04:39:40.885Z"
   },
   {
    "duration": 8,
    "start_time": "2022-08-21T04:39:52.249Z"
   },
   {
    "duration": 6,
    "start_time": "2022-08-21T04:40:06.476Z"
   },
   {
    "duration": 5,
    "start_time": "2022-08-21T04:40:18.509Z"
   },
   {
    "duration": 15,
    "start_time": "2022-08-21T04:40:19.289Z"
   },
   {
    "duration": 6,
    "start_time": "2022-08-21T04:40:56.930Z"
   },
   {
    "duration": 8,
    "start_time": "2022-08-21T04:41:41.749Z"
   },
   {
    "duration": 8,
    "start_time": "2022-08-21T04:41:54.037Z"
   },
   {
    "duration": 120,
    "start_time": "2022-08-21T04:43:10.503Z"
   },
   {
    "duration": 10,
    "start_time": "2022-08-21T04:43:16.390Z"
   },
   {
    "duration": 28,
    "start_time": "2022-08-21T04:44:05.938Z"
   },
   {
    "duration": 56,
    "start_time": "2022-08-21T04:46:10.637Z"
   },
   {
    "duration": 13,
    "start_time": "2022-08-21T04:46:19.477Z"
   },
   {
    "duration": 14,
    "start_time": "2022-08-21T04:46:41.335Z"
   },
   {
    "duration": 11,
    "start_time": "2022-08-21T04:48:31.501Z"
   },
   {
    "duration": 8,
    "start_time": "2022-08-21T04:48:41.243Z"
   },
   {
    "duration": 11,
    "start_time": "2022-08-21T04:48:48.621Z"
   },
   {
    "duration": 11,
    "start_time": "2022-08-21T04:49:03.450Z"
   },
   {
    "duration": 9,
    "start_time": "2022-08-21T04:49:52.183Z"
   },
   {
    "duration": 15,
    "start_time": "2022-08-21T04:49:55.763Z"
   },
   {
    "duration": 10,
    "start_time": "2022-08-21T04:50:20.143Z"
   },
   {
    "duration": 11,
    "start_time": "2022-08-21T04:51:01.905Z"
   },
   {
    "duration": 9,
    "start_time": "2022-08-21T04:51:24.901Z"
   },
   {
    "duration": 81,
    "start_time": "2022-08-21T04:51:30.272Z"
   },
   {
    "duration": 11,
    "start_time": "2022-08-21T04:52:41.706Z"
   },
   {
    "duration": 9,
    "start_time": "2022-08-21T04:54:26.735Z"
   },
   {
    "duration": 9,
    "start_time": "2022-08-21T04:55:05.508Z"
   },
   {
    "duration": 15,
    "start_time": "2022-08-21T04:55:16.887Z"
   },
   {
    "duration": 7,
    "start_time": "2022-08-21T04:55:28.997Z"
   },
   {
    "duration": 114,
    "start_time": "2022-08-21T04:55:48.208Z"
   },
   {
    "duration": 9,
    "start_time": "2022-08-21T04:56:54.141Z"
   },
   {
    "duration": 13,
    "start_time": "2022-08-21T04:57:08.178Z"
   },
   {
    "duration": 16,
    "start_time": "2022-08-21T04:57:13.609Z"
   },
   {
    "duration": 11,
    "start_time": "2022-08-21T04:57:23.186Z"
   },
   {
    "duration": 9,
    "start_time": "2022-08-21T04:57:34.610Z"
   },
   {
    "duration": 10,
    "start_time": "2022-08-21T04:57:46.159Z"
   },
   {
    "duration": 6,
    "start_time": "2022-08-21T04:57:50.477Z"
   },
   {
    "duration": 6,
    "start_time": "2022-08-21T04:57:55.797Z"
   },
   {
    "duration": 7,
    "start_time": "2022-08-21T04:58:05.630Z"
   },
   {
    "duration": 9,
    "start_time": "2022-08-21T04:58:21.277Z"
   },
   {
    "duration": 200,
    "start_time": "2022-08-21T04:59:26.239Z"
   },
   {
    "duration": 10,
    "start_time": "2022-08-21T05:01:30.660Z"
   },
   {
    "duration": 112,
    "start_time": "2022-08-21T05:01:32.092Z"
   },
   {
    "duration": 6,
    "start_time": "2022-08-21T05:02:20.119Z"
   },
   {
    "duration": 13,
    "start_time": "2022-08-21T05:02:26.180Z"
   },
   {
    "duration": 11,
    "start_time": "2022-08-21T05:02:36.744Z"
   },
   {
    "duration": 8,
    "start_time": "2022-08-21T05:03:45.794Z"
   },
   {
    "duration": 15,
    "start_time": "2022-08-21T05:03:51.934Z"
   },
   {
    "duration": 13,
    "start_time": "2022-08-21T05:04:07.887Z"
   },
   {
    "duration": 115,
    "start_time": "2022-08-21T05:04:18.361Z"
   },
   {
    "duration": 8,
    "start_time": "2022-08-21T05:07:08.244Z"
   },
   {
    "duration": 6,
    "start_time": "2022-08-21T05:07:15.535Z"
   },
   {
    "duration": 18,
    "start_time": "2022-08-21T05:08:26.348Z"
   },
   {
    "duration": 15,
    "start_time": "2022-08-21T05:08:47.755Z"
   },
   {
    "duration": 466,
    "start_time": "2022-08-21T05:08:59.999Z"
   },
   {
    "duration": 22,
    "start_time": "2022-08-21T05:09:00.466Z"
   },
   {
    "duration": 14,
    "start_time": "2022-08-21T05:09:00.638Z"
   },
   {
    "duration": 10,
    "start_time": "2022-08-21T05:09:01.250Z"
   },
   {
    "duration": 36,
    "start_time": "2022-08-21T05:09:01.590Z"
   },
   {
    "duration": 3,
    "start_time": "2022-08-21T05:09:02.091Z"
   },
   {
    "duration": 8,
    "start_time": "2022-08-21T05:09:02.426Z"
   },
   {
    "duration": 5,
    "start_time": "2022-08-21T05:09:02.918Z"
   },
   {
    "duration": 7,
    "start_time": "2022-08-21T05:09:03.250Z"
   },
   {
    "duration": 5,
    "start_time": "2022-08-21T05:09:03.599Z"
   },
   {
    "duration": 33,
    "start_time": "2022-08-21T05:09:04.090Z"
   },
   {
    "duration": 10,
    "start_time": "2022-08-21T05:09:04.466Z"
   },
   {
    "duration": 4,
    "start_time": "2022-08-21T05:09:07.311Z"
   },
   {
    "duration": 18,
    "start_time": "2022-08-21T05:09:07.891Z"
   },
   {
    "duration": 19,
    "start_time": "2022-08-21T05:09:10.991Z"
   },
   {
    "duration": 18,
    "start_time": "2022-08-21T05:09:11.178Z"
   },
   {
    "duration": 3,
    "start_time": "2022-08-21T05:09:12.479Z"
   },
   {
    "duration": 10,
    "start_time": "2022-08-21T05:09:12.622Z"
   },
   {
    "duration": 6,
    "start_time": "2022-08-21T05:09:12.980Z"
   },
   {
    "duration": 3,
    "start_time": "2022-08-21T05:09:13.291Z"
   },
   {
    "duration": 9,
    "start_time": "2022-08-21T05:09:13.470Z"
   },
   {
    "duration": 84,
    "start_time": "2022-08-21T05:09:14.039Z"
   },
   {
    "duration": 8,
    "start_time": "2022-08-21T05:09:41.232Z"
   },
   {
    "duration": 9,
    "start_time": "2022-08-21T05:09:49.539Z"
   },
   {
    "duration": 14,
    "start_time": "2022-08-21T05:09:58.759Z"
   },
   {
    "duration": 9,
    "start_time": "2022-08-21T05:10:14.559Z"
   },
   {
    "duration": 9,
    "start_time": "2022-08-21T05:10:17.847Z"
   },
   {
    "duration": 12,
    "start_time": "2022-08-21T05:11:04.144Z"
   },
   {
    "duration": 12,
    "start_time": "2022-08-21T05:11:23.592Z"
   },
   {
    "duration": 8,
    "start_time": "2022-08-21T05:11:44.680Z"
   },
   {
    "duration": 8,
    "start_time": "2022-08-21T05:11:48.784Z"
   },
   {
    "duration": 9,
    "start_time": "2022-08-21T05:11:56.876Z"
   },
   {
    "duration": 8,
    "start_time": "2022-08-21T05:12:26.800Z"
   },
   {
    "duration": 7,
    "start_time": "2022-08-21T05:12:44.821Z"
   },
   {
    "duration": 7,
    "start_time": "2022-08-21T05:13:00.372Z"
   },
   {
    "duration": 9,
    "start_time": "2022-08-21T05:14:03.980Z"
   },
   {
    "duration": 10,
    "start_time": "2022-08-21T05:14:17.013Z"
   },
   {
    "duration": 57,
    "start_time": "2022-08-21T05:16:03.054Z"
   },
   {
    "duration": 9,
    "start_time": "2022-08-21T05:16:11.000Z"
   },
   {
    "duration": 71,
    "start_time": "2022-08-21T05:21:26.335Z"
   },
   {
    "duration": 8,
    "start_time": "2022-08-21T05:21:34.063Z"
   },
   {
    "duration": 13,
    "start_time": "2022-08-21T05:21:50.044Z"
   },
   {
    "duration": 10,
    "start_time": "2022-08-21T05:22:04.603Z"
   },
   {
    "duration": 10,
    "start_time": "2022-08-21T05:22:26.095Z"
   },
   {
    "duration": 10,
    "start_time": "2022-08-21T05:22:34.456Z"
   },
   {
    "duration": 9,
    "start_time": "2022-08-21T05:22:38.843Z"
   },
   {
    "duration": 1694,
    "start_time": "2022-08-21T05:22:44.748Z"
   },
   {
    "duration": 12,
    "start_time": "2022-08-21T05:22:50.074Z"
   },
   {
    "duration": 923,
    "start_time": "2022-08-21T05:22:50.756Z"
   },
   {
    "duration": 784,
    "start_time": "2022-08-21T05:22:52.655Z"
   },
   {
    "duration": 8,
    "start_time": "2022-08-21T05:23:20.496Z"
   },
   {
    "duration": 975,
    "start_time": "2022-08-21T05:23:21.116Z"
   },
   {
    "duration": 116,
    "start_time": "2022-08-21T05:23:22.523Z"
   },
   {
    "duration": 8,
    "start_time": "2022-08-21T05:24:23.903Z"
   },
   {
    "duration": 15,
    "start_time": "2022-08-21T05:24:29.923Z"
   },
   {
    "duration": 12,
    "start_time": "2022-08-21T05:25:39.025Z"
   },
   {
    "duration": 8,
    "start_time": "2022-08-21T05:25:53.877Z"
   },
   {
    "duration": 13,
    "start_time": "2022-08-21T05:25:54.735Z"
   },
   {
    "duration": 118,
    "start_time": "2022-08-21T05:25:55.735Z"
   },
   {
    "duration": 9,
    "start_time": "2022-08-21T05:26:59.476Z"
   },
   {
    "duration": 8,
    "start_time": "2022-08-21T05:27:00.096Z"
   },
   {
    "duration": 17,
    "start_time": "2022-08-21T05:27:06.704Z"
   },
   {
    "duration": 7,
    "start_time": "2022-08-21T05:27:38.377Z"
   },
   {
    "duration": 12,
    "start_time": "2022-08-21T05:27:50.346Z"
   },
   {
    "duration": 14,
    "start_time": "2022-08-21T05:32:03.798Z"
   },
   {
    "duration": 7,
    "start_time": "2022-08-21T05:32:06.778Z"
   },
   {
    "duration": 14,
    "start_time": "2022-08-21T05:32:07.278Z"
   },
   {
    "duration": 870,
    "start_time": "2022-08-21T05:35:37.890Z"
   },
   {
    "duration": 0,
    "start_time": "2022-08-21T05:35:38.762Z"
   },
   {
    "duration": 109,
    "start_time": "2022-08-21T05:35:52.798Z"
   },
   {
    "duration": 126,
    "start_time": "2022-08-21T05:35:55.718Z"
   },
   {
    "duration": 130,
    "start_time": "2022-08-21T05:36:15.619Z"
   },
   {
    "duration": 110,
    "start_time": "2022-08-21T05:37:31.658Z"
   },
   {
    "duration": 8,
    "start_time": "2022-08-21T05:42:29.520Z"
   },
   {
    "duration": 128,
    "start_time": "2022-08-21T05:42:41.780Z"
   },
   {
    "duration": 115,
    "start_time": "2022-08-21T05:42:48.194Z"
   },
   {
    "duration": 108,
    "start_time": "2022-08-21T05:42:53.660Z"
   },
   {
    "duration": 14,
    "start_time": "2022-08-21T05:42:56.760Z"
   },
   {
    "duration": 14,
    "start_time": "2022-08-21T05:43:18.280Z"
   },
   {
    "duration": 23,
    "start_time": "2022-08-21T05:43:46.322Z"
   },
   {
    "duration": 195,
    "start_time": "2022-08-21T05:44:00.732Z"
   },
   {
    "duration": 120,
    "start_time": "2022-08-21T05:44:29.284Z"
   },
   {
    "duration": 132,
    "start_time": "2022-08-21T05:45:07.505Z"
   },
   {
    "duration": 125,
    "start_time": "2022-08-21T05:45:15.695Z"
   },
   {
    "duration": 903,
    "start_time": "2022-08-21T05:50:50.395Z"
   },
   {
    "duration": 20,
    "start_time": "2022-08-21T05:51:04.436Z"
   },
   {
    "duration": 762,
    "start_time": "2022-08-21T05:51:16.925Z"
   },
   {
    "duration": 727,
    "start_time": "2022-08-21T05:51:21.618Z"
   },
   {
    "duration": 112,
    "start_time": "2022-08-21T05:51:32.584Z"
   },
   {
    "duration": 121,
    "start_time": "2022-08-21T05:51:52.186Z"
   },
   {
    "duration": 124,
    "start_time": "2022-08-21T05:51:53.185Z"
   },
   {
    "duration": 9,
    "start_time": "2022-08-21T05:54:41.600Z"
   },
   {
    "duration": 810,
    "start_time": "2022-08-21T05:55:21.467Z"
   },
   {
    "duration": 7,
    "start_time": "2022-08-21T05:55:33.239Z"
   },
   {
    "duration": 9,
    "start_time": "2022-08-21T05:55:40.419Z"
   },
   {
    "duration": 12,
    "start_time": "2022-08-21T05:56:33.047Z"
   },
   {
    "duration": 14,
    "start_time": "2022-08-21T05:56:56.053Z"
   },
   {
    "duration": 11,
    "start_time": "2022-08-21T05:57:10.611Z"
   },
   {
    "duration": 9,
    "start_time": "2022-08-21T05:57:16.636Z"
   },
   {
    "duration": 15,
    "start_time": "2022-08-21T05:57:17.537Z"
   },
   {
    "duration": 125,
    "start_time": "2022-08-21T05:57:18.217Z"
   },
   {
    "duration": 125,
    "start_time": "2022-08-21T05:57:19.175Z"
   },
   {
    "duration": 9,
    "start_time": "2022-08-21T05:57:21.677Z"
   },
   {
    "duration": 11,
    "start_time": "2022-08-21T05:57:24.237Z"
   },
   {
    "duration": 12,
    "start_time": "2022-08-21T05:57:50.997Z"
   },
   {
    "duration": 11,
    "start_time": "2022-08-21T05:58:03.305Z"
   },
   {
    "duration": 8,
    "start_time": "2022-08-21T05:58:12.026Z"
   },
   {
    "duration": 9,
    "start_time": "2022-08-21T05:58:18.275Z"
   },
   {
    "duration": 12,
    "start_time": "2022-08-21T05:58:22.868Z"
   },
   {
    "duration": 9,
    "start_time": "2022-08-21T05:58:33.167Z"
   },
   {
    "duration": 8,
    "start_time": "2022-08-21T05:59:23.925Z"
   },
   {
    "duration": 809,
    "start_time": "2022-08-21T05:59:24.982Z"
   },
   {
    "duration": 834,
    "start_time": "2022-08-21T05:59:36.207Z"
   },
   {
    "duration": 54,
    "start_time": "2022-08-21T06:00:24.075Z"
   },
   {
    "duration": 9,
    "start_time": "2022-08-21T06:00:35.093Z"
   },
   {
    "duration": 8,
    "start_time": "2022-08-21T06:01:00.993Z"
   },
   {
    "duration": 9,
    "start_time": "2022-08-21T06:01:20.594Z"
   },
   {
    "duration": 10,
    "start_time": "2022-08-21T06:01:23.953Z"
   },
   {
    "duration": 9,
    "start_time": "2022-08-21T06:01:30.533Z"
   },
   {
    "duration": 16,
    "start_time": "2022-08-21T06:01:51.655Z"
   },
   {
    "duration": 10,
    "start_time": "2022-08-21T06:04:17.412Z"
   },
   {
    "duration": 10,
    "start_time": "2022-08-21T06:04:47.292Z"
   },
   {
    "duration": 16,
    "start_time": "2022-08-21T06:05:34.574Z"
   },
   {
    "duration": 8,
    "start_time": "2022-08-21T06:06:03.239Z"
   },
   {
    "duration": 14,
    "start_time": "2022-08-21T06:06:03.391Z"
   },
   {
    "duration": 126,
    "start_time": "2022-08-21T06:06:03.711Z"
   },
   {
    "duration": 130,
    "start_time": "2022-08-21T06:06:03.842Z"
   },
   {
    "duration": 11,
    "start_time": "2022-08-21T06:06:04.305Z"
   },
   {
    "duration": 19,
    "start_time": "2022-08-21T06:06:04.471Z"
   },
   {
    "duration": 2,
    "start_time": "2022-08-21T06:06:04.931Z"
   },
   {
    "duration": 16,
    "start_time": "2022-08-21T06:06:56.180Z"
   },
   {
    "duration": 10,
    "start_time": "2022-08-21T06:07:00.991Z"
   },
   {
    "duration": 11,
    "start_time": "2022-08-21T06:07:01.849Z"
   },
   {
    "duration": 11,
    "start_time": "2022-08-21T06:07:10.451Z"
   },
   {
    "duration": 9,
    "start_time": "2022-08-21T06:07:43.539Z"
   },
   {
    "duration": 11,
    "start_time": "2022-08-21T06:07:47.030Z"
   },
   {
    "duration": 17,
    "start_time": "2022-08-21T06:08:30.090Z"
   },
   {
    "duration": 7,
    "start_time": "2022-08-21T06:08:48.221Z"
   },
   {
    "duration": 7,
    "start_time": "2022-08-21T06:09:01.099Z"
   },
   {
    "duration": 12,
    "start_time": "2022-08-21T06:09:05.370Z"
   },
   {
    "duration": 11,
    "start_time": "2022-08-21T06:09:09.178Z"
   },
   {
    "duration": 12,
    "start_time": "2022-08-21T06:09:13.150Z"
   },
   {
    "duration": 12,
    "start_time": "2022-08-21T06:09:14.211Z"
   },
   {
    "duration": 10,
    "start_time": "2022-08-21T06:09:54.990Z"
   },
   {
    "duration": 13,
    "start_time": "2022-08-21T06:09:56.049Z"
   },
   {
    "duration": 10,
    "start_time": "2022-08-21T06:10:06.169Z"
   },
   {
    "duration": 9,
    "start_time": "2022-08-21T06:10:07.488Z"
   },
   {
    "duration": 15,
    "start_time": "2022-08-21T06:10:19.592Z"
   },
   {
    "duration": 14,
    "start_time": "2022-08-21T06:10:22.289Z"
   },
   {
    "duration": 9,
    "start_time": "2022-08-21T06:10:25.974Z"
   },
   {
    "duration": 14,
    "start_time": "2022-08-21T06:10:26.810Z"
   },
   {
    "duration": 10,
    "start_time": "2022-08-21T06:10:47.801Z"
   },
   {
    "duration": 14,
    "start_time": "2022-08-21T06:10:48.530Z"
   },
   {
    "duration": 49,
    "start_time": "2022-08-21T06:10:57.420Z"
   },
   {
    "duration": 10,
    "start_time": "2022-08-21T06:10:58.029Z"
   },
   {
    "duration": 420,
    "start_time": "2022-08-21T06:11:04.549Z"
   },
   {
    "duration": 22,
    "start_time": "2022-08-21T06:11:04.971Z"
   },
   {
    "duration": 15,
    "start_time": "2022-08-21T06:11:05.199Z"
   },
   {
    "duration": 10,
    "start_time": "2022-08-21T06:11:05.840Z"
   },
   {
    "duration": 36,
    "start_time": "2022-08-21T06:11:06.159Z"
   },
   {
    "duration": 4,
    "start_time": "2022-08-21T06:11:06.639Z"
   },
   {
    "duration": 8,
    "start_time": "2022-08-21T06:11:06.947Z"
   },
   {
    "duration": 4,
    "start_time": "2022-08-21T06:11:07.459Z"
   },
   {
    "duration": 7,
    "start_time": "2022-08-21T06:11:07.759Z"
   },
   {
    "duration": 5,
    "start_time": "2022-08-21T06:11:08.091Z"
   },
   {
    "duration": 35,
    "start_time": "2022-08-21T06:11:08.607Z"
   },
   {
    "duration": 10,
    "start_time": "2022-08-21T06:11:08.949Z"
   },
   {
    "duration": 4,
    "start_time": "2022-08-21T06:11:09.419Z"
   },
   {
    "duration": 12,
    "start_time": "2022-08-21T06:11:09.960Z"
   },
   {
    "duration": 24,
    "start_time": "2022-08-21T06:11:10.279Z"
   },
   {
    "duration": 22,
    "start_time": "2022-08-21T06:11:10.419Z"
   },
   {
    "duration": 4,
    "start_time": "2022-08-21T06:11:10.939Z"
   },
   {
    "duration": 10,
    "start_time": "2022-08-21T06:11:11.091Z"
   },
   {
    "duration": 7,
    "start_time": "2022-08-21T06:11:11.457Z"
   },
   {
    "duration": 5,
    "start_time": "2022-08-21T06:11:11.828Z"
   },
   {
    "duration": 8,
    "start_time": "2022-08-21T06:11:11.988Z"
   },
   {
    "duration": 10,
    "start_time": "2022-08-21T06:11:12.507Z"
   },
   {
    "duration": 17,
    "start_time": "2022-08-21T06:11:12.689Z"
   },
   {
    "duration": 832,
    "start_time": "2022-08-21T06:11:13.017Z"
   },
   {
    "duration": 148,
    "start_time": "2022-08-21T06:11:13.851Z"
   },
   {
    "duration": 11,
    "start_time": "2022-08-21T06:11:14.001Z"
   },
   {
    "duration": 130,
    "start_time": "2022-08-21T06:11:14.015Z"
   },
   {
    "duration": 3,
    "start_time": "2022-08-21T06:11:14.449Z"
   },
   {
    "duration": 16,
    "start_time": "2022-08-21T06:11:35.939Z"
   },
   {
    "duration": 24,
    "start_time": "2022-08-21T06:12:09.028Z"
   },
   {
    "duration": 15,
    "start_time": "2022-08-21T06:12:44.422Z"
   },
   {
    "duration": 136,
    "start_time": "2022-08-21T06:13:04.255Z"
   },
   {
    "duration": 142,
    "start_time": "2022-08-21T06:13:36.792Z"
   },
   {
    "duration": 110,
    "start_time": "2022-08-21T06:15:38.409Z"
   },
   {
    "duration": 731,
    "start_time": "2022-08-21T06:17:14.049Z"
   },
   {
    "duration": 9,
    "start_time": "2022-08-21T06:17:23.786Z"
   },
   {
    "duration": 13,
    "start_time": "2022-08-21T06:17:23.962Z"
   },
   {
    "duration": 129,
    "start_time": "2022-08-21T06:17:24.270Z"
   },
   {
    "duration": 123,
    "start_time": "2022-08-21T06:17:24.456Z"
   },
   {
    "duration": 9,
    "start_time": "2022-08-21T06:17:32.139Z"
   },
   {
    "duration": 25,
    "start_time": "2022-08-21T06:17:32.349Z"
   },
   {
    "duration": 124,
    "start_time": "2022-08-21T06:17:47.879Z"
   },
   {
    "duration": 156,
    "start_time": "2022-08-21T06:17:54.905Z"
   },
   {
    "duration": 207,
    "start_time": "2022-08-21T06:18:28.369Z"
   },
   {
    "duration": 20,
    "start_time": "2022-08-21T06:19:08.219Z"
   },
   {
    "duration": 97,
    "start_time": "2022-08-21T06:19:09.097Z"
   },
   {
    "duration": 101,
    "start_time": "2022-08-21T06:19:53.737Z"
   },
   {
    "duration": 454,
    "start_time": "2022-08-21T06:20:21.322Z"
   },
   {
    "duration": 23,
    "start_time": "2022-08-21T06:20:21.778Z"
   },
   {
    "duration": 18,
    "start_time": "2022-08-21T06:20:21.802Z"
   },
   {
    "duration": 9,
    "start_time": "2022-08-21T06:20:21.822Z"
   },
   {
    "duration": 61,
    "start_time": "2022-08-21T06:20:21.833Z"
   },
   {
    "duration": 3,
    "start_time": "2022-08-21T06:20:21.896Z"
   },
   {
    "duration": 21,
    "start_time": "2022-08-21T06:20:21.900Z"
   },
   {
    "duration": 15,
    "start_time": "2022-08-21T06:20:21.923Z"
   },
   {
    "duration": 7,
    "start_time": "2022-08-21T06:20:21.940Z"
   },
   {
    "duration": 6,
    "start_time": "2022-08-21T06:20:21.949Z"
   },
   {
    "duration": 49,
    "start_time": "2022-08-21T06:20:21.956Z"
   },
   {
    "duration": 11,
    "start_time": "2022-08-21T06:20:22.006Z"
   },
   {
    "duration": 5,
    "start_time": "2022-08-21T06:20:22.018Z"
   },
   {
    "duration": 19,
    "start_time": "2022-08-21T06:20:22.026Z"
   },
   {
    "duration": 41,
    "start_time": "2022-08-21T06:20:22.047Z"
   },
   {
    "duration": 18,
    "start_time": "2022-08-21T06:20:22.089Z"
   },
   {
    "duration": 4,
    "start_time": "2022-08-21T06:20:22.108Z"
   },
   {
    "duration": 12,
    "start_time": "2022-08-21T06:20:22.113Z"
   },
   {
    "duration": 9,
    "start_time": "2022-08-21T06:20:22.127Z"
   },
   {
    "duration": 10,
    "start_time": "2022-08-21T06:20:22.137Z"
   },
   {
    "duration": 13,
    "start_time": "2022-08-21T06:20:22.148Z"
   },
   {
    "duration": 32,
    "start_time": "2022-08-21T06:20:22.162Z"
   },
   {
    "duration": 13,
    "start_time": "2022-08-21T06:20:22.195Z"
   },
   {
    "duration": 884,
    "start_time": "2022-08-21T06:20:22.209Z"
   },
   {
    "duration": 134,
    "start_time": "2022-08-21T06:20:23.094Z"
   },
   {
    "duration": 10,
    "start_time": "2022-08-21T06:20:23.229Z"
   },
   {
    "duration": 17,
    "start_time": "2022-08-21T06:20:23.241Z"
   },
   {
    "duration": 160,
    "start_time": "2022-08-21T06:20:23.260Z"
   },
   {
    "duration": 3,
    "start_time": "2022-08-21T06:20:23.421Z"
   },
   {
    "duration": 4,
    "start_time": "2022-08-21T06:20:23.426Z"
   },
   {
    "duration": 148,
    "start_time": "2022-08-21T06:20:42.275Z"
   },
   {
    "duration": 137,
    "start_time": "2022-08-21T06:20:51.384Z"
   },
   {
    "duration": 138,
    "start_time": "2022-08-21T06:21:13.494Z"
   },
   {
    "duration": 13,
    "start_time": "2022-08-21T06:43:56.794Z"
   },
   {
    "duration": 19,
    "start_time": "2022-08-21T06:47:30.494Z"
   },
   {
    "duration": 11,
    "start_time": "2022-08-21T06:48:27.651Z"
   },
   {
    "duration": 21,
    "start_time": "2022-08-21T06:49:16.254Z"
   },
   {
    "duration": 135,
    "start_time": "2022-08-21T06:49:50.335Z"
   },
   {
    "duration": 120,
    "start_time": "2022-08-21T06:50:17.814Z"
   },
   {
    "duration": 20,
    "start_time": "2022-08-21T06:54:42.462Z"
   },
   {
    "duration": 11,
    "start_time": "2022-08-21T06:54:56.694Z"
   },
   {
    "duration": 20,
    "start_time": "2022-08-21T06:55:06.511Z"
   },
   {
    "duration": 9,
    "start_time": "2022-08-21T06:55:20.324Z"
   },
   {
    "duration": 18,
    "start_time": "2022-08-21T06:55:48.965Z"
   },
   {
    "duration": 120,
    "start_time": "2022-08-21T06:56:32.412Z"
   },
   {
    "duration": 175,
    "start_time": "2022-08-21T06:56:35.765Z"
   },
   {
    "duration": 117,
    "start_time": "2022-08-21T06:58:16.786Z"
   },
   {
    "duration": 20,
    "start_time": "2022-08-21T08:04:37.001Z"
   },
   {
    "duration": 5,
    "start_time": "2022-08-21T08:05:50.513Z"
   },
   {
    "duration": 24,
    "start_time": "2022-08-21T08:07:16.034Z"
   },
   {
    "duration": 94,
    "start_time": "2022-08-21T08:07:41.214Z"
   },
   {
    "duration": 10,
    "start_time": "2022-08-21T08:07:58.113Z"
   },
   {
    "duration": 10,
    "start_time": "2022-08-21T08:08:10.594Z"
   },
   {
    "duration": 4,
    "start_time": "2022-08-21T08:08:18.194Z"
   },
   {
    "duration": 4,
    "start_time": "2022-08-21T08:08:29.214Z"
   },
   {
    "duration": 6,
    "start_time": "2022-08-21T08:08:39.493Z"
   },
   {
    "duration": 8,
    "start_time": "2022-08-21T08:09:04.725Z"
   },
   {
    "duration": 11,
    "start_time": "2022-08-21T08:11:21.301Z"
   },
   {
    "duration": 22,
    "start_time": "2022-08-21T08:11:47.743Z"
   },
   {
    "duration": 966,
    "start_time": "2022-08-21T08:12:03.822Z"
   },
   {
    "duration": 133,
    "start_time": "2022-08-21T08:12:14.974Z"
   },
   {
    "duration": 132,
    "start_time": "2022-08-21T08:12:36.673Z"
   },
   {
    "duration": 153,
    "start_time": "2022-08-21T08:14:01.724Z"
   },
   {
    "duration": 107,
    "start_time": "2022-08-21T08:17:48.742Z"
   },
   {
    "duration": 15,
    "start_time": "2022-08-21T08:18:20.775Z"
   },
   {
    "duration": 29,
    "start_time": "2022-08-21T08:18:30.285Z"
   },
   {
    "duration": 18,
    "start_time": "2022-08-21T08:18:42.954Z"
   },
   {
    "duration": 13,
    "start_time": "2022-08-21T08:19:23.586Z"
   },
   {
    "duration": 11,
    "start_time": "2022-08-21T08:19:40.214Z"
   },
   {
    "duration": 9,
    "start_time": "2022-08-21T08:19:44.660Z"
   },
   {
    "duration": 52,
    "start_time": "2022-08-21T08:21:11.107Z"
   },
   {
    "duration": 16,
    "start_time": "2022-08-21T08:21:18.534Z"
   },
   {
    "duration": 15,
    "start_time": "2022-08-21T08:21:31.365Z"
   },
   {
    "duration": 10,
    "start_time": "2022-08-21T08:22:56.243Z"
   },
   {
    "duration": 8,
    "start_time": "2022-08-21T08:23:05.134Z"
   },
   {
    "duration": 10,
    "start_time": "2022-08-21T08:23:12.352Z"
   },
   {
    "duration": 17,
    "start_time": "2022-08-21T08:23:28.230Z"
   },
   {
    "duration": 17,
    "start_time": "2022-08-21T08:23:37.642Z"
   },
   {
    "duration": 208,
    "start_time": "2022-08-21T08:23:55.699Z"
   },
   {
    "duration": 10,
    "start_time": "2022-08-21T08:24:04.898Z"
   },
   {
    "duration": 24,
    "start_time": "2022-08-21T08:24:14.984Z"
   },
   {
    "duration": 17,
    "start_time": "2022-08-21T08:24:27.254Z"
   },
   {
    "duration": 10,
    "start_time": "2022-08-21T08:24:35.102Z"
   },
   {
    "duration": 119,
    "start_time": "2022-08-21T08:25:02.511Z"
   },
   {
    "duration": 11,
    "start_time": "2022-08-21T08:28:59.266Z"
   },
   {
    "duration": 13,
    "start_time": "2022-08-21T08:33:20.485Z"
   },
   {
    "duration": 12,
    "start_time": "2022-08-21T08:33:28.862Z"
   },
   {
    "duration": 7,
    "start_time": "2022-08-21T08:33:32.161Z"
   },
   {
    "duration": 13,
    "start_time": "2022-08-21T08:33:37.803Z"
   },
   {
    "duration": 15,
    "start_time": "2022-08-21T08:36:25.435Z"
   },
   {
    "duration": 12,
    "start_time": "2022-08-21T08:36:28.425Z"
   },
   {
    "duration": 13,
    "start_time": "2022-08-21T08:36:40.595Z"
   },
   {
    "duration": 4,
    "start_time": "2022-08-21T08:37:26.154Z"
   },
   {
    "duration": 17,
    "start_time": "2022-08-21T08:39:27.526Z"
   },
   {
    "duration": 1157,
    "start_time": "2022-08-21T08:39:38.814Z"
   },
   {
    "duration": 16,
    "start_time": "2022-08-21T08:39:57.746Z"
   },
   {
    "duration": 128,
    "start_time": "2022-08-21T08:40:04.898Z"
   },
   {
    "duration": 145,
    "start_time": "2022-08-21T08:40:06.014Z"
   },
   {
    "duration": 4,
    "start_time": "2022-08-21T08:40:06.923Z"
   },
   {
    "duration": 17,
    "start_time": "2022-08-21T08:40:09.524Z"
   },
   {
    "duration": 1022,
    "start_time": "2022-08-21T08:40:10.965Z"
   },
   {
    "duration": 1087,
    "start_time": "2022-08-21T08:40:12.214Z"
   },
   {
    "duration": 20,
    "start_time": "2022-08-21T08:40:34.734Z"
   },
   {
    "duration": 141,
    "start_time": "2022-08-21T08:40:35.899Z"
   },
   {
    "duration": 157,
    "start_time": "2022-08-21T08:40:37.553Z"
   },
   {
    "duration": 20,
    "start_time": "2022-08-21T08:43:17.755Z"
   },
   {
    "duration": 21,
    "start_time": "2022-08-21T08:44:50.012Z"
   },
   {
    "duration": 149,
    "start_time": "2022-08-21T08:45:58.704Z"
   },
   {
    "duration": 5,
    "start_time": "2022-08-21T08:49:36.043Z"
   },
   {
    "duration": 4,
    "start_time": "2022-08-21T08:49:39.258Z"
   },
   {
    "duration": 16,
    "start_time": "2022-08-21T08:53:17.814Z"
   },
   {
    "duration": 127,
    "start_time": "2022-08-21T08:53:18.353Z"
   },
   {
    "duration": 126,
    "start_time": "2022-08-21T08:53:18.535Z"
   },
   {
    "duration": 4,
    "start_time": "2022-08-21T08:53:18.701Z"
   },
   {
    "duration": 20,
    "start_time": "2022-08-21T08:53:19.199Z"
   },
   {
    "duration": 225,
    "start_time": "2022-08-21T08:53:19.373Z"
   },
   {
    "duration": 147,
    "start_time": "2022-08-21T08:53:19.603Z"
   },
   {
    "duration": 12,
    "start_time": "2022-08-21T08:53:20.499Z"
   },
   {
    "duration": 17,
    "start_time": "2022-08-21T08:53:46.383Z"
   },
   {
    "duration": 13,
    "start_time": "2022-08-21T08:54:03.902Z"
   },
   {
    "duration": 17,
    "start_time": "2022-08-21T08:54:11.734Z"
   },
   {
    "duration": 145,
    "start_time": "2022-08-21T08:54:12.081Z"
   },
   {
    "duration": 142,
    "start_time": "2022-08-21T08:54:12.228Z"
   },
   {
    "duration": 4,
    "start_time": "2022-08-21T08:54:12.374Z"
   },
   {
    "duration": 20,
    "start_time": "2022-08-21T08:54:12.854Z"
   },
   {
    "duration": 155,
    "start_time": "2022-08-21T08:54:13.085Z"
   },
   {
    "duration": 151,
    "start_time": "2022-08-21T08:54:13.492Z"
   },
   {
    "duration": 12,
    "start_time": "2022-08-21T08:54:14.409Z"
   },
   {
    "duration": 11,
    "start_time": "2022-08-21T08:57:10.135Z"
   },
   {
    "duration": 16,
    "start_time": "2022-08-21T08:57:18.975Z"
   },
   {
    "duration": 126,
    "start_time": "2022-08-21T08:57:19.524Z"
   },
   {
    "duration": 120,
    "start_time": "2022-08-21T08:57:19.747Z"
   },
   {
    "duration": 12,
    "start_time": "2022-08-21T08:57:19.982Z"
   },
   {
    "duration": 15,
    "start_time": "2022-08-21T09:02:49.315Z"
   },
   {
    "duration": 135,
    "start_time": "2022-08-21T09:02:50.934Z"
   },
   {
    "duration": 123,
    "start_time": "2022-08-21T09:02:51.523Z"
   },
   {
    "duration": 91,
    "start_time": "2022-08-21T09:02:52.554Z"
   },
   {
    "duration": 9,
    "start_time": "2022-08-21T09:03:20.655Z"
   },
   {
    "duration": 4,
    "start_time": "2022-08-21T09:03:26.715Z"
   },
   {
    "duration": 82,
    "start_time": "2022-08-21T09:03:34.342Z"
   },
   {
    "duration": 14,
    "start_time": "2022-08-21T09:03:34.670Z"
   },
   {
    "duration": 23,
    "start_time": "2022-08-21T09:03:34.983Z"
   },
   {
    "duration": 10,
    "start_time": "2022-08-21T09:03:35.612Z"
   },
   {
    "duration": 32,
    "start_time": "2022-08-21T09:03:35.914Z"
   },
   {
    "duration": 5,
    "start_time": "2022-08-21T09:03:36.406Z"
   },
   {
    "duration": 8,
    "start_time": "2022-08-21T09:03:36.734Z"
   },
   {
    "duration": 4,
    "start_time": "2022-08-21T09:03:37.214Z"
   },
   {
    "duration": 7,
    "start_time": "2022-08-21T09:03:37.566Z"
   },
   {
    "duration": 6,
    "start_time": "2022-08-21T09:03:37.855Z"
   },
   {
    "duration": 30,
    "start_time": "2022-08-21T09:03:38.354Z"
   },
   {
    "duration": 11,
    "start_time": "2022-08-21T09:03:38.655Z"
   },
   {
    "duration": 4,
    "start_time": "2022-08-21T09:03:39.134Z"
   },
   {
    "duration": 12,
    "start_time": "2022-08-21T09:03:39.701Z"
   },
   {
    "duration": 26,
    "start_time": "2022-08-21T09:03:40.002Z"
   },
   {
    "duration": 19,
    "start_time": "2022-08-21T09:03:40.174Z"
   },
   {
    "duration": 3,
    "start_time": "2022-08-21T09:03:40.676Z"
   },
   {
    "duration": 20,
    "start_time": "2022-08-21T09:03:40.885Z"
   },
   {
    "duration": 10,
    "start_time": "2022-08-21T09:03:41.190Z"
   },
   {
    "duration": 3,
    "start_time": "2022-08-21T09:03:41.832Z"
   },
   {
    "duration": 13,
    "start_time": "2022-08-21T09:03:41.982Z"
   },
   {
    "duration": 15,
    "start_time": "2022-08-21T09:03:42.500Z"
   },
   {
    "duration": 123,
    "start_time": "2022-08-21T09:03:42.860Z"
   },
   {
    "duration": 130,
    "start_time": "2022-08-21T09:03:43.100Z"
   },
   {
    "duration": 4,
    "start_time": "2022-08-21T09:03:43.763Z"
   },
   {
    "duration": 6,
    "start_time": "2022-08-21T09:03:50.317Z"
   },
   {
    "duration": 29,
    "start_time": "2022-08-21T09:03:51.982Z"
   },
   {
    "duration": 143,
    "start_time": "2022-08-21T09:03:54.723Z"
   },
   {
    "duration": 153,
    "start_time": "2022-08-21T09:03:55.919Z"
   },
   {
    "duration": 7,
    "start_time": "2022-08-21T09:03:57.072Z"
   },
   {
    "duration": 10,
    "start_time": "2022-08-21T09:04:03.786Z"
   },
   {
    "duration": 18,
    "start_time": "2022-08-21T09:04:05.232Z"
   },
   {
    "duration": 29,
    "start_time": "2022-08-21T09:05:00.835Z"
   },
   {
    "duration": 143,
    "start_time": "2022-08-21T09:05:01.674Z"
   },
   {
    "duration": 135,
    "start_time": "2022-08-21T09:05:02.145Z"
   },
   {
    "duration": 7,
    "start_time": "2022-08-21T09:05:02.863Z"
   },
   {
    "duration": 23,
    "start_time": "2022-08-21T09:05:05.324Z"
   },
   {
    "duration": 173,
    "start_time": "2022-08-21T09:05:07.555Z"
   },
   {
    "duration": 246,
    "start_time": "2022-08-21T09:05:10.003Z"
   },
   {
    "duration": 23,
    "start_time": "2022-08-21T09:06:28.603Z"
   },
   {
    "duration": 138,
    "start_time": "2022-08-21T09:06:29.082Z"
   },
   {
    "duration": 141,
    "start_time": "2022-08-21T09:06:29.474Z"
   },
   {
    "duration": 8,
    "start_time": "2022-08-21T09:06:29.914Z"
   },
   {
    "duration": 164,
    "start_time": "2022-08-21T09:06:50.085Z"
   },
   {
    "duration": 488,
    "start_time": "2022-08-21T09:10:25.320Z"
   },
   {
    "duration": 23,
    "start_time": "2022-08-21T09:10:25.811Z"
   },
   {
    "duration": 17,
    "start_time": "2022-08-21T09:10:25.836Z"
   },
   {
    "duration": 38,
    "start_time": "2022-08-21T09:10:25.856Z"
   },
   {
    "duration": 38,
    "start_time": "2022-08-21T09:10:25.896Z"
   },
   {
    "duration": 4,
    "start_time": "2022-08-21T09:10:25.936Z"
   },
   {
    "duration": 17,
    "start_time": "2022-08-21T09:10:25.941Z"
   },
   {
    "duration": 6,
    "start_time": "2022-08-21T09:10:25.960Z"
   },
   {
    "duration": 47,
    "start_time": "2022-08-21T09:10:25.968Z"
   },
   {
    "duration": 8,
    "start_time": "2022-08-21T09:10:26.019Z"
   },
   {
    "duration": 40,
    "start_time": "2022-08-21T09:10:26.029Z"
   },
   {
    "duration": 10,
    "start_time": "2022-08-21T09:10:26.070Z"
   },
   {
    "duration": 7,
    "start_time": "2022-08-21T09:10:26.081Z"
   },
   {
    "duration": 32,
    "start_time": "2022-08-21T09:10:26.090Z"
   },
   {
    "duration": 32,
    "start_time": "2022-08-21T09:10:26.124Z"
   },
   {
    "duration": 15,
    "start_time": "2022-08-21T09:10:26.158Z"
   },
   {
    "duration": 5,
    "start_time": "2022-08-21T09:10:26.177Z"
   },
   {
    "duration": 41,
    "start_time": "2022-08-21T09:10:26.183Z"
   },
   {
    "duration": 20,
    "start_time": "2022-08-21T09:10:26.227Z"
   },
   {
    "duration": 4,
    "start_time": "2022-08-21T09:10:26.250Z"
   },
   {
    "duration": 12,
    "start_time": "2022-08-21T09:10:26.257Z"
   },
   {
    "duration": 23,
    "start_time": "2022-08-21T09:10:26.270Z"
   },
   {
    "duration": 899,
    "start_time": "2022-08-21T09:10:26.295Z"
   },
   {
    "duration": 138,
    "start_time": "2022-08-21T09:10:27.196Z"
   },
   {
    "duration": 5,
    "start_time": "2022-08-21T09:10:27.335Z"
   },
   {
    "duration": 22,
    "start_time": "2022-08-21T09:10:27.341Z"
   },
   {
    "duration": 160,
    "start_time": "2022-08-21T09:10:27.365Z"
   },
   {
    "duration": 162,
    "start_time": "2022-08-21T09:10:27.528Z"
   },
   {
    "duration": 10,
    "start_time": "2022-08-21T09:10:27.692Z"
   },
   {
    "duration": 26,
    "start_time": "2022-08-21T09:10:27.704Z"
   },
   {
    "duration": 146,
    "start_time": "2022-08-21T09:10:27.731Z"
   },
   {
    "duration": 141,
    "start_time": "2022-08-21T09:10:27.878Z"
   },
   {
    "duration": 8,
    "start_time": "2022-08-21T09:10:28.021Z"
   },
   {
    "duration": 32,
    "start_time": "2022-08-21T09:10:28.030Z"
   },
   {
    "duration": 146,
    "start_time": "2022-08-21T09:10:28.065Z"
   },
   {
    "duration": 141,
    "start_time": "2022-08-21T09:10:28.213Z"
   },
   {
    "duration": 9,
    "start_time": "2022-08-21T09:10:28.356Z"
   },
   {
    "duration": 170,
    "start_time": "2022-08-21T09:10:28.367Z"
   },
   {
    "duration": 9,
    "start_time": "2022-08-21T09:10:28.538Z"
   },
   {
    "duration": 269,
    "start_time": "2022-08-21T09:10:28.548Z"
   },
   {
    "duration": 8,
    "start_time": "2022-08-21T09:10:28.819Z"
   },
   {
    "duration": 135,
    "start_time": "2022-08-21T09:10:28.829Z"
   },
   {
    "duration": 7,
    "start_time": "2022-08-21T09:10:28.966Z"
   },
   {
    "duration": 19,
    "start_time": "2022-08-21T09:10:28.974Z"
   },
   {
    "duration": 9,
    "start_time": "2022-08-21T09:10:57.512Z"
   },
   {
    "duration": 10,
    "start_time": "2022-08-21T09:11:16.403Z"
   },
   {
    "duration": 20,
    "start_time": "2022-08-21T09:11:18.060Z"
   },
   {
    "duration": 153,
    "start_time": "2022-08-21T09:11:18.212Z"
   },
   {
    "duration": 156,
    "start_time": "2022-08-21T09:11:18.368Z"
   },
   {
    "duration": 10,
    "start_time": "2022-08-21T09:11:18.683Z"
   },
   {
    "duration": 15,
    "start_time": "2022-08-21T09:11:24.041Z"
   },
   {
    "duration": 18,
    "start_time": "2022-08-21T09:11:40.329Z"
   },
   {
    "duration": 143,
    "start_time": "2022-08-21T09:11:41.005Z"
   },
   {
    "duration": 149,
    "start_time": "2022-08-21T09:11:41.177Z"
   },
   {
    "duration": 9,
    "start_time": "2022-08-21T09:11:41.341Z"
   },
   {
    "duration": 21,
    "start_time": "2022-08-21T09:11:41.840Z"
   },
   {
    "duration": 149,
    "start_time": "2022-08-21T09:11:42.013Z"
   },
   {
    "duration": 156,
    "start_time": "2022-08-21T09:11:42.164Z"
   },
   {
    "duration": 11,
    "start_time": "2022-08-21T09:11:42.322Z"
   },
   {
    "duration": 18,
    "start_time": "2022-08-21T09:11:42.800Z"
   },
   {
    "duration": 126,
    "start_time": "2022-08-21T09:11:43.122Z"
   },
   {
    "duration": 131,
    "start_time": "2022-08-21T09:11:43.312Z"
   },
   {
    "duration": 8,
    "start_time": "2022-08-21T09:11:43.552Z"
   },
   {
    "duration": 21,
    "start_time": "2022-08-21T09:11:48.760Z"
   },
   {
    "duration": 127,
    "start_time": "2022-08-21T09:11:48.933Z"
   },
   {
    "duration": 126,
    "start_time": "2022-08-21T09:11:49.101Z"
   },
   {
    "duration": 8,
    "start_time": "2022-08-21T09:11:49.260Z"
   },
   {
    "duration": 134,
    "start_time": "2022-08-21T09:11:51.021Z"
   },
   {
    "duration": 9,
    "start_time": "2022-08-21T09:11:51.179Z"
   },
   {
    "duration": 203,
    "start_time": "2022-08-21T09:11:51.332Z"
   },
   {
    "duration": 8,
    "start_time": "2022-08-21T09:11:51.537Z"
   },
   {
    "duration": 137,
    "start_time": "2022-08-21T09:11:51.640Z"
   },
   {
    "duration": 7,
    "start_time": "2022-08-21T09:11:51.813Z"
   },
   {
    "duration": 18,
    "start_time": "2022-08-21T09:11:51.979Z"
   },
   {
    "duration": 110,
    "start_time": "2022-08-21T09:13:59.973Z"
   },
   {
    "duration": 27,
    "start_time": "2022-08-21T09:14:00.085Z"
   },
   {
    "duration": 35,
    "start_time": "2022-08-21T09:14:00.114Z"
   },
   {
    "duration": 16,
    "start_time": "2022-08-21T09:14:00.151Z"
   },
   {
    "duration": 68,
    "start_time": "2022-08-21T09:14:00.170Z"
   },
   {
    "duration": 22,
    "start_time": "2022-08-21T09:14:00.240Z"
   },
   {
    "duration": 51,
    "start_time": "2022-08-21T09:14:00.265Z"
   },
   {
    "duration": 11,
    "start_time": "2022-08-21T09:14:00.319Z"
   },
   {
    "duration": 22,
    "start_time": "2022-08-21T09:14:00.333Z"
   },
   {
    "duration": 21,
    "start_time": "2022-08-21T09:14:00.357Z"
   },
   {
    "duration": 161,
    "start_time": "2022-08-21T09:14:00.381Z"
   },
   {
    "duration": 17,
    "start_time": "2022-08-21T09:14:00.545Z"
   },
   {
    "duration": 45,
    "start_time": "2022-08-21T09:14:00.564Z"
   },
   {
    "duration": 25,
    "start_time": "2022-08-21T09:14:00.613Z"
   },
   {
    "duration": 32,
    "start_time": "2022-08-21T09:14:00.641Z"
   },
   {
    "duration": 50,
    "start_time": "2022-08-21T09:14:00.675Z"
   },
   {
    "duration": 8,
    "start_time": "2022-08-21T09:14:00.727Z"
   },
   {
    "duration": 39,
    "start_time": "2022-08-21T09:14:00.737Z"
   },
   {
    "duration": 8,
    "start_time": "2022-08-21T09:14:00.778Z"
   },
   {
    "duration": 47,
    "start_time": "2022-08-21T09:14:00.788Z"
   },
   {
    "duration": 25,
    "start_time": "2022-08-21T09:14:00.837Z"
   },
   {
    "duration": 63,
    "start_time": "2022-08-21T09:14:00.864Z"
   },
   {
    "duration": 180,
    "start_time": "2022-08-21T09:14:00.929Z"
   },
   {
    "duration": 158,
    "start_time": "2022-08-21T09:14:01.111Z"
   },
   {
    "duration": 10,
    "start_time": "2022-08-21T09:14:01.270Z"
   },
   {
    "duration": 83,
    "start_time": "2022-08-21T09:14:01.287Z"
   },
   {
    "duration": 250,
    "start_time": "2022-08-21T09:14:01.371Z"
   },
   {
    "duration": 170,
    "start_time": "2022-08-21T09:14:01.623Z"
   },
   {
    "duration": 18,
    "start_time": "2022-08-21T09:14:01.796Z"
   },
   {
    "duration": 22,
    "start_time": "2022-08-21T09:14:01.815Z"
   },
   {
    "duration": 155,
    "start_time": "2022-08-21T09:14:01.839Z"
   },
   {
    "duration": 150,
    "start_time": "2022-08-21T09:14:01.997Z"
   },
   {
    "duration": 9,
    "start_time": "2022-08-21T09:14:02.149Z"
   },
   {
    "duration": 44,
    "start_time": "2022-08-21T09:14:02.159Z"
   },
   {
    "duration": 141,
    "start_time": "2022-08-21T09:14:02.205Z"
   },
   {
    "duration": 144,
    "start_time": "2022-08-21T09:14:02.348Z"
   },
   {
    "duration": 14,
    "start_time": "2022-08-21T09:14:02.495Z"
   },
   {
    "duration": 156,
    "start_time": "2022-08-21T09:14:02.510Z"
   },
   {
    "duration": 7,
    "start_time": "2022-08-21T09:14:02.668Z"
   },
   {
    "duration": 181,
    "start_time": "2022-08-21T09:14:02.676Z"
   },
   {
    "duration": 7,
    "start_time": "2022-08-21T09:14:02.861Z"
   },
   {
    "duration": 147,
    "start_time": "2022-08-21T09:14:02.870Z"
   },
   {
    "duration": 10,
    "start_time": "2022-08-21T09:14:03.019Z"
   },
   {
    "duration": 12,
    "start_time": "2022-08-21T09:14:03.030Z"
   },
   {
    "duration": 78,
    "start_time": "2022-08-21T09:17:39.421Z"
   },
   {
    "duration": 16,
    "start_time": "2022-08-21T09:17:39.501Z"
   },
   {
    "duration": 20,
    "start_time": "2022-08-21T09:17:39.519Z"
   },
   {
    "duration": 12,
    "start_time": "2022-08-21T09:17:39.541Z"
   },
   {
    "duration": 52,
    "start_time": "2022-08-21T09:17:39.555Z"
   },
   {
    "duration": 3,
    "start_time": "2022-08-21T09:17:39.609Z"
   },
   {
    "duration": 11,
    "start_time": "2022-08-21T09:17:39.614Z"
   },
   {
    "duration": 5,
    "start_time": "2022-08-21T09:17:39.626Z"
   },
   {
    "duration": 7,
    "start_time": "2022-08-21T09:17:39.633Z"
   },
   {
    "duration": 7,
    "start_time": "2022-08-21T09:17:39.642Z"
   },
   {
    "duration": 61,
    "start_time": "2022-08-21T09:17:39.651Z"
   },
   {
    "duration": 11,
    "start_time": "2022-08-21T09:17:39.714Z"
   },
   {
    "duration": 5,
    "start_time": "2022-08-21T09:17:39.726Z"
   },
   {
    "duration": 10,
    "start_time": "2022-08-21T09:17:39.734Z"
   },
   {
    "duration": 18,
    "start_time": "2022-08-21T09:17:39.745Z"
   },
   {
    "duration": 26,
    "start_time": "2022-08-21T09:17:39.786Z"
   },
   {
    "duration": 4,
    "start_time": "2022-08-21T09:17:39.814Z"
   },
   {
    "duration": 15,
    "start_time": "2022-08-21T09:17:39.820Z"
   },
   {
    "duration": 9,
    "start_time": "2022-08-21T09:17:39.836Z"
   },
   {
    "duration": 3,
    "start_time": "2022-08-21T09:17:39.847Z"
   },
   {
    "duration": 36,
    "start_time": "2022-08-21T09:17:39.852Z"
   },
   {
    "duration": 17,
    "start_time": "2022-08-21T09:17:39.889Z"
   },
   {
    "duration": 150,
    "start_time": "2022-08-21T09:17:39.907Z"
   },
   {
    "duration": 136,
    "start_time": "2022-08-21T09:17:40.059Z"
   },
   {
    "duration": 116,
    "start_time": "2022-08-21T09:17:40.197Z"
   },
   {
    "duration": 0,
    "start_time": "2022-08-21T09:17:40.316Z"
   },
   {
    "duration": 0,
    "start_time": "2022-08-21T09:17:40.317Z"
   },
   {
    "duration": 0,
    "start_time": "2022-08-21T09:17:40.318Z"
   },
   {
    "duration": 0,
    "start_time": "2022-08-21T09:17:40.320Z"
   },
   {
    "duration": 0,
    "start_time": "2022-08-21T09:17:40.322Z"
   },
   {
    "duration": 0,
    "start_time": "2022-08-21T09:17:40.324Z"
   },
   {
    "duration": 0,
    "start_time": "2022-08-21T09:17:40.325Z"
   },
   {
    "duration": 0,
    "start_time": "2022-08-21T09:17:40.327Z"
   },
   {
    "duration": 0,
    "start_time": "2022-08-21T09:17:40.328Z"
   },
   {
    "duration": 0,
    "start_time": "2022-08-21T09:17:40.330Z"
   },
   {
    "duration": 0,
    "start_time": "2022-08-21T09:17:40.331Z"
   },
   {
    "duration": 1,
    "start_time": "2022-08-21T09:17:40.332Z"
   },
   {
    "duration": 0,
    "start_time": "2022-08-21T09:17:40.334Z"
   },
   {
    "duration": 0,
    "start_time": "2022-08-21T09:17:40.335Z"
   },
   {
    "duration": 0,
    "start_time": "2022-08-21T09:17:40.336Z"
   },
   {
    "duration": 0,
    "start_time": "2022-08-21T09:17:40.338Z"
   },
   {
    "duration": 0,
    "start_time": "2022-08-21T09:17:40.339Z"
   },
   {
    "duration": 0,
    "start_time": "2022-08-21T09:17:40.341Z"
   },
   {
    "duration": 0,
    "start_time": "2022-08-21T09:17:40.342Z"
   },
   {
    "duration": 10,
    "start_time": "2022-08-21T09:18:18.070Z"
   },
   {
    "duration": 80,
    "start_time": "2022-08-21T09:18:23.431Z"
   },
   {
    "duration": 14,
    "start_time": "2022-08-21T09:18:23.513Z"
   },
   {
    "duration": 16,
    "start_time": "2022-08-21T09:18:23.528Z"
   },
   {
    "duration": 9,
    "start_time": "2022-08-21T09:18:23.546Z"
   },
   {
    "duration": 57,
    "start_time": "2022-08-21T09:18:23.557Z"
   },
   {
    "duration": 3,
    "start_time": "2022-08-21T09:18:23.616Z"
   },
   {
    "duration": 10,
    "start_time": "2022-08-21T09:18:23.621Z"
   },
   {
    "duration": 4,
    "start_time": "2022-08-21T09:18:23.633Z"
   },
   {
    "duration": 9,
    "start_time": "2022-08-21T09:18:23.638Z"
   },
   {
    "duration": 5,
    "start_time": "2022-08-21T09:18:23.649Z"
   },
   {
    "duration": 59,
    "start_time": "2022-08-21T09:18:23.655Z"
   },
   {
    "duration": 13,
    "start_time": "2022-08-21T09:18:23.716Z"
   },
   {
    "duration": 4,
    "start_time": "2022-08-21T09:18:23.730Z"
   },
   {
    "duration": 10,
    "start_time": "2022-08-21T09:18:23.738Z"
   },
   {
    "duration": 46,
    "start_time": "2022-08-21T09:18:23.750Z"
   },
   {
    "duration": 18,
    "start_time": "2022-08-21T09:18:23.797Z"
   },
   {
    "duration": 4,
    "start_time": "2022-08-21T09:18:23.816Z"
   },
   {
    "duration": 12,
    "start_time": "2022-08-21T09:18:23.821Z"
   },
   {
    "duration": 8,
    "start_time": "2022-08-21T09:18:23.835Z"
   },
   {
    "duration": 4,
    "start_time": "2022-08-21T09:18:23.844Z"
   },
   {
    "duration": 37,
    "start_time": "2022-08-21T09:18:23.850Z"
   },
   {
    "duration": 18,
    "start_time": "2022-08-21T09:18:23.889Z"
   },
   {
    "duration": 149,
    "start_time": "2022-08-21T09:18:23.909Z"
   },
   {
    "duration": 150,
    "start_time": "2022-08-21T09:18:24.060Z"
   },
   {
    "duration": 10,
    "start_time": "2022-08-21T09:18:24.211Z"
   },
   {
    "duration": 21,
    "start_time": "2022-08-21T09:18:24.222Z"
   },
   {
    "duration": 157,
    "start_time": "2022-08-21T09:18:24.244Z"
   },
   {
    "duration": 239,
    "start_time": "2022-08-21T09:18:24.403Z"
   },
   {
    "duration": 13,
    "start_time": "2022-08-21T09:18:24.644Z"
   },
   {
    "duration": 37,
    "start_time": "2022-08-21T09:18:24.659Z"
   },
   {
    "duration": 134,
    "start_time": "2022-08-21T09:18:24.697Z"
   },
   {
    "duration": 133,
    "start_time": "2022-08-21T09:18:24.832Z"
   },
   {
    "duration": 7,
    "start_time": "2022-08-21T09:18:24.967Z"
   },
   {
    "duration": 30,
    "start_time": "2022-08-21T09:18:24.975Z"
   },
   {
    "duration": 133,
    "start_time": "2022-08-21T09:18:25.007Z"
   },
   {
    "duration": 136,
    "start_time": "2022-08-21T09:18:25.142Z"
   },
   {
    "duration": 12,
    "start_time": "2022-08-21T09:18:25.280Z"
   },
   {
    "duration": 145,
    "start_time": "2022-08-21T09:18:25.294Z"
   },
   {
    "duration": 7,
    "start_time": "2022-08-21T09:18:25.441Z"
   },
   {
    "duration": 160,
    "start_time": "2022-08-21T09:18:25.450Z"
   },
   {
    "duration": 7,
    "start_time": "2022-08-21T09:18:25.615Z"
   },
   {
    "duration": 125,
    "start_time": "2022-08-21T09:18:25.623Z"
   },
   {
    "duration": 8,
    "start_time": "2022-08-21T09:18:25.750Z"
   },
   {
    "duration": 23,
    "start_time": "2022-08-21T09:18:25.759Z"
   },
   {
    "duration": 14,
    "start_time": "2022-08-21T09:19:24.144Z"
   },
   {
    "duration": 14,
    "start_time": "2022-08-21T09:19:33.551Z"
   },
   {
    "duration": 163,
    "start_time": "2022-08-21T09:20:39.199Z"
   },
   {
    "duration": 127,
    "start_time": "2022-08-21T09:20:55.510Z"
   },
   {
    "duration": 10,
    "start_time": "2022-08-21T09:22:00.722Z"
   },
   {
    "duration": 24,
    "start_time": "2022-08-21T09:22:34.651Z"
   },
   {
    "duration": 124,
    "start_time": "2022-08-21T09:23:13.218Z"
   },
   {
    "duration": 141,
    "start_time": "2022-08-21T09:23:30.808Z"
   },
   {
    "duration": 10,
    "start_time": "2022-08-21T09:24:12.977Z"
   },
   {
    "duration": 73,
    "start_time": "2022-08-21T09:26:14.516Z"
   },
   {
    "duration": 15,
    "start_time": "2022-08-21T09:26:14.591Z"
   },
   {
    "duration": 17,
    "start_time": "2022-08-21T09:26:14.607Z"
   },
   {
    "duration": 10,
    "start_time": "2022-08-21T09:26:14.625Z"
   },
   {
    "duration": 39,
    "start_time": "2022-08-21T09:26:14.637Z"
   },
   {
    "duration": 4,
    "start_time": "2022-08-21T09:26:14.678Z"
   },
   {
    "duration": 10,
    "start_time": "2022-08-21T09:26:14.683Z"
   },
   {
    "duration": 4,
    "start_time": "2022-08-21T09:26:14.695Z"
   },
   {
    "duration": 7,
    "start_time": "2022-08-21T09:26:14.701Z"
   },
   {
    "duration": 5,
    "start_time": "2022-08-21T09:26:14.709Z"
   },
   {
    "duration": 37,
    "start_time": "2022-08-21T09:26:14.716Z"
   },
   {
    "duration": 11,
    "start_time": "2022-08-21T09:26:14.754Z"
   },
   {
    "duration": 4,
    "start_time": "2022-08-21T09:26:14.766Z"
   },
   {
    "duration": 22,
    "start_time": "2022-08-21T09:26:14.772Z"
   },
   {
    "duration": 30,
    "start_time": "2022-08-21T09:26:14.795Z"
   },
   {
    "duration": 17,
    "start_time": "2022-08-21T09:26:14.827Z"
   },
   {
    "duration": 4,
    "start_time": "2022-08-21T09:26:14.846Z"
   },
   {
    "duration": 11,
    "start_time": "2022-08-21T09:26:15.105Z"
   },
   {
    "duration": 12,
    "start_time": "2022-08-21T09:26:15.118Z"
   },
   {
    "duration": 9,
    "start_time": "2022-08-21T09:26:15.132Z"
   },
   {
    "duration": 15,
    "start_time": "2022-08-21T09:26:15.143Z"
   },
   {
    "duration": 21,
    "start_time": "2022-08-21T09:26:15.187Z"
   },
   {
    "duration": 162,
    "start_time": "2022-08-21T09:26:15.209Z"
   },
   {
    "duration": 143,
    "start_time": "2022-08-21T09:26:15.373Z"
   },
   {
    "duration": 10,
    "start_time": "2022-08-21T09:26:15.518Z"
   },
   {
    "duration": 24,
    "start_time": "2022-08-21T09:26:15.530Z"
   },
   {
    "duration": 164,
    "start_time": "2022-08-21T09:26:15.557Z"
   },
   {
    "duration": 142,
    "start_time": "2022-08-21T09:26:15.723Z"
   },
   {
    "duration": 24,
    "start_time": "2022-08-21T09:26:15.867Z"
   },
   {
    "duration": 22,
    "start_time": "2022-08-21T09:26:15.893Z"
   },
   {
    "duration": 165,
    "start_time": "2022-08-21T09:26:15.917Z"
   },
   {
    "duration": 134,
    "start_time": "2022-08-21T09:26:16.083Z"
   },
   {
    "duration": 10,
    "start_time": "2022-08-21T09:26:16.219Z"
   },
   {
    "duration": 37,
    "start_time": "2022-08-21T09:26:16.230Z"
   },
   {
    "duration": 196,
    "start_time": "2022-08-21T09:26:16.269Z"
   },
   {
    "duration": 149,
    "start_time": "2022-08-21T09:26:16.467Z"
   },
   {
    "duration": 8,
    "start_time": "2022-08-21T09:26:16.618Z"
   },
   {
    "duration": 170,
    "start_time": "2022-08-21T09:26:16.627Z"
   },
   {
    "duration": 8,
    "start_time": "2022-08-21T09:26:16.798Z"
   },
   {
    "duration": 311,
    "start_time": "2022-08-21T09:26:16.807Z"
   },
   {
    "duration": 8,
    "start_time": "2022-08-21T09:26:17.119Z"
   },
   {
    "duration": 132,
    "start_time": "2022-08-21T09:26:17.128Z"
   },
   {
    "duration": 8,
    "start_time": "2022-08-21T09:26:17.261Z"
   },
   {
    "duration": 149,
    "start_time": "2022-08-21T09:26:17.270Z"
   },
   {
    "duration": 7,
    "start_time": "2022-08-21T09:26:17.422Z"
   },
   {
    "duration": 15,
    "start_time": "2022-08-21T09:26:17.430Z"
   },
   {
    "duration": 153,
    "start_time": "2022-08-21T09:26:17.447Z"
   },
   {
    "duration": 72,
    "start_time": "2022-08-21T09:28:37.078Z"
   },
   {
    "duration": 15,
    "start_time": "2022-08-21T09:28:37.152Z"
   },
   {
    "duration": 20,
    "start_time": "2022-08-21T09:28:37.168Z"
   },
   {
    "duration": 12,
    "start_time": "2022-08-21T09:28:37.190Z"
   },
   {
    "duration": 35,
    "start_time": "2022-08-21T09:28:37.204Z"
   },
   {
    "duration": 3,
    "start_time": "2022-08-21T09:28:37.241Z"
   },
   {
    "duration": 15,
    "start_time": "2022-08-21T09:28:37.245Z"
   },
   {
    "duration": 7,
    "start_time": "2022-08-21T09:28:37.262Z"
   },
   {
    "duration": 17,
    "start_time": "2022-08-21T09:28:37.270Z"
   },
   {
    "duration": 7,
    "start_time": "2022-08-21T09:28:37.289Z"
   },
   {
    "duration": 36,
    "start_time": "2022-08-21T09:28:37.297Z"
   },
   {
    "duration": 9,
    "start_time": "2022-08-21T09:28:37.334Z"
   },
   {
    "duration": 9,
    "start_time": "2022-08-21T09:28:37.345Z"
   },
   {
    "duration": 13,
    "start_time": "2022-08-21T09:28:37.357Z"
   },
   {
    "duration": 29,
    "start_time": "2022-08-21T09:28:37.372Z"
   },
   {
    "duration": 18,
    "start_time": "2022-08-21T09:28:37.402Z"
   },
   {
    "duration": 3,
    "start_time": "2022-08-21T09:28:37.421Z"
   },
   {
    "duration": 13,
    "start_time": "2022-08-21T09:28:37.426Z"
   },
   {
    "duration": 13,
    "start_time": "2022-08-21T09:28:37.441Z"
   },
   {
    "duration": 12,
    "start_time": "2022-08-21T09:28:37.455Z"
   },
   {
    "duration": 24,
    "start_time": "2022-08-21T09:28:37.469Z"
   },
   {
    "duration": 20,
    "start_time": "2022-08-21T09:28:37.495Z"
   },
   {
    "duration": 149,
    "start_time": "2022-08-21T09:28:37.517Z"
   },
   {
    "duration": 134,
    "start_time": "2022-08-21T09:28:37.667Z"
   },
   {
    "duration": 10,
    "start_time": "2022-08-21T09:28:37.803Z"
   },
   {
    "duration": 24,
    "start_time": "2022-08-21T09:28:37.815Z"
   },
   {
    "duration": 149,
    "start_time": "2022-08-21T09:28:37.840Z"
   },
   {
    "duration": 149,
    "start_time": "2022-08-21T09:28:37.990Z"
   },
   {
    "duration": 13,
    "start_time": "2022-08-21T09:28:38.140Z"
   },
   {
    "duration": 33,
    "start_time": "2022-08-21T09:28:38.155Z"
   },
   {
    "duration": 123,
    "start_time": "2022-08-21T09:28:38.190Z"
   },
   {
    "duration": 128,
    "start_time": "2022-08-21T09:28:38.315Z"
   },
   {
    "duration": 7,
    "start_time": "2022-08-21T09:28:38.445Z"
   },
   {
    "duration": 29,
    "start_time": "2022-08-21T09:28:38.453Z"
   },
   {
    "duration": 122,
    "start_time": "2022-08-21T09:28:38.487Z"
   },
   {
    "duration": 123,
    "start_time": "2022-08-21T09:28:38.610Z"
   },
   {
    "duration": 8,
    "start_time": "2022-08-21T09:28:38.734Z"
   },
   {
    "duration": 147,
    "start_time": "2022-08-21T09:28:38.743Z"
   },
   {
    "duration": 6,
    "start_time": "2022-08-21T09:28:38.892Z"
   },
   {
    "duration": 157,
    "start_time": "2022-08-21T09:28:38.900Z"
   },
   {
    "duration": 7,
    "start_time": "2022-08-21T09:28:39.061Z"
   },
   {
    "duration": 127,
    "start_time": "2022-08-21T09:28:39.069Z"
   },
   {
    "duration": 7,
    "start_time": "2022-08-21T09:28:39.197Z"
   },
   {
    "duration": 138,
    "start_time": "2022-08-21T09:28:39.205Z"
   },
   {
    "duration": 7,
    "start_time": "2022-08-21T09:28:39.345Z"
   },
   {
    "duration": 13,
    "start_time": "2022-08-21T09:28:39.353Z"
   },
   {
    "duration": 132,
    "start_time": "2022-08-21T09:28:39.368Z"
   },
   {
    "duration": 74,
    "start_time": "2022-08-21T09:46:48.705Z"
   },
   {
    "duration": 14,
    "start_time": "2022-08-21T09:46:48.781Z"
   },
   {
    "duration": 32,
    "start_time": "2022-08-21T09:46:48.797Z"
   },
   {
    "duration": 13,
    "start_time": "2022-08-21T09:46:48.831Z"
   },
   {
    "duration": 45,
    "start_time": "2022-08-21T09:46:48.846Z"
   },
   {
    "duration": 3,
    "start_time": "2022-08-21T09:46:48.893Z"
   },
   {
    "duration": 21,
    "start_time": "2022-08-21T09:46:48.898Z"
   },
   {
    "duration": 6,
    "start_time": "2022-08-21T09:46:48.921Z"
   },
   {
    "duration": 10,
    "start_time": "2022-08-21T09:46:48.928Z"
   },
   {
    "duration": 11,
    "start_time": "2022-08-21T09:46:48.941Z"
   },
   {
    "duration": 45,
    "start_time": "2022-08-21T09:46:48.954Z"
   },
   {
    "duration": 10,
    "start_time": "2022-08-21T09:46:49.001Z"
   },
   {
    "duration": 6,
    "start_time": "2022-08-21T09:46:49.012Z"
   },
   {
    "duration": 19,
    "start_time": "2022-08-21T09:46:49.019Z"
   },
   {
    "duration": 25,
    "start_time": "2022-08-21T09:46:49.040Z"
   },
   {
    "duration": 21,
    "start_time": "2022-08-21T09:46:49.067Z"
   },
   {
    "duration": 3,
    "start_time": "2022-08-21T09:46:49.090Z"
   },
   {
    "duration": 17,
    "start_time": "2022-08-21T09:46:49.094Z"
   },
   {
    "duration": 17,
    "start_time": "2022-08-21T09:46:49.112Z"
   },
   {
    "duration": 3,
    "start_time": "2022-08-21T09:46:49.131Z"
   },
   {
    "duration": 11,
    "start_time": "2022-08-21T09:46:49.136Z"
   },
   {
    "duration": 20,
    "start_time": "2022-08-21T09:46:49.148Z"
   },
   {
    "duration": 128,
    "start_time": "2022-08-21T09:46:49.169Z"
   },
   {
    "duration": 131,
    "start_time": "2022-08-21T09:46:49.299Z"
   },
   {
    "duration": 9,
    "start_time": "2022-08-21T09:46:49.432Z"
   },
   {
    "duration": 30,
    "start_time": "2022-08-21T09:46:49.442Z"
   },
   {
    "duration": 133,
    "start_time": "2022-08-21T09:46:49.473Z"
   },
   {
    "duration": 140,
    "start_time": "2022-08-21T09:46:49.609Z"
   },
   {
    "duration": 12,
    "start_time": "2022-08-21T09:46:49.750Z"
   },
   {
    "duration": 32,
    "start_time": "2022-08-21T09:46:49.764Z"
   },
   {
    "duration": 126,
    "start_time": "2022-08-21T09:46:49.797Z"
   },
   {
    "duration": 130,
    "start_time": "2022-08-21T09:46:49.924Z"
   },
   {
    "duration": 7,
    "start_time": "2022-08-21T09:46:50.056Z"
   },
   {
    "duration": 38,
    "start_time": "2022-08-21T09:46:50.064Z"
   },
   {
    "duration": 123,
    "start_time": "2022-08-21T09:46:50.103Z"
   },
   {
    "duration": 133,
    "start_time": "2022-08-21T09:46:50.227Z"
   },
   {
    "duration": 8,
    "start_time": "2022-08-21T09:46:50.361Z"
   },
   {
    "duration": 316,
    "start_time": "2022-08-21T09:46:50.371Z"
   },
   {
    "duration": 7,
    "start_time": "2022-08-21T09:46:50.688Z"
   },
   {
    "duration": 156,
    "start_time": "2022-08-21T09:46:50.696Z"
   },
   {
    "duration": 7,
    "start_time": "2022-08-21T09:46:50.854Z"
   },
   {
    "duration": 122,
    "start_time": "2022-08-21T09:46:50.862Z"
   },
   {
    "duration": 7,
    "start_time": "2022-08-21T09:46:50.985Z"
   },
   {
    "duration": 146,
    "start_time": "2022-08-21T09:46:50.994Z"
   },
   {
    "duration": 7,
    "start_time": "2022-08-21T09:46:51.141Z"
   },
   {
    "duration": 27,
    "start_time": "2022-08-21T09:46:51.149Z"
   },
   {
    "duration": 131,
    "start_time": "2022-08-21T09:46:51.177Z"
   },
   {
    "duration": 11,
    "start_time": "2022-08-21T09:57:03.950Z"
   },
   {
    "duration": 10,
    "start_time": "2022-08-21T09:57:16.750Z"
   },
   {
    "duration": 80,
    "start_time": "2022-08-21T09:57:21.908Z"
   },
   {
    "duration": 16,
    "start_time": "2022-08-21T09:57:21.991Z"
   },
   {
    "duration": 16,
    "start_time": "2022-08-21T09:57:22.009Z"
   },
   {
    "duration": 15,
    "start_time": "2022-08-21T09:57:22.028Z"
   },
   {
    "duration": 61,
    "start_time": "2022-08-21T09:57:22.045Z"
   },
   {
    "duration": 3,
    "start_time": "2022-08-21T09:57:22.108Z"
   },
   {
    "duration": 10,
    "start_time": "2022-08-21T09:57:22.113Z"
   },
   {
    "duration": 5,
    "start_time": "2022-08-21T09:57:22.125Z"
   },
   {
    "duration": 6,
    "start_time": "2022-08-21T09:57:22.131Z"
   },
   {
    "duration": 5,
    "start_time": "2022-08-21T09:57:22.140Z"
   },
   {
    "duration": 59,
    "start_time": "2022-08-21T09:57:22.146Z"
   },
   {
    "duration": 11,
    "start_time": "2022-08-21T09:57:22.206Z"
   },
   {
    "duration": 5,
    "start_time": "2022-08-21T09:57:22.218Z"
   },
   {
    "duration": 15,
    "start_time": "2022-08-21T09:57:22.225Z"
   },
   {
    "duration": 31,
    "start_time": "2022-08-21T09:57:22.243Z"
   },
   {
    "duration": 24,
    "start_time": "2022-08-21T09:57:22.276Z"
   },
   {
    "duration": 4,
    "start_time": "2022-08-21T09:57:22.301Z"
   },
   {
    "duration": 14,
    "start_time": "2022-08-21T09:57:22.306Z"
   },
   {
    "duration": 11,
    "start_time": "2022-08-21T09:57:22.322Z"
   },
   {
    "duration": 5,
    "start_time": "2022-08-21T09:57:22.334Z"
   },
   {
    "duration": 11,
    "start_time": "2022-08-21T09:57:22.341Z"
   },
   {
    "duration": 17,
    "start_time": "2022-08-21T09:57:22.353Z"
   },
   {
    "duration": 135,
    "start_time": "2022-08-21T09:57:22.386Z"
   },
   {
    "duration": 128,
    "start_time": "2022-08-21T09:57:22.523Z"
   },
   {
    "duration": 10,
    "start_time": "2022-08-21T09:57:22.653Z"
   },
   {
    "duration": 33,
    "start_time": "2022-08-21T09:57:22.664Z"
   },
   {
    "duration": 145,
    "start_time": "2022-08-21T09:57:22.699Z"
   },
   {
    "duration": 144,
    "start_time": "2022-08-21T09:57:22.848Z"
   },
   {
    "duration": 12,
    "start_time": "2022-08-21T09:57:22.993Z"
   },
   {
    "duration": 19,
    "start_time": "2022-08-21T09:57:23.007Z"
   },
   {
    "duration": 134,
    "start_time": "2022-08-21T09:57:23.028Z"
   },
   {
    "duration": 133,
    "start_time": "2022-08-21T09:57:23.164Z"
   },
   {
    "duration": 8,
    "start_time": "2022-08-21T09:57:23.298Z"
   },
   {
    "duration": 23,
    "start_time": "2022-08-21T09:57:23.307Z"
   },
   {
    "duration": 137,
    "start_time": "2022-08-21T09:57:23.331Z"
   },
   {
    "duration": 125,
    "start_time": "2022-08-21T09:57:23.469Z"
   },
   {
    "duration": 7,
    "start_time": "2022-08-21T09:57:23.596Z"
   },
   {
    "duration": 146,
    "start_time": "2022-08-21T09:57:23.604Z"
   },
   {
    "duration": 7,
    "start_time": "2022-08-21T09:57:23.751Z"
   },
   {
    "duration": 157,
    "start_time": "2022-08-21T09:57:23.759Z"
   },
   {
    "duration": 7,
    "start_time": "2022-08-21T09:57:23.918Z"
   },
   {
    "duration": 119,
    "start_time": "2022-08-21T09:57:23.927Z"
   },
   {
    "duration": 7,
    "start_time": "2022-08-21T09:57:24.048Z"
   },
   {
    "duration": 145,
    "start_time": "2022-08-21T09:57:24.056Z"
   },
   {
    "duration": 7,
    "start_time": "2022-08-21T09:57:24.202Z"
   },
   {
    "duration": 13,
    "start_time": "2022-08-21T09:57:24.210Z"
   },
   {
    "duration": 138,
    "start_time": "2022-08-21T09:57:24.224Z"
   },
   {
    "duration": 5,
    "start_time": "2022-08-21T10:09:40.442Z"
   },
   {
    "duration": 129,
    "start_time": "2022-08-21T10:09:43.161Z"
   },
   {
    "duration": 4,
    "start_time": "2022-08-21T10:10:47.016Z"
   },
   {
    "duration": 124,
    "start_time": "2022-08-21T10:10:50.041Z"
   },
   {
    "duration": 127,
    "start_time": "2022-08-21T10:10:58.872Z"
   },
   {
    "duration": 10,
    "start_time": "2022-08-21T10:21:03.495Z"
   },
   {
    "duration": 720,
    "start_time": "2022-08-21T10:21:11.104Z"
   },
   {
    "duration": 4,
    "start_time": "2022-08-21T10:21:22.995Z"
   },
   {
    "duration": 4,
    "start_time": "2022-08-21T10:21:27.934Z"
   },
   {
    "duration": 9,
    "start_time": "2022-08-21T10:21:47.482Z"
   },
   {
    "duration": 8,
    "start_time": "2022-08-21T10:23:22.954Z"
   },
   {
    "duration": 8,
    "start_time": "2022-08-21T10:42:12.398Z"
   },
   {
    "duration": 47,
    "start_time": "2022-08-21T10:42:18.546Z"
   },
   {
    "duration": 22,
    "start_time": "2022-08-21T10:42:34.919Z"
   },
   {
    "duration": 12,
    "start_time": "2022-08-21T10:42:37.975Z"
   },
   {
    "duration": 10,
    "start_time": "2022-08-21T10:43:02.438Z"
   },
   {
    "duration": 10,
    "start_time": "2022-08-21T10:43:25.438Z"
   },
   {
    "duration": 8,
    "start_time": "2022-08-21T10:43:45.208Z"
   },
   {
    "duration": 4,
    "start_time": "2022-08-21T10:43:56.859Z"
   },
   {
    "duration": 943,
    "start_time": "2022-08-21T10:44:01.877Z"
   },
   {
    "duration": 7,
    "start_time": "2022-08-21T10:44:10.505Z"
   },
   {
    "duration": 7,
    "start_time": "2022-08-21T10:44:23.490Z"
   },
   {
    "duration": 6,
    "start_time": "2022-08-21T10:44:32.948Z"
   },
   {
    "duration": 11,
    "start_time": "2022-08-21T10:44:47.556Z"
   },
   {
    "duration": 9,
    "start_time": "2022-08-21T10:44:57.578Z"
   },
   {
    "duration": 6,
    "start_time": "2022-08-21T10:45:04.460Z"
   },
   {
    "duration": 6,
    "start_time": "2022-08-21T10:45:09.234Z"
   },
   {
    "duration": 6,
    "start_time": "2022-08-21T10:45:18.470Z"
   },
   {
    "duration": 8,
    "start_time": "2022-08-21T10:46:04.740Z"
   },
   {
    "duration": 10,
    "start_time": "2022-08-21T10:46:08.197Z"
   },
   {
    "duration": 88,
    "start_time": "2022-08-21T10:46:20.578Z"
   },
   {
    "duration": 16,
    "start_time": "2022-08-21T10:46:20.667Z"
   },
   {
    "duration": 16,
    "start_time": "2022-08-21T10:46:20.685Z"
   },
   {
    "duration": 16,
    "start_time": "2022-08-21T10:46:20.703Z"
   },
   {
    "duration": 38,
    "start_time": "2022-08-21T10:46:20.722Z"
   },
   {
    "duration": 4,
    "start_time": "2022-08-21T10:46:20.762Z"
   },
   {
    "duration": 9,
    "start_time": "2022-08-21T10:46:20.787Z"
   },
   {
    "duration": 5,
    "start_time": "2022-08-21T10:46:20.797Z"
   },
   {
    "duration": 7,
    "start_time": "2022-08-21T10:46:20.804Z"
   },
   {
    "duration": 5,
    "start_time": "2022-08-21T10:46:20.813Z"
   },
   {
    "duration": 37,
    "start_time": "2022-08-21T10:46:20.819Z"
   },
   {
    "duration": 39,
    "start_time": "2022-08-21T10:46:20.857Z"
   },
   {
    "duration": 5,
    "start_time": "2022-08-21T10:46:20.898Z"
   },
   {
    "duration": 15,
    "start_time": "2022-08-21T10:46:20.906Z"
   },
   {
    "duration": 26,
    "start_time": "2022-08-21T10:46:20.923Z"
   },
   {
    "duration": 36,
    "start_time": "2022-08-21T10:46:20.951Z"
   },
   {
    "duration": 4,
    "start_time": "2022-08-21T10:46:20.988Z"
   },
   {
    "duration": 17,
    "start_time": "2022-08-21T10:46:20.994Z"
   },
   {
    "duration": 8,
    "start_time": "2022-08-21T10:46:21.014Z"
   },
   {
    "duration": 5,
    "start_time": "2022-08-21T10:46:21.023Z"
   },
   {
    "duration": 13,
    "start_time": "2022-08-21T10:46:21.030Z"
   },
   {
    "duration": 42,
    "start_time": "2022-08-21T10:46:21.045Z"
   },
   {
    "duration": 148,
    "start_time": "2022-08-21T10:46:21.089Z"
   },
   {
    "duration": 157,
    "start_time": "2022-08-21T10:46:21.238Z"
   },
   {
    "duration": 10,
    "start_time": "2022-08-21T10:46:21.397Z"
   },
   {
    "duration": 21,
    "start_time": "2022-08-21T10:46:21.409Z"
   },
   {
    "duration": 166,
    "start_time": "2022-08-21T10:46:21.432Z"
   },
   {
    "duration": 154,
    "start_time": "2022-08-21T10:46:21.600Z"
   },
   {
    "duration": 13,
    "start_time": "2022-08-21T10:46:21.756Z"
   },
   {
    "duration": 37,
    "start_time": "2022-08-21T10:46:21.771Z"
   },
   {
    "duration": 137,
    "start_time": "2022-08-21T10:46:21.810Z"
   },
   {
    "duration": 145,
    "start_time": "2022-08-21T10:46:21.949Z"
   },
   {
    "duration": 8,
    "start_time": "2022-08-21T10:46:22.098Z"
   },
   {
    "duration": 25,
    "start_time": "2022-08-21T10:46:22.107Z"
   },
   {
    "duration": 138,
    "start_time": "2022-08-21T10:46:22.133Z"
   },
   {
    "duration": 140,
    "start_time": "2022-08-21T10:46:22.272Z"
   },
   {
    "duration": 7,
    "start_time": "2022-08-21T10:46:22.414Z"
   },
   {
    "duration": 147,
    "start_time": "2022-08-21T10:46:22.423Z"
   },
   {
    "duration": 16,
    "start_time": "2022-08-21T10:46:22.572Z"
   },
   {
    "duration": 166,
    "start_time": "2022-08-21T10:46:22.590Z"
   },
   {
    "duration": 7,
    "start_time": "2022-08-21T10:46:22.758Z"
   },
   {
    "duration": 337,
    "start_time": "2022-08-21T10:46:22.768Z"
   },
   {
    "duration": 11,
    "start_time": "2022-08-21T10:46:23.117Z"
   },
   {
    "duration": 149,
    "start_time": "2022-08-21T10:46:23.130Z"
   },
   {
    "duration": 8,
    "start_time": "2022-08-21T10:46:23.286Z"
   },
   {
    "duration": 12,
    "start_time": "2022-08-21T10:46:23.295Z"
   },
   {
    "duration": 152,
    "start_time": "2022-08-21T10:46:23.309Z"
   },
   {
    "duration": 5,
    "start_time": "2022-08-21T10:46:23.463Z"
   },
   {
    "duration": 148,
    "start_time": "2022-08-21T10:46:23.469Z"
   },
   {
    "duration": 9,
    "start_time": "2022-08-21T10:46:23.619Z"
   },
   {
    "duration": 13,
    "start_time": "2022-08-21T10:46:23.630Z"
   },
   {
    "duration": 725,
    "start_time": "2022-08-21T18:26:19.788Z"
   },
   {
    "duration": 20,
    "start_time": "2022-08-21T18:26:20.514Z"
   },
   {
    "duration": 13,
    "start_time": "2022-08-21T18:26:20.535Z"
   },
   {
    "duration": 8,
    "start_time": "2022-08-21T18:26:20.549Z"
   },
   {
    "duration": 39,
    "start_time": "2022-08-21T18:26:20.558Z"
   },
   {
    "duration": 3,
    "start_time": "2022-08-21T18:26:20.599Z"
   },
   {
    "duration": 14,
    "start_time": "2022-08-21T18:26:20.603Z"
   },
   {
    "duration": 6,
    "start_time": "2022-08-21T18:26:20.618Z"
   },
   {
    "duration": 12,
    "start_time": "2022-08-21T18:26:20.625Z"
   },
   {
    "duration": 4,
    "start_time": "2022-08-21T18:26:20.639Z"
   },
   {
    "duration": 46,
    "start_time": "2022-08-21T18:26:20.644Z"
   },
   {
    "duration": 8,
    "start_time": "2022-08-21T18:26:20.691Z"
   },
   {
    "duration": 4,
    "start_time": "2022-08-21T18:26:20.701Z"
   },
   {
    "duration": 12,
    "start_time": "2022-08-21T18:26:20.707Z"
   },
   {
    "duration": 17,
    "start_time": "2022-08-21T18:26:20.721Z"
   },
   {
    "duration": 15,
    "start_time": "2022-08-21T18:26:20.739Z"
   },
   {
    "duration": 3,
    "start_time": "2022-08-21T18:26:20.756Z"
   },
   {
    "duration": 9,
    "start_time": "2022-08-21T18:26:20.784Z"
   },
   {
    "duration": 8,
    "start_time": "2022-08-21T18:26:20.795Z"
   },
   {
    "duration": 5,
    "start_time": "2022-08-21T18:26:20.804Z"
   },
   {
    "duration": 11,
    "start_time": "2022-08-21T18:26:20.811Z"
   },
   {
    "duration": 15,
    "start_time": "2022-08-21T18:26:20.823Z"
   },
   {
    "duration": 1003,
    "start_time": "2022-08-21T18:26:20.839Z"
   },
   {
    "duration": 120,
    "start_time": "2022-08-21T18:26:21.843Z"
   },
   {
    "duration": 8,
    "start_time": "2022-08-21T18:26:21.965Z"
   },
   {
    "duration": 17,
    "start_time": "2022-08-21T18:26:21.985Z"
   },
   {
    "duration": 136,
    "start_time": "2022-08-21T18:26:22.004Z"
   },
   {
    "duration": 124,
    "start_time": "2022-08-21T18:26:22.143Z"
   },
   {
    "duration": 21,
    "start_time": "2022-08-21T18:26:22.269Z"
   },
   {
    "duration": 19,
    "start_time": "2022-08-21T18:26:22.292Z"
   },
   {
    "duration": 123,
    "start_time": "2022-08-21T18:26:22.313Z"
   },
   {
    "duration": 115,
    "start_time": "2022-08-21T18:26:22.438Z"
   },
   {
    "duration": 8,
    "start_time": "2022-08-21T18:26:22.554Z"
   },
   {
    "duration": 36,
    "start_time": "2022-08-21T18:26:22.564Z"
   },
   {
    "duration": 118,
    "start_time": "2022-08-21T18:26:22.602Z"
   },
   {
    "duration": 134,
    "start_time": "2022-08-21T18:26:22.722Z"
   },
   {
    "duration": 7,
    "start_time": "2022-08-21T18:26:22.857Z"
   },
   {
    "duration": 176,
    "start_time": "2022-08-21T18:26:22.866Z"
   },
   {
    "duration": 6,
    "start_time": "2022-08-21T18:26:23.043Z"
   },
   {
    "duration": 209,
    "start_time": "2022-08-21T18:26:23.051Z"
   },
   {
    "duration": 6,
    "start_time": "2022-08-21T18:26:23.262Z"
   },
   {
    "duration": 127,
    "start_time": "2022-08-21T18:26:23.270Z"
   },
   {
    "duration": 7,
    "start_time": "2022-08-21T18:26:23.399Z"
   },
   {
    "duration": 140,
    "start_time": "2022-08-21T18:26:23.407Z"
   },
   {
    "duration": 6,
    "start_time": "2022-08-21T18:26:23.549Z"
   },
   {
    "duration": 10,
    "start_time": "2022-08-21T18:26:23.557Z"
   },
   {
    "duration": 139,
    "start_time": "2022-08-21T18:26:23.569Z"
   },
   {
    "duration": 4,
    "start_time": "2022-08-21T18:26:23.710Z"
   },
   {
    "duration": 136,
    "start_time": "2022-08-21T18:26:23.715Z"
   },
   {
    "duration": 8,
    "start_time": "2022-08-21T18:26:23.853Z"
   },
   {
    "duration": 13,
    "start_time": "2022-08-21T18:26:23.862Z"
   },
   {
    "duration": 48,
    "start_time": "2022-08-21T18:27:17.139Z"
   },
   {
    "duration": 44,
    "start_time": "2022-08-25T04:46:34.587Z"
   },
   {
    "duration": 618,
    "start_time": "2022-08-25T04:46:43.047Z"
   },
   {
    "duration": 21,
    "start_time": "2022-08-25T04:46:43.667Z"
   },
   {
    "duration": 14,
    "start_time": "2022-08-25T04:46:43.689Z"
   },
   {
    "duration": 12,
    "start_time": "2022-08-25T04:46:44.306Z"
   },
   {
    "duration": 32,
    "start_time": "2022-08-25T04:46:44.639Z"
   },
   {
    "duration": 4,
    "start_time": "2022-08-25T04:46:45.147Z"
   },
   {
    "duration": 9,
    "start_time": "2022-08-25T04:46:45.494Z"
   },
   {
    "duration": 4,
    "start_time": "2022-08-25T04:46:45.987Z"
   },
   {
    "duration": 7,
    "start_time": "2022-08-25T04:46:46.299Z"
   },
   {
    "duration": 5,
    "start_time": "2022-08-25T04:46:46.619Z"
   },
   {
    "duration": 31,
    "start_time": "2022-08-25T04:46:47.127Z"
   },
   {
    "duration": 10,
    "start_time": "2022-08-25T04:46:47.467Z"
   },
   {
    "duration": 4,
    "start_time": "2022-08-25T04:46:47.967Z"
   },
   {
    "duration": 11,
    "start_time": "2022-08-25T04:46:48.479Z"
   },
   {
    "duration": 19,
    "start_time": "2022-08-25T04:46:48.839Z"
   },
   {
    "duration": 18,
    "start_time": "2022-08-25T04:46:48.987Z"
   },
   {
    "duration": 4,
    "start_time": "2022-08-25T04:46:49.527Z"
   },
   {
    "duration": 9,
    "start_time": "2022-08-25T04:46:49.707Z"
   },
   {
    "duration": 6,
    "start_time": "2022-08-25T04:46:50.048Z"
   },
   {
    "duration": 3,
    "start_time": "2022-08-25T04:46:50.395Z"
   },
   {
    "duration": 8,
    "start_time": "2022-08-25T04:46:50.547Z"
   },
   {
    "duration": 16,
    "start_time": "2022-08-25T04:46:51.087Z"
   },
   {
    "duration": 407,
    "start_time": "2022-08-25T04:46:51.407Z"
   },
   {
    "duration": 538,
    "start_time": "2022-08-25T04:46:51.816Z"
   },
   {
    "duration": 0,
    "start_time": "2022-08-25T04:46:52.355Z"
   },
   {
    "duration": 0,
    "start_time": "2022-08-25T04:46:52.357Z"
   },
   {
    "duration": 22,
    "start_time": "2022-08-25T04:46:53.266Z"
   },
   {
    "duration": 18,
    "start_time": "2022-08-25T04:46:53.447Z"
   },
   {
    "duration": 140,
    "start_time": "2022-08-25T04:46:53.787Z"
   },
   {
    "duration": 131,
    "start_time": "2022-08-25T04:46:54.188Z"
   },
   {
    "duration": 15,
    "start_time": "2022-08-25T04:47:01.667Z"
   },
   {
    "duration": 17,
    "start_time": "2022-08-25T04:47:44.505Z"
   },
   {
    "duration": 698,
    "start_time": "2022-08-25T04:47:51.067Z"
   },
   {
    "duration": 707,
    "start_time": "2022-08-25T04:47:54.227Z"
   },
   {
    "duration": 71,
    "start_time": "2022-08-25T04:47:57.647Z"
   },
   {
    "duration": 15,
    "start_time": "2022-08-25T04:47:57.720Z"
   },
   {
    "duration": 17,
    "start_time": "2022-08-25T04:47:57.736Z"
   },
   {
    "duration": 33,
    "start_time": "2022-08-25T04:47:57.755Z"
   },
   {
    "duration": 32,
    "start_time": "2022-08-25T04:47:57.790Z"
   },
   {
    "duration": 4,
    "start_time": "2022-08-25T04:47:57.823Z"
   },
   {
    "duration": 9,
    "start_time": "2022-08-25T04:47:57.829Z"
   },
   {
    "duration": 4,
    "start_time": "2022-08-25T04:47:57.840Z"
   },
   {
    "duration": 41,
    "start_time": "2022-08-25T04:47:57.846Z"
   },
   {
    "duration": 5,
    "start_time": "2022-08-25T04:47:57.889Z"
   },
   {
    "duration": 37,
    "start_time": "2022-08-25T04:47:57.895Z"
   },
   {
    "duration": 10,
    "start_time": "2022-08-25T04:47:57.934Z"
   },
   {
    "duration": 4,
    "start_time": "2022-08-25T04:47:57.947Z"
   },
   {
    "duration": 38,
    "start_time": "2022-08-25T04:47:57.954Z"
   },
   {
    "duration": 24,
    "start_time": "2022-08-25T04:47:57.994Z"
   },
   {
    "duration": 20,
    "start_time": "2022-08-25T04:47:58.019Z"
   },
   {
    "duration": 4,
    "start_time": "2022-08-25T04:47:58.040Z"
   },
   {
    "duration": 14,
    "start_time": "2022-08-25T04:47:58.046Z"
   },
   {
    "duration": 6,
    "start_time": "2022-08-25T04:47:58.086Z"
   },
   {
    "duration": 4,
    "start_time": "2022-08-25T04:47:58.094Z"
   },
   {
    "duration": 12,
    "start_time": "2022-08-25T04:47:58.099Z"
   },
   {
    "duration": 15,
    "start_time": "2022-08-25T04:47:58.112Z"
   },
   {
    "duration": 16,
    "start_time": "2022-08-25T04:47:58.128Z"
   },
   {
    "duration": 152,
    "start_time": "2022-08-25T04:47:58.146Z"
   },
   {
    "duration": 132,
    "start_time": "2022-08-25T04:47:58.299Z"
   },
   {
    "duration": 9,
    "start_time": "2022-08-25T04:47:58.433Z"
   },
   {
    "duration": 24,
    "start_time": "2022-08-25T04:47:58.443Z"
   },
   {
    "duration": 31,
    "start_time": "2022-08-25T04:47:58.469Z"
   },
   {
    "duration": 143,
    "start_time": "2022-08-25T04:47:58.502Z"
   },
   {
    "duration": 141,
    "start_time": "2022-08-25T04:47:58.647Z"
   },
   {
    "duration": 13,
    "start_time": "2022-08-25T04:47:58.790Z"
   },
   {
    "duration": 22,
    "start_time": "2022-08-25T04:47:58.804Z"
   },
   {
    "duration": 132,
    "start_time": "2022-08-25T04:47:58.827Z"
   },
   {
    "duration": 194,
    "start_time": "2022-08-25T04:47:58.960Z"
   },
   {
    "duration": 9,
    "start_time": "2022-08-25T04:47:59.156Z"
   },
   {
    "duration": 37,
    "start_time": "2022-08-25T04:47:59.166Z"
   },
   {
    "duration": 136,
    "start_time": "2022-08-25T04:47:59.204Z"
   },
   {
    "duration": 145,
    "start_time": "2022-08-25T04:47:59.342Z"
   },
   {
    "duration": 8,
    "start_time": "2022-08-25T04:47:59.489Z"
   },
   {
    "duration": 154,
    "start_time": "2022-08-25T04:47:59.499Z"
   },
   {
    "duration": 8,
    "start_time": "2022-08-25T04:47:59.657Z"
   },
   {
    "duration": 163,
    "start_time": "2022-08-25T04:47:59.666Z"
   },
   {
    "duration": 7,
    "start_time": "2022-08-25T04:47:59.831Z"
   },
   {
    "duration": 125,
    "start_time": "2022-08-25T04:47:59.839Z"
   },
   {
    "duration": 7,
    "start_time": "2022-08-25T04:47:59.966Z"
   },
   {
    "duration": 158,
    "start_time": "2022-08-25T04:47:59.975Z"
   },
   {
    "duration": 8,
    "start_time": "2022-08-25T04:48:00.135Z"
   },
   {
    "duration": 13,
    "start_time": "2022-08-25T04:48:00.144Z"
   },
   {
    "duration": 137,
    "start_time": "2022-08-25T04:48:00.159Z"
   },
   {
    "duration": 5,
    "start_time": "2022-08-25T04:48:00.298Z"
   },
   {
    "duration": 159,
    "start_time": "2022-08-25T04:48:00.304Z"
   },
   {
    "duration": 9,
    "start_time": "2022-08-25T04:48:00.465Z"
   },
   {
    "duration": 18,
    "start_time": "2022-08-25T04:48:00.475Z"
   },
   {
    "duration": 9,
    "start_time": "2022-08-25T04:49:31.847Z"
   },
   {
    "duration": 11,
    "start_time": "2022-08-25T04:49:36.415Z"
   },
   {
    "duration": 17,
    "start_time": "2022-08-25T04:49:43.948Z"
   },
   {
    "duration": 21,
    "start_time": "2022-08-25T04:51:09.447Z"
   },
   {
    "duration": 17,
    "start_time": "2022-08-25T04:52:13.771Z"
   },
   {
    "duration": 17,
    "start_time": "2022-08-25T04:52:46.031Z"
   },
   {
    "duration": 21,
    "start_time": "2022-08-25T04:52:52.982Z"
   },
   {
    "duration": 18,
    "start_time": "2022-08-25T04:53:11.382Z"
   },
   {
    "duration": 16,
    "start_time": "2022-08-25T04:53:38.952Z"
   },
   {
    "duration": 28,
    "start_time": "2022-08-25T04:54:49.000Z"
   },
   {
    "duration": 15,
    "start_time": "2022-08-25T04:54:55.282Z"
   },
   {
    "duration": 10,
    "start_time": "2022-08-25T04:56:05.592Z"
   },
   {
    "duration": 11,
    "start_time": "2022-08-25T04:56:13.680Z"
   },
   {
    "duration": 10,
    "start_time": "2022-08-25T04:56:43.211Z"
   },
   {
    "duration": 33,
    "start_time": "2022-08-25T04:56:55.131Z"
   },
   {
    "duration": 692,
    "start_time": "2022-08-25T04:57:10.631Z"
   },
   {
    "duration": 24,
    "start_time": "2022-08-25T04:57:30.323Z"
   },
   {
    "duration": 10,
    "start_time": "2022-08-25T04:58:24.829Z"
   },
   {
    "duration": 376,
    "start_time": "2022-08-25T04:58:32.374Z"
   },
   {
    "duration": 12,
    "start_time": "2022-08-25T04:58:37.936Z"
   },
   {
    "duration": 12,
    "start_time": "2022-08-25T04:58:43.417Z"
   },
   {
    "duration": 13,
    "start_time": "2022-08-25T04:58:48.113Z"
   },
   {
    "duration": 11,
    "start_time": "2022-08-25T04:58:52.267Z"
   },
   {
    "duration": 9,
    "start_time": "2022-08-25T04:59:23.830Z"
   },
   {
    "duration": 10,
    "start_time": "2022-08-25T04:59:51.596Z"
   },
   {
    "duration": 937,
    "start_time": "2022-08-25T05:00:06.744Z"
   },
   {
    "duration": 10,
    "start_time": "2022-08-25T05:00:11.942Z"
   },
   {
    "duration": 16,
    "start_time": "2022-08-25T05:01:00.463Z"
   },
   {
    "duration": 15,
    "start_time": "2022-08-25T05:02:22.510Z"
   },
   {
    "duration": 16,
    "start_time": "2022-08-25T05:02:27.283Z"
   },
   {
    "duration": 68,
    "start_time": "2022-08-25T05:02:31.543Z"
   },
   {
    "duration": 15,
    "start_time": "2022-08-25T05:02:31.612Z"
   },
   {
    "duration": 24,
    "start_time": "2022-08-25T05:02:31.628Z"
   },
   {
    "duration": 10,
    "start_time": "2022-08-25T05:02:31.653Z"
   },
   {
    "duration": 33,
    "start_time": "2022-08-25T05:02:31.686Z"
   },
   {
    "duration": 3,
    "start_time": "2022-08-25T05:02:31.720Z"
   },
   {
    "duration": 17,
    "start_time": "2022-08-25T05:02:31.724Z"
   },
   {
    "duration": 8,
    "start_time": "2022-08-25T05:02:31.742Z"
   },
   {
    "duration": 6,
    "start_time": "2022-08-25T05:02:31.751Z"
   },
   {
    "duration": 7,
    "start_time": "2022-08-25T05:02:31.758Z"
   },
   {
    "duration": 47,
    "start_time": "2022-08-25T05:02:31.766Z"
   },
   {
    "duration": 10,
    "start_time": "2022-08-25T05:02:31.815Z"
   },
   {
    "duration": 8,
    "start_time": "2022-08-25T05:02:31.827Z"
   },
   {
    "duration": 16,
    "start_time": "2022-08-25T05:02:31.838Z"
   },
   {
    "duration": 36,
    "start_time": "2022-08-25T05:02:31.856Z"
   },
   {
    "duration": 16,
    "start_time": "2022-08-25T05:02:31.894Z"
   },
   {
    "duration": 3,
    "start_time": "2022-08-25T05:02:31.912Z"
   },
   {
    "duration": 17,
    "start_time": "2022-08-25T05:02:31.916Z"
   },
   {
    "duration": 5,
    "start_time": "2022-08-25T05:02:31.934Z"
   },
   {
    "duration": 7,
    "start_time": "2022-08-25T05:02:31.940Z"
   },
   {
    "duration": 13,
    "start_time": "2022-08-25T05:02:31.948Z"
   },
   {
    "duration": 36,
    "start_time": "2022-08-25T05:02:31.962Z"
   },
   {
    "duration": 19,
    "start_time": "2022-08-25T05:02:32.000Z"
   },
   {
    "duration": 144,
    "start_time": "2022-08-25T05:02:32.021Z"
   },
   {
    "duration": 139,
    "start_time": "2022-08-25T05:02:32.167Z"
   },
   {
    "duration": 10,
    "start_time": "2022-08-25T05:02:32.307Z"
   },
   {
    "duration": 24,
    "start_time": "2022-08-25T05:02:32.319Z"
   },
   {
    "duration": 20,
    "start_time": "2022-08-25T05:02:32.345Z"
   },
   {
    "duration": 145,
    "start_time": "2022-08-25T05:02:32.387Z"
   },
   {
    "duration": 139,
    "start_time": "2022-08-25T05:02:32.533Z"
   },
   {
    "duration": 15,
    "start_time": "2022-08-25T05:02:32.674Z"
   },
   {
    "duration": 21,
    "start_time": "2022-08-25T05:02:32.690Z"
   },
   {
    "duration": 131,
    "start_time": "2022-08-25T05:02:32.712Z"
   },
   {
    "duration": 225,
    "start_time": "2022-08-25T05:02:32.845Z"
   },
   {
    "duration": 15,
    "start_time": "2022-08-25T05:02:33.072Z"
   },
   {
    "duration": 22,
    "start_time": "2022-08-25T05:02:33.088Z"
   },
   {
    "duration": 135,
    "start_time": "2022-08-25T05:02:33.112Z"
   },
   {
    "duration": 129,
    "start_time": "2022-08-25T05:02:33.249Z"
   },
   {
    "duration": 12,
    "start_time": "2022-08-25T05:02:33.380Z"
   },
   {
    "duration": 146,
    "start_time": "2022-08-25T05:02:33.394Z"
   },
   {
    "duration": 7,
    "start_time": "2022-08-25T05:02:33.544Z"
   },
   {
    "duration": 170,
    "start_time": "2022-08-25T05:02:33.553Z"
   },
   {
    "duration": 8,
    "start_time": "2022-08-25T05:02:33.724Z"
   },
   {
    "duration": 128,
    "start_time": "2022-08-25T05:02:33.734Z"
   },
   {
    "duration": 8,
    "start_time": "2022-08-25T05:02:33.864Z"
   },
   {
    "duration": 148,
    "start_time": "2022-08-25T05:02:33.886Z"
   },
   {
    "duration": 8,
    "start_time": "2022-08-25T05:02:34.036Z"
   },
   {
    "duration": 13,
    "start_time": "2022-08-25T05:02:34.046Z"
   },
   {
    "duration": 157,
    "start_time": "2022-08-25T05:02:34.061Z"
   },
   {
    "duration": 5,
    "start_time": "2022-08-25T05:02:34.219Z"
   },
   {
    "duration": 152,
    "start_time": "2022-08-25T05:02:34.225Z"
   },
   {
    "duration": 15,
    "start_time": "2022-08-25T05:02:34.378Z"
   },
   {
    "duration": 12,
    "start_time": "2022-08-25T05:02:34.394Z"
   },
   {
    "duration": 991,
    "start_time": "2022-08-25T05:02:56.322Z"
   },
   {
    "duration": 24,
    "start_time": "2022-08-25T05:03:14.405Z"
   },
   {
    "duration": 14,
    "start_time": "2022-08-25T05:03:37.294Z"
   },
   {
    "duration": 722,
    "start_time": "2022-08-25T05:03:52.863Z"
   },
   {
    "duration": 19,
    "start_time": "2022-08-25T05:04:31.423Z"
   },
   {
    "duration": 17,
    "start_time": "2022-08-25T05:04:42.562Z"
   },
   {
    "duration": 1336,
    "start_time": "2022-08-25T05:05:09.162Z"
   },
   {
    "duration": 1323,
    "start_time": "2022-08-25T05:05:15.571Z"
   },
   {
    "duration": 931,
    "start_time": "2022-08-25T05:05:31.123Z"
   },
   {
    "duration": 74,
    "start_time": "2022-08-25T05:05:37.071Z"
   },
   {
    "duration": 14,
    "start_time": "2022-08-25T05:05:37.147Z"
   },
   {
    "duration": 27,
    "start_time": "2022-08-25T05:05:37.162Z"
   },
   {
    "duration": 9,
    "start_time": "2022-08-25T05:05:37.190Z"
   },
   {
    "duration": 32,
    "start_time": "2022-08-25T05:05:37.201Z"
   },
   {
    "duration": 3,
    "start_time": "2022-08-25T05:05:37.235Z"
   },
   {
    "duration": 12,
    "start_time": "2022-08-25T05:05:37.239Z"
   },
   {
    "duration": 5,
    "start_time": "2022-08-25T05:05:37.252Z"
   },
   {
    "duration": 29,
    "start_time": "2022-08-25T05:05:37.258Z"
   },
   {
    "duration": 4,
    "start_time": "2022-08-25T05:05:37.289Z"
   },
   {
    "duration": 38,
    "start_time": "2022-08-25T05:05:37.294Z"
   },
   {
    "duration": 9,
    "start_time": "2022-08-25T05:05:37.334Z"
   },
   {
    "duration": 6,
    "start_time": "2022-08-25T05:05:37.345Z"
   },
   {
    "duration": 15,
    "start_time": "2022-08-25T05:05:37.354Z"
   },
   {
    "duration": 28,
    "start_time": "2022-08-25T05:05:37.370Z"
   },
   {
    "duration": 16,
    "start_time": "2022-08-25T05:05:37.399Z"
   },
   {
    "duration": 3,
    "start_time": "2022-08-25T05:05:37.416Z"
   },
   {
    "duration": 12,
    "start_time": "2022-08-25T05:05:37.421Z"
   },
   {
    "duration": 6,
    "start_time": "2022-08-25T05:05:37.435Z"
   },
   {
    "duration": 12,
    "start_time": "2022-08-25T05:05:37.442Z"
   },
   {
    "duration": 18,
    "start_time": "2022-08-25T05:05:37.456Z"
   },
   {
    "duration": 26,
    "start_time": "2022-08-25T05:05:37.475Z"
   },
   {
    "duration": 23,
    "start_time": "2022-08-25T05:05:37.503Z"
   },
   {
    "duration": 173,
    "start_time": "2022-08-25T05:05:37.528Z"
   },
   {
    "duration": 144,
    "start_time": "2022-08-25T05:05:37.702Z"
   },
   {
    "duration": 11,
    "start_time": "2022-08-25T05:05:37.848Z"
   },
   {
    "duration": 40,
    "start_time": "2022-08-25T05:05:37.861Z"
   },
   {
    "duration": 27,
    "start_time": "2022-08-25T05:05:37.902Z"
   },
   {
    "duration": 143,
    "start_time": "2022-08-25T05:05:37.930Z"
   },
   {
    "duration": 140,
    "start_time": "2022-08-25T05:05:38.075Z"
   },
   {
    "duration": 11,
    "start_time": "2022-08-25T05:05:38.216Z"
   },
   {
    "duration": 22,
    "start_time": "2022-08-25T05:05:38.229Z"
   },
   {
    "duration": 136,
    "start_time": "2022-08-25T05:05:38.252Z"
   },
   {
    "duration": 136,
    "start_time": "2022-08-25T05:05:38.390Z"
   },
   {
    "duration": 6,
    "start_time": "2022-08-25T05:05:38.528Z"
   },
   {
    "duration": 25,
    "start_time": "2022-08-25T05:05:38.536Z"
   },
   {
    "duration": 139,
    "start_time": "2022-08-25T05:05:38.562Z"
   },
   {
    "duration": 133,
    "start_time": "2022-08-25T05:05:38.703Z"
   },
   {
    "duration": 7,
    "start_time": "2022-08-25T05:05:38.837Z"
   },
   {
    "duration": 242,
    "start_time": "2022-08-25T05:05:38.846Z"
   },
   {
    "duration": 7,
    "start_time": "2022-08-25T05:05:39.092Z"
   },
   {
    "duration": 157,
    "start_time": "2022-08-25T05:05:39.101Z"
   },
   {
    "duration": 6,
    "start_time": "2022-08-25T05:05:39.260Z"
   },
   {
    "duration": 123,
    "start_time": "2022-08-25T05:05:39.268Z"
   },
   {
    "duration": 6,
    "start_time": "2022-08-25T05:05:39.393Z"
   },
   {
    "duration": 145,
    "start_time": "2022-08-25T05:05:39.401Z"
   },
   {
    "duration": 7,
    "start_time": "2022-08-25T05:05:39.548Z"
   },
   {
    "duration": 13,
    "start_time": "2022-08-25T05:05:39.556Z"
   },
   {
    "duration": 158,
    "start_time": "2022-08-25T05:05:39.570Z"
   },
   {
    "duration": 5,
    "start_time": "2022-08-25T05:05:39.729Z"
   },
   {
    "duration": 161,
    "start_time": "2022-08-25T05:05:39.736Z"
   },
   {
    "duration": 9,
    "start_time": "2022-08-25T05:05:39.899Z"
   },
   {
    "duration": 15,
    "start_time": "2022-08-25T05:05:39.910Z"
   },
   {
    "duration": 743,
    "start_time": "2022-08-25T05:05:54.050Z"
   },
   {
    "duration": 921,
    "start_time": "2022-08-25T05:06:01.323Z"
   },
   {
    "duration": 810,
    "start_time": "2022-08-25T05:06:07.518Z"
   },
   {
    "duration": 72,
    "start_time": "2022-08-25T05:06:15.130Z"
   },
   {
    "duration": 69,
    "start_time": "2022-08-25T05:06:18.135Z"
   },
   {
    "duration": 15,
    "start_time": "2022-08-25T05:06:18.474Z"
   },
   {
    "duration": 15,
    "start_time": "2022-08-25T05:06:18.790Z"
   },
   {
    "duration": 10,
    "start_time": "2022-08-25T05:06:19.474Z"
   },
   {
    "duration": 34,
    "start_time": "2022-08-25T05:06:19.822Z"
   },
   {
    "duration": 4,
    "start_time": "2022-08-25T05:06:20.330Z"
   },
   {
    "duration": 8,
    "start_time": "2022-08-25T05:06:20.657Z"
   },
   {
    "duration": 5,
    "start_time": "2022-08-25T05:06:21.182Z"
   },
   {
    "duration": 6,
    "start_time": "2022-08-25T05:06:21.523Z"
   },
   {
    "duration": 4,
    "start_time": "2022-08-25T05:06:21.872Z"
   },
   {
    "duration": 33,
    "start_time": "2022-08-25T05:06:22.394Z"
   },
   {
    "duration": 10,
    "start_time": "2022-08-25T05:06:22.730Z"
   },
   {
    "duration": 5,
    "start_time": "2022-08-25T05:06:23.262Z"
   },
   {
    "duration": 10,
    "start_time": "2022-08-25T05:06:23.762Z"
   },
   {
    "duration": 19,
    "start_time": "2022-08-25T05:06:24.123Z"
   },
   {
    "duration": 18,
    "start_time": "2022-08-25T05:06:24.288Z"
   },
   {
    "duration": 4,
    "start_time": "2022-08-25T05:06:24.803Z"
   },
   {
    "duration": 11,
    "start_time": "2022-08-25T05:06:24.982Z"
   },
   {
    "duration": 7,
    "start_time": "2022-08-25T05:06:25.322Z"
   },
   {
    "duration": 3,
    "start_time": "2022-08-25T05:06:25.683Z"
   },
   {
    "duration": 9,
    "start_time": "2022-08-25T05:06:25.842Z"
   },
   {
    "duration": 24,
    "start_time": "2022-08-25T05:06:26.383Z"
   },
   {
    "duration": 18,
    "start_time": "2022-08-25T05:06:26.702Z"
   },
   {
    "duration": 130,
    "start_time": "2022-08-25T05:06:27.021Z"
   },
   {
    "duration": 124,
    "start_time": "2022-08-25T05:06:27.371Z"
   },
   {
    "duration": 14,
    "start_time": "2022-08-25T05:06:27.622Z"
   },
   {
    "duration": 29,
    "start_time": "2022-08-25T05:06:29.555Z"
   },
   {
    "duration": 21,
    "start_time": "2022-08-25T05:06:30.091Z"
   },
   {
    "duration": 131,
    "start_time": "2022-08-25T05:06:34.422Z"
   },
   {
    "duration": 17,
    "start_time": "2022-08-25T05:07:08.742Z"
   },
   {
    "duration": 17,
    "start_time": "2022-08-25T05:07:09.083Z"
   },
   {
    "duration": 127,
    "start_time": "2022-08-25T05:07:09.423Z"
   },
   {
    "duration": 127,
    "start_time": "2022-08-25T05:07:09.723Z"
   },
   {
    "duration": 10,
    "start_time": "2022-08-25T05:07:09.892Z"
   },
   {
    "duration": 23,
    "start_time": "2022-08-25T05:07:12.163Z"
   },
   {
    "duration": 17,
    "start_time": "2022-08-25T05:07:13.042Z"
   },
   {
    "duration": 141,
    "start_time": "2022-08-25T05:07:14.313Z"
   },
   {
    "duration": 171,
    "start_time": "2022-08-25T05:07:16.131Z"
   },
   {
    "duration": 12,
    "start_time": "2022-08-25T05:07:20.343Z"
   },
   {
    "duration": 80,
    "start_time": "2022-08-25T05:09:01.191Z"
   },
   {
    "duration": 15,
    "start_time": "2022-08-25T05:09:01.273Z"
   },
   {
    "duration": 22,
    "start_time": "2022-08-25T05:09:01.290Z"
   },
   {
    "duration": 11,
    "start_time": "2022-08-25T05:09:01.314Z"
   },
   {
    "duration": 45,
    "start_time": "2022-08-25T05:09:01.327Z"
   },
   {
    "duration": 13,
    "start_time": "2022-08-25T05:09:01.374Z"
   },
   {
    "duration": 13,
    "start_time": "2022-08-25T05:09:01.389Z"
   },
   {
    "duration": 4,
    "start_time": "2022-08-25T05:09:01.404Z"
   },
   {
    "duration": 18,
    "start_time": "2022-08-25T05:09:01.409Z"
   },
   {
    "duration": 24,
    "start_time": "2022-08-25T05:09:01.429Z"
   },
   {
    "duration": 51,
    "start_time": "2022-08-25T05:09:01.455Z"
   },
   {
    "duration": 11,
    "start_time": "2022-08-25T05:09:01.507Z"
   },
   {
    "duration": 17,
    "start_time": "2022-08-25T05:09:01.519Z"
   },
   {
    "duration": 19,
    "start_time": "2022-08-25T05:09:01.539Z"
   },
   {
    "duration": 50,
    "start_time": "2022-08-25T05:09:01.559Z"
   },
   {
    "duration": 18,
    "start_time": "2022-08-25T05:09:01.611Z"
   },
   {
    "duration": 5,
    "start_time": "2022-08-25T05:09:01.631Z"
   },
   {
    "duration": 15,
    "start_time": "2022-08-25T05:09:01.638Z"
   },
   {
    "duration": 19,
    "start_time": "2022-08-25T05:09:01.655Z"
   },
   {
    "duration": 24,
    "start_time": "2022-08-25T05:09:01.676Z"
   },
   {
    "duration": 21,
    "start_time": "2022-08-25T05:09:01.702Z"
   },
   {
    "duration": 42,
    "start_time": "2022-08-25T05:09:01.725Z"
   },
   {
    "duration": 18,
    "start_time": "2022-08-25T05:09:01.769Z"
   },
   {
    "duration": 155,
    "start_time": "2022-08-25T05:09:01.789Z"
   },
   {
    "duration": 146,
    "start_time": "2022-08-25T05:09:01.945Z"
   },
   {
    "duration": 10,
    "start_time": "2022-08-25T05:09:02.093Z"
   },
   {
    "duration": 30,
    "start_time": "2022-08-25T05:09:02.105Z"
   },
   {
    "duration": 19,
    "start_time": "2022-08-25T05:09:02.136Z"
   },
   {
    "duration": 166,
    "start_time": "2022-08-25T05:09:02.157Z"
   },
   {
    "duration": 144,
    "start_time": "2022-08-25T05:09:02.325Z"
   },
   {
    "duration": 23,
    "start_time": "2022-08-25T05:09:02.470Z"
   },
   {
    "duration": 22,
    "start_time": "2022-08-25T05:09:02.494Z"
   },
   {
    "duration": 133,
    "start_time": "2022-08-25T05:09:02.517Z"
   },
   {
    "duration": 135,
    "start_time": "2022-08-25T05:09:02.652Z"
   },
   {
    "duration": 7,
    "start_time": "2022-08-25T05:09:02.788Z"
   },
   {
    "duration": 28,
    "start_time": "2022-08-25T05:09:02.796Z"
   },
   {
    "duration": 136,
    "start_time": "2022-08-25T05:09:02.826Z"
   },
   {
    "duration": 256,
    "start_time": "2022-08-25T05:09:02.964Z"
   },
   {
    "duration": 7,
    "start_time": "2022-08-25T05:09:03.222Z"
   },
   {
    "duration": 151,
    "start_time": "2022-08-25T05:09:03.230Z"
   },
   {
    "duration": 8,
    "start_time": "2022-08-25T05:09:03.384Z"
   },
   {
    "duration": 169,
    "start_time": "2022-08-25T05:09:03.394Z"
   },
   {
    "duration": 7,
    "start_time": "2022-08-25T05:09:03.564Z"
   },
   {
    "duration": 135,
    "start_time": "2022-08-25T05:09:03.572Z"
   },
   {
    "duration": 8,
    "start_time": "2022-08-25T05:09:03.708Z"
   },
   {
    "duration": 157,
    "start_time": "2022-08-25T05:09:03.718Z"
   },
   {
    "duration": 14,
    "start_time": "2022-08-25T05:09:03.877Z"
   },
   {
    "duration": 23,
    "start_time": "2022-08-25T05:09:03.892Z"
   },
   {
    "duration": 167,
    "start_time": "2022-08-25T05:09:03.916Z"
   },
   {
    "duration": 5,
    "start_time": "2022-08-25T05:09:04.086Z"
   },
   {
    "duration": 153,
    "start_time": "2022-08-25T05:09:04.093Z"
   },
   {
    "duration": 9,
    "start_time": "2022-08-25T05:09:04.248Z"
   },
   {
    "duration": 28,
    "start_time": "2022-08-25T05:09:04.259Z"
   },
   {
    "duration": 16,
    "start_time": "2022-08-25T05:09:35.683Z"
   },
   {
    "duration": 73,
    "start_time": "2022-08-25T05:09:51.163Z"
   },
   {
    "duration": 16,
    "start_time": "2022-08-25T05:09:51.238Z"
   },
   {
    "duration": 37,
    "start_time": "2022-08-25T05:09:51.255Z"
   },
   {
    "duration": 10,
    "start_time": "2022-08-25T05:09:51.294Z"
   },
   {
    "duration": 33,
    "start_time": "2022-08-25T05:09:51.307Z"
   },
   {
    "duration": 3,
    "start_time": "2022-08-25T05:09:51.342Z"
   },
   {
    "duration": 16,
    "start_time": "2022-08-25T05:09:51.347Z"
   },
   {
    "duration": 4,
    "start_time": "2022-08-25T05:09:51.387Z"
   },
   {
    "duration": 6,
    "start_time": "2022-08-25T05:09:51.393Z"
   },
   {
    "duration": 6,
    "start_time": "2022-08-25T05:09:51.400Z"
   },
   {
    "duration": 37,
    "start_time": "2022-08-25T05:09:51.408Z"
   },
   {
    "duration": 10,
    "start_time": "2022-08-25T05:09:51.447Z"
   },
   {
    "duration": 30,
    "start_time": "2022-08-25T05:09:51.459Z"
   },
   {
    "duration": 16,
    "start_time": "2022-08-25T05:09:51.492Z"
   },
   {
    "duration": 25,
    "start_time": "2022-08-25T05:09:51.510Z"
   },
   {
    "duration": 16,
    "start_time": "2022-08-25T05:09:51.537Z"
   },
   {
    "duration": 3,
    "start_time": "2022-08-25T05:09:51.554Z"
   },
   {
    "duration": 13,
    "start_time": "2022-08-25T05:09:51.559Z"
   },
   {
    "duration": 14,
    "start_time": "2022-08-25T05:09:51.574Z"
   },
   {
    "duration": 6,
    "start_time": "2022-08-25T05:09:51.590Z"
   },
   {
    "duration": 13,
    "start_time": "2022-08-25T05:09:51.597Z"
   },
   {
    "duration": 23,
    "start_time": "2022-08-25T05:09:51.612Z"
   },
   {
    "duration": 20,
    "start_time": "2022-08-25T05:09:51.636Z"
   },
   {
    "duration": 136,
    "start_time": "2022-08-25T05:09:51.658Z"
   },
   {
    "duration": 136,
    "start_time": "2022-08-25T05:09:51.795Z"
   },
   {
    "duration": 10,
    "start_time": "2022-08-25T05:09:51.932Z"
   },
   {
    "duration": 37,
    "start_time": "2022-08-25T05:09:51.944Z"
   },
   {
    "duration": 20,
    "start_time": "2022-08-25T05:09:51.982Z"
   },
   {
    "duration": 140,
    "start_time": "2022-08-25T05:09:52.005Z"
   },
   {
    "duration": 140,
    "start_time": "2022-08-25T05:09:52.147Z"
   },
   {
    "duration": 13,
    "start_time": "2022-08-25T05:09:52.289Z"
   },
   {
    "duration": 31,
    "start_time": "2022-08-25T05:09:52.304Z"
   },
   {
    "duration": 132,
    "start_time": "2022-08-25T05:09:52.337Z"
   },
   {
    "duration": 134,
    "start_time": "2022-08-25T05:09:52.471Z"
   },
   {
    "duration": 8,
    "start_time": "2022-08-25T05:09:52.606Z"
   },
   {
    "duration": 36,
    "start_time": "2022-08-25T05:09:52.616Z"
   },
   {
    "duration": 129,
    "start_time": "2022-08-25T05:09:52.654Z"
   },
   {
    "duration": 123,
    "start_time": "2022-08-25T05:09:52.786Z"
   },
   {
    "duration": 7,
    "start_time": "2022-08-25T05:09:52.910Z"
   },
   {
    "duration": 150,
    "start_time": "2022-08-25T05:09:52.919Z"
   },
   {
    "duration": 16,
    "start_time": "2022-08-25T05:09:53.073Z"
   },
   {
    "duration": 156,
    "start_time": "2022-08-25T05:09:53.091Z"
   },
   {
    "duration": 7,
    "start_time": "2022-08-25T05:09:53.249Z"
   },
   {
    "duration": 119,
    "start_time": "2022-08-25T05:09:53.258Z"
   },
   {
    "duration": 7,
    "start_time": "2022-08-25T05:09:53.386Z"
   },
   {
    "duration": 150,
    "start_time": "2022-08-25T05:09:53.394Z"
   },
   {
    "duration": 7,
    "start_time": "2022-08-25T05:09:53.546Z"
   },
   {
    "duration": 30,
    "start_time": "2022-08-25T05:09:53.554Z"
   },
   {
    "duration": 145,
    "start_time": "2022-08-25T05:09:53.586Z"
   },
   {
    "duration": 5,
    "start_time": "2022-08-25T05:09:53.732Z"
   },
   {
    "duration": 150,
    "start_time": "2022-08-25T05:09:53.738Z"
   },
   {
    "duration": 8,
    "start_time": "2022-08-25T05:09:53.890Z"
   },
   {
    "duration": 42,
    "start_time": "2022-08-25T05:09:53.900Z"
   },
   {
    "duration": 72,
    "start_time": "2022-08-25T05:15:38.914Z"
   },
   {
    "duration": 15,
    "start_time": "2022-08-25T05:15:38.988Z"
   },
   {
    "duration": 23,
    "start_time": "2022-08-25T05:15:39.004Z"
   },
   {
    "duration": 9,
    "start_time": "2022-08-25T05:15:39.029Z"
   },
   {
    "duration": 49,
    "start_time": "2022-08-25T05:15:39.040Z"
   },
   {
    "duration": 3,
    "start_time": "2022-08-25T05:15:39.091Z"
   },
   {
    "duration": 20,
    "start_time": "2022-08-25T05:15:39.095Z"
   },
   {
    "duration": 4,
    "start_time": "2022-08-25T05:15:39.117Z"
   },
   {
    "duration": 6,
    "start_time": "2022-08-25T05:15:39.123Z"
   },
   {
    "duration": 5,
    "start_time": "2022-08-25T05:15:39.130Z"
   },
   {
    "duration": 58,
    "start_time": "2022-08-25T05:15:39.137Z"
   },
   {
    "duration": 10,
    "start_time": "2022-08-25T05:15:39.197Z"
   },
   {
    "duration": 6,
    "start_time": "2022-08-25T05:15:39.209Z"
   },
   {
    "duration": 11,
    "start_time": "2022-08-25T05:15:39.219Z"
   },
   {
    "duration": 18,
    "start_time": "2022-08-25T05:15:39.231Z"
   },
   {
    "duration": 43,
    "start_time": "2022-08-25T05:15:39.251Z"
   },
   {
    "duration": 4,
    "start_time": "2022-08-25T05:15:39.295Z"
   },
   {
    "duration": 15,
    "start_time": "2022-08-25T05:15:39.300Z"
   },
   {
    "duration": 10,
    "start_time": "2022-08-25T05:15:39.316Z"
   },
   {
    "duration": 5,
    "start_time": "2022-08-25T05:15:39.327Z"
   },
   {
    "duration": 13,
    "start_time": "2022-08-25T05:15:39.334Z"
   },
   {
    "duration": 40,
    "start_time": "2022-08-25T05:15:39.349Z"
   },
   {
    "duration": 15,
    "start_time": "2022-08-25T05:15:39.390Z"
   },
   {
    "duration": 136,
    "start_time": "2022-08-25T05:15:39.407Z"
   },
   {
    "duration": 288,
    "start_time": "2022-08-25T05:15:39.544Z"
   },
   {
    "duration": 10,
    "start_time": "2022-08-25T05:15:39.834Z"
   },
   {
    "duration": 24,
    "start_time": "2022-08-25T05:15:39.845Z"
   },
   {
    "duration": 18,
    "start_time": "2022-08-25T05:15:39.887Z"
   },
   {
    "duration": 156,
    "start_time": "2022-08-25T05:15:39.906Z"
   },
   {
    "duration": 177,
    "start_time": "2022-08-25T05:15:40.064Z"
   },
   {
    "duration": 14,
    "start_time": "2022-08-25T05:15:40.243Z"
   },
   {
    "duration": 42,
    "start_time": "2022-08-25T05:15:40.259Z"
   },
   {
    "duration": 155,
    "start_time": "2022-08-25T05:15:40.304Z"
   },
   {
    "duration": 132,
    "start_time": "2022-08-25T05:15:40.461Z"
   },
   {
    "duration": 10,
    "start_time": "2022-08-25T05:15:40.595Z"
   },
   {
    "duration": 45,
    "start_time": "2022-08-25T05:15:40.607Z"
   },
   {
    "duration": 139,
    "start_time": "2022-08-25T05:15:40.654Z"
   },
   {
    "duration": 128,
    "start_time": "2022-08-25T05:15:40.794Z"
   },
   {
    "duration": 7,
    "start_time": "2022-08-25T05:15:40.924Z"
   },
   {
    "duration": 168,
    "start_time": "2022-08-25T05:15:40.933Z"
   },
   {
    "duration": 7,
    "start_time": "2022-08-25T05:15:41.105Z"
   },
   {
    "duration": 182,
    "start_time": "2022-08-25T05:15:41.113Z"
   },
   {
    "duration": 7,
    "start_time": "2022-08-25T05:15:41.296Z"
   },
   {
    "duration": 130,
    "start_time": "2022-08-25T05:15:41.305Z"
   },
   {
    "duration": 7,
    "start_time": "2022-08-25T05:15:41.437Z"
   },
   {
    "duration": 146,
    "start_time": "2022-08-25T05:15:41.446Z"
   },
   {
    "duration": 7,
    "start_time": "2022-08-25T05:15:41.594Z"
   },
   {
    "duration": 14,
    "start_time": "2022-08-25T05:15:41.603Z"
   },
   {
    "duration": 148,
    "start_time": "2022-08-25T05:15:41.618Z"
   },
   {
    "duration": 5,
    "start_time": "2022-08-25T05:15:41.769Z"
   },
   {
    "duration": 150,
    "start_time": "2022-08-25T05:15:41.775Z"
   },
   {
    "duration": 12,
    "start_time": "2022-08-25T05:15:41.927Z"
   },
   {
    "duration": 14,
    "start_time": "2022-08-25T05:15:41.940Z"
   },
   {
    "duration": 89,
    "start_time": "2022-08-25T05:17:56.322Z"
   },
   {
    "duration": 19,
    "start_time": "2022-08-25T05:17:56.414Z"
   },
   {
    "duration": 31,
    "start_time": "2022-08-25T05:17:56.435Z"
   },
   {
    "duration": 24,
    "start_time": "2022-08-25T05:17:56.469Z"
   },
   {
    "duration": 39,
    "start_time": "2022-08-25T05:17:56.494Z"
   },
   {
    "duration": 3,
    "start_time": "2022-08-25T05:17:56.535Z"
   },
   {
    "duration": 10,
    "start_time": "2022-08-25T05:17:56.539Z"
   },
   {
    "duration": 6,
    "start_time": "2022-08-25T05:17:56.550Z"
   },
   {
    "duration": 7,
    "start_time": "2022-08-25T05:17:56.558Z"
   },
   {
    "duration": 5,
    "start_time": "2022-08-25T05:17:56.586Z"
   },
   {
    "duration": 54,
    "start_time": "2022-08-25T05:17:56.593Z"
   },
   {
    "duration": 10,
    "start_time": "2022-08-25T05:17:56.649Z"
   },
   {
    "duration": 5,
    "start_time": "2022-08-25T05:17:56.661Z"
   },
   {
    "duration": 26,
    "start_time": "2022-08-25T05:17:56.667Z"
   },
   {
    "duration": 19,
    "start_time": "2022-08-25T05:17:56.694Z"
   },
   {
    "duration": 17,
    "start_time": "2022-08-25T05:17:56.715Z"
   },
   {
    "duration": 4,
    "start_time": "2022-08-25T05:17:56.734Z"
   },
   {
    "duration": 14,
    "start_time": "2022-08-25T05:17:56.739Z"
   },
   {
    "duration": 33,
    "start_time": "2022-08-25T05:17:56.754Z"
   },
   {
    "duration": 4,
    "start_time": "2022-08-25T05:17:56.789Z"
   },
   {
    "duration": 13,
    "start_time": "2022-08-25T05:17:56.794Z"
   },
   {
    "duration": 18,
    "start_time": "2022-08-25T05:17:56.808Z"
   },
   {
    "duration": 16,
    "start_time": "2022-08-25T05:17:56.828Z"
   },
   {
    "duration": 146,
    "start_time": "2022-08-25T05:17:56.845Z"
   },
   {
    "duration": 131,
    "start_time": "2022-08-25T05:17:56.993Z"
   },
   {
    "duration": 11,
    "start_time": "2022-08-25T05:17:57.125Z"
   },
   {
    "duration": 24,
    "start_time": "2022-08-25T05:17:57.138Z"
   },
   {
    "duration": 42,
    "start_time": "2022-08-25T05:17:57.167Z"
   },
   {
    "duration": 159,
    "start_time": "2022-08-25T05:17:57.211Z"
   },
   {
    "duration": 175,
    "start_time": "2022-08-25T05:17:57.372Z"
   },
   {
    "duration": 14,
    "start_time": "2022-08-25T05:17:57.550Z"
   },
   {
    "duration": 32,
    "start_time": "2022-08-25T05:17:57.566Z"
   },
   {
    "duration": 134,
    "start_time": "2022-08-25T05:17:57.599Z"
   },
   {
    "duration": 127,
    "start_time": "2022-08-25T05:17:57.736Z"
   },
   {
    "duration": 8,
    "start_time": "2022-08-25T05:17:57.865Z"
   },
   {
    "duration": 31,
    "start_time": "2022-08-25T05:17:57.875Z"
   },
   {
    "duration": 136,
    "start_time": "2022-08-25T05:17:57.908Z"
   },
   {
    "duration": 132,
    "start_time": "2022-08-25T05:17:58.046Z"
   },
   {
    "duration": 13,
    "start_time": "2022-08-25T05:17:58.180Z"
   },
   {
    "duration": 144,
    "start_time": "2022-08-25T05:17:58.194Z"
   },
   {
    "duration": 7,
    "start_time": "2022-08-25T05:17:58.340Z"
   },
   {
    "duration": 165,
    "start_time": "2022-08-25T05:17:58.349Z"
   },
   {
    "duration": 7,
    "start_time": "2022-08-25T05:17:58.516Z"
   },
   {
    "duration": 131,
    "start_time": "2022-08-25T05:17:58.525Z"
   },
   {
    "duration": 8,
    "start_time": "2022-08-25T05:17:58.658Z"
   },
   {
    "duration": 152,
    "start_time": "2022-08-25T05:17:58.667Z"
   },
   {
    "duration": 8,
    "start_time": "2022-08-25T05:17:58.821Z"
   },
   {
    "duration": 16,
    "start_time": "2022-08-25T05:17:58.831Z"
   },
   {
    "duration": 155,
    "start_time": "2022-08-25T05:17:58.849Z"
   },
   {
    "duration": 5,
    "start_time": "2022-08-25T05:17:59.006Z"
   },
   {
    "duration": 318,
    "start_time": "2022-08-25T05:17:59.013Z"
   },
   {
    "duration": 11,
    "start_time": "2022-08-25T05:17:59.333Z"
   },
   {
    "duration": 14,
    "start_time": "2022-08-25T05:17:59.346Z"
   },
   {
    "duration": 71,
    "start_time": "2022-08-25T05:24:54.509Z"
   },
   {
    "duration": 70,
    "start_time": "2022-08-25T05:25:48.900Z"
   },
   {
    "duration": 591,
    "start_time": "2022-08-25T05:26:42.140Z"
   },
   {
    "duration": 177,
    "start_time": "2022-08-25T05:28:11.013Z"
   },
   {
    "duration": 74,
    "start_time": "2022-08-25T05:28:35.381Z"
   },
   {
    "duration": 15,
    "start_time": "2022-08-25T05:28:35.457Z"
   },
   {
    "duration": 18,
    "start_time": "2022-08-25T05:28:35.474Z"
   },
   {
    "duration": 10,
    "start_time": "2022-08-25T05:28:35.494Z"
   },
   {
    "duration": 43,
    "start_time": "2022-08-25T05:28:35.507Z"
   },
   {
    "duration": 4,
    "start_time": "2022-08-25T05:28:35.552Z"
   },
   {
    "duration": 38,
    "start_time": "2022-08-25T05:28:35.558Z"
   },
   {
    "duration": 661,
    "start_time": "2022-08-25T12:20:29.485Z"
   },
   {
    "duration": 23,
    "start_time": "2022-08-25T12:20:30.148Z"
   },
   {
    "duration": 14,
    "start_time": "2022-08-25T12:20:30.173Z"
   },
   {
    "duration": 27,
    "start_time": "2022-08-25T12:20:30.189Z"
   },
   {
    "duration": 51,
    "start_time": "2022-08-25T12:20:30.217Z"
   },
   {
    "duration": 4,
    "start_time": "2022-08-25T12:20:30.269Z"
   },
   {
    "duration": 36,
    "start_time": "2022-08-25T12:20:30.274Z"
   },
   {
    "duration": 13,
    "start_time": "2022-08-25T12:20:30.312Z"
   },
   {
    "duration": 41,
    "start_time": "2022-08-25T12:20:30.326Z"
   },
   {
    "duration": 34,
    "start_time": "2022-08-25T12:20:30.370Z"
   },
   {
    "duration": 68,
    "start_time": "2022-08-25T12:20:30.405Z"
   },
   {
    "duration": 27,
    "start_time": "2022-08-25T12:20:30.475Z"
   },
   {
    "duration": 24,
    "start_time": "2022-08-25T12:20:30.503Z"
   },
   {
    "duration": 33,
    "start_time": "2022-08-25T12:20:30.529Z"
   },
   {
    "duration": 54,
    "start_time": "2022-08-25T12:20:30.564Z"
   },
   {
    "duration": 28,
    "start_time": "2022-08-25T12:20:30.620Z"
   },
   {
    "duration": 9,
    "start_time": "2022-08-25T12:20:30.650Z"
   },
   {
    "duration": 39,
    "start_time": "2022-08-25T12:20:30.662Z"
   },
   {
    "duration": 23,
    "start_time": "2022-08-25T12:20:30.703Z"
   },
   {
    "duration": 39,
    "start_time": "2022-08-25T12:20:30.728Z"
   },
   {
    "duration": 45,
    "start_time": "2022-08-25T12:20:30.769Z"
   },
   {
    "duration": 64,
    "start_time": "2022-08-25T12:20:30.816Z"
   },
   {
    "duration": 490,
    "start_time": "2022-08-25T12:20:30.882Z"
   },
   {
    "duration": 623,
    "start_time": "2022-08-25T12:20:31.374Z"
   },
   {
    "duration": 135,
    "start_time": "2022-08-25T12:20:31.999Z"
   },
   {
    "duration": 11,
    "start_time": "2022-08-25T12:20:32.136Z"
   },
   {
    "duration": 34,
    "start_time": "2022-08-25T12:20:32.148Z"
   },
   {
    "duration": 54,
    "start_time": "2022-08-25T12:20:32.187Z"
   },
   {
    "duration": 151,
    "start_time": "2022-08-25T12:20:32.242Z"
   },
   {
    "duration": 140,
    "start_time": "2022-08-25T12:20:32.394Z"
   },
   {
    "duration": 21,
    "start_time": "2022-08-25T12:20:32.536Z"
   },
   {
    "duration": 23,
    "start_time": "2022-08-25T12:20:32.559Z"
   },
   {
    "duration": 131,
    "start_time": "2022-08-25T12:20:32.584Z"
   },
   {
    "duration": 134,
    "start_time": "2022-08-25T12:20:32.717Z"
   },
   {
    "duration": 9,
    "start_time": "2022-08-25T12:20:32.853Z"
   },
   {
    "duration": 36,
    "start_time": "2022-08-25T12:20:32.864Z"
   },
   {
    "duration": 155,
    "start_time": "2022-08-25T12:20:32.902Z"
   },
   {
    "duration": 198,
    "start_time": "2022-08-25T12:20:33.059Z"
   },
   {
    "duration": 7,
    "start_time": "2022-08-25T12:20:33.259Z"
   },
   {
    "duration": 154,
    "start_time": "2022-08-25T12:20:33.268Z"
   },
   {
    "duration": 9,
    "start_time": "2022-08-25T12:20:33.423Z"
   },
   {
    "duration": 159,
    "start_time": "2022-08-25T12:20:33.434Z"
   },
   {
    "duration": 7,
    "start_time": "2022-08-25T12:20:33.595Z"
   },
   {
    "duration": 127,
    "start_time": "2022-08-25T12:20:33.604Z"
   },
   {
    "duration": 7,
    "start_time": "2022-08-25T12:20:33.732Z"
   },
   {
    "duration": 137,
    "start_time": "2022-08-25T12:20:33.741Z"
   },
   {
    "duration": 7,
    "start_time": "2022-08-25T12:20:33.879Z"
   },
   {
    "duration": 15,
    "start_time": "2022-08-25T12:20:33.887Z"
   },
   {
    "duration": 134,
    "start_time": "2022-08-25T12:20:33.903Z"
   },
   {
    "duration": 4,
    "start_time": "2022-08-25T12:20:34.038Z"
   },
   {
    "duration": 141,
    "start_time": "2022-08-25T12:20:34.044Z"
   },
   {
    "duration": 8,
    "start_time": "2022-08-25T12:20:34.186Z"
   },
   {
    "duration": 13,
    "start_time": "2022-08-25T12:20:34.196Z"
   },
   {
    "duration": 196,
    "start_time": "2022-08-25T12:20:34.211Z"
   },
   {
    "duration": 518,
    "start_time": "2022-09-05T14:49:40.225Z"
   },
   {
    "duration": 20,
    "start_time": "2022-09-05T14:49:40.745Z"
   },
   {
    "duration": 13,
    "start_time": "2022-09-05T14:49:40.767Z"
   },
   {
    "duration": 9,
    "start_time": "2022-09-05T14:49:40.782Z"
   },
   {
    "duration": 29,
    "start_time": "2022-09-05T14:49:40.792Z"
   },
   {
    "duration": 3,
    "start_time": "2022-09-05T14:49:40.822Z"
   },
   {
    "duration": 32,
    "start_time": "2022-09-05T14:49:40.827Z"
   },
   {
    "duration": 4,
    "start_time": "2022-09-05T14:49:40.861Z"
   },
   {
    "duration": 9,
    "start_time": "2022-09-05T14:49:40.866Z"
   },
   {
    "duration": 4,
    "start_time": "2022-09-05T14:49:40.877Z"
   },
   {
    "duration": 28,
    "start_time": "2022-09-05T14:49:40.882Z"
   },
   {
    "duration": 7,
    "start_time": "2022-09-05T14:49:40.911Z"
   },
   {
    "duration": 2,
    "start_time": "2022-09-05T14:49:40.920Z"
   },
   {
    "duration": 9,
    "start_time": "2022-09-05T14:49:40.955Z"
   },
   {
    "duration": 23,
    "start_time": "2022-09-05T14:49:40.965Z"
   },
   {
    "duration": 16,
    "start_time": "2022-09-05T14:49:40.990Z"
   },
   {
    "duration": 3,
    "start_time": "2022-09-05T14:49:41.007Z"
   },
   {
    "duration": 12,
    "start_time": "2022-09-05T14:49:41.012Z"
   },
   {
    "duration": 5,
    "start_time": "2022-09-05T14:49:41.025Z"
   },
   {
    "duration": 24,
    "start_time": "2022-09-05T14:49:41.032Z"
   },
   {
    "duration": 12,
    "start_time": "2022-09-05T14:49:41.057Z"
   },
   {
    "duration": 15,
    "start_time": "2022-09-05T14:49:41.070Z"
   },
   {
    "duration": 400,
    "start_time": "2022-09-05T14:49:41.086Z"
   },
   {
    "duration": 562,
    "start_time": "2022-09-05T14:49:41.487Z"
   },
   {
    "duration": 114,
    "start_time": "2022-09-05T14:49:42.050Z"
   },
   {
    "duration": 9,
    "start_time": "2022-09-05T14:49:42.165Z"
   },
   {
    "duration": 19,
    "start_time": "2022-09-05T14:49:42.176Z"
   },
   {
    "duration": 18,
    "start_time": "2022-09-05T14:49:42.198Z"
   },
   {
    "duration": 139,
    "start_time": "2022-09-05T14:49:42.218Z"
   },
   {
    "duration": 128,
    "start_time": "2022-09-05T14:49:42.359Z"
   },
   {
    "duration": 10,
    "start_time": "2022-09-05T14:49:42.489Z"
   },
   {
    "duration": 17,
    "start_time": "2022-09-05T14:49:42.501Z"
   },
   {
    "duration": 116,
    "start_time": "2022-09-05T14:49:42.519Z"
   },
   {
    "duration": 119,
    "start_time": "2022-09-05T14:49:42.637Z"
   },
   {
    "duration": 6,
    "start_time": "2022-09-05T14:49:42.758Z"
   },
   {
    "duration": 21,
    "start_time": "2022-09-05T14:49:42.765Z"
   },
   {
    "duration": 185,
    "start_time": "2022-09-05T14:49:42.787Z"
   },
   {
    "duration": 120,
    "start_time": "2022-09-05T14:49:42.973Z"
   },
   {
    "duration": 7,
    "start_time": "2022-09-05T14:49:43.094Z"
   },
   {
    "duration": 122,
    "start_time": "2022-09-05T14:49:43.102Z"
   },
   {
    "duration": 6,
    "start_time": "2022-09-05T14:49:43.226Z"
   },
   {
    "duration": 140,
    "start_time": "2022-09-05T14:49:43.233Z"
   },
   {
    "duration": 6,
    "start_time": "2022-09-05T14:49:43.375Z"
   },
   {
    "duration": 109,
    "start_time": "2022-09-05T14:49:43.382Z"
   },
   {
    "duration": 6,
    "start_time": "2022-09-05T14:49:43.493Z"
   },
   {
    "duration": 126,
    "start_time": "2022-09-05T14:49:43.500Z"
   },
   {
    "duration": 6,
    "start_time": "2022-09-05T14:49:43.627Z"
   },
   {
    "duration": 11,
    "start_time": "2022-09-05T14:49:43.634Z"
   },
   {
    "duration": 124,
    "start_time": "2022-09-05T14:49:43.646Z"
   },
   {
    "duration": 3,
    "start_time": "2022-09-05T14:49:43.772Z"
   },
   {
    "duration": 124,
    "start_time": "2022-09-05T14:49:43.777Z"
   },
   {
    "duration": 8,
    "start_time": "2022-09-05T14:49:43.903Z"
   },
   {
    "duration": 13,
    "start_time": "2022-09-05T14:49:43.912Z"
   },
   {
    "duration": 224,
    "start_time": "2022-09-05T14:49:43.926Z"
   }
  ],
  "colab": {
   "name": "dpp_template_part2.ipynb",
   "provenance": []
  },
  "kernelspec": {
   "display_name": "Python 3 (ipykernel)",
   "language": "python",
   "name": "python3"
  },
  "language_info": {
   "codemirror_mode": {
    "name": "ipython",
    "version": 3
   },
   "file_extension": ".py",
   "mimetype": "text/x-python",
   "name": "python",
   "nbconvert_exporter": "python",
   "pygments_lexer": "ipython3",
   "version": "3.9.12"
  },
  "toc": {
   "base_numbering": 1,
   "nav_menu": {},
   "number_sections": true,
   "sideBar": true,
   "skip_h1_title": true,
   "title_cell": "Table of Contents",
   "title_sidebar": "Contents",
   "toc_cell": false,
   "toc_position": {},
   "toc_section_display": true,
   "toc_window_display": false
  }
 },
 "nbformat": 4,
 "nbformat_minor": 5
}
