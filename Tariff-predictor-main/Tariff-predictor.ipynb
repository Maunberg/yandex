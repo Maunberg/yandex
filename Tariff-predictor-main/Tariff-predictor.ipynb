{
 "cells": [
  {
   "cell_type": "markdown",
   "metadata": {},
   "source": [
    "# Рекомендация тарифов"
   ]
  },
  {
   "cell_type": "markdown",
   "metadata": {},
   "source": [
    "В вашем распоряжении данные о поведении клиентов, которые уже перешли на эти тарифы (из проекта курса «Статистический анализ данных»). Нужно построить модель для задачи классификации, которая выберет подходящий тариф. Предобработка данных не понадобится — вы её уже сделали.\n",
    "\n",
    "Задание - построить модель с максимально большим значением *accuracy*. Проект считается успешным, если доля правильных ответов больше 0.75. "
   ]
  },
  {
   "cell_type": "markdown",
   "metadata": {},
   "source": [
    "## Откройте и изучите файл"
   ]
  },
  {
   "cell_type": "code",
   "execution_count": 3,
   "metadata": {},
   "outputs": [],
   "source": [
    "import pandas as pd\n",
    "import matplotlib.pyplot as plt  \n",
    "import seaborn as sns \n",
    "import numpy as np\n",
    "from sklearn.metrics import confusion_matrix, ConfusionMatrixDisplay\n",
    "from sklearn.metrics import accuracy_score\n",
    "from sklearn.model_selection import train_test_split\n",
    "from sklearn.ensemble import RandomForestClassifier\n",
    "from sklearn.linear_model import LogisticRegression\n",
    "from sklearn.linear_model import LinearRegression\n",
    "from sklearn.metrics import mean_squared_error\n",
    "from sklearn.ensemble import RandomForestRegressor\n",
    "from sklearn.tree import DecisionTreeClassifier\n",
    "from sklearn.metrics import classification_report\n",
    "from sklearn.model_selection import GridSearchCV"
   ]
  },
  {
   "cell_type": "code",
   "execution_count": 6,
   "metadata": {},
   "outputs": [
    {
     "data": {
      "text/html": [
       "<div>\n",
       "<style scoped>\n",
       "    .dataframe tbody tr th:only-of-type {\n",
       "        vertical-align: middle;\n",
       "    }\n",
       "\n",
       "    .dataframe tbody tr th {\n",
       "        vertical-align: top;\n",
       "    }\n",
       "\n",
       "    .dataframe thead th {\n",
       "        text-align: right;\n",
       "    }\n",
       "</style>\n",
       "<table border=\"1\" class=\"dataframe\">\n",
       "  <thead>\n",
       "    <tr style=\"text-align: right;\">\n",
       "      <th></th>\n",
       "      <th>calls</th>\n",
       "      <th>minutes</th>\n",
       "      <th>messages</th>\n",
       "      <th>mb_used</th>\n",
       "      <th>is_ultra</th>\n",
       "    </tr>\n",
       "  </thead>\n",
       "  <tbody>\n",
       "    <tr>\n",
       "      <th>0</th>\n",
       "      <td>40.0</td>\n",
       "      <td>311.90</td>\n",
       "      <td>83.0</td>\n",
       "      <td>19915.42</td>\n",
       "      <td>0</td>\n",
       "    </tr>\n",
       "    <tr>\n",
       "      <th>1</th>\n",
       "      <td>85.0</td>\n",
       "      <td>516.75</td>\n",
       "      <td>56.0</td>\n",
       "      <td>22696.96</td>\n",
       "      <td>0</td>\n",
       "    </tr>\n",
       "    <tr>\n",
       "      <th>2</th>\n",
       "      <td>77.0</td>\n",
       "      <td>467.66</td>\n",
       "      <td>86.0</td>\n",
       "      <td>21060.45</td>\n",
       "      <td>0</td>\n",
       "    </tr>\n",
       "    <tr>\n",
       "      <th>3</th>\n",
       "      <td>106.0</td>\n",
       "      <td>745.53</td>\n",
       "      <td>81.0</td>\n",
       "      <td>8437.39</td>\n",
       "      <td>1</td>\n",
       "    </tr>\n",
       "    <tr>\n",
       "      <th>4</th>\n",
       "      <td>66.0</td>\n",
       "      <td>418.74</td>\n",
       "      <td>1.0</td>\n",
       "      <td>14502.75</td>\n",
       "      <td>0</td>\n",
       "    </tr>\n",
       "    <tr>\n",
       "      <th>...</th>\n",
       "      <td>...</td>\n",
       "      <td>...</td>\n",
       "      <td>...</td>\n",
       "      <td>...</td>\n",
       "      <td>...</td>\n",
       "    </tr>\n",
       "    <tr>\n",
       "      <th>3209</th>\n",
       "      <td>122.0</td>\n",
       "      <td>910.98</td>\n",
       "      <td>20.0</td>\n",
       "      <td>35124.90</td>\n",
       "      <td>1</td>\n",
       "    </tr>\n",
       "    <tr>\n",
       "      <th>3210</th>\n",
       "      <td>25.0</td>\n",
       "      <td>190.36</td>\n",
       "      <td>0.0</td>\n",
       "      <td>3275.61</td>\n",
       "      <td>0</td>\n",
       "    </tr>\n",
       "    <tr>\n",
       "      <th>3211</th>\n",
       "      <td>97.0</td>\n",
       "      <td>634.44</td>\n",
       "      <td>70.0</td>\n",
       "      <td>13974.06</td>\n",
       "      <td>0</td>\n",
       "    </tr>\n",
       "    <tr>\n",
       "      <th>3212</th>\n",
       "      <td>64.0</td>\n",
       "      <td>462.32</td>\n",
       "      <td>90.0</td>\n",
       "      <td>31239.78</td>\n",
       "      <td>0</td>\n",
       "    </tr>\n",
       "    <tr>\n",
       "      <th>3213</th>\n",
       "      <td>80.0</td>\n",
       "      <td>566.09</td>\n",
       "      <td>6.0</td>\n",
       "      <td>29480.52</td>\n",
       "      <td>1</td>\n",
       "    </tr>\n",
       "  </tbody>\n",
       "</table>\n",
       "<p>3214 rows × 5 columns</p>\n",
       "</div>"
      ],
      "text/plain": [
       "      calls  minutes  messages   mb_used  is_ultra\n",
       "0      40.0   311.90      83.0  19915.42         0\n",
       "1      85.0   516.75      56.0  22696.96         0\n",
       "2      77.0   467.66      86.0  21060.45         0\n",
       "3     106.0   745.53      81.0   8437.39         1\n",
       "4      66.0   418.74       1.0  14502.75         0\n",
       "...     ...      ...       ...       ...       ...\n",
       "3209  122.0   910.98      20.0  35124.90         1\n",
       "3210   25.0   190.36       0.0   3275.61         0\n",
       "3211   97.0   634.44      70.0  13974.06         0\n",
       "3212   64.0   462.32      90.0  31239.78         0\n",
       "3213   80.0   566.09       6.0  29480.52         1\n",
       "\n",
       "[3214 rows x 5 columns]"
      ]
     },
     "execution_count": 6,
     "metadata": {},
     "output_type": "execute_result"
    }
   ],
   "source": [
    "data = pd.read_csv('users_behavior.csv')\n",
    "data"
   ]
  },
  {
   "cell_type": "code",
   "execution_count": 8,
   "metadata": {},
   "outputs": [
    {
     "name": "stdout",
     "output_type": "stream",
     "text": [
      "<class 'pandas.core.frame.DataFrame'>\n",
      "RangeIndex: 3214 entries, 0 to 3213\n",
      "Data columns (total 5 columns):\n",
      " #   Column    Non-Null Count  Dtype  \n",
      "---  ------    --------------  -----  \n",
      " 0   calls     3214 non-null   float64\n",
      " 1   minutes   3214 non-null   float64\n",
      " 2   messages  3214 non-null   float64\n",
      " 3   mb_used   3214 non-null   float64\n",
      " 4   is_ultra  3214 non-null   int64  \n",
      "dtypes: float64(4), int64(1)\n",
      "memory usage: 125.7 KB\n"
     ]
    }
   ],
   "source": [
    "data.info()"
   ]
  },
  {
   "cell_type": "markdown",
   "metadata": {},
   "source": [
    "Названия колонок:\n",
    "\n",
    "сalls — количество звонков,  \n",
    "minutes — суммарная длительность звонков в минутах,  \n",
    "messages — количество sms-сообщений,  \n",
    "mb_used — израсходованный интернет-трафик в Мб,  \n",
    "is_ultra — каким тарифом пользовался в течение месяца («Ультра» — 1, «Смарт» — 0)."
   ]
  },
  {
   "cell_type": "code",
   "execution_count": null,
   "metadata": {},
   "outputs": [],
   "source": [
    "sns.pairplot(data, hue=\"is_ultra\");"
   ]
  },
  {
   "cell_type": "code",
   "execution_count": null,
   "metadata": {},
   "outputs": [],
   "source": [
    "data['is_ultra'].plot(kind='hist', bins=2, figsize=(2,4), grid=True);"
   ]
  },
  {
   "cell_type": "markdown",
   "metadata": {},
   "source": [
    "Мы проверили данные на мультиколлениарность, теперь можем заметить, что высокая корреляция у параметров minutes и calls, следовательно, можно исключить один из этих параметров, чтобы избежать переообучения.  \n",
    "Однако мы можем заметить, что данных по тарифу Смарт более чем в 2 раза больше, чем по тарифу ультра. Скорее всего, это приведёт к более низкому качеству модели относительно тарифа Ультра. Однако так как у нас задача на бинарную классификацию, то дисбаланс не приведёт к большим проблемам.\n",
    "\n",
    "Обучать модели будем по столбцу is_ultra."
   ]
  },
  {
   "cell_type": "markdown",
   "metadata": {},
   "source": [
    "## Разбейте данные на выборки"
   ]
  },
  {
   "cell_type": "code",
   "execution_count": null,
   "metadata": {
    "scrolled": true
   },
   "outputs": [],
   "source": [
    "features = data.drop(['is_ultra', 'calls'], axis=1)\n",
    "target = data['is_ultra']\n",
    "\n",
    "features_train, features_v, target_train, target_v = train_test_split(\n",
    "    features, target, test_size=.4, random_state=1, stratify=target)\n",
    "features_valid, features_test, target_valid, target_test = train_test_split(\n",
    "    features_v, target_v, test_size=.4, random_state=1, stratify=target_v)\n",
    "\n",
    "\n",
    "print(f\"Количество строк в features_train по классам: {np.bincount(target_train)} {features_train.shape[0]/data.shape[0]:1.1} выборки\")\n",
    "print(f\"Количество строк в features_valid по классам: {np.bincount(target_valid)} {features_valid.shape[0]/data.shape[0]:1.1} выборки\")\n",
    "print(f\"Количество строк в features_test по классам: {np.bincount(target_test)} {features_test.shape[0]/data.shape[0]:1.1} выборки\")\n"
   ]
  },
  {
   "cell_type": "markdown",
   "metadata": {},
   "source": [
    "Так, мы получили 3 выборки:  \n",
    "<pre>\n",
    "features_train (данные), target_train (результаты) - тренировочная выборка  \n",
    "features_valid (данные), target_valid (результаты) - валидационная выборка\n",
    "features_test  (данные), target_test  (результаты) - тестовая выборка\n",
    "    </pre>\n",
    "Также сохранили баланс классов (2.26/1) и проверили размерность выборок 3:1:1."
   ]
  },
  {
   "cell_type": "markdown",
   "metadata": {},
   "source": [
    "## Исследуйте модели"
   ]
  },
  {
   "cell_type": "markdown",
   "metadata": {},
   "source": [
    "### Логистическая регрессия"
   ]
  },
  {
   "cell_type": "code",
   "execution_count": null,
   "metadata": {},
   "outputs": [],
   "source": [
    "#log_model = LogisticRegression(solver='lbfgs') #0.68\n",
    "#log_model = LogisticRegression(solver='newton-cg', multi_class='ovr') #0.73\n",
    "log_model = LogisticRegression(solver='newton-cg', multi_class='multinomial') #0.73\n",
    "#log_model = LogisticRegression(solver='newton-cg', multi_class='auto') #0.73\n",
    "#log_model = LogisticRegression(solver='liblinear') #0.72\n",
    "#log_model = LogisticRegression(solver='sag') #0.67\n",
    "#log_model = LogisticRegression(solver='saga') #0.67\n",
    "log_model.fit(features_train, target_train)\n",
    "log_predictions_valid = log_model.predict(features_valid)\n",
    "print(accuracy_score(target_valid, log_predictions_valid ), \n",
    "      (mean_squared_error(target_valid, log_predictions_valid))**.5 )"
   ]
  },
  {
   "cell_type": "markdown",
   "metadata": {},
   "source": [
    "Анализ параметров и гиперпараметров:    \n",
    "- для данной выборки больше всего подходит метод newton-cg \n",
    "- параметр multi_class не влияет на качество модели при методе newton-cg"
   ]
  },
  {
   "cell_type": "code",
   "execution_count": null,
   "metadata": {},
   "outputs": [],
   "source": [
    "ConfusionMatrixDisplay(confusion_matrix(target_valid, log_predictions_valid)).plot();"
   ]
  },
  {
   "cell_type": "markdown",
   "metadata": {},
   "source": [
    "Матрица показывает, что у нас 520+61 верных прогнозов и 175+15 неверных прогнозов. Посмотрим на другие метрики:"
   ]
  },
  {
   "cell_type": "code",
   "execution_count": null,
   "metadata": {
    "scrolled": true
   },
   "outputs": [],
   "source": [
    "print(classification_report(target_valid, log_predictions_valid))"
   ]
  },
  {
   "cell_type": "markdown",
   "metadata": {},
   "source": [
    "precision - процент правильных положительных прогнозов по отношению к общему количеству положительных прогнозов.  \n",
    "recall - процент правильных положительных прогнозов по отношению к общему количеству фактических положительных результатов.  \n",
    "f1-score - средневзвешенное гармоническое значение точности и полноты. Чем ближе к 1, тем лучше модель.  \n",
    "\n",
    "Точность предсказаний для тарифа Смарт равна 85%, точность предсказаний тарифа Ультра 39%."
   ]
  },
  {
   "cell_type": "markdown",
   "metadata": {},
   "source": [
    "### Дерево решений"
   ]
  },
  {
   "cell_type": "code",
   "execution_count": null,
   "metadata": {
    "scrolled": true
   },
   "outputs": [],
   "source": [
    "tree_best_model = None\n",
    "tree_best_result = 0\n",
    "tree_best_depth = 0\n",
    "tree_predictions = None\n",
    "model_plot_v = []\n",
    "model_plot_i = []\n",
    "for depth in range(1, 50):\n",
    "    tree_model = DecisionTreeClassifier(random_state=12345, max_depth=depth)\n",
    "    tree_model.fit(features_train, target_train) \n",
    "    tree_predictions_valid = tree_model.predict(features_valid) \n",
    "    result = accuracy_score(target_valid, tree_predictions_valid) \n",
    "    if result > tree_best_result:\n",
    "        tree_predictions = tree_predictions_valid\n",
    "        tree_best_model = tree_model\n",
    "        tree_best_result = result\n",
    "        tree_best_depth = depth\n",
    "    model_plot_v.append(result)\n",
    "    model_plot_i.append(depth)\n",
    "\n",
    "print(\"Accuracy наилучшей модели на валидационной выборке:\", tree_best_result, \"Глубина дерева:\", tree_best_depth)\n",
    "pd.Series(model_plot_v, index=model_plot_i).plot(grid=True)\n",
    "plt.title('Успешность модели дерева решений в зависимости от глубины')\n",
    "plt.xlabel(\"Глубина\")\n",
    "plt.ylabel(\"Accuracy\")\n",
    "plt.show()"
   ]
  },
  {
   "cell_type": "code",
   "execution_count": null,
   "metadata": {},
   "outputs": [],
   "source": [
    "ConfusionMatrixDisplay(confusion_matrix(target_valid, tree_predictions)).plot();"
   ]
  },
  {
   "cell_type": "markdown",
   "metadata": {},
   "source": [
    "Матрица показывает, что у нас 502+118 верных прогнозов и 33+118 неверных прогнозов."
   ]
  },
  {
   "cell_type": "code",
   "execution_count": null,
   "metadata": {},
   "outputs": [],
   "source": [
    "print(classification_report(target_valid, tree_predictions))"
   ]
  },
  {
   "cell_type": "markdown",
   "metadata": {},
   "source": [
    "Точность предсказаний для тарифа Смарт равна 87%, точность предсказаний тарифа Ультра 61%."
   ]
  },
  {
   "cell_type": "markdown",
   "metadata": {},
   "source": [
    "Аccuracy больше 0.75, а RMSE близок к 0. Значит, модель потенциально успешна."
   ]
  },
  {
   "cell_type": "markdown",
   "metadata": {},
   "source": [
    "### Случайный лес в классификации"
   ]
  },
  {
   "cell_type": "code",
   "execution_count": null,
   "metadata": {},
   "outputs": [],
   "source": [
    "%%time\n",
    "wood_best_model = None\n",
    "wood_best_result = 0\n",
    "wood_best_est = 0\n",
    "wood_best_depth = 0\n",
    "\n",
    "for est in range(1, 51):\n",
    "    model_plot_v = []\n",
    "    model_plot_i = []\n",
    "    for depth in range (1, 31):\n",
    "        model = RandomForestClassifier(random_state=12345, n_estimators=est, max_depth=depth) \n",
    "        model.fit(features_train, target_train) \n",
    "        predictions_valid = model.predict(features_valid)\n",
    "        result = accuracy_score(target_valid, predictions_valid)\n",
    "        if result > wood_best_result:\n",
    "            wood_best_model = model\n",
    "            wood_best_result = result\n",
    "            wood_best_est = est\n",
    "            wood_best_depth = depth\n",
    "        model_plot_v.append(result)\n",
    "        model_plot_i.append(depth)\n",
    "    pd.Series(model_plot_v, index=model_plot_i).plot(grid=True)\n",
    "print(\"Accuracy наилучшей модели на валидационной выборке:\", wood_best_result, \"Количество деревьев:\", wood_best_est, \"Максимальная глубина:\", depth)\n",
    "plt.title('Успешность модели случайного леса в зависимости от глубины')\n",
    "plt.xlabel(\"Глубина леса\")\n",
    "plt.ylabel(\"Accuracy\")\n",
    "plt.show()"
   ]
  },
  {
   "cell_type": "code",
   "execution_count": null,
   "metadata": {},
   "outputs": [],
   "source": [
    "model_plot_v = []\n",
    "model_plot_i = []\n",
    "for depth in range (1, 30):\n",
    "    model = RandomForestClassifier(random_state=12345, n_estimators=wood_best_est, max_depth=depth) \n",
    "    model.fit(features_train, target_train) \n",
    "    predictions_valid = model.predict(features_valid)\n",
    "    result = accuracy_score(target_valid, predictions_valid)\n",
    "    model_plot_v.append(result)\n",
    "    model_plot_i.append(depth)\n",
    "pd.Series(model_plot_v, index=model_plot_i).plot(grid=True)\n",
    "plt.title('Успешность модели случайного леса (43) в зависимости от глубины')\n",
    "plt.xlabel(\"Глубина леса\")\n",
    "plt.ylabel(\"Accuracy\")\n",
    "plt.show()"
   ]
  },
  {
   "cell_type": "markdown",
   "metadata": {},
   "source": [
    "Accuracy наилучшей модели на валидационной выборке: 0.8132295719844358 Количество деревьев: 43 Максимальная глубина: 30  \n",
    "Мы нашли лучшую модель случайного леса."
   ]
  },
  {
   "cell_type": "code",
   "execution_count": null,
   "metadata": {},
   "outputs": [],
   "source": [
    "%%time\n",
    "wood_model = RandomForestClassifier(random_state=12345)\n",
    "parametrs = { 'n_estimators': range (1, 51),\n",
    "              'max_depth': range (1, 31)}\n",
    "grid = GridSearchCV(wood_model, parametrs, cv=5)\n",
    "grid.fit(features_train, target_train)\n",
    "grid.best_params_\n",
    "grid.best_score_"
   ]
  },
  {
   "cell_type": "markdown",
   "metadata": {},
   "source": [
    "Использование GridSearchCV было эффективнее, но дольше по времени подбирались параметры, поэтому я закомментировал код, но сохранил вывод параметров. Затем воссоздал модель, далее работать буду с ней:"
   ]
  },
  {
   "cell_type": "code",
   "execution_count": null,
   "metadata": {},
   "outputs": [],
   "source": [
    "wood_best_model = RandomForestClassifier(n_estimators=50, max_depth=8, random_state=12345) \n",
    "wood_best_model.fit(features_train, target_train) \n",
    "wood_predictions_valid = wood_best_model.predict(features_valid)\n",
    "print(accuracy_score(target_valid, wood_predictions_valid ))"
   ]
  },
  {
   "cell_type": "code",
   "execution_count": null,
   "metadata": {},
   "outputs": [],
   "source": [
    "ConfusionMatrixDisplay(confusion_matrix(target_valid, wood_predictions_valid)).plot();"
   ]
  },
  {
   "cell_type": "markdown",
   "metadata": {},
   "source": [
    "Матрица показывает, что у нас 501+125 верных прогнозов и 111+34 неверных прогнозов. "
   ]
  },
  {
   "cell_type": "code",
   "execution_count": null,
   "metadata": {
    "scrolled": true
   },
   "outputs": [],
   "source": [
    "print(classification_report(target_valid, wood_predictions_valid))"
   ]
  },
  {
   "cell_type": "markdown",
   "metadata": {},
   "source": [
    "Точность предсказаний для тарифа Смарт равна 87%, точность предсказаний тарифа Ультра 63%."
   ]
  },
  {
   "cell_type": "markdown",
   "metadata": {},
   "source": [
    "### Вывод"
   ]
  },
  {
   "cell_type": "markdown",
   "metadata": {},
   "source": [
    "Таким образом, мы проанализировали три модели:\n",
    "- логистистическая регрессия\n",
    "- решающее дерево\n",
    "- случайный лес\n",
    "Вспомним критерии каждой модели:\n",
    "<pre>\n",
    "| Решающее дерево         | Низкое  | Высокая |\n",
    "| Случайный лес           | Высокое | Низкая  |\n",
    "| Логистическая регрессия | Среднее | Высокая |</pre>\n",
    "\n",
    "Исходя из результатов проверки на тестовой выборке, 3 модели достигли результатов. Однако исходя из таблицы и значений, модель, которую стоит использовать - это случайный лес. Accuracy и f1-score по обоим классам у неё выше. \n",
    "Если заказчику будет нужна модель быстрее, то лучше использовать дерево решений, которое незначительно ниже."
   ]
  },
  {
   "cell_type": "markdown",
   "metadata": {},
   "source": [
    "## Проверьте модель на тестовой выборке"
   ]
  },
  {
   "cell_type": "markdown",
   "metadata": {},
   "source": [
    "Переобучим модель случайного леса по train+valid данным и проверим её на тестовой выборке."
   ]
  },
  {
   "cell_type": "markdown",
   "metadata": {},
   "source": [
    "### Дерево решений"
   ]
  },
  {
   "cell_type": "code",
   "execution_count": null,
   "metadata": {},
   "outputs": [],
   "source": [
    "wood_best_model = RandomForestClassifier(n_estimators=50, max_depth=8, random_state=12345) \n",
    "wood_best_model.fit(pd.concat([features_train, features_valid]), pd.concat([target_train, target_valid])) \n",
    "wood_predictions_valid = wood_best_model.predict(features_test)\n",
    "print(accuracy_score(target_test, wood_predictions_valid ))"
   ]
  },
  {
   "cell_type": "code",
   "execution_count": null,
   "metadata": {},
   "outputs": [],
   "source": [
    "ConfusionMatrixDisplay(confusion_matrix(target_test, wood_predictions_valid)).plot();"
   ]
  },
  {
   "cell_type": "markdown",
   "metadata": {},
   "source": [
    "Матрица показывает, что у нас 332+90 верных прогнозов и 25+68 неверных прогнозов."
   ]
  },
  {
   "cell_type": "code",
   "execution_count": null,
   "metadata": {},
   "outputs": [],
   "source": [
    "print(classification_report(target_test, wood_predictions_valid))"
   ]
  },
  {
   "cell_type": "markdown",
   "metadata": {},
   "source": [
    "Точность предсказаний для тарифа Смарт равна 88%, точность предсказаний тарифа Ультра 66%."
   ]
  },
  {
   "cell_type": "markdown",
   "metadata": {},
   "source": [
    "Мы переобучили и ещё раз проанализировали метрики модели. Её accuracy составляет больше 0.75 (почти 0.82), следовательно, такая модель может быть принята. "
   ]
  },
  {
   "cell_type": "markdown",
   "metadata": {},
   "source": [
    "## (бонус) Проверьте модели на адекватность"
   ]
  },
  {
   "cell_type": "code",
   "execution_count": null,
   "metadata": {},
   "outputs": [],
   "source": [
    "import numpy as np\n",
    "from sklearn.dummy import DummyClassifier\n",
    "X = np.array([-1, 1, 1, 1])\n",
    "y = np.array([0, 1, 1, 1])\n",
    "dummy_clf = DummyClassifier(strategy=\"most_frequent\")\n",
    "dummy_clf.fit(features_train, target_train)\n",
    "DummyClassifier(strategy='most_frequent')\n",
    "test_model_prediction = dummy_clf.predict(features_valid)\n",
    "dummy_clf.score(test_model_prediction, target_valid)"
   ]
  },
  {
   "cell_type": "code",
   "execution_count": null,
   "metadata": {},
   "outputs": [],
   "source": [
    "import random \n",
    "random_prediction = [random.randint(0, 1) for i in range(len(test_model_prediction))]\n",
    "accuracy_score(random_prediction, target_valid)"
   ]
  },
  {
   "cell_type": "markdown",
   "metadata": {},
   "source": [
    "Так как рандомный массив и Dummy-модель всё-таки имеют accuracy меньше, чем наша модель, то можно признать её адекватной."
   ]
  },
  {
   "cell_type": "markdown",
   "metadata": {},
   "source": [
    "## Чек-лист готовности проекта"
   ]
  },
  {
   "cell_type": "markdown",
   "metadata": {},
   "source": [
    "Поставьте 'x' в выполненных пунктах. Далее нажмите Shift+Enter."
   ]
  },
  {
   "cell_type": "markdown",
   "metadata": {},
   "source": [
    "- [x] Jupyter Notebook открыт\n",
    "- [x] Весь код исполняется без ошибок\n",
    "- [x] Ячейки с кодом расположены в порядке исполнения\n",
    "- [x] Выполнено задание 1: данные загружены и изучены\n",
    "- [x] Выполнено задание 2: данные разбиты на три выборки\n",
    "- [x] Выполнено задание 3: проведено исследование моделей\n",
    "    - [x] Рассмотрено больше одной модели\n",
    "    - [x] Рассмотрено хотя бы 3 значения гипепараметров для какой-нибудь модели\n",
    "    - [x] Написаны выводы по результатам исследования\n",
    "- [x] Выполнено задание 3: Проведено тестирование\n",
    "- [x] Удалось достичь accuracy не меньше 0.75\n"
   ]
  }
 ],
 "metadata": {
  "ExecuteTimeLog": [
   {
    "duration": 407,
    "start_time": "2022-10-05T08:24:22.829Z"
   },
   {
    "duration": 83,
    "start_time": "2022-10-05T08:24:47.849Z"
   },
   {
    "duration": 12,
    "start_time": "2022-10-05T08:25:02.548Z"
   },
   {
    "duration": 834,
    "start_time": "2022-10-05T10:44:52.977Z"
   },
   {
    "duration": 40,
    "start_time": "2022-10-05T10:44:53.814Z"
   },
   {
    "duration": 12,
    "start_time": "2022-10-05T10:44:53.996Z"
   },
   {
    "duration": 105,
    "start_time": "2022-10-05T10:44:57.249Z"
   },
   {
    "duration": 7,
    "start_time": "2022-10-05T10:45:06.016Z"
   },
   {
    "duration": 7,
    "start_time": "2022-10-05T10:45:10.145Z"
   },
   {
    "duration": 975,
    "start_time": "2022-10-05T10:45:11.917Z"
   },
   {
    "duration": 491,
    "start_time": "2022-10-05T10:45:26.905Z"
   },
   {
    "duration": 167,
    "start_time": "2022-10-05T10:45:44.338Z"
   },
   {
    "duration": 175,
    "start_time": "2022-10-05T10:45:54.527Z"
   },
   {
    "duration": 10,
    "start_time": "2022-10-05T10:47:21.725Z"
   },
   {
    "duration": 49,
    "start_time": "2022-10-05T10:47:41.917Z"
   },
   {
    "duration": 4,
    "start_time": "2022-10-05T10:48:14.844Z"
   },
   {
    "duration": 33,
    "start_time": "2022-10-05T10:48:18.952Z"
   },
   {
    "duration": 4572,
    "start_time": "2022-10-05T10:48:30.564Z"
   },
   {
    "duration": 4766,
    "start_time": "2022-10-05T10:49:09.151Z"
   },
   {
    "duration": 4755,
    "start_time": "2022-10-05T10:49:21.385Z"
   },
   {
    "duration": 8,
    "start_time": "2022-10-05T10:49:39.084Z"
   },
   {
    "duration": 8,
    "start_time": "2022-10-05T10:50:01.605Z"
   },
   {
    "duration": 9,
    "start_time": "2022-10-05T10:50:04.732Z"
   },
   {
    "duration": 27,
    "start_time": "2022-10-05T10:51:08.772Z"
   },
   {
    "duration": 9,
    "start_time": "2022-10-05T10:51:18.901Z"
   },
   {
    "duration": 12,
    "start_time": "2022-10-05T10:51:48.076Z"
   },
   {
    "duration": 3,
    "start_time": "2022-10-05T10:52:35.875Z"
   },
   {
    "duration": 9,
    "start_time": "2022-10-05T10:52:40.676Z"
   },
   {
    "duration": 11,
    "start_time": "2022-10-05T10:52:41.468Z"
   },
   {
    "duration": 115952,
    "start_time": "2022-10-05T10:52:45.629Z"
   },
   {
    "duration": 317,
    "start_time": "2022-10-05T10:56:32.836Z"
   },
   {
    "duration": 346,
    "start_time": "2022-10-05T10:56:38.945Z"
   },
   {
    "duration": 340,
    "start_time": "2022-10-05T10:58:40.524Z"
   },
   {
    "duration": 3,
    "start_time": "2022-10-05T10:58:44.686Z"
   },
   {
    "duration": 1780,
    "start_time": "2022-10-05T10:58:47.996Z"
   },
   {
    "duration": 327,
    "start_time": "2022-10-05T10:59:07.056Z"
   },
   {
    "duration": 331,
    "start_time": "2022-10-05T10:59:26.284Z"
   },
   {
    "duration": 12,
    "start_time": "2022-10-05T11:00:33.514Z"
   },
   {
    "duration": 0,
    "start_time": "2022-10-05T11:00:33.529Z"
   },
   {
    "duration": 0,
    "start_time": "2022-10-05T11:00:33.530Z"
   },
   {
    "duration": 0,
    "start_time": "2022-10-05T11:00:33.531Z"
   },
   {
    "duration": 5,
    "start_time": "2022-10-05T11:00:33.539Z"
   },
   {
    "duration": 10,
    "start_time": "2022-10-05T11:00:33.547Z"
   },
   {
    "duration": 0,
    "start_time": "2022-10-05T11:00:33.559Z"
   },
   {
    "duration": 0,
    "start_time": "2022-10-05T11:00:33.560Z"
   },
   {
    "duration": 0,
    "start_time": "2022-10-05T11:00:33.561Z"
   },
   {
    "duration": 0,
    "start_time": "2022-10-05T11:00:33.562Z"
   },
   {
    "duration": 11,
    "start_time": "2022-10-05T11:01:09.372Z"
   },
   {
    "duration": 3,
    "start_time": "2022-10-05T11:01:15.181Z"
   },
   {
    "duration": 4,
    "start_time": "2022-10-05T11:02:03.576Z"
   },
   {
    "duration": 57,
    "start_time": "2022-10-05T11:02:03.582Z"
   },
   {
    "duration": 10,
    "start_time": "2022-10-05T11:02:03.641Z"
   },
   {
    "duration": 7,
    "start_time": "2022-10-05T11:02:03.653Z"
   },
   {
    "duration": 7,
    "start_time": "2022-10-05T11:02:03.662Z"
   },
   {
    "duration": 520,
    "start_time": "2022-10-05T11:02:03.670Z"
   },
   {
    "duration": 92704,
    "start_time": "2022-10-05T11:02:04.192Z"
   },
   {
    "duration": 230,
    "start_time": "2022-10-05T11:03:36.898Z"
   },
   {
    "duration": 268,
    "start_time": "2022-10-05T11:04:02.016Z"
   },
   {
    "duration": 247,
    "start_time": "2022-10-05T11:04:16.876Z"
   },
   {
    "duration": 10,
    "start_time": "2022-10-05T11:04:22.306Z"
   },
   {
    "duration": 15,
    "start_time": "2022-10-05T11:04:23.297Z"
   },
   {
    "duration": 22,
    "start_time": "2022-10-05T11:04:36.232Z"
   },
   {
    "duration": 254,
    "start_time": "2022-10-05T11:04:54.036Z"
   },
   {
    "duration": 13,
    "start_time": "2022-10-05T11:05:21.764Z"
   },
   {
    "duration": 15,
    "start_time": "2022-10-05T11:05:54.907Z"
   },
   {
    "duration": 17,
    "start_time": "2022-10-05T11:06:24.782Z"
   },
   {
    "duration": 10,
    "start_time": "2022-10-05T11:10:06.196Z"
   },
   {
    "duration": 24,
    "start_time": "2022-10-05T11:11:48.592Z"
   },
   {
    "duration": 249,
    "start_time": "2022-10-05T11:12:02.550Z"
   },
   {
    "duration": 243,
    "start_time": "2022-10-05T11:12:10.872Z"
   },
   {
    "duration": 232,
    "start_time": "2022-10-05T11:12:25.395Z"
   },
   {
    "duration": 31,
    "start_time": "2022-10-05T11:12:36.156Z"
   },
   {
    "duration": 30,
    "start_time": "2022-10-05T11:12:51.803Z"
   },
   {
    "duration": 33,
    "start_time": "2022-10-05T11:13:13.292Z"
   },
   {
    "duration": 22,
    "start_time": "2022-10-05T11:13:43.651Z"
   },
   {
    "duration": 23,
    "start_time": "2022-10-05T11:13:55.425Z"
   },
   {
    "duration": 32,
    "start_time": "2022-10-05T11:14:17.094Z"
   },
   {
    "duration": 37,
    "start_time": "2022-10-05T11:14:30.251Z"
   },
   {
    "duration": 31,
    "start_time": "2022-10-05T11:14:41.465Z"
   },
   {
    "duration": 32,
    "start_time": "2022-10-05T11:15:00.325Z"
   },
   {
    "duration": 31,
    "start_time": "2022-10-05T11:15:18.763Z"
   },
   {
    "duration": 24,
    "start_time": "2022-10-05T11:15:29.884Z"
   },
   {
    "duration": 31,
    "start_time": "2022-10-05T11:15:39.784Z"
   },
   {
    "duration": 27,
    "start_time": "2022-10-05T11:15:48.875Z"
   },
   {
    "duration": 21,
    "start_time": "2022-10-05T11:15:58.774Z"
   },
   {
    "duration": 22,
    "start_time": "2022-10-05T11:16:09.264Z"
   },
   {
    "duration": 31,
    "start_time": "2022-10-05T11:16:19.756Z"
   },
   {
    "duration": 26,
    "start_time": "2022-10-05T11:16:35.704Z"
   },
   {
    "duration": 24,
    "start_time": "2022-10-05T11:17:03.051Z"
   },
   {
    "duration": 1079,
    "start_time": "2022-10-08T06:29:55.095Z"
   },
   {
    "duration": 78,
    "start_time": "2022-10-08T06:29:56.176Z"
   },
   {
    "duration": 11,
    "start_time": "2022-10-08T06:29:56.475Z"
   },
   {
    "duration": 6,
    "start_time": "2022-10-08T06:29:57.263Z"
   },
   {
    "duration": 3,
    "start_time": "2022-10-08T06:29:57.612Z"
   },
   {
    "duration": 41,
    "start_time": "2022-10-08T06:29:57.963Z"
   },
   {
    "duration": 79558,
    "start_time": "2022-10-08T06:29:58.320Z"
   },
   {
    "duration": 232,
    "start_time": "2022-10-08T06:31:17.880Z"
   },
   {
    "duration": 21,
    "start_time": "2022-10-08T06:31:18.114Z"
   },
   {
    "duration": 76662,
    "start_time": "2022-10-08T06:31:34.200Z"
   },
   {
    "duration": 76323,
    "start_time": "2022-10-08T06:33:05.932Z"
   },
   {
    "duration": 202,
    "start_time": "2022-10-08T06:34:35.224Z"
   },
   {
    "duration": 228,
    "start_time": "2022-10-08T06:34:43.699Z"
   },
   {
    "duration": 208,
    "start_time": "2022-10-08T06:34:48.711Z"
   },
   {
    "duration": 512748,
    "start_time": "2022-10-08T06:35:27.152Z"
   },
   {
    "duration": 521646,
    "start_time": "2022-10-08T06:56:25.672Z"
   },
   {
    "duration": 75133,
    "start_time": "2022-10-08T08:21:38.263Z"
   },
   {
    "duration": 206,
    "start_time": "2022-10-08T08:22:53.397Z"
   },
   {
    "duration": 72080,
    "start_time": "2022-10-08T08:23:49.460Z"
   },
   {
    "duration": 71293,
    "start_time": "2022-10-08T08:25:29.241Z"
   },
   {
    "duration": 337,
    "start_time": "2022-10-08T08:27:12.732Z"
   },
   {
    "duration": 26,
    "start_time": "2022-10-08T08:27:23.479Z"
   },
   {
    "duration": 29,
    "start_time": "2022-10-08T08:27:33.274Z"
   },
   {
    "duration": 153,
    "start_time": "2022-10-08T08:28:05.045Z"
   },
   {
    "duration": 113,
    "start_time": "2022-10-08T08:28:09.092Z"
   },
   {
    "duration": 2237,
    "start_time": "2022-10-08T08:28:42.259Z"
   },
   {
    "duration": 20,
    "start_time": "2022-10-08T08:29:35.300Z"
   },
   {
    "duration": 32,
    "start_time": "2022-10-08T08:30:00.751Z"
   },
   {
    "duration": 33,
    "start_time": "2022-10-08T08:30:20.094Z"
   },
   {
    "duration": 1827,
    "start_time": "2022-10-08T08:39:00.069Z"
   },
   {
    "duration": 328,
    "start_time": "2022-10-08T08:42:45.168Z"
   },
   {
    "duration": 1368,
    "start_time": "2022-10-08T08:43:02.835Z"
   },
   {
    "duration": 308,
    "start_time": "2022-10-08T08:43:13.399Z"
   },
   {
    "duration": 3994,
    "start_time": "2022-10-08T08:44:34.772Z"
   },
   {
    "duration": 73294,
    "start_time": "2022-10-08T08:44:45.988Z"
   },
   {
    "duration": 305,
    "start_time": "2022-10-08T08:47:16.500Z"
   },
   {
    "duration": 432,
    "start_time": "2022-10-08T08:49:51.064Z"
   },
   {
    "duration": 226,
    "start_time": "2022-10-08T08:49:59.966Z"
   },
   {
    "duration": 215,
    "start_time": "2022-10-08T08:50:08.831Z"
   },
   {
    "duration": 228,
    "start_time": "2022-10-08T08:50:15.832Z"
   },
   {
    "duration": 221,
    "start_time": "2022-10-08T08:50:21.719Z"
   },
   {
    "duration": 210,
    "start_time": "2022-10-08T08:50:58.991Z"
   },
   {
    "duration": 253,
    "start_time": "2022-10-08T08:51:07.832Z"
   },
   {
    "duration": 89104,
    "start_time": "2022-10-08T08:51:29.092Z"
   },
   {
    "duration": 0,
    "start_time": "2022-10-08T08:52:58.199Z"
   },
   {
    "duration": 0,
    "start_time": "2022-10-08T08:52:58.200Z"
   },
   {
    "duration": 0,
    "start_time": "2022-10-08T08:52:58.201Z"
   },
   {
    "duration": 0,
    "start_time": "2022-10-08T08:52:58.203Z"
   },
   {
    "duration": 0,
    "start_time": "2022-10-08T08:52:58.204Z"
   },
   {
    "duration": 3,
    "start_time": "2022-10-08T08:53:01.581Z"
   },
   {
    "duration": 46,
    "start_time": "2022-10-08T08:53:01.792Z"
   },
   {
    "duration": 11,
    "start_time": "2022-10-08T08:53:02.039Z"
   },
   {
    "duration": 7,
    "start_time": "2022-10-08T08:53:03.901Z"
   },
   {
    "duration": 325,
    "start_time": "2022-10-08T08:53:04.459Z"
   },
   {
    "duration": 132438,
    "start_time": "2022-10-08T08:53:04.988Z"
   },
   {
    "duration": 249,
    "start_time": "2022-10-08T08:55:17.428Z"
   },
   {
    "duration": 112,
    "start_time": "2022-10-08T08:56:17.399Z"
   },
   {
    "duration": 306,
    "start_time": "2022-10-08T08:56:48.639Z"
   },
   {
    "duration": 124,
    "start_time": "2022-10-08T08:57:03.941Z"
   },
   {
    "duration": 25,
    "start_time": "2022-10-08T08:57:46.707Z"
   },
   {
    "duration": 122,
    "start_time": "2022-10-08T08:58:14.720Z"
   },
   {
    "duration": 31,
    "start_time": "2022-10-08T08:58:19.011Z"
   },
   {
    "duration": 3,
    "start_time": "2022-10-08T08:58:29.940Z"
   },
   {
    "duration": 43,
    "start_time": "2022-10-08T08:58:29.946Z"
   },
   {
    "duration": 10,
    "start_time": "2022-10-08T08:58:29.990Z"
   },
   {
    "duration": 5,
    "start_time": "2022-10-08T08:58:30.002Z"
   },
   {
    "duration": 342,
    "start_time": "2022-10-08T08:58:30.009Z"
   },
   {
    "duration": 28,
    "start_time": "2022-10-08T08:58:39.379Z"
   },
   {
    "duration": 323,
    "start_time": "2022-10-08T08:58:46.845Z"
   },
   {
    "duration": 38,
    "start_time": "2022-10-08T08:58:51.271Z"
   },
   {
    "duration": 40,
    "start_time": "2022-10-08T08:59:05.262Z"
   },
   {
    "duration": 26,
    "start_time": "2022-10-08T08:59:06.978Z"
   },
   {
    "duration": 78,
    "start_time": "2022-10-08T08:59:07.568Z"
   },
   {
    "duration": 29,
    "start_time": "2022-10-08T08:59:16.294Z"
   },
   {
    "duration": 29,
    "start_time": "2022-10-08T08:59:30.639Z"
   },
   {
    "duration": 1114,
    "start_time": "2022-10-08T09:00:21.932Z"
   },
   {
    "duration": 48,
    "start_time": "2022-10-08T09:00:25.007Z"
   },
   {
    "duration": 10,
    "start_time": "2022-10-08T09:00:25.547Z"
   },
   {
    "duration": 7,
    "start_time": "2022-10-08T09:00:28.099Z"
   },
   {
    "duration": 109,
    "start_time": "2022-10-08T09:00:34.180Z"
   },
   {
    "duration": 20,
    "start_time": "2022-10-08T09:00:50.000Z"
   },
   {
    "duration": 114,
    "start_time": "2022-10-08T09:01:00.381Z"
   },
   {
    "duration": 18,
    "start_time": "2022-10-08T09:01:21.560Z"
   },
   {
    "duration": 15,
    "start_time": "2022-10-08T09:01:44.512Z"
   },
   {
    "duration": 94,
    "start_time": "2022-10-08T09:15:29.607Z"
   },
   {
    "duration": 333,
    "start_time": "2022-10-08T09:18:07.281Z"
   },
   {
    "duration": 4720,
    "start_time": "2022-10-08T09:18:12.212Z"
   },
   {
    "duration": 108,
    "start_time": "2022-10-08T09:18:17.698Z"
   },
   {
    "duration": 15,
    "start_time": "2022-10-08T09:18:20.401Z"
   },
   {
    "duration": 466,
    "start_time": "2022-10-08T09:20:54.751Z"
   },
   {
    "duration": 21,
    "start_time": "2022-10-08T09:20:57.720Z"
   },
   {
    "duration": 4920,
    "start_time": "2022-10-08T09:21:03.492Z"
   },
   {
    "duration": 5014,
    "start_time": "2022-10-08T09:21:13.682Z"
   },
   {
    "duration": 11,
    "start_time": "2022-10-08T09:22:41.532Z"
   },
   {
    "duration": 8,
    "start_time": "2022-10-08T09:23:02.460Z"
   },
   {
    "duration": 10,
    "start_time": "2022-10-08T09:23:19.240Z"
   },
   {
    "duration": 10,
    "start_time": "2022-10-08T09:23:55.050Z"
   },
   {
    "duration": 87810,
    "start_time": "2022-10-08T09:29:11.428Z"
   },
   {
    "duration": 44,
    "start_time": "2022-10-08T09:32:18.420Z"
   },
   {
    "duration": 68,
    "start_time": "2022-10-08T09:32:23.839Z"
   },
   {
    "duration": 76,
    "start_time": "2022-10-08T09:32:26.804Z"
   },
   {
    "duration": 70,
    "start_time": "2022-10-08T09:32:29.120Z"
   },
   {
    "duration": 72,
    "start_time": "2022-10-08T09:32:42.994Z"
   },
   {
    "duration": 91,
    "start_time": "2022-10-08T09:32:46.694Z"
   },
   {
    "duration": 75,
    "start_time": "2022-10-08T09:32:50.540Z"
   },
   {
    "duration": 71,
    "start_time": "2022-10-08T09:32:54.200Z"
   },
   {
    "duration": 73,
    "start_time": "2022-10-08T09:32:58.820Z"
   },
   {
    "duration": 79,
    "start_time": "2022-10-08T09:33:02.712Z"
   },
   {
    "duration": 73,
    "start_time": "2022-10-08T09:33:08.319Z"
   },
   {
    "duration": 74,
    "start_time": "2022-10-08T09:33:10.911Z"
   },
   {
    "duration": 83,
    "start_time": "2022-10-08T09:33:13.200Z"
   },
   {
    "duration": 70,
    "start_time": "2022-10-08T09:33:19.240Z"
   },
   {
    "duration": 69,
    "start_time": "2022-10-08T09:33:21.570Z"
   },
   {
    "duration": 78,
    "start_time": "2022-10-08T09:33:23.692Z"
   },
   {
    "duration": 71,
    "start_time": "2022-10-08T09:33:25.620Z"
   },
   {
    "duration": 69,
    "start_time": "2022-10-08T09:33:27.480Z"
   },
   {
    "duration": 67,
    "start_time": "2022-10-08T09:33:31.201Z"
   },
   {
    "duration": 136,
    "start_time": "2022-10-08T09:33:40.052Z"
   },
   {
    "duration": 132,
    "start_time": "2022-10-08T09:33:43.860Z"
   },
   {
    "duration": 133,
    "start_time": "2022-10-08T09:33:46.254Z"
   },
   {
    "duration": 132,
    "start_time": "2022-10-08T09:33:48.220Z"
   },
   {
    "duration": 145,
    "start_time": "2022-10-08T09:33:54.439Z"
   },
   {
    "duration": 12,
    "start_time": "2022-10-08T09:34:04.446Z"
   },
   {
    "duration": 11,
    "start_time": "2022-10-08T09:34:17.735Z"
   },
   {
    "duration": 4,
    "start_time": "2022-10-08T09:34:23.240Z"
   },
   {
    "duration": 34,
    "start_time": "2022-10-08T09:34:26.919Z"
   },
   {
    "duration": 29,
    "start_time": "2022-10-08T09:34:45.188Z"
   },
   {
    "duration": 35,
    "start_time": "2022-10-08T09:35:07.360Z"
   },
   {
    "duration": 28,
    "start_time": "2022-10-08T09:35:41.828Z"
   },
   {
    "duration": 133,
    "start_time": "2022-10-08T09:35:48.540Z"
   },
   {
    "duration": 143,
    "start_time": "2022-10-08T09:35:54.273Z"
   },
   {
    "duration": 293,
    "start_time": "2022-10-08T09:36:13.978Z"
   },
   {
    "duration": 23,
    "start_time": "2022-10-08T09:39:17.785Z"
   },
   {
    "duration": 19,
    "start_time": "2022-10-08T09:40:21.705Z"
   },
   {
    "duration": 20,
    "start_time": "2022-10-08T09:40:40.820Z"
   },
   {
    "duration": 11,
    "start_time": "2022-10-08T09:40:51.021Z"
   },
   {
    "duration": 13,
    "start_time": "2022-10-08T09:40:55.322Z"
   },
   {
    "duration": 39,
    "start_time": "2022-10-08T09:40:58.305Z"
   },
   {
    "duration": 13,
    "start_time": "2022-10-08T09:41:00.250Z"
   },
   {
    "duration": 384,
    "start_time": "2022-10-08T09:41:17.520Z"
   },
   {
    "duration": 380,
    "start_time": "2022-10-08T09:41:27.482Z"
   },
   {
    "duration": 10,
    "start_time": "2022-10-08T09:41:28.240Z"
   },
   {
    "duration": 91101,
    "start_time": "2022-10-08T09:42:29.710Z"
   },
   {
    "duration": 55,
    "start_time": "2022-10-08T09:44:54.929Z"
   },
   {
    "duration": 150,
    "start_time": "2022-10-08T09:45:01.112Z"
   },
   {
    "duration": 154,
    "start_time": "2022-10-08T09:48:08.430Z"
   },
   {
    "duration": 8,
    "start_time": "2022-10-08T09:52:26.944Z"
   },
   {
    "duration": 7,
    "start_time": "2022-10-08T09:53:06.841Z"
   },
   {
    "duration": 17,
    "start_time": "2022-10-08T09:53:30.261Z"
   },
   {
    "duration": 8,
    "start_time": "2022-10-08T10:01:36.728Z"
   },
   {
    "duration": 7,
    "start_time": "2022-10-08T10:01:37.629Z"
   },
   {
    "duration": 17,
    "start_time": "2022-10-08T10:01:38.485Z"
   },
   {
    "duration": 10,
    "start_time": "2022-10-08T10:09:53.905Z"
   },
   {
    "duration": 3,
    "start_time": "2022-10-08T10:09:57.685Z"
   },
   {
    "duration": 5,
    "start_time": "2022-10-08T10:09:58.439Z"
   },
   {
    "duration": 7,
    "start_time": "2022-10-08T10:10:46.685Z"
   },
   {
    "duration": 6,
    "start_time": "2022-10-08T10:10:52.494Z"
   },
   {
    "duration": 9,
    "start_time": "2022-10-08T10:12:18.866Z"
   },
   {
    "duration": 5,
    "start_time": "2022-10-08T10:12:23.620Z"
   },
   {
    "duration": 5,
    "start_time": "2022-10-08T10:12:24.105Z"
   },
   {
    "duration": 5,
    "start_time": "2022-10-08T10:12:34.645Z"
   },
   {
    "duration": 226,
    "start_time": "2022-10-08T10:13:04.118Z"
   },
   {
    "duration": 252,
    "start_time": "2022-10-08T10:13:17.065Z"
   },
   {
    "duration": 222,
    "start_time": "2022-10-08T10:13:17.913Z"
   },
   {
    "duration": 5,
    "start_time": "2022-10-08T10:16:24.890Z"
   },
   {
    "duration": 11,
    "start_time": "2022-10-08T10:19:56.066Z"
   },
   {
    "duration": 253,
    "start_time": "2022-10-08T10:20:01.653Z"
   },
   {
    "duration": 260,
    "start_time": "2022-10-08T10:20:06.765Z"
   },
   {
    "duration": 493,
    "start_time": "2022-10-08T10:20:08.253Z"
   },
   {
    "duration": 10,
    "start_time": "2022-10-08T10:22:12.622Z"
   },
   {
    "duration": 254,
    "start_time": "2022-10-08T10:22:16.854Z"
   },
   {
    "duration": 8,
    "start_time": "2022-10-08T10:22:19.466Z"
   },
   {
    "duration": 8,
    "start_time": "2022-10-08T10:22:28.285Z"
   },
   {
    "duration": 2,
    "start_time": "2022-10-08T10:34:58.955Z"
   },
   {
    "duration": 7,
    "start_time": "2022-10-08T10:36:01.586Z"
   },
   {
    "duration": 10,
    "start_time": "2022-10-08T10:36:02.365Z"
   },
   {
    "duration": 8,
    "start_time": "2022-10-08T10:36:02.885Z"
   },
   {
    "duration": 8,
    "start_time": "2022-10-08T10:36:14.979Z"
   },
   {
    "duration": 12,
    "start_time": "2022-10-08T10:36:17.814Z"
   },
   {
    "duration": 10,
    "start_time": "2022-10-08T10:36:35.926Z"
   },
   {
    "duration": 9,
    "start_time": "2022-10-08T10:36:40.885Z"
   },
   {
    "duration": 11,
    "start_time": "2022-10-08T10:36:48.105Z"
   },
   {
    "duration": 9,
    "start_time": "2022-10-08T10:36:51.404Z"
   },
   {
    "duration": 9,
    "start_time": "2022-10-08T10:37:01.689Z"
   },
   {
    "duration": 4,
    "start_time": "2022-10-08T10:37:16.917Z"
   },
   {
    "duration": 5,
    "start_time": "2022-10-08T10:37:22.225Z"
   },
   {
    "duration": 9,
    "start_time": "2022-10-08T10:37:32.437Z"
   },
   {
    "duration": 10,
    "start_time": "2022-10-08T10:37:38.825Z"
   },
   {
    "duration": 4,
    "start_time": "2022-10-08T10:37:44.133Z"
   },
   {
    "duration": 6,
    "start_time": "2022-10-08T10:37:50.626Z"
   },
   {
    "duration": 225,
    "start_time": "2022-10-08T10:37:51.105Z"
   },
   {
    "duration": 7,
    "start_time": "2022-10-08T10:37:52.197Z"
   },
   {
    "duration": 7,
    "start_time": "2022-10-08T10:38:05.165Z"
   },
   {
    "duration": 9,
    "start_time": "2022-10-08T10:38:05.377Z"
   },
   {
    "duration": 8,
    "start_time": "2022-10-08T10:38:05.547Z"
   },
   {
    "duration": 6,
    "start_time": "2022-10-08T10:38:05.869Z"
   },
   {
    "duration": 9,
    "start_time": "2022-10-08T10:38:06.006Z"
   },
   {
    "duration": 9,
    "start_time": "2022-10-08T10:38:06.148Z"
   },
   {
    "duration": 20,
    "start_time": "2022-10-08T10:38:06.465Z"
   },
   {
    "duration": 11,
    "start_time": "2022-10-08T10:38:06.625Z"
   },
   {
    "duration": 6,
    "start_time": "2022-10-08T10:38:11.788Z"
   },
   {
    "duration": 9,
    "start_time": "2022-10-08T10:38:12.657Z"
   },
   {
    "duration": 4,
    "start_time": "2022-10-08T10:38:16.676Z"
   },
   {
    "duration": 6,
    "start_time": "2022-10-08T10:38:23.997Z"
   },
   {
    "duration": 239,
    "start_time": "2022-10-08T10:38:24.689Z"
   },
   {
    "duration": 8,
    "start_time": "2022-10-08T10:38:27.366Z"
   },
   {
    "duration": 7,
    "start_time": "2022-10-08T10:38:29.093Z"
   },
   {
    "duration": 9,
    "start_time": "2022-10-08T10:38:29.678Z"
   },
   {
    "duration": 9,
    "start_time": "2022-10-08T10:38:58.193Z"
   },
   {
    "duration": 9,
    "start_time": "2022-10-08T10:39:05.349Z"
   },
   {
    "duration": 7,
    "start_time": "2022-10-08T10:39:15.706Z"
   },
   {
    "duration": 9,
    "start_time": "2022-10-08T10:39:16.485Z"
   },
   {
    "duration": 4,
    "start_time": "2022-10-08T10:39:25.331Z"
   },
   {
    "duration": 7,
    "start_time": "2022-10-08T10:39:31.730Z"
   },
   {
    "duration": 5,
    "start_time": "2022-10-08T10:39:32.337Z"
   },
   {
    "duration": 9,
    "start_time": "2022-10-08T10:39:34.548Z"
   },
   {
    "duration": 6,
    "start_time": "2022-10-08T10:39:35.505Z"
   },
   {
    "duration": 6,
    "start_time": "2022-10-08T10:39:35.867Z"
   },
   {
    "duration": 12,
    "start_time": "2022-10-08T10:39:36.706Z"
   },
   {
    "duration": 17,
    "start_time": "2022-10-08T10:39:37.286Z"
   },
   {
    "duration": 9,
    "start_time": "2022-10-08T10:39:37.513Z"
   },
   {
    "duration": 4,
    "start_time": "2022-10-08T10:39:42.353Z"
   },
   {
    "duration": 6,
    "start_time": "2022-10-08T10:39:52.653Z"
   },
   {
    "duration": 164,
    "start_time": "2022-10-08T11:13:38.617Z"
   },
   {
    "duration": 10,
    "start_time": "2022-10-08T11:13:55.338Z"
   },
   {
    "duration": 10,
    "start_time": "2022-10-08T11:14:02.213Z"
   },
   {
    "duration": 4,
    "start_time": "2022-10-08T11:14:06.222Z"
   },
   {
    "duration": 6,
    "start_time": "2022-10-08T11:14:14.165Z"
   },
   {
    "duration": 12,
    "start_time": "2022-10-08T11:17:02.131Z"
   },
   {
    "duration": 10,
    "start_time": "2022-10-08T11:17:47.155Z"
   },
   {
    "duration": 20,
    "start_time": "2022-10-08T11:18:53.895Z"
   },
   {
    "duration": 25,
    "start_time": "2022-10-08T11:19:16.627Z"
   },
   {
    "duration": 7,
    "start_time": "2022-10-08T11:30:05.516Z"
   },
   {
    "duration": 1386,
    "start_time": "2022-10-09T15:21:21.672Z"
   },
   {
    "duration": 132,
    "start_time": "2022-10-09T15:21:23.060Z"
   },
   {
    "duration": 11,
    "start_time": "2022-10-09T15:21:23.193Z"
   },
   {
    "duration": 4422,
    "start_time": "2022-10-09T15:21:23.205Z"
   },
   {
    "duration": 8,
    "start_time": "2022-10-09T15:21:27.629Z"
   },
   {
    "duration": 270,
    "start_time": "2022-10-09T15:21:27.638Z"
   },
   {
    "duration": 112,
    "start_time": "2022-10-09T15:21:27.909Z"
   },
   {
    "duration": 0,
    "start_time": "2022-10-09T15:21:28.023Z"
   },
   {
    "duration": 0,
    "start_time": "2022-10-09T15:21:28.024Z"
   },
   {
    "duration": 0,
    "start_time": "2022-10-09T15:21:28.025Z"
   },
   {
    "duration": 0,
    "start_time": "2022-10-09T15:21:28.026Z"
   },
   {
    "duration": 1,
    "start_time": "2022-10-09T15:21:28.038Z"
   },
   {
    "duration": 1,
    "start_time": "2022-10-09T15:21:28.039Z"
   },
   {
    "duration": 0,
    "start_time": "2022-10-09T15:21:28.041Z"
   },
   {
    "duration": 0,
    "start_time": "2022-10-09T15:21:28.042Z"
   },
   {
    "duration": 0,
    "start_time": "2022-10-09T15:21:28.043Z"
   },
   {
    "duration": 0,
    "start_time": "2022-10-09T15:21:28.044Z"
   },
   {
    "duration": 0,
    "start_time": "2022-10-09T15:21:28.045Z"
   },
   {
    "duration": 0,
    "start_time": "2022-10-09T15:21:28.046Z"
   },
   {
    "duration": 12,
    "start_time": "2022-10-09T15:22:05.630Z"
   },
   {
    "duration": 7,
    "start_time": "2022-10-09T15:22:20.845Z"
   },
   {
    "duration": 6,
    "start_time": "2022-10-09T15:22:24.773Z"
   },
   {
    "duration": 6,
    "start_time": "2022-10-09T15:22:39.953Z"
   },
   {
    "duration": 7,
    "start_time": "2022-10-09T15:26:12.053Z"
   },
   {
    "duration": 9,
    "start_time": "2022-10-09T15:29:23.505Z"
   },
   {
    "duration": 11,
    "start_time": "2022-10-09T15:29:29.014Z"
   },
   {
    "duration": 6,
    "start_time": "2022-10-09T15:29:50.252Z"
   },
   {
    "duration": 373,
    "start_time": "2022-10-09T15:31:47.672Z"
   },
   {
    "duration": 9,
    "start_time": "2022-10-09T15:32:03.173Z"
   },
   {
    "duration": 88105,
    "start_time": "2022-10-09T15:32:03.813Z"
   },
   {
    "duration": 148,
    "start_time": "2022-10-09T15:33:31.920Z"
   },
   {
    "duration": 7,
    "start_time": "2022-10-09T15:33:32.070Z"
   },
   {
    "duration": 9,
    "start_time": "2022-10-09T15:33:32.079Z"
   },
   {
    "duration": 8,
    "start_time": "2022-10-09T15:33:32.090Z"
   },
   {
    "duration": 7,
    "start_time": "2022-10-09T15:33:32.099Z"
   },
   {
    "duration": 6,
    "start_time": "2022-10-09T15:33:32.107Z"
   },
   {
    "duration": 31,
    "start_time": "2022-10-09T15:33:32.114Z"
   },
   {
    "duration": 13,
    "start_time": "2022-10-09T15:33:32.147Z"
   },
   {
    "duration": 0,
    "start_time": "2022-10-09T15:33:32.161Z"
   },
   {
    "duration": 0,
    "start_time": "2022-10-09T15:33:32.162Z"
   },
   {
    "duration": 0,
    "start_time": "2022-10-09T15:33:32.163Z"
   },
   {
    "duration": 0,
    "start_time": "2022-10-09T15:33:32.165Z"
   },
   {
    "duration": 17,
    "start_time": "2022-10-09T15:35:00.802Z"
   },
   {
    "duration": 9,
    "start_time": "2022-10-09T15:35:01.674Z"
   },
   {
    "duration": 9,
    "start_time": "2022-10-09T15:35:02.073Z"
   },
   {
    "duration": 3,
    "start_time": "2022-10-09T15:35:12.353Z"
   },
   {
    "duration": 5,
    "start_time": "2022-10-09T15:35:20.692Z"
   },
   {
    "duration": 3,
    "start_time": "2022-10-09T15:36:00.563Z"
   },
   {
    "duration": 46,
    "start_time": "2022-10-09T15:36:00.568Z"
   },
   {
    "duration": 10,
    "start_time": "2022-10-09T15:36:00.616Z"
   },
   {
    "duration": 4429,
    "start_time": "2022-10-09T15:36:00.627Z"
   },
   {
    "duration": 7,
    "start_time": "2022-10-09T15:36:05.058Z"
   },
   {
    "duration": 305,
    "start_time": "2022-10-09T15:36:05.067Z"
   },
   {
    "duration": 410,
    "start_time": "2022-10-09T15:36:05.374Z"
   },
   {
    "duration": 9,
    "start_time": "2022-10-09T15:36:05.785Z"
   },
   {
    "duration": 88117,
    "start_time": "2022-10-09T15:36:05.796Z"
   },
   {
    "duration": 143,
    "start_time": "2022-10-09T15:37:33.914Z"
   },
   {
    "duration": 6,
    "start_time": "2022-10-09T15:37:34.059Z"
   },
   {
    "duration": 7,
    "start_time": "2022-10-09T15:37:34.066Z"
   },
   {
    "duration": 7,
    "start_time": "2022-10-09T15:37:34.074Z"
   },
   {
    "duration": 5,
    "start_time": "2022-10-09T15:37:34.083Z"
   },
   {
    "duration": 5,
    "start_time": "2022-10-09T15:37:34.090Z"
   },
   {
    "duration": 7,
    "start_time": "2022-10-09T15:37:34.096Z"
   },
   {
    "duration": 45,
    "start_time": "2022-10-09T15:37:34.105Z"
   },
   {
    "duration": 8,
    "start_time": "2022-10-09T15:37:34.152Z"
   },
   {
    "duration": 0,
    "start_time": "2022-10-09T15:37:34.161Z"
   },
   {
    "duration": 0,
    "start_time": "2022-10-09T15:37:34.162Z"
   },
   {
    "duration": 0,
    "start_time": "2022-10-09T15:37:34.163Z"
   },
   {
    "duration": 9,
    "start_time": "2022-10-09T15:37:42.142Z"
   },
   {
    "duration": 10,
    "start_time": "2022-10-09T15:37:47.013Z"
   },
   {
    "duration": 8,
    "start_time": "2022-10-09T15:37:55.446Z"
   },
   {
    "duration": 9,
    "start_time": "2022-10-09T15:38:19.222Z"
   },
   {
    "duration": 9,
    "start_time": "2022-10-09T15:38:36.973Z"
   },
   {
    "duration": 9,
    "start_time": "2022-10-09T15:38:40.485Z"
   },
   {
    "duration": 3,
    "start_time": "2022-10-09T15:38:45.601Z"
   },
   {
    "duration": 4,
    "start_time": "2022-10-09T15:38:50.541Z"
   },
   {
    "duration": 10,
    "start_time": "2022-10-09T15:38:58.041Z"
   },
   {
    "duration": 3,
    "start_time": "2022-10-09T15:39:04.574Z"
   },
   {
    "duration": 5,
    "start_time": "2022-10-09T15:39:10.733Z"
   },
   {
    "duration": 7,
    "start_time": "2022-10-09T15:39:27.405Z"
   },
   {
    "duration": 5,
    "start_time": "2022-10-09T15:39:34.061Z"
   },
   {
    "duration": 7,
    "start_time": "2022-10-09T15:39:43.984Z"
   },
   {
    "duration": 5,
    "start_time": "2022-10-09T15:39:44.136Z"
   },
   {
    "duration": 8,
    "start_time": "2022-10-09T15:39:44.405Z"
   },
   {
    "duration": 7,
    "start_time": "2022-10-09T15:39:44.877Z"
   },
   {
    "duration": 6,
    "start_time": "2022-10-09T15:39:44.997Z"
   },
   {
    "duration": 7,
    "start_time": "2022-10-09T15:39:45.286Z"
   },
   {
    "duration": 16,
    "start_time": "2022-10-09T15:39:45.745Z"
   },
   {
    "duration": 7,
    "start_time": "2022-10-09T15:39:45.921Z"
   },
   {
    "duration": 8,
    "start_time": "2022-10-09T15:39:46.225Z"
   },
   {
    "duration": 7,
    "start_time": "2022-10-09T15:39:46.925Z"
   },
   {
    "duration": 8,
    "start_time": "2022-10-09T15:39:47.114Z"
   },
   {
    "duration": 1747,
    "start_time": "2022-10-09T16:15:24.745Z"
   },
   {
    "duration": 43,
    "start_time": "2022-10-09T16:15:26.494Z"
   },
   {
    "duration": 12,
    "start_time": "2022-10-09T16:15:26.539Z"
   },
   {
    "duration": 4300,
    "start_time": "2022-10-09T16:15:26.553Z"
   },
   {
    "duration": 9,
    "start_time": "2022-10-09T16:15:30.855Z"
   },
   {
    "duration": 240,
    "start_time": "2022-10-09T16:15:30.866Z"
   },
   {
    "duration": 436,
    "start_time": "2022-10-09T16:15:31.110Z"
   },
   {
    "duration": 9,
    "start_time": "2022-10-09T16:15:31.548Z"
   },
   {
    "duration": 93307,
    "start_time": "2022-10-09T16:15:31.559Z"
   },
   {
    "duration": 162,
    "start_time": "2022-10-09T16:17:04.867Z"
   },
   {
    "duration": 6,
    "start_time": "2022-10-09T16:17:05.030Z"
   },
   {
    "duration": 15,
    "start_time": "2022-10-09T16:17:05.038Z"
   },
   {
    "duration": 9,
    "start_time": "2022-10-09T16:17:05.055Z"
   },
   {
    "duration": 7,
    "start_time": "2022-10-09T16:17:05.068Z"
   },
   {
    "duration": 25,
    "start_time": "2022-10-09T16:17:05.077Z"
   },
   {
    "duration": 7,
    "start_time": "2022-10-09T16:17:05.108Z"
   },
   {
    "duration": 14,
    "start_time": "2022-10-09T16:17:05.116Z"
   },
   {
    "duration": 17,
    "start_time": "2022-10-09T16:17:05.131Z"
   },
   {
    "duration": 9,
    "start_time": "2022-10-09T16:17:05.149Z"
   },
   {
    "duration": 7,
    "start_time": "2022-10-09T16:17:05.160Z"
   },
   {
    "duration": 6,
    "start_time": "2022-10-09T16:17:05.169Z"
   },
   {
    "duration": 49,
    "start_time": "2022-10-09T19:45:13.271Z"
   },
   {
    "duration": 1479,
    "start_time": "2022-10-09T19:45:17.531Z"
   },
   {
    "duration": 123,
    "start_time": "2022-10-09T19:45:19.013Z"
   },
   {
    "duration": 10,
    "start_time": "2022-10-09T19:45:19.138Z"
   },
   {
    "duration": 4237,
    "start_time": "2022-10-09T19:45:19.151Z"
   },
   {
    "duration": 105,
    "start_time": "2022-10-09T19:45:23.389Z"
   },
   {
    "duration": 111,
    "start_time": "2022-10-09T19:45:35.398Z"
   },
   {
    "duration": 76,
    "start_time": "2022-10-09T19:45:50.251Z"
   },
   {
    "duration": 170,
    "start_time": "2022-10-09T19:46:01.447Z"
   },
   {
    "duration": 78,
    "start_time": "2022-10-09T19:46:17.571Z"
   },
   {
    "duration": 81,
    "start_time": "2022-10-09T19:46:27.999Z"
   },
   {
    "duration": 12,
    "start_time": "2022-10-09T19:55:44.448Z"
   },
   {
    "duration": 19,
    "start_time": "2022-10-09T19:55:59.600Z"
   },
   {
    "duration": 58,
    "start_time": "2022-10-09T19:56:13.212Z"
   },
   {
    "duration": 3,
    "start_time": "2022-10-09T19:56:33.901Z"
   },
   {
    "duration": 166,
    "start_time": "2022-10-09T19:56:38.171Z"
   },
   {
    "duration": 10,
    "start_time": "2022-10-09T19:57:26.404Z"
   },
   {
    "duration": 16,
    "start_time": "2022-10-09T20:02:31.439Z"
   },
   {
    "duration": 18,
    "start_time": "2022-10-09T20:03:01.123Z"
   },
   {
    "duration": 16,
    "start_time": "2022-10-09T20:03:13.538Z"
   },
   {
    "duration": 12,
    "start_time": "2022-10-09T20:03:23.710Z"
   },
   {
    "duration": 12,
    "start_time": "2022-10-09T20:04:10.681Z"
   },
   {
    "duration": 10,
    "start_time": "2022-10-09T20:04:23.378Z"
   },
   {
    "duration": 10,
    "start_time": "2022-10-09T20:04:41.772Z"
   },
   {
    "duration": 12,
    "start_time": "2022-10-09T20:04:54.413Z"
   },
   {
    "duration": 11,
    "start_time": "2022-10-09T20:05:11.301Z"
   },
   {
    "duration": 16,
    "start_time": "2022-10-09T20:05:20.331Z"
   },
   {
    "duration": 11,
    "start_time": "2022-10-09T20:05:45.622Z"
   },
   {
    "duration": 216,
    "start_time": "2022-10-09T20:11:45.429Z"
   },
   {
    "duration": 6,
    "start_time": "2022-10-09T20:11:47.397Z"
   },
   {
    "duration": 8,
    "start_time": "2022-10-09T20:11:50.191Z"
   },
   {
    "duration": 4,
    "start_time": "2022-10-09T20:14:30.460Z"
   },
   {
    "duration": 7,
    "start_time": "2022-10-09T20:14:39.159Z"
   },
   {
    "duration": 4,
    "start_time": "2022-10-09T20:15:09.663Z"
   },
   {
    "duration": 129,
    "start_time": "2022-10-09T20:15:23.463Z"
   },
   {
    "duration": 128,
    "start_time": "2022-10-09T20:15:46.120Z"
   },
   {
    "duration": 200,
    "start_time": "2022-10-09T20:15:50.647Z"
   },
   {
    "duration": 430,
    "start_time": "2022-10-09T20:19:06.609Z"
   },
   {
    "duration": 450,
    "start_time": "2022-10-09T20:19:34.302Z"
   },
   {
    "duration": 460,
    "start_time": "2022-10-09T20:19:44.275Z"
   },
   {
    "duration": 427,
    "start_time": "2022-10-09T20:19:57.312Z"
   },
   {
    "duration": 427,
    "start_time": "2022-10-09T20:20:05.094Z"
   },
   {
    "duration": 459,
    "start_time": "2022-10-09T20:20:14.319Z"
   },
   {
    "duration": 456,
    "start_time": "2022-10-09T20:20:33.810Z"
   },
   {
    "duration": 423,
    "start_time": "2022-10-09T20:20:40.350Z"
   },
   {
    "duration": 422,
    "start_time": "2022-10-09T20:20:58.722Z"
   },
   {
    "duration": 15,
    "start_time": "2022-10-09T20:22:15.201Z"
   },
   {
    "duration": 420,
    "start_time": "2022-10-09T20:23:48.199Z"
   },
   {
    "duration": 531,
    "start_time": "2022-10-09T20:23:57.135Z"
   },
   {
    "duration": 510,
    "start_time": "2022-10-09T20:24:02.535Z"
   },
   {
    "duration": 424,
    "start_time": "2022-10-09T20:24:15.242Z"
   },
   {
    "duration": 420,
    "start_time": "2022-10-09T20:24:18.519Z"
   },
   {
    "duration": 423,
    "start_time": "2022-10-09T20:25:45.442Z"
   },
   {
    "duration": 450,
    "start_time": "2022-10-09T20:26:00.469Z"
   },
   {
    "duration": 516,
    "start_time": "2022-10-09T20:26:29.731Z"
   },
   {
    "duration": 603,
    "start_time": "2022-10-09T20:32:13.446Z"
   },
   {
    "duration": 523,
    "start_time": "2022-10-09T20:32:20.992Z"
   },
   {
    "duration": 536,
    "start_time": "2022-10-09T20:32:35.431Z"
   },
   {
    "duration": 525,
    "start_time": "2022-10-09T20:32:42.121Z"
   },
   {
    "duration": 48,
    "start_time": "2022-10-09T20:33:31.281Z"
   },
   {
    "duration": 520,
    "start_time": "2022-10-09T20:33:39.542Z"
   },
   {
    "duration": 567,
    "start_time": "2022-10-09T20:33:55.073Z"
   },
   {
    "duration": 528,
    "start_time": "2022-10-09T20:34:08.581Z"
   },
   {
    "duration": 10,
    "start_time": "2022-10-09T20:39:16.962Z"
   },
   {
    "duration": 528,
    "start_time": "2022-10-09T20:39:21.121Z"
   },
   {
    "duration": 111,
    "start_time": "2022-10-09T20:39:25.513Z"
   },
   {
    "duration": 134,
    "start_time": "2022-10-09T20:41:43.893Z"
   },
   {
    "duration": 9,
    "start_time": "2022-10-09T20:41:47.853Z"
   },
   {
    "duration": 12,
    "start_time": "2022-10-09T20:42:00.722Z"
   },
   {
    "duration": 7,
    "start_time": "2022-10-09T20:42:13.521Z"
   },
   {
    "duration": 626,
    "start_time": "2022-10-09T20:42:47.142Z"
   },
   {
    "duration": 91784,
    "start_time": "2022-10-09T20:43:09.160Z"
   },
   {
    "duration": 66,
    "start_time": "2022-10-10T03:29:25.635Z"
   },
   {
    "duration": 1749,
    "start_time": "2022-10-10T03:29:39.919Z"
   },
   {
    "duration": 150,
    "start_time": "2022-10-10T03:29:41.672Z"
   },
   {
    "duration": 13,
    "start_time": "2022-10-10T03:29:41.823Z"
   },
   {
    "duration": 5011,
    "start_time": "2022-10-10T03:29:41.838Z"
   },
   {
    "duration": 127,
    "start_time": "2022-10-10T03:29:46.851Z"
   },
   {
    "duration": 11,
    "start_time": "2022-10-10T03:29:46.980Z"
   },
   {
    "duration": 306,
    "start_time": "2022-10-10T03:29:46.993Z"
   },
   {
    "duration": 154,
    "start_time": "2022-10-10T03:29:47.301Z"
   },
   {
    "duration": 11,
    "start_time": "2022-10-10T03:29:47.456Z"
   },
   {
    "duration": 590,
    "start_time": "2022-10-10T03:29:47.469Z"
   },
   {
    "duration": 146,
    "start_time": "2022-10-10T03:29:48.062Z"
   },
   {
    "duration": 8,
    "start_time": "2022-10-10T03:29:48.211Z"
   },
   {
    "duration": 96189,
    "start_time": "2022-10-10T03:32:57.860Z"
   },
   {
    "duration": 96123,
    "start_time": "2022-10-10T03:36:55.739Z"
   },
   {
    "duration": 97028,
    "start_time": "2022-10-10T03:40:21.087Z"
   },
   {
    "duration": 98357,
    "start_time": "2022-10-10T03:42:59.677Z"
   },
   {
    "duration": 101303,
    "start_time": "2022-10-10T03:52:00.019Z"
   },
   {
    "duration": 100014,
    "start_time": "2022-10-10T03:55:47.966Z"
   },
   {
    "duration": 100841,
    "start_time": "2022-10-10T03:58:29.648Z"
   },
   {
    "duration": 3513,
    "start_time": "2022-10-10T04:01:33.588Z"
   },
   {
    "duration": 3534,
    "start_time": "2022-10-10T04:02:03.355Z"
   },
   {
    "duration": 126,
    "start_time": "2022-10-10T04:02:47.208Z"
   },
   {
    "duration": 160,
    "start_time": "2022-10-10T04:02:54.749Z"
   },
   {
    "duration": 134,
    "start_time": "2022-10-10T04:02:58.560Z"
   },
   {
    "duration": 80,
    "start_time": "2022-10-10T04:31:13.331Z"
   },
   {
    "duration": 5,
    "start_time": "2022-10-10T04:31:21.632Z"
   },
   {
    "duration": 11,
    "start_time": "2022-10-10T04:31:27.312Z"
   },
   {
    "duration": 480691,
    "start_time": "2022-10-10T04:31:45.522Z"
   },
   {
    "duration": 135,
    "start_time": "2022-10-10T04:45:45.341Z"
   },
   {
    "duration": 66,
    "start_time": "2022-10-10T04:45:50.733Z"
   },
   {
    "duration": 75,
    "start_time": "2022-10-10T04:46:37.295Z"
   },
   {
    "duration": 486832,
    "start_time": "2022-10-10T04:47:02.340Z"
   },
   {
    "duration": 4,
    "start_time": "2022-10-10T04:57:54.152Z"
   },
   {
    "duration": 142,
    "start_time": "2022-10-10T04:57:58.868Z"
   },
   {
    "duration": 131,
    "start_time": "2022-10-10T04:58:10.791Z"
   },
   {
    "duration": 110766,
    "start_time": "2022-10-10T04:59:02.851Z"
   },
   {
    "duration": 143,
    "start_time": "2022-10-10T05:03:13.511Z"
   },
   {
    "duration": 135,
    "start_time": "2022-10-10T05:03:24.268Z"
   },
   {
    "duration": 146,
    "start_time": "2022-10-10T05:03:54.123Z"
   },
   {
    "duration": 127,
    "start_time": "2022-10-10T05:04:43.831Z"
   },
   {
    "duration": 133,
    "start_time": "2022-10-10T05:10:18.914Z"
   },
   {
    "duration": 7,
    "start_time": "2022-10-10T05:10:19.886Z"
   },
   {
    "duration": 12,
    "start_time": "2022-10-10T05:10:21.531Z"
   },
   {
    "duration": 159,
    "start_time": "2022-10-10T05:11:00.031Z"
   },
   {
    "duration": 10,
    "start_time": "2022-10-10T05:11:19.843Z"
   },
   {
    "duration": 14,
    "start_time": "2022-10-10T05:31:46.092Z"
   },
   {
    "duration": 13,
    "start_time": "2022-10-10T05:32:20.230Z"
   },
   {
    "duration": 13,
    "start_time": "2022-10-10T05:32:52.982Z"
   },
   {
    "duration": 13,
    "start_time": "2022-10-10T05:33:07.429Z"
   },
   {
    "duration": 12,
    "start_time": "2022-10-10T05:33:53.582Z"
   },
   {
    "duration": 8,
    "start_time": "2022-10-10T05:34:20.872Z"
   },
   {
    "duration": 6,
    "start_time": "2022-10-10T05:34:27.858Z"
   },
   {
    "duration": 7,
    "start_time": "2022-10-10T05:34:50.581Z"
   },
   {
    "duration": 8,
    "start_time": "2022-10-10T05:34:58.249Z"
   },
   {
    "duration": 8,
    "start_time": "2022-10-10T05:35:40.884Z"
   },
   {
    "duration": 15,
    "start_time": "2022-10-10T05:35:45.522Z"
   },
   {
    "duration": 4,
    "start_time": "2022-10-10T05:36:10.189Z"
   },
   {
    "duration": 58,
    "start_time": "2022-10-10T05:36:10.196Z"
   },
   {
    "duration": 12,
    "start_time": "2022-10-10T05:36:10.256Z"
   },
   {
    "duration": 5209,
    "start_time": "2022-10-10T05:36:10.270Z"
   },
   {
    "duration": 155,
    "start_time": "2022-10-10T05:36:15.482Z"
   },
   {
    "duration": 25,
    "start_time": "2022-10-10T05:36:15.639Z"
   },
   {
    "duration": 319,
    "start_time": "2022-10-10T05:36:15.666Z"
   },
   {
    "duration": 177,
    "start_time": "2022-10-10T05:36:15.987Z"
   },
   {
    "duration": 12,
    "start_time": "2022-10-10T05:36:16.166Z"
   },
   {
    "duration": 619,
    "start_time": "2022-10-10T05:36:16.180Z"
   },
   {
    "duration": 164,
    "start_time": "2022-10-10T05:36:16.801Z"
   },
   {
    "duration": 10,
    "start_time": "2022-10-10T05:36:16.967Z"
   },
   {
    "duration": 108964,
    "start_time": "2022-10-10T05:36:16.978Z"
   },
   {
    "duration": 3538,
    "start_time": "2022-10-10T05:38:05.953Z"
   },
   {
    "duration": 3,
    "start_time": "2022-10-10T05:38:09.492Z"
   },
   {
    "duration": 9,
    "start_time": "2022-10-10T05:38:09.496Z"
   },
   {
    "duration": 134,
    "start_time": "2022-10-10T05:38:09.507Z"
   },
   {
    "duration": 144,
    "start_time": "2022-10-10T05:38:09.642Z"
   },
   {
    "duration": 7,
    "start_time": "2022-10-10T05:38:09.788Z"
   },
   {
    "duration": 5,
    "start_time": "2022-10-10T06:10:51.467Z"
   },
   {
    "duration": 63,
    "start_time": "2022-10-10T06:10:51.474Z"
   },
   {
    "duration": 14,
    "start_time": "2022-10-10T06:10:51.540Z"
   },
   {
    "duration": 5074,
    "start_time": "2022-10-10T06:10:51.556Z"
   },
   {
    "duration": 125,
    "start_time": "2022-10-10T06:10:56.633Z"
   },
   {
    "duration": 13,
    "start_time": "2022-10-10T06:10:56.760Z"
   },
   {
    "duration": 302,
    "start_time": "2022-10-10T06:10:56.774Z"
   },
   {
    "duration": 144,
    "start_time": "2022-10-10T06:10:57.078Z"
   },
   {
    "duration": 8,
    "start_time": "2022-10-10T06:10:57.224Z"
   },
   {
    "duration": 560,
    "start_time": "2022-10-10T06:10:57.234Z"
   },
   {
    "duration": 140,
    "start_time": "2022-10-10T06:10:57.796Z"
   },
   {
    "duration": 19,
    "start_time": "2022-10-10T06:10:57.937Z"
   },
   {
    "duration": 107897,
    "start_time": "2022-10-10T06:10:57.957Z"
   },
   {
    "duration": 3597,
    "start_time": "2022-10-10T06:12:45.857Z"
   },
   {
    "duration": 3,
    "start_time": "2022-10-10T06:12:49.456Z"
   },
   {
    "duration": 17,
    "start_time": "2022-10-10T06:12:49.461Z"
   },
   {
    "duration": 134,
    "start_time": "2022-10-10T06:12:49.480Z"
   },
   {
    "duration": 149,
    "start_time": "2022-10-10T06:12:49.616Z"
   },
   {
    "duration": 9,
    "start_time": "2022-10-10T06:12:49.766Z"
   },
   {
    "duration": 1577,
    "start_time": "2022-10-10T10:24:35.036Z"
   },
   {
    "duration": 145,
    "start_time": "2022-10-10T10:24:36.615Z"
   },
   {
    "duration": 13,
    "start_time": "2022-10-10T10:24:36.762Z"
   },
   {
    "duration": 5321,
    "start_time": "2022-10-10T10:24:36.778Z"
   },
   {
    "duration": 104,
    "start_time": "2022-10-10T10:24:42.101Z"
   },
   {
    "duration": 19,
    "start_time": "2022-10-10T10:24:42.207Z"
   },
   {
    "duration": 305,
    "start_time": "2022-10-10T10:24:42.227Z"
   },
   {
    "duration": 152,
    "start_time": "2022-10-10T10:24:42.533Z"
   },
   {
    "duration": 9,
    "start_time": "2022-10-10T10:24:42.687Z"
   },
   {
    "duration": 561,
    "start_time": "2022-10-10T10:24:42.698Z"
   },
   {
    "duration": 148,
    "start_time": "2022-10-10T10:24:43.260Z"
   },
   {
    "duration": 8,
    "start_time": "2022-10-10T10:24:43.420Z"
   },
   {
    "duration": 108264,
    "start_time": "2022-10-10T10:24:43.429Z"
   },
   {
    "duration": 3697,
    "start_time": "2022-10-10T10:26:31.695Z"
   },
   {
    "duration": 2,
    "start_time": "2022-10-10T10:26:35.395Z"
   },
   {
    "duration": 13,
    "start_time": "2022-10-10T10:26:35.399Z"
   },
   {
    "duration": 137,
    "start_time": "2022-10-10T10:26:35.414Z"
   },
   {
    "duration": 146,
    "start_time": "2022-10-10T10:26:35.553Z"
   },
   {
    "duration": 19,
    "start_time": "2022-10-10T10:26:35.701Z"
   },
   {
    "duration": 6,
    "start_time": "2022-10-10T10:27:18.691Z"
   },
   {
    "duration": 152,
    "start_time": "2022-10-10T10:28:20.563Z"
   },
   {
    "duration": 146,
    "start_time": "2022-10-10T10:28:49.183Z"
   },
   {
    "duration": 6,
    "start_time": "2022-10-10T10:28:50.103Z"
   },
   {
    "duration": 8,
    "start_time": "2022-10-10T10:28:52.203Z"
   },
   {
    "duration": 137,
    "start_time": "2022-10-10T10:29:16.331Z"
   },
   {
    "duration": 8,
    "start_time": "2022-10-10T10:30:23.863Z"
   }
  ],
  "kernelspec": {
   "display_name": "Python 3 (ipykernel)",
   "language": "python",
   "name": "python3"
  },
  "language_info": {
   "codemirror_mode": {
    "name": "ipython",
    "version": 3
   },
   "file_extension": ".py",
   "mimetype": "text/x-python",
   "name": "python",
   "nbconvert_exporter": "python",
   "pygments_lexer": "ipython3",
   "version": "3.9.13"
  },
  "toc": {
   "base_numbering": 1,
   "nav_menu": {},
   "number_sections": true,
   "sideBar": true,
   "skip_h1_title": true,
   "title_cell": "Table of Contents",
   "title_sidebar": "Contents",
   "toc_cell": false,
   "toc_position": {},
   "toc_section_display": true,
   "toc_window_display": false
  },
  "widgets": {
   "application/vnd.jupyter.widget-state+json": {
    "state": {},
    "version_major": 2,
    "version_minor": 0
   }
  }
 },
 "nbformat": 4,
 "nbformat_minor": 2
}
