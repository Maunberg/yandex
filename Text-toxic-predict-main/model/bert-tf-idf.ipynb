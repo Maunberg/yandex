{
 "cells": [
  {
   "cell_type": "markdown",
   "metadata": {
    "id": "g_rxhmg4uR74",
    "toc": true
   },
   "source": [
    "<h1>Содержание<span class=\"tocSkip\"></span></h1>\n",
    "<li><span><a href=\"#Подготовка-данных\" data-toc-modified-id=\"Подготовка-данных-1\"><span class=\"toc-item-num\">1&nbsp;&nbsp;</span>Подготовка данных</a></span><ul class=\"toc-item\"><li><span><a href=\"#Импорт\" data-toc-modified-id=\"Импорт-1.1\"><span class=\"toc-item-num\">1.1&nbsp;&nbsp;</span>Импорт</a></span></li><li><span><a href=\"#Загрузка-и-просмотр-данных\" data-toc-modified-id=\"Загрузка-и-просмотр-данных-1.2\"><span class=\"toc-item-num\">1.2&nbsp;&nbsp;</span>Загрузка и просмотр данных</a></span></li><li><span><a href=\"#Важные-функции\" data-toc-modified-id=\"Важные-функции-1.3\"><span class=\"toc-item-num\">1.3&nbsp;&nbsp;</span>Важные функции</a></span></li><li><span><a href=\"#Анализ-данных\" data-toc-modified-id=\"Анализ-данных-1.4\"><span class=\"toc-item-num\">1.4&nbsp;&nbsp;</span>Анализ данных</a></span></li></ul></li><li><span><a href=\"#Анализ-и-подготовка-данных\" data-toc-modified-id=\"Анализ-и-подготовка-данных-2\"><span class=\"toc-item-num\">2&nbsp;&nbsp;</span>Анализ и подготовка данных</a></span><ul class=\"toc-item\"><li><span><a href=\"#Разделение-выборки\" data-toc-modified-id=\"Разделение-выборки-2.1\"><span class=\"toc-item-num\">2.1&nbsp;&nbsp;</span>Разделение выборки</a></span></li></ul></li><li><span><a href=\"#Обучение-модели\" data-toc-modified-id=\"Обучение-модели-3\"><span class=\"toc-item-num\">3&nbsp;&nbsp;</span>Обучение модели</a></span></li><li><span><a href=\"#Выводы\" data-toc-modified-id=\"Выводы-4\"><span class=\"toc-item-num\">4&nbsp;&nbsp;</span>Выводы</a></span></li><li><span><a href=\"#Анализ-и-подготовка-данных\" data-toc-modified-id=\"Анализ-и-подготовка-данных-5\"><span class=\"toc-item-num\">5&nbsp;&nbsp;</span>Анализ и подготовка данных</a></span><ul class=\"toc-item\"><li><span><a href=\"#Токенизатор-и-создание-масок\" data-toc-modified-id=\"Токенизатор-и-создание-масок-5.1\"><span class=\"toc-item-num\">5.1&nbsp;&nbsp;</span>Токенизатор и создание масок</a></span></li><li><span><a href=\"#Загрузка-модели\" data-toc-modified-id=\"Загрузка-модели-5.2\"><span class=\"toc-item-num\">5.2&nbsp;&nbsp;</span>Загрузка модели</a></span></li><li><span><a href=\"#Эмбеддинг\" data-toc-modified-id=\"Эмбеддинг-5.3\"><span class=\"toc-item-num\">5.3&nbsp;&nbsp;</span>Эмбеддинг</a></span></li><li><span><a href=\"#Разделение-выборки\" data-toc-modified-id=\"Разделение-выборки-5.4\"><span class=\"toc-item-num\">5.4&nbsp;&nbsp;</span>Разделение выборки</a></span></li></ul></li><li><span><a href=\"#Обучение-модели\" data-toc-modified-id=\"Обучение-модели-6\"><span class=\"toc-item-num\">6&nbsp;&nbsp;</span>Обучение модели</a></span><ul class=\"toc-item\"><li><span><a href=\"#Логистическая-регрессия\" data-toc-modified-id=\"Логистическая-регрессия-6.1\"><span class=\"toc-item-num\">6.1&nbsp;&nbsp;</span>Логистическая регрессия</a></span></li><li><span><a href=\"#Логистическая-регрессия\" data-toc-modified-id=\"Логистическая-регрессия-6.2\"><span class=\"toc-item-num\">6.2&nbsp;&nbsp;</span>Логистическая регрессия</a></span></li><li><span><a href=\"#Лес-деревьев\" data-toc-modified-id=\"Лес-деревьев-6.3\"><span class=\"toc-item-num\">6.3&nbsp;&nbsp;</span>Лес деревьев</a></span></li><li><span><a href=\"#LGBMClassifier\" data-toc-modified-id=\"LGBMClassifier-6.4\"><span class=\"toc-item-num\">6.4&nbsp;&nbsp;</span>LGBMClassifier</a></span></li><li><span><a href=\"#CatBoostClassifier\" data-toc-modified-id=\"CatBoostClassifier-6.5\"><span class=\"toc-item-num\">6.5&nbsp;&nbsp;</span>CatBoostClassifier</a></span></li><li><span><a href=\"#Detoxify\" data-toc-modified-id=\"Detoxify-6.6\"><span class=\"toc-item-num\">6.6&nbsp;&nbsp;</span>Detoxify</a></span></li></ul></li><li><span><a href=\"#Выводы\" data-toc-modified-id=\"Выводы-7\"><span class=\"toc-item-num\">7&nbsp;&nbsp;</span>Выводы</a></span></li><li><span><a href=\"#Анализ-и-подготовка-данных\" data-toc-modified-id=\"Анализ-и-подготовка-данных-8\"><span class=\"toc-item-num\">8&nbsp;&nbsp;</span>Анализ и подготовка данных</a></span><ul class=\"toc-item\"><li><span><a href=\"#Лемматизация\" data-toc-modified-id=\"Лемматизация-8.1\"><span class=\"toc-item-num\">8.1&nbsp;&nbsp;</span>Лемматизация</a></span></li><li><span><a href=\"#Разделение-выборки\" data-toc-modified-id=\"Разделение-выборки-8.2\"><span class=\"toc-item-num\">8.2&nbsp;&nbsp;</span>Разделение выборки</a></span></li><li><span><a href=\"#tf_idf\" data-toc-modified-id=\"tf_idf-8.3\"><span class=\"toc-item-num\">8.3&nbsp;&nbsp;</span>tf_idf</a></span></li></ul></li><li><span><a href=\"#Обучение-модели\" data-toc-modified-id=\"Обучение-модели-9\"><span class=\"toc-item-num\">9&nbsp;&nbsp;</span>Обучение модели</a></span><ul class=\"toc-item\"><li><span><a href=\"#Логистическая-регрессия\" data-toc-modified-id=\"Логистическая-регрессия-9.1\"><span class=\"toc-item-num\">9.1&nbsp;&nbsp;</span>Логистическая регрессия</a></span></li><li><span><a href=\"#Лес-решений\" data-toc-modified-id=\"Лес-решений-9.2\"><span class=\"toc-item-num\">9.2&nbsp;&nbsp;</span>Лес решений</a></span></li><li><span><a href=\"#LightGBM\" data-toc-modified-id=\"LightGBM-9.3\"><span class=\"toc-item-num\">9.3&nbsp;&nbsp;</span>LightGBM</a></span></li><li><span><a href=\"#Метод-2\" data-toc-modified-id=\"Метод-2-9.4\"><span class=\"toc-item-num\">9.4&nbsp;&nbsp;</span>Метод 2</a></span></li><li><span><a href=\"#Проверка-на-тестовой-выборке\" data-toc-modified-id=\"Проверка-на-тестовой-выборке-9.5\"><span class=\"toc-item-num\">9.5&nbsp;&nbsp;</span>Проверка на тестовой выборке</a></span></li></ul></li><li><span><a href=\"#Выводы\" data-toc-modified-id=\"Выводы-10\"><span class=\"toc-item-num\">10&nbsp;&nbsp;</span>Выводы</a></span></li></ul></div>"
   ]
  },
  {
   "cell_type": "markdown",
   "metadata": {
    "id": "vzgv8x5-uR79"
   },
   "source": [
    "# Проект для «Викишоп» с Bert"
   ]
  },
  {
   "cell_type": "markdown",
   "metadata": {
    "id": "6GskAHKvuR79"
   },
   "source": [
    "Интернет-магазин «Викишоп» запускает новый сервис. Теперь пользователи могут редактировать и дополнять описания товаров, как в вики-сообществах. То есть клиенты предлагают свои правки и комментируют изменения других. Магазину нужен инструмент, который будет искать токсичные комментарии и отправлять их на модерацию. \n",
    "\n",
    "Обучите модель классифицировать комментарии на позитивные и негативные. В вашем распоряжении набор данных с разметкой о токсичности правок.\n",
    "\n",
    "Постройте модель со значением метрики качества *F1* не меньше 0.75. \n",
    "\n",
    "**Инструкция по выполнению проекта**\n",
    "\n",
    "1. Загрузите и подготовьте данные.\n",
    "2. Обучите разные модели. \n",
    "3. Сделайте выводы.\n",
    "\n",
    "Для выполнения проекта применять *BERT* необязательно, но вы можете попробовать.\n",
    "\n",
    "**Описание данных**\n",
    "\n",
    "Данные находятся в файле `toxic_comments.csv`. Столбец *text* в нём содержит текст комментария, а *toxic* — целевой признак."
   ]
  },
  {
   "cell_type": "markdown",
   "metadata": {
    "id": "vmtUH5X7uR8I"
   },
   "source": [
    "<div style=\"border:solid #81d8e6 2px; padding: 10px\">\n",
    "Может быть такое, что какие-то ячейки будут не по порядку идти, но все они запускались и тестировались по порядку.\n",
    "</div>"
   ]
  },
  {
   "cell_type": "markdown",
   "metadata": {
    "id": "8C5cA1FTuR7-"
   },
   "source": [
    "## Подготовка данных"
   ]
  },
  {
   "cell_type": "markdown",
   "metadata": {
    "id": "AxL49nJwuR7-"
   },
   "source": [
    "### Импорт"
   ]
  },
  {
   "cell_type": "code",
   "execution_count": 12,
   "metadata": {
    "id": "GRoL-v8YuR7_"
   },
   "outputs": [
    {
     "name": "stderr",
     "output_type": "stream",
     "text": [
      "[nltk_data] Downloading package wordnet to\n",
      "[nltk_data]     C:\\Users\\Dmitri\\AppData\\Roaming\\nltk_data...\n",
      "[nltk_data]   Package wordnet is already up-to-date!\n",
      "[nltk_data] Downloading package omw-1.4 to\n",
      "[nltk_data]     C:\\Users\\Dmitri\\AppData\\Roaming\\nltk_data...\n",
      "[nltk_data]   Package omw-1.4 is already up-to-date!\n",
      "[nltk_data] Downloading package stopwords to\n",
      "[nltk_data]     C:\\Users\\Dmitri\\AppData\\Roaming\\nltk_data...\n",
      "[nltk_data]   Package stopwords is already up-to-date!\n"
     ]
    }
   ],
   "source": [
    "import re\n",
    "from sklearn.feature_extraction.text import CountVectorizer\n",
    "import nltk\n",
    "from nltk.corpus import stopwords as nltk_stopwords\n",
    "from sklearn.feature_extraction.text import TfidfVectorizer\n",
    "import matplotlib.pyplot as plt  \n",
    "import seaborn as sns \n",
    "\n",
    "import numpy as np\n",
    "import pandas as pd\n",
    "import torch\n",
    "import transformers\n",
    "from tqdm import notebook\n",
    "from sklearn.linear_model import LogisticRegression\n",
    "from sklearn.model_selection import train_test_split\n",
    "\n",
    "from sklearn.utils import shuffle\n",
    "import io\n",
    "\n",
    "from datasets import load_metric, Dataset, Features, Value, ClassLabel\n",
    "from transformers import AutoTokenizer, AutoModelForSequenceClassification, TrainingArguments, Trainer\n",
    "\n",
    "from sklearn.compose import ColumnTransformer\n",
    "\n",
    "from sklearn.metrics import f1_score, make_scorer\n",
    "from sklearn.model_selection import GridSearchCV\n",
    "\n",
    "from catboost import CatBoostClassifier\n",
    "from lightgbm import LGBMClassifier\n",
    "from sklearn.ensemble import RandomForestClassifier\n",
    "from sklearn.linear_model import LinearRegression\n",
    "from sklearn.neighbors import KNeighborsClassifier\n",
    "\n",
    "from nltk.stem.wordnet import WordNetLemmatizer\n",
    "nltk.download('wordnet')\n",
    "nltk.download('omw-1.4')\n",
    "nltk.download('stopwords')\n",
    "from stop_words import get_stop_words"
   ]
  },
  {
   "cell_type": "code",
   "execution_count": 2,
   "metadata": {},
   "outputs": [],
   "source": [
    "stop_words = set(get_stop_words('en'))"
   ]
  },
  {
   "cell_type": "code",
   "execution_count": 3,
   "metadata": {
    "id": "4Z831vmbuR8A"
   },
   "outputs": [],
   "source": [
    "RANDOM_STATE = 12345"
   ]
  },
  {
   "cell_type": "markdown",
   "metadata": {
    "id": "E8XveWcOuR8B"
   },
   "source": [
    "### Загрузка и просмотр данных"
   ]
  },
  {
   "cell_type": "code",
   "execution_count": 4,
   "metadata": {
    "id": "vHQ-GfY2uR8B"
   },
   "outputs": [],
   "source": [
    "data = pd.read_csv(r\"C:\\Users\\Dmitri\\Downloads\\toxic_comments (1).csv\", index_col='Unnamed: 0')"
   ]
  },
  {
   "cell_type": "code",
   "execution_count": 5,
   "metadata": {
    "id": "Fp3a6_s5v954"
   },
   "outputs": [
    {
     "data": {
      "text/html": [
       "<div>\n",
       "<style scoped>\n",
       "    .dataframe tbody tr th:only-of-type {\n",
       "        vertical-align: middle;\n",
       "    }\n",
       "\n",
       "    .dataframe tbody tr th {\n",
       "        vertical-align: top;\n",
       "    }\n",
       "\n",
       "    .dataframe thead th {\n",
       "        text-align: right;\n",
       "    }\n",
       "</style>\n",
       "<table border=\"1\" class=\"dataframe\">\n",
       "  <thead>\n",
       "    <tr style=\"text-align: right;\">\n",
       "      <th></th>\n",
       "      <th>text</th>\n",
       "      <th>toxic</th>\n",
       "    </tr>\n",
       "  </thead>\n",
       "  <tbody>\n",
       "    <tr>\n",
       "      <th>0</th>\n",
       "      <td>Explanation\\nWhy the edits made under my usern...</td>\n",
       "      <td>0</td>\n",
       "    </tr>\n",
       "    <tr>\n",
       "      <th>1</th>\n",
       "      <td>D'aww! He matches this background colour I'm s...</td>\n",
       "      <td>0</td>\n",
       "    </tr>\n",
       "    <tr>\n",
       "      <th>2</th>\n",
       "      <td>Hey man, I'm really not trying to edit war. It...</td>\n",
       "      <td>0</td>\n",
       "    </tr>\n",
       "    <tr>\n",
       "      <th>3</th>\n",
       "      <td>\"\\nMore\\nI can't make any real suggestions on ...</td>\n",
       "      <td>0</td>\n",
       "    </tr>\n",
       "    <tr>\n",
       "      <th>4</th>\n",
       "      <td>You, sir, are my hero. Any chance you remember...</td>\n",
       "      <td>0</td>\n",
       "    </tr>\n",
       "    <tr>\n",
       "      <th>...</th>\n",
       "      <td>...</td>\n",
       "      <td>...</td>\n",
       "    </tr>\n",
       "    <tr>\n",
       "      <th>159446</th>\n",
       "      <td>\":::::And for the second time of asking, when ...</td>\n",
       "      <td>0</td>\n",
       "    </tr>\n",
       "    <tr>\n",
       "      <th>159447</th>\n",
       "      <td>You should be ashamed of yourself \\n\\nThat is ...</td>\n",
       "      <td>0</td>\n",
       "    </tr>\n",
       "    <tr>\n",
       "      <th>159448</th>\n",
       "      <td>Spitzer \\n\\nUmm, theres no actual article for ...</td>\n",
       "      <td>0</td>\n",
       "    </tr>\n",
       "    <tr>\n",
       "      <th>159449</th>\n",
       "      <td>And it looks like it was actually you who put ...</td>\n",
       "      <td>0</td>\n",
       "    </tr>\n",
       "    <tr>\n",
       "      <th>159450</th>\n",
       "      <td>\"\\nAnd ... I really don't think you understand...</td>\n",
       "      <td>0</td>\n",
       "    </tr>\n",
       "  </tbody>\n",
       "</table>\n",
       "<p>159292 rows × 2 columns</p>\n",
       "</div>"
      ],
      "text/plain": [
       "                                                     text  toxic\n",
       "0       Explanation\\nWhy the edits made under my usern...      0\n",
       "1       D'aww! He matches this background colour I'm s...      0\n",
       "2       Hey man, I'm really not trying to edit war. It...      0\n",
       "3       \"\\nMore\\nI can't make any real suggestions on ...      0\n",
       "4       You, sir, are my hero. Any chance you remember...      0\n",
       "...                                                   ...    ...\n",
       "159446  \":::::And for the second time of asking, when ...      0\n",
       "159447  You should be ashamed of yourself \\n\\nThat is ...      0\n",
       "159448  Spitzer \\n\\nUmm, theres no actual article for ...      0\n",
       "159449  And it looks like it was actually you who put ...      0\n",
       "159450  \"\\nAnd ... I really don't think you understand...      0\n",
       "\n",
       "[159292 rows x 2 columns]"
      ]
     },
     "execution_count": 5,
     "metadata": {},
     "output_type": "execute_result"
    }
   ],
   "source": [
    "data"
   ]
  },
  {
   "cell_type": "markdown",
   "metadata": {
    "id": "ubx7f3RhuR8C"
   },
   "source": [
    "Описание данных:\n",
    "\n",
    "    - text (текст твита)\n",
    "    - toxic (является ли он токсичным для платформы)"
   ]
  },
  {
   "cell_type": "markdown",
   "metadata": {
    "id": "5r5p9TDTuR8C"
   },
   "source": [
    "### Важные функции"
   ]
  },
  {
   "cell_type": "code",
   "execution_count": 6,
   "metadata": {
    "id": "wBgQPu4duR8C"
   },
   "outputs": [],
   "source": [
    "def pie_plot(column=data.columns[0], binar=False, series=False, data=data, title=''):\n",
    "    if series==False:\n",
    "        fig1, ax1 = plt.subplots(figsize =(5, 5))\n",
    "        colors = (\"cornflowerblue\",\"lightcoral\", \"springgreen\", \"bisque\"\n",
    "              \"pink\", \"gold\")\n",
    "        ax1.pie(data[column].value_counts(), \n",
    "                labels=data[column].value_counts().index, \n",
    "                autopct='%1.1f%%', \n",
    "                shadow=True, \n",
    "                startangle=90, \n",
    "                colors=colors)\n",
    "        patches, texts, auto = ax1.pie(data[column].value_counts(), \n",
    "                                       labels=data[column].value_counts().index, \n",
    "                                       shadow=True, \n",
    "                                       startangle=90, \n",
    "                                       autopct='%1.1f%%',\n",
    "                                       colors=colors)\n",
    "        plt.title(title)\n",
    "    else:\n",
    "        fig1, ax1 = plt.subplots(figsize =(5, 5))\n",
    "        colors = (\"cornflowerblue\",\"lightcoral\", \"springgreen\", \"bisque\"\n",
    "              \"pink\", \"gold\")\n",
    "        ax1.pie(data.value_counts(), \n",
    "                labels=data.value_counts().index, \n",
    "                autopct='%1.1f%%', \n",
    "                shadow=True, \n",
    "                startangle=90, \n",
    "                colors=colors)\n",
    "        patches, texts, auto = ax1.pie(data.value_counts(), \n",
    "                                       labels=data.value_counts().index, \n",
    "                                       shadow=True, \n",
    "                                       startangle=90, \n",
    "                                       autopct='%1.1f%%',\n",
    "                                       colors=colors)\n",
    "        plt.title(title)"
   ]
  },
  {
   "cell_type": "code",
   "execution_count": 7,
   "metadata": {},
   "outputs": [],
   "source": [
    "def prepare_hugginface_dataset(df):\n",
    "    dataset = Dataset.from_dict({\n",
    "        'text': df['text'],\n",
    "        'label': df['toxic']\n",
    "        }, \n",
    "        features=Features({\n",
    "            'text': Value('string'),\n",
    "            'label': ClassLabel(2, names=['nontoxic', 'toxic'])\n",
    "            })\n",
    "        )\n",
    "    \n",
    "    tokenizer = AutoTokenizer.from_pretrained(MODEL_NAME)\n",
    "    def tokenize_function(examples):\n",
    "        return tokenizer(examples[\"text\"], padding=\"max_length\", truncation=True)\n",
    "\n",
    "    tokenized_dataset = dataset.map(tokenize_function, batched=True)\n",
    "    \n",
    "    return tokenized_dataset"
   ]
  },
  {
   "cell_type": "markdown",
   "metadata": {
    "id": "RRuCMxIwuR8D"
   },
   "source": [
    "### Анализ данных"
   ]
  },
  {
   "cell_type": "code",
   "execution_count": 8,
   "metadata": {
    "id": "tN6ariCUuR8D"
   },
   "outputs": [
    {
     "name": "stdout",
     "output_type": "stream",
     "text": [
      "<class 'pandas.core.frame.DataFrame'>\n",
      "Int64Index: 159292 entries, 0 to 159450\n",
      "Data columns (total 2 columns):\n",
      " #   Column  Non-Null Count   Dtype \n",
      "---  ------  --------------   ----- \n",
      " 0   text    159292 non-null  object\n",
      " 1   toxic   159292 non-null  int64 \n",
      "dtypes: int64(1), object(1)\n",
      "memory usage: 3.6+ MB\n"
     ]
    }
   ],
   "source": [
    "data.info()"
   ]
  },
  {
   "cell_type": "code",
   "execution_count": 9,
   "metadata": {
    "id": "p39XRjF5uR8D"
   },
   "outputs": [],
   "source": [
    "data['toxic'] = data['toxic'].astype('category')"
   ]
  },
  {
   "cell_type": "code",
   "execution_count": 10,
   "metadata": {
    "id": "FYDrkzTOuR8D"
   },
   "outputs": [
    {
     "name": "stdout",
     "output_type": "stream",
     "text": [
      "<class 'pandas.core.frame.DataFrame'>\n",
      "Int64Index: 159292 entries, 0 to 159450\n",
      "Data columns (total 2 columns):\n",
      " #   Column  Non-Null Count   Dtype   \n",
      "---  ------  --------------   -----   \n",
      " 0   text    159292 non-null  object  \n",
      " 1   toxic   159292 non-null  category\n",
      "dtypes: category(1), object(1)\n",
      "memory usage: 2.6+ MB\n"
     ]
    }
   ],
   "source": [
    "data.info()"
   ]
  },
  {
   "cell_type": "markdown",
   "metadata": {
    "id": "qgf1555tuR8E"
   },
   "source": [
    "<div style=\"border:solid #81d8e6 2px; padding: 10px\">\n",
    "Мы заменили тип данных, тем самым уменьшили количество занимаемой памяти. \n",
    "</div>"
   ]
  },
  {
   "cell_type": "code",
   "execution_count": 11,
   "metadata": {
    "id": "ZV4W4A4-uR8E"
   },
   "outputs": [
    {
     "data": {
      "image/png": "[encoded data removed]",
      "text/plain": [
       "<Figure size 500x500 with 1 Axes>"
      ]
     },
     "metadata": {},
     "output_type": "display_data"
    }
   ],
   "source": [
    "pie_plot('toxic', title='Распределение классов в столбце \"toxic\"')"
   ]
  },
  {
   "cell_type": "markdown",
   "metadata": {
    "id": "pvCHWOEzuR8E"
   },
   "source": [
    "<div style=\"border:solid #81d8e6 2px; padding: 10px\">\n",
    "Однако мы видим дисбаланс классов. Поэтому для начала поработаем с текстовым представлением данных, а затем разберёмся с балансом классов.\n",
    "</div>"
   ]
  },
  {
   "cell_type": "markdown",
   "metadata": {
    "id": "L0Pg25RXuR8I"
   },
   "source": [
    "<div style=\"border:solid #81d8e6 2px; padding: 10px\">\n",
    "UPD: Методы upsampling, downsampling, class_weight='balanced' особо не повлияли на качество работы с данными, поэтому во 2 и 3 способах использовались выборки с распределением классов 50/50 и размером в 5000 строк от первоначального датасета.\n",
    "</div>"
   ]
  },
  {
   "cell_type": "markdown",
   "metadata": {},
   "source": [
    "# BERT way 1"
   ]
  },
  {
   "cell_type": "code",
   "execution_count": 12,
   "metadata": {},
   "outputs": [],
   "source": [
    "MODEL_NAME = 'bert-base-uncased'"
   ]
  },
  {
   "cell_type": "markdown",
   "metadata": {
    "id": "L0Pg25RXuR8I"
   },
   "source": [
    "<div style=\"border:solid #81d8e6 2px; padding: 10px\">\n",
    "Первый вариант решения задачи.\n",
    "</div>"
   ]
  },
  {
   "cell_type": "markdown",
   "metadata": {},
   "source": [
    "## Анализ и подготовка данных"
   ]
  },
  {
   "cell_type": "code",
   "execution_count": 30,
   "metadata": {
    "id": "JQTWNGL7uR8F"
   },
   "outputs": [],
   "source": [
    "data_new = data.sample(5000).reset_index(drop=True);"
   ]
  },
  {
   "cell_type": "markdown",
   "metadata": {},
   "source": [
    "### Разделение выборки"
   ]
  },
  {
   "cell_type": "code",
   "execution_count": 42,
   "metadata": {},
   "outputs": [],
   "source": [
    "df_train, df_val = train_test_split(data_new, train_size=0.6, test_size=0.4, random_state=RANDOM_STATE, stratify=data_new[\"toxic\"])\n",
    "df_val, df_test = train_test_split(df_val, train_size=1 - 0.3 / 0.4, test_size=0.3 / 0.4, random_state=RANDOM_STATE, stratify=df_val[\"toxic\"])"
   ]
  },
  {
   "cell_type": "code",
   "execution_count": 43,
   "metadata": {},
   "outputs": [
    {
     "data": {
      "application/vnd.jupyter.widget-view+json": {
       "model_id": "ff6c7d4a1899436ab02cf4580bfff960",
       "version_major": 2,
       "version_minor": 0
      },
      "text/plain": [
       "  0%|          | 0/3 [00:00<?, ?ba/s]"
      ]
     },
     "metadata": {},
     "output_type": "display_data"
    },
    {
     "data": {
      "application/vnd.jupyter.widget-view+json": {
       "model_id": "258fb7f1c2f844a2a41b17b5f03287a3",
       "version_major": 2,
       "version_minor": 0
      },
      "text/plain": [
       "  0%|          | 0/1 [00:00<?, ?ba/s]"
      ]
     },
     "metadata": {},
     "output_type": "display_data"
    }
   ],
   "source": [
    "train_dataset = prepare_hugginface_dataset(df_train)\n",
    "valid_dataset = prepare_hugginface_dataset(df_val)"
   ]
  },
  {
   "cell_type": "markdown",
   "metadata": {},
   "source": [
    "## Обучение модели"
   ]
  },
  {
   "cell_type": "code",
   "execution_count": 44,
   "metadata": {
    "id": "CKAlaE4JuR8I"
   },
   "outputs": [
    {
     "name": "stderr",
     "output_type": "stream",
     "text": [
      "C:\\Users\\Dmitri\\AppData\\Local\\Temp\\ipykernel_16072\\1143984050.py:1: FutureWarning: load_metric is deprecated and will be removed in the next major version of datasets. Use 'evaluate.load' instead, from the new library 🤗 Evaluate: https://huggingface.co/docs/evaluate\n",
      "  f1_metric = load_metric(\"f1\")\n"
     ]
    }
   ],
   "source": [
    "f1_metric = load_metric(\"f1\")\n",
    "\n",
    "def compute_metrics(eval_pred):\n",
    "    logits, labels = eval_pred\n",
    "    predictions = np.argmax(logits, axis=-1)\n",
    "    return f1_metric.compute(predictions=predictions, references=labels)"
   ]
  },
  {
   "cell_type": "code",
   "execution_count": 48,
   "metadata": {},
   "outputs": [
    {
     "name": "stderr",
     "output_type": "stream",
     "text": [
      "loading configuration file config.json from cache at ./hugggingface/models--bert-base-uncased\\snapshots\\0a6aa9128b6194f4f3c4db429b6cb4891cdb421b\\config.json\n",
      "Model config BertConfig {\n",
      "  \"_name_or_path\": \"bert-base-uncased\",\n",
      "  \"architectures\": [\n",
      "    \"BertForMaskedLM\"\n",
      "  ],\n",
      "  \"attention_probs_dropout_prob\": 0.1,\n",
      "  \"classifier_dropout\": null,\n",
      "  \"gradient_checkpointing\": false,\n",
      "  \"hidden_act\": \"gelu\",\n",
      "  \"hidden_dropout_prob\": 0.1,\n",
      "  \"hidden_size\": 768,\n",
      "  \"initializer_range\": 0.02,\n",
      "  \"intermediate_size\": 3072,\n",
      "  \"layer_norm_eps\": 1e-12,\n",
      "  \"max_position_embeddings\": 512,\n",
      "  \"model_type\": \"bert\",\n",
      "  \"num_attention_heads\": 12,\n",
      "  \"num_hidden_layers\": 12,\n",
      "  \"pad_token_id\": 0,\n",
      "  \"position_embedding_type\": \"absolute\",\n",
      "  \"transformers_version\": \"4.24.0\",\n",
      "  \"type_vocab_size\": 2,\n",
      "  \"use_cache\": true,\n",
      "  \"vocab_size\": 30522\n",
      "}\n",
      "\n",
      "loading weights file pytorch_model.bin from cache at ./hugggingface/models--bert-base-uncased\\snapshots\\0a6aa9128b6194f4f3c4db429b6cb4891cdb421b\\pytorch_model.bin\n",
      "Some weights of the model checkpoint at bert-base-uncased were not used when initializing BertForSequenceClassification: ['cls.predictions.transform.dense.weight', 'cls.predictions.transform.LayerNorm.weight', 'cls.seq_relationship.bias', 'cls.seq_relationship.weight', 'cls.predictions.decoder.weight', 'cls.predictions.bias', 'cls.predictions.transform.LayerNorm.bias', 'cls.predictions.transform.dense.bias']\n",
      "- This IS expected if you are initializing BertForSequenceClassification from the checkpoint of a model trained on another task or with another architecture (e.g. initializing a BertForSequenceClassification model from a BertForPreTraining model).\n",
      "- This IS NOT expected if you are initializing BertForSequenceClassification from the checkpoint of a model that you expect to be exactly identical (initializing a BertForSequenceClassification model from a BertForSequenceClassification model).\n",
      "Some weights of BertForSequenceClassification were not initialized from the model checkpoint at bert-base-uncased and are newly initialized: ['classifier.bias', 'classifier.weight']\n",
      "You should probably TRAIN this model on a down-stream task to be able to use it for predictions and inference.\n"
     ]
    }
   ],
   "source": [
    "model_bert = AutoModelForSequenceClassification.from_pretrained(MODEL_NAME, num_labels=2, cache_dir=\"./hugggingface/\")"
   ]
  },
  {
   "cell_type": "markdown",
   "metadata": {},
   "source": [
    "<pre>\n",
    "Model config BertConfig {\n",
    "  \"_name_or_path\": \"bert-base-uncased\",\n",
    "  \"architectures\": [\n",
    "    \"BertForMaskedLM\"\n",
    "  ],\n",
    "  \"attention_probs_dropout_prob\": 0.1,\n",
    "  \"classifier_dropout\": null,\n",
    "  \"gradient_checkpointing\": false,\n",
    "  \"hidden_act\": \"gelu\",\n",
    "  \"hidden_dropout_prob\": 0.1,\n",
    "  \"hidden_size\": 768,\n",
    "  \"initializer_range\": 0.02,\n",
    "  \"intermediate_size\": 3072,\n",
    "  \"layer_norm_eps\": 1e-12,\n",
    "  \"max_position_embeddings\": 512,\n",
    "  \"model_type\": \"bert\",\n",
    "  \"num_attention_heads\": 12,\n",
    "  \"num_hidden_layers\": 12,\n",
    "  \"pad_token_id\": 0,\n",
    "  \"position_embedding_type\": \"absolute\",\n",
    "  \"transformers_version\": \"4.24.0\",\n",
    "  \"type_vocab_size\": 2,\n",
    "  \"use_cache\": true,\n",
    "  \"vocab_size\": 30522\n",
    "}\n",
    "</pre>"
   ]
  },
  {
   "cell_type": "code",
   "execution_count": 46,
   "metadata": {},
   "outputs": [],
   "source": [
    "training_args = TrainingArguments(\n",
    "    \"test_trainer\", \n",
    "    evaluation_strategy=\"epoch\",\n",
    "    save_strategy=\"epoch\",\n",
    "    per_device_train_batch_size=20,\n",
    "    per_device_eval_batch_size=20, \n",
    "    num_train_epochs=1\n",
    ")"
   ]
  },
  {
   "cell_type": "code",
   "execution_count": 49,
   "metadata": {
    "scrolled": true
   },
   "outputs": [
    {
     "name": "stderr",
     "output_type": "stream",
     "text": [
      "The following columns in the training set don't have a corresponding argument in `BertForSequenceClassification.forward` and have been ignored: text. If text are not expected by `BertForSequenceClassification.forward`,  you can safely ignore this message.\n",
      "C:\\Users\\Dmitri\\anaconda3\\lib\\site-packages\\transformers\\optimization.py:306: FutureWarning: This implementation of AdamW is deprecated and will be removed in a future version. Use the PyTorch implementation torch.optim.AdamW instead, or set `no_deprecation_warning=True` to disable this warning\n",
      "  warnings.warn(\n",
      "***** Running training *****\n",
      "  Num examples = 3000\n",
      "  Num Epochs = 1\n",
      "  Instantaneous batch size per device = 20\n",
      "  Total train batch size (w. parallel, distributed & accumulation) = 20\n",
      "  Gradient Accumulation steps = 1\n",
      "  Total optimization steps = 150\n",
      "  Number of trainable parameters = 109483778\n"
     ]
    },
    {
     "data": {
      "text/html": [
       "\n",
       "    <div>\n",
       "      \n",
       "      <progress value='150' max='150' style='width:300px; height:20px; vertical-align: middle;'></progress>\n",
       "      [150/150 1:39:32, Epoch 1/1]\n",
       "    </div>\n",
       "    <table border=\"1\" class=\"dataframe\">\n",
       "  <thead>\n",
       " <tr style=\"text-align: left;\">\n",
       "      <th>Epoch</th>\n",
       "      <th>Training Loss</th>\n",
       "      <th>Validation Loss</th>\n",
       "      <th>F1</th>\n",
       "    </tr>\n",
       "  </thead>\n",
       "  <tbody>\n",
       "    <tr>\n",
       "      <td>1</td>\n",
       "      <td>No log</td>\n",
       "      <td>0.113006</td>\n",
       "      <td>0.785714</td>\n",
       "    </tr>\n",
       "  </tbody>\n",
       "</table><p>"
      ],
      "text/plain": [
       "<IPython.core.display.HTML object>"
      ]
     },
     "metadata": {},
     "output_type": "display_data"
    },
    {
     "name": "stderr",
     "output_type": "stream",
     "text": [
      "The following columns in the evaluation set don't have a corresponding argument in `BertForSequenceClassification.forward` and have been ignored: text. If text are not expected by `BertForSequenceClassification.forward`,  you can safely ignore this message.\n",
      "***** Running Evaluation *****\n",
      "  Num examples = 500\n",
      "  Batch size = 20\n",
      "Saving model checkpoint to test_trainer\\checkpoint-150\n",
      "Configuration saved in test_trainer\\checkpoint-150\\config.json\n",
      "Model weights saved in test_trainer\\checkpoint-150\\pytorch_model.bin\n",
      "\n",
      "\n",
      "Training completed. Do not forget to share your model on huggingface.co/models =)\n",
      "\n",
      "\n"
     ]
    },
    {
     "data": {
      "text/plain": [
       "TrainOutput(global_step=150, training_loss=0.19609570821126301, metrics={'train_runtime': 6010.2684, 'train_samples_per_second': 0.499, 'train_steps_per_second': 0.025, 'total_flos': 789333166080000.0, 'train_loss': 0.19609570821126301, 'epoch': 1.0})"
      ]
     },
     "execution_count": 49,
     "metadata": {},
     "output_type": "execute_result"
    }
   ],
   "source": [
    "trainer = Trainer(\n",
    "    model=model_bert,\n",
    "    args=training_args,\n",
    "    train_dataset=train_dataset,\n",
    "    eval_dataset=valid_dataset,\n",
    "    compute_metrics=compute_metrics,\n",
    ")\n",
    "trainer.train()"
   ]
  },
  {
   "cell_type": "markdown",
   "metadata": {},
   "source": [
    "<pre>\n",
    "TrainOutput(global_step=150, \n",
    "    training_loss=0.19609570821126301, \n",
    "    metrics={'train_runtime': 6010.2684, \n",
    "        'train_samples_per_second': 0.499, \n",
    "        'train_steps_per_second': 0.025, \n",
    "        'total_flos': 789333166080000.0, \n",
    "        'train_loss': 0.19609570821126301, \n",
    "        'epoch': 1.0})\n",
    "</pre>"
   ]
  },
  {
   "cell_type": "markdown",
   "metadata": {
    "id": "L0Pg25RXuR8I"
   },
   "source": [
    "<div style=\"border:solid #81d8e6 2px; padding: 10px\">\n",
    "Этот способ показал себя на с хорошей стороны, но с другой внутри тренировки он сам токенизирует текст и сам обучается, поэтому имеет меньше гибкости.\n",
    "</div>"
   ]
  },
  {
   "cell_type": "markdown",
   "metadata": {},
   "source": [
    "## Выводы"
   ]
  },
  {
   "cell_type": "markdown",
   "metadata": {},
   "source": [
    "    - затраченное время больше 12 часов\n",
    "    - результат F1 0.786"
   ]
  },
  {
   "cell_type": "markdown",
   "metadata": {},
   "source": [
    "# ВЕРТ way 2"
   ]
  },
  {
   "cell_type": "code",
   "execution_count": 13,
   "metadata": {},
   "outputs": [],
   "source": [
    "MODEL_NAME = 'unitary/toxic-bert'"
   ]
  },
  {
   "cell_type": "markdown",
   "metadata": {
    "id": "L0Pg25RXuR8I"
   },
   "source": [
    "<div style=\"border:solid #81d8e6 2px; padding: 10px\">\n",
    "Второй способ решения задачи: с помощью Bert, уже по способу из тренажёра.\n",
    "</div>"
   ]
  },
  {
   "cell_type": "markdown",
   "metadata": {},
   "source": [
    "## Анализ и подготовка данных"
   ]
  },
  {
   "cell_type": "markdown",
   "metadata": {},
   "source": [
    "### Токенизатор и создание масок"
   ]
  },
  {
   "cell_type": "code",
   "execution_count": 14,
   "metadata": {},
   "outputs": [],
   "source": [
    "tokenizer = transformers.BertTokenizer.from_pretrained(MODEL_NAME, model_max_length=512)"
   ]
  },
  {
   "cell_type": "code",
   "execution_count": 15,
   "metadata": {},
   "outputs": [
    {
     "name": "stderr",
     "output_type": "stream",
     "text": [
      "C:\\Users\\Dmitri\\AppData\\Local\\Temp\\ipykernel_5268\\3244963369.py:1: FutureWarning: The frame.append method is deprecated and will be removed from pandas in a future version. Use pandas.concat instead.\n",
      "  df_tweets_train = data.query('toxic==1')[:2500].append(data.query('toxic==0')[:2500])\n"
     ]
    },
    {
     "data": {
      "text/html": [
       "<div>\n",
       "<style scoped>\n",
       "    .dataframe tbody tr th:only-of-type {\n",
       "        vertical-align: middle;\n",
       "    }\n",
       "\n",
       "    .dataframe tbody tr th {\n",
       "        vertical-align: top;\n",
       "    }\n",
       "\n",
       "    .dataframe thead th {\n",
       "        text-align: right;\n",
       "    }\n",
       "</style>\n",
       "<table border=\"1\" class=\"dataframe\">\n",
       "  <thead>\n",
       "    <tr style=\"text-align: right;\">\n",
       "      <th></th>\n",
       "      <th>text</th>\n",
       "      <th>toxic</th>\n",
       "    </tr>\n",
       "  </thead>\n",
       "  <tbody>\n",
       "    <tr>\n",
       "      <th>6</th>\n",
       "      <td>COCKSUCKER BEFORE YOU PISS AROUND ON MY WORK</td>\n",
       "      <td>1</td>\n",
       "    </tr>\n",
       "    <tr>\n",
       "      <th>12</th>\n",
       "      <td>Hey... what is it..\\n@ | talk .\\nWhat is it......</td>\n",
       "      <td>1</td>\n",
       "    </tr>\n",
       "    <tr>\n",
       "      <th>16</th>\n",
       "      <td>Bye! \\n\\nDon't look, come or think of comming ...</td>\n",
       "      <td>1</td>\n",
       "    </tr>\n",
       "    <tr>\n",
       "      <th>42</th>\n",
       "      <td>You are gay or antisemmitian? \\n\\nArchangel WH...</td>\n",
       "      <td>1</td>\n",
       "    </tr>\n",
       "    <tr>\n",
       "      <th>43</th>\n",
       "      <td>FUCK YOUR FILTHY MOTHER IN THE ASS, DRY!</td>\n",
       "      <td>1</td>\n",
       "    </tr>\n",
       "    <tr>\n",
       "      <th>...</th>\n",
       "      <td>...</td>\n",
       "      <td>...</td>\n",
       "    </tr>\n",
       "    <tr>\n",
       "      <th>2798</th>\n",
       "      <td>a , please improve Typhoon Mekkhala's page bec...</td>\n",
       "      <td>0</td>\n",
       "    </tr>\n",
       "    <tr>\n",
       "      <th>2799</th>\n",
       "      <td>\"\\n\\n York Minster Stained Glass \\n\\nHi, Keila...</td>\n",
       "      <td>0</td>\n",
       "    </tr>\n",
       "    <tr>\n",
       "      <th>2800</th>\n",
       "      <td>G'day Fayssal \\n\\nHope you're good -) - I must...</td>\n",
       "      <td>0</td>\n",
       "    </tr>\n",
       "    <tr>\n",
       "      <th>2801</th>\n",
       "      <td>The truth of the matter is, you have failed to...</td>\n",
       "      <td>0</td>\n",
       "    </tr>\n",
       "    <tr>\n",
       "      <th>2802</th>\n",
       "      <td>Except, like Esoglou's already explained, this...</td>\n",
       "      <td>0</td>\n",
       "    </tr>\n",
       "  </tbody>\n",
       "</table>\n",
       "<p>5000 rows × 2 columns</p>\n",
       "</div>"
      ],
      "text/plain": [
       "                                                   text toxic\n",
       "6          COCKSUCKER BEFORE YOU PISS AROUND ON MY WORK     1\n",
       "12    Hey... what is it..\\n@ | talk .\\nWhat is it......     1\n",
       "16    Bye! \\n\\nDon't look, come or think of comming ...     1\n",
       "42    You are gay or antisemmitian? \\n\\nArchangel WH...     1\n",
       "43             FUCK YOUR FILTHY MOTHER IN THE ASS, DRY!     1\n",
       "...                                                 ...   ...\n",
       "2798  a , please improve Typhoon Mekkhala's page bec...     0\n",
       "2799  \"\\n\\n York Minster Stained Glass \\n\\nHi, Keila...     0\n",
       "2800  G'day Fayssal \\n\\nHope you're good -) - I must...     0\n",
       "2801  The truth of the matter is, you have failed to...     0\n",
       "2802  Except, like Esoglou's already explained, this...     0\n",
       "\n",
       "[5000 rows x 2 columns]"
      ]
     },
     "execution_count": 15,
     "metadata": {},
     "output_type": "execute_result"
    }
   ],
   "source": [
    "df_tweets_train = data.query('toxic==1')[:2500].append(data.query('toxic==0')[:2500])\n",
    "df_tweets_train"
   ]
  },
  {
   "cell_type": "code",
   "execution_count": 16,
   "metadata": {},
   "outputs": [
    {
     "data": {
      "image/png": "[encoded data removed]",
      "text/plain": [
       "<Figure size 500x500 with 1 Axes>"
      ]
     },
     "metadata": {},
     "output_type": "display_data"
    }
   ],
   "source": [
    "pie_plot('toxic', data=df_tweets_train, title='Распределение классов в столбце \"toxic\"')"
   ]
  },
  {
   "cell_type": "code",
   "execution_count": 17,
   "metadata": {},
   "outputs": [],
   "source": [
    "df_tweets_test = pd.concat([data, df_tweets_train]).drop_duplicates(keep=False).sample(3000)"
   ]
  },
  {
   "cell_type": "code",
   "execution_count": 18,
   "metadata": {
    "scrolled": true
   },
   "outputs": [
    {
     "data": {
      "image/png": "[encoded data removed]",
      "text/plain": [
       "<Figure size 500x500 with 1 Axes>"
      ]
     },
     "metadata": {},
     "output_type": "display_data"
    }
   ],
   "source": [
    "pie_plot('toxic', data=df_tweets_test, title='Распределение классов в столбце \"toxic\"')"
   ]
  },
  {
   "cell_type": "code",
   "execution_count": 19,
   "metadata": {},
   "outputs": [],
   "source": [
    "tokenized_train = df_tweets_train['text'].apply(\n",
    "    lambda x: tokenizer.encode(x, add_special_tokens=True, padding='max_length', truncation=True))\n",
    "\n",
    "max_len = 0\n",
    "for i in tokenized_train.values:\n",
    "    if len(i) > max_len:\n",
    "        max_len = len(i)\n",
    "\n",
    "padded_train = np.array([i + [0]*(max_len - len(i)) for i in tokenized_train.values])\n",
    "\n",
    "attention_mask_train = np.where(padded_train != 0, 1, 0)"
   ]
  },
  {
   "cell_type": "code",
   "execution_count": 20,
   "metadata": {},
   "outputs": [],
   "source": [
    "tokenized_test = df_tweets_test['text'].apply(\n",
    "    lambda x: tokenizer.encode(x, add_special_tokens=True, padding='max_length', truncation=True))\n",
    "\n",
    "max_len = 0\n",
    "for i in tokenized_test.values:\n",
    "    if len(i) > max_len:\n",
    "        max_len = len(i)\n",
    "\n",
    "padded_test = np.array([i + [0]*(max_len - len(i)) for i in tokenized_test.values])\n",
    "\n",
    "attention_mask_test = np.where(padded_test != 0, 1, 0)"
   ]
  },
  {
   "cell_type": "markdown",
   "metadata": {},
   "source": [
    "### Загрузка модели"
   ]
  },
  {
   "cell_type": "markdown",
   "metadata": {
    "id": "L0Pg25RXuR8I"
   },
   "source": [
    "<div style=\"border:solid #81d8e6 2px; padding: 10px\">\n",
    "Было принято решение взять именнь модель 'unitary/toxic-bert', потому что 'bert-base-uncased' не справлялся с поставленной задачей с условием качества f1>=0.75.\n",
    "</div>"
   ]
  },
  {
   "cell_type": "code",
   "execution_count": 21,
   "metadata": {},
   "outputs": [
    {
     "name": "stderr",
     "output_type": "stream",
     "text": [
      "Some weights of the model checkpoint at unitary/toxic-bert were not used when initializing BertModel: ['classifier.weight', 'classifier.bias']\n",
      "- This IS expected if you are initializing BertModel from the checkpoint of a model trained on another task or with another architecture (e.g. initializing a BertForSequenceClassification model from a BertForPreTraining model).\n",
      "- This IS NOT expected if you are initializing BertModel from the checkpoint of a model that you expect to be exactly identical (initializing a BertForSequenceClassification model from a BertForSequenceClassification model).\n"
     ]
    }
   ],
   "source": [
    "model = transformers.BertModel.from_pretrained(MODEL_NAME)"
   ]
  },
  {
   "cell_type": "markdown",
   "metadata": {},
   "source": [
    "### Эмбеддинг"
   ]
  },
  {
   "cell_type": "code",
   "execution_count": 41,
   "metadata": {},
   "outputs": [
    {
     "data": {
      "application/vnd.jupyter.widget-view+json": {
       "model_id": "b3ad411495344926a3a14fd9c07a7f92",
       "version_major": 2,
       "version_minor": 0
      },
      "text/plain": [
       "  0%|          | 0/50 [00:00<?, ?it/s]"
      ]
     },
     "metadata": {},
     "output_type": "display_data"
    }
   ],
   "source": [
    "batch_size = 100\n",
    "embeddings_train = []\n",
    "for i in notebook.tqdm(range(padded_train.shape[0] // batch_size)):\n",
    "        batch = torch.LongTensor(padded_train[batch_size*i:batch_size*(i+1)]) \n",
    "        attention_mask_batch = torch.LongTensor(attention_mask_train[batch_size*i:batch_size*(i+1)])\n",
    "        \n",
    "        with torch.no_grad():\n",
    "            batch_embeddings = model(batch, attention_mask=attention_mask_batch)\n",
    "        \n",
    "        embeddings_train.append(batch_embeddings[0][:,0,:].numpy())"
   ]
  },
  {
   "cell_type": "code",
   "execution_count": 27,
   "metadata": {},
   "outputs": [
    {
     "data": {
      "application/vnd.jupyter.widget-view+json": {
       "model_id": "89bb3eb12f93426989b1724e6dad1485",
       "version_major": 2,
       "version_minor": 0
      },
      "text/plain": [
       "  0%|          | 0/30 [00:00<?, ?it/s]"
      ]
     },
     "metadata": {},
     "output_type": "display_data"
    }
   ],
   "source": [
    "batch_size = 100\n",
    "embeddings_test = []\n",
    "for i in notebook.tqdm(range(padded_test.shape[0] // batch_size)):\n",
    "        batch = torch.LongTensor(padded_test[batch_size*i:batch_size*(i+1)]) \n",
    "        attention_mask_batch = torch.LongTensor(attention_mask_test[batch_size*i:batch_size*(i+1)])\n",
    "        \n",
    "        with torch.no_grad():\n",
    "            batch_embeddings = model(batch, attention_mask=attention_mask_batch)\n",
    "        \n",
    "        embeddings_test.append(batch_embeddings[0][:,0,:].numpy())"
   ]
  },
  {
   "cell_type": "markdown",
   "metadata": {},
   "source": [
    "### Разделение выборки"
   ]
  },
  {
   "cell_type": "code",
   "execution_count": 42,
   "metadata": {},
   "outputs": [
    {
     "data": {
      "text/plain": [
       "(5000, 512)"
      ]
     },
     "execution_count": 42,
     "metadata": {},
     "output_type": "execute_result"
    }
   ],
   "source": [
    "padded_train.shape"
   ]
  },
  {
   "cell_type": "code",
   "execution_count": 43,
   "metadata": {},
   "outputs": [
    {
     "data": {
      "text/plain": [
       "array([[-0.32184908,  0.84319603,  1.2743248 , ..., -0.62508947,\n",
       "         0.2037871 , -0.08432969],\n",
       "       [-0.40905285, -0.5463428 ,  0.02179565, ..., -0.31722018,\n",
       "         0.15494074,  0.33809635],\n",
       "       [-0.23504196, -0.19396777,  0.8299479 , ..., -0.38197744,\n",
       "         0.41296664,  0.44615284],\n",
       "       ...,\n",
       "       [-0.55253243, -0.7993649 ,  0.70751244, ..., -0.55870533,\n",
       "         0.58063847,  0.05017494],\n",
       "       [-0.596529  , -0.88090515,  0.49318558, ..., -0.6553097 ,\n",
       "         0.46665084,  0.156536  ],\n",
       "       [-0.6816359 , -0.8449124 ,  0.7104762 , ..., -0.67189157,\n",
       "         0.5728644 ,  0.00751344]], dtype=float32)"
      ]
     },
     "execution_count": 43,
     "metadata": {},
     "output_type": "execute_result"
    }
   ],
   "source": [
    "features_train = np.concatenate(embeddings_train)\n",
    "pd.DataFrame(features_train).to_csv('ft.csv')\n",
    "features_train"
   ]
  },
  {
   "cell_type": "code",
   "execution_count": 44,
   "metadata": {},
   "outputs": [
    {
     "data": {
      "text/plain": [
       "6       1\n",
       "12      1\n",
       "16      1\n",
       "42      1\n",
       "43      1\n",
       "       ..\n",
       "2798    0\n",
       "2799    0\n",
       "2800    0\n",
       "2801    0\n",
       "2802    0\n",
       "Name: toxic, Length: 5000, dtype: category\n",
       "Categories (2, int64): [0, 1]"
      ]
     },
     "execution_count": 44,
     "metadata": {},
     "output_type": "execute_result"
    }
   ],
   "source": [
    "target_train = df_tweets_train['toxic']\n",
    "target_train"
   ]
  },
  {
   "cell_type": "code",
   "execution_count": 45,
   "metadata": {},
   "outputs": [
    {
     "data": {
      "text/plain": [
       "(5000, 768)"
      ]
     },
     "execution_count": 45,
     "metadata": {},
     "output_type": "execute_result"
    }
   ],
   "source": [
    "features_train.shape"
   ]
  },
  {
   "cell_type": "code",
   "execution_count": 46,
   "metadata": {},
   "outputs": [
    {
     "data": {
      "text/plain": [
       "(5000,)"
      ]
     },
     "execution_count": 46,
     "metadata": {},
     "output_type": "execute_result"
    }
   ],
   "source": [
    "target_train.shape"
   ]
  },
  {
   "cell_type": "code",
   "execution_count": 47,
   "metadata": {},
   "outputs": [
    {
     "data": {
      "text/plain": [
       "array([[-0.6185274 , -0.8868131 ,  0.5538879 , ..., -0.5750545 ,\n",
       "         0.6749953 ,  0.17139252],\n",
       "       [-0.80031323, -1.155393  ,  0.51803535, ..., -0.30026665,\n",
       "         1.0043881 ,  0.5734047 ],\n",
       "       [-0.6912565 , -0.86856866,  0.6157351 , ..., -0.67753184,\n",
       "         0.55601245,  0.02017256],\n",
       "       ...,\n",
       "       [-0.6203649 , -0.8963645 ,  0.6103162 , ..., -0.7332566 ,\n",
       "         0.45246702,  0.12333546],\n",
       "       [-0.6895999 , -1.0001104 ,  0.61029875, ..., -0.78896   ,\n",
       "         0.5317715 ,  0.12554234],\n",
       "       [-0.7018096 , -0.91456544,  0.46310145, ..., -0.80257684,\n",
       "         0.52684414,  0.05768645]], dtype=float32)"
      ]
     },
     "execution_count": 47,
     "metadata": {},
     "output_type": "execute_result"
    }
   ],
   "source": [
    "features_test = np.concatenate(embeddings_test)\n",
    "features_test"
   ]
  },
  {
   "cell_type": "code",
   "execution_count": 48,
   "metadata": {},
   "outputs": [
    {
     "data": {
      "text/plain": [
       "155793    0\n",
       "116794    0\n",
       "128249    0\n",
       "155574    0\n",
       "82613     0\n",
       "         ..\n",
       "117755    0\n",
       "23290     0\n",
       "131813    0\n",
       "69700     0\n",
       "35396     0\n",
       "Name: toxic, Length: 3000, dtype: category\n",
       "Categories (2, int64): [0, 1]"
      ]
     },
     "execution_count": 48,
     "metadata": {},
     "output_type": "execute_result"
    }
   ],
   "source": [
    "target_test = df_tweets_test['toxic']\n",
    "target_test"
   ]
  },
  {
   "cell_type": "markdown",
   "metadata": {},
   "source": [
    "## Обучение модели"
   ]
  },
  {
   "cell_type": "markdown",
   "metadata": {},
   "source": [
    "### Логистическая регрессия"
   ]
  },
  {
   "cell_type": "code",
   "execution_count": 49,
   "metadata": {},
   "outputs": [
    {
     "name": "stderr",
     "output_type": "stream",
     "text": [
      "C:\\Users\\Dmitri\\anaconda3\\lib\\site-packages\\sklearn\\linear_model\\_logistic.py:458: ConvergenceWarning: lbfgs failed to converge (status=1):\n",
      "STOP: TOTAL NO. of ITERATIONS REACHED LIMIT.\n",
      "\n",
      "Increase the number of iterations (max_iter) or scale the data as shown in:\n",
      "    https://scikit-learn.org/stable/modules/preprocessing.html\n",
      "Please also refer to the documentation for alternative solver options:\n",
      "    https://scikit-learn.org/stable/modules/linear_model.html#logistic-regression\n",
      "  n_iter_i = _check_optimize_result(\n"
     ]
    },
    {
     "data": {
      "text/html": [
       "<style>#sk-container-id-1 {color: black;background-color: white;}#sk-container-id-1 pre{padding: 0;}#sk-container-id-1 div.sk-toggleable {background-color: white;}#sk-container-id-1 label.sk-toggleable__label {cursor: pointer;display: block;width: 100%;margin-bottom: 0;padding: 0.3em;box-sizing: border-box;text-align: center;}#sk-container-id-1 label.sk-toggleable__label-arrow:before {content: \"▸\";float: left;margin-right: 0.25em;color: #696969;}#sk-container-id-1 label.sk-toggleable__label-arrow:hover:before {color: black;}#sk-container-id-1 div.sk-estimator:hover label.sk-toggleable__label-arrow:before {color: black;}#sk-container-id-1 div.sk-toggleable__content {max-height: 0;max-width: 0;overflow: hidden;text-align: left;background-color: #f0f8ff;}#sk-container-id-1 div.sk-toggleable__content pre {margin: 0.2em;color: black;border-radius: 0.25em;background-color: #f0f8ff;}#sk-container-id-1 input.sk-toggleable__control:checked~div.sk-toggleable__content {max-height: 200px;max-width: 100%;overflow: auto;}#sk-container-id-1 input.sk-toggleable__control:checked~label.sk-toggleable__label-arrow:before {content: \"▾\";}#sk-container-id-1 div.sk-estimator input.sk-toggleable__control:checked~label.sk-toggleable__label {background-color: #d4ebff;}#sk-container-id-1 div.sk-label input.sk-toggleable__control:checked~label.sk-toggleable__label {background-color: #d4ebff;}#sk-container-id-1 input.sk-hidden--visually {border: 0;clip: rect(1px 1px 1px 1px);clip: rect(1px, 1px, 1px, 1px);height: 1px;margin: -1px;overflow: hidden;padding: 0;position: absolute;width: 1px;}#sk-container-id-1 div.sk-estimator {font-family: monospace;background-color: #f0f8ff;border: 1px dotted black;border-radius: 0.25em;box-sizing: border-box;margin-bottom: 0.5em;}#sk-container-id-1 div.sk-estimator:hover {background-color: #d4ebff;}#sk-container-id-1 div.sk-parallel-item::after {content: \"\";width: 100%;border-bottom: 1px solid gray;flex-grow: 1;}#sk-container-id-1 div.sk-label:hover label.sk-toggleable__label {background-color: #d4ebff;}#sk-container-id-1 div.sk-serial::before {content: \"\";position: absolute;border-left: 1px solid gray;box-sizing: border-box;top: 0;bottom: 0;left: 50%;z-index: 0;}#sk-container-id-1 div.sk-serial {display: flex;flex-direction: column;align-items: center;background-color: white;padding-right: 0.2em;padding-left: 0.2em;position: relative;}#sk-container-id-1 div.sk-item {position: relative;z-index: 1;}#sk-container-id-1 div.sk-parallel {display: flex;align-items: stretch;justify-content: center;background-color: white;position: relative;}#sk-container-id-1 div.sk-item::before, #sk-container-id-1 div.sk-parallel-item::before {content: \"\";position: absolute;border-left: 1px solid gray;box-sizing: border-box;top: 0;bottom: 0;left: 50%;z-index: -1;}#sk-container-id-1 div.sk-parallel-item {display: flex;flex-direction: column;z-index: 1;position: relative;background-color: white;}#sk-container-id-1 div.sk-parallel-item:first-child::after {align-self: flex-end;width: 50%;}#sk-container-id-1 div.sk-parallel-item:last-child::after {align-self: flex-start;width: 50%;}#sk-container-id-1 div.sk-parallel-item:only-child::after {width: 0;}#sk-container-id-1 div.sk-dashed-wrapped {border: 1px dashed gray;margin: 0 0.4em 0.5em 0.4em;box-sizing: border-box;padding-bottom: 0.4em;background-color: white;}#sk-container-id-1 div.sk-label label {font-family: monospace;font-weight: bold;display: inline-block;line-height: 1.2em;}#sk-container-id-1 div.sk-label-container {text-align: center;}#sk-container-id-1 div.sk-container {/* jupyter's `normalize.less` sets `[hidden] { display: none; }` but bootstrap.min.css set `[hidden] { display: none !important; }` so we also need the `!important` here to be able to override the default hidden behavior on the sphinx rendered scikit-learn.org. See: https://github.com/scikit-learn/scikit-learn/issues/21755 */display: inline-block !important;position: relative;}#sk-container-id-1 div.sk-text-repr-fallback {display: none;}</style><div id=\"sk-container-id-1\" class=\"sk-top-container\"><div class=\"sk-text-repr-fallback\"><pre>LogisticRegression()</pre><b>In a Jupyter environment, please rerun this cell to show the HTML representation or trust the notebook. <br />On GitHub, the HTML representation is unable to render, please try loading this page with nbviewer.org.</b></div><div class=\"sk-container\" hidden><div class=\"sk-item\"><div class=\"sk-estimator sk-toggleable\"><input class=\"sk-toggleable__control sk-hidden--visually\" id=\"sk-estimator-id-1\" type=\"checkbox\" checked><label for=\"sk-estimator-id-1\" class=\"sk-toggleable__label sk-toggleable__label-arrow\">LogisticRegression</label><div class=\"sk-toggleable__content\"><pre>LogisticRegression()</pre></div></div></div></div></div>"
      ],
      "text/plain": [
       "LogisticRegression()"
      ]
     },
     "execution_count": 49,
     "metadata": {},
     "output_type": "execute_result"
    }
   ],
   "source": [
    "log = LogisticRegression()\n",
    "log.fit(features_train, target_train)"
   ]
  },
  {
   "cell_type": "code",
   "execution_count": 50,
   "metadata": {},
   "outputs": [
    {
     "data": {
      "text/plain": [
       "0.9197860962566844"
      ]
     },
     "execution_count": 50,
     "metadata": {},
     "output_type": "execute_result"
    }
   ],
   "source": [
    "results = pd.DataFrame({'model':['LogisticRegression'], 'f1_score':f1_score(target_test, log.predict(features_test))})\n",
    "f1_score(target_test, log.predict(features_test))"
   ]
  },
  {
   "cell_type": "markdown",
   "metadata": {},
   "source": [
    "### Лес деревьев"
   ]
  },
  {
   "cell_type": "code",
   "execution_count": 57,
   "metadata": {},
   "outputs": [
    {
     "name": "stdout",
     "output_type": "stream",
     "text": [
      "Fitting 1 folds for each of 336 candidates, totalling 336 fits\n"
     ]
    },
    {
     "name": "stderr",
     "output_type": "stream",
     "text": [
      "C:\\Users\\Dmitri\\anaconda3\\lib\\site-packages\\sklearn\\ensemble\\_forest.py:425: FutureWarning: `max_features='auto'` has been deprecated in 1.1 and will be removed in 1.3. To keep the past behaviour, explicitly set `max_features='sqrt'` or remove this parameter as it is also the default value for RandomForestClassifiers and ExtraTreesClassifiers.\n",
      "  warn(\n"
     ]
    },
    {
     "name": "stdout",
     "output_type": "stream",
     "text": [
      "{'max_depth': 13, 'max_features': 'auto', 'min_samples_split': 1, 'n_estimators': 360}\n",
      "F1 0.9138840070298769\n",
      "Wall time: 26min 9s\n"
     ]
    }
   ],
   "source": [
    "%%time\n",
    "rf_params = {'n_estimators': range(300, 401, 20),\n",
    "             'max_features': ['auto', 'sqrt'],\n",
    "             'max_depth': range(10, 20, 3),\n",
    "             'min_samples_split': range(1, 20, 3)}\n",
    "\n",
    "cv=[(slice(None), slice(None))]\n",
    "\n",
    "rf_clf = GridSearchCV(RandomForestClassifier(random_state=42, class_weight='balanced'),rf_params, n_jobs=-1, verbose=2, cv=cv, scoring='f1')\n",
    "rf_clf.fit(features_train, target_train)\n",
    "\n",
    "#best parameters of model\n",
    "print(rf_clf.best_params_)\n",
    "\n",
    "#make predictions\n",
    "rf_pred = rf_clf.predict(features_test)\n",
    "print('F1', f1_score(rf_pred, target_test))"
   ]
  },
  {
   "cell_type": "code",
   "execution_count": 58,
   "metadata": {},
   "outputs": [
    {
     "name": "stderr",
     "output_type": "stream",
     "text": [
      "C:\\Users\\Dmitri\\AppData\\Local\\Temp\\ipykernel_5268\\6517143.py:1: FutureWarning: The frame.append method is deprecated and will be removed from pandas in a future version. Use pandas.concat instead.\n",
      "  results = results.append({'model':'RandomForestClassifier', 'f1_score':f1_score(rf_pred, target_test)}, ignore_index=True)\n"
     ]
    },
    {
     "data": {
      "text/html": [
       "<div>\n",
       "<style scoped>\n",
       "    .dataframe tbody tr th:only-of-type {\n",
       "        vertical-align: middle;\n",
       "    }\n",
       "\n",
       "    .dataframe tbody tr th {\n",
       "        vertical-align: top;\n",
       "    }\n",
       "\n",
       "    .dataframe thead th {\n",
       "        text-align: right;\n",
       "    }\n",
       "</style>\n",
       "<table border=\"1\" class=\"dataframe\">\n",
       "  <thead>\n",
       "    <tr style=\"text-align: right;\">\n",
       "      <th></th>\n",
       "      <th>model</th>\n",
       "      <th>f1_score</th>\n",
       "    </tr>\n",
       "  </thead>\n",
       "  <tbody>\n",
       "    <tr>\n",
       "      <th>0</th>\n",
       "      <td>LogisticRegression</td>\n",
       "      <td>0.919786</td>\n",
       "    </tr>\n",
       "    <tr>\n",
       "      <th>1</th>\n",
       "      <td>RandomForestClassifier</td>\n",
       "      <td>0.913884</td>\n",
       "    </tr>\n",
       "  </tbody>\n",
       "</table>\n",
       "</div>"
      ],
      "text/plain": [
       "                    model  f1_score\n",
       "0      LogisticRegression  0.919786\n",
       "1  RandomForestClassifier  0.913884"
      ]
     },
     "execution_count": 58,
     "metadata": {},
     "output_type": "execute_result"
    }
   ],
   "source": [
    "results = results.append({'model':'RandomForestClassifier', 'f1_score':f1_score(rf_pred, target_test)}, ignore_index=True)\n",
    "results"
   ]
  },
  {
   "cell_type": "markdown",
   "metadata": {},
   "source": [
    "### LGBMClassifier"
   ]
  },
  {
   "cell_type": "code",
   "execution_count": 59,
   "metadata": {},
   "outputs": [
    {
     "name": "stdout",
     "output_type": "stream",
     "text": [
      "Fitting 1 folds for each of 504 candidates, totalling 504 fits\n",
      "{'learning_rate': 0.1, 'max_depth': 5, 'n_estimators': 200}\n",
      "F1 0.9219858156028369\n",
      "Wall time: 13min 40s\n"
     ]
    }
   ],
   "source": [
    "%%time\n",
    "\n",
    "lgbm_param_grid = {\n",
    "    \"n_estimators\": range(200, 401, 10), \n",
    "    \"max_depth\": range(5, 40, 3),\n",
    "    'learning_rate': [0.1, 0.2]\n",
    "}\n",
    "\n",
    "lgbm = GridSearchCV(LGBMClassifier(random_state=RANDOM_STATE, class_weight='balanced'),lgbm_param_grid, n_jobs=-1, verbose=2, cv=cv, scoring='f1')\n",
    "lgbm.fit(features_train, target_train)\n",
    "\n",
    "#best parameters of model\n",
    "print(lgbm.best_params_)\n",
    "\n",
    "#make predictions\n",
    "lgbm_pred = lgbm.predict(features_test)\n",
    "print('F1', f1_score(lgbm_pred, target_test))"
   ]
  },
  {
   "cell_type": "code",
   "execution_count": 60,
   "metadata": {},
   "outputs": [
    {
     "name": "stderr",
     "output_type": "stream",
     "text": [
      "C:\\Users\\Dmitri\\AppData\\Local\\Temp\\ipykernel_5268\\329857301.py:2: FutureWarning: The frame.append method is deprecated and will be removed from pandas in a future version. Use pandas.concat instead.\n",
      "  results = results.append({'model':'LGBMClassifier', 'f1_score':f1_score(lgbm_pred, target_test)}, ignore_index=True)\n"
     ]
    },
    {
     "data": {
      "text/html": [
       "<div>\n",
       "<style scoped>\n",
       "    .dataframe tbody tr th:only-of-type {\n",
       "        vertical-align: middle;\n",
       "    }\n",
       "\n",
       "    .dataframe tbody tr th {\n",
       "        vertical-align: top;\n",
       "    }\n",
       "\n",
       "    .dataframe thead th {\n",
       "        text-align: right;\n",
       "    }\n",
       "</style>\n",
       "<table border=\"1\" class=\"dataframe\">\n",
       "  <thead>\n",
       "    <tr style=\"text-align: right;\">\n",
       "      <th></th>\n",
       "      <th>model</th>\n",
       "      <th>f1_score</th>\n",
       "    </tr>\n",
       "  </thead>\n",
       "  <tbody>\n",
       "    <tr>\n",
       "      <th>0</th>\n",
       "      <td>LogisticRegression</td>\n",
       "      <td>0.919786</td>\n",
       "    </tr>\n",
       "    <tr>\n",
       "      <th>1</th>\n",
       "      <td>RandomForestClassifier</td>\n",
       "      <td>0.913884</td>\n",
       "    </tr>\n",
       "    <tr>\n",
       "      <th>2</th>\n",
       "      <td>LGBMClassifier</td>\n",
       "      <td>0.921986</td>\n",
       "    </tr>\n",
       "  </tbody>\n",
       "</table>\n",
       "</div>"
      ],
      "text/plain": [
       "                    model  f1_score\n",
       "0      LogisticRegression  0.919786\n",
       "1  RandomForestClassifier  0.913884\n",
       "2          LGBMClassifier  0.921986"
      ]
     },
     "execution_count": 60,
     "metadata": {},
     "output_type": "execute_result"
    }
   ],
   "source": [
    "#{'learning_rate': 0.1, 'max_depth': 10, 'n_estimators': 300}\n",
    "results = results.append({'model':'LGBMClassifier', 'f1_score':f1_score(lgbm_pred, target_test)}, ignore_index=True)\n",
    "results"
   ]
  },
  {
   "cell_type": "markdown",
   "metadata": {
    "id": "51DVhfkyuR8I"
   },
   "source": [
    "<div style=\"border:solid #81d8e6 2px; padding: 10px\">\n",
    "Мы проверили модели на двух моделях bert, лучшим вариантом стала модель LGBMClassifier. \n",
    "</div>"
   ]
  },
  {
   "cell_type": "markdown",
   "metadata": {},
   "source": [
    "### Detoxify"
   ]
  },
  {
   "cell_type": "code",
   "execution_count": 13,
   "metadata": {},
   "outputs": [],
   "source": [
    "from detoxify import Detoxify"
   ]
  },
  {
   "cell_type": "code",
   "execution_count": 14,
   "metadata": {},
   "outputs": [
    {
     "data": {
      "text/html": [
       "<div>\n",
       "<style scoped>\n",
       "    .dataframe tbody tr th:only-of-type {\n",
       "        vertical-align: middle;\n",
       "    }\n",
       "\n",
       "    .dataframe tbody tr th {\n",
       "        vertical-align: top;\n",
       "    }\n",
       "\n",
       "    .dataframe thead th {\n",
       "        text-align: right;\n",
       "    }\n",
       "</style>\n",
       "<table border=\"1\" class=\"dataframe\">\n",
       "  <thead>\n",
       "    <tr style=\"text-align: right;\">\n",
       "      <th></th>\n",
       "      <th>text</th>\n",
       "      <th>toxic</th>\n",
       "    </tr>\n",
       "  </thead>\n",
       "  <tbody>\n",
       "    <tr>\n",
       "      <th>151797</th>\n",
       "      <td>Done—  talk \\nThanks for your comments. Hopefu...</td>\n",
       "      <td>0</td>\n",
       "    </tr>\n",
       "    <tr>\n",
       "      <th>111429</th>\n",
       "      <td>Just wondering, what ethnicity are you? \\n\\nHe...</td>\n",
       "      <td>0</td>\n",
       "    </tr>\n",
       "    <tr>\n",
       "      <th>54490</th>\n",
       "      <td>It is not our place to judge the merits of the...</td>\n",
       "      <td>0</td>\n",
       "    </tr>\n",
       "    <tr>\n",
       "      <th>158646</th>\n",
       "      <td>Yes, his tragic flaw is wrath; the killing of ...</td>\n",
       "      <td>0</td>\n",
       "    </tr>\n",
       "    <tr>\n",
       "      <th>1659</th>\n",
       "      <td>Mine dispeared, somebody wax my ass.</td>\n",
       "      <td>1</td>\n",
       "    </tr>\n",
       "    <tr>\n",
       "      <th>...</th>\n",
       "      <td>...</td>\n",
       "      <td>...</td>\n",
       "    </tr>\n",
       "    <tr>\n",
       "      <th>146676</th>\n",
       "      <td>‎Disambiguation link Journals changed. Thanks.</td>\n",
       "      <td>0</td>\n",
       "    </tr>\n",
       "    <tr>\n",
       "      <th>98045</th>\n",
       "      <td>\":::::When the consensus is demonstratably wro...</td>\n",
       "      <td>0</td>\n",
       "    </tr>\n",
       "    <tr>\n",
       "      <th>82047</th>\n",
       "      <td>Fuck you\\n\\nDon't be asking for me to be banne...</td>\n",
       "      <td>1</td>\n",
       "    </tr>\n",
       "    <tr>\n",
       "      <th>119995</th>\n",
       "      <td>I just went ahead and deleted it. If anyone ob...</td>\n",
       "      <td>0</td>\n",
       "    </tr>\n",
       "    <tr>\n",
       "      <th>43545</th>\n",
       "      <td>Fit to exponential without start guess \\nThis ...</td>\n",
       "      <td>0</td>\n",
       "    </tr>\n",
       "  </tbody>\n",
       "</table>\n",
       "<p>500 rows × 2 columns</p>\n",
       "</div>"
      ],
      "text/plain": [
       "                                                     text toxic\n",
       "151797  Done—  talk \\nThanks for your comments. Hopefu...     0\n",
       "111429  Just wondering, what ethnicity are you? \\n\\nHe...     0\n",
       "54490   It is not our place to judge the merits of the...     0\n",
       "158646  Yes, his tragic flaw is wrath; the killing of ...     0\n",
       "1659                 Mine dispeared, somebody wax my ass.     1\n",
       "...                                                   ...   ...\n",
       "146676     ‎Disambiguation link Journals changed. Thanks.     0\n",
       "98045   \":::::When the consensus is demonstratably wro...     0\n",
       "82047   Fuck you\\n\\nDon't be asking for me to be banne...     1\n",
       "119995  I just went ahead and deleted it. If anyone ob...     0\n",
       "43545   Fit to exponential without start guess \\nThis ...     0\n",
       "\n",
       "[500 rows x 2 columns]"
      ]
     },
     "execution_count": 14,
     "metadata": {},
     "output_type": "execute_result"
    }
   ],
   "source": [
    "testing = data.sample(500)\n",
    "testing"
   ]
  },
  {
   "cell_type": "code",
   "execution_count": 15,
   "metadata": {},
   "outputs": [
    {
     "name": "stdout",
     "output_type": "stream",
     "text": [
      "Wall time: 54min 43s\n"
     ]
    },
    {
     "data": {
      "text/plain": [
       "151797    {'toxicity': 0.00052514643, 'severe_toxicity':...\n",
       "111429    {'toxicity': 0.019815968, 'severe_toxicity': 0...\n",
       "54490     {'toxicity': 0.0005733253, 'severe_toxicity': ...\n",
       "158646    {'toxicity': 0.04139942, 'severe_toxicity': 0....\n",
       "1659      {'toxicity': 0.9804341, 'severe_toxicity': 0.0...\n",
       "                                ...                        \n",
       "146676    {'toxicity': 0.00058888097, 'severe_toxicity':...\n",
       "98045     {'toxicity': 0.0017850497, 'severe_toxicity': ...\n",
       "82047     {'toxicity': 0.9974528, 'severe_toxicity': 0.3...\n",
       "119995    {'toxicity': 0.00063295104, 'severe_toxicity':...\n",
       "43545     {'toxicity': 0.00059353304, 'severe_toxicity':...\n",
       "Name: text, Length: 500, dtype: object"
      ]
     },
     "execution_count": 15,
     "metadata": {},
     "output_type": "execute_result"
    }
   ],
   "source": [
    "%%time\n",
    "result = testing['text'].apply(lambda x: Detoxify('original').predict(x))\n",
    "result"
   ]
  },
  {
   "cell_type": "code",
   "execution_count": 16,
   "metadata": {},
   "outputs": [],
   "source": [
    "pred_toxify = pd.DataFrame(result)"
   ]
  },
  {
   "cell_type": "code",
   "execution_count": 17,
   "metadata": {},
   "outputs": [],
   "source": [
    "pred_t = []\n",
    "n = 0\n",
    "for i in pred_toxify.index:\n",
    "    pred_t.append(list(pred_toxify.iloc[n].values)[0]['toxicity'])\n",
    "    n+=1"
   ]
  },
  {
   "cell_type": "code",
   "execution_count": 18,
   "metadata": {},
   "outputs": [
    {
     "data": {
      "text/plain": [
       "array([0, 0, 0, 0, 1, 0, 0, 0, 0, 1, 0, 0, 0, 0, 1, 0, 1, 0, 0, 0, 0, 0,\n",
       "       0, 0, 1, 0, 0, 0, 0, 0, 0, 0, 0, 0, 0, 0, 0, 0, 0, 0, 0, 0, 0, 1,\n",
       "       0, 0, 0, 0, 0, 0, 0, 0, 0, 0, 0, 0, 0, 0, 0, 0, 0, 0, 1, 0, 0, 0,\n",
       "       0, 0, 0, 0, 0, 0, 1, 0, 0, 0, 0, 0, 1, 0, 0, 1, 0, 0, 0, 0, 0, 0,\n",
       "       0, 0, 0, 0, 0, 0, 0, 0, 0, 0, 1, 0, 0, 0, 0, 0, 1, 1, 0, 0, 0, 1,\n",
       "       0, 0, 0, 0, 0, 0, 1, 0, 0, 0, 0, 0, 0, 0, 0, 0, 0, 0, 0, 0, 0, 0,\n",
       "       0, 0, 0, 0, 0, 0, 0, 0, 0, 1, 0, 0, 0, 0, 0, 0, 0, 0, 0, 0, 0, 0,\n",
       "       1, 0, 0, 0, 0, 0, 0, 1, 0, 0, 0, 0, 0, 0, 0, 0, 0, 0, 0, 0, 0, 0,\n",
       "       0, 0, 0, 0, 0, 0, 0, 0, 0, 0, 0, 0, 1, 0, 0, 0, 0, 1, 0, 0, 0, 0,\n",
       "       0, 0, 0, 0, 0, 0, 0, 1, 0, 0, 0, 0, 0, 0, 0, 1, 0, 0, 0, 0, 0, 0,\n",
       "       1, 0, 0, 0, 0, 0, 0, 0, 0, 0, 0, 0, 0, 0, 0, 0, 0, 0, 0, 0, 0, 0,\n",
       "       0, 0, 0, 0, 0, 0, 0, 0, 1, 0, 0, 0, 0, 0, 0, 0, 0, 0, 0, 0, 0, 0,\n",
       "       0, 0, 0, 0, 0, 0, 0, 0, 0, 0, 1, 0, 0, 0, 0, 0, 0, 0, 0, 0, 0, 0,\n",
       "       0, 0, 0, 0, 0, 0, 0, 0, 0, 1, 0, 0, 0, 0, 0, 0, 0, 0, 0, 0, 0, 0,\n",
       "       0, 0, 0, 0, 0, 0, 0, 0, 0, 0, 0, 0, 0, 0, 0, 0, 0, 0, 0, 0, 0, 0,\n",
       "       0, 0, 0, 0, 0, 0, 0, 1, 0, 0, 0, 0, 0, 1, 1, 0, 0, 0, 0, 0, 0, 0,\n",
       "       0, 0, 0, 0, 0, 1, 0, 0, 0, 0, 0, 0, 0, 1, 1, 0, 0, 1, 0, 0, 0, 0,\n",
       "       0, 1, 0, 0, 1, 0, 0, 0, 0, 0, 0, 0, 0, 0, 0, 0, 0, 0, 0, 0, 0, 0,\n",
       "       0, 0, 0, 0, 0, 0, 0, 0, 0, 0, 0, 0, 0, 0, 0, 0, 0, 1, 0, 0, 0, 0,\n",
       "       1, 1, 0, 1, 0, 0, 0, 0, 1, 1, 1, 0, 0, 0, 0, 1, 0, 0, 0, 0, 0, 0,\n",
       "       0, 0, 0, 0, 0, 0, 0, 0, 0, 0, 0, 0, 0, 1, 1, 1, 0, 0, 0, 0, 1, 0,\n",
       "       0, 0, 0, 0, 0, 0, 0, 0, 1, 0, 0, 0, 0, 1, 0, 0, 0, 0, 0, 0, 0, 0,\n",
       "       0, 0, 0, 0, 0, 0, 1, 0, 0, 0, 0, 0, 0, 1, 0, 0])"
      ]
     },
     "execution_count": 18,
     "metadata": {},
     "output_type": "execute_result"
    }
   ],
   "source": [
    "pred_t = pd.DataFrame(pred_t, index=pred_toxify.index, columns=['pred'])\n",
    "pred_t = np.where(pred_t['pred'] > 0.5, 1, 0)\n",
    "pred_t"
   ]
  },
  {
   "cell_type": "code",
   "execution_count": 19,
   "metadata": {},
   "outputs": [
    {
     "data": {
      "text/plain": [
       "0.9504950495049505"
      ]
     },
     "execution_count": 19,
     "metadata": {},
     "output_type": "execute_result"
    }
   ],
   "source": [
    "f1_score(testing['toxic'], pred_t)"
   ]
  },
  {
   "cell_type": "markdown",
   "metadata": {
    "id": "L0Pg25RXuR8I"
   },
   "source": [
    "<div style=\"border:solid #81d8e6 2px; padding: 10px\">\n",
    "Также мы проверили работу модели Detoxify, получили самое высокое качество, однако в условиях проектного задания входит создание собственной модели.\n",
    "</div>"
   ]
  },
  {
   "cell_type": "markdown",
   "metadata": {},
   "source": [
    "## Выводы"
   ]
  },
  {
   "cell_type": "markdown",
   "metadata": {},
   "source": [
    " - затраченное время больше 2-х дней, потому что эмбеддинг занимает 1,5 часа, подбор параметров во всех моделях также 1,5 часа. Следовательно, любой поиск подходящих размера выборки, распределения классов, размера батча, модели будет занимать минимум 3 часа без погрешности на ошибки.\n",
    " - результат f1=0.92"
   ]
  },
  {
   "cell_type": "markdown",
   "metadata": {},
   "source": [
    "# No Bert way 3"
   ]
  },
  {
   "cell_type": "markdown",
   "metadata": {},
   "source": [
    "## Анализ и подготовка данных"
   ]
  },
  {
   "cell_type": "code",
   "execution_count": 13,
   "metadata": {},
   "outputs": [
    {
     "data": {
      "text/plain": [
       "0    143106\n",
       "1     16186\n",
       "Name: toxic, dtype: int64"
      ]
     },
     "execution_count": 13,
     "metadata": {},
     "output_type": "execute_result"
    }
   ],
   "source": [
    "data['toxic'].value_counts()"
   ]
  },
  {
   "cell_type": "code",
   "execution_count": 14,
   "metadata": {},
   "outputs": [
    {
     "name": "stderr",
     "output_type": "stream",
     "text": [
      "C:\\Users\\Dmitri\\AppData\\Local\\Temp\\ipykernel_20904\\1741200641.py:1: FutureWarning: The frame.append method is deprecated and will be removed from pandas in a future version. Use pandas.concat instead.\n",
      "  data_copy_train = data.query('toxic==1')[:15186].append(data.query('toxic==0')[:15186])\n"
     ]
    },
    {
     "data": {
      "text/html": [
       "<div>\n",
       "<style scoped>\n",
       "    .dataframe tbody tr th:only-of-type {\n",
       "        vertical-align: middle;\n",
       "    }\n",
       "\n",
       "    .dataframe tbody tr th {\n",
       "        vertical-align: top;\n",
       "    }\n",
       "\n",
       "    .dataframe thead th {\n",
       "        text-align: right;\n",
       "    }\n",
       "</style>\n",
       "<table border=\"1\" class=\"dataframe\">\n",
       "  <thead>\n",
       "    <tr style=\"text-align: right;\">\n",
       "      <th></th>\n",
       "      <th>text</th>\n",
       "      <th>toxic</th>\n",
       "    </tr>\n",
       "  </thead>\n",
       "  <tbody>\n",
       "    <tr>\n",
       "      <th>6</th>\n",
       "      <td>COCKSUCKER BEFORE YOU PISS AROUND ON MY WORK</td>\n",
       "      <td>1</td>\n",
       "    </tr>\n",
       "    <tr>\n",
       "      <th>12</th>\n",
       "      <td>Hey... what is it..\\n@ | talk .\\nWhat is it......</td>\n",
       "      <td>1</td>\n",
       "    </tr>\n",
       "    <tr>\n",
       "      <th>16</th>\n",
       "      <td>Bye! \\n\\nDon't look, come or think of comming ...</td>\n",
       "      <td>1</td>\n",
       "    </tr>\n",
       "    <tr>\n",
       "      <th>42</th>\n",
       "      <td>You are gay or antisemmitian? \\n\\nArchangel WH...</td>\n",
       "      <td>1</td>\n",
       "    </tr>\n",
       "    <tr>\n",
       "      <th>43</th>\n",
       "      <td>FUCK YOUR FILTHY MOTHER IN THE ASS, DRY!</td>\n",
       "      <td>1</td>\n",
       "    </tr>\n",
       "    <tr>\n",
       "      <th>...</th>\n",
       "      <td>...</td>\n",
       "      <td>...</td>\n",
       "    </tr>\n",
       "    <tr>\n",
       "      <th>16907</th>\n",
       "      <td>I further object to the constant bad faith and...</td>\n",
       "      <td>0</td>\n",
       "    </tr>\n",
       "    <tr>\n",
       "      <th>16908</th>\n",
       "      <td>\"\\n\\n Response \\n\\nas I linked above, you shou...</td>\n",
       "      <td>0</td>\n",
       "    </tr>\n",
       "    <tr>\n",
       "      <th>16909</th>\n",
       "      <td>Sorry \\n\\nThat IP's talk page protection didn'...</td>\n",
       "      <td>0</td>\n",
       "    </tr>\n",
       "    <tr>\n",
       "      <th>16910</th>\n",
       "      <td>\"\\n\\nEntrpreneurial_mindset\\nSomeone with the ...</td>\n",
       "      <td>0</td>\n",
       "    </tr>\n",
       "    <tr>\n",
       "      <th>16911</th>\n",
       "      <td>I am agree with you.</td>\n",
       "      <td>0</td>\n",
       "    </tr>\n",
       "  </tbody>\n",
       "</table>\n",
       "<p>30372 rows × 2 columns</p>\n",
       "</div>"
      ],
      "text/plain": [
       "                                                    text toxic\n",
       "6           COCKSUCKER BEFORE YOU PISS AROUND ON MY WORK     1\n",
       "12     Hey... what is it..\\n@ | talk .\\nWhat is it......     1\n",
       "16     Bye! \\n\\nDon't look, come or think of comming ...     1\n",
       "42     You are gay or antisemmitian? \\n\\nArchangel WH...     1\n",
       "43              FUCK YOUR FILTHY MOTHER IN THE ASS, DRY!     1\n",
       "...                                                  ...   ...\n",
       "16907  I further object to the constant bad faith and...     0\n",
       "16908  \"\\n\\n Response \\n\\nas I linked above, you shou...     0\n",
       "16909  Sorry \\n\\nThat IP's talk page protection didn'...     0\n",
       "16910  \"\\n\\nEntrpreneurial_mindset\\nSomeone with the ...     0\n",
       "16911                               I am agree with you.     0\n",
       "\n",
       "[30372 rows x 2 columns]"
      ]
     },
     "execution_count": 14,
     "metadata": {},
     "output_type": "execute_result"
    }
   ],
   "source": [
    "data_copy_train = data.query('toxic==1')[:15186].append(data.query('toxic==0')[:15186])\n",
    "data_copy_train"
   ]
  },
  {
   "cell_type": "code",
   "execution_count": 15,
   "metadata": {},
   "outputs": [
    {
     "data": {
      "image/png": "[encoded data removed]",
      "text/plain": [
       "<Figure size 500x500 with 1 Axes>"
      ]
     },
     "metadata": {},
     "output_type": "display_data"
    }
   ],
   "source": [
    "pie_plot('toxic', data=data_copy_train, title='Распределение классов в столбце \"toxic\"')"
   ]
  },
  {
   "cell_type": "code",
   "execution_count": 16,
   "metadata": {},
   "outputs": [
    {
     "data": {
      "text/plain": [
       "0    127920\n",
       "1      1000\n",
       "Name: toxic, dtype: int64"
      ]
     },
     "execution_count": 16,
     "metadata": {},
     "output_type": "execute_result"
    }
   ],
   "source": [
    "data_copy_test = pd.concat([data, data_copy_train]).drop_duplicates(keep=False)\n",
    "data_copy_test['toxic'].value_counts()"
   ]
  },
  {
   "cell_type": "code",
   "execution_count": 17,
   "metadata": {},
   "outputs": [
    {
     "name": "stderr",
     "output_type": "stream",
     "text": [
      "C:\\Users\\Dmitri\\AppData\\Local\\Temp\\ipykernel_20904\\899268607.py:1: FutureWarning: The frame.append method is deprecated and will be removed from pandas in a future version. Use pandas.concat instead.\n",
      "  data_copy_test = data_copy_test.query('toxic==1').append(data_copy_test.query('toxic==0')[:9000])\n"
     ]
    }
   ],
   "source": [
    "data_copy_test = data_copy_test.query('toxic==1').append(data_copy_test.query('toxic==0')[:9000])"
   ]
  },
  {
   "cell_type": "code",
   "execution_count": 18,
   "metadata": {
    "scrolled": false
   },
   "outputs": [
    {
     "data": {
      "image/png": "[encoded data removed]",
      "text/plain": [
       "<Figure size 500x500 with 1 Axes>"
      ]
     },
     "metadata": {},
     "output_type": "display_data"
    }
   ],
   "source": [
    "pie_plot('toxic', data=data_copy_test, title='Распределение классов в столбце \"toxic\"')"
   ]
  },
  {
   "cell_type": "markdown",
   "metadata": {},
   "source": [
    "### Лемматизация"
   ]
  },
  {
   "cell_type": "code",
   "execution_count": 19,
   "metadata": {},
   "outputs": [],
   "source": [
    "lemmatizer = WordNetLemmatizer()"
   ]
  },
  {
   "cell_type": "code",
   "execution_count": 20,
   "metadata": {},
   "outputs": [],
   "source": [
    "def lem(string):\n",
    "    new_string = []\n",
    "    for tocen in string.split():\n",
    "        tocen = tocen.lower()\n",
    "        tocen = re.sub(r'[^a-zA-Z]', ' ', tocen)\n",
    "        tocen = lemmatizer.lemmatize(tocen)\n",
    "        new_string.append(tocen)\n",
    "    return ' '.join(new_string)"
   ]
  },
  {
   "cell_type": "code",
   "execution_count": 21,
   "metadata": {},
   "outputs": [],
   "source": [
    "data_copy_train['text'] = data_copy_train['text'].apply(lambda x: lem(x))"
   ]
  },
  {
   "cell_type": "code",
   "execution_count": 22,
   "metadata": {},
   "outputs": [],
   "source": [
    "data_copy_test['text'] = data_copy_test['text'].apply(lambda x: lem(x))"
   ]
  },
  {
   "cell_type": "code",
   "execution_count": 23,
   "metadata": {},
   "outputs": [],
   "source": [
    "count_vect = CountVectorizer(stop_words=stop_words)"
   ]
  },
  {
   "cell_type": "markdown",
   "metadata": {},
   "source": [
    "### Разделение выборки"
   ]
  },
  {
   "cell_type": "code",
   "execution_count": 24,
   "metadata": {},
   "outputs": [],
   "source": [
    "features_train = data_copy_train['text']\n",
    "target_train = data_copy_train['toxic']\n",
    "\n",
    "features_valid = data_copy_test['text']\n",
    "target_valid = data_copy_test['toxic']"
   ]
  },
  {
   "cell_type": "markdown",
   "metadata": {},
   "source": [
    "### tf_idf"
   ]
  },
  {
   "cell_type": "code",
   "execution_count": 25,
   "metadata": {},
   "outputs": [],
   "source": [
    "count_tf_idf = TfidfVectorizer() "
   ]
  },
  {
   "cell_type": "code",
   "execution_count": 26,
   "metadata": {},
   "outputs": [],
   "source": [
    "tf_idf = count_tf_idf.fit_transform(features_train)"
   ]
  },
  {
   "cell_type": "code",
   "execution_count": 27,
   "metadata": {},
   "outputs": [
    {
     "data": {
      "text/plain": [
       "(30372, 57658)"
      ]
     },
     "execution_count": 27,
     "metadata": {},
     "output_type": "execute_result"
    }
   ],
   "source": [
    "tf_idf.shape"
   ]
  },
  {
   "cell_type": "code",
   "execution_count": 28,
   "metadata": {},
   "outputs": [
    {
     "data": {
      "text/plain": [
       "(30372,)"
      ]
     },
     "execution_count": 28,
     "metadata": {},
     "output_type": "execute_result"
    }
   ],
   "source": [
    "target_train.shape"
   ]
  },
  {
   "cell_type": "code",
   "execution_count": 29,
   "metadata": {},
   "outputs": [
    {
     "data": {
      "text/plain": [
       "(10000, 57658)"
      ]
     },
     "execution_count": 29,
     "metadata": {},
     "output_type": "execute_result"
    }
   ],
   "source": [
    "tf_idf_test = count_tf_idf.transform(features_valid)\n",
    "tf_idf_test.shape"
   ]
  },
  {
   "cell_type": "markdown",
   "metadata": {},
   "source": [
    "## Обучение модели"
   ]
  },
  {
   "cell_type": "markdown",
   "metadata": {},
   "source": [
    "### Логистическая регрессия"
   ]
  },
  {
   "cell_type": "code",
   "execution_count": 30,
   "metadata": {},
   "outputs": [
    {
     "data": {
      "text/html": [
       "<style>#sk-container-id-1 {color: black;background-color: white;}#sk-container-id-1 pre{padding: 0;}#sk-container-id-1 div.sk-toggleable {background-color: white;}#sk-container-id-1 label.sk-toggleable__label {cursor: pointer;display: block;width: 100%;margin-bottom: 0;padding: 0.3em;box-sizing: border-box;text-align: center;}#sk-container-id-1 label.sk-toggleable__label-arrow:before {content: \"▸\";float: left;margin-right: 0.25em;color: #696969;}#sk-container-id-1 label.sk-toggleable__label-arrow:hover:before {color: black;}#sk-container-id-1 div.sk-estimator:hover label.sk-toggleable__label-arrow:before {color: black;}#sk-container-id-1 div.sk-toggleable__content {max-height: 0;max-width: 0;overflow: hidden;text-align: left;background-color: #f0f8ff;}#sk-container-id-1 div.sk-toggleable__content pre {margin: 0.2em;color: black;border-radius: 0.25em;background-color: #f0f8ff;}#sk-container-id-1 input.sk-toggleable__control:checked~div.sk-toggleable__content {max-height: 200px;max-width: 100%;overflow: auto;}#sk-container-id-1 input.sk-toggleable__control:checked~label.sk-toggleable__label-arrow:before {content: \"▾\";}#sk-container-id-1 div.sk-estimator input.sk-toggleable__control:checked~label.sk-toggleable__label {background-color: #d4ebff;}#sk-container-id-1 div.sk-label input.sk-toggleable__control:checked~label.sk-toggleable__label {background-color: #d4ebff;}#sk-container-id-1 input.sk-hidden--visually {border: 0;clip: rect(1px 1px 1px 1px);clip: rect(1px, 1px, 1px, 1px);height: 1px;margin: -1px;overflow: hidden;padding: 0;position: absolute;width: 1px;}#sk-container-id-1 div.sk-estimator {font-family: monospace;background-color: #f0f8ff;border: 1px dotted black;border-radius: 0.25em;box-sizing: border-box;margin-bottom: 0.5em;}#sk-container-id-1 div.sk-estimator:hover {background-color: #d4ebff;}#sk-container-id-1 div.sk-parallel-item::after {content: \"\";width: 100%;border-bottom: 1px solid gray;flex-grow: 1;}#sk-container-id-1 div.sk-label:hover label.sk-toggleable__label {background-color: #d4ebff;}#sk-container-id-1 div.sk-serial::before {content: \"\";position: absolute;border-left: 1px solid gray;box-sizing: border-box;top: 0;bottom: 0;left: 50%;z-index: 0;}#sk-container-id-1 div.sk-serial {display: flex;flex-direction: column;align-items: center;background-color: white;padding-right: 0.2em;padding-left: 0.2em;position: relative;}#sk-container-id-1 div.sk-item {position: relative;z-index: 1;}#sk-container-id-1 div.sk-parallel {display: flex;align-items: stretch;justify-content: center;background-color: white;position: relative;}#sk-container-id-1 div.sk-item::before, #sk-container-id-1 div.sk-parallel-item::before {content: \"\";position: absolute;border-left: 1px solid gray;box-sizing: border-box;top: 0;bottom: 0;left: 50%;z-index: -1;}#sk-container-id-1 div.sk-parallel-item {display: flex;flex-direction: column;z-index: 1;position: relative;background-color: white;}#sk-container-id-1 div.sk-parallel-item:first-child::after {align-self: flex-end;width: 50%;}#sk-container-id-1 div.sk-parallel-item:last-child::after {align-self: flex-start;width: 50%;}#sk-container-id-1 div.sk-parallel-item:only-child::after {width: 0;}#sk-container-id-1 div.sk-dashed-wrapped {border: 1px dashed gray;margin: 0 0.4em 0.5em 0.4em;box-sizing: border-box;padding-bottom: 0.4em;background-color: white;}#sk-container-id-1 div.sk-label label {font-family: monospace;font-weight: bold;display: inline-block;line-height: 1.2em;}#sk-container-id-1 div.sk-label-container {text-align: center;}#sk-container-id-1 div.sk-container {/* jupyter's `normalize.less` sets `[hidden] { display: none; }` but bootstrap.min.css set `[hidden] { display: none !important; }` so we also need the `!important` here to be able to override the default hidden behavior on the sphinx rendered scikit-learn.org. See: https://github.com/scikit-learn/scikit-learn/issues/21755 */display: inline-block !important;position: relative;}#sk-container-id-1 div.sk-text-repr-fallback {display: none;}</style><div id=\"sk-container-id-1\" class=\"sk-top-container\"><div class=\"sk-text-repr-fallback\"><pre>LogisticRegression()</pre><b>In a Jupyter environment, please rerun this cell to show the HTML representation or trust the notebook. <br />On GitHub, the HTML representation is unable to render, please try loading this page with nbviewer.org.</b></div><div class=\"sk-container\" hidden><div class=\"sk-item\"><div class=\"sk-estimator sk-toggleable\"><input class=\"sk-toggleable__control sk-hidden--visually\" id=\"sk-estimator-id-1\" type=\"checkbox\" checked><label for=\"sk-estimator-id-1\" class=\"sk-toggleable__label sk-toggleable__label-arrow\">LogisticRegression</label><div class=\"sk-toggleable__content\"><pre>LogisticRegression()</pre></div></div></div></div></div>"
      ],
      "text/plain": [
       "LogisticRegression()"
      ]
     },
     "execution_count": 30,
     "metadata": {},
     "output_type": "execute_result"
    }
   ],
   "source": [
    "model_lr = LogisticRegression()\n",
    "model_lr.fit(tf_idf, target_train)"
   ]
  },
  {
   "cell_type": "code",
   "execution_count": 33,
   "metadata": {},
   "outputs": [
    {
     "data": {
      "text/html": [
       "<div>\n",
       "<style scoped>\n",
       "    .dataframe tbody tr th:only-of-type {\n",
       "        vertical-align: middle;\n",
       "    }\n",
       "\n",
       "    .dataframe tbody tr th {\n",
       "        vertical-align: top;\n",
       "    }\n",
       "\n",
       "    .dataframe thead th {\n",
       "        text-align: right;\n",
       "    }\n",
       "</style>\n",
       "<table border=\"1\" class=\"dataframe\">\n",
       "  <thead>\n",
       "    <tr style=\"text-align: right;\">\n",
       "      <th></th>\n",
       "      <th>model</th>\n",
       "      <th>f1_score</th>\n",
       "    </tr>\n",
       "  </thead>\n",
       "  <tbody>\n",
       "    <tr>\n",
       "      <th>0</th>\n",
       "      <td>LogisticRegression</td>\n",
       "      <td>0.886277</td>\n",
       "    </tr>\n",
       "  </tbody>\n",
       "</table>\n",
       "</div>"
      ],
      "text/plain": [
       "                model  f1_score\n",
       "0  LogisticRegression  0.886277"
      ]
     },
     "execution_count": 33,
     "metadata": {},
     "output_type": "execute_result"
    }
   ],
   "source": [
    "answer = pd.DataFrame({'model':['LogisticRegression'], 'f1_score':cross_val_score(model_lr, tf_idf, target_train, scoring='f1').mean()})\n",
    "answer"
   ]
  },
  {
   "cell_type": "markdown",
   "metadata": {},
   "source": [
    "### Лес решений"
   ]
  },
  {
   "cell_type": "code",
   "execution_count": 50,
   "metadata": {},
   "outputs": [
    {
     "name": "stdout",
     "output_type": "stream",
     "text": [
      "Fitting 1 folds for each of 27 candidates, totalling 27 fits\n",
      "{'max_depth': 200, 'min_samples_split': 2, 'n_estimators': 200}\n",
      "Wall time: 22min 38s\n"
     ]
    }
   ],
   "source": [
    "%%time \n",
    "rf_params={'n_estimators':[50, 200, 20],\n",
    "              'max_depth':[100, 200, 25],\n",
    "              'min_samples_split':[2, 50, 5]}\n",
    "\n",
    "cv=[(slice(None), slice(None))]\n",
    "\n",
    "rf_clf = GridSearchCV(RandomForestClassifier(random_state=RANDOM_STATE), rf_params, n_jobs=-1, verbose=2, cv=cv, scoring='f1')\n",
    "rf_clf.fit(tf_idf, target_train)\n",
    "\n",
    "print(rf_clf.best_params_)"
   ]
  },
  {
   "cell_type": "code",
   "execution_count": 51,
   "metadata": {},
   "outputs": [
    {
     "name": "stdout",
     "output_type": "stream",
     "text": [
      "Fitting 1 folds for each of 27 candidates, totalling 27 fits\n",
      "Fitting 1 folds for each of 27 candidates, totalling 27 fits\n",
      "Fitting 1 folds for each of 27 candidates, totalling 27 fits\n",
      "Fitting 1 folds for each of 27 candidates, totalling 27 fits\n",
      "Fitting 1 folds for each of 27 candidates, totalling 27 fits\n"
     ]
    },
    {
     "name": "stderr",
     "output_type": "stream",
     "text": [
      "C:\\Users\\Dmitri\\AppData\\Local\\Temp\\ipykernel_20904\\682584640.py:1: FutureWarning: The frame.append method is deprecated and will be removed from pandas in a future version. Use pandas.concat instead.\n",
      "  answer = answer.append({'model':'RandomForestClassifier', 'f1_score':cross_val_score(rf_clf, tf_idf, target_train, scoring='f1').mean()}, ignore_index=True)\n"
     ]
    },
    {
     "data": {
      "text/html": [
       "<div>\n",
       "<style scoped>\n",
       "    .dataframe tbody tr th:only-of-type {\n",
       "        vertical-align: middle;\n",
       "    }\n",
       "\n",
       "    .dataframe tbody tr th {\n",
       "        vertical-align: top;\n",
       "    }\n",
       "\n",
       "    .dataframe thead th {\n",
       "        text-align: right;\n",
       "    }\n",
       "</style>\n",
       "<table border=\"1\" class=\"dataframe\">\n",
       "  <thead>\n",
       "    <tr style=\"text-align: right;\">\n",
       "      <th></th>\n",
       "      <th>model</th>\n",
       "      <th>f1_score</th>\n",
       "    </tr>\n",
       "  </thead>\n",
       "  <tbody>\n",
       "    <tr>\n",
       "      <th>0</th>\n",
       "      <td>LogisticRegression</td>\n",
       "      <td>0.886277</td>\n",
       "    </tr>\n",
       "    <tr>\n",
       "      <th>1</th>\n",
       "      <td>RandomForestClassifier</td>\n",
       "      <td>0.845060</td>\n",
       "    </tr>\n",
       "  </tbody>\n",
       "</table>\n",
       "</div>"
      ],
      "text/plain": [
       "                    model  f1_score\n",
       "0      LogisticRegression  0.886277\n",
       "1  RandomForestClassifier  0.845060"
      ]
     },
     "execution_count": 51,
     "metadata": {},
     "output_type": "execute_result"
    }
   ],
   "source": [
    "answer = answer.append({'model':'RandomForestClassifier', 'f1_score':cross_val_score(rf_clf, tf_idf, target_train, scoring='f1').mean()}, ignore_index=True)\n",
    "answer"
   ]
  },
  {
   "cell_type": "markdown",
   "metadata": {},
   "source": [
    "### LightGBM"
   ]
  },
  {
   "cell_type": "code",
   "execution_count": 52,
   "metadata": {},
   "outputs": [
    {
     "name": "stdout",
     "output_type": "stream",
     "text": [
      "Fitting 1 folds for each of 56 candidates, totalling 56 fits\n",
      "{'learning_rate': 0.2, 'max_depth': 28, 'n_estimators': 375}\n"
     ]
    }
   ],
   "source": [
    "lgbm_param_grid = {\n",
    "    \"n_estimators\": range(300, 400, 25),\n",
    "    \"max_depth\": range(10, 30, 3),\n",
    "    \"learning_rate\": [0.1, 0.2]\n",
    "}\n",
    "\n",
    "\n",
    "cv=[(slice(None), slice(None))]\n",
    "lgbm = GridSearchCV(LGBMClassifier(random_state=RANDOM_STATE), lgbm_param_grid, n_jobs=-1, verbose=2, cv=cv, scoring='f1')\n",
    "lgbm.fit(tf_idf, target_train)\n",
    "\n",
    "#best parameters of model\n",
    "print(lgbm.best_params_)"
   ]
  },
  {
   "cell_type": "code",
   "execution_count": 63,
   "metadata": {},
   "outputs": [
    {
     "name": "stderr",
     "output_type": "stream",
     "text": [
      "C:\\Users\\Dmitri\\AppData\\Local\\Temp\\ipykernel_20904\\2800461594.py:1: FutureWarning: The frame.append method is deprecated and will be removed from pandas in a future version. Use pandas.concat instead.\n",
      "  answer = answer.append({'model':'LGBMClassifier', 'f1_score':f1_score(lgbm.predict(tf_idf_test), target_valid)}, ignore_index=True)\n"
     ]
    },
    {
     "data": {
      "text/html": [
       "<div>\n",
       "<style scoped>\n",
       "    .dataframe tbody tr th:only-of-type {\n",
       "        vertical-align: middle;\n",
       "    }\n",
       "\n",
       "    .dataframe tbody tr th {\n",
       "        vertical-align: top;\n",
       "    }\n",
       "\n",
       "    .dataframe thead th {\n",
       "        text-align: right;\n",
       "    }\n",
       "</style>\n",
       "<table border=\"1\" class=\"dataframe\">\n",
       "  <thead>\n",
       "    <tr style=\"text-align: right;\">\n",
       "      <th></th>\n",
       "      <th>model</th>\n",
       "      <th>f1_score</th>\n",
       "    </tr>\n",
       "  </thead>\n",
       "  <tbody>\n",
       "    <tr>\n",
       "      <th>0</th>\n",
       "      <td>LogisticRegression</td>\n",
       "      <td>0.886277</td>\n",
       "    </tr>\n",
       "    <tr>\n",
       "      <th>1</th>\n",
       "      <td>RandomForestClassifier</td>\n",
       "      <td>0.845060</td>\n",
       "    </tr>\n",
       "    <tr>\n",
       "      <th>2</th>\n",
       "      <td>LGBMClassifier</td>\n",
       "      <td>0.703981</td>\n",
       "    </tr>\n",
       "  </tbody>\n",
       "</table>\n",
       "</div>"
      ],
      "text/plain": [
       "                    model  f1_score\n",
       "0      LogisticRegression  0.886277\n",
       "1  RandomForestClassifier  0.845060\n",
       "2          LGBMClassifier  0.703981"
      ]
     },
     "execution_count": 63,
     "metadata": {},
     "output_type": "execute_result"
    }
   ],
   "source": [
    "answer = answer.append({'model':'LGBMClassifier', 'f1_score':cross_val_score(lgbm, tf_idf, target_train, scoring='f1').mean()}, ignore_index=True)\n",
    "answer"
   ]
  },
  {
   "cell_type": "markdown",
   "metadata": {},
   "source": [
    "### Метод 2"
   ]
  },
  {
   "cell_type": "code",
   "execution_count": 46,
   "metadata": {},
   "outputs": [],
   "source": [
    "from sklearn.model_selection import train_test_split\n",
    "from sklearn.pipeline import Pipeline\n",
    "from sklearn.model_selection import GridSearchCV\n",
    "from sklearn.metrics import accuracy_score\n",
    "from sklearn.tree import DecisionTreeClassifier\n",
    "from sklearn.linear_model import LogisticRegression\n",
    "from sklearn.ensemble import RandomForestClassifier\n",
    "from sklearn import svm\n",
    "from sklearn.feature_extraction.text import TfidfTransformer\n",
    "from sklearn.model_selection import GridSearchCV, KFold, cross_val_score, train_test_split"
   ]
  },
  {
   "cell_type": "code",
   "execution_count": 77,
   "metadata": {},
   "outputs": [],
   "source": [
    "pipe_lr = Pipeline([('vect', CountVectorizer()),\n",
    "                   ('tfidf', TfidfTransformer()),\n",
    "                ('clf', LogisticRegression(random_state=RANDOM_STATE))])\n",
    "\n",
    "pipe_dt = Pipeline([('vect', CountVectorizer()),\n",
    "                 ('tfidf', TfidfTransformer()),\n",
    "                 ('model', DecisionTreeClassifier(random_state=RANDOM_STATE))])\n",
    "\n",
    "pipe_rf = Pipeline([('vect', CountVectorizer()),\n",
    "                   ('tfidf', TfidfTransformer()),\n",
    "            ('clf', RandomForestClassifier(random_state=RANDOM_STATE))])\n",
    "\n",
    "\n",
    "pipe_svm = Pipeline([('vect', CountVectorizer()),\n",
    "                   ('tfidf', TfidfTransformer()),\n",
    "            ('clf', svm.SVC(random_state=RANDOM_STATE))])\n",
    "\n",
    "pipe_cb = Pipeline([('vect', CountVectorizer()),\n",
    "                   ('tfidf', TfidfTransformer()),\n",
    "            ('clf', CatBoostClassifier(random_state=RANDOM_STATE))])"
   ]
  },
  {
   "cell_type": "code",
   "execution_count": 49,
   "metadata": {},
   "outputs": [
    {
     "data": {
      "text/plain": [
       "0.888572131154816"
      ]
     },
     "execution_count": 49,
     "metadata": {},
     "output_type": "execute_result"
    }
   ],
   "source": [
    "p_log = pipe_lr.fit(features_train, target_train)\n",
    "#cross_val_score(p_log, features_train, target_train, scoring='f1').mean()"
   ]
  },
  {
   "cell_type": "code",
   "execution_count": 64,
   "metadata": {},
   "outputs": [
    {
     "name": "stderr",
     "output_type": "stream",
     "text": [
      "C:\\Users\\Dmitri\\AppData\\Local\\Temp\\ipykernel_20904\\3325990144.py:1: FutureWarning: The frame.append method is deprecated and will be removed from pandas in a future version. Use pandas.concat instead.\n",
      "  answer = answer.append({'model':'p_log', 'f1_score':0.888}, ignore_index=True)\n"
     ]
    },
    {
     "data": {
      "text/html": [
       "<div>\n",
       "<style scoped>\n",
       "    .dataframe tbody tr th:only-of-type {\n",
       "        vertical-align: middle;\n",
       "    }\n",
       "\n",
       "    .dataframe tbody tr th {\n",
       "        vertical-align: top;\n",
       "    }\n",
       "\n",
       "    .dataframe thead th {\n",
       "        text-align: right;\n",
       "    }\n",
       "</style>\n",
       "<table border=\"1\" class=\"dataframe\">\n",
       "  <thead>\n",
       "    <tr style=\"text-align: right;\">\n",
       "      <th></th>\n",
       "      <th>model</th>\n",
       "      <th>f1_score</th>\n",
       "    </tr>\n",
       "  </thead>\n",
       "  <tbody>\n",
       "    <tr>\n",
       "      <th>0</th>\n",
       "      <td>LogisticRegression</td>\n",
       "      <td>0.886277</td>\n",
       "    </tr>\n",
       "    <tr>\n",
       "      <th>1</th>\n",
       "      <td>RandomForestClassifier</td>\n",
       "      <td>0.845060</td>\n",
       "    </tr>\n",
       "    <tr>\n",
       "      <th>2</th>\n",
       "      <td>LGBMClassifier</td>\n",
       "      <td>0.703981</td>\n",
       "    </tr>\n",
       "    <tr>\n",
       "      <th>3</th>\n",
       "      <td>p_log</td>\n",
       "      <td>0.888000</td>\n",
       "    </tr>\n",
       "  </tbody>\n",
       "</table>\n",
       "</div>"
      ],
      "text/plain": [
       "                    model  f1_score\n",
       "0      LogisticRegression  0.886277\n",
       "1  RandomForestClassifier  0.845060\n",
       "2          LGBMClassifier  0.703981\n",
       "3                   p_log  0.888000"
      ]
     },
     "execution_count": 64,
     "metadata": {},
     "output_type": "execute_result"
    }
   ],
   "source": [
    "answer = answer.append({'model':'p_log', 'f1_score':cross_val_score(p_log, features_train, target_train, scoring='f1').mean()}, ignore_index=True)\n",
    "answer"
   ]
  },
  {
   "cell_type": "code",
   "execution_count": 55,
   "metadata": {},
   "outputs": [
    {
     "data": {
      "text/plain": [
       "0.7881614475594556"
      ]
     },
     "execution_count": 55,
     "metadata": {},
     "output_type": "execute_result"
    }
   ],
   "source": [
    "p_dt = pipe_dt.fit(features_train, target_train)\n",
    "#cross_val_score(p_dt, features_train, target_train, scoring='f1').mean()"
   ]
  },
  {
   "cell_type": "code",
   "execution_count": 65,
   "metadata": {},
   "outputs": [
    {
     "name": "stderr",
     "output_type": "stream",
     "text": [
      "C:\\Users\\Dmitri\\AppData\\Local\\Temp\\ipykernel_20904\\480373072.py:1: FutureWarning: The frame.append method is deprecated and will be removed from pandas in a future version. Use pandas.concat instead.\n",
      "  answer = answer.append({'model':'p_dt', 'f1_score':0.788161}, ignore_index=True)\n"
     ]
    },
    {
     "data": {
      "text/html": [
       "<div>\n",
       "<style scoped>\n",
       "    .dataframe tbody tr th:only-of-type {\n",
       "        vertical-align: middle;\n",
       "    }\n",
       "\n",
       "    .dataframe tbody tr th {\n",
       "        vertical-align: top;\n",
       "    }\n",
       "\n",
       "    .dataframe thead th {\n",
       "        text-align: right;\n",
       "    }\n",
       "</style>\n",
       "<table border=\"1\" class=\"dataframe\">\n",
       "  <thead>\n",
       "    <tr style=\"text-align: right;\">\n",
       "      <th></th>\n",
       "      <th>model</th>\n",
       "      <th>f1_score</th>\n",
       "    </tr>\n",
       "  </thead>\n",
       "  <tbody>\n",
       "    <tr>\n",
       "      <th>0</th>\n",
       "      <td>LogisticRegression</td>\n",
       "      <td>0.886277</td>\n",
       "    </tr>\n",
       "    <tr>\n",
       "      <th>1</th>\n",
       "      <td>RandomForestClassifier</td>\n",
       "      <td>0.845060</td>\n",
       "    </tr>\n",
       "    <tr>\n",
       "      <th>2</th>\n",
       "      <td>LGBMClassifier</td>\n",
       "      <td>0.703981</td>\n",
       "    </tr>\n",
       "    <tr>\n",
       "      <th>3</th>\n",
       "      <td>p_log</td>\n",
       "      <td>0.888000</td>\n",
       "    </tr>\n",
       "    <tr>\n",
       "      <th>4</th>\n",
       "      <td>p_dt</td>\n",
       "      <td>0.788161</td>\n",
       "    </tr>\n",
       "  </tbody>\n",
       "</table>\n",
       "</div>"
      ],
      "text/plain": [
       "                    model  f1_score\n",
       "0      LogisticRegression  0.886277\n",
       "1  RandomForestClassifier  0.845060\n",
       "2          LGBMClassifier  0.703981\n",
       "3                   p_log  0.888000\n",
       "4                    p_dt  0.788161"
      ]
     },
     "execution_count": 65,
     "metadata": {},
     "output_type": "execute_result"
    }
   ],
   "source": [
    "answer = answer.append({'model':'p_dt', 'f1_score':cross_val_score(p_dt, features_train, target_train, scoring='f1').mean()}, ignore_index=True)\n",
    "answer"
   ]
  },
  {
   "cell_type": "code",
   "execution_count": 56,
   "metadata": {},
   "outputs": [
    {
     "data": {
      "text/plain": [
       "0.7881614475594556"
      ]
     },
     "execution_count": 56,
     "metadata": {},
     "output_type": "execute_result"
    }
   ],
   "source": [
    "p_rf = pipe_rf.fit(features_train, target_train)\n",
    "#cross_val_score(p_dt, features_train, target_train, scoring='f1').mean()"
   ]
  },
  {
   "cell_type": "code",
   "execution_count": 66,
   "metadata": {},
   "outputs": [
    {
     "name": "stderr",
     "output_type": "stream",
     "text": [
      "C:\\Users\\Dmitri\\AppData\\Local\\Temp\\ipykernel_20904\\626291155.py:1: FutureWarning: The frame.append method is deprecated and will be removed from pandas in a future version. Use pandas.concat instead.\n",
      "  answer = answer.append({'model':'p_rf', 'f1_score':0.788161}, ignore_index=True)\n"
     ]
    },
    {
     "data": {
      "text/html": [
       "<div>\n",
       "<style scoped>\n",
       "    .dataframe tbody tr th:only-of-type {\n",
       "        vertical-align: middle;\n",
       "    }\n",
       "\n",
       "    .dataframe tbody tr th {\n",
       "        vertical-align: top;\n",
       "    }\n",
       "\n",
       "    .dataframe thead th {\n",
       "        text-align: right;\n",
       "    }\n",
       "</style>\n",
       "<table border=\"1\" class=\"dataframe\">\n",
       "  <thead>\n",
       "    <tr style=\"text-align: right;\">\n",
       "      <th></th>\n",
       "      <th>model</th>\n",
       "      <th>f1_score</th>\n",
       "    </tr>\n",
       "  </thead>\n",
       "  <tbody>\n",
       "    <tr>\n",
       "      <th>0</th>\n",
       "      <td>LogisticRegression</td>\n",
       "      <td>0.886277</td>\n",
       "    </tr>\n",
       "    <tr>\n",
       "      <th>1</th>\n",
       "      <td>RandomForestClassifier</td>\n",
       "      <td>0.845060</td>\n",
       "    </tr>\n",
       "    <tr>\n",
       "      <th>2</th>\n",
       "      <td>LGBMClassifier</td>\n",
       "      <td>0.703981</td>\n",
       "    </tr>\n",
       "    <tr>\n",
       "      <th>3</th>\n",
       "      <td>p_log</td>\n",
       "      <td>0.888000</td>\n",
       "    </tr>\n",
       "    <tr>\n",
       "      <th>4</th>\n",
       "      <td>p_dt</td>\n",
       "      <td>0.788161</td>\n",
       "    </tr>\n",
       "    <tr>\n",
       "      <th>5</th>\n",
       "      <td>p_rf</td>\n",
       "      <td>0.788161</td>\n",
       "    </tr>\n",
       "  </tbody>\n",
       "</table>\n",
       "</div>"
      ],
      "text/plain": [
       "                    model  f1_score\n",
       "0      LogisticRegression  0.886277\n",
       "1  RandomForestClassifier  0.845060\n",
       "2          LGBMClassifier  0.703981\n",
       "3                   p_log  0.888000\n",
       "4                    p_dt  0.788161\n",
       "5                    p_rf  0.788161"
      ]
     },
     "execution_count": 66,
     "metadata": {},
     "output_type": "execute_result"
    }
   ],
   "source": [
    "answer = answer.append({'model':'p_rf', 'f1_score':cross_val_score(p_dt, features_train, target_train, scoring='f1').mean()}, ignore_index=True)\n",
    "answer"
   ]
  },
  {
   "cell_type": "code",
   "execution_count": 57,
   "metadata": {},
   "outputs": [
    {
     "data": {
      "text/plain": [
       "0.7881614475594556"
      ]
     },
     "execution_count": 57,
     "metadata": {},
     "output_type": "execute_result"
    }
   ],
   "source": [
    "p_svm = pipe_svm.fit(features_train, target_train)\n",
    "#cross_val_score(p_dt, features_train, target_train, scoring='f1').mean()"
   ]
  },
  {
   "cell_type": "code",
   "execution_count": 67,
   "metadata": {},
   "outputs": [
    {
     "name": "stderr",
     "output_type": "stream",
     "text": [
      "C:\\Users\\Dmitri\\AppData\\Local\\Temp\\ipykernel_20904\\692210264.py:1: FutureWarning: The frame.append method is deprecated and will be removed from pandas in a future version. Use pandas.concat instead.\n",
      "  answer = answer.append({'model':'p_svm', 'f1_score':0.788161}, ignore_index=True)\n"
     ]
    },
    {
     "data": {
      "text/html": [
       "<div>\n",
       "<style scoped>\n",
       "    .dataframe tbody tr th:only-of-type {\n",
       "        vertical-align: middle;\n",
       "    }\n",
       "\n",
       "    .dataframe tbody tr th {\n",
       "        vertical-align: top;\n",
       "    }\n",
       "\n",
       "    .dataframe thead th {\n",
       "        text-align: right;\n",
       "    }\n",
       "</style>\n",
       "<table border=\"1\" class=\"dataframe\">\n",
       "  <thead>\n",
       "    <tr style=\"text-align: right;\">\n",
       "      <th></th>\n",
       "      <th>model</th>\n",
       "      <th>f1_score</th>\n",
       "    </tr>\n",
       "  </thead>\n",
       "  <tbody>\n",
       "    <tr>\n",
       "      <th>0</th>\n",
       "      <td>LogisticRegression</td>\n",
       "      <td>0.886277</td>\n",
       "    </tr>\n",
       "    <tr>\n",
       "      <th>1</th>\n",
       "      <td>RandomForestClassifier</td>\n",
       "      <td>0.845060</td>\n",
       "    </tr>\n",
       "    <tr>\n",
       "      <th>2</th>\n",
       "      <td>LGBMClassifier</td>\n",
       "      <td>0.703981</td>\n",
       "    </tr>\n",
       "    <tr>\n",
       "      <th>3</th>\n",
       "      <td>p_log</td>\n",
       "      <td>0.888000</td>\n",
       "    </tr>\n",
       "    <tr>\n",
       "      <th>4</th>\n",
       "      <td>p_dt</td>\n",
       "      <td>0.788161</td>\n",
       "    </tr>\n",
       "    <tr>\n",
       "      <th>5</th>\n",
       "      <td>p_rf</td>\n",
       "      <td>0.788161</td>\n",
       "    </tr>\n",
       "    <tr>\n",
       "      <th>6</th>\n",
       "      <td>p_svm</td>\n",
       "      <td>0.788161</td>\n",
       "    </tr>\n",
       "  </tbody>\n",
       "</table>\n",
       "</div>"
      ],
      "text/plain": [
       "                    model  f1_score\n",
       "0      LogisticRegression  0.886277\n",
       "1  RandomForestClassifier  0.845060\n",
       "2          LGBMClassifier  0.703981\n",
       "3                   p_log  0.888000\n",
       "4                    p_dt  0.788161\n",
       "5                    p_rf  0.788161\n",
       "6                   p_svm  0.788161"
      ]
     },
     "execution_count": 67,
     "metadata": {},
     "output_type": "execute_result"
    }
   ],
   "source": [
    "answer = answer.append({'model':'p_svm', 'f1_score':cross_val_score(p_dt, features_train, target_train, scoring='f1').mean()}, ignore_index=True)\n",
    "answer"
   ]
  },
  {
   "cell_type": "code",
   "execution_count": 78,
   "metadata": {
    "scrolled": true
   },
   "outputs": [
    {
     "name": "stdout",
     "output_type": "stream",
     "text": [
      "Learning rate set to 0.044254\n",
      "0:\tlearn: 0.6721878\ttotal: 621ms\tremaining: 10m 19s\n",
      "1:\tlearn: 0.6537837\ttotal: 1.1s\tremaining: 9m 8s\n",
      "2:\tlearn: 0.6391399\ttotal: 1.55s\tremaining: 8m 36s\n",
      "3:\tlearn: 0.6246221\ttotal: 2.03s\tremaining: 8m 24s\n",
      "4:\tlearn: 0.6121903\ttotal: 2.51s\tremaining: 8m 19s\n",
      "5:\tlearn: 0.6026447\ttotal: 3s\tremaining: 8m 16s\n",
      "6:\tlearn: 0.5919785\ttotal: 3.47s\tremaining: 8m 11s\n",
      "7:\tlearn: 0.5850555\ttotal: 3.92s\tremaining: 8m 6s\n",
      "8:\tlearn: 0.5763002\ttotal: 4.38s\tremaining: 8m 2s\n",
      "9:\tlearn: 0.5706807\ttotal: 4.83s\tremaining: 7m 58s\n",
      "10:\tlearn: 0.5651491\ttotal: 5.33s\tremaining: 7m 58s\n",
      "11:\tlearn: 0.5579288\ttotal: 5.77s\tremaining: 7m 55s\n",
      "12:\tlearn: 0.5521148\ttotal: 6.24s\tremaining: 7m 53s\n",
      "13:\tlearn: 0.5477319\ttotal: 6.71s\tremaining: 7m 52s\n",
      "14:\tlearn: 0.5429369\ttotal: 7.2s\tremaining: 7m 52s\n",
      "15:\tlearn: 0.5382068\ttotal: 7.66s\tremaining: 7m 51s\n",
      "16:\tlearn: 0.5333567\ttotal: 8.14s\tremaining: 7m 50s\n",
      "17:\tlearn: 0.5294569\ttotal: 8.61s\tremaining: 7m 49s\n",
      "18:\tlearn: 0.5243740\ttotal: 9.08s\tremaining: 7m 48s\n",
      "19:\tlearn: 0.5191704\ttotal: 9.56s\tremaining: 7m 48s\n",
      "20:\tlearn: 0.5161664\ttotal: 10s\tremaining: 7m 48s\n",
      "21:\tlearn: 0.5133762\ttotal: 10.5s\tremaining: 7m 46s\n",
      "22:\tlearn: 0.5107773\ttotal: 11s\tremaining: 7m 46s\n",
      "23:\tlearn: 0.5075299\ttotal: 11.4s\tremaining: 7m 44s\n",
      "24:\tlearn: 0.5044514\ttotal: 11.9s\tremaining: 7m 43s\n",
      "25:\tlearn: 0.5004420\ttotal: 12.3s\tremaining: 7m 42s\n",
      "26:\tlearn: 0.4978338\ttotal: 12.8s\tremaining: 7m 42s\n",
      "27:\tlearn: 0.4938455\ttotal: 13.3s\tremaining: 7m 41s\n",
      "28:\tlearn: 0.4904788\ttotal: 13.8s\tremaining: 7m 41s\n",
      "29:\tlearn: 0.4884165\ttotal: 14.2s\tremaining: 7m 40s\n",
      "30:\tlearn: 0.4867140\ttotal: 14.7s\tremaining: 7m 39s\n",
      "31:\tlearn: 0.4845391\ttotal: 15.1s\tremaining: 7m 38s\n",
      "32:\tlearn: 0.4827471\ttotal: 15.6s\tremaining: 7m 37s\n",
      "33:\tlearn: 0.4804243\ttotal: 16s\tremaining: 7m 35s\n",
      "34:\tlearn: 0.4784685\ttotal: 16.5s\tremaining: 7m 34s\n",
      "35:\tlearn: 0.4766356\ttotal: 16.9s\tremaining: 7m 33s\n",
      "36:\tlearn: 0.4746304\ttotal: 17.4s\tremaining: 7m 33s\n",
      "37:\tlearn: 0.4727460\ttotal: 17.9s\tremaining: 7m 32s\n",
      "38:\tlearn: 0.4709709\ttotal: 18.3s\tremaining: 7m 32s\n",
      "39:\tlearn: 0.4691283\ttotal: 18.8s\tremaining: 7m 31s\n",
      "40:\tlearn: 0.4670673\ttotal: 19.3s\tremaining: 7m 30s\n",
      "41:\tlearn: 0.4648030\ttotal: 19.7s\tremaining: 7m 30s\n",
      "42:\tlearn: 0.4626922\ttotal: 20.2s\tremaining: 7m 29s\n",
      "43:\tlearn: 0.4612836\ttotal: 20.7s\tremaining: 7m 29s\n",
      "44:\tlearn: 0.4588222\ttotal: 21.2s\tremaining: 7m 29s\n",
      "45:\tlearn: 0.4570807\ttotal: 21.6s\tremaining: 7m 28s\n",
      "46:\tlearn: 0.4550791\ttotal: 22.1s\tremaining: 7m 27s\n",
      "47:\tlearn: 0.4525176\ttotal: 22.5s\tremaining: 7m 26s\n",
      "48:\tlearn: 0.4508394\ttotal: 23s\tremaining: 7m 26s\n",
      "49:\tlearn: 0.4487461\ttotal: 23.4s\tremaining: 7m 25s\n",
      "50:\tlearn: 0.4474782\ttotal: 23.9s\tremaining: 7m 24s\n",
      "51:\tlearn: 0.4457828\ttotal: 24.3s\tremaining: 7m 23s\n",
      "52:\tlearn: 0.4439515\ttotal: 24.8s\tremaining: 7m 23s\n",
      "53:\tlearn: 0.4421953\ttotal: 25.3s\tremaining: 7m 22s\n",
      "54:\tlearn: 0.4409489\ttotal: 25.7s\tremaining: 7m 22s\n",
      "55:\tlearn: 0.4392987\ttotal: 26.2s\tremaining: 7m 21s\n",
      "56:\tlearn: 0.4383275\ttotal: 26.7s\tremaining: 7m 21s\n",
      "57:\tlearn: 0.4369223\ttotal: 27.2s\tremaining: 7m 21s\n",
      "58:\tlearn: 0.4357001\ttotal: 27.6s\tremaining: 7m 20s\n",
      "59:\tlearn: 0.4340933\ttotal: 28.1s\tremaining: 7m 20s\n",
      "60:\tlearn: 0.4330824\ttotal: 28.6s\tremaining: 7m 19s\n",
      "61:\tlearn: 0.4311798\ttotal: 29s\tremaining: 7m 19s\n",
      "62:\tlearn: 0.4300042\ttotal: 29.5s\tremaining: 7m 19s\n",
      "63:\tlearn: 0.4290280\ttotal: 30s\tremaining: 7m 18s\n",
      "64:\tlearn: 0.4281593\ttotal: 30.5s\tremaining: 7m 18s\n",
      "65:\tlearn: 0.4269385\ttotal: 30.9s\tremaining: 7m 17s\n",
      "66:\tlearn: 0.4253484\ttotal: 31.4s\tremaining: 7m 17s\n",
      "67:\tlearn: 0.4237229\ttotal: 31.9s\tremaining: 7m 16s\n",
      "68:\tlearn: 0.4228461\ttotal: 32.3s\tremaining: 7m 16s\n",
      "69:\tlearn: 0.4218655\ttotal: 32.8s\tremaining: 7m 15s\n",
      "70:\tlearn: 0.4203998\ttotal: 33.2s\tremaining: 7m 14s\n",
      "71:\tlearn: 0.4193640\ttotal: 33.7s\tremaining: 7m 14s\n",
      "72:\tlearn: 0.4184121\ttotal: 34.2s\tremaining: 7m 13s\n",
      "73:\tlearn: 0.4174625\ttotal: 34.6s\tremaining: 7m 13s\n",
      "74:\tlearn: 0.4166906\ttotal: 35.1s\tremaining: 7m 13s\n",
      "75:\tlearn: 0.4157566\ttotal: 35.6s\tremaining: 7m 12s\n",
      "76:\tlearn: 0.4148956\ttotal: 36s\tremaining: 7m 12s\n",
      "77:\tlearn: 0.4137105\ttotal: 36.5s\tremaining: 7m 11s\n",
      "78:\tlearn: 0.4128896\ttotal: 36.9s\tremaining: 7m 10s\n",
      "79:\tlearn: 0.4120292\ttotal: 37.4s\tremaining: 7m 10s\n",
      "80:\tlearn: 0.4109206\ttotal: 37.9s\tremaining: 7m 9s\n",
      "81:\tlearn: 0.4101377\ttotal: 38.4s\tremaining: 7m 9s\n",
      "82:\tlearn: 0.4093973\ttotal: 38.8s\tremaining: 7m 8s\n",
      "83:\tlearn: 0.4087218\ttotal: 39.3s\tremaining: 7m 8s\n",
      "84:\tlearn: 0.4076181\ttotal: 39.7s\tremaining: 7m 7s\n",
      "85:\tlearn: 0.4068686\ttotal: 40.2s\tremaining: 7m 7s\n",
      "86:\tlearn: 0.4056171\ttotal: 40.7s\tremaining: 7m 6s\n",
      "87:\tlearn: 0.4049250\ttotal: 41.1s\tremaining: 7m 6s\n",
      "88:\tlearn: 0.4042150\ttotal: 41.6s\tremaining: 7m 5s\n",
      "89:\tlearn: 0.4033993\ttotal: 42s\tremaining: 7m 5s\n",
      "90:\tlearn: 0.4024142\ttotal: 42.5s\tremaining: 7m 4s\n",
      "91:\tlearn: 0.4015719\ttotal: 42.9s\tremaining: 7m 3s\n",
      "92:\tlearn: 0.4007997\ttotal: 43.4s\tremaining: 7m 3s\n",
      "93:\tlearn: 0.3999058\ttotal: 43.9s\tremaining: 7m 3s\n",
      "94:\tlearn: 0.3992984\ttotal: 44.4s\tremaining: 7m 2s\n",
      "95:\tlearn: 0.3985271\ttotal: 44.8s\tremaining: 7m 2s\n",
      "96:\tlearn: 0.3978383\ttotal: 45.3s\tremaining: 7m 1s\n",
      "97:\tlearn: 0.3970773\ttotal: 45.7s\tremaining: 7m\n",
      "98:\tlearn: 0.3966140\ttotal: 46.2s\tremaining: 7m\n",
      "99:\tlearn: 0.3959348\ttotal: 46.7s\tremaining: 7m\n",
      "100:\tlearn: 0.3951804\ttotal: 47.1s\tremaining: 6m 59s\n",
      "101:\tlearn: 0.3941551\ttotal: 47.6s\tremaining: 6m 58s\n",
      "102:\tlearn: 0.3931627\ttotal: 48s\tremaining: 6m 58s\n",
      "103:\tlearn: 0.3925830\ttotal: 48.5s\tremaining: 6m 57s\n",
      "104:\tlearn: 0.3919169\ttotal: 49s\tremaining: 6m 57s\n",
      "105:\tlearn: 0.3909647\ttotal: 49.4s\tremaining: 6m 57s\n",
      "106:\tlearn: 0.3901203\ttotal: 49.9s\tremaining: 6m 56s\n",
      "107:\tlearn: 0.3894452\ttotal: 50.4s\tremaining: 6m 56s\n",
      "108:\tlearn: 0.3887534\ttotal: 50.9s\tremaining: 6m 55s\n",
      "109:\tlearn: 0.3881004\ttotal: 51.3s\tremaining: 6m 55s\n",
      "110:\tlearn: 0.3873990\ttotal: 51.8s\tremaining: 6m 54s\n",
      "111:\tlearn: 0.3868443\ttotal: 52.2s\tremaining: 6m 54s\n",
      "112:\tlearn: 0.3857847\ttotal: 52.7s\tremaining: 6m 53s\n",
      "113:\tlearn: 0.3849943\ttotal: 53.2s\tremaining: 6m 53s\n",
      "114:\tlearn: 0.3843002\ttotal: 53.6s\tremaining: 6m 52s\n",
      "115:\tlearn: 0.3835542\ttotal: 54.1s\tremaining: 6m 52s\n",
      "116:\tlearn: 0.3830880\ttotal: 54.5s\tremaining: 6m 51s\n",
      "117:\tlearn: 0.3825597\ttotal: 55s\tremaining: 6m 51s\n",
      "118:\tlearn: 0.3818536\ttotal: 55.5s\tremaining: 6m 50s\n",
      "119:\tlearn: 0.3813366\ttotal: 55.9s\tremaining: 6m 50s\n",
      "120:\tlearn: 0.3805750\ttotal: 56.4s\tremaining: 6m 49s\n",
      "121:\tlearn: 0.3801016\ttotal: 56.8s\tremaining: 6m 49s\n",
      "122:\tlearn: 0.3795753\ttotal: 57.3s\tremaining: 6m 48s\n",
      "123:\tlearn: 0.3791234\ttotal: 57.8s\tremaining: 6m 48s\n",
      "124:\tlearn: 0.3785299\ttotal: 58.2s\tremaining: 6m 47s\n",
      "125:\tlearn: 0.3778833\ttotal: 58.7s\tremaining: 6m 47s\n",
      "126:\tlearn: 0.3771062\ttotal: 59.2s\tremaining: 6m 46s\n",
      "127:\tlearn: 0.3766578\ttotal: 59.6s\tremaining: 6m 46s\n",
      "128:\tlearn: 0.3758853\ttotal: 1m\tremaining: 6m 45s\n",
      "129:\tlearn: 0.3752740\ttotal: 1m\tremaining: 6m 45s\n",
      "130:\tlearn: 0.3748478\ttotal: 1m 1s\tremaining: 6m 44s\n",
      "131:\tlearn: 0.3743183\ttotal: 1m 1s\tremaining: 6m 44s\n",
      "132:\tlearn: 0.3737129\ttotal: 1m 1s\tremaining: 6m 43s\n",
      "133:\tlearn: 0.3731365\ttotal: 1m 2s\tremaining: 6m 43s\n",
      "134:\tlearn: 0.3727730\ttotal: 1m 2s\tremaining: 6m 42s\n",
      "135:\tlearn: 0.3722899\ttotal: 1m 3s\tremaining: 6m 42s\n",
      "136:\tlearn: 0.3716445\ttotal: 1m 3s\tremaining: 6m 41s\n",
      "137:\tlearn: 0.3712577\ttotal: 1m 4s\tremaining: 6m 41s\n",
      "138:\tlearn: 0.3708626\ttotal: 1m 4s\tremaining: 6m 40s\n",
      "139:\tlearn: 0.3702721\ttotal: 1m 5s\tremaining: 6m 40s\n",
      "140:\tlearn: 0.3698655\ttotal: 1m 5s\tremaining: 6m 39s\n",
      "141:\tlearn: 0.3694695\ttotal: 1m 6s\tremaining: 6m 39s\n",
      "142:\tlearn: 0.3689798\ttotal: 1m 6s\tremaining: 6m 39s\n",
      "143:\tlearn: 0.3686392\ttotal: 1m 7s\tremaining: 6m 38s\n",
      "144:\tlearn: 0.3679553\ttotal: 1m 7s\tremaining: 6m 38s\n",
      "145:\tlearn: 0.3674218\ttotal: 1m 7s\tremaining: 6m 37s\n",
      "146:\tlearn: 0.3670665\ttotal: 1m 8s\tremaining: 6m 36s\n",
      "147:\tlearn: 0.3666270\ttotal: 1m 8s\tremaining: 6m 36s\n",
      "148:\tlearn: 0.3661660\ttotal: 1m 9s\tremaining: 6m 35s\n",
      "149:\tlearn: 0.3657342\ttotal: 1m 9s\tremaining: 6m 35s\n",
      "150:\tlearn: 0.3653085\ttotal: 1m 10s\tremaining: 6m 35s\n",
      "151:\tlearn: 0.3647922\ttotal: 1m 10s\tremaining: 6m 34s\n",
      "152:\tlearn: 0.3642098\ttotal: 1m 11s\tremaining: 6m 34s\n",
      "153:\tlearn: 0.3638489\ttotal: 1m 11s\tremaining: 6m 33s\n",
      "154:\tlearn: 0.3633082\ttotal: 1m 12s\tremaining: 6m 33s\n",
      "155:\tlearn: 0.3628526\ttotal: 1m 12s\tremaining: 6m 32s\n",
      "156:\tlearn: 0.3624719\ttotal: 1m 13s\tremaining: 6m 32s\n",
      "157:\tlearn: 0.3622123\ttotal: 1m 13s\tremaining: 6m 31s\n",
      "158:\tlearn: 0.3618376\ttotal: 1m 13s\tremaining: 6m 31s\n",
      "159:\tlearn: 0.3613386\ttotal: 1m 14s\tremaining: 6m 30s\n",
      "160:\tlearn: 0.3609375\ttotal: 1m 14s\tremaining: 6m 30s\n",
      "161:\tlearn: 0.3602170\ttotal: 1m 15s\tremaining: 6m 29s\n",
      "162:\tlearn: 0.3597976\ttotal: 1m 15s\tremaining: 6m 29s\n",
      "163:\tlearn: 0.3594417\ttotal: 1m 16s\tremaining: 6m 28s\n",
      "164:\tlearn: 0.3589591\ttotal: 1m 16s\tremaining: 6m 28s\n",
      "165:\tlearn: 0.3583928\ttotal: 1m 17s\tremaining: 6m 27s\n",
      "166:\tlearn: 0.3580698\ttotal: 1m 17s\tremaining: 6m 27s\n",
      "167:\tlearn: 0.3577090\ttotal: 1m 18s\tremaining: 6m 26s\n",
      "168:\tlearn: 0.3573033\ttotal: 1m 18s\tremaining: 6m 26s\n",
      "169:\tlearn: 0.3568034\ttotal: 1m 19s\tremaining: 6m 26s\n",
      "170:\tlearn: 0.3562000\ttotal: 1m 19s\tremaining: 6m 25s\n",
      "171:\tlearn: 0.3557428\ttotal: 1m 19s\tremaining: 6m 25s\n",
      "172:\tlearn: 0.3552877\ttotal: 1m 20s\tremaining: 6m 24s\n",
      "173:\tlearn: 0.3548109\ttotal: 1m 20s\tremaining: 6m 24s\n",
      "174:\tlearn: 0.3541420\ttotal: 1m 21s\tremaining: 6m 23s\n",
      "175:\tlearn: 0.3537778\ttotal: 1m 21s\tremaining: 6m 23s\n",
      "176:\tlearn: 0.3532860\ttotal: 1m 22s\tremaining: 6m 22s\n",
      "177:\tlearn: 0.3528365\ttotal: 1m 22s\tremaining: 6m 22s\n",
      "178:\tlearn: 0.3524751\ttotal: 1m 23s\tremaining: 6m 21s\n",
      "179:\tlearn: 0.3521594\ttotal: 1m 23s\tremaining: 6m 21s\n",
      "180:\tlearn: 0.3517589\ttotal: 1m 24s\tremaining: 6m 20s\n",
      "181:\tlearn: 0.3513112\ttotal: 1m 24s\tremaining: 6m 20s\n",
      "182:\tlearn: 0.3508256\ttotal: 1m 25s\tremaining: 6m 19s\n",
      "183:\tlearn: 0.3504569\ttotal: 1m 25s\tremaining: 6m 19s\n",
      "184:\tlearn: 0.3499780\ttotal: 1m 25s\tremaining: 6m 18s\n",
      "185:\tlearn: 0.3495754\ttotal: 1m 26s\tremaining: 6m 18s\n",
      "186:\tlearn: 0.3492104\ttotal: 1m 26s\tremaining: 6m 17s\n",
      "187:\tlearn: 0.3488911\ttotal: 1m 27s\tremaining: 6m 17s\n",
      "188:\tlearn: 0.3484257\ttotal: 1m 27s\tremaining: 6m 17s\n",
      "189:\tlearn: 0.3481019\ttotal: 1m 28s\tremaining: 6m 16s\n",
      "190:\tlearn: 0.3478301\ttotal: 1m 28s\tremaining: 6m 15s\n",
      "191:\tlearn: 0.3475230\ttotal: 1m 29s\tremaining: 6m 15s\n",
      "192:\tlearn: 0.3471750\ttotal: 1m 29s\tremaining: 6m 15s\n",
      "193:\tlearn: 0.3466579\ttotal: 1m 30s\tremaining: 6m 14s\n",
      "194:\tlearn: 0.3463104\ttotal: 1m 30s\tremaining: 6m 14s\n",
      "195:\tlearn: 0.3459904\ttotal: 1m 31s\tremaining: 6m 13s\n",
      "196:\tlearn: 0.3454694\ttotal: 1m 31s\tremaining: 6m 13s\n",
      "197:\tlearn: 0.3451136\ttotal: 1m 32s\tremaining: 6m 12s\n",
      "198:\tlearn: 0.3448143\ttotal: 1m 32s\tremaining: 6m 12s\n",
      "199:\tlearn: 0.3445036\ttotal: 1m 33s\tremaining: 6m 12s\n",
      "200:\tlearn: 0.3441699\ttotal: 1m 33s\tremaining: 6m 11s\n",
      "201:\tlearn: 0.3438923\ttotal: 1m 33s\tremaining: 6m 11s\n",
      "202:\tlearn: 0.3435749\ttotal: 1m 34s\tremaining: 6m 10s\n",
      "203:\tlearn: 0.3431847\ttotal: 1m 34s\tremaining: 6m 9s\n",
      "204:\tlearn: 0.3428230\ttotal: 1m 35s\tremaining: 6m 9s\n",
      "205:\tlearn: 0.3425490\ttotal: 1m 35s\tremaining: 6m 9s\n",
      "206:\tlearn: 0.3422006\ttotal: 1m 36s\tremaining: 6m 8s\n",
      "207:\tlearn: 0.3417461\ttotal: 1m 36s\tremaining: 6m 8s\n",
      "208:\tlearn: 0.3413873\ttotal: 1m 37s\tremaining: 6m 7s\n",
      "209:\tlearn: 0.3411269\ttotal: 1m 37s\tremaining: 6m 7s\n",
      "210:\tlearn: 0.3408233\ttotal: 1m 38s\tremaining: 6m 6s\n",
      "211:\tlearn: 0.3405798\ttotal: 1m 38s\tremaining: 6m 6s\n",
      "212:\tlearn: 0.3399789\ttotal: 1m 38s\tremaining: 6m 5s\n",
      "213:\tlearn: 0.3396564\ttotal: 1m 39s\tremaining: 6m 5s\n",
      "214:\tlearn: 0.3391883\ttotal: 1m 39s\tremaining: 6m 4s\n",
      "215:\tlearn: 0.3388733\ttotal: 1m 40s\tremaining: 6m 4s\n",
      "216:\tlearn: 0.3386039\ttotal: 1m 40s\tremaining: 6m 3s\n",
      "217:\tlearn: 0.3383178\ttotal: 1m 41s\tremaining: 6m 3s\n",
      "218:\tlearn: 0.3379800\ttotal: 1m 41s\tremaining: 6m 3s\n",
      "219:\tlearn: 0.3376879\ttotal: 1m 42s\tremaining: 6m 2s\n",
      "220:\tlearn: 0.3373248\ttotal: 1m 42s\tremaining: 6m 2s\n",
      "221:\tlearn: 0.3368399\ttotal: 1m 43s\tremaining: 6m 1s\n",
      "222:\tlearn: 0.3365454\ttotal: 1m 43s\tremaining: 6m\n",
      "223:\tlearn: 0.3362391\ttotal: 1m 44s\tremaining: 6m\n",
      "224:\tlearn: 0.3359443\ttotal: 1m 44s\tremaining: 6m\n",
      "225:\tlearn: 0.3356918\ttotal: 1m 44s\tremaining: 5m 59s\n",
      "226:\tlearn: 0.3353326\ttotal: 1m 45s\tremaining: 5m 59s\n",
      "227:\tlearn: 0.3350742\ttotal: 1m 45s\tremaining: 5m 58s\n",
      "228:\tlearn: 0.3348011\ttotal: 1m 46s\tremaining: 5m 58s\n",
      "229:\tlearn: 0.3344446\ttotal: 1m 46s\tremaining: 5m 57s\n",
      "230:\tlearn: 0.3341594\ttotal: 1m 47s\tremaining: 5m 57s\n",
      "231:\tlearn: 0.3336305\ttotal: 1m 47s\tremaining: 5m 56s\n",
      "232:\tlearn: 0.3332588\ttotal: 1m 48s\tremaining: 5m 56s\n",
      "233:\tlearn: 0.3329133\ttotal: 1m 48s\tremaining: 5m 55s\n",
      "234:\tlearn: 0.3324628\ttotal: 1m 49s\tremaining: 5m 55s\n",
      "235:\tlearn: 0.3321482\ttotal: 1m 49s\tremaining: 5m 54s\n",
      "236:\tlearn: 0.3317773\ttotal: 1m 50s\tremaining: 5m 54s\n",
      "237:\tlearn: 0.3313557\ttotal: 1m 50s\tremaining: 5m 53s\n",
      "238:\tlearn: 0.3310672\ttotal: 1m 50s\tremaining: 5m 53s\n",
      "239:\tlearn: 0.3307988\ttotal: 1m 51s\tremaining: 5m 52s\n",
      "240:\tlearn: 0.3305545\ttotal: 1m 51s\tremaining: 5m 52s\n",
      "241:\tlearn: 0.3300014\ttotal: 1m 52s\tremaining: 5m 51s\n",
      "242:\tlearn: 0.3293892\ttotal: 1m 52s\tremaining: 5m 51s\n",
      "243:\tlearn: 0.3291296\ttotal: 1m 53s\tremaining: 5m 51s\n",
      "244:\tlearn: 0.3288800\ttotal: 1m 53s\tremaining: 5m 50s\n",
      "245:\tlearn: 0.3286076\ttotal: 1m 54s\tremaining: 5m 50s\n",
      "246:\tlearn: 0.3283586\ttotal: 1m 54s\tremaining: 5m 49s\n",
      "247:\tlearn: 0.3280859\ttotal: 1m 55s\tremaining: 5m 49s\n",
      "248:\tlearn: 0.3278300\ttotal: 1m 55s\tremaining: 5m 48s\n",
      "249:\tlearn: 0.3275057\ttotal: 1m 56s\tremaining: 5m 48s\n",
      "250:\tlearn: 0.3272336\ttotal: 1m 56s\tremaining: 5m 47s\n",
      "251:\tlearn: 0.3269059\ttotal: 1m 56s\tremaining: 5m 47s\n",
      "252:\tlearn: 0.3266638\ttotal: 1m 57s\tremaining: 5m 46s\n",
      "253:\tlearn: 0.3263228\ttotal: 1m 57s\tremaining: 5m 46s\n",
      "254:\tlearn: 0.3258989\ttotal: 1m 58s\tremaining: 5m 45s\n",
      "255:\tlearn: 0.3255431\ttotal: 1m 58s\tremaining: 5m 45s\n",
      "256:\tlearn: 0.3252277\ttotal: 1m 59s\tremaining: 5m 44s\n",
      "257:\tlearn: 0.3250164\ttotal: 1m 59s\tremaining: 5m 44s\n",
      "258:\tlearn: 0.3247367\ttotal: 2m\tremaining: 5m 43s\n",
      "259:\tlearn: 0.3244639\ttotal: 2m\tremaining: 5m 43s\n",
      "260:\tlearn: 0.3241814\ttotal: 2m 1s\tremaining: 5m 42s\n",
      "261:\tlearn: 0.3239234\ttotal: 2m 1s\tremaining: 5m 42s\n",
      "262:\tlearn: 0.3235567\ttotal: 2m 2s\tremaining: 5m 41s\n",
      "263:\tlearn: 0.3233308\ttotal: 2m 2s\tremaining: 5m 41s\n",
      "264:\tlearn: 0.3227314\ttotal: 2m 2s\tremaining: 5m 40s\n",
      "265:\tlearn: 0.3224599\ttotal: 2m 3s\tremaining: 5m 40s\n",
      "266:\tlearn: 0.3221341\ttotal: 2m 3s\tremaining: 5m 39s\n",
      "267:\tlearn: 0.3218939\ttotal: 2m 4s\tremaining: 5m 39s\n",
      "268:\tlearn: 0.3215440\ttotal: 2m 4s\tremaining: 5m 39s\n",
      "269:\tlearn: 0.3211241\ttotal: 2m 5s\tremaining: 5m 38s\n",
      "270:\tlearn: 0.3207805\ttotal: 2m 5s\tremaining: 5m 38s\n",
      "271:\tlearn: 0.3205051\ttotal: 2m 6s\tremaining: 5m 37s\n",
      "272:\tlearn: 0.3202686\ttotal: 2m 6s\tremaining: 5m 37s\n",
      "273:\tlearn: 0.3200193\ttotal: 2m 7s\tremaining: 5m 36s\n",
      "274:\tlearn: 0.3197679\ttotal: 2m 7s\tremaining: 5m 36s\n",
      "275:\tlearn: 0.3195217\ttotal: 2m 8s\tremaining: 5m 35s\n",
      "276:\tlearn: 0.3192205\ttotal: 2m 8s\tremaining: 5m 35s\n",
      "277:\tlearn: 0.3189508\ttotal: 2m 8s\tremaining: 5m 34s\n",
      "278:\tlearn: 0.3185942\ttotal: 2m 9s\tremaining: 5m 34s\n",
      "279:\tlearn: 0.3183385\ttotal: 2m 9s\tremaining: 5m 33s\n",
      "280:\tlearn: 0.3178253\ttotal: 2m 10s\tremaining: 5m 33s\n",
      "281:\tlearn: 0.3175605\ttotal: 2m 10s\tremaining: 5m 33s\n",
      "282:\tlearn: 0.3173383\ttotal: 2m 11s\tremaining: 5m 32s\n",
      "283:\tlearn: 0.3170162\ttotal: 2m 11s\tremaining: 5m 32s\n",
      "284:\tlearn: 0.3167078\ttotal: 2m 12s\tremaining: 5m 31s\n",
      "285:\tlearn: 0.3164288\ttotal: 2m 12s\tremaining: 5m 31s\n",
      "286:\tlearn: 0.3161351\ttotal: 2m 13s\tremaining: 5m 30s\n",
      "287:\tlearn: 0.3157748\ttotal: 2m 13s\tremaining: 5m 30s\n",
      "288:\tlearn: 0.3154919\ttotal: 2m 14s\tremaining: 5m 29s\n",
      "289:\tlearn: 0.3152576\ttotal: 2m 14s\tremaining: 5m 29s\n",
      "290:\tlearn: 0.3149605\ttotal: 2m 14s\tremaining: 5m 28s\n",
      "291:\tlearn: 0.3146941\ttotal: 2m 15s\tremaining: 5m 28s\n",
      "292:\tlearn: 0.3143394\ttotal: 2m 15s\tremaining: 5m 27s\n",
      "293:\tlearn: 0.3138814\ttotal: 2m 16s\tremaining: 5m 27s\n",
      "294:\tlearn: 0.3136190\ttotal: 2m 16s\tremaining: 5m 26s\n",
      "295:\tlearn: 0.3133361\ttotal: 2m 17s\tremaining: 5m 26s\n",
      "296:\tlearn: 0.3126032\ttotal: 2m 17s\tremaining: 5m 26s\n",
      "297:\tlearn: 0.3123842\ttotal: 2m 18s\tremaining: 5m 25s\n",
      "298:\tlearn: 0.3121247\ttotal: 2m 18s\tremaining: 5m 25s\n",
      "299:\tlearn: 0.3118701\ttotal: 2m 19s\tremaining: 5m 24s\n",
      "300:\tlearn: 0.3116449\ttotal: 2m 19s\tremaining: 5m 24s\n",
      "301:\tlearn: 0.3114205\ttotal: 2m 20s\tremaining: 5m 23s\n",
      "302:\tlearn: 0.3111868\ttotal: 2m 20s\tremaining: 5m 23s\n",
      "303:\tlearn: 0.3109216\ttotal: 2m 20s\tremaining: 5m 22s\n",
      "304:\tlearn: 0.3106840\ttotal: 2m 21s\tremaining: 5m 22s\n",
      "305:\tlearn: 0.3104002\ttotal: 2m 21s\tremaining: 5m 21s\n",
      "306:\tlearn: 0.3100847\ttotal: 2m 22s\tremaining: 5m 21s\n",
      "307:\tlearn: 0.3094221\ttotal: 2m 22s\tremaining: 5m 20s\n",
      "308:\tlearn: 0.3092171\ttotal: 2m 23s\tremaining: 5m 20s\n",
      "309:\tlearn: 0.3089285\ttotal: 2m 23s\tremaining: 5m 19s\n",
      "310:\tlearn: 0.3085918\ttotal: 2m 24s\tremaining: 5m 19s\n",
      "311:\tlearn: 0.3080921\ttotal: 2m 24s\tremaining: 5m 18s\n",
      "312:\tlearn: 0.3076460\ttotal: 2m 25s\tremaining: 5m 18s\n",
      "313:\tlearn: 0.3073927\ttotal: 2m 25s\tremaining: 5m 17s\n",
      "314:\tlearn: 0.3069282\ttotal: 2m 25s\tremaining: 5m 17s\n",
      "315:\tlearn: 0.3066773\ttotal: 2m 26s\tremaining: 5m 16s\n",
      "316:\tlearn: 0.3064520\ttotal: 2m 26s\tremaining: 5m 16s\n",
      "317:\tlearn: 0.3062445\ttotal: 2m 27s\tremaining: 5m 15s\n",
      "318:\tlearn: 0.3060100\ttotal: 2m 27s\tremaining: 5m 15s\n",
      "319:\tlearn: 0.3058006\ttotal: 2m 28s\tremaining: 5m 14s\n",
      "320:\tlearn: 0.3055817\ttotal: 2m 28s\tremaining: 5m 14s\n",
      "321:\tlearn: 0.3053129\ttotal: 2m 29s\tremaining: 5m 13s\n",
      "322:\tlearn: 0.3050271\ttotal: 2m 29s\tremaining: 5m 13s\n",
      "323:\tlearn: 0.3047928\ttotal: 2m 30s\tremaining: 5m 13s\n",
      "324:\tlearn: 0.3044865\ttotal: 2m 30s\tremaining: 5m 12s\n",
      "325:\tlearn: 0.3043095\ttotal: 2m 30s\tremaining: 5m 12s\n",
      "326:\tlearn: 0.3039750\ttotal: 2m 31s\tremaining: 5m 11s\n",
      "327:\tlearn: 0.3037426\ttotal: 2m 31s\tremaining: 5m 11s\n",
      "328:\tlearn: 0.3035145\ttotal: 2m 32s\tremaining: 5m 10s\n",
      "329:\tlearn: 0.3032788\ttotal: 2m 32s\tremaining: 5m 10s\n",
      "330:\tlearn: 0.3030026\ttotal: 2m 33s\tremaining: 5m 9s\n",
      "331:\tlearn: 0.3027894\ttotal: 2m 33s\tremaining: 5m 9s\n",
      "332:\tlearn: 0.3025504\ttotal: 2m 34s\tremaining: 5m 8s\n",
      "333:\tlearn: 0.3023571\ttotal: 2m 34s\tremaining: 5m 8s\n",
      "334:\tlearn: 0.3021130\ttotal: 2m 35s\tremaining: 5m 7s\n",
      "335:\tlearn: 0.3018886\ttotal: 2m 35s\tremaining: 5m 7s\n",
      "336:\tlearn: 0.3016477\ttotal: 2m 36s\tremaining: 5m 7s\n",
      "337:\tlearn: 0.3013785\ttotal: 2m 36s\tremaining: 5m 6s\n",
      "338:\tlearn: 0.3011296\ttotal: 2m 36s\tremaining: 5m 6s\n",
      "339:\tlearn: 0.3009139\ttotal: 2m 37s\tremaining: 5m 5s\n",
      "340:\tlearn: 0.3006604\ttotal: 2m 37s\tremaining: 5m 5s\n",
      "341:\tlearn: 0.3000903\ttotal: 2m 38s\tremaining: 5m 4s\n",
      "342:\tlearn: 0.2998762\ttotal: 2m 38s\tremaining: 5m 4s\n",
      "343:\tlearn: 0.2996990\ttotal: 2m 39s\tremaining: 5m 3s\n",
      "344:\tlearn: 0.2994678\ttotal: 2m 39s\tremaining: 5m 3s\n",
      "345:\tlearn: 0.2992122\ttotal: 2m 40s\tremaining: 5m 2s\n",
      "346:\tlearn: 0.2989672\ttotal: 2m 40s\tremaining: 5m 2s\n",
      "347:\tlearn: 0.2987472\ttotal: 2m 41s\tremaining: 5m 1s\n",
      "348:\tlearn: 0.2984528\ttotal: 2m 41s\tremaining: 5m 1s\n",
      "349:\tlearn: 0.2982571\ttotal: 2m 42s\tremaining: 5m\n",
      "350:\tlearn: 0.2980490\ttotal: 2m 42s\tremaining: 5m\n",
      "351:\tlearn: 0.2978064\ttotal: 2m 43s\tremaining: 5m\n",
      "352:\tlearn: 0.2975784\ttotal: 2m 43s\tremaining: 4m 59s\n",
      "353:\tlearn: 0.2973649\ttotal: 2m 43s\tremaining: 4m 59s\n",
      "354:\tlearn: 0.2971341\ttotal: 2m 44s\tremaining: 4m 58s\n",
      "355:\tlearn: 0.2968564\ttotal: 2m 44s\tremaining: 4m 58s\n",
      "356:\tlearn: 0.2966743\ttotal: 2m 45s\tremaining: 4m 57s\n",
      "357:\tlearn: 0.2964620\ttotal: 2m 45s\tremaining: 4m 57s\n",
      "358:\tlearn: 0.2962731\ttotal: 2m 46s\tremaining: 4m 56s\n",
      "359:\tlearn: 0.2960603\ttotal: 2m 46s\tremaining: 4m 56s\n",
      "360:\tlearn: 0.2958403\ttotal: 2m 47s\tremaining: 4m 55s\n",
      "361:\tlearn: 0.2953986\ttotal: 2m 47s\tremaining: 4m 55s\n",
      "362:\tlearn: 0.2950974\ttotal: 2m 48s\tremaining: 4m 54s\n",
      "363:\tlearn: 0.2948800\ttotal: 2m 48s\tremaining: 4m 54s\n",
      "364:\tlearn: 0.2946365\ttotal: 2m 48s\tremaining: 4m 53s\n",
      "365:\tlearn: 0.2944675\ttotal: 2m 49s\tremaining: 4m 53s\n",
      "366:\tlearn: 0.2940999\ttotal: 2m 49s\tremaining: 4m 52s\n",
      "367:\tlearn: 0.2939107\ttotal: 2m 50s\tremaining: 4m 52s\n",
      "368:\tlearn: 0.2937332\ttotal: 2m 50s\tremaining: 4m 52s\n",
      "369:\tlearn: 0.2934905\ttotal: 2m 51s\tremaining: 4m 51s\n",
      "370:\tlearn: 0.2932945\ttotal: 2m 51s\tremaining: 4m 51s\n",
      "371:\tlearn: 0.2931087\ttotal: 2m 52s\tremaining: 4m 50s\n",
      "372:\tlearn: 0.2929078\ttotal: 2m 52s\tremaining: 4m 50s\n",
      "373:\tlearn: 0.2926681\ttotal: 2m 53s\tremaining: 4m 49s\n",
      "374:\tlearn: 0.2923327\ttotal: 2m 53s\tremaining: 4m 49s\n",
      "375:\tlearn: 0.2921443\ttotal: 2m 53s\tremaining: 4m 48s\n",
      "376:\tlearn: 0.2918978\ttotal: 2m 54s\tremaining: 4m 48s\n",
      "377:\tlearn: 0.2917052\ttotal: 2m 54s\tremaining: 4m 47s\n",
      "378:\tlearn: 0.2915277\ttotal: 2m 55s\tremaining: 4m 47s\n",
      "379:\tlearn: 0.2913117\ttotal: 2m 55s\tremaining: 4m 46s\n",
      "380:\tlearn: 0.2910934\ttotal: 2m 56s\tremaining: 4m 46s\n",
      "381:\tlearn: 0.2908936\ttotal: 2m 56s\tremaining: 4m 45s\n",
      "382:\tlearn: 0.2905503\ttotal: 2m 57s\tremaining: 4m 45s\n",
      "383:\tlearn: 0.2903393\ttotal: 2m 57s\tremaining: 4m 45s\n",
      "384:\tlearn: 0.2901499\ttotal: 2m 58s\tremaining: 4m 44s\n",
      "385:\tlearn: 0.2899849\ttotal: 2m 58s\tremaining: 4m 44s\n",
      "386:\tlearn: 0.2897890\ttotal: 2m 59s\tremaining: 4m 43s\n",
      "387:\tlearn: 0.2895237\ttotal: 2m 59s\tremaining: 4m 43s\n",
      "388:\tlearn: 0.2893267\ttotal: 3m\tremaining: 4m 42s\n",
      "389:\tlearn: 0.2891418\ttotal: 3m\tremaining: 4m 42s\n",
      "390:\tlearn: 0.2889286\ttotal: 3m\tremaining: 4m 41s\n",
      "391:\tlearn: 0.2886298\ttotal: 3m 1s\tremaining: 4m 41s\n",
      "392:\tlearn: 0.2883773\ttotal: 3m 1s\tremaining: 4m 40s\n",
      "393:\tlearn: 0.2882058\ttotal: 3m 2s\tremaining: 4m 40s\n",
      "394:\tlearn: 0.2880128\ttotal: 3m 2s\tremaining: 4m 39s\n",
      "395:\tlearn: 0.2878545\ttotal: 3m 3s\tremaining: 4m 39s\n",
      "396:\tlearn: 0.2876732\ttotal: 3m 3s\tremaining: 4m 39s\n",
      "397:\tlearn: 0.2875045\ttotal: 3m 4s\tremaining: 4m 38s\n",
      "398:\tlearn: 0.2873341\ttotal: 3m 4s\tremaining: 4m 38s\n",
      "399:\tlearn: 0.2871250\ttotal: 3m 5s\tremaining: 4m 37s\n",
      "400:\tlearn: 0.2869241\ttotal: 3m 5s\tremaining: 4m 37s\n",
      "401:\tlearn: 0.2867177\ttotal: 3m 5s\tremaining: 4m 36s\n",
      "402:\tlearn: 0.2865417\ttotal: 3m 6s\tremaining: 4m 36s\n",
      "403:\tlearn: 0.2863491\ttotal: 3m 6s\tremaining: 4m 35s\n",
      "404:\tlearn: 0.2861851\ttotal: 3m 7s\tremaining: 4m 35s\n",
      "405:\tlearn: 0.2860151\ttotal: 3m 7s\tremaining: 4m 34s\n",
      "406:\tlearn: 0.2858035\ttotal: 3m 8s\tremaining: 4m 34s\n",
      "407:\tlearn: 0.2856154\ttotal: 3m 8s\tremaining: 4m 33s\n",
      "408:\tlearn: 0.2854354\ttotal: 3m 9s\tremaining: 4m 33s\n",
      "409:\tlearn: 0.2853190\ttotal: 3m 9s\tremaining: 4m 32s\n",
      "410:\tlearn: 0.2850690\ttotal: 3m 10s\tremaining: 4m 32s\n",
      "411:\tlearn: 0.2846724\ttotal: 3m 10s\tremaining: 4m 31s\n",
      "412:\tlearn: 0.2844922\ttotal: 3m 11s\tremaining: 4m 31s\n",
      "413:\tlearn: 0.2843072\ttotal: 3m 11s\tremaining: 4m 31s\n",
      "414:\tlearn: 0.2841296\ttotal: 3m 11s\tremaining: 4m 30s\n",
      "415:\tlearn: 0.2839546\ttotal: 3m 12s\tremaining: 4m 30s\n",
      "416:\tlearn: 0.2837443\ttotal: 3m 12s\tremaining: 4m 29s\n",
      "417:\tlearn: 0.2835707\ttotal: 3m 13s\tremaining: 4m 29s\n",
      "418:\tlearn: 0.2833917\ttotal: 3m 13s\tremaining: 4m 28s\n",
      "419:\tlearn: 0.2832143\ttotal: 3m 14s\tremaining: 4m 28s\n",
      "420:\tlearn: 0.2829378\ttotal: 3m 14s\tremaining: 4m 27s\n",
      "421:\tlearn: 0.2827883\ttotal: 3m 15s\tremaining: 4m 27s\n",
      "422:\tlearn: 0.2825988\ttotal: 3m 15s\tremaining: 4m 26s\n",
      "423:\tlearn: 0.2823922\ttotal: 3m 16s\tremaining: 4m 26s\n",
      "424:\tlearn: 0.2822033\ttotal: 3m 16s\tremaining: 4m 25s\n",
      "425:\tlearn: 0.2820424\ttotal: 3m 17s\tremaining: 4m 25s\n",
      "426:\tlearn: 0.2818303\ttotal: 3m 17s\tremaining: 4m 24s\n",
      "427:\tlearn: 0.2816672\ttotal: 3m 17s\tremaining: 4m 24s\n",
      "428:\tlearn: 0.2815099\ttotal: 3m 18s\tremaining: 4m 24s\n",
      "429:\tlearn: 0.2812312\ttotal: 3m 18s\tremaining: 4m 23s\n",
      "430:\tlearn: 0.2810155\ttotal: 3m 19s\tremaining: 4m 23s\n",
      "431:\tlearn: 0.2807077\ttotal: 3m 19s\tremaining: 4m 22s\n",
      "432:\tlearn: 0.2805619\ttotal: 3m 20s\tremaining: 4m 22s\n",
      "433:\tlearn: 0.2804040\ttotal: 3m 20s\tremaining: 4m 21s\n",
      "434:\tlearn: 0.2802601\ttotal: 3m 21s\tremaining: 4m 21s\n",
      "435:\tlearn: 0.2800902\ttotal: 3m 21s\tremaining: 4m 20s\n",
      "436:\tlearn: 0.2799464\ttotal: 3m 22s\tremaining: 4m 20s\n",
      "437:\tlearn: 0.2798517\ttotal: 3m 22s\tremaining: 4m 19s\n",
      "438:\tlearn: 0.2797112\ttotal: 3m 23s\tremaining: 4m 19s\n",
      "439:\tlearn: 0.2795297\ttotal: 3m 23s\tremaining: 4m 18s\n",
      "440:\tlearn: 0.2792521\ttotal: 3m 23s\tremaining: 4m 18s\n",
      "441:\tlearn: 0.2791057\ttotal: 3m 24s\tremaining: 4m 18s\n",
      "442:\tlearn: 0.2789394\ttotal: 3m 24s\tremaining: 4m 17s\n",
      "443:\tlearn: 0.2787805\ttotal: 3m 25s\tremaining: 4m 17s\n",
      "444:\tlearn: 0.2786399\ttotal: 3m 25s\tremaining: 4m 16s\n",
      "445:\tlearn: 0.2784787\ttotal: 3m 26s\tremaining: 4m 16s\n",
      "446:\tlearn: 0.2783313\ttotal: 3m 26s\tremaining: 4m 15s\n",
      "447:\tlearn: 0.2780661\ttotal: 3m 27s\tremaining: 4m 15s\n",
      "448:\tlearn: 0.2778768\ttotal: 3m 27s\tremaining: 4m 14s\n",
      "449:\tlearn: 0.2776742\ttotal: 3m 28s\tremaining: 4m 14s\n",
      "450:\tlearn: 0.2772527\ttotal: 3m 28s\tremaining: 4m 13s\n",
      "451:\tlearn: 0.2770636\ttotal: 3m 28s\tremaining: 4m 13s\n",
      "452:\tlearn: 0.2768895\ttotal: 3m 29s\tremaining: 4m 12s\n",
      "453:\tlearn: 0.2767248\ttotal: 3m 29s\tremaining: 4m 12s\n",
      "454:\tlearn: 0.2765419\ttotal: 3m 30s\tremaining: 4m 11s\n",
      "455:\tlearn: 0.2764494\ttotal: 3m 30s\tremaining: 4m 11s\n",
      "456:\tlearn: 0.2762802\ttotal: 3m 31s\tremaining: 4m 11s\n",
      "457:\tlearn: 0.2761255\ttotal: 3m 31s\tremaining: 4m 10s\n",
      "458:\tlearn: 0.2759724\ttotal: 3m 32s\tremaining: 4m 10s\n",
      "459:\tlearn: 0.2758121\ttotal: 3m 32s\tremaining: 4m 9s\n",
      "460:\tlearn: 0.2756616\ttotal: 3m 33s\tremaining: 4m 9s\n",
      "461:\tlearn: 0.2754698\ttotal: 3m 33s\tremaining: 4m 8s\n",
      "462:\tlearn: 0.2753182\ttotal: 3m 34s\tremaining: 4m 8s\n",
      "463:\tlearn: 0.2751748\ttotal: 3m 34s\tremaining: 4m 7s\n",
      "464:\tlearn: 0.2749969\ttotal: 3m 34s\tremaining: 4m 7s\n",
      "465:\tlearn: 0.2748343\ttotal: 3m 35s\tremaining: 4m 6s\n",
      "466:\tlearn: 0.2745181\ttotal: 3m 35s\tremaining: 4m 6s\n",
      "467:\tlearn: 0.2743711\ttotal: 3m 36s\tremaining: 4m 5s\n",
      "468:\tlearn: 0.2742359\ttotal: 3m 36s\tremaining: 4m 5s\n",
      "469:\tlearn: 0.2740898\ttotal: 3m 37s\tremaining: 4m 4s\n",
      "470:\tlearn: 0.2739364\ttotal: 3m 37s\tremaining: 4m 4s\n",
      "471:\tlearn: 0.2737377\ttotal: 3m 38s\tremaining: 4m 4s\n",
      "472:\tlearn: 0.2735621\ttotal: 3m 38s\tremaining: 4m 3s\n",
      "473:\tlearn: 0.2733428\ttotal: 3m 39s\tremaining: 4m 3s\n",
      "474:\tlearn: 0.2731283\ttotal: 3m 39s\tremaining: 4m 2s\n",
      "475:\tlearn: 0.2728750\ttotal: 3m 39s\tremaining: 4m 2s\n",
      "476:\tlearn: 0.2726029\ttotal: 3m 40s\tremaining: 4m 1s\n",
      "477:\tlearn: 0.2724441\ttotal: 3m 40s\tremaining: 4m 1s\n",
      "478:\tlearn: 0.2723627\ttotal: 3m 41s\tremaining: 4m\n",
      "479:\tlearn: 0.2722141\ttotal: 3m 41s\tremaining: 4m\n",
      "480:\tlearn: 0.2720925\ttotal: 3m 42s\tremaining: 3m 59s\n",
      "481:\tlearn: 0.2719959\ttotal: 3m 42s\tremaining: 3m 59s\n",
      "482:\tlearn: 0.2718657\ttotal: 3m 43s\tremaining: 3m 58s\n",
      "483:\tlearn: 0.2716802\ttotal: 3m 43s\tremaining: 3m 58s\n",
      "484:\tlearn: 0.2715404\ttotal: 3m 44s\tremaining: 3m 57s\n",
      "485:\tlearn: 0.2713701\ttotal: 3m 44s\tremaining: 3m 57s\n",
      "486:\tlearn: 0.2712248\ttotal: 3m 45s\tremaining: 3m 57s\n",
      "487:\tlearn: 0.2709484\ttotal: 3m 45s\tremaining: 3m 56s\n",
      "488:\tlearn: 0.2708793\ttotal: 3m 45s\tremaining: 3m 56s\n",
      "489:\tlearn: 0.2706964\ttotal: 3m 46s\tremaining: 3m 55s\n",
      "490:\tlearn: 0.2706297\ttotal: 3m 46s\tremaining: 3m 55s\n",
      "491:\tlearn: 0.2704779\ttotal: 3m 47s\tremaining: 3m 54s\n",
      "492:\tlearn: 0.2703324\ttotal: 3m 47s\tremaining: 3m 54s\n",
      "493:\tlearn: 0.2702126\ttotal: 3m 48s\tremaining: 3m 53s\n",
      "494:\tlearn: 0.2700570\ttotal: 3m 48s\tremaining: 3m 53s\n",
      "495:\tlearn: 0.2699056\ttotal: 3m 49s\tremaining: 3m 52s\n",
      "496:\tlearn: 0.2697937\ttotal: 3m 49s\tremaining: 3m 52s\n",
      "497:\tlearn: 0.2694793\ttotal: 3m 50s\tremaining: 3m 51s\n",
      "498:\tlearn: 0.2693546\ttotal: 3m 50s\tremaining: 3m 51s\n",
      "499:\tlearn: 0.2692104\ttotal: 3m 50s\tremaining: 3m 50s\n",
      "500:\tlearn: 0.2690654\ttotal: 3m 51s\tremaining: 3m 50s\n",
      "501:\tlearn: 0.2689118\ttotal: 3m 51s\tremaining: 3m 50s\n",
      "502:\tlearn: 0.2686621\ttotal: 3m 52s\tremaining: 3m 49s\n",
      "503:\tlearn: 0.2685236\ttotal: 3m 52s\tremaining: 3m 49s\n",
      "504:\tlearn: 0.2683695\ttotal: 3m 53s\tremaining: 3m 48s\n",
      "505:\tlearn: 0.2682221\ttotal: 3m 53s\tremaining: 3m 48s\n",
      "506:\tlearn: 0.2680938\ttotal: 3m 54s\tremaining: 3m 47s\n",
      "507:\tlearn: 0.2679368\ttotal: 3m 54s\tremaining: 3m 47s\n",
      "508:\tlearn: 0.2677121\ttotal: 3m 55s\tremaining: 3m 46s\n",
      "509:\tlearn: 0.2675723\ttotal: 3m 55s\tremaining: 3m 46s\n",
      "510:\tlearn: 0.2674332\ttotal: 3m 56s\tremaining: 3m 45s\n",
      "511:\tlearn: 0.2672953\ttotal: 3m 56s\tremaining: 3m 45s\n",
      "512:\tlearn: 0.2671569\ttotal: 3m 56s\tremaining: 3m 44s\n",
      "513:\tlearn: 0.2669916\ttotal: 3m 57s\tremaining: 3m 44s\n",
      "514:\tlearn: 0.2668787\ttotal: 3m 57s\tremaining: 3m 43s\n",
      "515:\tlearn: 0.2667266\ttotal: 3m 58s\tremaining: 3m 43s\n",
      "516:\tlearn: 0.2665928\ttotal: 3m 58s\tremaining: 3m 43s\n",
      "517:\tlearn: 0.2664506\ttotal: 3m 59s\tremaining: 3m 42s\n",
      "518:\tlearn: 0.2662921\ttotal: 3m 59s\tremaining: 3m 42s\n",
      "519:\tlearn: 0.2661730\ttotal: 4m\tremaining: 3m 41s\n",
      "520:\tlearn: 0.2660312\ttotal: 4m\tremaining: 3m 41s\n",
      "521:\tlearn: 0.2659160\ttotal: 4m 1s\tremaining: 3m 40s\n",
      "522:\tlearn: 0.2658442\ttotal: 4m 1s\tremaining: 3m 40s\n",
      "523:\tlearn: 0.2656825\ttotal: 4m 2s\tremaining: 3m 39s\n",
      "524:\tlearn: 0.2654219\ttotal: 4m 2s\tremaining: 3m 39s\n",
      "525:\tlearn: 0.2652255\ttotal: 4m 2s\tremaining: 3m 38s\n",
      "526:\tlearn: 0.2650252\ttotal: 4m 3s\tremaining: 3m 38s\n",
      "527:\tlearn: 0.2647954\ttotal: 4m 3s\tremaining: 3m 38s\n",
      "528:\tlearn: 0.2646838\ttotal: 4m 4s\tremaining: 3m 37s\n",
      "529:\tlearn: 0.2645531\ttotal: 4m 4s\tremaining: 3m 37s\n",
      "530:\tlearn: 0.2643985\ttotal: 4m 5s\tremaining: 3m 36s\n",
      "531:\tlearn: 0.2642936\ttotal: 4m 5s\tremaining: 3m 36s\n",
      "532:\tlearn: 0.2641567\ttotal: 4m 6s\tremaining: 3m 35s\n",
      "533:\tlearn: 0.2638512\ttotal: 4m 6s\tremaining: 3m 35s\n",
      "534:\tlearn: 0.2636513\ttotal: 4m 7s\tremaining: 3m 34s\n",
      "535:\tlearn: 0.2635316\ttotal: 4m 7s\tremaining: 3m 34s\n",
      "536:\tlearn: 0.2634181\ttotal: 4m 8s\tremaining: 3m 33s\n",
      "537:\tlearn: 0.2633045\ttotal: 4m 8s\tremaining: 3m 33s\n",
      "538:\tlearn: 0.2631729\ttotal: 4m 8s\tremaining: 3m 32s\n",
      "539:\tlearn: 0.2630350\ttotal: 4m 9s\tremaining: 3m 32s\n",
      "540:\tlearn: 0.2629290\ttotal: 4m 9s\tremaining: 3m 31s\n",
      "541:\tlearn: 0.2628213\ttotal: 4m 10s\tremaining: 3m 31s\n",
      "542:\tlearn: 0.2627291\ttotal: 4m 10s\tremaining: 3m 31s\n",
      "543:\tlearn: 0.2626738\ttotal: 4m 11s\tremaining: 3m 30s\n",
      "544:\tlearn: 0.2625283\ttotal: 4m 11s\tremaining: 3m 30s\n",
      "545:\tlearn: 0.2623952\ttotal: 4m 12s\tremaining: 3m 29s\n",
      "546:\tlearn: 0.2622712\ttotal: 4m 12s\tremaining: 3m 29s\n",
      "547:\tlearn: 0.2620637\ttotal: 4m 13s\tremaining: 3m 28s\n",
      "548:\tlearn: 0.2618592\ttotal: 4m 13s\tremaining: 3m 28s\n",
      "549:\tlearn: 0.2616722\ttotal: 4m 13s\tremaining: 3m 27s\n",
      "550:\tlearn: 0.2615464\ttotal: 4m 14s\tremaining: 3m 27s\n",
      "551:\tlearn: 0.2613800\ttotal: 4m 14s\tremaining: 3m 26s\n",
      "552:\tlearn: 0.2612227\ttotal: 4m 15s\tremaining: 3m 26s\n",
      "553:\tlearn: 0.2610031\ttotal: 4m 15s\tremaining: 3m 25s\n",
      "554:\tlearn: 0.2608469\ttotal: 4m 16s\tremaining: 3m 25s\n",
      "555:\tlearn: 0.2607192\ttotal: 4m 16s\tremaining: 3m 25s\n",
      "556:\tlearn: 0.2605694\ttotal: 4m 17s\tremaining: 3m 24s\n",
      "557:\tlearn: 0.2603732\ttotal: 4m 17s\tremaining: 3m 24s\n",
      "558:\tlearn: 0.2601393\ttotal: 4m 18s\tremaining: 3m 23s\n",
      "559:\tlearn: 0.2600614\ttotal: 4m 18s\tremaining: 3m 23s\n",
      "560:\tlearn: 0.2599483\ttotal: 4m 19s\tremaining: 3m 22s\n",
      "561:\tlearn: 0.2597757\ttotal: 4m 19s\tremaining: 3m 22s\n",
      "562:\tlearn: 0.2596966\ttotal: 4m 19s\tremaining: 3m 21s\n",
      "563:\tlearn: 0.2595620\ttotal: 4m 20s\tremaining: 3m 21s\n",
      "564:\tlearn: 0.2594449\ttotal: 4m 20s\tremaining: 3m 20s\n",
      "565:\tlearn: 0.2593018\ttotal: 4m 21s\tremaining: 3m 20s\n",
      "566:\tlearn: 0.2591645\ttotal: 4m 21s\tremaining: 3m 19s\n",
      "567:\tlearn: 0.2589659\ttotal: 4m 22s\tremaining: 3m 19s\n",
      "568:\tlearn: 0.2588460\ttotal: 4m 22s\tremaining: 3m 18s\n",
      "569:\tlearn: 0.2586051\ttotal: 4m 23s\tremaining: 3m 18s\n",
      "570:\tlearn: 0.2584572\ttotal: 4m 23s\tremaining: 3m 18s\n",
      "571:\tlearn: 0.2583418\ttotal: 4m 24s\tremaining: 3m 17s\n",
      "572:\tlearn: 0.2582202\ttotal: 4m 24s\tremaining: 3m 17s\n",
      "573:\tlearn: 0.2580806\ttotal: 4m 24s\tremaining: 3m 16s\n",
      "574:\tlearn: 0.2579445\ttotal: 4m 25s\tremaining: 3m 16s\n",
      "575:\tlearn: 0.2577559\ttotal: 4m 25s\tremaining: 3m 15s\n",
      "576:\tlearn: 0.2575257\ttotal: 4m 26s\tremaining: 3m 15s\n",
      "577:\tlearn: 0.2573765\ttotal: 4m 26s\tremaining: 3m 14s\n",
      "578:\tlearn: 0.2571281\ttotal: 4m 27s\tremaining: 3m 14s\n",
      "579:\tlearn: 0.2569338\ttotal: 4m 27s\tremaining: 3m 13s\n",
      "580:\tlearn: 0.2568221\ttotal: 4m 28s\tremaining: 3m 13s\n",
      "581:\tlearn: 0.2566600\ttotal: 4m 28s\tremaining: 3m 12s\n",
      "582:\tlearn: 0.2565416\ttotal: 4m 29s\tremaining: 3m 12s\n",
      "583:\tlearn: 0.2563970\ttotal: 4m 29s\tremaining: 3m 11s\n",
      "584:\tlearn: 0.2562799\ttotal: 4m 29s\tremaining: 3m 11s\n",
      "585:\tlearn: 0.2561695\ttotal: 4m 30s\tremaining: 3m 11s\n",
      "586:\tlearn: 0.2560335\ttotal: 4m 30s\tremaining: 3m 10s\n",
      "587:\tlearn: 0.2559060\ttotal: 4m 31s\tremaining: 3m 10s\n",
      "588:\tlearn: 0.2557670\ttotal: 4m 31s\tremaining: 3m 9s\n",
      "589:\tlearn: 0.2557159\ttotal: 4m 32s\tremaining: 3m 9s\n",
      "590:\tlearn: 0.2555922\ttotal: 4m 32s\tremaining: 3m 8s\n",
      "591:\tlearn: 0.2554677\ttotal: 4m 33s\tremaining: 3m 8s\n",
      "592:\tlearn: 0.2553338\ttotal: 4m 33s\tremaining: 3m 7s\n",
      "593:\tlearn: 0.2552120\ttotal: 4m 34s\tremaining: 3m 7s\n",
      "594:\tlearn: 0.2551065\ttotal: 4m 34s\tremaining: 3m 6s\n",
      "595:\tlearn: 0.2549683\ttotal: 4m 35s\tremaining: 3m 6s\n",
      "596:\tlearn: 0.2548112\ttotal: 4m 35s\tremaining: 3m 6s\n",
      "597:\tlearn: 0.2547495\ttotal: 4m 36s\tremaining: 3m 5s\n",
      "598:\tlearn: 0.2543160\ttotal: 4m 36s\tremaining: 3m 5s\n",
      "599:\tlearn: 0.2541631\ttotal: 4m 36s\tremaining: 3m 4s\n",
      "600:\tlearn: 0.2541227\ttotal: 4m 37s\tremaining: 3m 4s\n",
      "601:\tlearn: 0.2540247\ttotal: 4m 37s\tremaining: 3m 3s\n",
      "602:\tlearn: 0.2539010\ttotal: 4m 38s\tremaining: 3m 3s\n",
      "603:\tlearn: 0.2537644\ttotal: 4m 38s\tremaining: 3m 2s\n",
      "604:\tlearn: 0.2536710\ttotal: 4m 39s\tremaining: 3m 2s\n",
      "605:\tlearn: 0.2536204\ttotal: 4m 39s\tremaining: 3m 1s\n",
      "606:\tlearn: 0.2534885\ttotal: 4m 40s\tremaining: 3m 1s\n",
      "607:\tlearn: 0.2533735\ttotal: 4m 40s\tremaining: 3m\n",
      "608:\tlearn: 0.2532724\ttotal: 4m 41s\tremaining: 3m\n",
      "609:\tlearn: 0.2531653\ttotal: 4m 41s\tremaining: 2m 59s\n",
      "610:\tlearn: 0.2530461\ttotal: 4m 41s\tremaining: 2m 59s\n",
      "611:\tlearn: 0.2529087\ttotal: 4m 42s\tremaining: 2m 59s\n",
      "612:\tlearn: 0.2528036\ttotal: 4m 42s\tremaining: 2m 58s\n",
      "613:\tlearn: 0.2526805\ttotal: 4m 43s\tremaining: 2m 58s\n",
      "614:\tlearn: 0.2525298\ttotal: 4m 43s\tremaining: 2m 57s\n",
      "615:\tlearn: 0.2524190\ttotal: 4m 44s\tremaining: 2m 57s\n",
      "616:\tlearn: 0.2523259\ttotal: 4m 44s\tremaining: 2m 56s\n",
      "617:\tlearn: 0.2521913\ttotal: 4m 45s\tremaining: 2m 56s\n",
      "618:\tlearn: 0.2520411\ttotal: 4m 45s\tremaining: 2m 55s\n",
      "619:\tlearn: 0.2519117\ttotal: 4m 46s\tremaining: 2m 55s\n",
      "620:\tlearn: 0.2517937\ttotal: 4m 46s\tremaining: 2m 54s\n",
      "621:\tlearn: 0.2516712\ttotal: 4m 47s\tremaining: 2m 54s\n",
      "622:\tlearn: 0.2515472\ttotal: 4m 47s\tremaining: 2m 53s\n",
      "623:\tlearn: 0.2514568\ttotal: 4m 47s\tremaining: 2m 53s\n",
      "624:\tlearn: 0.2513124\ttotal: 4m 48s\tremaining: 2m 53s\n",
      "625:\tlearn: 0.2511704\ttotal: 4m 48s\tremaining: 2m 52s\n",
      "626:\tlearn: 0.2510355\ttotal: 4m 49s\tremaining: 2m 52s\n",
      "627:\tlearn: 0.2509702\ttotal: 4m 49s\tremaining: 2m 51s\n",
      "628:\tlearn: 0.2508409\ttotal: 4m 50s\tremaining: 2m 51s\n",
      "629:\tlearn: 0.2506490\ttotal: 4m 50s\tremaining: 2m 50s\n",
      "630:\tlearn: 0.2505583\ttotal: 4m 51s\tremaining: 2m 50s\n",
      "631:\tlearn: 0.2505019\ttotal: 4m 51s\tremaining: 2m 49s\n",
      "632:\tlearn: 0.2504173\ttotal: 4m 52s\tremaining: 2m 49s\n",
      "633:\tlearn: 0.2503792\ttotal: 4m 52s\tremaining: 2m 48s\n",
      "634:\tlearn: 0.2502286\ttotal: 4m 52s\tremaining: 2m 48s\n",
      "635:\tlearn: 0.2501248\ttotal: 4m 53s\tremaining: 2m 47s\n",
      "636:\tlearn: 0.2500319\ttotal: 4m 53s\tremaining: 2m 47s\n",
      "637:\tlearn: 0.2498868\ttotal: 4m 54s\tremaining: 2m 47s\n",
      "638:\tlearn: 0.2497497\ttotal: 4m 54s\tremaining: 2m 46s\n",
      "639:\tlearn: 0.2496493\ttotal: 4m 55s\tremaining: 2m 46s\n",
      "640:\tlearn: 0.2494647\ttotal: 4m 55s\tremaining: 2m 45s\n",
      "641:\tlearn: 0.2493240\ttotal: 4m 56s\tremaining: 2m 45s\n",
      "642:\tlearn: 0.2492898\ttotal: 4m 56s\tremaining: 2m 44s\n",
      "643:\tlearn: 0.2491427\ttotal: 4m 57s\tremaining: 2m 44s\n",
      "644:\tlearn: 0.2490849\ttotal: 4m 57s\tremaining: 2m 43s\n",
      "645:\tlearn: 0.2489932\ttotal: 4m 58s\tremaining: 2m 43s\n",
      "646:\tlearn: 0.2488461\ttotal: 4m 58s\tremaining: 2m 42s\n",
      "647:\tlearn: 0.2487014\ttotal: 4m 58s\tremaining: 2m 42s\n",
      "648:\tlearn: 0.2486656\ttotal: 4m 59s\tremaining: 2m 41s\n",
      "649:\tlearn: 0.2485625\ttotal: 4m 59s\tremaining: 2m 41s\n",
      "650:\tlearn: 0.2484490\ttotal: 5m\tremaining: 2m 40s\n",
      "651:\tlearn: 0.2483011\ttotal: 5m\tremaining: 2m 40s\n",
      "652:\tlearn: 0.2482111\ttotal: 5m 1s\tremaining: 2m 40s\n",
      "653:\tlearn: 0.2481628\ttotal: 5m 1s\tremaining: 2m 39s\n",
      "654:\tlearn: 0.2478969\ttotal: 5m 2s\tremaining: 2m 39s\n",
      "655:\tlearn: 0.2477845\ttotal: 5m 2s\tremaining: 2m 38s\n",
      "656:\tlearn: 0.2476874\ttotal: 5m 3s\tremaining: 2m 38s\n",
      "657:\tlearn: 0.2475648\ttotal: 5m 3s\tremaining: 2m 37s\n",
      "658:\tlearn: 0.2475134\ttotal: 5m 4s\tremaining: 2m 37s\n",
      "659:\tlearn: 0.2474048\ttotal: 5m 4s\tremaining: 2m 36s\n",
      "660:\tlearn: 0.2472114\ttotal: 5m 4s\tremaining: 2m 36s\n",
      "661:\tlearn: 0.2470762\ttotal: 5m 5s\tremaining: 2m 35s\n",
      "662:\tlearn: 0.2470339\ttotal: 5m 5s\tremaining: 2m 35s\n",
      "663:\tlearn: 0.2469322\ttotal: 5m 6s\tremaining: 2m 35s\n",
      "664:\tlearn: 0.2467921\ttotal: 5m 6s\tremaining: 2m 34s\n",
      "665:\tlearn: 0.2466459\ttotal: 5m 7s\tremaining: 2m 34s\n",
      "666:\tlearn: 0.2465296\ttotal: 5m 7s\tremaining: 2m 33s\n",
      "667:\tlearn: 0.2464933\ttotal: 5m 8s\tremaining: 2m 33s\n",
      "668:\tlearn: 0.2463728\ttotal: 5m 8s\tremaining: 2m 32s\n",
      "669:\tlearn: 0.2462255\ttotal: 5m 9s\tremaining: 2m 32s\n",
      "670:\tlearn: 0.2461235\ttotal: 5m 9s\tremaining: 2m 31s\n",
      "671:\tlearn: 0.2460171\ttotal: 5m 10s\tremaining: 2m 31s\n",
      "672:\tlearn: 0.2458531\ttotal: 5m 10s\tremaining: 2m 30s\n",
      "673:\tlearn: 0.2457331\ttotal: 5m 10s\tremaining: 2m 30s\n",
      "674:\tlearn: 0.2456246\ttotal: 5m 11s\tremaining: 2m 29s\n",
      "675:\tlearn: 0.2455258\ttotal: 5m 11s\tremaining: 2m 29s\n",
      "676:\tlearn: 0.2454093\ttotal: 5m 12s\tremaining: 2m 29s\n",
      "677:\tlearn: 0.2453760\ttotal: 5m 12s\tremaining: 2m 28s\n",
      "678:\tlearn: 0.2452264\ttotal: 5m 13s\tremaining: 2m 28s\n",
      "679:\tlearn: 0.2451458\ttotal: 5m 13s\tremaining: 2m 27s\n",
      "680:\tlearn: 0.2450312\ttotal: 5m 14s\tremaining: 2m 27s\n",
      "681:\tlearn: 0.2449406\ttotal: 5m 14s\tremaining: 2m 26s\n",
      "682:\tlearn: 0.2448847\ttotal: 5m 15s\tremaining: 2m 26s\n",
      "683:\tlearn: 0.2448296\ttotal: 5m 15s\tremaining: 2m 25s\n",
      "684:\tlearn: 0.2447209\ttotal: 5m 16s\tremaining: 2m 25s\n",
      "685:\tlearn: 0.2445693\ttotal: 5m 16s\tremaining: 2m 24s\n",
      "686:\tlearn: 0.2444685\ttotal: 5m 16s\tremaining: 2m 24s\n",
      "687:\tlearn: 0.2444389\ttotal: 5m 17s\tremaining: 2m 23s\n",
      "688:\tlearn: 0.2443339\ttotal: 5m 17s\tremaining: 2m 23s\n",
      "689:\tlearn: 0.2442558\ttotal: 5m 18s\tremaining: 2m 23s\n",
      "690:\tlearn: 0.2440902\ttotal: 5m 18s\tremaining: 2m 22s\n",
      "691:\tlearn: 0.2440181\ttotal: 5m 19s\tremaining: 2m 22s\n",
      "692:\tlearn: 0.2439773\ttotal: 5m 19s\tremaining: 2m 21s\n",
      "693:\tlearn: 0.2437975\ttotal: 5m 20s\tremaining: 2m 21s\n",
      "694:\tlearn: 0.2436790\ttotal: 5m 20s\tremaining: 2m 20s\n",
      "695:\tlearn: 0.2435756\ttotal: 5m 21s\tremaining: 2m 20s\n",
      "696:\tlearn: 0.2434581\ttotal: 5m 21s\tremaining: 2m 19s\n",
      "697:\tlearn: 0.2434259\ttotal: 5m 22s\tremaining: 2m 19s\n",
      "698:\tlearn: 0.2433199\ttotal: 5m 22s\tremaining: 2m 18s\n",
      "699:\tlearn: 0.2431966\ttotal: 5m 22s\tremaining: 2m 18s\n",
      "700:\tlearn: 0.2430792\ttotal: 5m 23s\tremaining: 2m 17s\n",
      "701:\tlearn: 0.2429933\ttotal: 5m 23s\tremaining: 2m 17s\n",
      "702:\tlearn: 0.2428694\ttotal: 5m 24s\tremaining: 2m 17s\n",
      "703:\tlearn: 0.2427582\ttotal: 5m 24s\tremaining: 2m 16s\n",
      "704:\tlearn: 0.2426277\ttotal: 5m 25s\tremaining: 2m 16s\n",
      "705:\tlearn: 0.2425952\ttotal: 5m 25s\tremaining: 2m 15s\n",
      "706:\tlearn: 0.2424743\ttotal: 5m 26s\tremaining: 2m 15s\n",
      "707:\tlearn: 0.2423708\ttotal: 5m 26s\tremaining: 2m 14s\n",
      "708:\tlearn: 0.2423353\ttotal: 5m 27s\tremaining: 2m 14s\n",
      "709:\tlearn: 0.2422035\ttotal: 5m 27s\tremaining: 2m 13s\n",
      "710:\tlearn: 0.2421209\ttotal: 5m 27s\tremaining: 2m 13s\n",
      "711:\tlearn: 0.2420851\ttotal: 5m 28s\tremaining: 2m 12s\n",
      "712:\tlearn: 0.2419841\ttotal: 5m 28s\tremaining: 2m 12s\n",
      "713:\tlearn: 0.2418442\ttotal: 5m 29s\tremaining: 2m 11s\n",
      "714:\tlearn: 0.2417892\ttotal: 5m 29s\tremaining: 2m 11s\n",
      "715:\tlearn: 0.2416890\ttotal: 5m 30s\tremaining: 2m 10s\n",
      "716:\tlearn: 0.2415827\ttotal: 5m 30s\tremaining: 2m 10s\n",
      "717:\tlearn: 0.2414885\ttotal: 5m 31s\tremaining: 2m 10s\n",
      "718:\tlearn: 0.2414547\ttotal: 5m 31s\tremaining: 2m 9s\n",
      "719:\tlearn: 0.2412889\ttotal: 5m 32s\tremaining: 2m 9s\n",
      "720:\tlearn: 0.2412291\ttotal: 5m 32s\tremaining: 2m 8s\n",
      "721:\tlearn: 0.2411115\ttotal: 5m 33s\tremaining: 2m 8s\n",
      "722:\tlearn: 0.2409988\ttotal: 5m 33s\tremaining: 2m 7s\n",
      "723:\tlearn: 0.2408530\ttotal: 5m 33s\tremaining: 2m 7s\n",
      "724:\tlearn: 0.2407508\ttotal: 5m 34s\tremaining: 2m 6s\n",
      "725:\tlearn: 0.2406294\ttotal: 5m 34s\tremaining: 2m 6s\n",
      "726:\tlearn: 0.2404291\ttotal: 5m 35s\tremaining: 2m 5s\n",
      "727:\tlearn: 0.2403991\ttotal: 5m 35s\tremaining: 2m 5s\n",
      "728:\tlearn: 0.2403128\ttotal: 5m 36s\tremaining: 2m 4s\n",
      "729:\tlearn: 0.2401202\ttotal: 5m 36s\tremaining: 2m 4s\n",
      "730:\tlearn: 0.2400587\ttotal: 5m 37s\tremaining: 2m 4s\n",
      "731:\tlearn: 0.2399340\ttotal: 5m 37s\tremaining: 2m 3s\n",
      "732:\tlearn: 0.2398782\ttotal: 5m 38s\tremaining: 2m 3s\n",
      "733:\tlearn: 0.2397626\ttotal: 5m 38s\tremaining: 2m 2s\n",
      "734:\tlearn: 0.2396567\ttotal: 5m 38s\tremaining: 2m 2s\n",
      "735:\tlearn: 0.2395551\ttotal: 5m 39s\tremaining: 2m 1s\n",
      "736:\tlearn: 0.2394400\ttotal: 5m 39s\tremaining: 2m 1s\n",
      "737:\tlearn: 0.2394102\ttotal: 5m 40s\tremaining: 2m\n",
      "738:\tlearn: 0.2392972\ttotal: 5m 40s\tremaining: 2m\n",
      "739:\tlearn: 0.2392027\ttotal: 5m 41s\tremaining: 1m 59s\n",
      "740:\tlearn: 0.2391522\ttotal: 5m 41s\tremaining: 1m 59s\n",
      "741:\tlearn: 0.2391160\ttotal: 5m 42s\tremaining: 1m 59s\n",
      "742:\tlearn: 0.2389917\ttotal: 5m 42s\tremaining: 1m 58s\n",
      "743:\tlearn: 0.2388997\ttotal: 5m 43s\tremaining: 1m 58s\n",
      "744:\tlearn: 0.2387864\ttotal: 5m 43s\tremaining: 1m 57s\n",
      "745:\tlearn: 0.2385987\ttotal: 5m 44s\tremaining: 1m 57s\n",
      "746:\tlearn: 0.2385397\ttotal: 5m 44s\tremaining: 1m 56s\n",
      "747:\tlearn: 0.2384236\ttotal: 5m 45s\tremaining: 1m 56s\n",
      "748:\tlearn: 0.2383183\ttotal: 5m 45s\tremaining: 1m 55s\n",
      "749:\tlearn: 0.2382197\ttotal: 5m 45s\tremaining: 1m 55s\n",
      "750:\tlearn: 0.2381894\ttotal: 5m 46s\tremaining: 1m 54s\n",
      "751:\tlearn: 0.2381308\ttotal: 5m 46s\tremaining: 1m 54s\n",
      "752:\tlearn: 0.2380281\ttotal: 5m 47s\tremaining: 1m 53s\n",
      "753:\tlearn: 0.2379136\ttotal: 5m 47s\tremaining: 1m 53s\n",
      "754:\tlearn: 0.2378675\ttotal: 5m 48s\tremaining: 1m 53s\n",
      "755:\tlearn: 0.2378372\ttotal: 5m 48s\tremaining: 1m 52s\n",
      "756:\tlearn: 0.2377951\ttotal: 5m 49s\tremaining: 1m 52s\n",
      "757:\tlearn: 0.2377693\ttotal: 5m 49s\tremaining: 1m 51s\n",
      "758:\tlearn: 0.2376516\ttotal: 5m 50s\tremaining: 1m 51s\n",
      "759:\tlearn: 0.2375316\ttotal: 5m 50s\tremaining: 1m 50s\n",
      "760:\tlearn: 0.2374427\ttotal: 5m 51s\tremaining: 1m 50s\n",
      "761:\tlearn: 0.2373587\ttotal: 5m 51s\tremaining: 1m 49s\n",
      "762:\tlearn: 0.2373152\ttotal: 5m 51s\tremaining: 1m 49s\n",
      "763:\tlearn: 0.2371872\ttotal: 5m 52s\tremaining: 1m 48s\n",
      "764:\tlearn: 0.2370056\ttotal: 5m 52s\tremaining: 1m 48s\n",
      "765:\tlearn: 0.2369792\ttotal: 5m 53s\tremaining: 1m 47s\n",
      "766:\tlearn: 0.2368945\ttotal: 5m 53s\tremaining: 1m 47s\n",
      "767:\tlearn: 0.2367744\ttotal: 5m 54s\tremaining: 1m 47s\n",
      "768:\tlearn: 0.2367312\ttotal: 5m 54s\tremaining: 1m 46s\n",
      "769:\tlearn: 0.2366394\ttotal: 5m 55s\tremaining: 1m 46s\n",
      "770:\tlearn: 0.2365701\ttotal: 5m 55s\tremaining: 1m 45s\n",
      "771:\tlearn: 0.2365239\ttotal: 5m 56s\tremaining: 1m 45s\n",
      "772:\tlearn: 0.2363704\ttotal: 5m 56s\tremaining: 1m 44s\n",
      "773:\tlearn: 0.2363394\ttotal: 5m 57s\tremaining: 1m 44s\n",
      "774:\tlearn: 0.2362306\ttotal: 5m 57s\tremaining: 1m 43s\n",
      "775:\tlearn: 0.2361027\ttotal: 5m 58s\tremaining: 1m 43s\n",
      "776:\tlearn: 0.2359999\ttotal: 5m 58s\tremaining: 1m 42s\n",
      "777:\tlearn: 0.2358956\ttotal: 5m 59s\tremaining: 1m 42s\n",
      "778:\tlearn: 0.2358001\ttotal: 5m 59s\tremaining: 1m 42s\n",
      "779:\tlearn: 0.2357112\ttotal: 6m\tremaining: 1m 41s\n",
      "780:\tlearn: 0.2355955\ttotal: 6m\tremaining: 1m 41s\n",
      "781:\tlearn: 0.2354878\ttotal: 6m\tremaining: 1m 40s\n",
      "782:\tlearn: 0.2354192\ttotal: 6m 1s\tremaining: 1m 40s\n",
      "783:\tlearn: 0.2352990\ttotal: 6m 1s\tremaining: 1m 39s\n",
      "784:\tlearn: 0.2351695\ttotal: 6m 2s\tremaining: 1m 39s\n",
      "785:\tlearn: 0.2350803\ttotal: 6m 2s\tremaining: 1m 38s\n",
      "786:\tlearn: 0.2349801\ttotal: 6m 3s\tremaining: 1m 38s\n",
      "787:\tlearn: 0.2348421\ttotal: 6m 3s\tremaining: 1m 37s\n",
      "788:\tlearn: 0.2347336\ttotal: 6m 4s\tremaining: 1m 37s\n",
      "789:\tlearn: 0.2346293\ttotal: 6m 4s\tremaining: 1m 36s\n",
      "790:\tlearn: 0.2344821\ttotal: 6m 5s\tremaining: 1m 36s\n",
      "791:\tlearn: 0.2344440\ttotal: 6m 5s\tremaining: 1m 36s\n",
      "792:\tlearn: 0.2343586\ttotal: 6m 6s\tremaining: 1m 35s\n",
      "793:\tlearn: 0.2342832\ttotal: 6m 6s\tremaining: 1m 35s\n",
      "794:\tlearn: 0.2341885\ttotal: 6m 6s\tremaining: 1m 34s\n",
      "795:\tlearn: 0.2340618\ttotal: 6m 7s\tremaining: 1m 34s\n",
      "796:\tlearn: 0.2340254\ttotal: 6m 7s\tremaining: 1m 33s\n",
      "797:\tlearn: 0.2339451\ttotal: 6m 8s\tremaining: 1m 33s\n",
      "798:\tlearn: 0.2338366\ttotal: 6m 8s\tremaining: 1m 32s\n",
      "799:\tlearn: 0.2337241\ttotal: 6m 9s\tremaining: 1m 32s\n",
      "800:\tlearn: 0.2336935\ttotal: 6m 9s\tremaining: 1m 31s\n",
      "801:\tlearn: 0.2335171\ttotal: 6m 10s\tremaining: 1m 31s\n",
      "802:\tlearn: 0.2333986\ttotal: 6m 10s\tremaining: 1m 30s\n",
      "803:\tlearn: 0.2332985\ttotal: 6m 11s\tremaining: 1m 30s\n",
      "804:\tlearn: 0.2332052\ttotal: 6m 11s\tremaining: 1m 30s\n",
      "805:\tlearn: 0.2330779\ttotal: 6m 12s\tremaining: 1m 29s\n",
      "806:\tlearn: 0.2329718\ttotal: 6m 12s\tremaining: 1m 29s\n",
      "807:\tlearn: 0.2328899\ttotal: 6m 13s\tremaining: 1m 28s\n",
      "808:\tlearn: 0.2328068\ttotal: 6m 13s\tremaining: 1m 28s\n",
      "809:\tlearn: 0.2327176\ttotal: 6m 13s\tremaining: 1m 27s\n",
      "810:\tlearn: 0.2326138\ttotal: 6m 14s\tremaining: 1m 27s\n",
      "811:\tlearn: 0.2324861\ttotal: 6m 14s\tremaining: 1m 26s\n",
      "812:\tlearn: 0.2323339\ttotal: 6m 15s\tremaining: 1m 26s\n",
      "813:\tlearn: 0.2322112\ttotal: 6m 15s\tremaining: 1m 25s\n",
      "814:\tlearn: 0.2320255\ttotal: 6m 16s\tremaining: 1m 25s\n",
      "815:\tlearn: 0.2318936\ttotal: 6m 16s\tremaining: 1m 24s\n",
      "816:\tlearn: 0.2318242\ttotal: 6m 17s\tremaining: 1m 24s\n",
      "817:\tlearn: 0.2317184\ttotal: 6m 17s\tremaining: 1m 24s\n",
      "818:\tlearn: 0.2316141\ttotal: 6m 18s\tremaining: 1m 23s\n",
      "819:\tlearn: 0.2315414\ttotal: 6m 18s\tremaining: 1m 23s\n",
      "820:\tlearn: 0.2314681\ttotal: 6m 19s\tremaining: 1m 22s\n",
      "821:\tlearn: 0.2313611\ttotal: 6m 19s\tremaining: 1m 22s\n",
      "822:\tlearn: 0.2312706\ttotal: 6m 20s\tremaining: 1m 21s\n",
      "823:\tlearn: 0.2311786\ttotal: 6m 20s\tremaining: 1m 21s\n",
      "824:\tlearn: 0.2311127\ttotal: 6m 20s\tremaining: 1m 20s\n",
      "825:\tlearn: 0.2310432\ttotal: 6m 21s\tremaining: 1m 20s\n",
      "826:\tlearn: 0.2309337\ttotal: 6m 21s\tremaining: 1m 19s\n",
      "827:\tlearn: 0.2308642\ttotal: 6m 22s\tremaining: 1m 19s\n",
      "828:\tlearn: 0.2307685\ttotal: 6m 22s\tremaining: 1m 18s\n",
      "829:\tlearn: 0.2307226\ttotal: 6m 23s\tremaining: 1m 18s\n",
      "830:\tlearn: 0.2306258\ttotal: 6m 23s\tremaining: 1m 18s\n",
      "831:\tlearn: 0.2305398\ttotal: 6m 24s\tremaining: 1m 17s\n",
      "832:\tlearn: 0.2303467\ttotal: 6m 24s\tremaining: 1m 17s\n",
      "833:\tlearn: 0.2303128\ttotal: 6m 25s\tremaining: 1m 16s\n",
      "834:\tlearn: 0.2302836\ttotal: 6m 25s\tremaining: 1m 16s\n",
      "835:\tlearn: 0.2302035\ttotal: 6m 25s\tremaining: 1m 15s\n",
      "836:\tlearn: 0.2300956\ttotal: 6m 26s\tremaining: 1m 15s\n",
      "837:\tlearn: 0.2300327\ttotal: 6m 26s\tremaining: 1m 14s\n",
      "838:\tlearn: 0.2299317\ttotal: 6m 27s\tremaining: 1m 14s\n",
      "839:\tlearn: 0.2298436\ttotal: 6m 27s\tremaining: 1m 13s\n",
      "840:\tlearn: 0.2297877\ttotal: 6m 28s\tremaining: 1m 13s\n",
      "841:\tlearn: 0.2297373\ttotal: 6m 28s\tremaining: 1m 12s\n",
      "842:\tlearn: 0.2294623\ttotal: 6m 29s\tremaining: 1m 12s\n",
      "843:\tlearn: 0.2293558\ttotal: 6m 29s\tremaining: 1m 12s\n",
      "844:\tlearn: 0.2292953\ttotal: 6m 30s\tremaining: 1m 11s\n",
      "845:\tlearn: 0.2292325\ttotal: 6m 30s\tremaining: 1m 11s\n",
      "846:\tlearn: 0.2291611\ttotal: 6m 31s\tremaining: 1m 10s\n",
      "847:\tlearn: 0.2290751\ttotal: 6m 31s\tremaining: 1m 10s\n",
      "848:\tlearn: 0.2289844\ttotal: 6m 31s\tremaining: 1m 9s\n",
      "849:\tlearn: 0.2288876\ttotal: 6m 32s\tremaining: 1m 9s\n",
      "850:\tlearn: 0.2288007\ttotal: 6m 32s\tremaining: 1m 8s\n",
      "851:\tlearn: 0.2287701\ttotal: 6m 33s\tremaining: 1m 8s\n",
      "852:\tlearn: 0.2287422\ttotal: 6m 33s\tremaining: 1m 7s\n",
      "853:\tlearn: 0.2285491\ttotal: 6m 34s\tremaining: 1m 7s\n",
      "854:\tlearn: 0.2285019\ttotal: 6m 34s\tremaining: 1m 6s\n",
      "855:\tlearn: 0.2284167\ttotal: 6m 35s\tremaining: 1m 6s\n",
      "856:\tlearn: 0.2283705\ttotal: 6m 35s\tremaining: 1m 5s\n",
      "857:\tlearn: 0.2282413\ttotal: 6m 35s\tremaining: 1m 5s\n",
      "858:\tlearn: 0.2282114\ttotal: 6m 36s\tremaining: 1m 5s\n",
      "859:\tlearn: 0.2281001\ttotal: 6m 36s\tremaining: 1m 4s\n",
      "860:\tlearn: 0.2279950\ttotal: 6m 37s\tremaining: 1m 4s\n",
      "861:\tlearn: 0.2278492\ttotal: 6m 37s\tremaining: 1m 3s\n",
      "862:\tlearn: 0.2278183\ttotal: 6m 38s\tremaining: 1m 3s\n",
      "863:\tlearn: 0.2277303\ttotal: 6m 38s\tremaining: 1m 2s\n",
      "864:\tlearn: 0.2277035\ttotal: 6m 39s\tremaining: 1m 2s\n",
      "865:\tlearn: 0.2276063\ttotal: 6m 39s\tremaining: 1m 1s\n",
      "866:\tlearn: 0.2275219\ttotal: 6m 40s\tremaining: 1m 1s\n",
      "867:\tlearn: 0.2274471\ttotal: 6m 40s\tremaining: 1m\n",
      "868:\tlearn: 0.2273422\ttotal: 6m 40s\tremaining: 1m\n",
      "869:\tlearn: 0.2272366\ttotal: 6m 41s\tremaining: 60s\n",
      "870:\tlearn: 0.2271384\ttotal: 6m 41s\tremaining: 59.5s\n",
      "871:\tlearn: 0.2271124\ttotal: 6m 42s\tremaining: 59s\n",
      "872:\tlearn: 0.2270207\ttotal: 6m 42s\tremaining: 58.6s\n",
      "873:\tlearn: 0.2269201\ttotal: 6m 43s\tremaining: 58.1s\n",
      "874:\tlearn: 0.2268920\ttotal: 6m 43s\tremaining: 57.7s\n",
      "875:\tlearn: 0.2267719\ttotal: 6m 44s\tremaining: 57.2s\n",
      "876:\tlearn: 0.2266757\ttotal: 6m 44s\tremaining: 56.8s\n",
      "877:\tlearn: 0.2266311\ttotal: 6m 45s\tremaining: 56.3s\n",
      "878:\tlearn: 0.2265370\ttotal: 6m 45s\tremaining: 55.8s\n",
      "879:\tlearn: 0.2264625\ttotal: 6m 46s\tremaining: 55.4s\n",
      "880:\tlearn: 0.2264309\ttotal: 6m 46s\tremaining: 54.9s\n",
      "881:\tlearn: 0.2263981\ttotal: 6m 46s\tremaining: 54.4s\n",
      "882:\tlearn: 0.2263193\ttotal: 6m 47s\tremaining: 54s\n",
      "883:\tlearn: 0.2262308\ttotal: 6m 47s\tremaining: 53.5s\n",
      "884:\tlearn: 0.2261541\ttotal: 6m 48s\tremaining: 53.1s\n",
      "885:\tlearn: 0.2260786\ttotal: 6m 48s\tremaining: 52.6s\n",
      "886:\tlearn: 0.2259775\ttotal: 6m 49s\tremaining: 52.1s\n",
      "887:\tlearn: 0.2259171\ttotal: 6m 49s\tremaining: 51.7s\n",
      "888:\tlearn: 0.2258491\ttotal: 6m 50s\tremaining: 51.2s\n",
      "889:\tlearn: 0.2257724\ttotal: 6m 50s\tremaining: 50.8s\n",
      "890:\tlearn: 0.2256004\ttotal: 6m 51s\tremaining: 50.3s\n",
      "891:\tlearn: 0.2255611\ttotal: 6m 51s\tremaining: 49.8s\n",
      "892:\tlearn: 0.2254378\ttotal: 6m 52s\tremaining: 49.4s\n",
      "893:\tlearn: 0.2253377\ttotal: 6m 52s\tremaining: 48.9s\n",
      "894:\tlearn: 0.2253106\ttotal: 6m 53s\tremaining: 48.5s\n",
      "895:\tlearn: 0.2251844\ttotal: 6m 53s\tremaining: 48s\n",
      "896:\tlearn: 0.2250791\ttotal: 6m 54s\tremaining: 47.5s\n",
      "897:\tlearn: 0.2249668\ttotal: 6m 54s\tremaining: 47.1s\n",
      "898:\tlearn: 0.2248605\ttotal: 6m 54s\tremaining: 46.6s\n",
      "899:\tlearn: 0.2248346\ttotal: 6m 55s\tremaining: 46.2s\n",
      "900:\tlearn: 0.2247602\ttotal: 6m 55s\tremaining: 45.7s\n",
      "901:\tlearn: 0.2246753\ttotal: 6m 56s\tremaining: 45.2s\n",
      "902:\tlearn: 0.2246394\ttotal: 6m 56s\tremaining: 44.8s\n",
      "903:\tlearn: 0.2244325\ttotal: 6m 57s\tremaining: 44.3s\n",
      "904:\tlearn: 0.2244083\ttotal: 6m 57s\tremaining: 43.8s\n",
      "905:\tlearn: 0.2243246\ttotal: 6m 58s\tremaining: 43.4s\n",
      "906:\tlearn: 0.2242009\ttotal: 6m 58s\tremaining: 42.9s\n",
      "907:\tlearn: 0.2241583\ttotal: 6m 59s\tremaining: 42.5s\n",
      "908:\tlearn: 0.2241136\ttotal: 6m 59s\tremaining: 42s\n",
      "909:\tlearn: 0.2240474\ttotal: 7m\tremaining: 41.5s\n",
      "910:\tlearn: 0.2240212\ttotal: 7m\tremaining: 41.1s\n",
      "911:\tlearn: 0.2239062\ttotal: 7m\tremaining: 40.6s\n",
      "912:\tlearn: 0.2238085\ttotal: 7m 1s\tremaining: 40.2s\n",
      "913:\tlearn: 0.2237395\ttotal: 7m 1s\tremaining: 39.7s\n",
      "914:\tlearn: 0.2236545\ttotal: 7m 2s\tremaining: 39.2s\n",
      "915:\tlearn: 0.2235872\ttotal: 7m 2s\tremaining: 38.8s\n",
      "916:\tlearn: 0.2234620\ttotal: 7m 3s\tremaining: 38.3s\n",
      "917:\tlearn: 0.2233555\ttotal: 7m 3s\tremaining: 37.8s\n",
      "918:\tlearn: 0.2232959\ttotal: 7m 4s\tremaining: 37.4s\n",
      "919:\tlearn: 0.2232596\ttotal: 7m 4s\tremaining: 36.9s\n",
      "920:\tlearn: 0.2231758\ttotal: 7m 5s\tremaining: 36.5s\n",
      "921:\tlearn: 0.2231361\ttotal: 7m 5s\tremaining: 36s\n",
      "922:\tlearn: 0.2230412\ttotal: 7m 5s\tremaining: 35.5s\n",
      "923:\tlearn: 0.2229680\ttotal: 7m 6s\tremaining: 35.1s\n",
      "924:\tlearn: 0.2229118\ttotal: 7m 6s\tremaining: 34.6s\n",
      "925:\tlearn: 0.2228026\ttotal: 7m 7s\tremaining: 34.1s\n",
      "926:\tlearn: 0.2227021\ttotal: 7m 7s\tremaining: 33.7s\n",
      "927:\tlearn: 0.2226019\ttotal: 7m 8s\tremaining: 33.2s\n",
      "928:\tlearn: 0.2225218\ttotal: 7m 8s\tremaining: 32.8s\n",
      "929:\tlearn: 0.2224964\ttotal: 7m 9s\tremaining: 32.3s\n",
      "930:\tlearn: 0.2224039\ttotal: 7m 9s\tremaining: 31.8s\n",
      "931:\tlearn: 0.2223236\ttotal: 7m 10s\tremaining: 31.4s\n",
      "932:\tlearn: 0.2222735\ttotal: 7m 10s\tremaining: 30.9s\n",
      "933:\tlearn: 0.2221805\ttotal: 7m 10s\tremaining: 30.5s\n",
      "934:\tlearn: 0.2221025\ttotal: 7m 11s\tremaining: 30s\n",
      "935:\tlearn: 0.2219938\ttotal: 7m 11s\tremaining: 29.5s\n",
      "936:\tlearn: 0.2219633\ttotal: 7m 12s\tremaining: 29.1s\n",
      "937:\tlearn: 0.2219310\ttotal: 7m 12s\tremaining: 28.6s\n",
      "938:\tlearn: 0.2218632\ttotal: 7m 13s\tremaining: 28.1s\n",
      "939:\tlearn: 0.2217227\ttotal: 7m 13s\tremaining: 27.7s\n",
      "940:\tlearn: 0.2216555\ttotal: 7m 14s\tremaining: 27.2s\n",
      "941:\tlearn: 0.2214202\ttotal: 7m 14s\tremaining: 26.8s\n",
      "942:\tlearn: 0.2213394\ttotal: 7m 15s\tremaining: 26.3s\n",
      "943:\tlearn: 0.2213142\ttotal: 7m 15s\tremaining: 25.8s\n",
      "944:\tlearn: 0.2212293\ttotal: 7m 16s\tremaining: 25.4s\n",
      "945:\tlearn: 0.2211196\ttotal: 7m 16s\tremaining: 24.9s\n",
      "946:\tlearn: 0.2210281\ttotal: 7m 16s\tremaining: 24.5s\n",
      "947:\tlearn: 0.2209652\ttotal: 7m 17s\tremaining: 24s\n",
      "948:\tlearn: 0.2208957\ttotal: 7m 17s\tremaining: 23.5s\n",
      "949:\tlearn: 0.2208724\ttotal: 7m 18s\tremaining: 23.1s\n",
      "950:\tlearn: 0.2207841\ttotal: 7m 18s\tremaining: 22.6s\n",
      "951:\tlearn: 0.2205222\ttotal: 7m 19s\tremaining: 22.1s\n",
      "952:\tlearn: 0.2204412\ttotal: 7m 19s\tremaining: 21.7s\n",
      "953:\tlearn: 0.2203754\ttotal: 7m 20s\tremaining: 21.2s\n",
      "954:\tlearn: 0.2202983\ttotal: 7m 20s\tremaining: 20.8s\n",
      "955:\tlearn: 0.2202595\ttotal: 7m 21s\tremaining: 20.3s\n",
      "956:\tlearn: 0.2201100\ttotal: 7m 21s\tremaining: 19.8s\n",
      "957:\tlearn: 0.2200859\ttotal: 7m 22s\tremaining: 19.4s\n",
      "958:\tlearn: 0.2199922\ttotal: 7m 22s\tremaining: 18.9s\n",
      "959:\tlearn: 0.2199385\ttotal: 7m 22s\tremaining: 18.5s\n",
      "960:\tlearn: 0.2198447\ttotal: 7m 23s\tremaining: 18s\n",
      "961:\tlearn: 0.2197514\ttotal: 7m 23s\tremaining: 17.5s\n",
      "962:\tlearn: 0.2196749\ttotal: 7m 24s\tremaining: 17.1s\n",
      "963:\tlearn: 0.2195898\ttotal: 7m 24s\tremaining: 16.6s\n",
      "964:\tlearn: 0.2194997\ttotal: 7m 25s\tremaining: 16.2s\n",
      "965:\tlearn: 0.2194786\ttotal: 7m 25s\tremaining: 15.7s\n",
      "966:\tlearn: 0.2193767\ttotal: 7m 26s\tremaining: 15.2s\n",
      "967:\tlearn: 0.2192929\ttotal: 7m 26s\tremaining: 14.8s\n",
      "968:\tlearn: 0.2192384\ttotal: 7m 27s\tremaining: 14.3s\n",
      "969:\tlearn: 0.2191446\ttotal: 7m 27s\tremaining: 13.8s\n",
      "970:\tlearn: 0.2190891\ttotal: 7m 28s\tremaining: 13.4s\n",
      "971:\tlearn: 0.2189946\ttotal: 7m 28s\tremaining: 12.9s\n",
      "972:\tlearn: 0.2188716\ttotal: 7m 29s\tremaining: 12.5s\n",
      "973:\tlearn: 0.2187907\ttotal: 7m 29s\tremaining: 12s\n",
      "974:\tlearn: 0.2187670\ttotal: 7m 29s\tremaining: 11.5s\n",
      "975:\tlearn: 0.2187118\ttotal: 7m 30s\tremaining: 11.1s\n",
      "976:\tlearn: 0.2186291\ttotal: 7m 30s\tremaining: 10.6s\n",
      "977:\tlearn: 0.2186087\ttotal: 7m 31s\tremaining: 10.2s\n",
      "978:\tlearn: 0.2185456\ttotal: 7m 31s\tremaining: 9.69s\n",
      "979:\tlearn: 0.2185257\ttotal: 7m 32s\tremaining: 9.23s\n",
      "980:\tlearn: 0.2184364\ttotal: 7m 32s\tremaining: 8.77s\n",
      "981:\tlearn: 0.2183551\ttotal: 7m 33s\tremaining: 8.31s\n",
      "982:\tlearn: 0.2182680\ttotal: 7m 33s\tremaining: 7.84s\n",
      "983:\tlearn: 0.2181884\ttotal: 7m 34s\tremaining: 7.38s\n",
      "984:\tlearn: 0.2180874\ttotal: 7m 34s\tremaining: 6.92s\n",
      "985:\tlearn: 0.2180631\ttotal: 7m 34s\tremaining: 6.46s\n",
      "986:\tlearn: 0.2179709\ttotal: 7m 35s\tremaining: 6s\n",
      "987:\tlearn: 0.2179341\ttotal: 7m 35s\tremaining: 5.54s\n",
      "988:\tlearn: 0.2178662\ttotal: 7m 36s\tremaining: 5.08s\n",
      "989:\tlearn: 0.2177462\ttotal: 7m 36s\tremaining: 4.61s\n",
      "990:\tlearn: 0.2176721\ttotal: 7m 37s\tremaining: 4.15s\n",
      "991:\tlearn: 0.2176026\ttotal: 7m 37s\tremaining: 3.69s\n",
      "992:\tlearn: 0.2175830\ttotal: 7m 38s\tremaining: 3.23s\n",
      "993:\tlearn: 0.2175389\ttotal: 7m 38s\tremaining: 2.77s\n",
      "994:\tlearn: 0.2174375\ttotal: 7m 39s\tremaining: 2.31s\n",
      "995:\tlearn: 0.2173813\ttotal: 7m 39s\tremaining: 1.84s\n",
      "996:\tlearn: 0.2173555\ttotal: 7m 40s\tremaining: 1.38s\n",
      "997:\tlearn: 0.2172618\ttotal: 7m 40s\tremaining: 923ms\n",
      "998:\tlearn: 0.2171836\ttotal: 7m 41s\tremaining: 461ms\n",
      "999:\tlearn: 0.2171063\ttotal: 7m 41s\tremaining: 0us\n"
     ]
    },
    {
     "data": {
      "text/plain": [
       "0.7881614475594556"
      ]
     },
     "execution_count": 78,
     "metadata": {},
     "output_type": "execute_result"
    }
   ],
   "source": [
    "p_cb = pipe_cb.fit(features_train, target_train)\n",
    "cross_val_score(p_dt, features_train, target_train, scoring='f1').mean()"
   ]
  },
  {
   "cell_type": "code",
   "execution_count": 67,
   "metadata": {},
   "outputs": [
    {
     "name": "stderr",
     "output_type": "stream",
     "text": [
      "C:\\Users\\Dmitri\\AppData\\Local\\Temp\\ipykernel_20904\\692210264.py:1: FutureWarning: The frame.append method is deprecated and will be removed from pandas in a future version. Use pandas.concat instead.\n",
      "  answer = answer.append({'model':'p_svm', 'f1_score':0.788161}, ignore_index=True)\n"
     ]
    },
    {
     "data": {
      "text/html": [
       "<div>\n",
       "<style scoped>\n",
       "    .dataframe tbody tr th:only-of-type {\n",
       "        vertical-align: middle;\n",
       "    }\n",
       "\n",
       "    .dataframe tbody tr th {\n",
       "        vertical-align: top;\n",
       "    }\n",
       "\n",
       "    .dataframe thead th {\n",
       "        text-align: right;\n",
       "    }\n",
       "</style>\n",
       "<table border=\"1\" class=\"dataframe\">\n",
       "  <thead>\n",
       "    <tr style=\"text-align: right;\">\n",
       "      <th></th>\n",
       "      <th>model</th>\n",
       "      <th>f1_score</th>\n",
       "    </tr>\n",
       "  </thead>\n",
       "  <tbody>\n",
       "    <tr>\n",
       "      <th>0</th>\n",
       "      <td>LogisticRegression</td>\n",
       "      <td>0.886277</td>\n",
       "    </tr>\n",
       "    <tr>\n",
       "      <th>1</th>\n",
       "      <td>RandomForestClassifier</td>\n",
       "      <td>0.845060</td>\n",
       "    </tr>\n",
       "    <tr>\n",
       "      <th>2</th>\n",
       "      <td>LGBMClassifier</td>\n",
       "      <td>0.703981</td>\n",
       "    </tr>\n",
       "    <tr>\n",
       "      <th>3</th>\n",
       "      <td>p_log</td>\n",
       "      <td>0.888000</td>\n",
       "    </tr>\n",
       "    <tr>\n",
       "      <th>4</th>\n",
       "      <td>p_dt</td>\n",
       "      <td>0.788161</td>\n",
       "    </tr>\n",
       "    <tr>\n",
       "      <th>5</th>\n",
       "      <td>p_rf</td>\n",
       "      <td>0.788161</td>\n",
       "    </tr>\n",
       "    <tr>\n",
       "      <th>6</th>\n",
       "      <td>p_svm</td>\n",
       "      <td>0.788161</td>\n",
       "    </tr>\n",
       "  </tbody>\n",
       "</table>\n",
       "</div>"
      ],
      "text/plain": [
       "                    model  f1_score\n",
       "0      LogisticRegression  0.886277\n",
       "1  RandomForestClassifier  0.845060\n",
       "2          LGBMClassifier  0.703981\n",
       "3                   p_log  0.888000\n",
       "4                    p_dt  0.788161\n",
       "5                    p_rf  0.788161\n",
       "6                   p_svm  0.788161"
      ]
     },
     "execution_count": 67,
     "metadata": {},
     "output_type": "execute_result"
    }
   ],
   "source": [
    "answer = answer.append({'model':'p_svm', 'f1_score': }, ignore_index=True)\n",
    "answer"
   ]
  },
  {
   "cell_type": "markdown",
   "metadata": {
    "id": "vmtUH5X7uR8I"
   },
   "source": [
    "<div style=\"border:solid #81d8e6 2px; padding: 10px\">\n",
    "Лучшей моделью стала модель p_log.\n",
    "</div>"
   ]
  },
  {
   "cell_type": "markdown",
   "metadata": {},
   "source": [
    "### Проверка на тестовой выборке"
   ]
  },
  {
   "cell_type": "code",
   "execution_count": 69,
   "metadata": {},
   "outputs": [
    {
     "data": {
      "text/plain": [
       "0.6603702304495656"
      ]
     },
     "execution_count": 69,
     "metadata": {},
     "output_type": "execute_result"
    }
   ],
   "source": [
    "f1_score(p_log.predict(features_valid), target_valid)"
   ]
  },
  {
   "cell_type": "code",
   "execution_count": 79,
   "metadata": {},
   "outputs": [
    {
     "data": {
      "text/plain": [
       "0.692556634304207"
      ]
     },
     "execution_count": 79,
     "metadata": {},
     "output_type": "execute_result"
    }
   ],
   "source": [
    "f1_score(p_cb.predict(features_valid), target_valid)"
   ]
  },
  {
   "cell_type": "code",
   "execution_count": 72,
   "metadata": {},
   "outputs": [
    {
     "data": {
      "text/plain": [
       "0.6780185758513931"
      ]
     },
     "execution_count": 72,
     "metadata": {},
     "output_type": "execute_result"
    }
   ],
   "source": [
    "f1_score(p_svm.predict(features_valid), target_valid)"
   ]
  },
  {
   "cell_type": "code",
   "execution_count": 76,
   "metadata": {},
   "outputs": [
    {
     "data": {
      "text/plain": [
       "0.7039810800157666"
      ]
     },
     "execution_count": 76,
     "metadata": {},
     "output_type": "execute_result"
    }
   ],
   "source": [
    "f1_score(lgbm.predict(tf_idf_test), target_valid)"
   ]
  },
  {
   "cell_type": "markdown",
   "metadata": {
    "id": "vmtUH5X7uR8I"
   },
   "source": [
    "<div style=\"border:solid #81d8e6 2px; padding: 10px\">\n",
    "Мы заметили, что в данном случае тестовые модели не оправдывают заданное качество.\n",
    "</div>"
   ]
  },
  {
   "cell_type": "markdown",
   "metadata": {
    "id": "urgEAhb5uR8I"
   },
   "source": [
    "## Выводы"
   ]
  },
  {
   "cell_type": "markdown",
   "metadata": {
    "id": "2E4qAPcWuR8I"
   },
   "source": [
    "- затраченное время: около часа\n",
    "- качество f1=0.70"
   ]
  },
  {
   "cell_type": "markdown",
   "metadata": {
    "id": "urgEAhb5uR8I"
   },
   "source": [
    "# Вывод по проекту"
   ]
  },
  {
   "cell_type": "markdown",
   "metadata": {
    "id": "XFcpU12-uR8J"
   },
   "source": [
    "<div style=\"border:solid #81d8e6 2px; padding: 10px\">\n",
    "Мы проверили три метода решения задачи.\n",
    "    \n",
    "    - с универсальной моделью Bert\n",
    "    - с дообученной моделью Bert\n",
    "    - без Bert, с помощью tf_idf\n",
    "    \n",
    "Результаты соответственно:\n",
    "    \n",
    "    - Универсальная Bert: 0.79\n",
    "    - Дообученная Bert: 0.92\n",
    "    - Методом tf_idf: 0.70\n",
    "    \n",
    "Советуется использовать дообученную модель Bert. \n",
    "</div>"
   ]
  }
 ],
 "metadata": {
  "ExecuteTimeLog": [
   {
    "duration": 2469,
    "start_time": "2023-01-22T08:14:51.795Z"
   },
   {
    "duration": 3266,
    "start_time": "2023-01-22T08:15:27.215Z"
   },
   {
    "duration": 155,
    "start_time": "2023-01-22T08:16:40.283Z"
   },
   {
    "duration": 840,
    "start_time": "2023-01-22T08:17:02.285Z"
   },
   {
    "duration": 34,
    "start_time": "2023-01-22T08:18:29.989Z"
   },
   {
    "duration": 10,
    "start_time": "2023-01-22T08:21:23.089Z"
   },
   {
    "duration": 21,
    "start_time": "2023-01-22T08:21:29.213Z"
   },
   {
    "duration": 5,
    "start_time": "2023-01-22T08:21:45.846Z"
   },
   {
    "duration": 31,
    "start_time": "2023-01-22T08:21:46.555Z"
   },
   {
    "duration": 90,
    "start_time": "2023-01-22T08:24:55.693Z"
   },
   {
    "duration": 6,
    "start_time": "2023-01-22T08:26:22.025Z"
   },
   {
    "duration": 16,
    "start_time": "2023-01-22T08:26:53.595Z"
   },
   {
    "duration": 528,
    "start_time": "2023-01-22T08:27:07.265Z"
   },
   {
    "duration": 144,
    "start_time": "2023-01-22T08:27:41.778Z"
   },
   {
    "duration": 89,
    "start_time": "2023-01-22T08:27:51.303Z"
   },
   {
    "duration": 29,
    "start_time": "2023-01-22T08:28:19.415Z"
   },
   {
    "duration": 95,
    "start_time": "2023-01-22T08:28:23.677Z"
   },
   {
    "duration": 84,
    "start_time": "2023-01-22T08:28:29.699Z"
   },
   {
    "duration": 74,
    "start_time": "2023-01-22T08:28:36.360Z"
   },
   {
    "duration": 90,
    "start_time": "2023-01-22T08:31:10.475Z"
   },
   {
    "duration": 123,
    "start_time": "2023-01-22T08:31:15.043Z"
   },
   {
    "duration": 288,
    "start_time": "2023-01-22T08:31:18.823Z"
   },
   {
    "duration": 147,
    "start_time": "2023-01-22T08:31:26.968Z"
   },
   {
    "duration": 6,
    "start_time": "2023-01-22T08:31:45.285Z"
   },
   {
    "duration": 151,
    "start_time": "2023-01-22T08:31:51.883Z"
   },
   {
    "duration": 3,
    "start_time": "2023-01-22T08:34:55.867Z"
   },
   {
    "duration": 5,
    "start_time": "2023-01-22T08:40:02.283Z"
   },
   {
    "duration": 12,
    "start_time": "2023-01-22T08:40:02.883Z"
   },
   {
    "duration": 118,
    "start_time": "2023-01-22T08:41:11.795Z"
   },
   {
    "duration": 4,
    "start_time": "2023-01-22T08:41:13.370Z"
   },
   {
    "duration": 35,
    "start_time": "2023-01-22T08:41:14.078Z"
   },
   {
    "duration": 6,
    "start_time": "2023-01-22T08:41:48.952Z"
   },
   {
    "duration": 164,
    "start_time": "2023-01-22T08:41:53.483Z"
   },
   {
    "duration": 179,
    "start_time": "2023-01-22T08:42:26.803Z"
   },
   {
    "duration": 184,
    "start_time": "2023-01-22T08:43:03.284Z"
   },
   {
    "duration": 170,
    "start_time": "2023-01-22T08:43:11.803Z"
   },
   {
    "duration": 28,
    "start_time": "2023-01-22T08:43:18.015Z"
   },
   {
    "duration": 204,
    "start_time": "2023-01-22T08:43:22.974Z"
   },
   {
    "duration": 9,
    "start_time": "2023-01-22T08:44:40.369Z"
   },
   {
    "duration": 4,
    "start_time": "2023-01-22T08:49:48.132Z"
   },
   {
    "duration": 163,
    "start_time": "2023-01-22T08:49:48.661Z"
   },
   {
    "duration": 173,
    "start_time": "2023-01-22T08:49:58.103Z"
   },
   {
    "duration": 158,
    "start_time": "2023-01-22T08:50:05.431Z"
   },
   {
    "duration": 147,
    "start_time": "2023-01-22T08:50:14.771Z"
   },
   {
    "duration": 1867,
    "start_time": "2023-01-22T08:59:32.797Z"
   },
   {
    "duration": 3,
    "start_time": "2023-01-22T09:00:28.977Z"
   },
   {
    "duration": 61,
    "start_time": "2023-01-22T09:00:29.917Z"
   },
   {
    "duration": 55,
    "start_time": "2023-01-22T09:00:37.070Z"
   },
   {
    "duration": 24,
    "start_time": "2023-01-22T09:10:32.225Z"
   },
   {
    "duration": 19,
    "start_time": "2023-01-22T09:16:04.035Z"
   },
   {
    "duration": 7901,
    "start_time": "2023-01-22T09:16:23.908Z"
   },
   {
    "duration": 61,
    "start_time": "2023-01-22T09:17:09.666Z"
   },
   {
    "duration": 23,
    "start_time": "2023-01-22T09:17:22.494Z"
   },
   {
    "duration": 2963,
    "start_time": "2023-01-22T09:58:11.680Z"
   },
   {
    "duration": 3,
    "start_time": "2023-01-22T09:58:14.653Z"
   },
   {
    "duration": 197,
    "start_time": "2023-01-22T09:58:14.657Z"
   },
   {
    "duration": 0,
    "start_time": "2023-01-22T09:58:14.856Z"
   },
   {
    "duration": 0,
    "start_time": "2023-01-22T09:58:14.857Z"
   },
   {
    "duration": 0,
    "start_time": "2023-01-22T09:58:14.858Z"
   },
   {
    "duration": 0,
    "start_time": "2023-01-22T09:58:14.860Z"
   },
   {
    "duration": 0,
    "start_time": "2023-01-22T09:58:14.862Z"
   },
   {
    "duration": 0,
    "start_time": "2023-01-22T09:58:14.863Z"
   },
   {
    "duration": 0,
    "start_time": "2023-01-22T09:58:14.865Z"
   },
   {
    "duration": 3555,
    "start_time": "2023-01-22T09:58:39.216Z"
   },
   {
    "duration": 5,
    "start_time": "2023-01-22T09:58:42.774Z"
   },
   {
    "duration": 26,
    "start_time": "2023-01-22T09:58:42.781Z"
   },
   {
    "duration": 23,
    "start_time": "2023-01-22T09:58:42.810Z"
   },
   {
    "duration": 37,
    "start_time": "2023-01-22T09:58:43.599Z"
   },
   {
    "duration": 7,
    "start_time": "2023-01-22T09:58:43.954Z"
   },
   {
    "duration": 38,
    "start_time": "2023-01-22T09:58:44.635Z"
   },
   {
    "duration": 210,
    "start_time": "2023-01-22T09:58:45.379Z"
   },
   {
    "duration": 3,
    "start_time": "2023-01-22T09:58:45.815Z"
   },
   {
    "duration": 6061,
    "start_time": "2023-01-22T09:58:46.696Z"
   },
   {
    "duration": 2723,
    "start_time": "2023-01-22T10:36:19.371Z"
   },
   {
    "duration": 3,
    "start_time": "2023-01-22T10:36:22.096Z"
   },
   {
    "duration": 3171,
    "start_time": "2023-01-22T10:36:22.100Z"
   },
   {
    "duration": 8,
    "start_time": "2023-01-22T10:36:25.273Z"
   },
   {
    "duration": 50,
    "start_time": "2023-01-22T10:36:25.284Z"
   },
   {
    "duration": 6,
    "start_time": "2023-01-22T10:36:25.336Z"
   },
   {
    "duration": 32,
    "start_time": "2023-01-22T10:36:25.344Z"
   },
   {
    "duration": 183,
    "start_time": "2023-01-22T10:36:25.378Z"
   },
   {
    "duration": 12,
    "start_time": "2023-01-22T10:36:28.856Z"
   },
   {
    "duration": 8,
    "start_time": "2023-01-22T10:36:32.295Z"
   },
   {
    "duration": 15,
    "start_time": "2023-01-22T10:36:35.864Z"
   },
   {
    "duration": 15,
    "start_time": "2023-01-22T10:36:43.115Z"
   },
   {
    "duration": 16,
    "start_time": "2023-01-22T10:37:44.976Z"
   },
   {
    "duration": 158,
    "start_time": "2023-01-22T10:37:45.644Z"
   },
   {
    "duration": 5970,
    "start_time": "2023-01-22T10:39:08.795Z"
   },
   {
    "duration": 127826,
    "start_time": "2023-01-22T10:39:14.767Z"
   },
   {
    "duration": 0,
    "start_time": "2023-01-22T10:41:22.595Z"
   },
   {
    "duration": 0,
    "start_time": "2023-01-22T10:41:22.596Z"
   },
   {
    "duration": 19,
    "start_time": "2023-01-22T10:41:30.096Z"
   },
   {
    "duration": 149,
    "start_time": "2023-01-22T10:41:30.845Z"
   },
   {
    "duration": 4092,
    "start_time": "2023-01-22T10:41:33.590Z"
   },
   {
    "duration": 978,
    "start_time": "2023-01-22T10:45:52.047Z"
   },
   {
    "duration": 5,
    "start_time": "2023-01-22T10:46:17.772Z"
   },
   {
    "duration": 3592,
    "start_time": "2023-01-22T10:46:22.507Z"
   },
   {
    "duration": 6,
    "start_time": "2023-01-22T10:46:27.615Z"
   },
   {
    "duration": 11,
    "start_time": "2023-01-22T10:46:49.852Z"
   },
   {
    "duration": 7,
    "start_time": "2023-01-22T10:47:02.993Z"
   },
   {
    "duration": 2916,
    "start_time": "2023-01-22T10:47:17.412Z"
   },
   {
    "duration": 5,
    "start_time": "2023-01-22T10:47:20.334Z"
   },
   {
    "duration": 3279,
    "start_time": "2023-01-22T10:47:20.341Z"
   },
   {
    "duration": 8,
    "start_time": "2023-01-22T10:47:23.624Z"
   },
   {
    "duration": 37,
    "start_time": "2023-01-22T10:47:23.633Z"
   },
   {
    "duration": 6,
    "start_time": "2023-01-22T10:47:23.671Z"
   },
   {
    "duration": 35,
    "start_time": "2023-01-22T10:47:23.679Z"
   },
   {
    "duration": 186,
    "start_time": "2023-01-22T10:47:23.715Z"
   },
   {
    "duration": 16,
    "start_time": "2023-01-22T10:47:23.903Z"
   },
   {
    "duration": 168,
    "start_time": "2023-01-22T10:47:23.921Z"
   },
   {
    "duration": 8541,
    "start_time": "2023-01-22T10:47:24.091Z"
   },
   {
    "duration": 2701,
    "start_time": "2023-01-22T13:07:55.507Z"
   },
   {
    "duration": 3,
    "start_time": "2023-01-22T13:07:58.210Z"
   },
   {
    "duration": 3407,
    "start_time": "2023-01-22T13:07:58.215Z"
   },
   {
    "duration": 8,
    "start_time": "2023-01-22T13:08:02.796Z"
   },
   {
    "duration": 33,
    "start_time": "2023-01-22T13:08:03.996Z"
   },
   {
    "duration": 6,
    "start_time": "2023-01-22T13:08:04.528Z"
   },
   {
    "duration": 31,
    "start_time": "2023-01-22T13:08:05.172Z"
   },
   {
    "duration": 161,
    "start_time": "2023-01-22T13:08:06.302Z"
   },
   {
    "duration": 17,
    "start_time": "2023-01-22T13:08:08.070Z"
   },
   {
    "duration": 145,
    "start_time": "2023-01-22T13:08:08.627Z"
   },
   {
    "duration": 5751,
    "start_time": "2023-01-22T13:08:09.199Z"
   },
   {
    "duration": 51,
    "start_time": "2023-01-22T13:18:09.127Z"
   },
   {
    "duration": 6,
    "start_time": "2023-01-22T13:19:56.944Z"
   },
   {
    "duration": 2792,
    "start_time": "2023-01-22T13:20:02.218Z"
   },
   {
    "duration": 3,
    "start_time": "2023-01-22T13:20:05.012Z"
   },
   {
    "duration": 3398,
    "start_time": "2023-01-22T13:20:05.017Z"
   },
   {
    "duration": 8,
    "start_time": "2023-01-22T13:20:08.416Z"
   },
   {
    "duration": 39,
    "start_time": "2023-01-22T13:20:08.426Z"
   },
   {
    "duration": 7,
    "start_time": "2023-01-22T13:20:08.467Z"
   },
   {
    "duration": 34,
    "start_time": "2023-01-22T13:20:08.475Z"
   },
   {
    "duration": 172,
    "start_time": "2023-01-22T13:20:08.511Z"
   },
   {
    "duration": 1890,
    "start_time": "2023-01-22T13:20:14.402Z"
   },
   {
    "duration": 143,
    "start_time": "2023-01-22T13:20:25.208Z"
   },
   {
    "duration": 79,
    "start_time": "2023-01-22T13:20:59.675Z"
   },
   {
    "duration": 4,
    "start_time": "2023-01-22T13:21:14.662Z"
   },
   {
    "duration": 6,
    "start_time": "2023-01-22T13:21:32.515Z"
   },
   {
    "duration": 4,
    "start_time": "2023-01-22T13:22:52.427Z"
   },
   {
    "duration": 4,
    "start_time": "2023-01-22T13:23:09.195Z"
   },
   {
    "duration": 12,
    "start_time": "2023-01-22T13:23:19.127Z"
   },
   {
    "duration": 3,
    "start_time": "2023-01-22T13:24:51.828Z"
   },
   {
    "duration": 4,
    "start_time": "2023-01-22T13:24:59.881Z"
   },
   {
    "duration": 21,
    "start_time": "2023-01-22T13:25:25.342Z"
   },
   {
    "duration": 0,
    "start_time": "2023-01-22T13:26:40.275Z"
   },
   {
    "duration": 6,
    "start_time": "2023-01-22T13:26:45.726Z"
   },
   {
    "duration": 4,
    "start_time": "2023-01-22T13:26:51.019Z"
   },
   {
    "duration": 817,
    "start_time": "2023-01-22T13:27:26.309Z"
   },
   {
    "duration": 6,
    "start_time": "2023-01-22T13:27:42.177Z"
   },
   {
    "duration": 19,
    "start_time": "2023-01-22T13:28:51.646Z"
   },
   {
    "duration": 3,
    "start_time": "2023-01-22T13:28:54.948Z"
   },
   {
    "duration": 7,
    "start_time": "2023-01-22T13:28:55.856Z"
   },
   {
    "duration": 5,
    "start_time": "2023-01-22T13:29:09.415Z"
   },
   {
    "duration": 4,
    "start_time": "2023-01-22T13:29:19.995Z"
   },
   {
    "duration": 16,
    "start_time": "2023-01-22T13:33:55.927Z"
   },
   {
    "duration": 36992,
    "start_time": "2023-01-22T13:35:07.656Z"
   },
   {
    "duration": 1266,
    "start_time": "2023-01-22T13:37:22.747Z"
   },
   {
    "duration": 1844,
    "start_time": "2023-01-22T13:37:33.416Z"
   },
   {
    "duration": 3,
    "start_time": "2023-01-22T13:37:35.262Z"
   },
   {
    "duration": 3386,
    "start_time": "2023-01-22T13:37:35.268Z"
   },
   {
    "duration": 8,
    "start_time": "2023-01-22T13:37:38.655Z"
   },
   {
    "duration": 48,
    "start_time": "2023-01-22T13:37:38.665Z"
   },
   {
    "duration": 9,
    "start_time": "2023-01-22T13:37:38.715Z"
   },
   {
    "duration": 31,
    "start_time": "2023-01-22T13:37:38.726Z"
   },
   {
    "duration": 193,
    "start_time": "2023-01-22T13:37:38.759Z"
   },
   {
    "duration": 87,
    "start_time": "2023-01-22T13:37:40.807Z"
   },
   {
    "duration": 12,
    "start_time": "2023-01-22T13:37:50.411Z"
   },
   {
    "duration": 15,
    "start_time": "2023-01-22T13:37:54.928Z"
   },
   {
    "duration": 5,
    "start_time": "2023-01-22T13:38:02.075Z"
   },
   {
    "duration": 7,
    "start_time": "2023-01-22T13:38:06.627Z"
   },
   {
    "duration": 30,
    "start_time": "2023-01-22T13:38:24.614Z"
   },
   {
    "duration": 12,
    "start_time": "2023-01-22T13:38:39.235Z"
   },
   {
    "duration": 3275,
    "start_time": "2023-01-26T08:02:37.350Z"
   },
   {
    "duration": 163,
    "start_time": "2023-01-26T08:02:40.628Z"
   },
   {
    "duration": 0,
    "start_time": "2023-01-26T08:02:40.793Z"
   },
   {
    "duration": 0,
    "start_time": "2023-01-26T08:02:40.793Z"
   },
   {
    "duration": 1,
    "start_time": "2023-01-26T08:02:40.794Z"
   },
   {
    "duration": 36090,
    "start_time": "2023-01-26T08:03:03.578Z"
   },
   {
    "duration": 2318,
    "start_time": "2023-01-26T08:04:02.846Z"
   },
   {
    "duration": 73,
    "start_time": "2023-01-26T08:04:05.266Z"
   },
   {
    "duration": 903,
    "start_time": "2023-01-26T08:04:07.818Z"
   },
   {
    "duration": 6,
    "start_time": "2023-01-26T08:04:09.240Z"
   },
   {
    "duration": 192,
    "start_time": "2023-01-26T08:04:12.987Z"
   },
   {
    "duration": 18,
    "start_time": "2023-01-26T08:04:56.661Z"
   },
   {
    "duration": 3257,
    "start_time": "2023-01-26T08:07:05.461Z"
   },
   {
    "duration": 5,
    "start_time": "2023-01-26T08:07:16.282Z"
   },
   {
    "duration": 57,
    "start_time": "2023-01-26T08:07:51.230Z"
   },
   {
    "duration": 3,
    "start_time": "2023-01-26T08:07:56.382Z"
   },
   {
    "duration": 34,
    "start_time": "2023-01-26T08:08:23.556Z"
   },
   {
    "duration": 2,
    "start_time": "2023-01-26T08:08:28.862Z"
   },
   {
    "duration": 4025,
    "start_time": "2023-01-26T08:08:30.669Z"
   },
   {
    "duration": 20,
    "start_time": "2023-01-26T08:08:36.044Z"
   },
   {
    "duration": 64,
    "start_time": "2023-01-26T08:08:48.863Z"
   },
   {
    "duration": 151,
    "start_time": "2023-01-26T08:09:29.983Z"
   },
   {
    "duration": 60,
    "start_time": "2023-01-26T08:09:37.722Z"
   },
   {
    "duration": 2247,
    "start_time": "2023-01-26T08:09:51.348Z"
   },
   {
    "duration": 3998,
    "start_time": "2023-01-26T08:10:07.088Z"
   },
   {
    "duration": 34,
    "start_time": "2023-01-26T08:10:11.088Z"
   },
   {
    "duration": 20,
    "start_time": "2023-01-26T08:10:55.862Z"
   },
   {
    "duration": 7,
    "start_time": "2023-01-26T08:11:19.063Z"
   },
   {
    "duration": 49,
    "start_time": "2023-01-26T08:11:19.643Z"
   },
   {
    "duration": 8,
    "start_time": "2023-01-26T08:11:28.515Z"
   },
   {
    "duration": 30,
    "start_time": "2023-01-26T08:11:49.124Z"
   },
   {
    "duration": 235,
    "start_time": "2023-01-26T08:13:36.743Z"
   },
   {
    "duration": 21,
    "start_time": "2023-01-26T08:13:58.669Z"
   },
   {
    "duration": 7,
    "start_time": "2023-01-26T08:14:06.445Z"
   },
   {
    "duration": 196,
    "start_time": "2023-01-26T08:14:19.792Z"
   },
   {
    "duration": 115,
    "start_time": "2023-01-26T08:14:25.343Z"
   },
   {
    "duration": 6262,
    "start_time": "2023-01-26T08:15:52.535Z"
   },
   {
    "duration": 96580,
    "start_time": "2023-01-26T08:16:32.004Z"
   },
   {
    "duration": 0,
    "start_time": "2023-01-26T08:18:08.586Z"
   },
   {
    "duration": 219,
    "start_time": "2023-01-26T08:18:15.812Z"
   },
   {
    "duration": 172,
    "start_time": "2023-01-26T08:18:17.523Z"
   },
   {
    "duration": 6613,
    "start_time": "2023-01-26T08:18:21.644Z"
   },
   {
    "duration": 4486,
    "start_time": "2023-01-26T08:18:28.259Z"
   },
   {
    "duration": 9705,
    "start_time": "2023-01-26T08:18:32.747Z"
   },
   {
    "duration": 47,
    "start_time": "2023-01-26T08:30:31.826Z"
   },
   {
    "duration": 6593,
    "start_time": "2023-01-26T08:30:44.536Z"
   },
   {
    "duration": 4,
    "start_time": "2023-01-26T08:30:51.132Z"
   },
   {
    "duration": 15,
    "start_time": "2023-01-26T08:30:51.138Z"
   },
   {
    "duration": 2344,
    "start_time": "2023-01-26T08:30:51.154Z"
   },
   {
    "duration": 13,
    "start_time": "2023-01-26T08:30:53.500Z"
   },
   {
    "duration": 8,
    "start_time": "2023-01-26T08:30:58.169Z"
   },
   {
    "duration": 7,
    "start_time": "2023-01-26T08:31:01.946Z"
   },
   {
    "duration": 32,
    "start_time": "2023-01-26T08:31:23.939Z"
   },
   {
    "duration": 123,
    "start_time": "2023-01-26T08:31:24.811Z"
   },
   {
    "duration": 299,
    "start_time": "2023-01-26T08:31:27.573Z"
   },
   {
    "duration": 18,
    "start_time": "2023-01-26T08:31:28.097Z"
   },
   {
    "duration": 248,
    "start_time": "2023-01-26T08:31:44.155Z"
   },
   {
    "duration": 149,
    "start_time": "2023-01-26T08:31:45.138Z"
   },
   {
    "duration": 3,
    "start_time": "2023-01-26T08:32:45.346Z"
   },
   {
    "duration": 3,
    "start_time": "2023-01-26T08:32:45.970Z"
   },
   {
    "duration": 2772,
    "start_time": "2023-01-26T08:32:46.526Z"
   },
   {
    "duration": 834,
    "start_time": "2023-01-26T08:32:49.300Z"
   },
   {
    "duration": 3,
    "start_time": "2023-01-26T08:32:50.409Z"
   },
   {
    "duration": 1388,
    "start_time": "2023-01-26T08:33:14.217Z"
   },
   {
    "duration": 888,
    "start_time": "2023-01-26T08:33:16.486Z"
   },
   {
    "duration": 3,
    "start_time": "2023-01-26T08:34:12.085Z"
   },
   {
    "duration": 3,
    "start_time": "2023-01-26T08:34:31.175Z"
   },
   {
    "duration": 214,
    "start_time": "2023-01-26T08:34:31.946Z"
   },
   {
    "duration": 4,
    "start_time": "2023-01-26T08:34:32.566Z"
   },
   {
    "duration": 22,
    "start_time": "2023-01-26T08:34:33.685Z"
   },
   {
    "duration": 4,
    "start_time": "2023-01-26T08:34:42.699Z"
   },
   {
    "duration": 132,
    "start_time": "2023-01-26T08:34:50.766Z"
   },
   {
    "duration": 3132,
    "start_time": "2023-01-26T08:35:08.758Z"
   },
   {
    "duration": 9,
    "start_time": "2023-01-26T08:35:11.982Z"
   },
   {
    "duration": 15,
    "start_time": "2023-01-26T08:35:18.366Z"
   },
   {
    "duration": 91926,
    "start_time": "2023-01-26T08:35:20.861Z"
   },
   {
    "duration": 14,
    "start_time": "2023-01-26T08:36:52.790Z"
   },
   {
    "duration": 289113,
    "start_time": "2023-01-26T08:36:52.805Z"
   },
   {
    "duration": 0,
    "start_time": "2023-01-26T08:41:41.921Z"
   },
   {
    "duration": 6,
    "start_time": "2023-01-26T08:41:50.175Z"
   },
   {
    "duration": 6,
    "start_time": "2023-01-26T08:41:55.590Z"
   },
   {
    "duration": 29,
    "start_time": "2023-01-26T08:42:14.728Z"
   },
   {
    "duration": 115,
    "start_time": "2023-01-26T08:42:49.631Z"
   },
   {
    "duration": 229,
    "start_time": "2023-01-26T08:42:50.788Z"
   },
   {
    "duration": 130,
    "start_time": "2023-01-26T08:42:51.748Z"
   },
   {
    "duration": 241,
    "start_time": "2023-01-26T08:43:01.395Z"
   },
   {
    "duration": 136,
    "start_time": "2023-01-26T08:43:01.908Z"
   },
   {
    "duration": 7,
    "start_time": "2023-01-26T08:43:27.248Z"
   },
   {
    "duration": 28,
    "start_time": "2023-01-26T08:43:27.900Z"
   },
   {
    "duration": 123,
    "start_time": "2023-01-26T08:43:31.111Z"
   },
   {
    "duration": 231,
    "start_time": "2023-01-26T08:43:31.809Z"
   },
   {
    "duration": 227,
    "start_time": "2023-01-26T08:43:43.889Z"
   },
   {
    "duration": 135,
    "start_time": "2023-01-26T08:43:44.287Z"
   },
   {
    "duration": 241,
    "start_time": "2023-01-26T08:44:46.568Z"
   },
   {
    "duration": 20,
    "start_time": "2023-01-26T08:45:08.329Z"
   },
   {
    "duration": 146,
    "start_time": "2023-01-26T08:45:08.957Z"
   },
   {
    "duration": 6,
    "start_time": "2023-01-26T08:45:25.756Z"
   },
   {
    "duration": 37,
    "start_time": "2023-01-26T08:45:26.503Z"
   },
   {
    "duration": 117,
    "start_time": "2023-01-26T08:45:27.636Z"
   },
   {
    "duration": 225,
    "start_time": "2023-01-26T08:45:28.393Z"
   },
   {
    "duration": 18,
    "start_time": "2023-01-26T08:45:31.728Z"
   },
   {
    "duration": 8,
    "start_time": "2023-01-26T08:45:38.949Z"
   },
   {
    "duration": 27,
    "start_time": "2023-01-26T08:45:39.557Z"
   },
   {
    "duration": 104,
    "start_time": "2023-01-26T08:45:40.449Z"
   },
   {
    "duration": 228,
    "start_time": "2023-01-26T08:45:41.109Z"
   },
   {
    "duration": 17,
    "start_time": "2023-01-26T08:45:42.069Z"
   },
   {
    "duration": 130,
    "start_time": "2023-01-26T08:45:44.013Z"
   },
   {
    "duration": 2,
    "start_time": "2023-01-26T08:46:02.394Z"
   },
   {
    "duration": 3,
    "start_time": "2023-01-26T08:46:02.509Z"
   },
   {
    "duration": 7059,
    "start_time": "2023-01-26T08:46:02.708Z"
   },
   {
    "duration": 2459,
    "start_time": "2023-01-26T08:46:09.769Z"
   },
   {
    "duration": 3,
    "start_time": "2023-01-26T08:46:12.230Z"
   },
   {
    "duration": 6,
    "start_time": "2023-01-26T08:46:12.235Z"
   },
   {
    "duration": 7,
    "start_time": "2023-01-26T08:46:12.242Z"
   },
   {
    "duration": 1343,
    "start_time": "2023-01-26T08:46:12.250Z"
   },
   {
    "duration": 5,
    "start_time": "2023-01-26T08:46:13.595Z"
   },
   {
    "duration": 14,
    "start_time": "2023-01-26T08:46:13.602Z"
   },
   {
    "duration": 412,
    "start_time": "2023-01-26T08:46:13.619Z"
   },
   {
    "duration": 11856,
    "start_time": "2023-01-26T08:46:14.033Z"
   },
   {
    "duration": 96,
    "start_time": "2023-01-26T08:46:25.890Z"
   },
   {
    "duration": 25,
    "start_time": "2023-01-26T08:46:25.988Z"
   },
   {
    "duration": 1316941,
    "start_time": "2023-01-26T08:46:30.272Z"
   },
   {
    "duration": 14,
    "start_time": "2023-01-26T09:08:27.215Z"
   }
  ],
  "colab": {
   "provenance": [],
   "toc_visible": true
  },
  "kernelspec": {
   "display_name": "Python 3 (ipykernel)",
   "language": "python",
   "name": "python3"
  },
  "language_info": {
   "codemirror_mode": {
    "name": "ipython",
    "version": 3
   },
   "file_extension": ".py",
   "mimetype": "text/x-python",
   "name": "python",
   "nbconvert_exporter": "python",
   "pygments_lexer": "ipython3",
   "version": "3.9.13"
  },
  "toc": {
   "base_numbering": 1,
   "nav_menu": {},
   "number_sections": true,
   "sideBar": true,
   "skip_h1_title": true,
   "title_cell": "Содержание",
   "title_sidebar": "Contents",
   "toc_cell": true,
   "toc_position": {
    "height": "calc(100% - 180px)",
    "left": "10px",
    "top": "150px",
    "width": "302.391px"
   },
   "toc_section_display": true,
   "toc_window_display": false
  },
  "widgets": {
   "application/vnd.jupyter.widget-state+json": {
    "083ff7d6077442258c4d4e80b7b5f642": {
     "model_module": "@jupyter-widgets/controls",
     "model_module_version": "1.5.0",
     "model_name": "FloatProgressModel",
     "state": {
      "_dom_classes": [],
      "_model_module": "@jupyter-widgets/controls",
      "_model_module_version": "1.5.0",
      "_model_name": "FloatProgressModel",
      "_view_count": null,
      "_view_module": "@jupyter-widgets/controls",
      "_view_module_version": "1.5.0",
      "_view_name": "ProgressView",
      "bar_style": "success",
      "description": "",
      "description_tooltip": null,
      "layout": "IPY_MODEL_985ea9b7f01643af840a57e36a8f46fb",
      "max": 440473133,
      "min": 0,
      "orientation": "horizontal",
      "style": "IPY_MODEL_45379c7863b54236b0a854c4aa54302a",
      "value": 440473133
     }
    },
    "09e7dcfe0fbb4b419effe0fcfe7b5180": {
     "model_module": "@jupyter-widgets/controls",
     "model_module_version": "1.5.0",
     "model_name": "HBoxModel",
     "state": {
      "_dom_classes": [],
      "_model_module": "@jupyter-widgets/controls",
      "_model_module_version": "1.5.0",
      "_model_name": "HBoxModel",
      "_view_count": null,
      "_view_module": "@jupyter-widgets/controls",
      "_view_module_version": "1.5.0",
      "_view_name": "HBoxView",
      "box_style": "",
      "children": [
       "IPY_MODEL_c2bedff04e474a05be43957aa9a80677",
       "IPY_MODEL_083ff7d6077442258c4d4e80b7b5f642",
       "IPY_MODEL_8969f27f1f7c4f49a3d7aa6ffd5dee7f"
      ],
      "layout": "IPY_MODEL_e6c5f98aa89b40e5aebfb1339d6729b2"
     }
    },
    "45379c7863b54236b0a854c4aa54302a": {
     "model_module": "@jupyter-widgets/controls",
     "model_module_version": "1.5.0",
     "model_name": "ProgressStyleModel",
     "state": {
      "_model_module": "@jupyter-widgets/controls",
      "_model_module_version": "1.5.0",
      "_model_name": "ProgressStyleModel",
      "_view_count": null,
      "_view_module": "@jupyter-widgets/base",
      "_view_module_version": "1.2.0",
      "_view_name": "StyleView",
      "bar_color": null,
      "description_width": ""
     }
    },
    "5a9fe07edcf54514ad42277df1c6a980": {
     "model_module": "@jupyter-widgets/base",
     "model_module_version": "1.2.0",
     "model_name": "LayoutModel",
     "state": {
      "_model_module": "@jupyter-widgets/base",
      "_model_module_version": "1.2.0",
      "_model_name": "LayoutModel",
      "_view_count": null,
      "_view_module": "@jupyter-widgets/base",
      "_view_module_version": "1.2.0",
      "_view_name": "LayoutView",
      "align_content": null,
      "align_items": null,
      "align_self": null,
      "border": null,
      "bottom": null,
      "display": null,
      "flex": null,
      "flex_flow": null,
      "grid_area": null,
      "grid_auto_columns": null,
      "grid_auto_flow": null,
      "grid_auto_rows": null,
      "grid_column": null,
      "grid_gap": null,
      "grid_row": null,
      "grid_template_areas": null,
      "grid_template_columns": null,
      "grid_template_rows": null,
      "height": null,
      "justify_content": null,
      "justify_items": null,
      "left": null,
      "margin": null,
      "max_height": null,
      "max_width": null,
      "min_height": null,
      "min_width": null,
      "object_fit": null,
      "object_position": null,
      "order": null,
      "overflow": null,
      "overflow_x": null,
      "overflow_y": null,
      "padding": null,
      "right": null,
      "top": null,
      "visibility": null,
      "width": null
     }
    },
    "734f454ff1c64451a78f145886a44a34": {
     "model_module": "@jupyter-widgets/controls",
     "model_module_version": "1.5.0",
     "model_name": "DescriptionStyleModel",
     "state": {
      "_model_module": "@jupyter-widgets/controls",
      "_model_module_version": "1.5.0",
      "_model_name": "DescriptionStyleModel",
      "_view_count": null,
      "_view_module": "@jupyter-widgets/base",
      "_view_module_version": "1.2.0",
      "_view_name": "StyleView",
      "description_width": ""
     }
    },
    "8969f27f1f7c4f49a3d7aa6ffd5dee7f": {
     "model_module": "@jupyter-widgets/controls",
     "model_module_version": "1.5.0",
     "model_name": "HTMLModel",
     "state": {
      "_dom_classes": [],
      "_model_module": "@jupyter-widgets/controls",
      "_model_module_version": "1.5.0",
      "_model_name": "HTMLModel",
      "_view_count": null,
      "_view_module": "@jupyter-widgets/controls",
      "_view_module_version": "1.5.0",
      "_view_name": "HTMLView",
      "description": "",
      "description_tooltip": null,
      "layout": "IPY_MODEL_9d06c2dcaa6e4cd2a2ffcd2bfd880504",
      "placeholder": "​",
      "style": "IPY_MODEL_da0ddbba1e894424999afc074de80fa6",
      "value": " 440M/440M [00:12&lt;00:00, 51.6MB/s]"
     }
    },
    "985ea9b7f01643af840a57e36a8f46fb": {
     "model_module": "@jupyter-widgets/base",
     "model_module_version": "1.2.0",
     "model_name": "LayoutModel",
     "state": {
      "_model_module": "@jupyter-widgets/base",
      "_model_module_version": "1.2.0",
      "_model_name": "LayoutModel",
      "_view_count": null,
      "_view_module": "@jupyter-widgets/base",
      "_view_module_version": "1.2.0",
      "_view_name": "LayoutView",
      "align_content": null,
      "align_items": null,
      "align_self": null,
      "border": null,
      "bottom": null,
      "display": null,
      "flex": null,
      "flex_flow": null,
      "grid_area": null,
      "grid_auto_columns": null,
      "grid_auto_flow": null,
      "grid_auto_rows": null,
      "grid_column": null,
      "grid_gap": null,
      "grid_row": null,
      "grid_template_areas": null,
      "grid_template_columns": null,
      "grid_template_rows": null,
      "height": null,
      "justify_content": null,
      "justify_items": null,
      "left": null,
      "margin": null,
      "max_height": null,
      "max_width": null,
      "min_height": null,
      "min_width": null,
      "object_fit": null,
      "object_position": null,
      "order": null,
      "overflow": null,
      "overflow_x": null,
      "overflow_y": null,
      "padding": null,
      "right": null,
      "top": null,
      "visibility": null,
      "width": null
     }
    },
    "9d06c2dcaa6e4cd2a2ffcd2bfd880504": {
     "model_module": "@jupyter-widgets/base",
     "model_module_version": "1.2.0",
     "model_name": "LayoutModel",
     "state": {
      "_model_module": "@jupyter-widgets/base",
      "_model_module_version": "1.2.0",
      "_model_name": "LayoutModel",
      "_view_count": null,
      "_view_module": "@jupyter-widgets/base",
      "_view_module_version": "1.2.0",
      "_view_name": "LayoutView",
      "align_content": null,
      "align_items": null,
      "align_self": null,
      "border": null,
      "bottom": null,
      "display": null,
      "flex": null,
      "flex_flow": null,
      "grid_area": null,
      "grid_auto_columns": null,
      "grid_auto_flow": null,
      "grid_auto_rows": null,
      "grid_column": null,
      "grid_gap": null,
      "grid_row": null,
      "grid_template_areas": null,
      "grid_template_columns": null,
      "grid_template_rows": null,
      "height": null,
      "justify_content": null,
      "justify_items": null,
      "left": null,
      "margin": null,
      "max_height": null,
      "max_width": null,
      "min_height": null,
      "min_width": null,
      "object_fit": null,
      "object_position": null,
      "order": null,
      "overflow": null,
      "overflow_x": null,
      "overflow_y": null,
      "padding": null,
      "right": null,
      "top": null,
      "visibility": null,
      "width": null
     }
    },
    "c2bedff04e474a05be43957aa9a80677": {
     "model_module": "@jupyter-widgets/controls",
     "model_module_version": "1.5.0",
     "model_name": "HTMLModel",
     "state": {
      "_dom_classes": [],
      "_model_module": "@jupyter-widgets/controls",
      "_model_module_version": "1.5.0",
      "_model_name": "HTMLModel",
      "_view_count": null,
      "_view_module": "@jupyter-widgets/controls",
      "_view_module_version": "1.5.0",
      "_view_name": "HTMLView",
      "description": "",
      "description_tooltip": null,
      "layout": "IPY_MODEL_5a9fe07edcf54514ad42277df1c6a980",
      "placeholder": "​",
      "style": "IPY_MODEL_734f454ff1c64451a78f145886a44a34",
      "value": "Downloading: 100%"
     }
    },
    "da0ddbba1e894424999afc074de80fa6": {
     "model_module": "@jupyter-widgets/controls",
     "model_module_version": "1.5.0",
     "model_name": "DescriptionStyleModel",
     "state": {
      "_model_module": "@jupyter-widgets/controls",
      "_model_module_version": "1.5.0",
      "_model_name": "DescriptionStyleModel",
      "_view_count": null,
      "_view_module": "@jupyter-widgets/base",
      "_view_module_version": "1.2.0",
      "_view_name": "StyleView",
      "description_width": ""
     }
    },
    "e6c5f98aa89b40e5aebfb1339d6729b2": {
     "model_module": "@jupyter-widgets/base",
     "model_module_version": "1.2.0",
     "model_name": "LayoutModel",
     "state": {
      "_model_module": "@jupyter-widgets/base",
      "_model_module_version": "1.2.0",
      "_model_name": "LayoutModel",
      "_view_count": null,
      "_view_module": "@jupyter-widgets/base",
      "_view_module_version": "1.2.0",
      "_view_name": "LayoutView",
      "align_content": null,
      "align_items": null,
      "align_self": null,
      "border": null,
      "bottom": null,
      "display": null,
      "flex": null,
      "flex_flow": null,
      "grid_area": null,
      "grid_auto_columns": null,
      "grid_auto_flow": null,
      "grid_auto_rows": null,
      "grid_column": null,
      "grid_gap": null,
      "grid_row": null,
      "grid_template_areas": null,
      "grid_template_columns": null,
      "grid_template_rows": null,
      "height": null,
      "justify_content": null,
      "justify_items": null,
      "left": null,
      "margin": null,
      "max_height": null,
      "max_width": null,
      "min_height": null,
      "min_width": null,
      "object_fit": null,
      "object_position": null,
      "order": null,
      "overflow": null,
      "overflow_x": null,
      "overflow_y": null,
      "padding": null,
      "right": null,
      "top": null,
      "visibility": null,
      "width": null
     }
    }
   }
  }
 },
 "nbformat": 4,
 "nbformat_minor": 1
}
