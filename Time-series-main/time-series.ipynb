{
 "cells": [
  {
   "cell_type": "markdown",
   "metadata": {
    "toc": true
   },
   "source": [
    "<h1>Содержание<span class=\"tocSkip\"></span></h1>\n",
    "<div class=\"toc\"><ul class=\"toc-item\"><li><span><a href=\"#Подготовка\" data-toc-modified-id=\"Подготовка-1\"><span class=\"toc-item-num\">1&nbsp;&nbsp;</span>Подготовка</a></span><ul class=\"toc-item\"><li><span><a href=\"#Импорт\" data-toc-modified-id=\"Импорт-1.1\"><span class=\"toc-item-num\">1.1&nbsp;&nbsp;</span>Импорт</a></span><ul class=\"toc-item\"><li><span><a href=\"#Импорт-библиотек\" data-toc-modified-id=\"Импорт-библиотек-1.1.1\"><span class=\"toc-item-num\">1.1.1&nbsp;&nbsp;</span>Импорт библиотек</a></span></li><li><span><a href=\"#Глобальные-переменные\" data-toc-modified-id=\"Глобальные-переменные-1.1.2\"><span class=\"toc-item-num\">1.1.2&nbsp;&nbsp;</span>Глобальные переменные</a></span></li><li><span><a href=\"#Важные-функции\" data-toc-modified-id=\"Важные-функции-1.1.3\"><span class=\"toc-item-num\">1.1.3&nbsp;&nbsp;</span>Важные функции</a></span></li></ul></li><li><span><a href=\"#Загрузка-и-просмотр-данных\" data-toc-modified-id=\"Загрузка-и-просмотр-данных-1.2\"><span class=\"toc-item-num\">1.2&nbsp;&nbsp;</span>Загрузка и просмотр данных</a></span><ul class=\"toc-item\"><li><span><a href=\"#Ресемплирование\" data-toc-modified-id=\"Ресемплирование-1.2.1\"><span class=\"toc-item-num\">1.2.1&nbsp;&nbsp;</span>Ресемплирование</a></span></li></ul></li></ul></li><li><span><a href=\"#Анализ\" data-toc-modified-id=\"Анализ-2\"><span class=\"toc-item-num\">2&nbsp;&nbsp;</span>Анализ</a></span><ul class=\"toc-item\"><li><span><a href=\"#Тренд\" data-toc-modified-id=\"Тренд-2.1\"><span class=\"toc-item-num\">2.1&nbsp;&nbsp;</span>Тренд</a></span></li><li><span><a href=\"#Сезонность\" data-toc-modified-id=\"Сезонность-2.2\"><span class=\"toc-item-num\">2.2&nbsp;&nbsp;</span>Сезонность</a></span><ul class=\"toc-item\"><li><span><a href=\"#Создание-дополнительных-признаков\" data-toc-modified-id=\"Создание-дополнительных-признаков-2.2.1\"><span class=\"toc-item-num\">2.2.1&nbsp;&nbsp;</span>Создание дополнительных признаков</a></span></li></ul></li></ul></li><li><span><a href=\"#Обучение\" data-toc-modified-id=\"Обучение-3\"><span class=\"toc-item-num\">3&nbsp;&nbsp;</span>Обучение</a></span><ul class=\"toc-item\"><li><span><a href=\"#Подготовка-данных-к-обучению\" data-toc-modified-id=\"Подготовка-данных-к-обучению-3.1\"><span class=\"toc-item-num\">3.1&nbsp;&nbsp;</span>Подготовка данных к обучению</a></span></li><li><span><a href=\"#Работа-с-моделями\" data-toc-modified-id=\"Работа-с-моделями-3.2\"><span class=\"toc-item-num\">3.2&nbsp;&nbsp;</span>Работа с моделями</a></span><ul class=\"toc-item\"><li><span><a href=\"#Случайный-лес\" data-toc-modified-id=\"Случайный-лес-3.2.1\"><span class=\"toc-item-num\">3.2.1&nbsp;&nbsp;</span>Случайный лес</a></span></li><li><span><a href=\"#LGBMRegressor\" data-toc-modified-id=\"LGBMRegressor-3.2.2\"><span class=\"toc-item-num\">3.2.2&nbsp;&nbsp;</span>LGBMRegressor</a></span></li><li><span><a href=\"#CatBoost\" data-toc-modified-id=\"CatBoost-3.2.3\"><span class=\"toc-item-num\">3.2.3&nbsp;&nbsp;</span>CatBoost</a></span></li></ul></li></ul></li><li><span><a href=\"#Тестирование\" data-toc-modified-id=\"Тестирование-4\"><span class=\"toc-item-num\">4&nbsp;&nbsp;</span>Тестирование</a></span><ul class=\"toc-item\"><li><span><a href=\"#Проверка-на-адекватность\" data-toc-modified-id=\"Проверка-на-адекватность-4.1\"><span class=\"toc-item-num\">4.1&nbsp;&nbsp;</span>Проверка на адекватность</a></span></li></ul></li><li><span><a href=\"#Вывод\" data-toc-modified-id=\"Вывод-5\"><span class=\"toc-item-num\">5&nbsp;&nbsp;</span>Вывод</a></span></li><li><span><a href=\"#Чек-лист-проверки\" data-toc-modified-id=\"Чек-лист-проверки-6\"><span class=\"toc-item-num\">6&nbsp;&nbsp;</span>Чек-лист проверки</a></span></li></ul></div>"
   ]
  },
  {
   "cell_type": "markdown",
   "metadata": {},
   "source": [
    "#  Прогнозирование заказов такси"
   ]
  },
  {
   "cell_type": "markdown",
   "metadata": {},
   "source": [
    "Компания «Чётенькое такси» собрала исторические данные о заказах такси в аэропортах. Чтобы привлекать больше водителей в период пиковой нагрузки, нужно спрогнозировать количество заказов такси на следующий час. Постройте модель для такого предсказания.\n",
    "\n",
    "Значение метрики *RMSE* на тестовой выборке должно быть не больше 48.\n",
    "\n",
    "Вам нужно:\n",
    "\n",
    "1. Загрузить данные и выполнить их ресемплирование по одному часу.\n",
    "2. Проанализировать данные.\n",
    "3. Обучить разные модели с различными гиперпараметрами. Сделать тестовую выборку размером 10% от исходных данных.\n",
    "4. Проверить данные на тестовой выборке и сделать выводы.\n",
    "\n",
    "\n",
    "Данные лежат в файле `taxi.csv`. Количество заказов находится в столбце `num_orders` (от англ. *number of orders*, «число заказов»)."
   ]
  },
  {
   "cell_type": "markdown",
   "metadata": {},
   "source": [
    "## Подготовка"
   ]
  },
  {
   "cell_type": "markdown",
   "metadata": {},
   "source": [
    "### Импорт"
   ]
  },
  {
   "cell_type": "markdown",
   "metadata": {},
   "source": [
    "#### Импорт библиотек"
   ]
  },
  {
   "cell_type": "code",
   "execution_count": 1,
   "metadata": {},
   "outputs": [],
   "source": [
    "import matplotlib.pyplot as plt\n",
    "import numpy as np\n",
    "import pandas as pd\n",
    "import seaborn as sns\n",
    "import random\n",
    "\n",
    "from statsmodels.tsa.seasonal import seasonal_decompose\n",
    "\n",
    "from sklearn.pipeline import Pipeline\n",
    "from sklearn.preprocessing import StandardScaler\n",
    "\n",
    "from sklearn.metrics import mean_squared_error\n",
    "from sklearn.model_selection import cross_val_score\n",
    "from sklearn.model_selection import GridSearchCV\n",
    "from sklearn.model_selection import TimeSeriesSplit\n",
    "from sklearn.model_selection import train_test_split\n",
    "\n",
    "from catboost import CatBoostRegressor\n",
    "from lightgbm import LGBMRegressor\n",
    "from sklearn.ensemble import RandomForestRegressor\n",
    "from sklearn.linear_model import LinearRegression"
   ]
  },
  {
   "cell_type": "markdown",
   "metadata": {},
   "source": [
    "#### Глобальные переменные"
   ]
  },
  {
   "cell_type": "code",
   "execution_count": 2,
   "metadata": {},
   "outputs": [],
   "source": [
    "RANDOM_STATE = 12345"
   ]
  },
  {
   "cell_type": "markdown",
   "metadata": {},
   "source": [
    "#### Важные функции"
   ]
  },
  {
   "cell_type": "markdown",
   "metadata": {},
   "source": [
    "Создание дополнительных признаков:\n",
    "\n",
    "    data              - таблица\n",
    "    main_column       - основной столбец, в котором хранятся данные\n",
    "    max_lag           - количество отстающих значений\n",
    "    rolling_mean_size - размер выборки для создания скользящего среднего"
   ]
  },
  {
   "cell_type": "code",
   "execution_count": 3,
   "metadata": {},
   "outputs": [],
   "source": [
    "def make_features(data, meain_column, max_lag, rolling_mean_size, calendar = ['year', 'month', 'day', 'dayofweek', 'hour']):\n",
    "    data = data.copy()\n",
    "    #создаю вариативность календарных признаков, чтобы функция была гибче к изменениям\n",
    "    if 'year' in calendar:\n",
    "        data['year'] = data.index.year\n",
    "    if 'month' in calendar:\n",
    "        data['month'] = data.index.month\n",
    "    if 'day' in calendar:\n",
    "        data['day'] = data.index.day\n",
    "    if 'dayofweek' in calendar:\n",
    "        data['dayofweek'] = data.index.dayofweek\n",
    "    if 'hour' in calendar:\n",
    "        data['hour'] = data.index.hour\n",
    "    \n",
    "    #отстающие значения\n",
    "    for lag in range(1, max_lag + 1):\n",
    "        data['lag_{}'.format(lag)] = data[meain_column].shift(lag)\n",
    "    \n",
    "    #скользящее значение\n",
    "    data['rolling_mean'] =  data[meain_column].shift().rolling(rolling_mean_size).mean()\n",
    "    \n",
    "    \n",
    "    return data"
   ]
  },
  {
   "cell_type": "markdown",
   "metadata": {},
   "source": [
    "### Загрузка и просмотр данных"
   ]
  },
  {
   "cell_type": "code",
   "execution_count": 4,
   "metadata": {},
   "outputs": [],
   "source": [
    "try:\n",
    "    data = pd.read_csv(r\"C:\\Users\\Dmitri\\Downloads\\taxi.csv\", index_col=[0], parse_dates=[0])\n",
    "except:\n",
    "    data = pd.read_csv('/datasets/taxi.csv', index_col=[0], parse_dates=[0])"
   ]
  },
  {
   "cell_type": "code",
   "execution_count": 5,
   "metadata": {},
   "outputs": [],
   "source": [
    "if not data.index.is_monotonic:\n",
    "    data.sort_index(inplace=True)"
   ]
  },
  {
   "cell_type": "code",
   "execution_count": 6,
   "metadata": {},
   "outputs": [
    {
     "data": {
      "text/html": [
       "<div>\n",
       "<style scoped>\n",
       "    .dataframe tbody tr th:only-of-type {\n",
       "        vertical-align: middle;\n",
       "    }\n",
       "\n",
       "    .dataframe tbody tr th {\n",
       "        vertical-align: top;\n",
       "    }\n",
       "\n",
       "    .dataframe thead th {\n",
       "        text-align: right;\n",
       "    }\n",
       "</style>\n",
       "<table border=\"1\" class=\"dataframe\">\n",
       "  <thead>\n",
       "    <tr style=\"text-align: right;\">\n",
       "      <th></th>\n",
       "      <th>num_orders</th>\n",
       "    </tr>\n",
       "    <tr>\n",
       "      <th>datetime</th>\n",
       "      <th></th>\n",
       "    </tr>\n",
       "  </thead>\n",
       "  <tbody>\n",
       "    <tr>\n",
       "      <th>2018-03-01 00:00:00</th>\n",
       "      <td>9</td>\n",
       "    </tr>\n",
       "    <tr>\n",
       "      <th>2018-03-01 00:10:00</th>\n",
       "      <td>14</td>\n",
       "    </tr>\n",
       "    <tr>\n",
       "      <th>2018-03-01 00:20:00</th>\n",
       "      <td>28</td>\n",
       "    </tr>\n",
       "    <tr>\n",
       "      <th>2018-03-01 00:30:00</th>\n",
       "      <td>20</td>\n",
       "    </tr>\n",
       "    <tr>\n",
       "      <th>2018-03-01 00:40:00</th>\n",
       "      <td>32</td>\n",
       "    </tr>\n",
       "  </tbody>\n",
       "</table>\n",
       "</div>"
      ],
      "text/plain": [
       "                     num_orders\n",
       "datetime                       \n",
       "2018-03-01 00:00:00           9\n",
       "2018-03-01 00:10:00          14\n",
       "2018-03-01 00:20:00          28\n",
       "2018-03-01 00:30:00          20\n",
       "2018-03-01 00:40:00          32"
      ]
     },
     "execution_count": 6,
     "metadata": {},
     "output_type": "execute_result"
    }
   ],
   "source": [
    "data.head()"
   ]
  },
  {
   "cell_type": "code",
   "execution_count": 7,
   "metadata": {},
   "outputs": [
    {
     "name": "stdout",
     "output_type": "stream",
     "text": [
      "<class 'pandas.core.frame.DataFrame'>\n",
      "DatetimeIndex: 26496 entries, 2018-03-01 00:00:00 to 2018-08-31 23:50:00\n",
      "Data columns (total 1 columns):\n",
      " #   Column      Non-Null Count  Dtype\n",
      "---  ------      --------------  -----\n",
      " 0   num_orders  26496 non-null  int64\n",
      "dtypes: int64(1)\n",
      "memory usage: 414.0 KB\n"
     ]
    }
   ],
   "source": [
    "data.info()"
   ]
  },
  {
   "cell_type": "markdown",
   "metadata": {},
   "source": [
    "<div style=\"border:solid #81d8e6 2px; padding: 10px\">\n",
    "Мы проанализировали данные:\n",
    "    \n",
    "    - это временной ряд в период с 1 марта 2018 г. по 31 августа 2018 года. \n",
    "    - интервал 10 минут\n",
    "    \n",
    "Также мы сразу проверили сортировку данных, задали столбец с датой как индекс и изменили тип данных на Datetime. \n",
    "    \n",
    "Интервал в 10 минут - это слишком мало, нужно провести ресемплирование. Также стоит создать дополнительные признаки для упрощения машинного обучения.\n",
    "</div>"
   ]
  },
  {
   "cell_type": "markdown",
   "metadata": {},
   "source": [
    "#### Ресемплирование"
   ]
  },
  {
   "cell_type": "markdown",
   "metadata": {},
   "source": [
    "<div style=\"border:solid #81d8e6 2px; padding: 10px\">\n",
    "Интервал в один час поможет отследить изменения в течение дня, поэтому он оптимален. Также мы используем суммирование, поскольку речь идёт о количестве заказов.\n",
    "</div>"
   ]
  },
  {
   "cell_type": "code",
   "execution_count": 8,
   "metadata": {},
   "outputs": [],
   "source": [
    "data = data.resample('1H').sum()"
   ]
  },
  {
   "cell_type": "markdown",
   "metadata": {},
   "source": [
    "<div style=\"border:solid #81d8e6 2px; padding: 10px\">\n",
    "    Взяли отстающее значение за последний день, а также скользящее среднее за 4 часа. Календарные признаки взяли все.\n",
    "</div>"
   ]
  },
  {
   "cell_type": "markdown",
   "metadata": {},
   "source": [
    "## Анализ"
   ]
  },
  {
   "cell_type": "code",
   "execution_count": 9,
   "metadata": {},
   "outputs": [],
   "source": [
    "decomposed_day = seasonal_decompose(data.resample('1D').sum())"
   ]
  },
  {
   "cell_type": "markdown",
   "metadata": {},
   "source": [
    "### Тренд"
   ]
  },
  {
   "cell_type": "code",
   "execution_count": 10,
   "metadata": {},
   "outputs": [
    {
     "data": {
      "image/png": "[encoded data removed]",
      "text/plain": [
       "<Figure size 800x300 with 1 Axes>"
      ]
     },
     "metadata": {},
     "output_type": "display_data"
    }
   ],
   "source": [
    "plt.figure(figsize=(8, 3))\n",
    "decomposed_day.trend.plot(ax=plt.gca(), title='Trend')\n",
    "plt.show()"
   ]
  },
  {
   "cell_type": "markdown",
   "metadata": {},
   "source": [
    "<div style=\"border:solid #81d8e6 2px; padding: 10px\">\n",
    "Можем заметить, что число заказов такси растёт.\n",
    "</div>"
   ]
  },
  {
   "cell_type": "markdown",
   "metadata": {},
   "source": [
    "### Сезонность"
   ]
  },
  {
   "cell_type": "code",
   "execution_count": 11,
   "metadata": {},
   "outputs": [
    {
     "data": {
      "image/png": "[encoded data removed]",
      "text/plain": [
       "<Figure size 800x300 with 1 Axes>"
      ]
     },
     "metadata": {},
     "output_type": "display_data"
    }
   ],
   "source": [
    "plt.figure(figsize=(8, 3))\n",
    "decomposed_day.seasonal['2018-03-01':'2018-04-01'].plot(ax=plt.gca(), title='Monthly seasonality')\n",
    "plt.show()"
   ]
  },
  {
   "cell_type": "markdown",
   "metadata": {},
   "source": [
    "<div style=\"border:solid #81d8e6 2px; padding: 10px\">\n",
    "Можем заметить, что есть интервалы, схожие друг с другом, поэтому просмотрим более мелкую сезонность.\n",
    "</div>"
   ]
  },
  {
   "cell_type": "code",
   "execution_count": 12,
   "metadata": {},
   "outputs": [
    {
     "data": {
      "image/png": "[encoded data removed]",
      "text/plain": [
       "<Figure size 800x300 with 1 Axes>"
      ]
     },
     "metadata": {},
     "output_type": "display_data"
    }
   ],
   "source": [
    "plt.figure(figsize=(8, 3))\n",
    "decomposed_day.seasonal['2018-03-01':'2018-03-15'].plot(ax=plt.gca(), title='Weekly seasonality')\n",
    "plt.show()"
   ]
  },
  {
   "cell_type": "markdown",
   "metadata": {},
   "source": [
    "<div style=\"border:solid #81d8e6 2px; padding: 10px\">\n",
    "Можно заметить пики в начале и конце рабочей недели. Посмотрим ещё более мелкую сезонность: в течение дня\n",
    "</div>"
   ]
  },
  {
   "cell_type": "code",
   "execution_count": 13,
   "metadata": {},
   "outputs": [],
   "source": [
    "decomposed_hour = seasonal_decompose(data)"
   ]
  },
  {
   "cell_type": "code",
   "execution_count": 14,
   "metadata": {},
   "outputs": [
    {
     "data": {
      "image/png": "[encoded data removed]",
      "text/plain": [
       "<Figure size 800x300 with 1 Axes>"
      ]
     },
     "metadata": {},
     "output_type": "display_data"
    }
   ],
   "source": [
    "plt.figure(figsize=(8, 3))\n",
    "decomposed_hour.seasonal['2018-03-01':'2018-03-2'].plot(title='Daily seasonality')\n",
    "plt.show()"
   ]
  },
  {
   "cell_type": "markdown",
   "metadata": {},
   "source": [
    "<div style=\"border:solid #81d8e6 2px; padding: 10px\">\n",
    "Можно заметить пики ночью около полуночи, в середине дня (около 10 и около 17). В 6 часов утра идёт проседание количества заказов.\n",
    "</div>"
   ]
  },
  {
   "cell_type": "markdown",
   "metadata": {},
   "source": [
    "#### Создание дополнительных признаков"
   ]
  },
  {
   "cell_type": "code",
   "execution_count": 15,
   "metadata": {},
   "outputs": [
    {
     "data": {
      "text/html": [
       "<div>\n",
       "<style scoped>\n",
       "    .dataframe tbody tr th:only-of-type {\n",
       "        vertical-align: middle;\n",
       "    }\n",
       "\n",
       "    .dataframe tbody tr th {\n",
       "        vertical-align: top;\n",
       "    }\n",
       "\n",
       "    .dataframe thead th {\n",
       "        text-align: right;\n",
       "    }\n",
       "</style>\n",
       "<table border=\"1\" class=\"dataframe\">\n",
       "  <thead>\n",
       "    <tr style=\"text-align: right;\">\n",
       "      <th></th>\n",
       "      <th>num_orders</th>\n",
       "      <th>day</th>\n",
       "      <th>dayofweek</th>\n",
       "      <th>hour</th>\n",
       "      <th>lag_1</th>\n",
       "      <th>lag_2</th>\n",
       "      <th>lag_3</th>\n",
       "      <th>lag_4</th>\n",
       "      <th>lag_5</th>\n",
       "      <th>lag_6</th>\n",
       "      <th>...</th>\n",
       "      <th>lag_16</th>\n",
       "      <th>lag_17</th>\n",
       "      <th>lag_18</th>\n",
       "      <th>lag_19</th>\n",
       "      <th>lag_20</th>\n",
       "      <th>lag_21</th>\n",
       "      <th>lag_22</th>\n",
       "      <th>lag_23</th>\n",
       "      <th>lag_24</th>\n",
       "      <th>rolling_mean</th>\n",
       "    </tr>\n",
       "    <tr>\n",
       "      <th>datetime</th>\n",
       "      <th></th>\n",
       "      <th></th>\n",
       "      <th></th>\n",
       "      <th></th>\n",
       "      <th></th>\n",
       "      <th></th>\n",
       "      <th></th>\n",
       "      <th></th>\n",
       "      <th></th>\n",
       "      <th></th>\n",
       "      <th></th>\n",
       "      <th></th>\n",
       "      <th></th>\n",
       "      <th></th>\n",
       "      <th></th>\n",
       "      <th></th>\n",
       "      <th></th>\n",
       "      <th></th>\n",
       "      <th></th>\n",
       "      <th></th>\n",
       "      <th></th>\n",
       "    </tr>\n",
       "  </thead>\n",
       "  <tbody>\n",
       "    <tr>\n",
       "      <th>2018-03-02 00:00:00</th>\n",
       "      <td>90</td>\n",
       "      <td>2</td>\n",
       "      <td>4</td>\n",
       "      <td>0</td>\n",
       "      <td>58.0</td>\n",
       "      <td>113.0</td>\n",
       "      <td>66.0</td>\n",
       "      <td>61.0</td>\n",
       "      <td>45.0</td>\n",
       "      <td>73.0</td>\n",
       "      <td>...</td>\n",
       "      <td>34.0</td>\n",
       "      <td>15.0</td>\n",
       "      <td>12.0</td>\n",
       "      <td>6.0</td>\n",
       "      <td>43.0</td>\n",
       "      <td>66.0</td>\n",
       "      <td>71.0</td>\n",
       "      <td>85.0</td>\n",
       "      <td>124.0</td>\n",
       "      <td>74.50</td>\n",
       "    </tr>\n",
       "    <tr>\n",
       "      <th>2018-03-02 01:00:00</th>\n",
       "      <td>120</td>\n",
       "      <td>2</td>\n",
       "      <td>4</td>\n",
       "      <td>1</td>\n",
       "      <td>90.0</td>\n",
       "      <td>58.0</td>\n",
       "      <td>113.0</td>\n",
       "      <td>66.0</td>\n",
       "      <td>61.0</td>\n",
       "      <td>45.0</td>\n",
       "      <td>...</td>\n",
       "      <td>69.0</td>\n",
       "      <td>34.0</td>\n",
       "      <td>15.0</td>\n",
       "      <td>12.0</td>\n",
       "      <td>6.0</td>\n",
       "      <td>43.0</td>\n",
       "      <td>66.0</td>\n",
       "      <td>71.0</td>\n",
       "      <td>85.0</td>\n",
       "      <td>81.75</td>\n",
       "    </tr>\n",
       "    <tr>\n",
       "      <th>2018-03-02 02:00:00</th>\n",
       "      <td>75</td>\n",
       "      <td>2</td>\n",
       "      <td>4</td>\n",
       "      <td>2</td>\n",
       "      <td>120.0</td>\n",
       "      <td>90.0</td>\n",
       "      <td>58.0</td>\n",
       "      <td>113.0</td>\n",
       "      <td>66.0</td>\n",
       "      <td>61.0</td>\n",
       "      <td>...</td>\n",
       "      <td>64.0</td>\n",
       "      <td>69.0</td>\n",
       "      <td>34.0</td>\n",
       "      <td>15.0</td>\n",
       "      <td>12.0</td>\n",
       "      <td>6.0</td>\n",
       "      <td>43.0</td>\n",
       "      <td>66.0</td>\n",
       "      <td>71.0</td>\n",
       "      <td>95.25</td>\n",
       "    </tr>\n",
       "    <tr>\n",
       "      <th>2018-03-02 03:00:00</th>\n",
       "      <td>64</td>\n",
       "      <td>2</td>\n",
       "      <td>4</td>\n",
       "      <td>3</td>\n",
       "      <td>75.0</td>\n",
       "      <td>120.0</td>\n",
       "      <td>90.0</td>\n",
       "      <td>58.0</td>\n",
       "      <td>113.0</td>\n",
       "      <td>66.0</td>\n",
       "      <td>...</td>\n",
       "      <td>96.0</td>\n",
       "      <td>64.0</td>\n",
       "      <td>69.0</td>\n",
       "      <td>34.0</td>\n",
       "      <td>15.0</td>\n",
       "      <td>12.0</td>\n",
       "      <td>6.0</td>\n",
       "      <td>43.0</td>\n",
       "      <td>66.0</td>\n",
       "      <td>85.75</td>\n",
       "    </tr>\n",
       "    <tr>\n",
       "      <th>2018-03-02 04:00:00</th>\n",
       "      <td>20</td>\n",
       "      <td>2</td>\n",
       "      <td>4</td>\n",
       "      <td>4</td>\n",
       "      <td>64.0</td>\n",
       "      <td>75.0</td>\n",
       "      <td>120.0</td>\n",
       "      <td>90.0</td>\n",
       "      <td>58.0</td>\n",
       "      <td>113.0</td>\n",
       "      <td>...</td>\n",
       "      <td>30.0</td>\n",
       "      <td>96.0</td>\n",
       "      <td>64.0</td>\n",
       "      <td>69.0</td>\n",
       "      <td>34.0</td>\n",
       "      <td>15.0</td>\n",
       "      <td>12.0</td>\n",
       "      <td>6.0</td>\n",
       "      <td>43.0</td>\n",
       "      <td>87.25</td>\n",
       "    </tr>\n",
       "  </tbody>\n",
       "</table>\n",
       "<p>5 rows × 29 columns</p>\n",
       "</div>"
      ],
      "text/plain": [
       "                     num_orders  day  dayofweek  hour  lag_1  lag_2  lag_3  \\\n",
       "datetime                                                                     \n",
       "2018-03-02 00:00:00          90    2          4     0   58.0  113.0   66.0   \n",
       "2018-03-02 01:00:00         120    2          4     1   90.0   58.0  113.0   \n",
       "2018-03-02 02:00:00          75    2          4     2  120.0   90.0   58.0   \n",
       "2018-03-02 03:00:00          64    2          4     3   75.0  120.0   90.0   \n",
       "2018-03-02 04:00:00          20    2          4     4   64.0   75.0  120.0   \n",
       "\n",
       "                     lag_4  lag_5  lag_6  ...  lag_16  lag_17  lag_18  lag_19  \\\n",
       "datetime                                  ...                                   \n",
       "2018-03-02 00:00:00   61.0   45.0   73.0  ...    34.0    15.0    12.0     6.0   \n",
       "2018-03-02 01:00:00   66.0   61.0   45.0  ...    69.0    34.0    15.0    12.0   \n",
       "2018-03-02 02:00:00  113.0   66.0   61.0  ...    64.0    69.0    34.0    15.0   \n",
       "2018-03-02 03:00:00   58.0  113.0   66.0  ...    96.0    64.0    69.0    34.0   \n",
       "2018-03-02 04:00:00   90.0   58.0  113.0  ...    30.0    96.0    64.0    69.0   \n",
       "\n",
       "                     lag_20  lag_21  lag_22  lag_23  lag_24  rolling_mean  \n",
       "datetime                                                                   \n",
       "2018-03-02 00:00:00    43.0    66.0    71.0    85.0   124.0         74.50  \n",
       "2018-03-02 01:00:00     6.0    43.0    66.0    71.0    85.0         81.75  \n",
       "2018-03-02 02:00:00    12.0     6.0    43.0    66.0    71.0         95.25  \n",
       "2018-03-02 03:00:00    15.0    12.0     6.0    43.0    66.0         85.75  \n",
       "2018-03-02 04:00:00    34.0    15.0    12.0     6.0    43.0         87.25  \n",
       "\n",
       "[5 rows x 29 columns]"
      ]
     },
     "execution_count": 15,
     "metadata": {},
     "output_type": "execute_result"
    }
   ],
   "source": [
    "data_new = make_features(data, 'num_orders', 24, 4, calendar = [ 'day', 'dayofweek', 'hour'])\n",
    "data_new.dropna(inplace=True)\n",
    "data_new.head()"
   ]
  },
  {
   "cell_type": "markdown",
   "metadata": {},
   "source": [
    "## Обучение"
   ]
  },
  {
   "cell_type": "markdown",
   "metadata": {},
   "source": [
    "### Подготовка данных к обучению"
   ]
  },
  {
   "cell_type": "code",
   "execution_count": 16,
   "metadata": {},
   "outputs": [
    {
     "data": {
      "text/html": [
       "<div>\n",
       "<style scoped>\n",
       "    .dataframe tbody tr th:only-of-type {\n",
       "        vertical-align: middle;\n",
       "    }\n",
       "\n",
       "    .dataframe tbody tr th {\n",
       "        vertical-align: top;\n",
       "    }\n",
       "\n",
       "    .dataframe thead th {\n",
       "        text-align: right;\n",
       "    }\n",
       "</style>\n",
       "<table border=\"1\" class=\"dataframe\">\n",
       "  <thead>\n",
       "    <tr style=\"text-align: right;\">\n",
       "      <th></th>\n",
       "      <th>num_orders</th>\n",
       "      <th>day</th>\n",
       "      <th>dayofweek</th>\n",
       "      <th>hour</th>\n",
       "      <th>lag_1</th>\n",
       "      <th>lag_2</th>\n",
       "      <th>lag_3</th>\n",
       "      <th>lag_4</th>\n",
       "      <th>lag_5</th>\n",
       "      <th>lag_6</th>\n",
       "      <th>...</th>\n",
       "      <th>lag_16</th>\n",
       "      <th>lag_17</th>\n",
       "      <th>lag_18</th>\n",
       "      <th>lag_19</th>\n",
       "      <th>lag_20</th>\n",
       "      <th>lag_21</th>\n",
       "      <th>lag_22</th>\n",
       "      <th>lag_23</th>\n",
       "      <th>lag_24</th>\n",
       "      <th>rolling_mean</th>\n",
       "    </tr>\n",
       "    <tr>\n",
       "      <th>datetime</th>\n",
       "      <th></th>\n",
       "      <th></th>\n",
       "      <th></th>\n",
       "      <th></th>\n",
       "      <th></th>\n",
       "      <th></th>\n",
       "      <th></th>\n",
       "      <th></th>\n",
       "      <th></th>\n",
       "      <th></th>\n",
       "      <th></th>\n",
       "      <th></th>\n",
       "      <th></th>\n",
       "      <th></th>\n",
       "      <th></th>\n",
       "      <th></th>\n",
       "      <th></th>\n",
       "      <th></th>\n",
       "      <th></th>\n",
       "      <th></th>\n",
       "      <th></th>\n",
       "    </tr>\n",
       "  </thead>\n",
       "  <tbody>\n",
       "    <tr>\n",
       "      <th>2018-03-02 00:00:00</th>\n",
       "      <td>90</td>\n",
       "      <td>2</td>\n",
       "      <td>4</td>\n",
       "      <td>0</td>\n",
       "      <td>58.0</td>\n",
       "      <td>113.0</td>\n",
       "      <td>66.0</td>\n",
       "      <td>61.0</td>\n",
       "      <td>45.0</td>\n",
       "      <td>73.0</td>\n",
       "      <td>...</td>\n",
       "      <td>34.0</td>\n",
       "      <td>15.0</td>\n",
       "      <td>12.0</td>\n",
       "      <td>6.0</td>\n",
       "      <td>43.0</td>\n",
       "      <td>66.0</td>\n",
       "      <td>71.0</td>\n",
       "      <td>85.0</td>\n",
       "      <td>124.0</td>\n",
       "      <td>74.50</td>\n",
       "    </tr>\n",
       "    <tr>\n",
       "      <th>2018-03-02 01:00:00</th>\n",
       "      <td>120</td>\n",
       "      <td>2</td>\n",
       "      <td>4</td>\n",
       "      <td>1</td>\n",
       "      <td>90.0</td>\n",
       "      <td>58.0</td>\n",
       "      <td>113.0</td>\n",
       "      <td>66.0</td>\n",
       "      <td>61.0</td>\n",
       "      <td>45.0</td>\n",
       "      <td>...</td>\n",
       "      <td>69.0</td>\n",
       "      <td>34.0</td>\n",
       "      <td>15.0</td>\n",
       "      <td>12.0</td>\n",
       "      <td>6.0</td>\n",
       "      <td>43.0</td>\n",
       "      <td>66.0</td>\n",
       "      <td>71.0</td>\n",
       "      <td>85.0</td>\n",
       "      <td>81.75</td>\n",
       "    </tr>\n",
       "    <tr>\n",
       "      <th>2018-03-02 02:00:00</th>\n",
       "      <td>75</td>\n",
       "      <td>2</td>\n",
       "      <td>4</td>\n",
       "      <td>2</td>\n",
       "      <td>120.0</td>\n",
       "      <td>90.0</td>\n",
       "      <td>58.0</td>\n",
       "      <td>113.0</td>\n",
       "      <td>66.0</td>\n",
       "      <td>61.0</td>\n",
       "      <td>...</td>\n",
       "      <td>64.0</td>\n",
       "      <td>69.0</td>\n",
       "      <td>34.0</td>\n",
       "      <td>15.0</td>\n",
       "      <td>12.0</td>\n",
       "      <td>6.0</td>\n",
       "      <td>43.0</td>\n",
       "      <td>66.0</td>\n",
       "      <td>71.0</td>\n",
       "      <td>95.25</td>\n",
       "    </tr>\n",
       "    <tr>\n",
       "      <th>2018-03-02 03:00:00</th>\n",
       "      <td>64</td>\n",
       "      <td>2</td>\n",
       "      <td>4</td>\n",
       "      <td>3</td>\n",
       "      <td>75.0</td>\n",
       "      <td>120.0</td>\n",
       "      <td>90.0</td>\n",
       "      <td>58.0</td>\n",
       "      <td>113.0</td>\n",
       "      <td>66.0</td>\n",
       "      <td>...</td>\n",
       "      <td>96.0</td>\n",
       "      <td>64.0</td>\n",
       "      <td>69.0</td>\n",
       "      <td>34.0</td>\n",
       "      <td>15.0</td>\n",
       "      <td>12.0</td>\n",
       "      <td>6.0</td>\n",
       "      <td>43.0</td>\n",
       "      <td>66.0</td>\n",
       "      <td>85.75</td>\n",
       "    </tr>\n",
       "    <tr>\n",
       "      <th>2018-03-02 04:00:00</th>\n",
       "      <td>20</td>\n",
       "      <td>2</td>\n",
       "      <td>4</td>\n",
       "      <td>4</td>\n",
       "      <td>64.0</td>\n",
       "      <td>75.0</td>\n",
       "      <td>120.0</td>\n",
       "      <td>90.0</td>\n",
       "      <td>58.0</td>\n",
       "      <td>113.0</td>\n",
       "      <td>...</td>\n",
       "      <td>30.0</td>\n",
       "      <td>96.0</td>\n",
       "      <td>64.0</td>\n",
       "      <td>69.0</td>\n",
       "      <td>34.0</td>\n",
       "      <td>15.0</td>\n",
       "      <td>12.0</td>\n",
       "      <td>6.0</td>\n",
       "      <td>43.0</td>\n",
       "      <td>87.25</td>\n",
       "    </tr>\n",
       "  </tbody>\n",
       "</table>\n",
       "<p>5 rows × 29 columns</p>\n",
       "</div>"
      ],
      "text/plain": [
       "                     num_orders  day  dayofweek  hour  lag_1  lag_2  lag_3  \\\n",
       "datetime                                                                     \n",
       "2018-03-02 00:00:00          90    2          4     0   58.0  113.0   66.0   \n",
       "2018-03-02 01:00:00         120    2          4     1   90.0   58.0  113.0   \n",
       "2018-03-02 02:00:00          75    2          4     2  120.0   90.0   58.0   \n",
       "2018-03-02 03:00:00          64    2          4     3   75.0  120.0   90.0   \n",
       "2018-03-02 04:00:00          20    2          4     4   64.0   75.0  120.0   \n",
       "\n",
       "                     lag_4  lag_5  lag_6  ...  lag_16  lag_17  lag_18  lag_19  \\\n",
       "datetime                                  ...                                   \n",
       "2018-03-02 00:00:00   61.0   45.0   73.0  ...    34.0    15.0    12.0     6.0   \n",
       "2018-03-02 01:00:00   66.0   61.0   45.0  ...    69.0    34.0    15.0    12.0   \n",
       "2018-03-02 02:00:00  113.0   66.0   61.0  ...    64.0    69.0    34.0    15.0   \n",
       "2018-03-02 03:00:00   58.0  113.0   66.0  ...    96.0    64.0    69.0    34.0   \n",
       "2018-03-02 04:00:00   90.0   58.0  113.0  ...    30.0    96.0    64.0    69.0   \n",
       "\n",
       "                     lag_20  lag_21  lag_22  lag_23  lag_24  rolling_mean  \n",
       "datetime                                                                   \n",
       "2018-03-02 00:00:00    43.0    66.0    71.0    85.0   124.0         74.50  \n",
       "2018-03-02 01:00:00     6.0    43.0    66.0    71.0    85.0         81.75  \n",
       "2018-03-02 02:00:00    12.0     6.0    43.0    66.0    71.0         95.25  \n",
       "2018-03-02 03:00:00    15.0    12.0     6.0    43.0    66.0         85.75  \n",
       "2018-03-02 04:00:00    34.0    15.0    12.0     6.0    43.0         87.25  \n",
       "\n",
       "[5 rows x 29 columns]"
      ]
     },
     "execution_count": 16,
     "metadata": {},
     "output_type": "execute_result"
    }
   ],
   "source": [
    "data_new.head()"
   ]
  },
  {
   "cell_type": "code",
   "execution_count": 17,
   "metadata": {},
   "outputs": [
    {
     "name": "stdout",
     "output_type": "stream",
     "text": [
      "Количество строк в features_train: 0.9 выборки\n",
      "Количество строк в features_valid: 0.1 выборки\n"
     ]
    }
   ],
   "source": [
    "features = data_new.drop('num_orders', axis=1)\n",
    "target = data_new['num_orders']\n",
    "\n",
    "features_train, features_test, target_train, target_test = train_test_split(\n",
    "    features, target, test_size=0.1, shuffle=False)\n",
    "\n",
    "\n",
    "print(f\"Количество строк в features_train: {features_train.shape[0]/data_new.shape[0]:1.2} выборки\")\n",
    "print(f\"Количество строк в features_valid: {features_test.shape[0]/data_new.shape[0]:1.2} выборки\")"
   ]
  },
  {
   "cell_type": "code",
   "execution_count": 18,
   "metadata": {},
   "outputs": [
    {
     "data": {
      "text/html": [
       "<div>\n",
       "<style scoped>\n",
       "    .dataframe tbody tr th:only-of-type {\n",
       "        vertical-align: middle;\n",
       "    }\n",
       "\n",
       "    .dataframe tbody tr th {\n",
       "        vertical-align: top;\n",
       "    }\n",
       "\n",
       "    .dataframe thead th {\n",
       "        text-align: right;\n",
       "    }\n",
       "</style>\n",
       "<table border=\"1\" class=\"dataframe\">\n",
       "  <thead>\n",
       "    <tr style=\"text-align: right;\">\n",
       "      <th></th>\n",
       "      <th>day</th>\n",
       "      <th>dayofweek</th>\n",
       "      <th>hour</th>\n",
       "      <th>lag_1</th>\n",
       "      <th>lag_2</th>\n",
       "      <th>lag_3</th>\n",
       "      <th>lag_4</th>\n",
       "      <th>lag_5</th>\n",
       "      <th>lag_6</th>\n",
       "      <th>lag_7</th>\n",
       "      <th>...</th>\n",
       "      <th>lag_16</th>\n",
       "      <th>lag_17</th>\n",
       "      <th>lag_18</th>\n",
       "      <th>lag_19</th>\n",
       "      <th>lag_20</th>\n",
       "      <th>lag_21</th>\n",
       "      <th>lag_22</th>\n",
       "      <th>lag_23</th>\n",
       "      <th>lag_24</th>\n",
       "      <th>rolling_mean</th>\n",
       "    </tr>\n",
       "    <tr>\n",
       "      <th>datetime</th>\n",
       "      <th></th>\n",
       "      <th></th>\n",
       "      <th></th>\n",
       "      <th></th>\n",
       "      <th></th>\n",
       "      <th></th>\n",
       "      <th></th>\n",
       "      <th></th>\n",
       "      <th></th>\n",
       "      <th></th>\n",
       "      <th></th>\n",
       "      <th></th>\n",
       "      <th></th>\n",
       "      <th></th>\n",
       "      <th></th>\n",
       "      <th></th>\n",
       "      <th></th>\n",
       "      <th></th>\n",
       "      <th></th>\n",
       "      <th></th>\n",
       "      <th></th>\n",
       "    </tr>\n",
       "  </thead>\n",
       "  <tbody>\n",
       "    <tr>\n",
       "      <th>2018-03-02 00:00:00</th>\n",
       "      <td>2</td>\n",
       "      <td>4</td>\n",
       "      <td>0</td>\n",
       "      <td>58.0</td>\n",
       "      <td>113.0</td>\n",
       "      <td>66.0</td>\n",
       "      <td>61.0</td>\n",
       "      <td>45.0</td>\n",
       "      <td>73.0</td>\n",
       "      <td>44.0</td>\n",
       "      <td>...</td>\n",
       "      <td>34.0</td>\n",
       "      <td>15.0</td>\n",
       "      <td>12.0</td>\n",
       "      <td>6.0</td>\n",
       "      <td>43.0</td>\n",
       "      <td>66.0</td>\n",
       "      <td>71.0</td>\n",
       "      <td>85.0</td>\n",
       "      <td>124.0</td>\n",
       "      <td>74.50</td>\n",
       "    </tr>\n",
       "    <tr>\n",
       "      <th>2018-03-02 01:00:00</th>\n",
       "      <td>2</td>\n",
       "      <td>4</td>\n",
       "      <td>1</td>\n",
       "      <td>90.0</td>\n",
       "      <td>58.0</td>\n",
       "      <td>113.0</td>\n",
       "      <td>66.0</td>\n",
       "      <td>61.0</td>\n",
       "      <td>45.0</td>\n",
       "      <td>73.0</td>\n",
       "      <td>...</td>\n",
       "      <td>69.0</td>\n",
       "      <td>34.0</td>\n",
       "      <td>15.0</td>\n",
       "      <td>12.0</td>\n",
       "      <td>6.0</td>\n",
       "      <td>43.0</td>\n",
       "      <td>66.0</td>\n",
       "      <td>71.0</td>\n",
       "      <td>85.0</td>\n",
       "      <td>81.75</td>\n",
       "    </tr>\n",
       "    <tr>\n",
       "      <th>2018-03-02 02:00:00</th>\n",
       "      <td>2</td>\n",
       "      <td>4</td>\n",
       "      <td>2</td>\n",
       "      <td>120.0</td>\n",
       "      <td>90.0</td>\n",
       "      <td>58.0</td>\n",
       "      <td>113.0</td>\n",
       "      <td>66.0</td>\n",
       "      <td>61.0</td>\n",
       "      <td>45.0</td>\n",
       "      <td>...</td>\n",
       "      <td>64.0</td>\n",
       "      <td>69.0</td>\n",
       "      <td>34.0</td>\n",
       "      <td>15.0</td>\n",
       "      <td>12.0</td>\n",
       "      <td>6.0</td>\n",
       "      <td>43.0</td>\n",
       "      <td>66.0</td>\n",
       "      <td>71.0</td>\n",
       "      <td>95.25</td>\n",
       "    </tr>\n",
       "    <tr>\n",
       "      <th>2018-03-02 03:00:00</th>\n",
       "      <td>2</td>\n",
       "      <td>4</td>\n",
       "      <td>3</td>\n",
       "      <td>75.0</td>\n",
       "      <td>120.0</td>\n",
       "      <td>90.0</td>\n",
       "      <td>58.0</td>\n",
       "      <td>113.0</td>\n",
       "      <td>66.0</td>\n",
       "      <td>61.0</td>\n",
       "      <td>...</td>\n",
       "      <td>96.0</td>\n",
       "      <td>64.0</td>\n",
       "      <td>69.0</td>\n",
       "      <td>34.0</td>\n",
       "      <td>15.0</td>\n",
       "      <td>12.0</td>\n",
       "      <td>6.0</td>\n",
       "      <td>43.0</td>\n",
       "      <td>66.0</td>\n",
       "      <td>85.75</td>\n",
       "    </tr>\n",
       "    <tr>\n",
       "      <th>2018-03-02 04:00:00</th>\n",
       "      <td>2</td>\n",
       "      <td>4</td>\n",
       "      <td>4</td>\n",
       "      <td>64.0</td>\n",
       "      <td>75.0</td>\n",
       "      <td>120.0</td>\n",
       "      <td>90.0</td>\n",
       "      <td>58.0</td>\n",
       "      <td>113.0</td>\n",
       "      <td>66.0</td>\n",
       "      <td>...</td>\n",
       "      <td>30.0</td>\n",
       "      <td>96.0</td>\n",
       "      <td>64.0</td>\n",
       "      <td>69.0</td>\n",
       "      <td>34.0</td>\n",
       "      <td>15.0</td>\n",
       "      <td>12.0</td>\n",
       "      <td>6.0</td>\n",
       "      <td>43.0</td>\n",
       "      <td>87.25</td>\n",
       "    </tr>\n",
       "  </tbody>\n",
       "</table>\n",
       "<p>5 rows × 28 columns</p>\n",
       "</div>"
      ],
      "text/plain": [
       "                     day  dayofweek  hour  lag_1  lag_2  lag_3  lag_4  lag_5  \\\n",
       "datetime                                                                       \n",
       "2018-03-02 00:00:00    2          4     0   58.0  113.0   66.0   61.0   45.0   \n",
       "2018-03-02 01:00:00    2          4     1   90.0   58.0  113.0   66.0   61.0   \n",
       "2018-03-02 02:00:00    2          4     2  120.0   90.0   58.0  113.0   66.0   \n",
       "2018-03-02 03:00:00    2          4     3   75.0  120.0   90.0   58.0  113.0   \n",
       "2018-03-02 04:00:00    2          4     4   64.0   75.0  120.0   90.0   58.0   \n",
       "\n",
       "                     lag_6  lag_7  ...  lag_16  lag_17  lag_18  lag_19  \\\n",
       "datetime                           ...                                   \n",
       "2018-03-02 00:00:00   73.0   44.0  ...    34.0    15.0    12.0     6.0   \n",
       "2018-03-02 01:00:00   45.0   73.0  ...    69.0    34.0    15.0    12.0   \n",
       "2018-03-02 02:00:00   61.0   45.0  ...    64.0    69.0    34.0    15.0   \n",
       "2018-03-02 03:00:00   66.0   61.0  ...    96.0    64.0    69.0    34.0   \n",
       "2018-03-02 04:00:00  113.0   66.0  ...    30.0    96.0    64.0    69.0   \n",
       "\n",
       "                     lag_20  lag_21  lag_22  lag_23  lag_24  rolling_mean  \n",
       "datetime                                                                   \n",
       "2018-03-02 00:00:00    43.0    66.0    71.0    85.0   124.0         74.50  \n",
       "2018-03-02 01:00:00     6.0    43.0    66.0    71.0    85.0         81.75  \n",
       "2018-03-02 02:00:00    12.0     6.0    43.0    66.0    71.0         95.25  \n",
       "2018-03-02 03:00:00    15.0    12.0     6.0    43.0    66.0         85.75  \n",
       "2018-03-02 04:00:00    34.0    15.0    12.0     6.0    43.0         87.25  \n",
       "\n",
       "[5 rows x 28 columns]"
      ]
     },
     "execution_count": 18,
     "metadata": {},
     "output_type": "execute_result"
    }
   ],
   "source": [
    "features.head()"
   ]
  },
  {
   "cell_type": "code",
   "execution_count": 19,
   "metadata": {},
   "outputs": [
    {
     "data": {
      "text/plain": [
       "datetime\n",
       "2018-03-02 00:00:00     90\n",
       "2018-03-02 01:00:00    120\n",
       "2018-03-02 02:00:00     75\n",
       "2018-03-02 03:00:00     64\n",
       "2018-03-02 04:00:00     20\n",
       "Freq: H, Name: num_orders, dtype: int64"
      ]
     },
     "execution_count": 19,
     "metadata": {},
     "output_type": "execute_result"
    }
   ],
   "source": [
    "target.head()"
   ]
  },
  {
   "cell_type": "markdown",
   "metadata": {},
   "source": [
    "### Работа с моделями"
   ]
  },
  {
   "cell_type": "code",
   "execution_count": 20,
   "metadata": {},
   "outputs": [
    {
     "data": {
      "text/plain": [
       "TimeSeriesSplit(gap=0, max_train_size=None, n_splits=4, test_size=None)"
      ]
     },
     "execution_count": 20,
     "metadata": {},
     "output_type": "execute_result"
    }
   ],
   "source": [
    "tscv = TimeSeriesSplit(n_splits=4)\n",
    "tscv"
   ]
  },
  {
   "cell_type": "code",
   "execution_count": 21,
   "metadata": {},
   "outputs": [],
   "source": [
    "def fit_model(estimator, param_grid, X_train, y_train):\n",
    "    model = GridSearchCV(estimator=estimator, \n",
    "                            param_grid=param_grid, \n",
    "                            n_jobs=-1, \n",
    "                            cv=tscv,\n",
    "                            scoring='neg_root_mean_squared_error')\n",
    "\n",
    "    model.fit(X_train, y_train)\n",
    "\n",
    "    best_index = model.best_index_\n",
    "    best_rmse = round(model.cv_results_['mean_test_score'][best_index], 1)\n",
    "\n",
    "    print(f\"Best RMSE: {abs(best_rmse)}\")\n",
    "    print(f\"Best params: {model.best_params_}\")\n",
    "\n",
    "    return model.best_estimator_"
   ]
  },
  {
   "cell_type": "markdown",
   "metadata": {},
   "source": [
    "#### Случайный лес"
   ]
  },
  {
   "cell_type": "code",
   "execution_count": 22,
   "metadata": {},
   "outputs": [
    {
     "name": "stdout",
     "output_type": "stream",
     "text": [
      "Best RMSE: 26.2\n",
      "Best params: {'max_depth': 11, 'n_estimators': 120}\n",
      "Wall time: 14.9 s\n"
     ]
    }
   ],
   "source": [
    "%%time\n",
    "rf_param_grid = {\n",
    "    'n_estimators': list(range(50, 121, 10)),\n",
    "    \"max_depth\": list(range(5, 12, 2)),\n",
    "}\n",
    "\n",
    "rf_best_model = fit_model(\n",
    "    estimator=RandomForestRegressor(random_state=RANDOM_STATE, n_jobs=-1),\n",
    "    param_grid=rf_param_grid,\n",
    "    X_train=features_train,\n",
    "    y_train=target_train\n",
    ")"
   ]
  },
  {
   "cell_type": "markdown",
   "metadata": {},
   "source": [
    "#### LGBMRegressor"
   ]
  },
  {
   "cell_type": "code",
   "execution_count": 23,
   "metadata": {},
   "outputs": [
    {
     "name": "stdout",
     "output_type": "stream",
     "text": [
      "Best RMSE: 25.4\n",
      "Best params: {'learning_rate': 0.1, 'max_depth': 4, 'n_estimators': 160}\n",
      "Wall time: 5.99 s\n"
     ]
    }
   ],
   "source": [
    "%%time\n",
    "lgbm_param_grid = {\n",
    "    \"n_estimators\": range(100, 201, 15), \n",
    "    \"max_depth\": range(4, 11, 2),\n",
    "    'learning_rate': [0.01, 0.05, 0.1]\n",
    "}\n",
    "\n",
    "lgbm_best_model = fit_model(\n",
    "    estimator=LGBMRegressor(random_state=RANDOM_STATE, n_jobs=-1),\n",
    "    param_grid=lgbm_param_grid,\n",
    "    X_train=features_train,\n",
    "    y_train=target_train\n",
    ")"
   ]
  },
  {
   "cell_type": "markdown",
   "metadata": {},
   "source": [
    "#### CatBoost"
   ]
  },
  {
   "cell_type": "code",
   "execution_count": 24,
   "metadata": {},
   "outputs": [
    {
     "name": "stdout",
     "output_type": "stream",
     "text": [
      "Best RMSE: 25.0\n",
      "Best params: {'depth': 5, 'iterations': 300, 'learning_rate': 0.1}\n",
      "Wall time: 5min 14s\n"
     ]
    }
   ],
   "source": [
    "%%time\n",
    "catboost_param_grid = {\n",
    "    \"iterations\": range(150, 301, 50),\n",
    "    \"learning_rate\": [0.05, 0.1, 0.15],\n",
    "    \"depth\": range(2, 12, 3)\n",
    "}\n",
    "\n",
    "catboost_best_model = fit_model(\n",
    "    estimator=CatBoostRegressor(random_state=RANDOM_STATE, verbose=False),\n",
    "    param_grid=catboost_param_grid,\n",
    "    X_train=features_train,\n",
    "    y_train=target_train\n",
    ")"
   ]
  },
  {
   "cell_type": "markdown",
   "metadata": {},
   "source": [
    "<div style=\"border:solid #81d8e6 2px; padding: 10px\">\n",
    "Лучшей моделью стала CatBoost\n",
    "</div>"
   ]
  },
  {
   "cell_type": "markdown",
   "metadata": {},
   "source": [
    "## Тестирование"
   ]
  },
  {
   "cell_type": "code",
   "execution_count": 27,
   "metadata": {},
   "outputs": [
    {
     "data": {
      "image/png": "[encoded data removed]",
      "text/plain": [
       "<Figure size 800x300 with 1 Axes>"
      ]
     },
     "metadata": {},
     "output_type": "display_data"
    }
   ],
   "source": [
    "pred = pd.Series(pred, index=target_test.index)\n",
    "\n",
    "plt.figure(figsize=(8, 3))\n",
    "target_test.plot(label='true', title='Test')\n",
    "pred.plot(label='predicted')\n",
    "plt.legend()\n",
    "plt.show()"
   ]
  },
  {
   "cell_type": "markdown",
   "metadata": {},
   "source": [
    "### Проверка на адекватность"
   ]
  },
  {
   "cell_type": "code",
   "execution_count": 29,
   "metadata": {},
   "outputs": [
    {
     "name": "stdout",
     "output_type": "stream",
     "text": [
      "RMSE на тестовой: 80.4\n"
     ]
    }
   ],
   "source": [
    "random_prediction = [target.mean() for i in range(len(features_test))]\n",
    "rmse = mean_squared_error(target_test, random_prediction) ** 0.5\n",
    "print(f\"RMSE на тестовой: {rmse:.1f}\")"
   ]
  },
  {
   "cell_type": "markdown",
   "metadata": {},
   "source": [
    "<div style=\"border:solid #81d8e6 2px; padding: 10px\">\n",
    "Модель показала качественные параметры (меньше 48) и прошла проверку на декватность.\n",
    "</div>"
   ]
  },
  {
   "cell_type": "markdown",
   "metadata": {},
   "source": [
    "## Вывод"
   ]
  },
  {
   "cell_type": "markdown",
   "metadata": {},
   "source": [
    "<div style=\"border:solid #81d8e6 2px; padding: 10px\">\n",
    "Мы проанализировали данные заказов такси в аэропорте:\n",
    "    \n",
    "    - был выявлен тренд на повышение чилса заказов\n",
    "    - была выявлена сезонность в течение недели: заказов больше в начале и конце будней\n",
    "    - была выявлена сезонность в течение дня: три пика (00, 10, 17 часов) и один провал (6 часов).\n",
    "\n",
    "Мы создали дополнительные параметры:\n",
    "    \n",
    "    - календарные \n",
    "    - смещённое значение\n",
    "    - скользящее среднее\n",
    "\n",
    "Мы обучили три модели:\n",
    "    \n",
    "    - RandomForest\n",
    "    - LGBM\n",
    "    - CatBoost\n",
    "\n",
    "Наилучшей моделью стала: CatBoost\n",
    "    \n",
    "    - depth: 8,\n",
    "    - iterations: 300, \n",
    "    - learning_rate: 0.1\n",
    "    \n",
    "</div>"
   ]
  },
  {
   "cell_type": "markdown",
   "metadata": {},
   "source": [
    "\n",
    "<div class=\"alert alert-block alert-info\">\n",
    "<b> Исследование </b> \n",
    "    \n",
    "Я возьму модель LGBMRegressor, потому что она быстро обучается. \n",
    "    \n",
    "На ней сравню, что будет, если добавить день или удалить из признаков, а также все признаки. \n",
    "Сравнивать буду по метрике RMSE.\n",
    "</div>"
   ]
  },
  {
   "cell_type": "markdown",
   "metadata": {},
   "source": [
    "<div class=\"alert alert-block alert-info\">С удалением дня:</div>"
   ]
  },
  {
   "cell_type": "code",
   "execution_count": 30,
   "metadata": {},
   "outputs": [
    {
     "data": {
      "text/html": [
       "<div>\n",
       "<style scoped>\n",
       "    .dataframe tbody tr th:only-of-type {\n",
       "        vertical-align: middle;\n",
       "    }\n",
       "\n",
       "    .dataframe tbody tr th {\n",
       "        vertical-align: top;\n",
       "    }\n",
       "\n",
       "    .dataframe thead th {\n",
       "        text-align: right;\n",
       "    }\n",
       "</style>\n",
       "<table border=\"1\" class=\"dataframe\">\n",
       "  <thead>\n",
       "    <tr style=\"text-align: right;\">\n",
       "      <th></th>\n",
       "      <th>num_orders</th>\n",
       "      <th>dayofweek</th>\n",
       "      <th>hour</th>\n",
       "      <th>lag_1</th>\n",
       "      <th>lag_2</th>\n",
       "      <th>lag_3</th>\n",
       "      <th>lag_4</th>\n",
       "      <th>lag_5</th>\n",
       "      <th>lag_6</th>\n",
       "      <th>lag_7</th>\n",
       "      <th>...</th>\n",
       "      <th>lag_16</th>\n",
       "      <th>lag_17</th>\n",
       "      <th>lag_18</th>\n",
       "      <th>lag_19</th>\n",
       "      <th>lag_20</th>\n",
       "      <th>lag_21</th>\n",
       "      <th>lag_22</th>\n",
       "      <th>lag_23</th>\n",
       "      <th>lag_24</th>\n",
       "      <th>rolling_mean</th>\n",
       "    </tr>\n",
       "    <tr>\n",
       "      <th>datetime</th>\n",
       "      <th></th>\n",
       "      <th></th>\n",
       "      <th></th>\n",
       "      <th></th>\n",
       "      <th></th>\n",
       "      <th></th>\n",
       "      <th></th>\n",
       "      <th></th>\n",
       "      <th></th>\n",
       "      <th></th>\n",
       "      <th></th>\n",
       "      <th></th>\n",
       "      <th></th>\n",
       "      <th></th>\n",
       "      <th></th>\n",
       "      <th></th>\n",
       "      <th></th>\n",
       "      <th></th>\n",
       "      <th></th>\n",
       "      <th></th>\n",
       "      <th></th>\n",
       "    </tr>\n",
       "  </thead>\n",
       "  <tbody>\n",
       "    <tr>\n",
       "      <th>2018-03-02 00:00:00</th>\n",
       "      <td>90</td>\n",
       "      <td>4</td>\n",
       "      <td>0</td>\n",
       "      <td>58.0</td>\n",
       "      <td>113.0</td>\n",
       "      <td>66.0</td>\n",
       "      <td>61.0</td>\n",
       "      <td>45.0</td>\n",
       "      <td>73.0</td>\n",
       "      <td>44.0</td>\n",
       "      <td>...</td>\n",
       "      <td>34.0</td>\n",
       "      <td>15.0</td>\n",
       "      <td>12.0</td>\n",
       "      <td>6.0</td>\n",
       "      <td>43.0</td>\n",
       "      <td>66.0</td>\n",
       "      <td>71.0</td>\n",
       "      <td>85.0</td>\n",
       "      <td>124.0</td>\n",
       "      <td>74.50</td>\n",
       "    </tr>\n",
       "    <tr>\n",
       "      <th>2018-03-02 01:00:00</th>\n",
       "      <td>120</td>\n",
       "      <td>4</td>\n",
       "      <td>1</td>\n",
       "      <td>90.0</td>\n",
       "      <td>58.0</td>\n",
       "      <td>113.0</td>\n",
       "      <td>66.0</td>\n",
       "      <td>61.0</td>\n",
       "      <td>45.0</td>\n",
       "      <td>73.0</td>\n",
       "      <td>...</td>\n",
       "      <td>69.0</td>\n",
       "      <td>34.0</td>\n",
       "      <td>15.0</td>\n",
       "      <td>12.0</td>\n",
       "      <td>6.0</td>\n",
       "      <td>43.0</td>\n",
       "      <td>66.0</td>\n",
       "      <td>71.0</td>\n",
       "      <td>85.0</td>\n",
       "      <td>81.75</td>\n",
       "    </tr>\n",
       "    <tr>\n",
       "      <th>2018-03-02 02:00:00</th>\n",
       "      <td>75</td>\n",
       "      <td>4</td>\n",
       "      <td>2</td>\n",
       "      <td>120.0</td>\n",
       "      <td>90.0</td>\n",
       "      <td>58.0</td>\n",
       "      <td>113.0</td>\n",
       "      <td>66.0</td>\n",
       "      <td>61.0</td>\n",
       "      <td>45.0</td>\n",
       "      <td>...</td>\n",
       "      <td>64.0</td>\n",
       "      <td>69.0</td>\n",
       "      <td>34.0</td>\n",
       "      <td>15.0</td>\n",
       "      <td>12.0</td>\n",
       "      <td>6.0</td>\n",
       "      <td>43.0</td>\n",
       "      <td>66.0</td>\n",
       "      <td>71.0</td>\n",
       "      <td>95.25</td>\n",
       "    </tr>\n",
       "    <tr>\n",
       "      <th>2018-03-02 03:00:00</th>\n",
       "      <td>64</td>\n",
       "      <td>4</td>\n",
       "      <td>3</td>\n",
       "      <td>75.0</td>\n",
       "      <td>120.0</td>\n",
       "      <td>90.0</td>\n",
       "      <td>58.0</td>\n",
       "      <td>113.0</td>\n",
       "      <td>66.0</td>\n",
       "      <td>61.0</td>\n",
       "      <td>...</td>\n",
       "      <td>96.0</td>\n",
       "      <td>64.0</td>\n",
       "      <td>69.0</td>\n",
       "      <td>34.0</td>\n",
       "      <td>15.0</td>\n",
       "      <td>12.0</td>\n",
       "      <td>6.0</td>\n",
       "      <td>43.0</td>\n",
       "      <td>66.0</td>\n",
       "      <td>85.75</td>\n",
       "    </tr>\n",
       "    <tr>\n",
       "      <th>2018-03-02 04:00:00</th>\n",
       "      <td>20</td>\n",
       "      <td>4</td>\n",
       "      <td>4</td>\n",
       "      <td>64.0</td>\n",
       "      <td>75.0</td>\n",
       "      <td>120.0</td>\n",
       "      <td>90.0</td>\n",
       "      <td>58.0</td>\n",
       "      <td>113.0</td>\n",
       "      <td>66.0</td>\n",
       "      <td>...</td>\n",
       "      <td>30.0</td>\n",
       "      <td>96.0</td>\n",
       "      <td>64.0</td>\n",
       "      <td>69.0</td>\n",
       "      <td>34.0</td>\n",
       "      <td>15.0</td>\n",
       "      <td>12.0</td>\n",
       "      <td>6.0</td>\n",
       "      <td>43.0</td>\n",
       "      <td>87.25</td>\n",
       "    </tr>\n",
       "  </tbody>\n",
       "</table>\n",
       "<p>5 rows × 28 columns</p>\n",
       "</div>"
      ],
      "text/plain": [
       "                     num_orders  dayofweek  hour  lag_1  lag_2  lag_3  lag_4  \\\n",
       "datetime                                                                       \n",
       "2018-03-02 00:00:00          90          4     0   58.0  113.0   66.0   61.0   \n",
       "2018-03-02 01:00:00         120          4     1   90.0   58.0  113.0   66.0   \n",
       "2018-03-02 02:00:00          75          4     2  120.0   90.0   58.0  113.0   \n",
       "2018-03-02 03:00:00          64          4     3   75.0  120.0   90.0   58.0   \n",
       "2018-03-02 04:00:00          20          4     4   64.0   75.0  120.0   90.0   \n",
       "\n",
       "                     lag_5  lag_6  lag_7  ...  lag_16  lag_17  lag_18  lag_19  \\\n",
       "datetime                                  ...                                   \n",
       "2018-03-02 00:00:00   45.0   73.0   44.0  ...    34.0    15.0    12.0     6.0   \n",
       "2018-03-02 01:00:00   61.0   45.0   73.0  ...    69.0    34.0    15.0    12.0   \n",
       "2018-03-02 02:00:00   66.0   61.0   45.0  ...    64.0    69.0    34.0    15.0   \n",
       "2018-03-02 03:00:00  113.0   66.0   61.0  ...    96.0    64.0    69.0    34.0   \n",
       "2018-03-02 04:00:00   58.0  113.0   66.0  ...    30.0    96.0    64.0    69.0   \n",
       "\n",
       "                     lag_20  lag_21  lag_22  lag_23  lag_24  rolling_mean  \n",
       "datetime                                                                   \n",
       "2018-03-02 00:00:00    43.0    66.0    71.0    85.0   124.0         74.50  \n",
       "2018-03-02 01:00:00     6.0    43.0    66.0    71.0    85.0         81.75  \n",
       "2018-03-02 02:00:00    12.0     6.0    43.0    66.0    71.0         95.25  \n",
       "2018-03-02 03:00:00    15.0    12.0     6.0    43.0    66.0         85.75  \n",
       "2018-03-02 04:00:00    34.0    15.0    12.0     6.0    43.0         87.25  \n",
       "\n",
       "[5 rows x 28 columns]"
      ]
     },
     "execution_count": 30,
     "metadata": {},
     "output_type": "execute_result"
    }
   ],
   "source": [
    "data_test = make_features(data, 'num_orders', 24, 4, calendar = ['dayofweek', 'hour'])\n",
    "data_test.dropna(inplace=True)\n",
    "data_test.head()"
   ]
  },
  {
   "cell_type": "code",
   "execution_count": 31,
   "metadata": {},
   "outputs": [
    {
     "name": "stdout",
     "output_type": "stream",
     "text": [
      "Количество строк в features_train: 0.9 выборки\n",
      "Количество строк в features_valid: 0.1 выборки\n"
     ]
    }
   ],
   "source": [
    "features_t = data_test.drop('num_orders', axis=1)\n",
    "target_t = data_test['num_orders']\n",
    "\n",
    "features_train_t, features_test_t, target_train_t, target_test_t = train_test_split(\n",
    "    features_t, target_t, test_size=0.1, shuffle=False)\n",
    "\n",
    "\n",
    "print(f\"Количество строк в features_train: {features_train_t.shape[0]/data_test.shape[0]:1.2} выборки\")\n",
    "print(f\"Количество строк в features_valid: {features_test_t.shape[0]/data_test.shape[0]:1.2} выборки\")"
   ]
  },
  {
   "cell_type": "code",
   "execution_count": 32,
   "metadata": {},
   "outputs": [
    {
     "name": "stdout",
     "output_type": "stream",
     "text": [
      "Best RMSE: 25.4\n",
      "Best params: {'learning_rate': 0.1, 'max_depth': 4, 'n_estimators': 160}\n",
      "Wall time: 10.3 s\n"
     ]
    }
   ],
   "source": [
    "%%time\n",
    "lgbm_param_grid = {\n",
    "    \"n_estimators\": range(100, 201, 15), \n",
    "    \"max_depth\": range(4, 11, 2),\n",
    "    'learning_rate': [0.01, 0.05, 0.1]\n",
    "}\n",
    "\n",
    "lgbm_best_model = fit_model(\n",
    "    estimator=LGBMRegressor(random_state=RANDOM_STATE, n_jobs=-1),\n",
    "    param_grid=lgbm_param_grid,\n",
    "    X_train=features_train_t,\n",
    "    y_train=target_train_t\n",
    ")"
   ]
  },
  {
   "cell_type": "code",
   "execution_count": 33,
   "metadata": {},
   "outputs": [
    {
     "name": "stdout",
     "output_type": "stream",
     "text": [
      "RMSE на тестовой: 40.5\n"
     ]
    }
   ],
   "source": [
    "pred = lgbm_best_model.predict(features_test_t)\n",
    "\n",
    "rmse = mean_squared_error(target_test_t, pred) ** 0.5\n",
    "print(f\"RMSE на тестовой: {rmse:.1f}\")"
   ]
  },
  {
   "cell_type": "markdown",
   "metadata": {},
   "source": [
    "<div class=\"alert alert-block alert-info\">RMSE на тестовой с удалением дня: 25.4/40.5</div>"
   ]
  },
  {
   "cell_type": "markdown",
   "metadata": {},
   "source": [
    "<div class=\"alert alert-block alert-info\"> Без удаления дня: 25.0/41.5 </div>"
   ]
  },
  {
   "cell_type": "markdown",
   "metadata": {},
   "source": [
    "<div class=\"alert alert-block alert-info\"> Без удаления других признаков:</div>"
   ]
  },
  {
   "cell_type": "code",
   "execution_count": 39,
   "metadata": {},
   "outputs": [
    {
     "data": {
      "text/html": [
       "<div>\n",
       "<style scoped>\n",
       "    .dataframe tbody tr th:only-of-type {\n",
       "        vertical-align: middle;\n",
       "    }\n",
       "\n",
       "    .dataframe tbody tr th {\n",
       "        vertical-align: top;\n",
       "    }\n",
       "\n",
       "    .dataframe thead th {\n",
       "        text-align: right;\n",
       "    }\n",
       "</style>\n",
       "<table border=\"1\" class=\"dataframe\">\n",
       "  <thead>\n",
       "    <tr style=\"text-align: right;\">\n",
       "      <th></th>\n",
       "      <th>num_orders</th>\n",
       "      <th>year</th>\n",
       "      <th>month</th>\n",
       "      <th>day</th>\n",
       "      <th>dayofweek</th>\n",
       "      <th>hour</th>\n",
       "      <th>lag_1</th>\n",
       "      <th>lag_2</th>\n",
       "      <th>lag_3</th>\n",
       "      <th>lag_4</th>\n",
       "      <th>...</th>\n",
       "      <th>lag_16</th>\n",
       "      <th>lag_17</th>\n",
       "      <th>lag_18</th>\n",
       "      <th>lag_19</th>\n",
       "      <th>lag_20</th>\n",
       "      <th>lag_21</th>\n",
       "      <th>lag_22</th>\n",
       "      <th>lag_23</th>\n",
       "      <th>lag_24</th>\n",
       "      <th>rolling_mean</th>\n",
       "    </tr>\n",
       "    <tr>\n",
       "      <th>datetime</th>\n",
       "      <th></th>\n",
       "      <th></th>\n",
       "      <th></th>\n",
       "      <th></th>\n",
       "      <th></th>\n",
       "      <th></th>\n",
       "      <th></th>\n",
       "      <th></th>\n",
       "      <th></th>\n",
       "      <th></th>\n",
       "      <th></th>\n",
       "      <th></th>\n",
       "      <th></th>\n",
       "      <th></th>\n",
       "      <th></th>\n",
       "      <th></th>\n",
       "      <th></th>\n",
       "      <th></th>\n",
       "      <th></th>\n",
       "      <th></th>\n",
       "      <th></th>\n",
       "    </tr>\n",
       "  </thead>\n",
       "  <tbody>\n",
       "    <tr>\n",
       "      <th>2018-03-02 00:00:00</th>\n",
       "      <td>90</td>\n",
       "      <td>2018</td>\n",
       "      <td>3</td>\n",
       "      <td>2</td>\n",
       "      <td>4</td>\n",
       "      <td>0</td>\n",
       "      <td>58.0</td>\n",
       "      <td>113.0</td>\n",
       "      <td>66.0</td>\n",
       "      <td>61.0</td>\n",
       "      <td>...</td>\n",
       "      <td>34.0</td>\n",
       "      <td>15.0</td>\n",
       "      <td>12.0</td>\n",
       "      <td>6.0</td>\n",
       "      <td>43.0</td>\n",
       "      <td>66.0</td>\n",
       "      <td>71.0</td>\n",
       "      <td>85.0</td>\n",
       "      <td>124.0</td>\n",
       "      <td>74.50</td>\n",
       "    </tr>\n",
       "    <tr>\n",
       "      <th>2018-03-02 01:00:00</th>\n",
       "      <td>120</td>\n",
       "      <td>2018</td>\n",
       "      <td>3</td>\n",
       "      <td>2</td>\n",
       "      <td>4</td>\n",
       "      <td>1</td>\n",
       "      <td>90.0</td>\n",
       "      <td>58.0</td>\n",
       "      <td>113.0</td>\n",
       "      <td>66.0</td>\n",
       "      <td>...</td>\n",
       "      <td>69.0</td>\n",
       "      <td>34.0</td>\n",
       "      <td>15.0</td>\n",
       "      <td>12.0</td>\n",
       "      <td>6.0</td>\n",
       "      <td>43.0</td>\n",
       "      <td>66.0</td>\n",
       "      <td>71.0</td>\n",
       "      <td>85.0</td>\n",
       "      <td>81.75</td>\n",
       "    </tr>\n",
       "    <tr>\n",
       "      <th>2018-03-02 02:00:00</th>\n",
       "      <td>75</td>\n",
       "      <td>2018</td>\n",
       "      <td>3</td>\n",
       "      <td>2</td>\n",
       "      <td>4</td>\n",
       "      <td>2</td>\n",
       "      <td>120.0</td>\n",
       "      <td>90.0</td>\n",
       "      <td>58.0</td>\n",
       "      <td>113.0</td>\n",
       "      <td>...</td>\n",
       "      <td>64.0</td>\n",
       "      <td>69.0</td>\n",
       "      <td>34.0</td>\n",
       "      <td>15.0</td>\n",
       "      <td>12.0</td>\n",
       "      <td>6.0</td>\n",
       "      <td>43.0</td>\n",
       "      <td>66.0</td>\n",
       "      <td>71.0</td>\n",
       "      <td>95.25</td>\n",
       "    </tr>\n",
       "    <tr>\n",
       "      <th>2018-03-02 03:00:00</th>\n",
       "      <td>64</td>\n",
       "      <td>2018</td>\n",
       "      <td>3</td>\n",
       "      <td>2</td>\n",
       "      <td>4</td>\n",
       "      <td>3</td>\n",
       "      <td>75.0</td>\n",
       "      <td>120.0</td>\n",
       "      <td>90.0</td>\n",
       "      <td>58.0</td>\n",
       "      <td>...</td>\n",
       "      <td>96.0</td>\n",
       "      <td>64.0</td>\n",
       "      <td>69.0</td>\n",
       "      <td>34.0</td>\n",
       "      <td>15.0</td>\n",
       "      <td>12.0</td>\n",
       "      <td>6.0</td>\n",
       "      <td>43.0</td>\n",
       "      <td>66.0</td>\n",
       "      <td>85.75</td>\n",
       "    </tr>\n",
       "    <tr>\n",
       "      <th>2018-03-02 04:00:00</th>\n",
       "      <td>20</td>\n",
       "      <td>2018</td>\n",
       "      <td>3</td>\n",
       "      <td>2</td>\n",
       "      <td>4</td>\n",
       "      <td>4</td>\n",
       "      <td>64.0</td>\n",
       "      <td>75.0</td>\n",
       "      <td>120.0</td>\n",
       "      <td>90.0</td>\n",
       "      <td>...</td>\n",
       "      <td>30.0</td>\n",
       "      <td>96.0</td>\n",
       "      <td>64.0</td>\n",
       "      <td>69.0</td>\n",
       "      <td>34.0</td>\n",
       "      <td>15.0</td>\n",
       "      <td>12.0</td>\n",
       "      <td>6.0</td>\n",
       "      <td>43.0</td>\n",
       "      <td>87.25</td>\n",
       "    </tr>\n",
       "  </tbody>\n",
       "</table>\n",
       "<p>5 rows × 31 columns</p>\n",
       "</div>"
      ],
      "text/plain": [
       "                     num_orders  year  month  day  dayofweek  hour  lag_1  \\\n",
       "datetime                                                                    \n",
       "2018-03-02 00:00:00          90  2018      3    2          4     0   58.0   \n",
       "2018-03-02 01:00:00         120  2018      3    2          4     1   90.0   \n",
       "2018-03-02 02:00:00          75  2018      3    2          4     2  120.0   \n",
       "2018-03-02 03:00:00          64  2018      3    2          4     3   75.0   \n",
       "2018-03-02 04:00:00          20  2018      3    2          4     4   64.0   \n",
       "\n",
       "                     lag_2  lag_3  lag_4  ...  lag_16  lag_17  lag_18  lag_19  \\\n",
       "datetime                                  ...                                   \n",
       "2018-03-02 00:00:00  113.0   66.0   61.0  ...    34.0    15.0    12.0     6.0   \n",
       "2018-03-02 01:00:00   58.0  113.0   66.0  ...    69.0    34.0    15.0    12.0   \n",
       "2018-03-02 02:00:00   90.0   58.0  113.0  ...    64.0    69.0    34.0    15.0   \n",
       "2018-03-02 03:00:00  120.0   90.0   58.0  ...    96.0    64.0    69.0    34.0   \n",
       "2018-03-02 04:00:00   75.0  120.0   90.0  ...    30.0    96.0    64.0    69.0   \n",
       "\n",
       "                     lag_20  lag_21  lag_22  lag_23  lag_24  rolling_mean  \n",
       "datetime                                                                   \n",
       "2018-03-02 00:00:00    43.0    66.0    71.0    85.0   124.0         74.50  \n",
       "2018-03-02 01:00:00     6.0    43.0    66.0    71.0    85.0         81.75  \n",
       "2018-03-02 02:00:00    12.0     6.0    43.0    66.0    71.0         95.25  \n",
       "2018-03-02 03:00:00    15.0    12.0     6.0    43.0    66.0         85.75  \n",
       "2018-03-02 04:00:00    34.0    15.0    12.0     6.0    43.0         87.25  \n",
       "\n",
       "[5 rows x 31 columns]"
      ]
     },
     "execution_count": 39,
     "metadata": {},
     "output_type": "execute_result"
    }
   ],
   "source": [
    "data_test_2 = make_features(data, 'num_orders', 24, 4)\n",
    "data_test_2.dropna(inplace=True)\n",
    "data_test_2.head()"
   ]
  },
  {
   "cell_type": "code",
   "execution_count": 60,
   "metadata": {},
   "outputs": [
    {
     "name": "stdout",
     "output_type": "stream",
     "text": [
      "Количество строк в features_train: 0.6 выборки\n",
      "Количество строк в features_valid: 0.4 выборки\n"
     ]
    }
   ],
   "source": [
    "features_t_2 = data_test_2.drop('num_orders', axis=1)\n",
    "target_t_2 = data_test_2['num_orders']\n",
    "\n",
    "features_train_t_2, features_test_t_2, target_train_t_2, target_test_t_2 = train_test_split(\n",
    "    features_t_2, target_t_2, test_size=0.4, shuffle=False)\n",
    "\n",
    "\n",
    "print(f\"Количество строк в features_train: {features_train_t_2.shape[0]/data_test_2.shape[0]:1.2} выборки\")\n",
    "print(f\"Количество строк в features_valid: {features_test_t_2.shape[0]/data_test_2.shape[0]:1.2} выборки\")"
   ]
  },
  {
   "cell_type": "code",
   "execution_count": 61,
   "metadata": {},
   "outputs": [
    {
     "name": "stdout",
     "output_type": "stream",
     "text": [
      "Best RMSE: 25.4\n",
      "Best params: {'learning_rate': 0.1, 'max_depth': 4, 'n_estimators': 160}\n",
      "Wall time: 4.35 s\n"
     ]
    }
   ],
   "source": [
    "%%time\n",
    "lgbm_param_grid = {\n",
    "    \"n_estimators\": range(100, 201, 15), \n",
    "    \"max_depth\": range(4, 11, 2),\n",
    "    'learning_rate': [0.01, 0.05, 0.1]\n",
    "}\n",
    "\n",
    "lgbm_best_model = fit_model(\n",
    "    estimator=LGBMRegressor(random_state=RANDOM_STATE+1, n_jobs=-1),\n",
    "    param_grid=lgbm_param_grid,\n",
    "    X_train=features_train_t,\n",
    "    y_train=target_train_t\n",
    ")"
   ]
  },
  {
   "cell_type": "code",
   "execution_count": 63,
   "metadata": {},
   "outputs": [
    {
     "ename": "ValueError",
     "evalue": "Number of features of the model must match the input. Model n_features_ is 27 and input n_features is 30 ",
     "output_type": "error",
     "traceback": [
      "\u001b[1;31m---------------------------------------------------------------------------\u001b[0m",
      "\u001b[1;31mValueError\u001b[0m                                Traceback (most recent call last)",
      "\u001b[1;32m~\\AppData\\Local\\Temp\\ipykernel_22536\\2749186714.py\u001b[0m in \u001b[0;36m<module>\u001b[1;34m\u001b[0m\n\u001b[1;32m----> 1\u001b[1;33m \u001b[0mpred\u001b[0m \u001b[1;33m=\u001b[0m \u001b[0mlgbm_best_model\u001b[0m\u001b[1;33m.\u001b[0m\u001b[0mpredict\u001b[0m\u001b[1;33m(\u001b[0m\u001b[0mfeatures_test_t_2\u001b[0m\u001b[1;33m)\u001b[0m\u001b[1;33m\u001b[0m\u001b[1;33m\u001b[0m\u001b[0m\n\u001b[0m\u001b[0;32m      2\u001b[0m \u001b[1;33m\u001b[0m\u001b[0m\n\u001b[0;32m      3\u001b[0m \u001b[0mrmse\u001b[0m \u001b[1;33m=\u001b[0m \u001b[0mmean_squared_error\u001b[0m\u001b[1;33m(\u001b[0m\u001b[0mtarget_test_t_2\u001b[0m\u001b[1;33m,\u001b[0m \u001b[0mpred\u001b[0m\u001b[1;33m)\u001b[0m \u001b[1;33m**\u001b[0m \u001b[1;36m0.5\u001b[0m\u001b[1;33m\u001b[0m\u001b[1;33m\u001b[0m\u001b[0m\n\u001b[0;32m      4\u001b[0m \u001b[0mprint\u001b[0m\u001b[1;33m(\u001b[0m\u001b[1;34mf\"RMSE на тестовой: {rmse:.1f}\"\u001b[0m\u001b[1;33m)\u001b[0m\u001b[1;33m\u001b[0m\u001b[1;33m\u001b[0m\u001b[0m\n",
      "\u001b[1;32m~\\anaconda3\\lib\\site-packages\\lightgbm\\sklearn.py\u001b[0m in \u001b[0;36mpredict\u001b[1;34m(self, X, raw_score, start_iteration, num_iteration, pred_leaf, pred_contrib, **kwargs)\u001b[0m\n\u001b[0;32m    720\u001b[0m         \u001b[0mn_features\u001b[0m \u001b[1;33m=\u001b[0m \u001b[0mX\u001b[0m\u001b[1;33m.\u001b[0m\u001b[0mshape\u001b[0m\u001b[1;33m[\u001b[0m\u001b[1;36m1\u001b[0m\u001b[1;33m]\u001b[0m\u001b[1;33m\u001b[0m\u001b[1;33m\u001b[0m\u001b[0m\n\u001b[0;32m    721\u001b[0m         \u001b[1;32mif\u001b[0m \u001b[0mself\u001b[0m\u001b[1;33m.\u001b[0m\u001b[0m_n_features\u001b[0m \u001b[1;33m!=\u001b[0m \u001b[0mn_features\u001b[0m\u001b[1;33m:\u001b[0m\u001b[1;33m\u001b[0m\u001b[1;33m\u001b[0m\u001b[0m\n\u001b[1;32m--> 722\u001b[1;33m             raise ValueError(\"Number of features of the model must \"\n\u001b[0m\u001b[0;32m    723\u001b[0m                              \u001b[1;34m\"match the input. Model n_features_ is %s and \"\u001b[0m\u001b[1;33m\u001b[0m\u001b[1;33m\u001b[0m\u001b[0m\n\u001b[0;32m    724\u001b[0m                              \u001b[1;34m\"input n_features is %s \"\u001b[0m\u001b[1;33m\u001b[0m\u001b[1;33m\u001b[0m\u001b[0m\n",
      "\u001b[1;31mValueError\u001b[0m: Number of features of the model must match the input. Model n_features_ is 27 and input n_features is 30 "
     ]
    }
   ],
   "source": [
    "pred = lgbm_best_model.predict(features_test_t_2)\n",
    "\n",
    "rmse = mean_squared_error(target_test_t_2, pred) ** 0.5\n",
    "print(f\"RMSE на тестовой: {rmse:.1f}\")"
   ]
  },
  {
   "cell_type": "markdown",
   "metadata": {},
   "source": [
    "<div class=\"alert alert-block alert-info\"> Без удаления дня: 25.4/ошибка </div>"
   ]
  },
  {
   "cell_type": "markdown",
   "metadata": {},
   "source": [
    "<div class=\"alert alert-block alert-info\"> От добавления/удаления параметра дня особо сильно не зависит качество модели. \n",
    "</div>"
   ]
  }
 ],
 "metadata": {
  "ExecuteTimeLog": [
   {
    "duration": 11,
    "start_time": "2023-01-16T08:28:58.471Z"
   },
   {
    "duration": 1651,
    "start_time": "2023-01-16T08:29:00.997Z"
   },
   {
    "duration": 3,
    "start_time": "2023-01-16T08:29:02.650Z"
   },
   {
    "duration": 6,
    "start_time": "2023-01-16T08:37:55.867Z"
   },
   {
    "duration": 194,
    "start_time": "2023-01-16T08:37:57.269Z"
   },
   {
    "duration": 148,
    "start_time": "2023-01-16T08:38:16.068Z"
   },
   {
    "duration": 17,
    "start_time": "2023-01-16T08:38:23.013Z"
   },
   {
    "duration": 62,
    "start_time": "2023-01-16T08:38:50.615Z"
   },
   {
    "duration": 9,
    "start_time": "2023-01-16T08:38:51.226Z"
   },
   {
    "duration": 15,
    "start_time": "2023-01-16T08:39:05.673Z"
   },
   {
    "duration": 3,
    "start_time": "2023-01-16T08:40:16.433Z"
   },
   {
    "duration": 7,
    "start_time": "2023-01-16T08:40:17.101Z"
   },
   {
    "duration": 20,
    "start_time": "2023-01-16T08:40:18.350Z"
   },
   {
    "duration": 5,
    "start_time": "2023-01-16T08:45:32.338Z"
   },
   {
    "duration": 12,
    "start_time": "2023-01-16T08:47:41.497Z"
   },
   {
    "duration": 1359,
    "start_time": "2023-01-16T08:50:26.081Z"
   },
   {
    "duration": 5,
    "start_time": "2023-01-16T08:51:51.084Z"
   },
   {
    "duration": 72,
    "start_time": "2023-01-16T08:52:14.725Z"
   },
   {
    "duration": 45,
    "start_time": "2023-01-16T08:52:26.335Z"
   },
   {
    "duration": 25,
    "start_time": "2023-01-16T09:20:23.191Z"
   },
   {
    "duration": 23,
    "start_time": "2023-01-16T09:21:06.898Z"
   },
   {
    "duration": 5,
    "start_time": "2023-01-16T09:21:15.695Z"
   },
   {
    "duration": 26,
    "start_time": "2023-01-16T09:21:15.702Z"
   },
   {
    "duration": 18,
    "start_time": "2023-01-16T09:21:15.731Z"
   },
   {
    "duration": 84,
    "start_time": "2023-01-16T09:21:15.757Z"
   },
   {
    "duration": 4,
    "start_time": "2023-01-16T09:21:15.843Z"
   },
   {
    "duration": 43,
    "start_time": "2023-01-16T09:21:15.848Z"
   },
   {
    "duration": 26,
    "start_time": "2023-01-16T09:21:15.893Z"
   },
   {
    "duration": 55,
    "start_time": "2023-01-16T09:21:15.921Z"
   },
   {
    "duration": 51,
    "start_time": "2023-01-16T09:21:15.978Z"
   },
   {
    "duration": 33,
    "start_time": "2023-01-16T09:21:18.770Z"
   },
   {
    "duration": 45,
    "start_time": "2023-01-16T09:21:28.824Z"
   },
   {
    "duration": 5,
    "start_time": "2023-01-16T09:22:09.474Z"
   },
   {
    "duration": 4,
    "start_time": "2023-01-16T09:22:15.965Z"
   },
   {
    "duration": 11,
    "start_time": "2023-01-16T09:22:15.972Z"
   },
   {
    "duration": 18,
    "start_time": "2023-01-16T09:22:15.985Z"
   },
   {
    "duration": 95,
    "start_time": "2023-01-16T09:22:16.004Z"
   },
   {
    "duration": 3,
    "start_time": "2023-01-16T09:22:16.102Z"
   },
   {
    "duration": 29,
    "start_time": "2023-01-16T09:22:16.106Z"
   },
   {
    "duration": 51,
    "start_time": "2023-01-16T09:22:16.137Z"
   },
   {
    "duration": 22,
    "start_time": "2023-01-16T09:22:16.191Z"
   },
   {
    "duration": 59,
    "start_time": "2023-01-16T09:22:16.215Z"
   },
   {
    "duration": 10,
    "start_time": "2023-01-16T09:22:18.502Z"
   },
   {
    "duration": 11,
    "start_time": "2023-01-16T09:22:20.866Z"
   },
   {
    "duration": 9,
    "start_time": "2023-01-16T09:22:27.689Z"
   },
   {
    "duration": 237,
    "start_time": "2023-01-16T09:22:35.104Z"
   },
   {
    "duration": 229,
    "start_time": "2023-01-16T09:22:54.927Z"
   },
   {
    "duration": 277,
    "start_time": "2023-01-16T09:25:35.704Z"
   },
   {
    "duration": 203,
    "start_time": "2023-01-16T09:25:37.545Z"
   },
   {
    "duration": 241,
    "start_time": "2023-01-16T09:25:53.362Z"
   },
   {
    "duration": 255,
    "start_time": "2023-01-16T09:27:13.033Z"
   },
   {
    "duration": 33,
    "start_time": "2023-01-16T09:30:54.480Z"
   },
   {
    "duration": 183,
    "start_time": "2023-01-16T09:31:20.393Z"
   },
   {
    "duration": 10,
    "start_time": "2023-01-16T09:33:45.060Z"
   },
   {
    "duration": 169,
    "start_time": "2023-01-16T09:33:45.440Z"
   },
   {
    "duration": 25,
    "start_time": "2023-01-16T09:36:37.704Z"
   },
   {
    "duration": 16,
    "start_time": "2023-01-16T09:37:00.384Z"
   },
   {
    "duration": 37,
    "start_time": "2023-01-16T09:38:29.904Z"
   },
   {
    "duration": 60,
    "start_time": "2023-01-16T09:38:35.584Z"
   },
   {
    "duration": 4,
    "start_time": "2023-01-16T09:38:44.628Z"
   },
   {
    "duration": 9,
    "start_time": "2023-01-16T09:38:44.634Z"
   },
   {
    "duration": 25,
    "start_time": "2023-01-16T09:38:44.645Z"
   },
   {
    "duration": 74,
    "start_time": "2023-01-16T09:38:44.673Z"
   },
   {
    "duration": 5,
    "start_time": "2023-01-16T09:38:44.749Z"
   },
   {
    "duration": 26,
    "start_time": "2023-01-16T09:38:44.755Z"
   },
   {
    "duration": 16,
    "start_time": "2023-01-16T09:38:44.783Z"
   },
   {
    "duration": 8,
    "start_time": "2023-01-16T09:38:44.801Z"
   },
   {
    "duration": 81,
    "start_time": "2023-01-16T09:38:44.812Z"
   },
   {
    "duration": 11,
    "start_time": "2023-01-16T09:38:44.896Z"
   },
   {
    "duration": 272,
    "start_time": "2023-01-16T09:38:44.909Z"
   },
   {
    "duration": 256,
    "start_time": "2023-01-16T09:38:45.182Z"
   },
   {
    "duration": 220,
    "start_time": "2023-01-16T09:38:45.440Z"
   },
   {
    "duration": 12,
    "start_time": "2023-01-16T09:38:45.671Z"
   },
   {
    "duration": 182,
    "start_time": "2023-01-16T09:38:45.685Z"
   },
   {
    "duration": 36,
    "start_time": "2023-01-16T09:38:45.869Z"
   },
   {
    "duration": 3,
    "start_time": "2023-01-16T09:42:47.391Z"
   },
   {
    "duration": 4,
    "start_time": "2023-01-16T09:42:52.112Z"
   },
   {
    "duration": 6,
    "start_time": "2023-01-16T09:44:05.292Z"
   },
   {
    "duration": 13,
    "start_time": "2023-01-16T09:44:30.734Z"
   },
   {
    "duration": 5,
    "start_time": "2023-01-16T09:45:18.614Z"
   },
   {
    "duration": 54,
    "start_time": "2023-01-16T09:45:22.804Z"
   },
   {
    "duration": 98,
    "start_time": "2023-01-16T09:47:15.356Z"
   },
   {
    "duration": 104,
    "start_time": "2023-01-16T09:47:40.584Z"
   },
   {
    "duration": 12,
    "start_time": "2023-01-16T09:47:49.675Z"
   },
   {
    "duration": 826,
    "start_time": "2023-01-16T09:47:50.814Z"
   },
   {
    "duration": 19,
    "start_time": "2023-01-16T09:48:28.252Z"
   },
   {
    "duration": 32,
    "start_time": "2023-01-16T09:48:28.580Z"
   },
   {
    "duration": 7,
    "start_time": "2023-01-16T09:48:41.504Z"
   },
   {
    "duration": 6,
    "start_time": "2023-01-16T09:49:25.092Z"
   },
   {
    "duration": 7,
    "start_time": "2023-01-16T09:49:25.481Z"
   },
   {
    "duration": 209596,
    "start_time": "2023-01-16T09:49:26.484Z"
   },
   {
    "duration": 130,
    "start_time": "2023-01-16T09:52:56.084Z"
   },
   {
    "duration": 4,
    "start_time": "2023-01-16T09:52:56.216Z"
   },
   {
    "duration": 101,
    "start_time": "2023-01-16T09:52:56.223Z"
   },
   {
    "duration": 67,
    "start_time": "2023-01-16T13:43:57.702Z"
   },
   {
    "duration": 46,
    "start_time": "2023-01-16T13:49:15.881Z"
   },
   {
    "duration": 1796,
    "start_time": "2023-01-16T13:49:20.570Z"
   },
   {
    "duration": 3,
    "start_time": "2023-01-16T13:49:22.369Z"
   },
   {
    "duration": 10,
    "start_time": "2023-01-16T13:49:22.374Z"
   },
   {
    "duration": 225,
    "start_time": "2023-01-16T13:49:22.386Z"
   },
   {
    "duration": 3,
    "start_time": "2023-01-16T13:49:22.614Z"
   },
   {
    "duration": 14,
    "start_time": "2023-01-16T13:49:22.618Z"
   },
   {
    "duration": 11,
    "start_time": "2023-01-16T13:49:22.634Z"
   },
   {
    "duration": 9,
    "start_time": "2023-01-16T13:49:22.646Z"
   },
   {
    "duration": 10,
    "start_time": "2023-01-16T13:49:22.657Z"
   },
   {
    "duration": 216,
    "start_time": "2023-01-16T13:49:22.669Z"
   },
   {
    "duration": 210,
    "start_time": "2023-01-16T13:49:22.887Z"
   },
   {
    "duration": 259,
    "start_time": "2023-01-16T13:49:23.099Z"
   },
   {
    "duration": 8,
    "start_time": "2023-01-16T13:49:23.360Z"
   },
   {
    "duration": 172,
    "start_time": "2023-01-16T13:49:23.370Z"
   },
   {
    "duration": 104,
    "start_time": "2023-01-16T13:49:23.544Z"
   },
   {
    "duration": 4,
    "start_time": "2023-01-16T13:49:42.120Z"
   },
   {
    "duration": 23,
    "start_time": "2023-01-16T13:49:42.126Z"
   },
   {
    "duration": 11,
    "start_time": "2023-01-16T13:49:42.151Z"
   },
   {
    "duration": 93,
    "start_time": "2023-01-16T13:49:42.163Z"
   },
   {
    "duration": 3,
    "start_time": "2023-01-16T13:49:42.259Z"
   },
   {
    "duration": 10,
    "start_time": "2023-01-16T13:49:42.263Z"
   },
   {
    "duration": 13,
    "start_time": "2023-01-16T13:49:42.275Z"
   },
   {
    "duration": 6,
    "start_time": "2023-01-16T13:49:42.289Z"
   },
   {
    "duration": 7,
    "start_time": "2023-01-16T13:49:42.297Z"
   },
   {
    "duration": 215,
    "start_time": "2023-01-16T13:49:42.306Z"
   },
   {
    "duration": 208,
    "start_time": "2023-01-16T13:49:42.523Z"
   },
   {
    "duration": 182,
    "start_time": "2023-01-16T13:49:42.733Z"
   },
   {
    "duration": 9,
    "start_time": "2023-01-16T13:49:42.917Z"
   },
   {
    "duration": 174,
    "start_time": "2023-01-16T13:49:42.929Z"
   },
   {
    "duration": 67,
    "start_time": "2023-01-16T13:49:45.169Z"
   },
   {
    "duration": 10,
    "start_time": "2023-01-16T13:51:30.623Z"
   },
   {
    "duration": 25,
    "start_time": "2023-01-16T13:51:46.569Z"
   },
   {
    "duration": 9,
    "start_time": "2023-01-16T13:51:49.761Z"
   },
   {
    "duration": 35,
    "start_time": "2023-01-16T13:51:52.760Z"
   },
   {
    "duration": 8,
    "start_time": "2023-01-16T13:51:54.702Z"
   },
   {
    "duration": 5,
    "start_time": "2023-01-16T13:51:56.049Z"
   },
   {
    "duration": 5,
    "start_time": "2023-01-16T13:51:58.961Z"
   }
  ],
  "kernelspec": {
   "display_name": "Python 3 (ipykernel)",
   "language": "python",
   "name": "python3"
  },
  "language_info": {
   "codemirror_mode": {
    "name": "ipython",
    "version": 3
   },
   "file_extension": ".py",
   "mimetype": "text/x-python",
   "name": "python",
   "nbconvert_exporter": "python",
   "pygments_lexer": "ipython3",
   "version": "3.9.13"
  },
  "toc": {
   "base_numbering": 1,
   "nav_menu": {},
   "number_sections": true,
   "sideBar": true,
   "skip_h1_title": true,
   "title_cell": "Содержание",
   "title_sidebar": "Contents",
   "toc_cell": true,
   "toc_position": {},
   "toc_section_display": true,
   "toc_window_display": true
  }
 },
 "nbformat": 4,
 "nbformat_minor": 2
}
